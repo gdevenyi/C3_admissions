{
 "cells": [
  {
   "cell_type": "code",
   "execution_count": 53,
   "id": "8393fd18-9c9a-4b4e-a022-3cc98de5726f",
   "metadata": {},
   "outputs": [],
   "source": [
    "import warnings\n",
    "warnings.simplefilter(action='ignore', category=FutureWarning)\n",
    "\n",
    "import pandas as pd\n",
    "from neuralprophet import NeuralProphet\n",
    "from meteostat import Point, Daily\n",
    "import optuna\n",
    "import numpy as np"
   ]
  },
  {
   "cell_type": "code",
   "execution_count": 54,
   "id": "d7819992-5e81-42eb-97c9-74ca262ccdf5",
   "metadata": {},
   "outputs": [
    {
     "name": "stdout",
     "output_type": "stream",
     "text": [
      "<class 'pandas.core.frame.DataFrame'>\n",
      "RangeIndex: 3044 entries, 0 to 3043\n",
      "Data columns (total 2 columns):\n",
      " #   Column  Non-Null Count  Dtype         \n",
      "---  ------  --------------  -----         \n",
      " 0   ds      3044 non-null   datetime64[ns]\n",
      " 1   y       3044 non-null   int64         \n",
      "dtypes: datetime64[ns](1), int64(1)\n",
      "memory usage: 47.7 KB\n"
     ]
    }
   ],
   "source": [
    "df = pd.read_csv('don_20240502_NbArrivees_vf.csv', sep=';', parse_dates=['dhreinscription'])\n",
    "df = df.rename(columns={\"dhreinscription\": \"ds\", \"Total\": \"y\"})\n",
    "\n",
    "# Douglas GPS location\n",
    "montreal_weather =  Daily(Point(45.4433147,-73.5836317,17.61), df['ds'].min(), df['ds'].max())\n",
    "montreal_weather = montreal_weather.fetch()\n",
    "montreal_weather = montreal_weather.reset_index()\n",
    "\n",
    "#montreal_weather.head()\n",
    "df = df.merge(montreal_weather, how = 'inner', left_on='ds', right_on='time')\n",
    "\n",
    "df = df[['ds', 'y', 'tavg','prcp']]\n",
    "df = df[['ds', 'y']]\n",
    "\n",
    "df.info()\n",
    "#montreal_weather.head()"
   ]
  },
  {
   "cell_type": "code",
   "execution_count": 73,
   "id": "88a0c0d9-1cc5-48e9-9c78-5079310c260d",
   "metadata": {},
   "outputs": [
    {
     "name": "stderr",
     "output_type": "stream",
     "text": [
      "[I 2024-05-31 11:29:04,304] A new study created in memory with name: no-name-08761fc1-a014-48cd-9585-e471d5819bac\n"
     ]
    },
    {
     "data": {
      "application/vnd.jupyter.widget-view+json": {
       "model_id": "2b5e4f3ab93f4906b30194062551c286",
       "version_major": 2,
       "version_minor": 0
      },
      "text/plain": [
       "  0%|          | 0/1 [00:00<?, ?it/s]"
      ]
     },
     "metadata": {},
     "output_type": "display_data"
    },
    {
     "name": "stderr",
     "output_type": "stream",
     "text": [
      "WARNING - (py.warnings._showwarnmsg) - UserWarning: Choices for a categorical distribution should be a tuple of None, bool, int, float and str for persistent storage but contains [] which is of type list.\n",
      "\n",
      "WARNING - (py.warnings._showwarnmsg) - UserWarning: Choices for a categorical distribution should be a tuple of None, bool, int, float and str for persistent storage but contains [2] which is of type list.\n",
      "\n",
      "WARNING - (py.warnings._showwarnmsg) - UserWarning: Choices for a categorical distribution should be a tuple of None, bool, int, float and str for persistent storage but contains [4] which is of type list.\n",
      "\n",
      "WARNING - (py.warnings._showwarnmsg) - UserWarning: Choices for a categorical distribution should be a tuple of None, bool, int, float and str for persistent storage but contains [6] which is of type list.\n",
      "\n",
      "WARNING - (py.warnings._showwarnmsg) - UserWarning: Choices for a categorical distribution should be a tuple of None, bool, int, float and str for persistent storage but contains [8] which is of type list.\n",
      "\n",
      "WARNING - (py.warnings._showwarnmsg) - UserWarning: Choices for a categorical distribution should be a tuple of None, bool, int, float and str for persistent storage but contains [2, 2] which is of type list.\n",
      "\n",
      "WARNING - (py.warnings._showwarnmsg) - UserWarning: Choices for a categorical distribution should be a tuple of None, bool, int, float and str for persistent storage but contains [4, 4] which is of type list.\n",
      "\n",
      "WARNING - (py.warnings._showwarnmsg) - UserWarning: Choices for a categorical distribution should be a tuple of None, bool, int, float and str for persistent storage but contains [6, 6] which is of type list.\n",
      "\n",
      "WARNING - (py.warnings._showwarnmsg) - UserWarning: Choices for a categorical distribution should be a tuple of None, bool, int, float and str for persistent storage but contains [8, 8] which is of type list.\n",
      "\n",
      "INFO - (NP.config.__post_init__) - Note: Trend changepoint regularization is experimental.\n",
      "INFO - (NP.config.__post_init__) - Note: Fourier-based seasonality regularization is experimental.\n",
      "INFO - (NP.df_utils._infer_frequency) - Major frequency D corresponds to 99.967% of the data.\n",
      "INFO - (NP.df_utils._infer_frequency) - Defined frequency is equal to major frequency - D\n",
      "INFO - (NP.config.__post_init__) - Note: Trend changepoint regularization is experimental.\n",
      "INFO - (NP.config.__post_init__) - Note: Fourier-based seasonality regularization is experimental.\n",
      "WARNING - (NP.forecaster.fit) - When Global modeling with local normalization, metrics are displayed in normalized scale.\n",
      "INFO - (NP.df_utils._infer_frequency) - Major frequency D corresponds to 99.953% of the data.\n",
      "INFO - (NP.df_utils._infer_frequency) - Defined frequency is equal to major frequency - D\n",
      "INFO - (NP.config.init_data_params) - Setting normalization to global as only one dataframe provided for training.\n",
      "INFO - (NP.utils.set_auto_seasonalities) - Disabling daily seasonality. Run NeuralProphet with daily_seasonality=True to override this.\n",
      "INFO - (NP.config.set_auto_batch_epoch) - Auto-set batch_size to 32\n",
      "INFO - (NP.utils.configure_trainer) - Using accelerator gpu with -1 device(s).\n"
     ]
    },
    {
     "data": {
      "application/vnd.jupyter.widget-view+json": {
       "model_id": "56a2c56fb94948968bdfb28ead4101ca",
       "version_major": 2,
       "version_minor": 0
      },
      "text/plain": [
       "Training: 0it [00:00, ?it/s]"
      ]
     },
     "metadata": {},
     "output_type": "display_data"
    },
    {
     "name": "stdout",
     "output_type": "stream",
     "text": [
      "[W 2024-05-31 11:29:05,975] Trial 0 failed with parameters: {'n_lags': 6, 'yearly_seasonality': 25, 'weekly_seasonality': 4, 'seasonality_reg': 9.060192500505705, 'trend_reg': 0.9359162549055785, 'ar_reg': 22.01754720134001, 'newer_samples_weight': 8.686994754045159, 'seasonality_mode': 'additive', 'trend_reg_threshold': True, 'ar_layers': [4], 'changepoints_range': 0.8403379151926451, 'n_changepoints': 25} because of the following error: RuntimeError('Subtraction, the `-` operator, with a bool tensor is not supported. If you are trying to invert a mask, use the `~` or `logical_not()` operator instead.').\n",
      "Traceback (most recent call last):\n",
      "  File \"/scratch/devgab/C3_admissions/timeseries/lib/python3.12/site-packages/optuna/study/_optimize.py\", line 196, in _run_trial\n",
      "    value_or_values = func(trial)\n",
      "                      ^^^^^^^^^^^\n",
      "  File \"/tmp/user/1111/ipykernel_3748512/4279147677.py\", line 29, in objective\n",
      "    train = m.fit(df=df_train, freq=\"D\")\n",
      "            ^^^^^^^^^^^^^^^^^^^^^^^^^^^^\n",
      "  File \"/scratch/devgab/C3_admissions/timeseries/lib/python3.12/site-packages/neuralprophet/forecaster.py\", line 1062, in fit\n",
      "    metrics_df = self._train(\n",
      "                 ^^^^^^^^^^^^\n",
      "  File \"/scratch/devgab/C3_admissions/timeseries/lib/python3.12/site-packages/neuralprophet/forecaster.py\", line 2812, in _train\n",
      "    self.trainer.fit(\n",
      "  File \"/scratch/devgab/C3_admissions/timeseries/lib/python3.12/site-packages/pytorch_lightning/trainer/trainer.py\", line 608, in fit\n",
      "    call._call_and_handle_interrupt(\n",
      "  File \"/scratch/devgab/C3_admissions/timeseries/lib/python3.12/site-packages/pytorch_lightning/trainer/call.py\", line 38, in _call_and_handle_interrupt\n",
      "    return trainer_fn(*args, **kwargs)\n",
      "           ^^^^^^^^^^^^^^^^^^^^^^^^^^^\n",
      "  File \"/scratch/devgab/C3_admissions/timeseries/lib/python3.12/site-packages/pytorch_lightning/trainer/trainer.py\", line 650, in _fit_impl\n",
      "    self._run(model, ckpt_path=self.ckpt_path)\n",
      "  File \"/scratch/devgab/C3_admissions/timeseries/lib/python3.12/site-packages/pytorch_lightning/trainer/trainer.py\", line 1112, in _run\n",
      "    results = self._run_stage()\n",
      "              ^^^^^^^^^^^^^^^^^\n",
      "  File \"/scratch/devgab/C3_admissions/timeseries/lib/python3.12/site-packages/pytorch_lightning/trainer/trainer.py\", line 1191, in _run_stage\n",
      "    self._run_train()\n",
      "  File \"/scratch/devgab/C3_admissions/timeseries/lib/python3.12/site-packages/pytorch_lightning/trainer/trainer.py\", line 1214, in _run_train\n",
      "    self.fit_loop.run()\n",
      "  File \"/scratch/devgab/C3_admissions/timeseries/lib/python3.12/site-packages/pytorch_lightning/loops/loop.py\", line 199, in run\n",
      "    self.advance(*args, **kwargs)\n",
      "  File \"/scratch/devgab/C3_admissions/timeseries/lib/python3.12/site-packages/pytorch_lightning/loops/fit_loop.py\", line 267, in advance\n",
      "    self._outputs = self.epoch_loop.run(self._data_fetcher)\n",
      "                    ^^^^^^^^^^^^^^^^^^^^^^^^^^^^^^^^^^^^^^^\n",
      "  File \"/scratch/devgab/C3_admissions/timeseries/lib/python3.12/site-packages/pytorch_lightning/loops/loop.py\", line 199, in run\n",
      "    self.advance(*args, **kwargs)\n",
      "  File \"/scratch/devgab/C3_admissions/timeseries/lib/python3.12/site-packages/pytorch_lightning/loops/epoch/training_epoch_loop.py\", line 213, in advance\n",
      "    batch_output = self.batch_loop.run(kwargs)\n",
      "                   ^^^^^^^^^^^^^^^^^^^^^^^^^^^\n",
      "  File \"/scratch/devgab/C3_admissions/timeseries/lib/python3.12/site-packages/pytorch_lightning/loops/loop.py\", line 199, in run\n",
      "    self.advance(*args, **kwargs)\n",
      "  File \"/scratch/devgab/C3_admissions/timeseries/lib/python3.12/site-packages/pytorch_lightning/loops/batch/training_batch_loop.py\", line 90, in advance\n",
      "    outputs = self.manual_loop.run(kwargs)\n",
      "              ^^^^^^^^^^^^^^^^^^^^^^^^^^^^\n",
      "  File \"/scratch/devgab/C3_admissions/timeseries/lib/python3.12/site-packages/pytorch_lightning/loops/loop.py\", line 199, in run\n",
      "    self.advance(*args, **kwargs)\n",
      "  File \"/scratch/devgab/C3_admissions/timeseries/lib/python3.12/site-packages/pytorch_lightning/loops/optimization/manual_loop.py\", line 110, in advance\n",
      "    training_step_output = self.trainer._call_strategy_hook(\"training_step\", *kwargs.values())\n",
      "                           ^^^^^^^^^^^^^^^^^^^^^^^^^^^^^^^^^^^^^^^^^^^^^^^^^^^^^^^^^^^^^^^^^^^\n",
      "  File \"/scratch/devgab/C3_admissions/timeseries/lib/python3.12/site-packages/pytorch_lightning/trainer/trainer.py\", line 1494, in _call_strategy_hook\n",
      "    output = fn(*args, **kwargs)\n",
      "             ^^^^^^^^^^^^^^^^^^^\n",
      "  File \"/scratch/devgab/C3_admissions/timeseries/lib/python3.12/site-packages/pytorch_lightning/strategies/strategy.py\", line 378, in training_step\n",
      "    return self.model.training_step(*args, **kwargs)\n",
      "           ^^^^^^^^^^^^^^^^^^^^^^^^^^^^^^^^^^^^^^^^^\n",
      "  File \"/scratch/devgab/C3_admissions/timeseries/lib/python3.12/site-packages/neuralprophet/time_net.py\", line 786, in training_step\n",
      "    loss, reg_loss = self.loss_func(inputs, predicted, targets)\n",
      "                     ^^^^^^^^^^^^^^^^^^^^^^^^^^^^^^^^^^^^^^^^^^\n",
      "  File \"/scratch/devgab/C3_admissions/timeseries/lib/python3.12/site-packages/neuralprophet/time_net.py\", line 769, in loss_func\n",
      "    loss, reg_loss = self._add_batch_regularizations(loss, self.current_epoch, progress_in_epoch)\n",
      "                     ^^^^^^^^^^^^^^^^^^^^^^^^^^^^^^^^^^^^^^^^^^^^^^^^^^^^^^^^^^^^^^^^^^^^^^^^^^^^\n",
      "  File \"/scratch/devgab/C3_admissions/timeseries/lib/python3.12/site-packages/neuralprophet/time_net.py\", line 916, in _add_batch_regularizations\n",
      "    reg_trend = reg_func_trend(\n",
      "                ^^^^^^^^^^^^^^^\n",
      "  File \"/scratch/devgab/C3_admissions/timeseries/lib/python3.12/site-packages/neuralprophet/utils.py\", line 141, in reg_func_trend\n",
      "    abs_weights = torch.clamp(abs_weights - threshold, min=0.0)\n",
      "                              ~~~~~~~~~~~~^~~~~~~~~~~\n",
      "RuntimeError: Subtraction, the `-` operator, with a bool tensor is not supported. If you are trying to invert a mask, use the `~` or `logical_not()` operator instead.\n",
      "[W 2024-05-31 11:29:05,978] Trial 0 failed with value None.\n"
     ]
    },
    {
     "ename": "RuntimeError",
     "evalue": "Subtraction, the `-` operator, with a bool tensor is not supported. If you are trying to invert a mask, use the `~` or `logical_not()` operator instead.",
     "output_type": "error",
     "traceback": [
      "\u001b[0;31m---------------------------------------------------------------------------\u001b[0m",
      "\u001b[0;31mRuntimeError\u001b[0m                              Traceback (most recent call last)",
      "Cell \u001b[0;32mIn[73], line 37\u001b[0m\n\u001b[1;32m     34\u001b[0m     \u001b[38;5;66;03m#return metrics_test.describe().loc[[\"mean\", \"std\", \"min\", \"max\"]]\u001b[39;00m\n\u001b[1;32m     36\u001b[0m study \u001b[38;5;241m=\u001b[39m optuna\u001b[38;5;241m.\u001b[39mcreate_study()\n\u001b[0;32m---> 37\u001b[0m \u001b[43mstudy\u001b[49m\u001b[38;5;241;43m.\u001b[39;49m\u001b[43moptimize\u001b[49m\u001b[43m(\u001b[49m\u001b[43mobjective\u001b[49m\u001b[43m,\u001b[49m\u001b[43m \u001b[49m\u001b[43mn_trials\u001b[49m\u001b[38;5;241;43m=\u001b[39;49m\u001b[38;5;241;43m1\u001b[39;49m\u001b[43m,\u001b[49m\u001b[43m \u001b[49m\u001b[43mn_jobs\u001b[49m\u001b[38;5;241;43m=\u001b[39;49m\u001b[38;5;241;43m1\u001b[39;49m\u001b[43m,\u001b[49m\u001b[43m \u001b[49m\u001b[43mshow_progress_bar\u001b[49m\u001b[38;5;241;43m=\u001b[39;49m\u001b[38;5;28;43;01mTrue\u001b[39;49;00m\u001b[43m)\u001b[49m\n",
      "File \u001b[0;32m/scratch/devgab/C3_admissions/timeseries/lib/python3.12/site-packages/optuna/study/study.py:451\u001b[0m, in \u001b[0;36mStudy.optimize\u001b[0;34m(self, func, n_trials, timeout, n_jobs, catch, callbacks, gc_after_trial, show_progress_bar)\u001b[0m\n\u001b[1;32m    348\u001b[0m \u001b[38;5;28;01mdef\u001b[39;00m \u001b[38;5;21moptimize\u001b[39m(\n\u001b[1;32m    349\u001b[0m     \u001b[38;5;28mself\u001b[39m,\n\u001b[1;32m    350\u001b[0m     func: ObjectiveFuncType,\n\u001b[0;32m   (...)\u001b[0m\n\u001b[1;32m    357\u001b[0m     show_progress_bar: \u001b[38;5;28mbool\u001b[39m \u001b[38;5;241m=\u001b[39m \u001b[38;5;28;01mFalse\u001b[39;00m,\n\u001b[1;32m    358\u001b[0m ) \u001b[38;5;241m-\u001b[39m\u001b[38;5;241m>\u001b[39m \u001b[38;5;28;01mNone\u001b[39;00m:\n\u001b[1;32m    359\u001b[0m \u001b[38;5;250m    \u001b[39m\u001b[38;5;124;03m\"\"\"Optimize an objective function.\u001b[39;00m\n\u001b[1;32m    360\u001b[0m \n\u001b[1;32m    361\u001b[0m \u001b[38;5;124;03m    Optimization is done by choosing a suitable set of hyperparameter values from a given\u001b[39;00m\n\u001b[0;32m   (...)\u001b[0m\n\u001b[1;32m    449\u001b[0m \u001b[38;5;124;03m            If nested invocation of this method occurs.\u001b[39;00m\n\u001b[1;32m    450\u001b[0m \u001b[38;5;124;03m    \"\"\"\u001b[39;00m\n\u001b[0;32m--> 451\u001b[0m     \u001b[43m_optimize\u001b[49m\u001b[43m(\u001b[49m\n\u001b[1;32m    452\u001b[0m \u001b[43m        \u001b[49m\u001b[43mstudy\u001b[49m\u001b[38;5;241;43m=\u001b[39;49m\u001b[38;5;28;43mself\u001b[39;49m\u001b[43m,\u001b[49m\n\u001b[1;32m    453\u001b[0m \u001b[43m        \u001b[49m\u001b[43mfunc\u001b[49m\u001b[38;5;241;43m=\u001b[39;49m\u001b[43mfunc\u001b[49m\u001b[43m,\u001b[49m\n\u001b[1;32m    454\u001b[0m \u001b[43m        \u001b[49m\u001b[43mn_trials\u001b[49m\u001b[38;5;241;43m=\u001b[39;49m\u001b[43mn_trials\u001b[49m\u001b[43m,\u001b[49m\n\u001b[1;32m    455\u001b[0m \u001b[43m        \u001b[49m\u001b[43mtimeout\u001b[49m\u001b[38;5;241;43m=\u001b[39;49m\u001b[43mtimeout\u001b[49m\u001b[43m,\u001b[49m\n\u001b[1;32m    456\u001b[0m \u001b[43m        \u001b[49m\u001b[43mn_jobs\u001b[49m\u001b[38;5;241;43m=\u001b[39;49m\u001b[43mn_jobs\u001b[49m\u001b[43m,\u001b[49m\n\u001b[1;32m    457\u001b[0m \u001b[43m        \u001b[49m\u001b[43mcatch\u001b[49m\u001b[38;5;241;43m=\u001b[39;49m\u001b[38;5;28;43mtuple\u001b[39;49m\u001b[43m(\u001b[49m\u001b[43mcatch\u001b[49m\u001b[43m)\u001b[49m\u001b[43m \u001b[49m\u001b[38;5;28;43;01mif\u001b[39;49;00m\u001b[43m \u001b[49m\u001b[38;5;28;43misinstance\u001b[39;49m\u001b[43m(\u001b[49m\u001b[43mcatch\u001b[49m\u001b[43m,\u001b[49m\u001b[43m \u001b[49m\u001b[43mIterable\u001b[49m\u001b[43m)\u001b[49m\u001b[43m \u001b[49m\u001b[38;5;28;43;01melse\u001b[39;49;00m\u001b[43m \u001b[49m\u001b[43m(\u001b[49m\u001b[43mcatch\u001b[49m\u001b[43m,\u001b[49m\u001b[43m)\u001b[49m\u001b[43m,\u001b[49m\n\u001b[1;32m    458\u001b[0m \u001b[43m        \u001b[49m\u001b[43mcallbacks\u001b[49m\u001b[38;5;241;43m=\u001b[39;49m\u001b[43mcallbacks\u001b[49m\u001b[43m,\u001b[49m\n\u001b[1;32m    459\u001b[0m \u001b[43m        \u001b[49m\u001b[43mgc_after_trial\u001b[49m\u001b[38;5;241;43m=\u001b[39;49m\u001b[43mgc_after_trial\u001b[49m\u001b[43m,\u001b[49m\n\u001b[1;32m    460\u001b[0m \u001b[43m        \u001b[49m\u001b[43mshow_progress_bar\u001b[49m\u001b[38;5;241;43m=\u001b[39;49m\u001b[43mshow_progress_bar\u001b[49m\u001b[43m,\u001b[49m\n\u001b[1;32m    461\u001b[0m \u001b[43m    \u001b[49m\u001b[43m)\u001b[49m\n",
      "File \u001b[0;32m/scratch/devgab/C3_admissions/timeseries/lib/python3.12/site-packages/optuna/study/_optimize.py:62\u001b[0m, in \u001b[0;36m_optimize\u001b[0;34m(study, func, n_trials, timeout, n_jobs, catch, callbacks, gc_after_trial, show_progress_bar)\u001b[0m\n\u001b[1;32m     60\u001b[0m \u001b[38;5;28;01mtry\u001b[39;00m:\n\u001b[1;32m     61\u001b[0m     \u001b[38;5;28;01mif\u001b[39;00m n_jobs \u001b[38;5;241m==\u001b[39m \u001b[38;5;241m1\u001b[39m:\n\u001b[0;32m---> 62\u001b[0m         \u001b[43m_optimize_sequential\u001b[49m\u001b[43m(\u001b[49m\n\u001b[1;32m     63\u001b[0m \u001b[43m            \u001b[49m\u001b[43mstudy\u001b[49m\u001b[43m,\u001b[49m\n\u001b[1;32m     64\u001b[0m \u001b[43m            \u001b[49m\u001b[43mfunc\u001b[49m\u001b[43m,\u001b[49m\n\u001b[1;32m     65\u001b[0m \u001b[43m            \u001b[49m\u001b[43mn_trials\u001b[49m\u001b[43m,\u001b[49m\n\u001b[1;32m     66\u001b[0m \u001b[43m            \u001b[49m\u001b[43mtimeout\u001b[49m\u001b[43m,\u001b[49m\n\u001b[1;32m     67\u001b[0m \u001b[43m            \u001b[49m\u001b[43mcatch\u001b[49m\u001b[43m,\u001b[49m\n\u001b[1;32m     68\u001b[0m \u001b[43m            \u001b[49m\u001b[43mcallbacks\u001b[49m\u001b[43m,\u001b[49m\n\u001b[1;32m     69\u001b[0m \u001b[43m            \u001b[49m\u001b[43mgc_after_trial\u001b[49m\u001b[43m,\u001b[49m\n\u001b[1;32m     70\u001b[0m \u001b[43m            \u001b[49m\u001b[43mreseed_sampler_rng\u001b[49m\u001b[38;5;241;43m=\u001b[39;49m\u001b[38;5;28;43;01mFalse\u001b[39;49;00m\u001b[43m,\u001b[49m\n\u001b[1;32m     71\u001b[0m \u001b[43m            \u001b[49m\u001b[43mtime_start\u001b[49m\u001b[38;5;241;43m=\u001b[39;49m\u001b[38;5;28;43;01mNone\u001b[39;49;00m\u001b[43m,\u001b[49m\n\u001b[1;32m     72\u001b[0m \u001b[43m            \u001b[49m\u001b[43mprogress_bar\u001b[49m\u001b[38;5;241;43m=\u001b[39;49m\u001b[43mprogress_bar\u001b[49m\u001b[43m,\u001b[49m\n\u001b[1;32m     73\u001b[0m \u001b[43m        \u001b[49m\u001b[43m)\u001b[49m\n\u001b[1;32m     74\u001b[0m     \u001b[38;5;28;01melse\u001b[39;00m:\n\u001b[1;32m     75\u001b[0m         \u001b[38;5;28;01mif\u001b[39;00m n_jobs \u001b[38;5;241m==\u001b[39m \u001b[38;5;241m-\u001b[39m\u001b[38;5;241m1\u001b[39m:\n",
      "File \u001b[0;32m/scratch/devgab/C3_admissions/timeseries/lib/python3.12/site-packages/optuna/study/_optimize.py:159\u001b[0m, in \u001b[0;36m_optimize_sequential\u001b[0;34m(study, func, n_trials, timeout, catch, callbacks, gc_after_trial, reseed_sampler_rng, time_start, progress_bar)\u001b[0m\n\u001b[1;32m    156\u001b[0m         \u001b[38;5;28;01mbreak\u001b[39;00m\n\u001b[1;32m    158\u001b[0m \u001b[38;5;28;01mtry\u001b[39;00m:\n\u001b[0;32m--> 159\u001b[0m     frozen_trial \u001b[38;5;241m=\u001b[39m \u001b[43m_run_trial\u001b[49m\u001b[43m(\u001b[49m\u001b[43mstudy\u001b[49m\u001b[43m,\u001b[49m\u001b[43m \u001b[49m\u001b[43mfunc\u001b[49m\u001b[43m,\u001b[49m\u001b[43m \u001b[49m\u001b[43mcatch\u001b[49m\u001b[43m)\u001b[49m\n\u001b[1;32m    160\u001b[0m \u001b[38;5;28;01mfinally\u001b[39;00m:\n\u001b[1;32m    161\u001b[0m     \u001b[38;5;66;03m# The following line mitigates memory problems that can be occurred in some\u001b[39;00m\n\u001b[1;32m    162\u001b[0m     \u001b[38;5;66;03m# environments (e.g., services that use computing containers such as GitHub Actions).\u001b[39;00m\n\u001b[1;32m    163\u001b[0m     \u001b[38;5;66;03m# Please refer to the following PR for further details:\u001b[39;00m\n\u001b[1;32m    164\u001b[0m     \u001b[38;5;66;03m# https://github.com/optuna/optuna/pull/325.\u001b[39;00m\n\u001b[1;32m    165\u001b[0m     \u001b[38;5;28;01mif\u001b[39;00m gc_after_trial:\n",
      "File \u001b[0;32m/scratch/devgab/C3_admissions/timeseries/lib/python3.12/site-packages/optuna/study/_optimize.py:247\u001b[0m, in \u001b[0;36m_run_trial\u001b[0;34m(study, func, catch)\u001b[0m\n\u001b[1;32m    240\u001b[0m         \u001b[38;5;28;01massert\u001b[39;00m \u001b[38;5;28;01mFalse\u001b[39;00m, \u001b[38;5;124m\"\u001b[39m\u001b[38;5;124mShould not reach.\u001b[39m\u001b[38;5;124m\"\u001b[39m\n\u001b[1;32m    242\u001b[0m \u001b[38;5;28;01mif\u001b[39;00m (\n\u001b[1;32m    243\u001b[0m     frozen_trial\u001b[38;5;241m.\u001b[39mstate \u001b[38;5;241m==\u001b[39m TrialState\u001b[38;5;241m.\u001b[39mFAIL\n\u001b[1;32m    244\u001b[0m     \u001b[38;5;129;01mand\u001b[39;00m func_err \u001b[38;5;129;01mis\u001b[39;00m \u001b[38;5;129;01mnot\u001b[39;00m \u001b[38;5;28;01mNone\u001b[39;00m\n\u001b[1;32m    245\u001b[0m     \u001b[38;5;129;01mand\u001b[39;00m \u001b[38;5;129;01mnot\u001b[39;00m \u001b[38;5;28misinstance\u001b[39m(func_err, catch)\n\u001b[1;32m    246\u001b[0m ):\n\u001b[0;32m--> 247\u001b[0m     \u001b[38;5;28;01mraise\u001b[39;00m func_err\n\u001b[1;32m    248\u001b[0m \u001b[38;5;28;01mreturn\u001b[39;00m frozen_trial\n",
      "File \u001b[0;32m/scratch/devgab/C3_admissions/timeseries/lib/python3.12/site-packages/optuna/study/_optimize.py:196\u001b[0m, in \u001b[0;36m_run_trial\u001b[0;34m(study, func, catch)\u001b[0m\n\u001b[1;32m    194\u001b[0m \u001b[38;5;28;01mwith\u001b[39;00m get_heartbeat_thread(trial\u001b[38;5;241m.\u001b[39m_trial_id, study\u001b[38;5;241m.\u001b[39m_storage):\n\u001b[1;32m    195\u001b[0m     \u001b[38;5;28;01mtry\u001b[39;00m:\n\u001b[0;32m--> 196\u001b[0m         value_or_values \u001b[38;5;241m=\u001b[39m \u001b[43mfunc\u001b[49m\u001b[43m(\u001b[49m\u001b[43mtrial\u001b[49m\u001b[43m)\u001b[49m\n\u001b[1;32m    197\u001b[0m     \u001b[38;5;28;01mexcept\u001b[39;00m exceptions\u001b[38;5;241m.\u001b[39mTrialPruned \u001b[38;5;28;01mas\u001b[39;00m e:\n\u001b[1;32m    198\u001b[0m         \u001b[38;5;66;03m# TODO(mamu): Handle multi-objective cases.\u001b[39;00m\n\u001b[1;32m    199\u001b[0m         state \u001b[38;5;241m=\u001b[39m TrialState\u001b[38;5;241m.\u001b[39mPRUNED\n",
      "Cell \u001b[0;32mIn[73], line 29\u001b[0m, in \u001b[0;36mobjective\u001b[0;34m(trial)\u001b[0m\n\u001b[1;32m     27\u001b[0m m \u001b[38;5;241m=\u001b[39m NeuralProphet(\u001b[38;5;241m*\u001b[39m\u001b[38;5;241m*\u001b[39mparams)\n\u001b[1;32m     28\u001b[0m \u001b[38;5;66;03m#m.set_plotting_backend(\"plotly-static\")\u001b[39;00m\n\u001b[0;32m---> 29\u001b[0m train \u001b[38;5;241m=\u001b[39m \u001b[43mm\u001b[49m\u001b[38;5;241;43m.\u001b[39;49m\u001b[43mfit\u001b[49m\u001b[43m(\u001b[49m\u001b[43mdf\u001b[49m\u001b[38;5;241;43m=\u001b[39;49m\u001b[43mdf_train\u001b[49m\u001b[43m,\u001b[49m\u001b[43m \u001b[49m\u001b[43mfreq\u001b[49m\u001b[38;5;241;43m=\u001b[39;49m\u001b[38;5;124;43m\"\u001b[39;49m\u001b[38;5;124;43mD\u001b[39;49m\u001b[38;5;124;43m\"\u001b[39;49m\u001b[43m)\u001b[49m\n\u001b[1;32m     30\u001b[0m test \u001b[38;5;241m=\u001b[39m m\u001b[38;5;241m.\u001b[39mtest(df\u001b[38;5;241m=\u001b[39mdf_test, verbose\u001b[38;5;241m=\u001b[39m\u001b[38;5;28;01mFalse\u001b[39;00m)\n\u001b[1;32m     31\u001b[0m metrics_test\u001b[38;5;241m.\u001b[39mappend(test[\u001b[38;5;124m'\u001b[39m\u001b[38;5;124mRMSE_val\u001b[39m\u001b[38;5;124m'\u001b[39m]\u001b[38;5;241m.\u001b[39mvalues[\u001b[38;5;241m0\u001b[39m])\n",
      "File \u001b[0;32m/scratch/devgab/C3_admissions/timeseries/lib/python3.12/site-packages/neuralprophet/forecaster.py:1062\u001b[0m, in \u001b[0;36mNeuralProphet.fit\u001b[0;34m(self, df, freq, validation_df, epochs, batch_size, learning_rate, early_stopping, minimal, metrics, progress, checkpointing, continue_training, num_workers)\u001b[0m\n\u001b[1;32m   1060\u001b[0m \u001b[38;5;66;03m# Training\u001b[39;00m\n\u001b[1;32m   1061\u001b[0m \u001b[38;5;28;01mif\u001b[39;00m validation_df \u001b[38;5;129;01mis\u001b[39;00m \u001b[38;5;28;01mNone\u001b[39;00m:\n\u001b[0;32m-> 1062\u001b[0m     metrics_df \u001b[38;5;241m=\u001b[39m \u001b[38;5;28;43mself\u001b[39;49m\u001b[38;5;241;43m.\u001b[39;49m\u001b[43m_train\u001b[49m\u001b[43m(\u001b[49m\n\u001b[1;32m   1063\u001b[0m \u001b[43m        \u001b[49m\u001b[43mdf\u001b[49m\u001b[43m,\u001b[49m\n\u001b[1;32m   1064\u001b[0m \u001b[43m        \u001b[49m\u001b[43mprogress_bar_enabled\u001b[49m\u001b[38;5;241;43m=\u001b[39;49m\u001b[38;5;28;43mbool\u001b[39;49m\u001b[43m(\u001b[49m\u001b[43mprogress\u001b[49m\u001b[43m)\u001b[49m\u001b[43m,\u001b[49m\n\u001b[1;32m   1065\u001b[0m \u001b[43m        \u001b[49m\u001b[43mmetrics_enabled\u001b[49m\u001b[38;5;241;43m=\u001b[39;49m\u001b[38;5;28;43mbool\u001b[39;49m\u001b[43m(\u001b[49m\u001b[38;5;28;43mself\u001b[39;49m\u001b[38;5;241;43m.\u001b[39;49m\u001b[43mmetrics\u001b[49m\u001b[43m)\u001b[49m\u001b[43m,\u001b[49m\n\u001b[1;32m   1066\u001b[0m \u001b[43m        \u001b[49m\u001b[43mcheckpointing_enabled\u001b[49m\u001b[38;5;241;43m=\u001b[39;49m\u001b[43mcheckpointing\u001b[49m\u001b[43m,\u001b[49m\n\u001b[1;32m   1067\u001b[0m \u001b[43m        \u001b[49m\u001b[43mcontinue_training\u001b[49m\u001b[38;5;241;43m=\u001b[39;49m\u001b[43mcontinue_training\u001b[49m\u001b[43m,\u001b[49m\n\u001b[1;32m   1068\u001b[0m \u001b[43m        \u001b[49m\u001b[43mnum_workers\u001b[49m\u001b[38;5;241;43m=\u001b[39;49m\u001b[43mnum_workers\u001b[49m\u001b[43m,\u001b[49m\n\u001b[1;32m   1069\u001b[0m \u001b[43m    \u001b[49m\u001b[43m)\u001b[49m\n\u001b[1;32m   1070\u001b[0m \u001b[38;5;28;01melse\u001b[39;00m:\n\u001b[1;32m   1071\u001b[0m     df_val, _, _, _ \u001b[38;5;241m=\u001b[39m df_utils\u001b[38;5;241m.\u001b[39mprep_or_copy_df(validation_df)\n",
      "File \u001b[0;32m/scratch/devgab/C3_admissions/timeseries/lib/python3.12/site-packages/neuralprophet/forecaster.py:2812\u001b[0m, in \u001b[0;36mNeuralProphet._train\u001b[0;34m(self, df, df_val, progress_bar_enabled, metrics_enabled, checkpointing_enabled, continue_training, num_workers)\u001b[0m\n\u001b[1;32m   2810\u001b[0m         \u001b[38;5;28mself\u001b[39m\u001b[38;5;241m.\u001b[39mmodel\u001b[38;5;241m.\u001b[39mlearning_rate \u001b[38;5;241m=\u001b[39m lr_suggestion\n\u001b[1;32m   2811\u001b[0m     start \u001b[38;5;241m=\u001b[39m time\u001b[38;5;241m.\u001b[39mtime()\n\u001b[0;32m-> 2812\u001b[0m     \u001b[38;5;28;43mself\u001b[39;49m\u001b[38;5;241;43m.\u001b[39;49m\u001b[43mtrainer\u001b[49m\u001b[38;5;241;43m.\u001b[39;49m\u001b[43mfit\u001b[49m\u001b[43m(\u001b[49m\n\u001b[1;32m   2813\u001b[0m \u001b[43m        \u001b[49m\u001b[38;5;28;43mself\u001b[39;49m\u001b[38;5;241;43m.\u001b[39;49m\u001b[43mmodel\u001b[49m\u001b[43m,\u001b[49m\n\u001b[1;32m   2814\u001b[0m \u001b[43m        \u001b[49m\u001b[43mtrain_loader\u001b[49m\u001b[43m,\u001b[49m\n\u001b[1;32m   2815\u001b[0m \u001b[43m        \u001b[49m\u001b[43mckpt_path\u001b[49m\u001b[38;5;241;43m=\u001b[39;49m\u001b[38;5;28;43mself\u001b[39;49m\u001b[38;5;241;43m.\u001b[39;49m\u001b[43mmetrics_logger\u001b[49m\u001b[38;5;241;43m.\u001b[39;49m\u001b[43mcheckpoint_path\u001b[49m\u001b[43m \u001b[49m\u001b[38;5;28;43;01mif\u001b[39;49;00m\u001b[43m \u001b[49m\u001b[43mcontinue_training\u001b[49m\u001b[43m \u001b[49m\u001b[38;5;28;43;01melse\u001b[39;49;00m\u001b[43m \u001b[49m\u001b[38;5;28;43;01mNone\u001b[39;49;00m\u001b[43m,\u001b[49m\n\u001b[1;32m   2816\u001b[0m \u001b[43m    \u001b[49m\u001b[43m)\u001b[49m\n\u001b[1;32m   2818\u001b[0m log\u001b[38;5;241m.\u001b[39mdebug(\u001b[38;5;124m\"\u001b[39m\u001b[38;5;124mTrain Time: \u001b[39m\u001b[38;5;132;01m{:8.3f}\u001b[39;00m\u001b[38;5;124m\"\u001b[39m\u001b[38;5;241m.\u001b[39mformat(time\u001b[38;5;241m.\u001b[39mtime() \u001b[38;5;241m-\u001b[39m start))\n\u001b[1;32m   2820\u001b[0m \u001b[38;5;66;03m# Load best model from training\u001b[39;00m\n",
      "File \u001b[0;32m/scratch/devgab/C3_admissions/timeseries/lib/python3.12/site-packages/pytorch_lightning/trainer/trainer.py:608\u001b[0m, in \u001b[0;36mTrainer.fit\u001b[0;34m(self, model, train_dataloaders, val_dataloaders, datamodule, ckpt_path)\u001b[0m\n\u001b[1;32m    606\u001b[0m model \u001b[38;5;241m=\u001b[39m \u001b[38;5;28mself\u001b[39m\u001b[38;5;241m.\u001b[39m_maybe_unwrap_optimized(model)\n\u001b[1;32m    607\u001b[0m \u001b[38;5;28mself\u001b[39m\u001b[38;5;241m.\u001b[39mstrategy\u001b[38;5;241m.\u001b[39m_lightning_module \u001b[38;5;241m=\u001b[39m model\n\u001b[0;32m--> 608\u001b[0m \u001b[43mcall\u001b[49m\u001b[38;5;241;43m.\u001b[39;49m\u001b[43m_call_and_handle_interrupt\u001b[49m\u001b[43m(\u001b[49m\n\u001b[1;32m    609\u001b[0m \u001b[43m    \u001b[49m\u001b[38;5;28;43mself\u001b[39;49m\u001b[43m,\u001b[49m\u001b[43m \u001b[49m\u001b[38;5;28;43mself\u001b[39;49m\u001b[38;5;241;43m.\u001b[39;49m\u001b[43m_fit_impl\u001b[49m\u001b[43m,\u001b[49m\u001b[43m \u001b[49m\u001b[43mmodel\u001b[49m\u001b[43m,\u001b[49m\u001b[43m \u001b[49m\u001b[43mtrain_dataloaders\u001b[49m\u001b[43m,\u001b[49m\u001b[43m \u001b[49m\u001b[43mval_dataloaders\u001b[49m\u001b[43m,\u001b[49m\u001b[43m \u001b[49m\u001b[43mdatamodule\u001b[49m\u001b[43m,\u001b[49m\u001b[43m \u001b[49m\u001b[43mckpt_path\u001b[49m\n\u001b[1;32m    610\u001b[0m \u001b[43m\u001b[49m\u001b[43m)\u001b[49m\n",
      "File \u001b[0;32m/scratch/devgab/C3_admissions/timeseries/lib/python3.12/site-packages/pytorch_lightning/trainer/call.py:38\u001b[0m, in \u001b[0;36m_call_and_handle_interrupt\u001b[0;34m(trainer, trainer_fn, *args, **kwargs)\u001b[0m\n\u001b[1;32m     36\u001b[0m         \u001b[38;5;28;01mreturn\u001b[39;00m trainer\u001b[38;5;241m.\u001b[39mstrategy\u001b[38;5;241m.\u001b[39mlauncher\u001b[38;5;241m.\u001b[39mlaunch(trainer_fn, \u001b[38;5;241m*\u001b[39margs, trainer\u001b[38;5;241m=\u001b[39mtrainer, \u001b[38;5;241m*\u001b[39m\u001b[38;5;241m*\u001b[39mkwargs)\n\u001b[1;32m     37\u001b[0m     \u001b[38;5;28;01melse\u001b[39;00m:\n\u001b[0;32m---> 38\u001b[0m         \u001b[38;5;28;01mreturn\u001b[39;00m \u001b[43mtrainer_fn\u001b[49m\u001b[43m(\u001b[49m\u001b[38;5;241;43m*\u001b[39;49m\u001b[43margs\u001b[49m\u001b[43m,\u001b[49m\u001b[43m \u001b[49m\u001b[38;5;241;43m*\u001b[39;49m\u001b[38;5;241;43m*\u001b[39;49m\u001b[43mkwargs\u001b[49m\u001b[43m)\u001b[49m\n\u001b[1;32m     40\u001b[0m \u001b[38;5;28;01mexcept\u001b[39;00m _TunerExitException:\n\u001b[1;32m     41\u001b[0m     trainer\u001b[38;5;241m.\u001b[39m_call_teardown_hook()\n",
      "File \u001b[0;32m/scratch/devgab/C3_admissions/timeseries/lib/python3.12/site-packages/pytorch_lightning/trainer/trainer.py:650\u001b[0m, in \u001b[0;36mTrainer._fit_impl\u001b[0;34m(self, model, train_dataloaders, val_dataloaders, datamodule, ckpt_path)\u001b[0m\n\u001b[1;32m    643\u001b[0m ckpt_path \u001b[38;5;241m=\u001b[39m ckpt_path \u001b[38;5;129;01mor\u001b[39;00m \u001b[38;5;28mself\u001b[39m\u001b[38;5;241m.\u001b[39mresume_from_checkpoint\n\u001b[1;32m    644\u001b[0m \u001b[38;5;28mself\u001b[39m\u001b[38;5;241m.\u001b[39m_ckpt_path \u001b[38;5;241m=\u001b[39m \u001b[38;5;28mself\u001b[39m\u001b[38;5;241m.\u001b[39m_checkpoint_connector\u001b[38;5;241m.\u001b[39m_set_ckpt_path(\n\u001b[1;32m    645\u001b[0m     \u001b[38;5;28mself\u001b[39m\u001b[38;5;241m.\u001b[39mstate\u001b[38;5;241m.\u001b[39mfn,\n\u001b[1;32m    646\u001b[0m     ckpt_path,  \u001b[38;5;66;03m# type: ignore[arg-type]\u001b[39;00m\n\u001b[1;32m    647\u001b[0m     model_provided\u001b[38;5;241m=\u001b[39m\u001b[38;5;28;01mTrue\u001b[39;00m,\n\u001b[1;32m    648\u001b[0m     model_connected\u001b[38;5;241m=\u001b[39m\u001b[38;5;28mself\u001b[39m\u001b[38;5;241m.\u001b[39mlightning_module \u001b[38;5;129;01mis\u001b[39;00m \u001b[38;5;129;01mnot\u001b[39;00m \u001b[38;5;28;01mNone\u001b[39;00m,\n\u001b[1;32m    649\u001b[0m )\n\u001b[0;32m--> 650\u001b[0m \u001b[38;5;28;43mself\u001b[39;49m\u001b[38;5;241;43m.\u001b[39;49m\u001b[43m_run\u001b[49m\u001b[43m(\u001b[49m\u001b[43mmodel\u001b[49m\u001b[43m,\u001b[49m\u001b[43m \u001b[49m\u001b[43mckpt_path\u001b[49m\u001b[38;5;241;43m=\u001b[39;49m\u001b[38;5;28;43mself\u001b[39;49m\u001b[38;5;241;43m.\u001b[39;49m\u001b[43mckpt_path\u001b[49m\u001b[43m)\u001b[49m\n\u001b[1;32m    652\u001b[0m \u001b[38;5;28;01massert\u001b[39;00m \u001b[38;5;28mself\u001b[39m\u001b[38;5;241m.\u001b[39mstate\u001b[38;5;241m.\u001b[39mstopped\n\u001b[1;32m    653\u001b[0m \u001b[38;5;28mself\u001b[39m\u001b[38;5;241m.\u001b[39mtraining \u001b[38;5;241m=\u001b[39m \u001b[38;5;28;01mFalse\u001b[39;00m\n",
      "File \u001b[0;32m/scratch/devgab/C3_admissions/timeseries/lib/python3.12/site-packages/pytorch_lightning/trainer/trainer.py:1112\u001b[0m, in \u001b[0;36mTrainer._run\u001b[0;34m(self, model, ckpt_path)\u001b[0m\n\u001b[1;32m   1108\u001b[0m \u001b[38;5;28mself\u001b[39m\u001b[38;5;241m.\u001b[39m_checkpoint_connector\u001b[38;5;241m.\u001b[39mrestore_training_state()\n\u001b[1;32m   1110\u001b[0m \u001b[38;5;28mself\u001b[39m\u001b[38;5;241m.\u001b[39m_checkpoint_connector\u001b[38;5;241m.\u001b[39mresume_end()\n\u001b[0;32m-> 1112\u001b[0m results \u001b[38;5;241m=\u001b[39m \u001b[38;5;28;43mself\u001b[39;49m\u001b[38;5;241;43m.\u001b[39;49m\u001b[43m_run_stage\u001b[49m\u001b[43m(\u001b[49m\u001b[43m)\u001b[49m\n\u001b[1;32m   1114\u001b[0m log\u001b[38;5;241m.\u001b[39mdetail(\u001b[38;5;124mf\u001b[39m\u001b[38;5;124m\"\u001b[39m\u001b[38;5;132;01m{\u001b[39;00m\u001b[38;5;28mself\u001b[39m\u001b[38;5;241m.\u001b[39m\u001b[38;5;18m__class__\u001b[39m\u001b[38;5;241m.\u001b[39m\u001b[38;5;18m__name__\u001b[39m\u001b[38;5;132;01m}\u001b[39;00m\u001b[38;5;124m: trainer tearing down\u001b[39m\u001b[38;5;124m\"\u001b[39m)\n\u001b[1;32m   1115\u001b[0m \u001b[38;5;28mself\u001b[39m\u001b[38;5;241m.\u001b[39m_teardown()\n",
      "File \u001b[0;32m/scratch/devgab/C3_admissions/timeseries/lib/python3.12/site-packages/pytorch_lightning/trainer/trainer.py:1191\u001b[0m, in \u001b[0;36mTrainer._run_stage\u001b[0;34m(self)\u001b[0m\n\u001b[1;32m   1189\u001b[0m \u001b[38;5;28;01mif\u001b[39;00m \u001b[38;5;28mself\u001b[39m\u001b[38;5;241m.\u001b[39mpredicting:\n\u001b[1;32m   1190\u001b[0m     \u001b[38;5;28;01mreturn\u001b[39;00m \u001b[38;5;28mself\u001b[39m\u001b[38;5;241m.\u001b[39m_run_predict()\n\u001b[0;32m-> 1191\u001b[0m \u001b[38;5;28;43mself\u001b[39;49m\u001b[38;5;241;43m.\u001b[39;49m\u001b[43m_run_train\u001b[49m\u001b[43m(\u001b[49m\u001b[43m)\u001b[49m\n",
      "File \u001b[0;32m/scratch/devgab/C3_admissions/timeseries/lib/python3.12/site-packages/pytorch_lightning/trainer/trainer.py:1214\u001b[0m, in \u001b[0;36mTrainer._run_train\u001b[0;34m(self)\u001b[0m\n\u001b[1;32m   1211\u001b[0m \u001b[38;5;28mself\u001b[39m\u001b[38;5;241m.\u001b[39mfit_loop\u001b[38;5;241m.\u001b[39mtrainer \u001b[38;5;241m=\u001b[39m \u001b[38;5;28mself\u001b[39m\n\u001b[1;32m   1213\u001b[0m \u001b[38;5;28;01mwith\u001b[39;00m torch\u001b[38;5;241m.\u001b[39mautograd\u001b[38;5;241m.\u001b[39mset_detect_anomaly(\u001b[38;5;28mself\u001b[39m\u001b[38;5;241m.\u001b[39m_detect_anomaly):\n\u001b[0;32m-> 1214\u001b[0m     \u001b[38;5;28;43mself\u001b[39;49m\u001b[38;5;241;43m.\u001b[39;49m\u001b[43mfit_loop\u001b[49m\u001b[38;5;241;43m.\u001b[39;49m\u001b[43mrun\u001b[49m\u001b[43m(\u001b[49m\u001b[43m)\u001b[49m\n",
      "File \u001b[0;32m/scratch/devgab/C3_admissions/timeseries/lib/python3.12/site-packages/pytorch_lightning/loops/loop.py:199\u001b[0m, in \u001b[0;36mLoop.run\u001b[0;34m(self, *args, **kwargs)\u001b[0m\n\u001b[1;32m    197\u001b[0m \u001b[38;5;28;01mtry\u001b[39;00m:\n\u001b[1;32m    198\u001b[0m     \u001b[38;5;28mself\u001b[39m\u001b[38;5;241m.\u001b[39mon_advance_start(\u001b[38;5;241m*\u001b[39margs, \u001b[38;5;241m*\u001b[39m\u001b[38;5;241m*\u001b[39mkwargs)\n\u001b[0;32m--> 199\u001b[0m     \u001b[38;5;28;43mself\u001b[39;49m\u001b[38;5;241;43m.\u001b[39;49m\u001b[43madvance\u001b[49m\u001b[43m(\u001b[49m\u001b[38;5;241;43m*\u001b[39;49m\u001b[43margs\u001b[49m\u001b[43m,\u001b[49m\u001b[43m \u001b[49m\u001b[38;5;241;43m*\u001b[39;49m\u001b[38;5;241;43m*\u001b[39;49m\u001b[43mkwargs\u001b[49m\u001b[43m)\u001b[49m\n\u001b[1;32m    200\u001b[0m     \u001b[38;5;28mself\u001b[39m\u001b[38;5;241m.\u001b[39mon_advance_end()\n\u001b[1;32m    201\u001b[0m     \u001b[38;5;28mself\u001b[39m\u001b[38;5;241m.\u001b[39m_restarting \u001b[38;5;241m=\u001b[39m \u001b[38;5;28;01mFalse\u001b[39;00m\n",
      "File \u001b[0;32m/scratch/devgab/C3_admissions/timeseries/lib/python3.12/site-packages/pytorch_lightning/loops/fit_loop.py:267\u001b[0m, in \u001b[0;36mFitLoop.advance\u001b[0;34m(self)\u001b[0m\n\u001b[1;32m    265\u001b[0m \u001b[38;5;28mself\u001b[39m\u001b[38;5;241m.\u001b[39m_data_fetcher\u001b[38;5;241m.\u001b[39msetup(dataloader, batch_to_device\u001b[38;5;241m=\u001b[39mbatch_to_device)\n\u001b[1;32m    266\u001b[0m \u001b[38;5;28;01mwith\u001b[39;00m \u001b[38;5;28mself\u001b[39m\u001b[38;5;241m.\u001b[39mtrainer\u001b[38;5;241m.\u001b[39mprofiler\u001b[38;5;241m.\u001b[39mprofile(\u001b[38;5;124m\"\u001b[39m\u001b[38;5;124mrun_training_epoch\u001b[39m\u001b[38;5;124m\"\u001b[39m):\n\u001b[0;32m--> 267\u001b[0m     \u001b[38;5;28mself\u001b[39m\u001b[38;5;241m.\u001b[39m_outputs \u001b[38;5;241m=\u001b[39m \u001b[38;5;28;43mself\u001b[39;49m\u001b[38;5;241;43m.\u001b[39;49m\u001b[43mepoch_loop\u001b[49m\u001b[38;5;241;43m.\u001b[39;49m\u001b[43mrun\u001b[49m\u001b[43m(\u001b[49m\u001b[38;5;28;43mself\u001b[39;49m\u001b[38;5;241;43m.\u001b[39;49m\u001b[43m_data_fetcher\u001b[49m\u001b[43m)\u001b[49m\n",
      "File \u001b[0;32m/scratch/devgab/C3_admissions/timeseries/lib/python3.12/site-packages/pytorch_lightning/loops/loop.py:199\u001b[0m, in \u001b[0;36mLoop.run\u001b[0;34m(self, *args, **kwargs)\u001b[0m\n\u001b[1;32m    197\u001b[0m \u001b[38;5;28;01mtry\u001b[39;00m:\n\u001b[1;32m    198\u001b[0m     \u001b[38;5;28mself\u001b[39m\u001b[38;5;241m.\u001b[39mon_advance_start(\u001b[38;5;241m*\u001b[39margs, \u001b[38;5;241m*\u001b[39m\u001b[38;5;241m*\u001b[39mkwargs)\n\u001b[0;32m--> 199\u001b[0m     \u001b[38;5;28;43mself\u001b[39;49m\u001b[38;5;241;43m.\u001b[39;49m\u001b[43madvance\u001b[49m\u001b[43m(\u001b[49m\u001b[38;5;241;43m*\u001b[39;49m\u001b[43margs\u001b[49m\u001b[43m,\u001b[49m\u001b[43m \u001b[49m\u001b[38;5;241;43m*\u001b[39;49m\u001b[38;5;241;43m*\u001b[39;49m\u001b[43mkwargs\u001b[49m\u001b[43m)\u001b[49m\n\u001b[1;32m    200\u001b[0m     \u001b[38;5;28mself\u001b[39m\u001b[38;5;241m.\u001b[39mon_advance_end()\n\u001b[1;32m    201\u001b[0m     \u001b[38;5;28mself\u001b[39m\u001b[38;5;241m.\u001b[39m_restarting \u001b[38;5;241m=\u001b[39m \u001b[38;5;28;01mFalse\u001b[39;00m\n",
      "File \u001b[0;32m/scratch/devgab/C3_admissions/timeseries/lib/python3.12/site-packages/pytorch_lightning/loops/epoch/training_epoch_loop.py:213\u001b[0m, in \u001b[0;36mTrainingEpochLoop.advance\u001b[0;34m(self, data_fetcher)\u001b[0m\n\u001b[1;32m    210\u001b[0m     \u001b[38;5;28mself\u001b[39m\u001b[38;5;241m.\u001b[39mbatch_progress\u001b[38;5;241m.\u001b[39mincrement_started()\n\u001b[1;32m    212\u001b[0m     \u001b[38;5;28;01mwith\u001b[39;00m \u001b[38;5;28mself\u001b[39m\u001b[38;5;241m.\u001b[39mtrainer\u001b[38;5;241m.\u001b[39mprofiler\u001b[38;5;241m.\u001b[39mprofile(\u001b[38;5;124m\"\u001b[39m\u001b[38;5;124mrun_training_batch\u001b[39m\u001b[38;5;124m\"\u001b[39m):\n\u001b[0;32m--> 213\u001b[0m         batch_output \u001b[38;5;241m=\u001b[39m \u001b[38;5;28;43mself\u001b[39;49m\u001b[38;5;241;43m.\u001b[39;49m\u001b[43mbatch_loop\u001b[49m\u001b[38;5;241;43m.\u001b[39;49m\u001b[43mrun\u001b[49m\u001b[43m(\u001b[49m\u001b[43mkwargs\u001b[49m\u001b[43m)\u001b[49m\n\u001b[1;32m    215\u001b[0m \u001b[38;5;28mself\u001b[39m\u001b[38;5;241m.\u001b[39mbatch_progress\u001b[38;5;241m.\u001b[39mincrement_processed()\n\u001b[1;32m    217\u001b[0m \u001b[38;5;66;03m# update non-plateau LR schedulers\u001b[39;00m\n\u001b[1;32m    218\u001b[0m \u001b[38;5;66;03m# update epoch-interval ones only when we are at the end of training epoch\u001b[39;00m\n",
      "File \u001b[0;32m/scratch/devgab/C3_admissions/timeseries/lib/python3.12/site-packages/pytorch_lightning/loops/loop.py:199\u001b[0m, in \u001b[0;36mLoop.run\u001b[0;34m(self, *args, **kwargs)\u001b[0m\n\u001b[1;32m    197\u001b[0m \u001b[38;5;28;01mtry\u001b[39;00m:\n\u001b[1;32m    198\u001b[0m     \u001b[38;5;28mself\u001b[39m\u001b[38;5;241m.\u001b[39mon_advance_start(\u001b[38;5;241m*\u001b[39margs, \u001b[38;5;241m*\u001b[39m\u001b[38;5;241m*\u001b[39mkwargs)\n\u001b[0;32m--> 199\u001b[0m     \u001b[38;5;28;43mself\u001b[39;49m\u001b[38;5;241;43m.\u001b[39;49m\u001b[43madvance\u001b[49m\u001b[43m(\u001b[49m\u001b[38;5;241;43m*\u001b[39;49m\u001b[43margs\u001b[49m\u001b[43m,\u001b[49m\u001b[43m \u001b[49m\u001b[38;5;241;43m*\u001b[39;49m\u001b[38;5;241;43m*\u001b[39;49m\u001b[43mkwargs\u001b[49m\u001b[43m)\u001b[49m\n\u001b[1;32m    200\u001b[0m     \u001b[38;5;28mself\u001b[39m\u001b[38;5;241m.\u001b[39mon_advance_end()\n\u001b[1;32m    201\u001b[0m     \u001b[38;5;28mself\u001b[39m\u001b[38;5;241m.\u001b[39m_restarting \u001b[38;5;241m=\u001b[39m \u001b[38;5;28;01mFalse\u001b[39;00m\n",
      "File \u001b[0;32m/scratch/devgab/C3_admissions/timeseries/lib/python3.12/site-packages/pytorch_lightning/loops/batch/training_batch_loop.py:90\u001b[0m, in \u001b[0;36mTrainingBatchLoop.advance\u001b[0;34m(self, kwargs)\u001b[0m\n\u001b[1;32m     88\u001b[0m     outputs \u001b[38;5;241m=\u001b[39m \u001b[38;5;28mself\u001b[39m\u001b[38;5;241m.\u001b[39moptimizer_loop\u001b[38;5;241m.\u001b[39mrun(optimizers, kwargs)\n\u001b[1;32m     89\u001b[0m \u001b[38;5;28;01melse\u001b[39;00m:\n\u001b[0;32m---> 90\u001b[0m     outputs \u001b[38;5;241m=\u001b[39m \u001b[38;5;28;43mself\u001b[39;49m\u001b[38;5;241;43m.\u001b[39;49m\u001b[43mmanual_loop\u001b[49m\u001b[38;5;241;43m.\u001b[39;49m\u001b[43mrun\u001b[49m\u001b[43m(\u001b[49m\u001b[43mkwargs\u001b[49m\u001b[43m)\u001b[49m\n\u001b[1;32m     91\u001b[0m \u001b[38;5;28;01mif\u001b[39;00m outputs:\n\u001b[1;32m     92\u001b[0m     \u001b[38;5;66;03m# automatic: can be empty if all optimizers skip their batches\u001b[39;00m\n\u001b[1;32m     93\u001b[0m     \u001b[38;5;66;03m# manual: #9052 added support for raising `StopIteration` in the `training_step`. If that happens,\u001b[39;00m\n\u001b[1;32m     94\u001b[0m     \u001b[38;5;66;03m# then `advance` doesn't finish and an empty dict is returned\u001b[39;00m\n\u001b[1;32m     95\u001b[0m     \u001b[38;5;28mself\u001b[39m\u001b[38;5;241m.\u001b[39m_outputs\u001b[38;5;241m.\u001b[39mappend(outputs)\n",
      "File \u001b[0;32m/scratch/devgab/C3_admissions/timeseries/lib/python3.12/site-packages/pytorch_lightning/loops/loop.py:199\u001b[0m, in \u001b[0;36mLoop.run\u001b[0;34m(self, *args, **kwargs)\u001b[0m\n\u001b[1;32m    197\u001b[0m \u001b[38;5;28;01mtry\u001b[39;00m:\n\u001b[1;32m    198\u001b[0m     \u001b[38;5;28mself\u001b[39m\u001b[38;5;241m.\u001b[39mon_advance_start(\u001b[38;5;241m*\u001b[39margs, \u001b[38;5;241m*\u001b[39m\u001b[38;5;241m*\u001b[39mkwargs)\n\u001b[0;32m--> 199\u001b[0m     \u001b[38;5;28;43mself\u001b[39;49m\u001b[38;5;241;43m.\u001b[39;49m\u001b[43madvance\u001b[49m\u001b[43m(\u001b[49m\u001b[38;5;241;43m*\u001b[39;49m\u001b[43margs\u001b[49m\u001b[43m,\u001b[49m\u001b[43m \u001b[49m\u001b[38;5;241;43m*\u001b[39;49m\u001b[38;5;241;43m*\u001b[39;49m\u001b[43mkwargs\u001b[49m\u001b[43m)\u001b[49m\n\u001b[1;32m    200\u001b[0m     \u001b[38;5;28mself\u001b[39m\u001b[38;5;241m.\u001b[39mon_advance_end()\n\u001b[1;32m    201\u001b[0m     \u001b[38;5;28mself\u001b[39m\u001b[38;5;241m.\u001b[39m_restarting \u001b[38;5;241m=\u001b[39m \u001b[38;5;28;01mFalse\u001b[39;00m\n",
      "File \u001b[0;32m/scratch/devgab/C3_admissions/timeseries/lib/python3.12/site-packages/pytorch_lightning/loops/optimization/manual_loop.py:110\u001b[0m, in \u001b[0;36mManualOptimization.advance\u001b[0;34m(self, kwargs)\u001b[0m\n\u001b[1;32m    107\u001b[0m kwargs \u001b[38;5;241m=\u001b[39m \u001b[38;5;28mself\u001b[39m\u001b[38;5;241m.\u001b[39m_build_kwargs(kwargs, \u001b[38;5;28mself\u001b[39m\u001b[38;5;241m.\u001b[39m_hiddens)\n\u001b[1;32m    109\u001b[0m \u001b[38;5;66;03m# manually capture logged metrics\u001b[39;00m\n\u001b[0;32m--> 110\u001b[0m training_step_output \u001b[38;5;241m=\u001b[39m \u001b[38;5;28;43mself\u001b[39;49m\u001b[38;5;241;43m.\u001b[39;49m\u001b[43mtrainer\u001b[49m\u001b[38;5;241;43m.\u001b[39;49m\u001b[43m_call_strategy_hook\u001b[49m\u001b[43m(\u001b[49m\u001b[38;5;124;43m\"\u001b[39;49m\u001b[38;5;124;43mtraining_step\u001b[39;49m\u001b[38;5;124;43m\"\u001b[39;49m\u001b[43m,\u001b[49m\u001b[43m \u001b[49m\u001b[38;5;241;43m*\u001b[39;49m\u001b[43mkwargs\u001b[49m\u001b[38;5;241;43m.\u001b[39;49m\u001b[43mvalues\u001b[49m\u001b[43m(\u001b[49m\u001b[43m)\u001b[49m\u001b[43m)\u001b[49m\n\u001b[1;32m    111\u001b[0m \u001b[38;5;28;01mdel\u001b[39;00m kwargs  \u001b[38;5;66;03m# release the batch from memory\u001b[39;00m\n\u001b[1;32m    112\u001b[0m \u001b[38;5;28mself\u001b[39m\u001b[38;5;241m.\u001b[39mtrainer\u001b[38;5;241m.\u001b[39mstrategy\u001b[38;5;241m.\u001b[39mpost_training_step()\n",
      "File \u001b[0;32m/scratch/devgab/C3_admissions/timeseries/lib/python3.12/site-packages/pytorch_lightning/trainer/trainer.py:1494\u001b[0m, in \u001b[0;36mTrainer._call_strategy_hook\u001b[0;34m(self, hook_name, *args, **kwargs)\u001b[0m\n\u001b[1;32m   1491\u001b[0m     \u001b[38;5;28;01mreturn\u001b[39;00m\n\u001b[1;32m   1493\u001b[0m \u001b[38;5;28;01mwith\u001b[39;00m \u001b[38;5;28mself\u001b[39m\u001b[38;5;241m.\u001b[39mprofiler\u001b[38;5;241m.\u001b[39mprofile(\u001b[38;5;124mf\u001b[39m\u001b[38;5;124m\"\u001b[39m\u001b[38;5;124m[Strategy]\u001b[39m\u001b[38;5;132;01m{\u001b[39;00m\u001b[38;5;28mself\u001b[39m\u001b[38;5;241m.\u001b[39mstrategy\u001b[38;5;241m.\u001b[39m\u001b[38;5;18m__class__\u001b[39m\u001b[38;5;241m.\u001b[39m\u001b[38;5;18m__name__\u001b[39m\u001b[38;5;132;01m}\u001b[39;00m\u001b[38;5;124m.\u001b[39m\u001b[38;5;132;01m{\u001b[39;00mhook_name\u001b[38;5;132;01m}\u001b[39;00m\u001b[38;5;124m\"\u001b[39m):\n\u001b[0;32m-> 1494\u001b[0m     output \u001b[38;5;241m=\u001b[39m \u001b[43mfn\u001b[49m\u001b[43m(\u001b[49m\u001b[38;5;241;43m*\u001b[39;49m\u001b[43margs\u001b[49m\u001b[43m,\u001b[49m\u001b[43m \u001b[49m\u001b[38;5;241;43m*\u001b[39;49m\u001b[38;5;241;43m*\u001b[39;49m\u001b[43mkwargs\u001b[49m\u001b[43m)\u001b[49m\n\u001b[1;32m   1496\u001b[0m \u001b[38;5;66;03m# restore current_fx when nested context\u001b[39;00m\n\u001b[1;32m   1497\u001b[0m pl_module\u001b[38;5;241m.\u001b[39m_current_fx_name \u001b[38;5;241m=\u001b[39m prev_fx_name\n",
      "File \u001b[0;32m/scratch/devgab/C3_admissions/timeseries/lib/python3.12/site-packages/pytorch_lightning/strategies/strategy.py:378\u001b[0m, in \u001b[0;36mStrategy.training_step\u001b[0;34m(self, *args, **kwargs)\u001b[0m\n\u001b[1;32m    376\u001b[0m \u001b[38;5;28;01mwith\u001b[39;00m \u001b[38;5;28mself\u001b[39m\u001b[38;5;241m.\u001b[39mprecision_plugin\u001b[38;5;241m.\u001b[39mtrain_step_context():\n\u001b[1;32m    377\u001b[0m     \u001b[38;5;28;01massert\u001b[39;00m \u001b[38;5;28misinstance\u001b[39m(\u001b[38;5;28mself\u001b[39m\u001b[38;5;241m.\u001b[39mmodel, TrainingStep)\n\u001b[0;32m--> 378\u001b[0m     \u001b[38;5;28;01mreturn\u001b[39;00m \u001b[38;5;28;43mself\u001b[39;49m\u001b[38;5;241;43m.\u001b[39;49m\u001b[43mmodel\u001b[49m\u001b[38;5;241;43m.\u001b[39;49m\u001b[43mtraining_step\u001b[49m\u001b[43m(\u001b[49m\u001b[38;5;241;43m*\u001b[39;49m\u001b[43margs\u001b[49m\u001b[43m,\u001b[49m\u001b[43m \u001b[49m\u001b[38;5;241;43m*\u001b[39;49m\u001b[38;5;241;43m*\u001b[39;49m\u001b[43mkwargs\u001b[49m\u001b[43m)\u001b[49m\n",
      "File \u001b[0;32m/scratch/devgab/C3_admissions/timeseries/lib/python3.12/site-packages/neuralprophet/time_net.py:786\u001b[0m, in \u001b[0;36mTimeNet.training_step\u001b[0;34m(self, batch, batch_idx)\u001b[0m\n\u001b[1;32m    784\u001b[0m \u001b[38;5;28mself\u001b[39m\u001b[38;5;241m.\u001b[39mtrain_epoch_prediction \u001b[38;5;241m=\u001b[39m predicted\n\u001b[1;32m    785\u001b[0m \u001b[38;5;66;03m# Calculate loss\u001b[39;00m\n\u001b[0;32m--> 786\u001b[0m loss, reg_loss \u001b[38;5;241m=\u001b[39m \u001b[38;5;28;43mself\u001b[39;49m\u001b[38;5;241;43m.\u001b[39;49m\u001b[43mloss_func\u001b[49m\u001b[43m(\u001b[49m\u001b[43minputs\u001b[49m\u001b[43m,\u001b[49m\u001b[43m \u001b[49m\u001b[43mpredicted\u001b[49m\u001b[43m,\u001b[49m\u001b[43m \u001b[49m\u001b[43mtargets\u001b[49m\u001b[43m)\u001b[49m\n\u001b[1;32m    788\u001b[0m \u001b[38;5;66;03m# Optimization\u001b[39;00m\n\u001b[1;32m    789\u001b[0m optimizer \u001b[38;5;241m=\u001b[39m \u001b[38;5;28mself\u001b[39m\u001b[38;5;241m.\u001b[39moptimizers()\n",
      "File \u001b[0;32m/scratch/devgab/C3_admissions/timeseries/lib/python3.12/site-packages/neuralprophet/time_net.py:769\u001b[0m, in \u001b[0;36mTimeNet.loss_func\u001b[0;34m(self, inputs, predicted, targets)\u001b[0m\n\u001b[1;32m    767\u001b[0m     steps_per_epoch \u001b[38;5;241m=\u001b[39m math\u001b[38;5;241m.\u001b[39mceil(\u001b[38;5;28mself\u001b[39m\u001b[38;5;241m.\u001b[39mtrainer\u001b[38;5;241m.\u001b[39mestimated_stepping_batches \u001b[38;5;241m/\u001b[39m \u001b[38;5;28mself\u001b[39m\u001b[38;5;241m.\u001b[39mtrainer\u001b[38;5;241m.\u001b[39mmax_epochs)\n\u001b[1;32m    768\u001b[0m     progress_in_epoch \u001b[38;5;241m=\u001b[39m \u001b[38;5;241m1\u001b[39m \u001b[38;5;241m-\u001b[39m ((steps_per_epoch \u001b[38;5;241m*\u001b[39m (\u001b[38;5;28mself\u001b[39m\u001b[38;5;241m.\u001b[39mcurrent_epoch \u001b[38;5;241m+\u001b[39m \u001b[38;5;241m1\u001b[39m) \u001b[38;5;241m-\u001b[39m \u001b[38;5;28mself\u001b[39m\u001b[38;5;241m.\u001b[39mglobal_step) \u001b[38;5;241m/\u001b[39m steps_per_epoch)\n\u001b[0;32m--> 769\u001b[0m     loss, reg_loss \u001b[38;5;241m=\u001b[39m \u001b[38;5;28;43mself\u001b[39;49m\u001b[38;5;241;43m.\u001b[39;49m\u001b[43m_add_batch_regularizations\u001b[49m\u001b[43m(\u001b[49m\u001b[43mloss\u001b[49m\u001b[43m,\u001b[49m\u001b[43m \u001b[49m\u001b[38;5;28;43mself\u001b[39;49m\u001b[38;5;241;43m.\u001b[39;49m\u001b[43mcurrent_epoch\u001b[49m\u001b[43m,\u001b[49m\u001b[43m \u001b[49m\u001b[43mprogress_in_epoch\u001b[49m\u001b[43m)\u001b[49m\n\u001b[1;32m    770\u001b[0m \u001b[38;5;28;01melse\u001b[39;00m:\n\u001b[1;32m    771\u001b[0m     reg_loss \u001b[38;5;241m=\u001b[39m torch\u001b[38;5;241m.\u001b[39mtensor(\u001b[38;5;241m0.0\u001b[39m, device\u001b[38;5;241m=\u001b[39m\u001b[38;5;28mself\u001b[39m\u001b[38;5;241m.\u001b[39mdevice)\n",
      "File \u001b[0;32m/scratch/devgab/C3_admissions/timeseries/lib/python3.12/site-packages/neuralprophet/time_net.py:916\u001b[0m, in \u001b[0;36mTimeNet._add_batch_regularizations\u001b[0;34m(self, loss, epoch, progress)\u001b[0m\n\u001b[1;32m    914\u001b[0m l_trend \u001b[38;5;241m=\u001b[39m \u001b[38;5;28mself\u001b[39m\u001b[38;5;241m.\u001b[39mconfig_trend\u001b[38;5;241m.\u001b[39mtrend_reg\n\u001b[1;32m    915\u001b[0m \u001b[38;5;28;01mif\u001b[39;00m \u001b[38;5;28mself\u001b[39m\u001b[38;5;241m.\u001b[39mconfig_trend\u001b[38;5;241m.\u001b[39mn_changepoints \u001b[38;5;241m>\u001b[39m \u001b[38;5;241m0\u001b[39m \u001b[38;5;129;01mand\u001b[39;00m l_trend \u001b[38;5;129;01mis\u001b[39;00m \u001b[38;5;129;01mnot\u001b[39;00m \u001b[38;5;28;01mNone\u001b[39;00m \u001b[38;5;129;01mand\u001b[39;00m l_trend \u001b[38;5;241m>\u001b[39m \u001b[38;5;241m0\u001b[39m:\n\u001b[0;32m--> 916\u001b[0m     reg_trend \u001b[38;5;241m=\u001b[39m \u001b[43mreg_func_trend\u001b[49m\u001b[43m(\u001b[49m\n\u001b[1;32m    917\u001b[0m \u001b[43m        \u001b[49m\u001b[43mweights\u001b[49m\u001b[38;5;241;43m=\u001b[39;49m\u001b[38;5;28;43mself\u001b[39;49m\u001b[38;5;241;43m.\u001b[39;49m\u001b[43mtrend\u001b[49m\u001b[38;5;241;43m.\u001b[39;49m\u001b[43mget_trend_deltas\u001b[49m\u001b[43m,\u001b[49m\n\u001b[1;32m    918\u001b[0m \u001b[43m        \u001b[49m\u001b[43mthreshold\u001b[49m\u001b[38;5;241;43m=\u001b[39;49m\u001b[38;5;28;43mself\u001b[39;49m\u001b[38;5;241;43m.\u001b[39;49m\u001b[43mconfig_train\u001b[49m\u001b[38;5;241;43m.\u001b[39;49m\u001b[43mtrend_reg_threshold\u001b[49m\u001b[43m,\u001b[49m\n\u001b[1;32m    919\u001b[0m \u001b[43m    \u001b[49m\u001b[43m)\u001b[49m\n\u001b[1;32m    920\u001b[0m     reg_loss \u001b[38;5;241m+\u001b[39m\u001b[38;5;241m=\u001b[39m l_trend \u001b[38;5;241m*\u001b[39m reg_trend\n\u001b[1;32m    922\u001b[0m \u001b[38;5;66;03m# Regularize seasonality: sparsify fourier term coefficients\u001b[39;00m\n",
      "File \u001b[0;32m/scratch/devgab/C3_admissions/timeseries/lib/python3.12/site-packages/neuralprophet/utils.py:141\u001b[0m, in \u001b[0;36mreg_func_trend\u001b[0;34m(weights, threshold)\u001b[0m\n\u001b[1;32m    139\u001b[0m abs_weights \u001b[38;5;241m=\u001b[39m torch\u001b[38;5;241m.\u001b[39mabs(weights)\n\u001b[1;32m    140\u001b[0m \u001b[38;5;28;01mif\u001b[39;00m threshold \u001b[38;5;129;01mis\u001b[39;00m \u001b[38;5;129;01mnot\u001b[39;00m \u001b[38;5;28;01mNone\u001b[39;00m \u001b[38;5;129;01mand\u001b[39;00m \u001b[38;5;129;01mnot\u001b[39;00m math\u001b[38;5;241m.\u001b[39misclose(threshold, \u001b[38;5;241m0\u001b[39m):\n\u001b[0;32m--> 141\u001b[0m     abs_weights \u001b[38;5;241m=\u001b[39m torch\u001b[38;5;241m.\u001b[39mclamp(\u001b[43mabs_weights\u001b[49m\u001b[43m \u001b[49m\u001b[38;5;241;43m-\u001b[39;49m\u001b[43m \u001b[49m\u001b[43mthreshold\u001b[49m, \u001b[38;5;28mmin\u001b[39m\u001b[38;5;241m=\u001b[39m\u001b[38;5;241m0.0\u001b[39m)\n\u001b[1;32m    142\u001b[0m reg \u001b[38;5;241m=\u001b[39m torch\u001b[38;5;241m.\u001b[39mmean(torch\u001b[38;5;241m.\u001b[39msum(abs_weights, dim\u001b[38;5;241m=\u001b[39m\u001b[38;5;241m-\u001b[39m\u001b[38;5;241m1\u001b[39m))\u001b[38;5;241m.\u001b[39msqueeze()\n\u001b[1;32m    143\u001b[0m \u001b[38;5;28;01mreturn\u001b[39;00m reg\n",
      "\u001b[0;31mRuntimeError\u001b[0m: Subtraction, the `-` operator, with a bool tensor is not supported. If you are trying to invert a mask, use the `~` or `logical_not()` operator instead."
     ]
    }
   ],
   "source": [
    "def objective(trial):\n",
    "    params = {\n",
    "        'n_lags': trial.suggest_int('n_lags', 1, 6),\n",
    "        'yearly_seasonality': trial.suggest_int('yearly_seasonality', 5, 40),\n",
    "        'weekly_seasonality': trial.suggest_int('weekly_seasonality', 1, 5),\n",
    "        'seasonality_reg': trial.suggest_float('seasonality_reg', 0.1, 100, log=True ),\n",
    "        'trend_reg': trial.suggest_float('trend_reg', 0.1, 100, log=True ),\n",
    "        'ar_reg': trial.suggest_float('ar_reg', 0.1, 100, log=True ),\n",
    "        'newer_samples_weight': trial.suggest_float('newer_samples_weight', 1, 10, log=False),\n",
    "        'seasonality_mode': trial.suggest_categorical('seasonality_mode', ['additive', 'multiplicative']),\n",
    "        'trend_reg_threshold': trial.suggest_categorical('trend_reg_threshold', [True, False]),\n",
    "        'ar_layers': trial.suggest_categorical('ar_layers', [[], [2], [4], [6], [8], [2,2], [4, 4], [6,6], [8,8]]),\n",
    "        'n_forecasts': 7,\n",
    "        'epochs': 5,\n",
    "        'changepoints_range': trial.suggest_float('changepoints_range', 0.8, 0.95),\n",
    "        'n_changepoints': trial.suggest_int('n_changepoints', 5, 40),\n",
    "        'quantiles' : [0.025, 0.975],\n",
    "        'accelerator': 'auto',\n",
    "        'collect_metrics': True,\n",
    "        'learning_rate': 0.1\n",
    "    }\n",
    "    folds = NeuralProphet(**params).crossvalidation_split_df(df = df, freq=\"D\")\n",
    "    #metrics_train = pd.DataFrame(columns=METRICS)\n",
    "    metrics_test = []\n",
    "\n",
    "    for df_train, df_test in folds:\n",
    "        m = NeuralProphet(**params)\n",
    "        #m.set_plotting_backend(\"plotly-static\")\n",
    "        train = m.fit(df=df_train, freq=\"D\")\n",
    "        test = m.test(df=df_test, verbose=False)\n",
    "        metrics_test.append(test['RMSE_val'].values[0])\n",
    "\n",
    "    return np.mean(metrics_test)\n",
    "    #return metrics_test.describe().loc[[\"mean\", \"std\", \"min\", \"max\"]]\n",
    "\n",
    "study = optuna.create_study()\n",
    "study.optimize(objective, n_trials=1, n_jobs=1, show_progress_bar=True)\n",
    "\n",
    "\n"
   ]
  },
  {
   "cell_type": "code",
   "execution_count": 65,
   "id": "93162ec3-3dfc-4a09-bf2e-fbb9ee3e219e",
   "metadata": {},
   "outputs": [
    {
     "name": "stderr",
     "output_type": "stream",
     "text": [
      "INFO - (NP.config.__post_init__) - Note: Trend changepoint regularization is experimental.\n",
      "INFO - (NP.config.__post_init__) - Note: Fourier-based seasonality regularization is experimental.\n",
      "INFO - (NP.df_utils._infer_frequency) - Major frequency D corresponds to 99.967% of the data.\n",
      "INFO - (NP.df_utils._infer_frequency) - Dataframe freq automatically defined as D\n",
      "INFO - (NP.df_utils.return_df_in_original_format) - Returning df with no ID column\n",
      "INFO - (NP.df_utils.return_df_in_original_format) - Returning df with no ID column\n",
      "WARNING - (NP.forecaster.fit) - When Global modeling with local normalization, metrics are displayed in normalized scale.\n",
      "INFO - (NP.df_utils._infer_frequency) - Major frequency D corresponds to 99.967% of the data.\n",
      "INFO - (NP.df_utils._infer_frequency) - Dataframe freq automatically defined as D\n",
      "WARNING - (NP.forecaster.fit) - Changing n_forecasts to 1. Without lags, the forecast can be computed for any future time, independent of lagged values\n",
      "INFO - (NP.config.init_data_params) - Setting normalization to global as only one dataframe provided for training.\n",
      "INFO - (NP.config.set_auto_batch_epoch) - Auto-set batch_size to 64\n",
      "INFO - (NP.utils.configure_trainer) - Using accelerator gpu with -1 device(s).\n"
     ]
    },
    {
     "data": {
      "application/vnd.jupyter.widget-view+json": {
       "model_id": "8a8508b6d3e2457b9045e1b54c26c3d7",
       "version_major": 2,
       "version_minor": 0
      },
      "text/plain": [
       "Training: 0it [00:00, ?it/s]"
      ]
     },
     "metadata": {},
     "output_type": "display_data"
    },
    {
     "data": {
      "application/vnd.jupyter.widget-view+json": {
       "model_id": "0dd7e51b7dc64b5cbebb9e192b838bea",
       "version_major": 2,
       "version_minor": 0
      },
      "text/plain": [
       "Validation: 0it [00:00, ?it/s]"
      ]
     },
     "metadata": {},
     "output_type": "display_data"
    },
    {
     "data": {
      "application/vnd.jupyter.widget-view+json": {
       "model_id": "576f5a84675345d090ea044a99aebdab",
       "version_major": 2,
       "version_minor": 0
      },
      "text/plain": [
       "Validation: 0it [00:00, ?it/s]"
      ]
     },
     "metadata": {},
     "output_type": "display_data"
    },
    {
     "data": {
      "application/vnd.jupyter.widget-view+json": {
       "model_id": "02ee4bb0706942029983299f0788427c",
       "version_major": 2,
       "version_minor": 0
      },
      "text/plain": [
       "Validation: 0it [00:00, ?it/s]"
      ]
     },
     "metadata": {},
     "output_type": "display_data"
    },
    {
     "data": {
      "application/vnd.jupyter.widget-view+json": {
       "model_id": "d721aa689094473989cf3ee3e015ab07",
       "version_major": 2,
       "version_minor": 0
      },
      "text/plain": [
       "Validation: 0it [00:00, ?it/s]"
      ]
     },
     "metadata": {},
     "output_type": "display_data"
    },
    {
     "data": {
      "application/vnd.jupyter.widget-view+json": {
       "model_id": "aae262a6e45d4de18e3a043b96b087c1",
       "version_major": 2,
       "version_minor": 0
      },
      "text/plain": [
       "Validation: 0it [00:00, ?it/s]"
      ]
     },
     "metadata": {},
     "output_type": "display_data"
    },
    {
     "data": {
      "application/vnd.jupyter.widget-view+json": {
       "model_id": "ad036db9a25947cb947500206b9e8fcf",
       "version_major": 2,
       "version_minor": 0
      },
      "text/plain": [
       "Validation: 0it [00:00, ?it/s]"
      ]
     },
     "metadata": {},
     "output_type": "display_data"
    },
    {
     "data": {
      "application/vnd.jupyter.widget-view+json": {
       "model_id": "5026e601cf984d98a4be4fd0fd44a329",
       "version_major": 2,
       "version_minor": 0
      },
      "text/plain": [
       "Validation: 0it [00:00, ?it/s]"
      ]
     },
     "metadata": {},
     "output_type": "display_data"
    },
    {
     "data": {
      "application/vnd.jupyter.widget-view+json": {
       "model_id": "22338e6a93a0411199478931c570ec32",
       "version_major": 2,
       "version_minor": 0
      },
      "text/plain": [
       "Validation: 0it [00:00, ?it/s]"
      ]
     },
     "metadata": {},
     "output_type": "display_data"
    },
    {
     "name": "stderr",
     "output_type": "stream",
     "text": [
      "WARNING - (py.warnings._showwarnmsg) - UserWarning: Detected KeyboardInterrupt, attempting graceful shutdown...\n",
      "\n"
     ]
    },
    {
     "data": {
      "text/html": [
       "<div>\n",
       "<style scoped>\n",
       "    .dataframe tbody tr th:only-of-type {\n",
       "        vertical-align: middle;\n",
       "    }\n",
       "\n",
       "    .dataframe tbody tr th {\n",
       "        vertical-align: top;\n",
       "    }\n",
       "\n",
       "    .dataframe thead th {\n",
       "        text-align: right;\n",
       "    }\n",
       "</style>\n",
       "<table border=\"1\" class=\"dataframe\">\n",
       "  <thead>\n",
       "    <tr style=\"text-align: right;\">\n",
       "      <th></th>\n",
       "      <th>MAE_val</th>\n",
       "      <th>RMSE_val</th>\n",
       "      <th>Loss_val</th>\n",
       "      <th>RegLoss_val</th>\n",
       "      <th>epoch</th>\n",
       "      <th>MAE</th>\n",
       "      <th>RMSE</th>\n",
       "      <th>Loss</th>\n",
       "      <th>RegLoss</th>\n",
       "    </tr>\n",
       "  </thead>\n",
       "  <tbody>\n",
       "    <tr>\n",
       "      <th>0</th>\n",
       "      <td>7.482333</td>\n",
       "      <td>9.004972</td>\n",
       "      <td>1.964645</td>\n",
       "      <td>0.0</td>\n",
       "      <td>0</td>\n",
       "      <td>6.807276</td>\n",
       "      <td>8.250609</td>\n",
       "      <td>1.728078</td>\n",
       "      <td>0.0</td>\n",
       "    </tr>\n",
       "    <tr>\n",
       "      <th>1</th>\n",
       "      <td>7.206485</td>\n",
       "      <td>8.544071</td>\n",
       "      <td>1.533869</td>\n",
       "      <td>0.0</td>\n",
       "      <td>1</td>\n",
       "      <td>6.423161</td>\n",
       "      <td>7.804814</td>\n",
       "      <td>1.410167</td>\n",
       "      <td>0.0</td>\n",
       "    </tr>\n",
       "    <tr>\n",
       "      <th>2</th>\n",
       "      <td>6.942252</td>\n",
       "      <td>8.063010</td>\n",
       "      <td>1.306246</td>\n",
       "      <td>0.0</td>\n",
       "      <td>2</td>\n",
       "      <td>6.057964</td>\n",
       "      <td>7.364899</td>\n",
       "      <td>1.158135</td>\n",
       "      <td>0.0</td>\n",
       "    </tr>\n",
       "    <tr>\n",
       "      <th>3</th>\n",
       "      <td>6.590762</td>\n",
       "      <td>7.612470</td>\n",
       "      <td>1.176149</td>\n",
       "      <td>0.0</td>\n",
       "      <td>3</td>\n",
       "      <td>5.800683</td>\n",
       "      <td>7.057987</td>\n",
       "      <td>1.025226</td>\n",
       "      <td>0.0</td>\n",
       "    </tr>\n",
       "    <tr>\n",
       "      <th>4</th>\n",
       "      <td>6.182940</td>\n",
       "      <td>7.152987</td>\n",
       "      <td>1.110549</td>\n",
       "      <td>0.0</td>\n",
       "      <td>4</td>\n",
       "      <td>5.411424</td>\n",
       "      <td>6.643218</td>\n",
       "      <td>0.893627</td>\n",
       "      <td>0.0</td>\n",
       "    </tr>\n",
       "    <tr>\n",
       "      <th>5</th>\n",
       "      <td>5.881326</td>\n",
       "      <td>6.823435</td>\n",
       "      <td>1.055640</td>\n",
       "      <td>0.0</td>\n",
       "      <td>5</td>\n",
       "      <td>5.168326</td>\n",
       "      <td>6.307647</td>\n",
       "      <td>0.808833</td>\n",
       "      <td>0.0</td>\n",
       "    </tr>\n",
       "    <tr>\n",
       "      <th>6</th>\n",
       "      <td>5.495310</td>\n",
       "      <td>6.488172</td>\n",
       "      <td>0.986619</td>\n",
       "      <td>0.0</td>\n",
       "      <td>6</td>\n",
       "      <td>4.742199</td>\n",
       "      <td>5.874640</td>\n",
       "      <td>0.719028</td>\n",
       "      <td>0.0</td>\n",
       "    </tr>\n",
       "    <tr>\n",
       "      <th>7</th>\n",
       "      <td>5.003378</td>\n",
       "      <td>6.019025</td>\n",
       "      <td>0.908391</td>\n",
       "      <td>0.0</td>\n",
       "      <td>7</td>\n",
       "      <td>4.375513</td>\n",
       "      <td>5.445921</td>\n",
       "      <td>0.635949</td>\n",
       "      <td>0.0</td>\n",
       "    </tr>\n",
       "  </tbody>\n",
       "</table>\n",
       "</div>"
      ],
      "text/plain": [
       "    MAE_val  RMSE_val  Loss_val  RegLoss_val  epoch       MAE      RMSE  \\\n",
       "0  7.482333  9.004972  1.964645          0.0      0  6.807276  8.250609   \n",
       "1  7.206485  8.544071  1.533869          0.0      1  6.423161  7.804814   \n",
       "2  6.942252  8.063010  1.306246          0.0      2  6.057964  7.364899   \n",
       "3  6.590762  7.612470  1.176149          0.0      3  5.800683  7.057987   \n",
       "4  6.182940  7.152987  1.110549          0.0      4  5.411424  6.643218   \n",
       "5  5.881326  6.823435  1.055640          0.0      5  5.168326  6.307647   \n",
       "6  5.495310  6.488172  0.986619          0.0      6  4.742199  5.874640   \n",
       "7  5.003378  6.019025  0.908391          0.0      7  4.375513  5.445921   \n",
       "\n",
       "       Loss  RegLoss  \n",
       "0  1.728078      0.0  \n",
       "1  1.410167      0.0  \n",
       "2  1.158135      0.0  \n",
       "3  1.025226      0.0  \n",
       "4  0.893627      0.0  \n",
       "5  0.808833      0.0  \n",
       "6  0.719028      0.0  \n",
       "7  0.635949      0.0  "
      ]
     },
     "execution_count": 65,
     "metadata": {},
     "output_type": "execute_result"
    },
    {
     "data": {
      "image/png": "[encoded data removed]",
      "text/plain": [
       "<Figure size 640x480 with 1 Axes>"
      ]
     },
     "metadata": {},
     "output_type": "display_data"
    }
   ],
   "source": [
    "m = NeuralProphet(accelerator=\"auto\",\n",
    "                 collect_metrics = True,\n",
    "                  trend_reg_threshold = False,\n",
    "                 yearly_seasonality = 6,\n",
    "                 weekly_seasonality= 3,\n",
    "                 n_changepoints = 40,\n",
    "                 n_forecasts = 7,\n",
    "                 daily_seasonality=False,\n",
    "                 quantiles=[0.025, 0.975],\n",
    "                 learning_rate=0.01,\n",
    "                 normalize = 'standardize',\n",
    "                 epochs = 80,\n",
    "                 trend_reg = 0.1,\n",
    "                 seasonality_reg = 0.1,\n",
    "                 changepoints_range = 0.95)\n",
    "m.add_country_holidays(country_name='CA', regularization = 0.1)\n",
    "m.add_seasonality(name=\"monthly\", period=30.5, fourier_order=7)\n",
    "# m.add_lagged_regressor(\"tavg\", n_lags=14, regularization=1)\n",
    "# m.add_lagged_regressor(\"prcp\", n_lags=14, regularization=1)\n",
    "df_train, df_val = m.split_df(df, valid_p=28)\n",
    "metrics = m.fit(df_train, validation_df=df_val, progress=\"plot\")\n",
    "metrics"
   ]
  },
  {
   "cell_type": "code",
   "execution_count": null,
   "id": "ef198eb2-26bc-4ee4-b0db-36517abc18d1",
   "metadata": {},
   "outputs": [],
   "source": []
  }
 ],
 "metadata": {
  "kernelspec": {
   "display_name": "Python 3 (ipykernel)",
   "language": "python",
   "name": "python3"
  },
  "language_info": {
   "codemirror_mode": {
    "name": "ipython",
    "version": 3
   },
   "file_extension": ".py",
   "mimetype": "text/x-python",
   "name": "python",
   "nbconvert_exporter": "python",
   "pygments_lexer": "ipython3",
   "version": "3.12.3"
  },
  "widgets": {
   "application/vnd.jupyter.widget-state+json": {
    "state": {
     "000a17cd3f2f476a81d632c76a6d92bb": {
      "model_module": "@jupyter-widgets/base",
      "model_module_version": "2.0.0",
      "model_name": "LayoutModel",
      "state": {}
     },
     "001ff44d9d0b4d44a7102ec5ce6d87fa": {
      "model_module": "@jupyter-widgets/controls",
      "model_module_version": "2.0.0",
      "model_name": "HTMLStyleModel",
      "state": {
       "description_width": "",
       "font_size": null,
       "text_color": null
      }
     },
     "007c5d6db55e4e9e9954cf2a3c8c4561": {
      "model_module": "@jupyter-widgets/controls",
      "model_module_version": "2.0.0",
      "model_name": "HTMLStyleModel",
      "state": {
       "description_width": "",
       "font_size": null,
       "text_color": null
      }
     },
     "00977546452f4f69a6f025adf0a59004": {
      "model_module": "@jupyter-widgets/controls",
      "model_module_version": "2.0.0",
      "model_name": "HBoxModel",
      "state": {
       "children": [
        "IPY_MODEL_a44ab23f508e4ad28969d80d7ac17642",
        "IPY_MODEL_c8fabd1d59b34a01996f9b14cad39583",
        "IPY_MODEL_5700e1a6a9ca417bb93d3b90455229ee"
       ],
       "layout": "IPY_MODEL_22fa76da27e04e6b839f48aebdd9a01c"
      }
     },
     "0098163c79f74aa39ab0047570608505": {
      "model_module": "@jupyter-widgets/base",
      "model_module_version": "2.0.0",
      "model_name": "LayoutModel",
      "state": {}
     },
     "009b00a60fde402e8f6eaa0636ac8430": {
      "model_module": "@jupyter-widgets/base",
      "model_module_version": "2.0.0",
      "model_name": "LayoutModel",
      "state": {}
     },
     "00c27dca092846f88300d2918d87bbd7": {
      "model_module": "@jupyter-widgets/controls",
      "model_module_version": "2.0.0",
      "model_name": "HTMLStyleModel",
      "state": {
       "description_width": "",
       "font_size": null,
       "text_color": null
      }
     },
     "00c5dc953add4ac9b0ab41b63cd1b2c5": {
      "model_module": "@jupyter-widgets/controls",
      "model_module_version": "2.0.0",
      "model_name": "HBoxModel",
      "state": {
       "children": [
        "IPY_MODEL_ce9bb8b4d0e442e697c8c6a54b896d5b",
        "IPY_MODEL_efb597bc744e4db0af0ee75331950989",
        "IPY_MODEL_9e4f2b21f6b1432fa654785bfe19256a"
       ],
       "layout": "IPY_MODEL_a4bcad971a7e415db0b819b418a40707"
      }
     },
     "00f5f3ae51d4403f9d0ffcb0d27de858": {
      "model_module": "@jupyter-widgets/base",
      "model_module_version": "2.0.0",
      "model_name": "LayoutModel",
      "state": {
       "display": "inline-flex",
       "flex_flow": "row wrap",
       "width": "100%"
      }
     },
     "010a1ff6bbbb4d208cfbb33ab4d72aeb": {
      "model_module": "@jupyter-widgets/controls",
      "model_module_version": "2.0.0",
      "model_name": "FloatProgressModel",
      "state": {
       "bar_style": "danger",
       "layout": "IPY_MODEL_c81a8342962848cd89de70f0db683c7f",
       "max": 1,
       "style": "IPY_MODEL_c9d788e5397149d99b775c7626fa24c4"
      }
     },
     "0116f848e30e4aa2898a3cbe2831da1d": {
      "model_module": "@jupyter-widgets/base",
      "model_module_version": "2.0.0",
      "model_name": "LayoutModel",
      "state": {
       "display": "inline-flex",
       "flex_flow": "row wrap",
       "width": "100%"
      }
     },
     "011d3147790546148bf955ef2f03a0d0": {
      "model_module": "@jupyter-widgets/controls",
      "model_module_version": "2.0.0",
      "model_name": "HTMLStyleModel",
      "state": {
       "description_width": "",
       "font_size": null,
       "text_color": null
      }
     },
     "014492f5b3094069970b6cf5e605c69f": {
      "model_module": "@jupyter-widgets/controls",
      "model_module_version": "2.0.0",
      "model_name": "HTMLStyleModel",
      "state": {
       "description_width": "",
       "font_size": null,
       "text_color": null
      }
     },
     "01544979f57c4f888a0ce216860e4334": {
      "model_module": "@jupyter-widgets/base",
      "model_module_version": "2.0.0",
      "model_name": "LayoutModel",
      "state": {
       "flex": "2"
      }
     },
     "0156f33cf3674d3496eb399991de11a8": {
      "model_module": "@jupyter-widgets/base",
      "model_module_version": "2.0.0",
      "model_name": "LayoutModel",
      "state": {}
     },
     "0182ecea18de44c9b853098e2529f20d": {
      "model_module": "@jupyter-widgets/base",
      "model_module_version": "2.0.0",
      "model_name": "LayoutModel",
      "state": {
       "display": "inline-flex",
       "flex_flow": "row wrap",
       "width": "100%"
      }
     },
     "018f1426427e44a6b77ba7167b3182b1": {
      "model_module": "@jupyter-widgets/base",
      "model_module_version": "2.0.0",
      "model_name": "LayoutModel",
      "state": {}
     },
     "018fb28fe2864c5d8a25f2a02b220086": {
      "model_module": "@jupyter-widgets/controls",
      "model_module_version": "2.0.0",
      "model_name": "HTMLModel",
      "state": {
       "layout": "IPY_MODEL_8d3cceb38ea043e8b50a7f78c2e2a654",
       "style": "IPY_MODEL_620d0d5916664005ac747eeaa2f0579b",
       "value": " 53/80 [07:27&lt;03:48,  8.45s/it, loss=0.0637, v_num=33, MAE=4.030, RMSE=5.050, Loss=0.066, RegLoss=0.000]"
      }
     },
     "0192f57b04b141bfb6664370b0d3c8cf": {
      "model_module": "@jupyter-widgets/controls",
      "model_module_version": "2.0.0",
      "model_name": "HTMLModel",
      "state": {
       "layout": "IPY_MODEL_7091c6d0ad294621995620d951bffd2a",
       "style": "IPY_MODEL_83bd5f492fb8414488d179272241c124",
       "value": " 1/1 [00:00&lt;00:00, 114.04it/s]"
      }
     },
     "019e1d9a23604910a40fb04a6eac9690": {
      "model_module": "@jupyter-widgets/controls",
      "model_module_version": "2.0.0",
      "model_name": "HTMLModel",
      "state": {
       "layout": "IPY_MODEL_1053b3108f6447c38355b027a50e30c2",
       "style": "IPY_MODEL_b94dcc02c7914c24a76923e237ddb7a6",
       "value": "Epoch 4:  80%"
      }
     },
     "01a95ba862ef448181d9931d87e94ee6": {
      "model_module": "@jupyter-widgets/controls",
      "model_module_version": "2.0.0",
      "model_name": "HTMLModel",
      "state": {
       "layout": "IPY_MODEL_7721554b3de2453bb750c1f0139ca13a",
       "style": "IPY_MODEL_081cd402604f4256ae58387d1cceba4c",
       "value": " 1/1 [00:00&lt;00:00, 92.53it/s]"
      }
     },
     "01add95ccac84891a73556222afca14f": {
      "model_module": "@jupyter-widgets/base",
      "model_module_version": "2.0.0",
      "model_name": "LayoutModel",
      "state": {}
     },
     "01b6b0efb9734e77b372ab47bfb7f2c5": {
      "model_module": "@jupyter-widgets/controls",
      "model_module_version": "2.0.0",
      "model_name": "ProgressStyleModel",
      "state": {
       "description_width": ""
      }
     },
     "01bc442811ba4c87ac0a74f56fc64bcb": {
      "model_module": "@jupyter-widgets/controls",
      "model_module_version": "2.0.0",
      "model_name": "HBoxModel",
      "state": {
       "children": [
        "IPY_MODEL_fac690989c834d4dadccf44c422a0147",
        "IPY_MODEL_4c3572680e854fbab71679897159612a",
        "IPY_MODEL_01a95ba862ef448181d9931d87e94ee6"
       ],
       "layout": "IPY_MODEL_06a40c5ac67942ad9b90a50cfd857cbb"
      }
     },
     "01cfef312cf84fd1bf6fc89642c16e1e": {
      "model_module": "@jupyter-widgets/controls",
      "model_module_version": "2.0.0",
      "model_name": "HTMLStyleModel",
      "state": {
       "description_width": "",
       "font_size": null,
       "text_color": null
      }
     },
     "01d3cae728a24d35be9b027e62417c57": {
      "model_module": "@jupyter-widgets/controls",
      "model_module_version": "2.0.0",
      "model_name": "HBoxModel",
      "state": {
       "children": [
        "IPY_MODEL_d4eca226af7344fda10d0b2fe73b879f",
        "IPY_MODEL_111bcb890f2a4922bc2dc7ca5642d588",
        "IPY_MODEL_7bef78ff5633498894f874f3a8ad5276"
       ],
       "layout": "IPY_MODEL_5d65ea0405374ead88b4ab6856a3657c"
      }
     },
     "02001cf21e1d4a2394aa446439e5fd7c": {
      "model_module": "@jupyter-widgets/controls",
      "model_module_version": "2.0.0",
      "model_name": "HTMLModel",
      "state": {
       "layout": "IPY_MODEL_6e2cd0fb99a246c5a669a31d2d4c307f",
       "style": "IPY_MODEL_59754fc215074d2c9311fa018034000d",
       "value": " 53/80 [02:02&lt;01:02,  2.31s/it, loss=0.0589, v_num=37, MAE=3.680, RMSE=4.640, Loss=0.0565, RegLoss=0.000]"
      }
     },
     "020aac8682f64389878a2287fc8b2d7d": {
      "model_module": "@jupyter-widgets/base",
      "model_module_version": "2.0.0",
      "model_name": "LayoutModel",
      "state": {}
     },
     "0224ac089ad04b518c329a3bf7e3fabe": {
      "model_module": "@jupyter-widgets/base",
      "model_module_version": "2.0.0",
      "model_name": "LayoutModel",
      "state": {
       "display": "inline-flex",
       "flex_flow": "row wrap",
       "visibility": "hidden",
       "width": "100%"
      }
     },
     "022dd78aa6e645669c737143030be8cb": {
      "model_module": "@jupyter-widgets/controls",
      "model_module_version": "2.0.0",
      "model_name": "ProgressStyleModel",
      "state": {
       "description_width": ""
      }
     },
     "0235abc2355d42d6aa8a2d264fb8ab41": {
      "model_module": "@jupyter-widgets/base",
      "model_module_version": "2.0.0",
      "model_name": "LayoutModel",
      "state": {}
     },
     "026174fa01a94de298265a001369d001": {
      "model_module": "@jupyter-widgets/base",
      "model_module_version": "2.0.0",
      "model_name": "LayoutModel",
      "state": {}
     },
     "029a95c7cdcd414a92625f2d57692f30": {
      "model_module": "@jupyter-widgets/controls",
      "model_module_version": "2.0.0",
      "model_name": "ProgressStyleModel",
      "state": {
       "description_width": ""
      }
     },
     "02fa2d075d9e4bbd8f43b5668f856d76": {
      "model_module": "@jupyter-widgets/controls",
      "model_module_version": "2.0.0",
      "model_name": "FloatProgressModel",
      "state": {
       "bar_style": "success",
       "layout": "IPY_MODEL_5c489cb5953447e0a2b980e5105c001c",
       "max": 1,
       "style": "IPY_MODEL_746a645dba8b4864b7de35db641013a4",
       "value": 1
      }
     },
     "030ef7938fdb47e5bc4ffbc85f9c6fd5": {
      "model_module": "@jupyter-widgets/base",
      "model_module_version": "2.0.0",
      "model_name": "LayoutModel",
      "state": {
       "flex": "2"
      }
     },
     "031e9ce0a0d44de3a952a9bcfcf5bf12": {
      "model_module": "@jupyter-widgets/controls",
      "model_module_version": "2.0.0",
      "model_name": "ProgressStyleModel",
      "state": {
       "description_width": ""
      }
     },
     "0327bbdd11aa45e2a8bb11c887b62699": {
      "model_module": "@jupyter-widgets/controls",
      "model_module_version": "2.0.0",
      "model_name": "ProgressStyleModel",
      "state": {
       "description_width": ""
      }
     },
     "0389fd5cf42b4ed38afa9ebe63a0cc3a": {
      "model_module": "@jupyter-widgets/controls",
      "model_module_version": "2.0.0",
      "model_name": "HTMLStyleModel",
      "state": {
       "description_width": "",
       "font_size": null,
       "text_color": null
      }
     },
     "038bbe41db964c2ab8fbd095539007be": {
      "model_module": "@jupyter-widgets/base",
      "model_module_version": "2.0.0",
      "model_name": "LayoutModel",
      "state": {}
     },
     "03b5a357c54d4c53bf2612beceac0127": {
      "model_module": "@jupyter-widgets/controls",
      "model_module_version": "2.0.0",
      "model_name": "HTMLStyleModel",
      "state": {
       "description_width": "",
       "font_size": null,
       "text_color": null
      }
     },
     "03c1fa4162ab4585addc1fe52b405d5d": {
      "model_module": "@jupyter-widgets/controls",
      "model_module_version": "2.0.0",
      "model_name": "FloatProgressModel",
      "state": {
       "bar_style": "danger",
       "layout": "IPY_MODEL_4215e360a1a447ceaabeceab00782204",
       "max": 80,
       "style": "IPY_MODEL_b2af52bf142e45419e156f68bc405009",
       "value": 53
      }
     },
     "03c3121d85754c119c78630f8987959d": {
      "model_module": "@jupyter-widgets/base",
      "model_module_version": "2.0.0",
      "model_name": "LayoutModel",
      "state": {
       "display": "inline-flex",
       "flex_flow": "row wrap",
       "visibility": "hidden",
       "width": "100%"
      }
     },
     "03c4d363898c43238d818741e638105c": {
      "model_module": "@jupyter-widgets/controls",
      "model_module_version": "2.0.0",
      "model_name": "HTMLStyleModel",
      "state": {
       "description_width": "",
       "font_size": null,
       "text_color": null
      }
     },
     "03fd6c7b2045428d8bf07cf356b42239": {
      "model_module": "@jupyter-widgets/base",
      "model_module_version": "2.0.0",
      "model_name": "LayoutModel",
      "state": {}
     },
     "0403c8977b7b4271915b1c4e1b433657": {
      "model_module": "@jupyter-widgets/base",
      "model_module_version": "2.0.0",
      "model_name": "LayoutModel",
      "state": {
       "flex": "2"
      }
     },
     "043bd15177f84c4c8a638fdffc6282c5": {
      "model_module": "@jupyter-widgets/controls",
      "model_module_version": "2.0.0",
      "model_name": "FloatProgressModel",
      "state": {
       "bar_style": "success",
       "layout": "IPY_MODEL_6017e1f558784ac2a30b676a98ba32a8",
       "max": 80,
       "style": "IPY_MODEL_98e425d64a474f6dae003be5aab6e693",
       "value": 80
      }
     },
     "045a3f6ef7c64081a644657604bdbef4": {
      "model_module": "@jupyter-widgets/base",
      "model_module_version": "2.0.0",
      "model_name": "LayoutModel",
      "state": {}
     },
     "045bcc7a4d3c442ba31509c90b6037ae": {
      "model_module": "@jupyter-widgets/base",
      "model_module_version": "2.0.0",
      "model_name": "LayoutModel",
      "state": {
       "flex": "2"
      }
     },
     "04bf59cb204e406f97521fe93dac0fad": {
      "model_module": "@jupyter-widgets/base",
      "model_module_version": "2.0.0",
      "model_name": "LayoutModel",
      "state": {}
     },
     "04c560210bed47578d9853f472b5a9f5": {
      "model_module": "@jupyter-widgets/controls",
      "model_module_version": "2.0.0",
      "model_name": "HTMLModel",
      "state": {
       "layout": "IPY_MODEL_f4a17f47d9174426bc271f496fcff757",
       "style": "IPY_MODEL_68b779e1fb614194992f9cd68af123e7",
       "value": "  0%"
      }
     },
     "0535ca84d37e43caab3adbf89f2b3f4a": {
      "model_module": "@jupyter-widgets/base",
      "model_module_version": "2.0.0",
      "model_name": "LayoutModel",
      "state": {}
     },
     "057170c88b2d4775a1e420d814f6c04e": {
      "model_module": "@jupyter-widgets/controls",
      "model_module_version": "2.0.0",
      "model_name": "FloatProgressModel",
      "state": {
       "bar_style": "danger",
       "layout": "IPY_MODEL_efc3146a71dd4d2097601d48da3a125d",
       "max": 80,
       "style": "IPY_MODEL_38fe4d9d4a2e403c839c94191877484b",
       "value": 1
      }
     },
     "057c7634cf30410293fed6caa8f184a3": {
      "model_module": "@jupyter-widgets/controls",
      "model_module_version": "2.0.0",
      "model_name": "HTMLModel",
      "state": {
       "layout": "IPY_MODEL_ffce915eefb941ef987fc1c19827d193",
       "style": "IPY_MODEL_7253d83d1cb141b9ab72f8fd39a327fa",
       "value": "Epoch 53:  66%"
      }
     },
     "058836ba9daf46a6ab135a01b96760fa": {
      "model_module": "@jupyter-widgets/controls",
      "model_module_version": "2.0.0",
      "model_name": "HTMLStyleModel",
      "state": {
       "description_width": "",
       "font_size": null,
       "text_color": null
      }
     },
     "059b6f9f1a2342cabc8a3e5f06f4a204": {
      "model_module": "@jupyter-widgets/base",
      "model_module_version": "2.0.0",
      "model_name": "LayoutModel",
      "state": {
       "display": "inline-flex",
       "flex_flow": "row wrap",
       "width": "100%"
      }
     },
     "05a59a1f1cc247cabcbc83db4b457692": {
      "model_module": "@jupyter-widgets/controls",
      "model_module_version": "2.0.0",
      "model_name": "HBoxModel",
      "state": {
       "children": [
        "IPY_MODEL_82b682c5565946a4b3aa0083746a943f",
        "IPY_MODEL_132ecf98f2a74017b05922bd4e76d639",
        "IPY_MODEL_83147a6984e741b4b3bf9bd9491ac6ad"
       ],
       "layout": "IPY_MODEL_0917d01bed3147aeb9358963607afa3d"
      }
     },
     "05f64315f34840de8405f67cc856d91f": {
      "model_module": "@jupyter-widgets/base",
      "model_module_version": "2.0.0",
      "model_name": "LayoutModel",
      "state": {
       "flex": "2"
      }
     },
     "06009826b74d41de903d19141deb2ff1": {
      "model_module": "@jupyter-widgets/controls",
      "model_module_version": "2.0.0",
      "model_name": "HTMLModel",
      "state": {
       "layout": "IPY_MODEL_90839a5bf70847c687b9c1d44480723c",
       "style": "IPY_MODEL_b8526d9e91fd400496205dc975575e0f",
       "value": "Testing DataLoader 0: 100%"
      }
     },
     "063075ec002a452eb3fb3a0e86abb3c5": {
      "model_module": "@jupyter-widgets/controls",
      "model_module_version": "2.0.0",
      "model_name": "HBoxModel",
      "state": {
       "children": [
        "IPY_MODEL_a6c890782ba2448b8bd5e1615ce8ea2f",
        "IPY_MODEL_7b02228cfbf94c6aae388cb5cfa91f4a",
        "IPY_MODEL_84102dbbf59b4c0c9810e49efd592288"
       ],
       "layout": "IPY_MODEL_de9b69ce42c941349d6021c8e7db3460"
      }
     },
     "0630902998e046359d5dc4fa764d5963": {
      "model_module": "@jupyter-widgets/base",
      "model_module_version": "2.0.0",
      "model_name": "LayoutModel",
      "state": {}
     },
     "063a0f44e7fd4528b132bdbc08c0e0b2": {
      "model_module": "@jupyter-widgets/controls",
      "model_module_version": "2.0.0",
      "model_name": "ProgressStyleModel",
      "state": {
       "description_width": ""
      }
     },
     "0657bdbd22bf4fd0864c9483c969dac2": {
      "model_module": "@jupyter-widgets/controls",
      "model_module_version": "2.0.0",
      "model_name": "HTMLModel",
      "state": {
       "layout": "IPY_MODEL_5daeae3cbebe4c328e78fc0ff0e629a9",
       "style": "IPY_MODEL_089f2a0d25eb420cb1f21e0954dca34a",
       "value": " 1/1 [00:00&lt;00:00, 69.83it/s]"
      }
     },
     "0660569dae784c24804a36df58b2fbf0": {
      "model_module": "@jupyter-widgets/base",
      "model_module_version": "2.0.0",
      "model_name": "LayoutModel",
      "state": {}
     },
     "066d97d262d1403d888a628abdab8056": {
      "model_module": "@jupyter-widgets/base",
      "model_module_version": "2.0.0",
      "model_name": "LayoutModel",
      "state": {}
     },
     "0672ddf445a941b9ba0933e3cebcf5bb": {
      "model_module": "@jupyter-widgets/controls",
      "model_module_version": "2.0.0",
      "model_name": "ProgressStyleModel",
      "state": {
       "description_width": ""
      }
     },
     "06806a3dc41a4beeafe9d840860fdc39": {
      "model_module": "@jupyter-widgets/base",
      "model_module_version": "2.0.0",
      "model_name": "LayoutModel",
      "state": {}
     },
     "0691b943f6b64b99b458985946d6b6b5": {
      "model_module": "@jupyter-widgets/controls",
      "model_module_version": "2.0.0",
      "model_name": "ProgressStyleModel",
      "state": {
       "description_width": ""
      }
     },
     "06946b16bf3c4419960a1469133e3a98": {
      "model_module": "@jupyter-widgets/base",
      "model_module_version": "2.0.0",
      "model_name": "LayoutModel",
      "state": {
       "display": "inline-flex",
       "flex_flow": "row wrap",
       "width": "100%"
      }
     },
     "06a40c5ac67942ad9b90a50cfd857cbb": {
      "model_module": "@jupyter-widgets/base",
      "model_module_version": "2.0.0",
      "model_name": "LayoutModel",
      "state": {
       "display": "inline-flex",
       "flex_flow": "row wrap",
       "width": "100%"
      }
     },
     "06b97c952f6641e69ef86badd34ba37a": {
      "model_module": "@jupyter-widgets/base",
      "model_module_version": "2.0.0",
      "model_name": "LayoutModel",
      "state": {}
     },
     "06df39cce1a94761bb3eff3a722398a4": {
      "model_module": "@jupyter-widgets/controls",
      "model_module_version": "2.0.0",
      "model_name": "HTMLStyleModel",
      "state": {
       "description_width": "",
       "font_size": null,
       "text_color": null
      }
     },
     "0706220f571c4d6da6e6ebc6c0e16eee": {
      "model_module": "@jupyter-widgets/controls",
      "model_module_version": "2.0.0",
      "model_name": "ProgressStyleModel",
      "state": {
       "description_width": ""
      }
     },
     "073eb66e724d4faabe6c1d7524b9e308": {
      "model_module": "@jupyter-widgets/controls",
      "model_module_version": "2.0.0",
      "model_name": "FloatProgressModel",
      "state": {
       "bar_style": "success",
       "layout": "IPY_MODEL_6181def745dc4936b5bcece287ed565e",
       "max": 1,
       "style": "IPY_MODEL_66ce578de5d04364a73d2c29ee97db7f",
       "value": 1
      }
     },
     "077535732d7d474fa6c69fa0831c8f45": {
      "model_module": "@jupyter-widgets/base",
      "model_module_version": "2.0.0",
      "model_name": "LayoutModel",
      "state": {}
     },
     "079d1a09596c460dbb515956d3bc7df4": {
      "model_module": "@jupyter-widgets/controls",
      "model_module_version": "2.0.0",
      "model_name": "HTMLStyleModel",
      "state": {
       "description_width": "",
       "font_size": null,
       "text_color": null
      }
     },
     "07d603cdf344483ba22867c51efe1303": {
      "model_module": "@jupyter-widgets/base",
      "model_module_version": "2.0.0",
      "model_name": "LayoutModel",
      "state": {}
     },
     "07ef7b494aa145afb4e08e8d4288776f": {
      "model_module": "@jupyter-widgets/controls",
      "model_module_version": "2.0.0",
      "model_name": "HBoxModel",
      "state": {
       "children": [
        "IPY_MODEL_787153b91b7d4e18a7b00033a84141cd",
        "IPY_MODEL_7152c322771249dda7a5106d68967e0d",
        "IPY_MODEL_7187ce0741284f1680c661bfcbd1bf22"
       ],
       "layout": "IPY_MODEL_c6a1cc6491ba4add9af5a7feb178758b"
      }
     },
     "081cd402604f4256ae58387d1cceba4c": {
      "model_module": "@jupyter-widgets/controls",
      "model_module_version": "2.0.0",
      "model_name": "HTMLStyleModel",
      "state": {
       "description_width": "",
       "font_size": null,
       "text_color": null
      }
     },
     "082bcea7c9314e1f9cc3e0c4b4b0384f": {
      "model_module": "@jupyter-widgets/controls",
      "model_module_version": "2.0.0",
      "model_name": "HTMLStyleModel",
      "state": {
       "description_width": "",
       "font_size": null,
       "text_color": null
      }
     },
     "082cc67c71ac4b0cb852efd3696639a2": {
      "model_module": "@jupyter-widgets/controls",
      "model_module_version": "2.0.0",
      "model_name": "FloatProgressModel",
      "state": {
       "bar_style": "success",
       "layout": "IPY_MODEL_08c7a2d8aa9a4fdcacea26c531e760ea",
       "max": 5,
       "style": "IPY_MODEL_d41a421bf169450a8290da08e34d16b0",
       "value": 5
      }
     },
     "083f58b044774be986cebbcb955bb4ed": {
      "model_module": "@jupyter-widgets/controls",
      "model_module_version": "2.0.0",
      "model_name": "FloatProgressModel",
      "state": {
       "bar_style": "danger",
       "layout": "IPY_MODEL_6d1a0bf81dfc437aa87e07183801157f",
       "max": 80,
       "style": "IPY_MODEL_031e9ce0a0d44de3a952a9bcfcf5bf12",
       "value": 9
      }
     },
     "084f7062a1e6475a84b9c78f50c0e5fa": {
      "model_module": "@jupyter-widgets/base",
      "model_module_version": "2.0.0",
      "model_name": "LayoutModel",
      "state": {
       "flex": "2"
      }
     },
     "0852cf5a10e846a7b44772a1c1dd2875": {
      "model_module": "@jupyter-widgets/controls",
      "model_module_version": "2.0.0",
      "model_name": "HTMLModel",
      "state": {
       "layout": "IPY_MODEL_1bff3f7ef05447fb9e7d44f3a7b33065",
       "style": "IPY_MODEL_61f2357ca2104c3094600c566f90eb28",
       "value": " 1/1 [00:00&lt;00:00, 35.75it/s]"
      }
     },
     "085fb47acb514307ba42284d2ca9c8a7": {
      "model_module": "@jupyter-widgets/controls",
      "model_module_version": "2.0.0",
      "model_name": "HTMLModel",
      "state": {
       "layout": "IPY_MODEL_a88e81c641d446ff814919b4b1e918c7",
       "style": "IPY_MODEL_83a2f943a53042329e8476f284c68ca1",
       "value": "  0%"
      }
     },
     "088a97b97b754ada9224ca39ee7e6f58": {
      "model_module": "@jupyter-widgets/base",
      "model_module_version": "2.0.0",
      "model_name": "LayoutModel",
      "state": {}
     },
     "08967c5e2502458f93902154b42828bd": {
      "model_module": "@jupyter-widgets/base",
      "model_module_version": "2.0.0",
      "model_name": "LayoutModel",
      "state": {}
     },
     "089f2a0d25eb420cb1f21e0954dca34a": {
      "model_module": "@jupyter-widgets/controls",
      "model_module_version": "2.0.0",
      "model_name": "HTMLStyleModel",
      "state": {
       "description_width": "",
       "font_size": null,
       "text_color": null
      }
     },
     "08aa6f0af2ee4aae830811ede87c6f90": {
      "model_module": "@jupyter-widgets/controls",
      "model_module_version": "2.0.0",
      "model_name": "HBoxModel",
      "state": {
       "children": [
        "IPY_MODEL_5b6d627ae697499d96f8c3dcc205a985",
        "IPY_MODEL_1befdb808ecf4e10b0876215934c8922",
        "IPY_MODEL_204d22ae370c49839767cc280993a317"
       ],
       "layout": "IPY_MODEL_f3fd0b002acd4119811326233545d159"
      }
     },
     "08c7a2d8aa9a4fdcacea26c531e760ea": {
      "model_module": "@jupyter-widgets/base",
      "model_module_version": "2.0.0",
      "model_name": "LayoutModel",
      "state": {
       "flex": "2"
      }
     },
     "08e93b263bf3464aa308b164bd51d577": {
      "model_module": "@jupyter-widgets/base",
      "model_module_version": "2.0.0",
      "model_name": "LayoutModel",
      "state": {}
     },
     "08f2ed06a57942dca1179a4fcb8b2240": {
      "model_module": "@jupyter-widgets/controls",
      "model_module_version": "2.0.0",
      "model_name": "HTMLModel",
      "state": {
       "layout": "IPY_MODEL_9405df4bb27f49b0ba15d6addb7368aa",
       "style": "IPY_MODEL_df81fa9c5f964d6098f189541a123759",
       "value": " 1/1 [00:00&lt;00:00, 116.99it/s]"
      }
     },
     "08f740a42427413a9e18b63fcb2191ee": {
      "model_module": "@jupyter-widgets/controls",
      "model_module_version": "2.0.0",
      "model_name": "FloatProgressModel",
      "state": {
       "layout": "IPY_MODEL_a0863118b5224f898d676afbeed8f4b0",
       "max": 1,
       "style": "IPY_MODEL_795b4c442e394ad9b1169017bb6d08a3",
       "value": 1
      }
     },
     "0917d01bed3147aeb9358963607afa3d": {
      "model_module": "@jupyter-widgets/base",
      "model_module_version": "2.0.0",
      "model_name": "LayoutModel",
      "state": {
       "display": "inline-flex",
       "flex_flow": "row wrap",
       "width": "100%"
      }
     },
     "091b1f9613b1420dab33cd990527d3dd": {
      "model_module": "@jupyter-widgets/controls",
      "model_module_version": "2.0.0",
      "model_name": "HTMLModel",
      "state": {
       "layout": "IPY_MODEL_2e7606b0dfdc44ca90b16d2e65a42934",
       "style": "IPY_MODEL_fe392322b78148beb9d70ada9ac0384f",
       "value": " 1/1 [00:00&lt;00:00, 260.66it/s]"
      }
     },
     "09236d5f88b945268bdc3add4cf82f62": {
      "model_module": "@jupyter-widgets/base",
      "model_module_version": "2.0.0",
      "model_name": "LayoutModel",
      "state": {}
     },
     "0926e6963791497b8ac7b268f388c14e": {
      "model_module": "@jupyter-widgets/controls",
      "model_module_version": "2.0.0",
      "model_name": "HTMLStyleModel",
      "state": {
       "description_width": "",
       "font_size": null,
       "text_color": null
      }
     },
     "0932daf91d1142cfb0d7a74391822b31": {
      "model_module": "@jupyter-widgets/controls",
      "model_module_version": "2.0.0",
      "model_name": "HTMLModel",
      "state": {
       "layout": "IPY_MODEL_c78c5bb9a6f64085a01758e3575a0c68",
       "style": "IPY_MODEL_6e898a8b76ba4ad0987c6b380911d17d",
       "value": "Testing DataLoader 0: 100%"
      }
     },
     "096a63d5a9a140aaa69e3c21d102b8d3": {
      "model_module": "@jupyter-widgets/controls",
      "model_module_version": "2.0.0",
      "model_name": "FloatProgressModel",
      "state": {
       "bar_style": "success",
       "layout": "IPY_MODEL_35867e672cb54be3a1968922d0b3f05b",
       "max": 1,
       "style": "IPY_MODEL_022dd78aa6e645669c737143030be8cb",
       "value": 1
      }
     },
     "097d94e327de45539c7852dd0fb89dc1": {
      "model_module": "@jupyter-widgets/base",
      "model_module_version": "2.0.0",
      "model_name": "LayoutModel",
      "state": {
       "display": "inline-flex",
       "flex_flow": "row wrap",
       "width": "100%"
      }
     },
     "098222fcaa224248b80c7765f45dd53d": {
      "model_module": "@jupyter-widgets/base",
      "model_module_version": "2.0.0",
      "model_name": "LayoutModel",
      "state": {}
     },
     "098907b078344b94993ed58f2d20d624": {
      "model_module": "@jupyter-widgets/base",
      "model_module_version": "2.0.0",
      "model_name": "LayoutModel",
      "state": {}
     },
     "09ab4e6dff164f639e816a1c99d341a0": {
      "model_module": "@jupyter-widgets/controls",
      "model_module_version": "2.0.0",
      "model_name": "HTMLStyleModel",
      "state": {
       "description_width": "",
       "font_size": null,
       "text_color": null
      }
     },
     "09b69d3af84a400fb5ca37113f0022df": {
      "model_module": "@jupyter-widgets/controls",
      "model_module_version": "2.0.0",
      "model_name": "HTMLModel",
      "state": {
       "layout": "IPY_MODEL_bbfb49bebca74c6d89804552ecd7ca5a",
       "style": "IPY_MODEL_542a561546aa4349bad3e85a1c4f1b54",
       "value": "Testing DataLoader 0: 100%"
      }
     },
     "09ce1db4521c41b2a78eb910b9bc1507": {
      "model_module": "@jupyter-widgets/controls",
      "model_module_version": "2.0.0",
      "model_name": "HTMLStyleModel",
      "state": {
       "description_width": "",
       "font_size": null,
       "text_color": null
      }
     },
     "09efee8fd31946758bc109ab4bd21a43": {
      "model_module": "@jupyter-widgets/controls",
      "model_module_version": "2.0.0",
      "model_name": "FloatProgressModel",
      "state": {
       "bar_style": "danger",
       "layout": "IPY_MODEL_2a9bbe4412ee410aa07a4c50febe42ec",
       "max": 1,
       "style": "IPY_MODEL_a2860b712c5648cbbf00512e4a2c54a6"
      }
     },
     "0a142f2980d144b0b13b1725c07eddc9": {
      "model_module": "@jupyter-widgets/controls",
      "model_module_version": "2.0.0",
      "model_name": "HTMLModel",
      "state": {
       "layout": "IPY_MODEL_884b95776b664e0bbf0c593cb910bd46",
       "style": "IPY_MODEL_a37beb2b98b249019010322aecfcc69c",
       "value": "  0%"
      }
     },
     "0a5cde821dc742ef9f5303215287d8ec": {
      "model_module": "@jupyter-widgets/controls",
      "model_module_version": "2.0.0",
      "model_name": "HTMLModel",
      "state": {
       "layout": "IPY_MODEL_0660569dae784c24804a36df58b2fbf0",
       "style": "IPY_MODEL_8ba4d5679467406e8d883477a683ba85",
       "value": " 1/1 [00:08&lt;00:00,  8.92s/it]"
      }
     },
     "0a6c3c25ca464b1a9b8c6b5b0008837a": {
      "model_module": "@jupyter-widgets/base",
      "model_module_version": "2.0.0",
      "model_name": "LayoutModel",
      "state": {
       "display": "inline-flex",
       "flex_flow": "row wrap",
       "width": "100%"
      }
     },
     "0a6ffd6e180344ffb09001029221db0c": {
      "model_module": "@jupyter-widgets/base",
      "model_module_version": "2.0.0",
      "model_name": "LayoutModel",
      "state": {}
     },
     "0a7e02895b154115aa820890d8a832e6": {
      "model_module": "@jupyter-widgets/controls",
      "model_module_version": "2.0.0",
      "model_name": "HTMLModel",
      "state": {
       "layout": "IPY_MODEL_69e8c73efcd64a0691301124edc23417",
       "style": "IPY_MODEL_09ce1db4521c41b2a78eb910b9bc1507",
       "value": " 1/1 [00:00&lt;00:00, 79.84it/s]"
      }
     },
     "0a8c81d9bc1a4de9adb4cd911a3b4d60": {
      "model_module": "@jupyter-widgets/base",
      "model_module_version": "2.0.0",
      "model_name": "LayoutModel",
      "state": {}
     },
     "0af711e6ba4448d393fc8a95f3a8c400": {
      "model_module": "@jupyter-widgets/controls",
      "model_module_version": "2.0.0",
      "model_name": "HTMLModel",
      "state": {
       "layout": "IPY_MODEL_264c1c2341a44d6d8d8e158171c13988",
       "style": "IPY_MODEL_85d7a586afd54efe8eb5c49ae0b2e2f3",
       "value": " 80/80 [00:00&lt;00:00, 241.87it/s, loss=0.911, v_num=24, MAE=14.70, RMSE=21.40, Loss=0.943, RegLoss=0.199]"
      }
     },
     "0b043a14e85c473fa3448d39e63ac079": {
      "model_module": "@jupyter-widgets/base",
      "model_module_version": "2.0.0",
      "model_name": "LayoutModel",
      "state": {}
     },
     "0b15fd4808b44782a2e9db9d2ba441f7": {
      "model_module": "@jupyter-widgets/controls",
      "model_module_version": "2.0.0",
      "model_name": "FloatProgressModel",
      "state": {
       "bar_style": "success",
       "layout": "IPY_MODEL_1a663f71446b4172be92867131c7ef59",
       "max": 1,
       "style": "IPY_MODEL_7640a3f7645b4bcba10532d07e571602",
       "value": 1
      }
     },
     "0b17d946a5e141c2b9943783f631b060": {
      "model_module": "@jupyter-widgets/base",
      "model_module_version": "2.0.0",
      "model_name": "LayoutModel",
      "state": {
       "flex": "2"
      }
     },
     "0b29976dbe204efc97a4ae2879e2930a": {
      "model_module": "@jupyter-widgets/controls",
      "model_module_version": "2.0.0",
      "model_name": "HTMLStyleModel",
      "state": {
       "description_width": "",
       "font_size": null,
       "text_color": null
      }
     },
     "0b37c2af128f4b0aa0b291ae3b020a4d": {
      "model_module": "@jupyter-widgets/base",
      "model_module_version": "2.0.0",
      "model_name": "LayoutModel",
      "state": {}
     },
     "0b603464d6b645a2ba0f57e6be413c3d": {
      "model_module": "@jupyter-widgets/controls",
      "model_module_version": "2.0.0",
      "model_name": "HTMLStyleModel",
      "state": {
       "description_width": "",
       "font_size": null,
       "text_color": null
      }
     },
     "0b8301f3a2134fa09c5e0f59691a109f": {
      "model_module": "@jupyter-widgets/base",
      "model_module_version": "2.0.0",
      "model_name": "LayoutModel",
      "state": {}
     },
     "0b89e7c51cd44c4faa064e4ed4de9c30": {
      "model_module": "@jupyter-widgets/base",
      "model_module_version": "2.0.0",
      "model_name": "LayoutModel",
      "state": {}
     },
     "0bada24f3c8f432db5bffec56a842760": {
      "model_module": "@jupyter-widgets/base",
      "model_module_version": "2.0.0",
      "model_name": "LayoutModel",
      "state": {}
     },
     "0bc55701d2eb4acebf739ff1cbf88463": {
      "model_module": "@jupyter-widgets/controls",
      "model_module_version": "2.0.0",
      "model_name": "HTMLModel",
      "state": {
       "layout": "IPY_MODEL_2e7f645ca5f745b0a2e669c723c34f76",
       "style": "IPY_MODEL_2415b5d0f411496fb3f83e834e2a255c",
       "value": " 80/80 [00:00&lt;00:00, 298.78it/s, loss=0.043, v_num=53, MAE=3.950, RMSE=4.950, Loss=0.043, RegLoss=0.00239]"
      }
     },
     "0bfd946195eb47669657efcc7367a483": {
      "model_module": "@jupyter-widgets/controls",
      "model_module_version": "2.0.0",
      "model_name": "ProgressStyleModel",
      "state": {
       "description_width": ""
      }
     },
     "0bfeb57f79a346719f5e48e8ca8f62a8": {
      "model_module": "@jupyter-widgets/controls",
      "model_module_version": "2.0.0",
      "model_name": "HTMLStyleModel",
      "state": {
       "description_width": "",
       "font_size": null,
       "text_color": null
      }
     },
     "0c09a644234143febae8e43500a244c6": {
      "model_module": "@jupyter-widgets/controls",
      "model_module_version": "2.0.0",
      "model_name": "HTMLModel",
      "state": {
       "layout": "IPY_MODEL_3971f13044084ee49065e8a0acbc9c91",
       "style": "IPY_MODEL_fb2b6a3386f34342a744e9a0db4996f5",
       "value": "Testing DataLoader 0:   0%"
      }
     },
     "0c0e62d5a7c54571a52ee9405e30f81c": {
      "model_module": "@jupyter-widgets/base",
      "model_module_version": "2.0.0",
      "model_name": "LayoutModel",
      "state": {}
     },
     "0c5b8f6144374fd4b281584960c428ca": {
      "model_module": "@jupyter-widgets/controls",
      "model_module_version": "2.0.0",
      "model_name": "HTMLModel",
      "state": {
       "layout": "IPY_MODEL_1dd7c030933d4a36a72039ba41545485",
       "style": "IPY_MODEL_a72f4efe6d41463a9c1d3b86e2f243d9",
       "value": "Testing DataLoader 0: 100%"
      }
     },
     "0c671e128e0940969f8cd2c4961b97eb": {
      "model_module": "@jupyter-widgets/controls",
      "model_module_version": "2.0.0",
      "model_name": "HBoxModel",
      "state": {
       "children": [
        "IPY_MODEL_95bf6a94d88b4f6b93fcea8bbbb6ae68",
        "IPY_MODEL_f52e2a014591475eba95734038c58806",
        "IPY_MODEL_f9090f31f488442cb291f57a7a47d790"
       ],
       "layout": "IPY_MODEL_eee5da0ffdb34b0489460a8a0e21db48"
      }
     },
     "0c9d2ab71d734577ba96c8f7e0ea61e7": {
      "model_module": "@jupyter-widgets/base",
      "model_module_version": "2.0.0",
      "model_name": "LayoutModel",
      "state": {
       "flex": "2"
      }
     },
     "0c9db46a05784bc1bbf4b32e811303bf": {
      "model_module": "@jupyter-widgets/base",
      "model_module_version": "2.0.0",
      "model_name": "LayoutModel",
      "state": {}
     },
     "0ca9912cf88b4af7a8e2dbdf24614c2c": {
      "model_module": "@jupyter-widgets/base",
      "model_module_version": "2.0.0",
      "model_name": "LayoutModel",
      "state": {
       "display": "inline-flex",
       "flex_flow": "row wrap",
       "width": "100%"
      }
     },
     "0cbe6ea0c6df4fc881fe447aea336a6a": {
      "model_module": "@jupyter-widgets/controls",
      "model_module_version": "2.0.0",
      "model_name": "FloatProgressModel",
      "state": {
       "bar_style": "danger",
       "layout": "IPY_MODEL_2e5b9604ffd1440ab89de228cff7c1b3",
       "max": 80,
       "style": "IPY_MODEL_a58af8b745564bc2b6988143798a1998",
       "value": 53
      }
     },
     "0ce6399695274de6aebcd67f31ba6647": {
      "model_module": "@jupyter-widgets/base",
      "model_module_version": "2.0.0",
      "model_name": "LayoutModel",
      "state": {
       "flex": "2"
      }
     },
     "0cf1185c7761420f9cadf82fbe85767c": {
      "model_module": "@jupyter-widgets/controls",
      "model_module_version": "2.0.0",
      "model_name": "HTMLStyleModel",
      "state": {
       "description_width": "",
       "font_size": null,
       "text_color": null
      }
     },
     "0d146cafbfef49588fd3995158aec428": {
      "model_module": "@jupyter-widgets/controls",
      "model_module_version": "2.0.0",
      "model_name": "HBoxModel",
      "state": {
       "children": [
        "IPY_MODEL_12ba20f790c044a9ad19c991756ef8ed",
        "IPY_MODEL_9a721656333e4f0ab19c49d7d00fb017",
        "IPY_MODEL_be3fcdb9e5f44ed7863855eee9b9f736"
       ],
       "layout": "IPY_MODEL_a6e0f1a06221430db27181d92ba3559b"
      }
     },
     "0d541e04990441f295a623c1fa9b188c": {
      "model_module": "@jupyter-widgets/controls",
      "model_module_version": "2.0.0",
      "model_name": "HTMLModel",
      "state": {
       "layout": "IPY_MODEL_d097a09f7c1e4d3893ab79118962c37d",
       "style": "IPY_MODEL_a98c2a2b2096479995128da78e10f98c",
       "value": "Testing DataLoader 0: 100%"
      }
     },
     "0d9a9df358624cc09fd232bbd916dbff": {
      "model_module": "@jupyter-widgets/controls",
      "model_module_version": "2.0.0",
      "model_name": "FloatProgressModel",
      "state": {
       "bar_style": "success",
       "layout": "IPY_MODEL_c3730728dc374c17908baa4f26d4a48f",
       "max": 80,
       "style": "IPY_MODEL_932e6acd30814b6da4eca1148aa8a63f",
       "value": 80
      }
     },
     "0d9f4207ec6f48c0937d038c4553d6d4": {
      "model_module": "@jupyter-widgets/base",
      "model_module_version": "2.0.0",
      "model_name": "LayoutModel",
      "state": {
       "display": "inline-flex",
       "flex_flow": "row wrap",
       "visibility": "hidden",
       "width": "100%"
      }
     },
     "0dbb18adba8c4bb18d6ce8dbd6be6c0f": {
      "model_module": "@jupyter-widgets/base",
      "model_module_version": "2.0.0",
      "model_name": "LayoutModel",
      "state": {
       "flex": "2"
      }
     },
     "0e118e086e7346c5856584b5087e36f0": {
      "model_module": "@jupyter-widgets/controls",
      "model_module_version": "2.0.0",
      "model_name": "HTMLStyleModel",
      "state": {
       "description_width": "",
       "font_size": null,
       "text_color": null
      }
     },
     "0e3050ec8e184db198055d8dcd1f257d": {
      "model_module": "@jupyter-widgets/controls",
      "model_module_version": "2.0.0",
      "model_name": "HTMLStyleModel",
      "state": {
       "description_width": "",
       "font_size": null,
       "text_color": null
      }
     },
     "0e306e1806f44fcb827802623b95bae7": {
      "model_module": "@jupyter-widgets/controls",
      "model_module_version": "2.0.0",
      "model_name": "HTMLModel",
      "state": {
       "layout": "IPY_MODEL_da3d55b94e3947feb7d35f044160dc2f",
       "style": "IPY_MODEL_3ea0840819f445adbde6569802db53a1",
       "value": " 1/1 [00:00&lt;00:00, 240.83it/s]"
      }
     },
     "0e44385ea7304bc48f0989e5938ef51c": {
      "model_module": "@jupyter-widgets/base",
      "model_module_version": "2.0.0",
      "model_name": "LayoutModel",
      "state": {
       "display": "inline-flex",
       "flex_flow": "row wrap",
       "width": "100%"
      }
     },
     "0e4a857bd2df4a7f8cfd03fb5bdc12f5": {
      "model_module": "@jupyter-widgets/controls",
      "model_module_version": "2.0.0",
      "model_name": "FloatProgressModel",
      "state": {
       "bar_style": "danger",
       "layout": "IPY_MODEL_3331125eee824308a0242ba0feab2bdb",
       "max": 80,
       "style": "IPY_MODEL_c52bb12c22964bd2807d06440a43120a",
       "value": 4
      }
     },
     "0e59d310df5f439f9eb5b3aa36acdb55": {
      "model_module": "@jupyter-widgets/controls",
      "model_module_version": "2.0.0",
      "model_name": "HTMLStyleModel",
      "state": {
       "description_width": "",
       "font_size": null,
       "text_color": null
      }
     },
     "0e6d9954a13a47fcb2fd0d000d1a3b08": {
      "model_module": "@jupyter-widgets/base",
      "model_module_version": "2.0.0",
      "model_name": "LayoutModel",
      "state": {}
     },
     "0e7fb4c17dc24f889d4a9d1a5e64e340": {
      "model_module": "@jupyter-widgets/controls",
      "model_module_version": "2.0.0",
      "model_name": "HTMLModel",
      "state": {
       "layout": "IPY_MODEL_ee51feb94f9a40db8624f4a98637f478",
       "style": "IPY_MODEL_18929d321134457da3751092de15f02b",
       "value": "Epoch 53:  66%"
      }
     },
     "0ea30bdf3fb04885a03930616699d2d6": {
      "model_module": "@jupyter-widgets/base",
      "model_module_version": "2.0.0",
      "model_name": "LayoutModel",
      "state": {}
     },
     "0ea566997b8e4eddbedb03aebb88fa8e": {
      "model_module": "@jupyter-widgets/controls",
      "model_module_version": "2.0.0",
      "model_name": "ProgressStyleModel",
      "state": {
       "description_width": ""
      }
     },
     "0ec3a051bd044583b66e16cf6052be4f": {
      "model_module": "@jupyter-widgets/controls",
      "model_module_version": "2.0.0",
      "model_name": "HTMLModel",
      "state": {
       "layout": "IPY_MODEL_a0a02ccff53645b9a28e2454b92c4434",
       "style": "IPY_MODEL_7ebc7a06e5454f97831f42524d9eb3ee",
       "value": " 53/80 [05:54&lt;03:00,  6.70s/it, loss=0.0393, v_num=38, MAE=3.660, RMSE=4.650, Loss=0.0396, RegLoss=0.000]"
      }
     },
     "0ed616bb55544b8b82f81920d446a81f": {
      "model_module": "@jupyter-widgets/controls",
      "model_module_version": "2.0.0",
      "model_name": "HBoxModel",
      "state": {
       "children": [
        "IPY_MODEL_f341470473ec4a99a0341ada42f52d0a",
        "IPY_MODEL_9cfc64b51c0d484b9d7a726328bb9a3e",
        "IPY_MODEL_8400cdd85a7d4e659bef19a8a9f68361"
       ],
       "layout": "IPY_MODEL_321074dbe36c4358bcb3efb1a0fe9f97"
      }
     },
     "0ed73742509d48429327cd6633a03f22": {
      "model_module": "@jupyter-widgets/controls",
      "model_module_version": "2.0.0",
      "model_name": "HTMLModel",
      "state": {
       "layout": "IPY_MODEL_28d23a1cb052458ea77c5ecbee7a5b5b",
       "style": "IPY_MODEL_d51d4797c4e8463898e8751c432e2362",
       "value": "Testing DataLoader 0: 100%"
      }
     },
     "0edebf3bf358442d92b55f69cf87e8ca": {
      "model_module": "@jupyter-widgets/controls",
      "model_module_version": "2.0.0",
      "model_name": "ProgressStyleModel",
      "state": {
       "description_width": ""
      }
     },
     "0f03009fa5f44e468391db54d34d293f": {
      "model_module": "@jupyter-widgets/base",
      "model_module_version": "2.0.0",
      "model_name": "LayoutModel",
      "state": {}
     },
     "0f268c3a73e34a75a44706a4f84a30cf": {
      "model_module": "@jupyter-widgets/base",
      "model_module_version": "2.0.0",
      "model_name": "LayoutModel",
      "state": {}
     },
     "0f2c157cbd3a451a966618b5dd7b8810": {
      "model_module": "@jupyter-widgets/controls",
      "model_module_version": "2.0.0",
      "model_name": "HTMLModel",
      "state": {
       "layout": "IPY_MODEL_911c0b19d11847828693ffdac6dcd9f3",
       "style": "IPY_MODEL_8353cb0526ea480387ce0d461055402c",
       "value": "Testing DataLoader 0: 100%"
      }
     },
     "0f42066f8506489f92527339fbbab2b9": {
      "model_module": "@jupyter-widgets/base",
      "model_module_version": "2.0.0",
      "model_name": "LayoutModel",
      "state": {
       "flex": "2"
      }
     },
     "0f5b1678ab2a4403aafec4efde79651d": {
      "model_module": "@jupyter-widgets/controls",
      "model_module_version": "2.0.0",
      "model_name": "HTMLStyleModel",
      "state": {
       "description_width": "",
       "font_size": null,
       "text_color": null
      }
     },
     "0f6f014f8ccb438c9e2e8f7ea9c18879": {
      "model_module": "@jupyter-widgets/base",
      "model_module_version": "2.0.0",
      "model_name": "LayoutModel",
      "state": {}
     },
     "0f9bdde6cf474f1eb21eddceff95956f": {
      "model_module": "@jupyter-widgets/controls",
      "model_module_version": "2.0.0",
      "model_name": "HTMLStyleModel",
      "state": {
       "description_width": "",
       "font_size": null,
       "text_color": null
      }
     },
     "0faa9d157a984075aafd47d4de2d2366": {
      "model_module": "@jupyter-widgets/controls",
      "model_module_version": "2.0.0",
      "model_name": "HTMLModel",
      "state": {
       "layout": "IPY_MODEL_2df7066d020a4f73805cadcfe734e807",
       "style": "IPY_MODEL_7cd288f205964e3aafecd2946d98a274",
       "value": "Epoch 33:  41%"
      }
     },
     "0fae48e9b6a14041beb24c739308c8df": {
      "model_module": "@jupyter-widgets/controls",
      "model_module_version": "2.0.0",
      "model_name": "ProgressStyleModel",
      "state": {
       "description_width": ""
      }
     },
     "0ff06f17d24142f48ccba0b44175b8f7": {
      "model_module": "@jupyter-widgets/controls",
      "model_module_version": "2.0.0",
      "model_name": "HBoxModel",
      "state": {
       "children": [
        "IPY_MODEL_8135f4ad61354fd7ae5efbd879f8e744",
        "IPY_MODEL_fc267aad37d0464482679a6cfd1950c0",
        "IPY_MODEL_c833c8c597b64f69952e95dbde4eb61b"
       ],
       "layout": "IPY_MODEL_a7203250552c4251b187675544297e97"
      }
     },
     "100c9647f3f04738886f276a7eb8eeb9": {
      "model_module": "@jupyter-widgets/controls",
      "model_module_version": "2.0.0",
      "model_name": "HTMLModel",
      "state": {
       "layout": "IPY_MODEL_8a5679dfd8e04a58b0047312f9a7093a",
       "style": "IPY_MODEL_f0ff7c26bd5e40b6b99508fec3a5e903",
       "value": "Validation DataLoader 0: 100%"
      }
     },
     "10126a2882314d77a18c671a790ea8a7": {
      "model_module": "@jupyter-widgets/controls",
      "model_module_version": "2.0.0",
      "model_name": "ProgressStyleModel",
      "state": {
       "description_width": ""
      }
     },
     "1019a2ecdeb74df99bbb88e2413b3f2c": {
      "model_module": "@jupyter-widgets/controls",
      "model_module_version": "2.0.0",
      "model_name": "HTMLStyleModel",
      "state": {
       "description_width": "",
       "font_size": null,
       "text_color": null
      }
     },
     "1024313c98194eb89e6b012afbda19cf": {
      "model_module": "@jupyter-widgets/controls",
      "model_module_version": "2.0.0",
      "model_name": "HTMLStyleModel",
      "state": {
       "description_width": "",
       "font_size": null,
       "text_color": null
      }
     },
     "102f6f1859af4d2bacef8b43fd3c7dbb": {
      "model_module": "@jupyter-widgets/base",
      "model_module_version": "2.0.0",
      "model_name": "LayoutModel",
      "state": {}
     },
     "1035aa346aea4d11890d46f25ba768f2": {
      "model_module": "@jupyter-widgets/base",
      "model_module_version": "2.0.0",
      "model_name": "LayoutModel",
      "state": {
       "flex": "2"
      }
     },
     "103b805549064e579f65a0ccf1488fbf": {
      "model_module": "@jupyter-widgets/controls",
      "model_module_version": "2.0.0",
      "model_name": "HTMLStyleModel",
      "state": {
       "description_width": "",
       "font_size": null,
       "text_color": null
      }
     },
     "104215aea60f42b9bc76b7b2f1d3c9a9": {
      "model_module": "@jupyter-widgets/controls",
      "model_module_version": "2.0.0",
      "model_name": "FloatProgressModel",
      "state": {
       "bar_style": "success",
       "layout": "IPY_MODEL_485fa06fb6d54137af10e71afa069504",
       "max": 1,
       "style": "IPY_MODEL_5bda19e2623c49158d682aa2efa79063",
       "value": 1
      }
     },
     "10524fcd77724f9e8f61cb966dbbd06f": {
      "model_module": "@jupyter-widgets/controls",
      "model_module_version": "2.0.0",
      "model_name": "FloatProgressModel",
      "state": {
       "bar_style": "success",
       "layout": "IPY_MODEL_7b84670897f94a4a8cf5b5aee8df3843",
       "max": 1,
       "style": "IPY_MODEL_f0f2e5c11ba0401584672fcd1d3e9afe",
       "value": 1
      }
     },
     "1053b3108f6447c38355b027a50e30c2": {
      "model_module": "@jupyter-widgets/base",
      "model_module_version": "2.0.0",
      "model_name": "LayoutModel",
      "state": {}
     },
     "10605308d9dd439db415bb13fc35edb4": {
      "model_module": "@jupyter-widgets/controls",
      "model_module_version": "2.0.0",
      "model_name": "ProgressStyleModel",
      "state": {
       "description_width": ""
      }
     },
     "10675801aff8426ca2172285fb48435a": {
      "model_module": "@jupyter-widgets/controls",
      "model_module_version": "2.0.0",
      "model_name": "HTMLModel",
      "state": {
       "layout": "IPY_MODEL_ab3a893ac54442aaadfc8ae35880192a",
       "style": "IPY_MODEL_4268effb6057448eba09dba6da9b4c0d",
       "value": "Validation DataLoader 0: 100%"
      }
     },
     "107ebb4e5ceb41bfb083a6976db384da": {
      "model_module": "@jupyter-widgets/controls",
      "model_module_version": "2.0.0",
      "model_name": "HBoxModel",
      "state": {
       "children": [
        "IPY_MODEL_ff4d9b65c4414119b3e539bd8d06a929",
        "IPY_MODEL_b45923af520d4d039a2c2cccaf93996c",
        "IPY_MODEL_fffcc5c56e284354943db1adc4bfed06"
       ],
       "layout": "IPY_MODEL_f782ada007fb419fb929fc9e4e2234dd"
      }
     },
     "108a22fe3a8441aea8d6f1401e3f5b6e": {
      "model_module": "@jupyter-widgets/base",
      "model_module_version": "2.0.0",
      "model_name": "LayoutModel",
      "state": {}
     },
     "108ec7c0d18144da8fa1eea5f9672c29": {
      "model_module": "@jupyter-widgets/controls",
      "model_module_version": "2.0.0",
      "model_name": "HTMLStyleModel",
      "state": {
       "description_width": "",
       "font_size": null,
       "text_color": null
      }
     },
     "10997d2e3517417aba0d46dab9368da6": {
      "model_module": "@jupyter-widgets/controls",
      "model_module_version": "2.0.0",
      "model_name": "HBoxModel",
      "state": {
       "children": [
        "IPY_MODEL_6877eb22c1584dfba221963e9aea0dc5",
        "IPY_MODEL_5698efb166284c938970700259787342",
        "IPY_MODEL_92ee426c3d7144ca9236a9d5cbb34665"
       ],
       "layout": "IPY_MODEL_7930f6efe27e43a39ee2ebee7214484d"
      }
     },
     "10a1eff775124a4887833677156df6e3": {
      "model_module": "@jupyter-widgets/controls",
      "model_module_version": "2.0.0",
      "model_name": "FloatProgressModel",
      "state": {
       "bar_style": "danger",
       "layout": "IPY_MODEL_d701e50b16f74cbdb6676c8daa1d23f4",
       "max": 5,
       "style": "IPY_MODEL_9c0253eaed2a4be68e83e5ff90cebe53",
       "value": 4
      }
     },
     "10a6e5430e864ee4a934f5b33846cca3": {
      "model_module": "@jupyter-widgets/controls",
      "model_module_version": "2.0.0",
      "model_name": "HBoxModel",
      "state": {
       "children": [
        "IPY_MODEL_e184b9a7d9454752ad0a90f19d70400b",
        "IPY_MODEL_ab6174ebc92f42a4bf4a37dea6fc0f75",
        "IPY_MODEL_af1eb716109a4042a0595b13cf72f933"
       ],
       "layout": "IPY_MODEL_ac48974ff5364cf9aeedb61229223e1d"
      }
     },
     "10c38553bb454f49b365591cb8973e22": {
      "model_module": "@jupyter-widgets/base",
      "model_module_version": "2.0.0",
      "model_name": "LayoutModel",
      "state": {}
     },
     "10e9f4eb6528492b8b1ec9d6d2865649": {
      "model_module": "@jupyter-widgets/controls",
      "model_module_version": "2.0.0",
      "model_name": "ProgressStyleModel",
      "state": {
       "description_width": ""
      }
     },
     "10ea98397bf54940a2f04212c99d43db": {
      "model_module": "@jupyter-widgets/controls",
      "model_module_version": "2.0.0",
      "model_name": "HBoxModel",
      "state": {
       "children": [
        "IPY_MODEL_5b53c7b8e96a4f8494e5f0b299157c85",
        "IPY_MODEL_20578676c7614857b0caf0a9e9a3acdf",
        "IPY_MODEL_1c692c92bedf4085bb3cae050d81bb13"
       ],
       "layout": "IPY_MODEL_34544ce11cb9443fb1b4ef02d4eacd95"
      }
     },
     "10eded6024e5472e9ef3c7cf13740743": {
      "model_module": "@jupyter-widgets/controls",
      "model_module_version": "2.0.0",
      "model_name": "HTMLModel",
      "state": {
       "layout": "IPY_MODEL_b22d48a8f3954e8384b6e09650fcb37d",
       "style": "IPY_MODEL_6471406d9ffd494abcd8b36c85719588",
       "value": "  0%"
      }
     },
     "10ee3d67c33d4d37b80b23eacc2f82e1": {
      "model_module": "@jupyter-widgets/controls",
      "model_module_version": "2.0.0",
      "model_name": "ProgressStyleModel",
      "state": {
       "description_width": ""
      }
     },
     "11068b6d9d824bc391f5d167186b841d": {
      "model_module": "@jupyter-widgets/base",
      "model_module_version": "2.0.0",
      "model_name": "LayoutModel",
      "state": {}
     },
     "11187b0c588c4e6bbaa76ed6b4277e5f": {
      "model_module": "@jupyter-widgets/controls",
      "model_module_version": "2.0.0",
      "model_name": "FloatProgressModel",
      "state": {
       "bar_style": "success",
       "layout": "IPY_MODEL_4080dca229784e4d97f33e6e3434d9ee",
       "max": 1,
       "style": "IPY_MODEL_5cbe7eca94074cf79c3202f025fe8cbc",
       "value": 1
      }
     },
     "111bcb890f2a4922bc2dc7ca5642d588": {
      "model_module": "@jupyter-widgets/controls",
      "model_module_version": "2.0.0",
      "model_name": "FloatProgressModel",
      "state": {
       "bar_style": "danger",
       "layout": "IPY_MODEL_39088b69c0da4a60a5a1131d157b6a69",
       "max": 10,
       "style": "IPY_MODEL_d83d4de1b6854827a29a16988c70bf5f"
      }
     },
     "1149c20ee27e45e5a2d8fb4344977dcb": {
      "model_module": "@jupyter-widgets/controls",
      "model_module_version": "2.0.0",
      "model_name": "FloatProgressModel",
      "state": {
       "bar_style": "danger",
       "layout": "IPY_MODEL_22a2d2dfcac5451e8f4e8a8ad68aafb1",
       "max": 10,
       "style": "IPY_MODEL_e83e45aa944d4928a18ac2a544d4a3e2"
      }
     },
     "114fb9dd3b64436eb7a97cb69d2bb8f7": {
      "model_module": "@jupyter-widgets/controls",
      "model_module_version": "2.0.0",
      "model_name": "HTMLStyleModel",
      "state": {
       "description_width": "",
       "font_size": null,
       "text_color": null
      }
     },
     "11849fd2f2ca4e089c213376197646ab": {
      "model_module": "@jupyter-widgets/base",
      "model_module_version": "2.0.0",
      "model_name": "LayoutModel",
      "state": {
       "display": "inline-flex",
       "flex_flow": "row wrap",
       "width": "100%"
      }
     },
     "119d91827ffb47e09d7336ed2048c032": {
      "model_module": "@jupyter-widgets/controls",
      "model_module_version": "2.0.0",
      "model_name": "HBoxModel",
      "state": {
       "children": [
        "IPY_MODEL_977bfa42eace4e79a30232c4719be348",
        "IPY_MODEL_03c1fa4162ab4585addc1fe52b405d5d",
        "IPY_MODEL_ee98c1b85a2e4e60b8dcc4eb6c3d6602"
       ],
       "layout": "IPY_MODEL_d5a4ce186a3b4e64a4bb85f9eb0149d2"
      }
     },
     "11a0782103ba4742a9fd1e49ee31f25f": {
      "model_module": "@jupyter-widgets/controls",
      "model_module_version": "2.0.0",
      "model_name": "ProgressStyleModel",
      "state": {
       "description_width": ""
      }
     },
     "11f27ea224ef43e8aa90a5ee9e058685": {
      "model_module": "@jupyter-widgets/controls",
      "model_module_version": "2.0.0",
      "model_name": "FloatProgressModel",
      "state": {
       "bar_style": "danger",
       "layout": "IPY_MODEL_81fed34052a241a08ae41b8647280b95",
       "max": 10,
       "style": "IPY_MODEL_afcf574cd01342fd9f423477f6bef2ca"
      }
     },
     "1215559ac5ef4ab18c418507593d1d4d": {
      "model_module": "@jupyter-widgets/controls",
      "model_module_version": "2.0.0",
      "model_name": "FloatProgressModel",
      "state": {
       "layout": "IPY_MODEL_f82c0719c9b74dd583982154c826d4cb",
       "max": 1,
       "style": "IPY_MODEL_2272d16b9327450689cc2b3b261a11d3",
       "value": 1
      }
     },
     "12329fc7347249818a06f3ed9bdcb733": {
      "model_module": "@jupyter-widgets/base",
      "model_module_version": "2.0.0",
      "model_name": "LayoutModel",
      "state": {}
     },
     "12437dabf66647e6a075ed6715fb9809": {
      "model_module": "@jupyter-widgets/base",
      "model_module_version": "2.0.0",
      "model_name": "LayoutModel",
      "state": {}
     },
     "128f6590026e44e9b276f6ec2fe1b837": {
      "model_module": "@jupyter-widgets/controls",
      "model_module_version": "2.0.0",
      "model_name": "ProgressStyleModel",
      "state": {
       "description_width": ""
      }
     },
     "12ba20f790c044a9ad19c991756ef8ed": {
      "model_module": "@jupyter-widgets/controls",
      "model_module_version": "2.0.0",
      "model_name": "HTMLModel",
      "state": {
       "layout": "IPY_MODEL_4148dd9b9d5742f58112d70f8572bec9",
       "style": "IPY_MODEL_e2691d0c887a488f86544e9b52b40857",
       "value": "Epoch 5:   6%"
      }
     },
     "12bcd2ea8ff440e7959a992d60d655fa": {
      "model_module": "@jupyter-widgets/base",
      "model_module_version": "2.0.0",
      "model_name": "LayoutModel",
      "state": {}
     },
     "12c5d762ec424a338a60c0aea4c860e3": {
      "model_module": "@jupyter-widgets/controls",
      "model_module_version": "2.0.0",
      "model_name": "HTMLStyleModel",
      "state": {
       "description_width": "",
       "font_size": null,
       "text_color": null
      }
     },
     "12c98669454a4e209bb55c04cdc1b9a4": {
      "model_module": "@jupyter-widgets/controls",
      "model_module_version": "2.0.0",
      "model_name": "FloatProgressModel",
      "state": {
       "bar_style": "success",
       "layout": "IPY_MODEL_ee4c5e8d48764e1c82333304bbacc316",
       "max": 5,
       "style": "IPY_MODEL_6f3e0112f12142e9a4b1f0d24c0cbc41",
       "value": 5
      }
     },
     "12dfa1d3b1b443209c5bb93d80b96df5": {
      "model_module": "@jupyter-widgets/base",
      "model_module_version": "2.0.0",
      "model_name": "LayoutModel",
      "state": {}
     },
     "12f6cdc5fa954068a400d14cd199b593": {
      "model_module": "@jupyter-widgets/controls",
      "model_module_version": "2.0.0",
      "model_name": "HTMLStyleModel",
      "state": {
       "description_width": "",
       "font_size": null,
       "text_color": null
      }
     },
     "12fef3faa01c497d85a11286fe6abe8d": {
      "model_module": "@jupyter-widgets/controls",
      "model_module_version": "2.0.0",
      "model_name": "FloatProgressModel",
      "state": {
       "bar_style": "success",
       "layout": "IPY_MODEL_3d1a8ca4f0234d1888a75754e1dd0f93",
       "max": 1,
       "style": "IPY_MODEL_c2ddee26d0074086a151d4c5e36c538c",
       "value": 1
      }
     },
     "132ecf98f2a74017b05922bd4e76d639": {
      "model_module": "@jupyter-widgets/controls",
      "model_module_version": "2.0.0",
      "model_name": "FloatProgressModel",
      "state": {
       "bar_style": "success",
       "layout": "IPY_MODEL_61c3fc52fd3e45029e87a9cf67eaa7af",
       "max": 5,
       "style": "IPY_MODEL_8395f7b4d503435bb79942c4407c3c73",
       "value": 5
      }
     },
     "1333ce932e1345d99267d64671b1ed79": {
      "model_module": "@jupyter-widgets/base",
      "model_module_version": "2.0.0",
      "model_name": "LayoutModel",
      "state": {}
     },
     "135d4f137ee44c068fc409f5ebb8aece": {
      "model_module": "@jupyter-widgets/controls",
      "model_module_version": "2.0.0",
      "model_name": "HTMLModel",
      "state": {
       "layout": "IPY_MODEL_e807564d05ad47f0943469e4b8f34055",
       "style": "IPY_MODEL_8d488471a7194227b55ac61bb03485c6",
       "value": "  0%"
      }
     },
     "1378fc0597f64bd0bc44934d539d035b": {
      "model_module": "@jupyter-widgets/controls",
      "model_module_version": "2.0.0",
      "model_name": "FloatProgressModel",
      "state": {
       "bar_style": "success",
       "layout": "IPY_MODEL_7091c64a8a1a46a1a7cfcc3918ced42b",
       "max": 1,
       "style": "IPY_MODEL_80e72b12b2284df0843c5ea5d60fafe4",
       "value": 1
      }
     },
     "138a6ba303db4d3c8c08e1b68e59565a": {
      "model_module": "@jupyter-widgets/controls",
      "model_module_version": "2.0.0",
      "model_name": "ProgressStyleModel",
      "state": {
       "description_width": ""
      }
     },
     "138fac95aa4c46ada480607a87357076": {
      "model_module": "@jupyter-widgets/controls",
      "model_module_version": "2.0.0",
      "model_name": "ProgressStyleModel",
      "state": {
       "description_width": ""
      }
     },
     "13a88ef9448c42b3a86722cf80b8adae": {
      "model_module": "@jupyter-widgets/controls",
      "model_module_version": "2.0.0",
      "model_name": "HTMLStyleModel",
      "state": {
       "description_width": "",
       "font_size": null,
       "text_color": null
      }
     },
     "13ba65edc32240d9a2316d0da01d3101": {
      "model_module": "@jupyter-widgets/base",
      "model_module_version": "2.0.0",
      "model_name": "LayoutModel",
      "state": {}
     },
     "13bd1d14f85e4dab8efe28803874c870": {
      "model_module": "@jupyter-widgets/base",
      "model_module_version": "2.0.0",
      "model_name": "LayoutModel",
      "state": {}
     },
     "13ec0d64188a472cbf7bbc1b2681f5b5": {
      "model_module": "@jupyter-widgets/base",
      "model_module_version": "2.0.0",
      "model_name": "LayoutModel",
      "state": {}
     },
     "140121536ba04676b70128b2533431f6": {
      "model_module": "@jupyter-widgets/base",
      "model_module_version": "2.0.0",
      "model_name": "LayoutModel",
      "state": {}
     },
     "1412787c076c4c68a7a3ab336e8deb4a": {
      "model_module": "@jupyter-widgets/base",
      "model_module_version": "2.0.0",
      "model_name": "LayoutModel",
      "state": {}
     },
     "14228b2823ae443c8a62fc1be781ab49": {
      "model_module": "@jupyter-widgets/base",
      "model_module_version": "2.0.0",
      "model_name": "LayoutModel",
      "state": {}
     },
     "1427dabd009e483696604372d82a8ee0": {
      "model_module": "@jupyter-widgets/controls",
      "model_module_version": "2.0.0",
      "model_name": "HTMLStyleModel",
      "state": {
       "description_width": "",
       "font_size": null,
       "text_color": null
      }
     },
     "143e4c324c5b4d29b24862a933ef0d71": {
      "model_module": "@jupyter-widgets/base",
      "model_module_version": "2.0.0",
      "model_name": "LayoutModel",
      "state": {}
     },
     "143fa845cc7d4f38ba1dd7891b2d1495": {
      "model_module": "@jupyter-widgets/controls",
      "model_module_version": "2.0.0",
      "model_name": "FloatProgressModel",
      "state": {
       "bar_style": "success",
       "layout": "IPY_MODEL_3ba90e997ace48dd8169b6cca832d43d",
       "max": 1,
       "style": "IPY_MODEL_aa0a16f9107b4872bb814db488dfb9fb",
       "value": 1
      }
     },
     "14483db3fe6641308462f365beaaa012": {
      "model_module": "@jupyter-widgets/controls",
      "model_module_version": "2.0.0",
      "model_name": "FloatProgressModel",
      "state": {
       "bar_style": "danger",
       "layout": "IPY_MODEL_25f5dada92a2430c9459d5923e5a064a",
       "max": 80,
       "style": "IPY_MODEL_1b8a9efb771e4cc78361941c7942fd5b",
       "value": 53
      }
     },
     "1456f058bcbf4c93b188361489ea84bd": {
      "model_module": "@jupyter-widgets/base",
      "model_module_version": "2.0.0",
      "model_name": "LayoutModel",
      "state": {}
     },
     "1459b663880f43b28a968e037c9987e4": {
      "model_module": "@jupyter-widgets/controls",
      "model_module_version": "2.0.0",
      "model_name": "HTMLModel",
      "state": {
       "layout": "IPY_MODEL_c8e3eef82ec2453492fd6293efc43d0f",
       "style": "IPY_MODEL_a23c122227cd4ef98fd8ee3929c374a4",
       "value": "Epoch 14:  18%"
      }
     },
     "14689b3d2d8f46d19030df987dc1e604": {
      "model_module": "@jupyter-widgets/base",
      "model_module_version": "2.0.0",
      "model_name": "LayoutModel",
      "state": {}
     },
     "1483adb658c947c8a46b25700fa5a2cb": {
      "model_module": "@jupyter-widgets/controls",
      "model_module_version": "2.0.0",
      "model_name": "HTMLModel",
      "state": {
       "layout": "IPY_MODEL_34defccf093344c7b3eac5c6a67d5149",
       "style": "IPY_MODEL_ed047ea349684995af3b2ad0be254fce",
       "value": " 80/80 [00:00&lt;00:00, 150.63it/s, loss=26.2, v_num=10, MAE=61.60, RMSE=250.0, Loss=25.20, RegLoss=14.20]"
      }
     },
     "149bd039b31941319545ea5acbb278a6": {
      "model_module": "@jupyter-widgets/controls",
      "model_module_version": "2.0.0",
      "model_name": "FloatProgressModel",
      "state": {
       "bar_style": "danger",
       "layout": "IPY_MODEL_01add95ccac84891a73556222afca14f",
       "max": 1,
       "style": "IPY_MODEL_10ee3d67c33d4d37b80b23eacc2f82e1"
      }
     },
     "14a9fab1ee284d7f9a028c0495929d81": {
      "model_module": "@jupyter-widgets/base",
      "model_module_version": "2.0.0",
      "model_name": "LayoutModel",
      "state": {}
     },
     "14bfe524242742d5b843470e16a45aeb": {
      "model_module": "@jupyter-widgets/controls",
      "model_module_version": "2.0.0",
      "model_name": "HTMLModel",
      "state": {
       "layout": "IPY_MODEL_ba8335b198cd48c4b40a5d0a0fa4ea1b",
       "style": "IPY_MODEL_a5103c4e75d54bc982ea8f2bbb14e7d9",
       "value": "Epoch 80: 100%"
      }
     },
     "14cb64f1fd2447d693272736deb0f4c0": {
      "model_module": "@jupyter-widgets/base",
      "model_module_version": "2.0.0",
      "model_name": "LayoutModel",
      "state": {}
     },
     "14e4557d866344bea6609e0ab1a68873": {
      "model_module": "@jupyter-widgets/base",
      "model_module_version": "2.0.0",
      "model_name": "LayoutModel",
      "state": {}
     },
     "14ee8183c4a2402396c78ed92d59a782": {
      "model_module": "@jupyter-widgets/controls",
      "model_module_version": "2.0.0",
      "model_name": "HTMLModel",
      "state": {
       "layout": "IPY_MODEL_d037589ac2bc496abd601372ace2a9fd",
       "style": "IPY_MODEL_eb3dcca9da43437eb0b274185fdb2ef1",
       "value": " 1/80 [00:00&lt;00:13,  5.94it/s]"
      }
     },
     "14fcee99b0d04c648bcfd73023dc5ab1": {
      "model_module": "@jupyter-widgets/controls",
      "model_module_version": "2.0.0",
      "model_name": "HTMLStyleModel",
      "state": {
       "description_width": "",
       "font_size": null,
       "text_color": null
      }
     },
     "1501052ff1fe42e8887578667aca2823": {
      "model_module": "@jupyter-widgets/controls",
      "model_module_version": "2.0.0",
      "model_name": "FloatProgressModel",
      "state": {
       "layout": "IPY_MODEL_93743e77cff04085bc8f8174bc0daf8b",
       "max": 5,
       "style": "IPY_MODEL_5691e12a911a47eaa6ac913718e86874",
       "value": 4
      }
     },
     "150b5bcaa8b543fe9631c9eb8803d013": {
      "model_module": "@jupyter-widgets/controls",
      "model_module_version": "2.0.0",
      "model_name": "HTMLStyleModel",
      "state": {
       "description_width": "",
       "font_size": null,
       "text_color": null
      }
     },
     "15160ed4a544452a975bf0e112df183d": {
      "model_module": "@jupyter-widgets/controls",
      "model_module_version": "2.0.0",
      "model_name": "FloatProgressModel",
      "state": {
       "layout": "IPY_MODEL_045bcc7a4d3c442ba31509c90b6037ae",
       "max": 5,
       "style": "IPY_MODEL_128f6590026e44e9b276f6ec2fe1b837",
       "value": 4
      }
     },
     "15281a910ef4411aaa62991d91460900": {
      "model_module": "@jupyter-widgets/base",
      "model_module_version": "2.0.0",
      "model_name": "LayoutModel",
      "state": {
       "display": "inline-flex",
       "flex_flow": "row wrap",
       "width": "100%"
      }
     },
     "152d9f2999b5429eb90b7e77db739a04": {
      "model_module": "@jupyter-widgets/controls",
      "model_module_version": "2.0.0",
      "model_name": "HTMLModel",
      "state": {
       "layout": "IPY_MODEL_eb9a56bfe7ba4002ae3d9e2680778871",
       "style": "IPY_MODEL_e3f785a71c02442d9d946751e3df1524",
       "value": " 0/1 [00:01&lt;?, ?it/s]"
      }
     },
     "155a33fed3c74b10a30171148785ab72": {
      "model_module": "@jupyter-widgets/controls",
      "model_module_version": "2.0.0",
      "model_name": "HBoxModel",
      "state": {
       "children": [
        "IPY_MODEL_14bfe524242742d5b843470e16a45aeb",
        "IPY_MODEL_cfe015af029d416787e3fea7ba15383e",
        "IPY_MODEL_bfa8cdb8004140bd97962dcb10570398"
       ],
       "layout": "IPY_MODEL_3af67c1cbfda4901ab9edf2bcfc818ff"
      }
     },
     "155ba1421fac4d58bf291f05163cd8e4": {
      "model_module": "@jupyter-widgets/controls",
      "model_module_version": "2.0.0",
      "model_name": "HTMLModel",
      "state": {
       "layout": "IPY_MODEL_32198b624aed4c67af47afe0ce05d3fd",
       "style": "IPY_MODEL_920a173d548c4c1180c954dc9fcbc5b5",
       "value": " 1/1 [00:00&lt;00:00, 89.02it/s]"
      }
     },
     "155c85863dc54cbdbf44a4365a146e33": {
      "model_module": "@jupyter-widgets/controls",
      "model_module_version": "2.0.0",
      "model_name": "ProgressStyleModel",
      "state": {
       "description_width": ""
      }
     },
     "156f389d52324032963a1bb193ed1bf6": {
      "model_module": "@jupyter-widgets/controls",
      "model_module_version": "2.0.0",
      "model_name": "HTMLStyleModel",
      "state": {
       "description_width": "",
       "font_size": null,
       "text_color": null
      }
     },
     "15767ffd5a644ef897316da787a7fae3": {
      "model_module": "@jupyter-widgets/controls",
      "model_module_version": "2.0.0",
      "model_name": "FloatProgressModel",
      "state": {
       "bar_style": "success",
       "layout": "IPY_MODEL_8e19f8dd68f04341a5ba117949173d99",
       "max": 1,
       "style": "IPY_MODEL_aa2673f4394f47c7bb1d81140e6610f7",
       "value": 1
      }
     },
     "15884be0003d4c7cac47343a34bd075e": {
      "model_module": "@jupyter-widgets/base",
      "model_module_version": "2.0.0",
      "model_name": "LayoutModel",
      "state": {}
     },
     "15ab063ebe554906ba4f084487f52dcd": {
      "model_module": "@jupyter-widgets/base",
      "model_module_version": "2.0.0",
      "model_name": "LayoutModel",
      "state": {}
     },
     "15b5562aa53349aaa2cda883de5eacfe": {
      "model_module": "@jupyter-widgets/controls",
      "model_module_version": "2.0.0",
      "model_name": "HTMLStyleModel",
      "state": {
       "description_width": "",
       "font_size": null,
       "text_color": null
      }
     },
     "15dc6c7211bd45639ebcd9bb2392b9a7": {
      "model_module": "@jupyter-widgets/controls",
      "model_module_version": "2.0.0",
      "model_name": "HTMLStyleModel",
      "state": {
       "description_width": "",
       "font_size": null,
       "text_color": null
      }
     },
     "15ebcbe4f651406d89735d27c6553083": {
      "model_module": "@jupyter-widgets/controls",
      "model_module_version": "2.0.0",
      "model_name": "HBoxModel",
      "state": {
       "children": [
        "IPY_MODEL_e8690d6c57894502937d6966ddf176b3",
        "IPY_MODEL_1fc44cf952734afb92e459989b1d875a",
        "IPY_MODEL_e0bf553817684121be0c4e8fa5a8ba2f"
       ],
       "layout": "IPY_MODEL_35c095184db045bc849d3ad9b0c66ed1"
      }
     },
     "15fa9019ba094443865faa8a11d2062e": {
      "model_module": "@jupyter-widgets/controls",
      "model_module_version": "2.0.0",
      "model_name": "HTMLStyleModel",
      "state": {
       "description_width": "",
       "font_size": null,
       "text_color": null
      }
     },
     "161b6cb863d5433aaa4e31e64be77471": {
      "model_module": "@jupyter-widgets/controls",
      "model_module_version": "2.0.0",
      "model_name": "HTMLModel",
      "state": {
       "layout": "IPY_MODEL_616dabf28da74f49a22bcc4f0841bbd3",
       "style": "IPY_MODEL_f96230febaa147a2b40235d0b4c063ac",
       "value": "Testing DataLoader 0: 100%"
      }
     },
     "1624f669da634fffa1b49167e2209af1": {
      "model_module": "@jupyter-widgets/controls",
      "model_module_version": "2.0.0",
      "model_name": "HTMLStyleModel",
      "state": {
       "description_width": "",
       "font_size": null,
       "text_color": null
      }
     },
     "1626070f82274603bb936a7d9604cc06": {
      "model_module": "@jupyter-widgets/controls",
      "model_module_version": "2.0.0",
      "model_name": "ProgressStyleModel",
      "state": {
       "description_width": ""
      }
     },
     "162ad6e298e04bdc92c7b4a25f7bbcf8": {
      "model_module": "@jupyter-widgets/base",
      "model_module_version": "2.0.0",
      "model_name": "LayoutModel",
      "state": {}
     },
     "16455fb029ee4880a46a700baacf5291": {
      "model_module": "@jupyter-widgets/controls",
      "model_module_version": "2.0.0",
      "model_name": "HTMLStyleModel",
      "state": {
       "description_width": "",
       "font_size": null,
       "text_color": null
      }
     },
     "1654f80bbfdf4bc591b2221695773785": {
      "model_module": "@jupyter-widgets/base",
      "model_module_version": "2.0.0",
      "model_name": "LayoutModel",
      "state": {}
     },
     "166bf58d825c4f3bb67ec98ad6c9fce4": {
      "model_module": "@jupyter-widgets/controls",
      "model_module_version": "2.0.0",
      "model_name": "FloatProgressModel",
      "state": {
       "bar_style": "success",
       "layout": "IPY_MODEL_084f7062a1e6475a84b9c78f50c0e5fa",
       "max": 1,
       "style": "IPY_MODEL_7266caef6bdc4107bae5f6b8850ff52b",
       "value": 1
      }
     },
     "16a5880a9c5f43da981433c3b2cb79e7": {
      "model_module": "@jupyter-widgets/controls",
      "model_module_version": "2.0.0",
      "model_name": "ProgressStyleModel",
      "state": {
       "description_width": ""
      }
     },
     "16b43d3436a94e41be5042155c795d69": {
      "model_module": "@jupyter-widgets/controls",
      "model_module_version": "2.0.0",
      "model_name": "FloatProgressModel",
      "state": {
       "bar_style": "success",
       "layout": "IPY_MODEL_0403c8977b7b4271915b1c4e1b433657",
       "max": 1,
       "style": "IPY_MODEL_9033ef6292484a9d9b9e43e20f8bc6ab",
       "value": 1
      }
     },
     "16d408acfbe04ac4a207cd2eec67d7d5": {
      "model_module": "@jupyter-widgets/controls",
      "model_module_version": "2.0.0",
      "model_name": "ProgressStyleModel",
      "state": {
       "description_width": ""
      }
     },
     "16e4a461302d4f3795b93ec23469a22c": {
      "model_module": "@jupyter-widgets/controls",
      "model_module_version": "2.0.0",
      "model_name": "FloatProgressModel",
      "state": {
       "bar_style": "success",
       "layout": "IPY_MODEL_452f1cb7afe04669826e9c5f205c4c90",
       "max": 5,
       "style": "IPY_MODEL_8d3009e3412d43a4ad372963cc549117",
       "value": 5
      }
     },
     "170b6043c4644aa99a56a28632d9dcad": {
      "model_module": "@jupyter-widgets/controls",
      "model_module_version": "2.0.0",
      "model_name": "ProgressStyleModel",
      "state": {
       "description_width": ""
      }
     },
     "17256a7775204a97a9fc8d32a7f0bbf0": {
      "model_module": "@jupyter-widgets/controls",
      "model_module_version": "2.0.0",
      "model_name": "HTMLStyleModel",
      "state": {
       "description_width": "",
       "font_size": null,
       "text_color": null
      }
     },
     "173872cfdbcb47d7af1595b0e2f1bebf": {
      "model_module": "@jupyter-widgets/controls",
      "model_module_version": "2.0.0",
      "model_name": "HTMLStyleModel",
      "state": {
       "description_width": "",
       "font_size": null,
       "text_color": null
      }
     },
     "173cd5daa8fb4a41a03f5c3f11ba0bb0": {
      "model_module": "@jupyter-widgets/controls",
      "model_module_version": "2.0.0",
      "model_name": "HBoxModel",
      "state": {
       "children": [
        "IPY_MODEL_b0cf5cb64c7343f99991e2cc9d9c11ae",
        "IPY_MODEL_5aa917aa3c224b17ba2a6ca80d666a48",
        "IPY_MODEL_262adfebb99c4ff79962402444ebf750"
       ],
       "layout": "IPY_MODEL_bf23f98413a945338b62adbe6a22344b"
      }
     },
     "1742c55a10424b7c9fa3f076d1c83e75": {
      "model_module": "@jupyter-widgets/controls",
      "model_module_version": "2.0.0",
      "model_name": "ProgressStyleModel",
      "state": {
       "description_width": ""
      }
     },
     "176c6507c7e2491bb28ebd7006125367": {
      "model_module": "@jupyter-widgets/controls",
      "model_module_version": "2.0.0",
      "model_name": "HBoxModel",
      "state": {
       "children": [
        "IPY_MODEL_69ca2574ac1e45c09de7d6cae984e258",
        "IPY_MODEL_2e4fbd1f28994bf29ab4226f19cf616b",
        "IPY_MODEL_ff784aa8f8584e199cbd633c32272d67"
       ],
       "layout": "IPY_MODEL_4ed79763ab3f44e8b7f27b38695d69ff"
      }
     },
     "176e1ce5be0e4779b6b65d28b35749e9": {
      "model_module": "@jupyter-widgets/controls",
      "model_module_version": "2.0.0",
      "model_name": "HTMLModel",
      "state": {
       "layout": "IPY_MODEL_371a0781dc3a4f619af911420a311cd6",
       "style": "IPY_MODEL_5dffcaf1fac8478da7cae7d6f09bde60",
       "value": "Epoch 5: 100%"
      }
     },
     "17bf2e42d0f2467cb781b824e827e028": {
      "model_module": "@jupyter-widgets/controls",
      "model_module_version": "2.0.0",
      "model_name": "ProgressStyleModel",
      "state": {
       "description_width": ""
      }
     },
     "1805fda90c5248dfa4fbd0b6fc5faea0": {
      "model_module": "@jupyter-widgets/base",
      "model_module_version": "2.0.0",
      "model_name": "LayoutModel",
      "state": {}
     },
     "1855481993a04d1994a1e67c384d5e00": {
      "model_module": "@jupyter-widgets/controls",
      "model_module_version": "2.0.0",
      "model_name": "HBoxModel",
      "state": {
       "children": [
        "IPY_MODEL_f355e596ddc94832a861712a803e6788",
        "IPY_MODEL_e0d3d775c1a34f22b66ce0c1c2b66de3",
        "IPY_MODEL_018fb28fe2864c5d8a25f2a02b220086"
       ],
       "layout": "IPY_MODEL_859ae62bedc14d0e8a56cc0d6bc8ee93"
      }
     },
     "185f92d7edcc4d378efa41d6542e3c95": {
      "model_module": "@jupyter-widgets/controls",
      "model_module_version": "2.0.0",
      "model_name": "HTMLModel",
      "state": {
       "layout": "IPY_MODEL_8df41f4d11804b59a96763f17676f084",
       "style": "IPY_MODEL_dae21eb1feab490599396165977aac94",
       "value": " 1/1 [00:00&lt;00:00, 82.98it/s]"
      }
     },
     "1864d105ad6240b38ef5352198bb7015": {
      "model_module": "@jupyter-widgets/controls",
      "model_module_version": "2.0.0",
      "model_name": "HBoxModel",
      "state": {
       "children": [
        "IPY_MODEL_cc5479ffc99b404f9eebe7057609eb8f",
        "IPY_MODEL_f2830ea41cf94f5ab94bf90c8e1a6427",
        "IPY_MODEL_f8dcf8c403704e3a983d3dbe08d548a8"
       ],
       "layout": "IPY_MODEL_7c82fb3452e04cf3bd4d818caf626023"
      }
     },
     "1889f25cd43047e581fb3c885bce78d7": {
      "model_module": "@jupyter-widgets/controls",
      "model_module_version": "2.0.0",
      "model_name": "FloatProgressModel",
      "state": {
       "bar_style": "success",
       "layout": "IPY_MODEL_1ec28050d2184cd3a952cbcdb93bcdb6",
       "max": 1,
       "style": "IPY_MODEL_b4f534c3f26347afbc017d769c19861e",
       "value": 1
      }
     },
     "18929d321134457da3751092de15f02b": {
      "model_module": "@jupyter-widgets/controls",
      "model_module_version": "2.0.0",
      "model_name": "HTMLStyleModel",
      "state": {
       "description_width": "",
       "font_size": null,
       "text_color": null
      }
     },
     "189748719bf9449fb94bc79dd8b79e71": {
      "model_module": "@jupyter-widgets/controls",
      "model_module_version": "2.0.0",
      "model_name": "ProgressStyleModel",
      "state": {
       "description_width": ""
      }
     },
     "18bbef9ccaf0444e88484d7eb96d9e62": {
      "model_module": "@jupyter-widgets/controls",
      "model_module_version": "2.0.0",
      "model_name": "HTMLStyleModel",
      "state": {
       "description_width": "",
       "font_size": null,
       "text_color": null
      }
     },
     "18dabe14922d443e9ed7efa5c4350b3c": {
      "model_module": "@jupyter-widgets/base",
      "model_module_version": "2.0.0",
      "model_name": "LayoutModel",
      "state": {}
     },
     "18e244ee34074206a519611a0f2eba89": {
      "model_module": "@jupyter-widgets/base",
      "model_module_version": "2.0.0",
      "model_name": "LayoutModel",
      "state": {
       "display": "inline-flex",
       "flex_flow": "row wrap",
       "width": "100%"
      }
     },
     "18f3868d316645f6a1a21ef46ec5831b": {
      "model_module": "@jupyter-widgets/controls",
      "model_module_version": "2.0.0",
      "model_name": "HTMLModel",
      "state": {
       "layout": "IPY_MODEL_b6cda9b1274546629c12a1e6bcd02784",
       "style": "IPY_MODEL_2f7a0a6a5ba74eac9cc0d9297444544b",
       "value": "  0%"
      }
     },
     "190fae7a2c574665b87559e4c17d14c3": {
      "model_module": "@jupyter-widgets/base",
      "model_module_version": "2.0.0",
      "model_name": "LayoutModel",
      "state": {}
     },
     "193ff2f05a67420b8fd3e2a917745d11": {
      "model_module": "@jupyter-widgets/controls",
      "model_module_version": "2.0.0",
      "model_name": "HTMLModel",
      "state": {
       "layout": "IPY_MODEL_7aee721932a840a5af9e86e9c6975107",
       "style": "IPY_MODEL_1b774e00156b47279cd10de356783d1e",
       "value": " 53/80 [18:47&lt;09:34, 21.28s/it, loss=12.4, v_num=34, MAE=157.0, RMSE=253.0, Loss=11.30, RegLoss=0.000]"
      }
     },
     "194413b53c614496b8763bffe48418e3": {
      "model_module": "@jupyter-widgets/controls",
      "model_module_version": "2.0.0",
      "model_name": "HTMLModel",
      "state": {
       "layout": "IPY_MODEL_b83587da13294a98887bc755b3d9803d",
       "style": "IPY_MODEL_d21e6aa7f6bf46a7b25c83b96c6a80c9",
       "value": " 5/5 [00:00&lt;00:00, 18.31it/s, loss=0.135, v_num=85, MAE=3.800, RMSE=4.820, Loss=0.136, RegLoss=0.0837]"
      }
     },
     "194c848312244cf8923e0fd2b576911b": {
      "model_module": "@jupyter-widgets/controls",
      "model_module_version": "2.0.0",
      "model_name": "ProgressStyleModel",
      "state": {
       "description_width": ""
      }
     },
     "195859fb490d4890b631defbe81089a7": {
      "model_module": "@jupyter-widgets/controls",
      "model_module_version": "2.0.0",
      "model_name": "HTMLStyleModel",
      "state": {
       "description_width": "",
       "font_size": null,
       "text_color": null
      }
     },
     "195ad70ff6fd45cc8fd7b0a0499dede9": {
      "model_module": "@jupyter-widgets/controls",
      "model_module_version": "2.0.0",
      "model_name": "HTMLStyleModel",
      "state": {
       "description_width": "",
       "font_size": null,
       "text_color": null
      }
     },
     "196e7d1ddaae4946ab6fc245ea406530": {
      "model_module": "@jupyter-widgets/controls",
      "model_module_version": "2.0.0",
      "model_name": "HTMLStyleModel",
      "state": {
       "description_width": "",
       "font_size": null,
       "text_color": null
      }
     },
     "196fbbffdcb34a949ea48582ebb60157": {
      "model_module": "@jupyter-widgets/base",
      "model_module_version": "2.0.0",
      "model_name": "LayoutModel",
      "state": {
       "flex": "2"
      }
     },
     "197d2cd878184be99eac32d5fe6c10b4": {
      "model_module": "@jupyter-widgets/controls",
      "model_module_version": "2.0.0",
      "model_name": "HTMLStyleModel",
      "state": {
       "description_width": "",
       "font_size": null,
       "text_color": null
      }
     },
     "198045f94a2442edb558bfdb373afb9e": {
      "model_module": "@jupyter-widgets/base",
      "model_module_version": "2.0.0",
      "model_name": "LayoutModel",
      "state": {}
     },
     "19a3a282470c406c9f27bc9463b1882d": {
      "model_module": "@jupyter-widgets/controls",
      "model_module_version": "2.0.0",
      "model_name": "ProgressStyleModel",
      "state": {
       "description_width": ""
      }
     },
     "19b0b96b5282456b83a77c2f2bc76034": {
      "model_module": "@jupyter-widgets/base",
      "model_module_version": "2.0.0",
      "model_name": "LayoutModel",
      "state": {}
     },
     "19b98e709c5847d9a9dd17a8db5908c0": {
      "model_module": "@jupyter-widgets/base",
      "model_module_version": "2.0.0",
      "model_name": "LayoutModel",
      "state": {
       "display": "inline-flex",
       "flex_flow": "row wrap",
       "width": "100%"
      }
     },
     "19d65bf9e1e24e07ac9da851c2c6fcd6": {
      "model_module": "@jupyter-widgets/base",
      "model_module_version": "2.0.0",
      "model_name": "LayoutModel",
      "state": {}
     },
     "19e1eb19e2a143d2b005bccac5b7000f": {
      "model_module": "@jupyter-widgets/base",
      "model_module_version": "2.0.0",
      "model_name": "LayoutModel",
      "state": {}
     },
     "19f135cd46eb4c05804b5bbb02cd3f43": {
      "model_module": "@jupyter-widgets/controls",
      "model_module_version": "2.0.0",
      "model_name": "HTMLStyleModel",
      "state": {
       "description_width": "",
       "font_size": null,
       "text_color": null
      }
     },
     "1a0be0caa6fe42559a45c52a389a067b": {
      "model_module": "@jupyter-widgets/controls",
      "model_module_version": "2.0.0",
      "model_name": "HTMLModel",
      "state": {
       "layout": "IPY_MODEL_273734bde0a14f8693a15ba31d9c51e6",
       "style": "IPY_MODEL_70c726f1c6fa4eccbc00d0302f9ab7f3",
       "value": "  0%"
      }
     },
     "1a2968d4cb6d42b3b672c1595a993cda": {
      "model_module": "@jupyter-widgets/controls",
      "model_module_version": "2.0.0",
      "model_name": "HTMLModel",
      "state": {
       "layout": "IPY_MODEL_9e19379973d746c8bafb4dab056beb6c",
       "style": "IPY_MODEL_67b7fc2c1616476e9fd005cb5f36ea5f",
       "value": "Best trial: 0. Best value: 5.00862: 100%"
      }
     },
     "1a2aad1ae5d4460cb296c77f9a267b03": {
      "model_module": "@jupyter-widgets/controls",
      "model_module_version": "2.0.0",
      "model_name": "HTMLModel",
      "state": {
       "layout": "IPY_MODEL_f38797cb5151466f8d5809a4a233772a",
       "style": "IPY_MODEL_d1a0f8a7c689440e8d3305b2a5cfd1b4",
       "value": "Epoch 9:  11%"
      }
     },
     "1a58008c80774d3e919d75845001b411": {
      "model_module": "@jupyter-widgets/controls",
      "model_module_version": "2.0.0",
      "model_name": "HTMLStyleModel",
      "state": {
       "description_width": "",
       "font_size": null,
       "text_color": null
      }
     },
     "1a663f71446b4172be92867131c7ef59": {
      "model_module": "@jupyter-widgets/base",
      "model_module_version": "2.0.0",
      "model_name": "LayoutModel",
      "state": {
       "flex": "2"
      }
     },
     "1a7aa24557ca47bdb4ff8400f7f77695": {
      "model_module": "@jupyter-widgets/controls",
      "model_module_version": "2.0.0",
      "model_name": "HTMLModel",
      "state": {
       "layout": "IPY_MODEL_b8833ac36e6342b4b6efe3676f1c9f15",
       "style": "IPY_MODEL_973737d30dba422b8407292494487daf",
       "value": "Testing DataLoader 0: 100%"
      }
     },
     "1aaff77c1f264cf292b2f5edfcd422c6": {
      "model_module": "@jupyter-widgets/controls",
      "model_module_version": "2.0.0",
      "model_name": "HTMLModel",
      "state": {
       "layout": "IPY_MODEL_9d1102e542b8460e9cc7767a3d6c7c60",
       "style": "IPY_MODEL_f604902c0f604b3cbe63bf8adcbda2a9",
       "value": "Epoch 53:  66%"
      }
     },
     "1ac0a451a34544ce9889fabfb380cab0": {
      "model_module": "@jupyter-widgets/base",
      "model_module_version": "2.0.0",
      "model_name": "LayoutModel",
      "state": {}
     },
     "1ac906007b38408584a5514746eeced8": {
      "model_module": "@jupyter-widgets/controls",
      "model_module_version": "2.0.0",
      "model_name": "HTMLModel",
      "state": {
       "layout": "IPY_MODEL_d9acb3cd066c4084acc62ab8c2dd15c9",
       "style": "IPY_MODEL_f01d6aad41f440638ed06a31b0d74831",
       "value": "Epoch 80: 100%"
      }
     },
     "1af23fe34c2244b5a7ff8c5c3ae95bae": {
      "model_module": "@jupyter-widgets/controls",
      "model_module_version": "2.0.0",
      "model_name": "ProgressStyleModel",
      "state": {
       "description_width": ""
      }
     },
     "1afcd168200f451eb836de968cd472a4": {
      "model_module": "@jupyter-widgets/controls",
      "model_module_version": "2.0.0",
      "model_name": "HTMLStyleModel",
      "state": {
       "description_width": "",
       "font_size": null,
       "text_color": null
      }
     },
     "1b00934df5954a16ba1a055a4337fea2": {
      "model_module": "@jupyter-widgets/controls",
      "model_module_version": "2.0.0",
      "model_name": "HTMLStyleModel",
      "state": {
       "description_width": "",
       "font_size": null,
       "text_color": null
      }
     },
     "1b4fe3ca93574766884db8f6b98c5260": {
      "model_module": "@jupyter-widgets/controls",
      "model_module_version": "2.0.0",
      "model_name": "FloatProgressModel",
      "state": {
       "layout": "IPY_MODEL_f547f0545267474b937b5bc90df33399",
       "max": 80,
       "style": "IPY_MODEL_a3fbc84403a44b0f8708ecc7d117cad2",
       "value": 9
      }
     },
     "1b774e00156b47279cd10de356783d1e": {
      "model_module": "@jupyter-widgets/controls",
      "model_module_version": "2.0.0",
      "model_name": "HTMLStyleModel",
      "state": {
       "description_width": "",
       "font_size": null,
       "text_color": null
      }
     },
     "1b7beed1e67f47d1a961ede213be7059": {
      "model_module": "@jupyter-widgets/controls",
      "model_module_version": "2.0.0",
      "model_name": "ProgressStyleModel",
      "state": {
       "description_width": ""
      }
     },
     "1b8010e95be0430bb25ab120040df48f": {
      "model_module": "@jupyter-widgets/controls",
      "model_module_version": "2.0.0",
      "model_name": "HBoxModel",
      "state": {
       "children": [
        "IPY_MODEL_0c5b8f6144374fd4b281584960c428ca",
        "IPY_MODEL_2032458e98fe4203a0ebae6c0392a297",
        "IPY_MODEL_38a24eb2cf9d46eb991e5af0f776fc24"
       ],
       "layout": "IPY_MODEL_346d7023a1744d70bfc6d0900334f27a"
      }
     },
     "1b8a9efb771e4cc78361941c7942fd5b": {
      "model_module": "@jupyter-widgets/controls",
      "model_module_version": "2.0.0",
      "model_name": "ProgressStyleModel",
      "state": {
       "description_width": ""
      }
     },
     "1b9654572cf5405e9ab9700e905d066c": {
      "model_module": "@jupyter-widgets/controls",
      "model_module_version": "2.0.0",
      "model_name": "HBoxModel",
      "state": {
       "children": [
        "IPY_MODEL_490d0d7de0ae45af9315d3cfcc73921f",
        "IPY_MODEL_12c98669454a4e209bb55c04cdc1b9a4",
        "IPY_MODEL_40c0b8fa0e554eb394854326d90f0796"
       ],
       "layout": "IPY_MODEL_eac84b86a050468eb88438295784cf34"
      }
     },
     "1bc4e0a6737a44e8bb8cda823c0cfcad": {
      "model_module": "@jupyter-widgets/base",
      "model_module_version": "2.0.0",
      "model_name": "LayoutModel",
      "state": {}
     },
     "1bdfb0dcbed1495ea4dfe9ae101c61bf": {
      "model_module": "@jupyter-widgets/controls",
      "model_module_version": "2.0.0",
      "model_name": "HTMLStyleModel",
      "state": {
       "description_width": "",
       "font_size": null,
       "text_color": null
      }
     },
     "1befdb808ecf4e10b0876215934c8922": {
      "model_module": "@jupyter-widgets/controls",
      "model_module_version": "2.0.0",
      "model_name": "FloatProgressModel",
      "state": {
       "bar_style": "success",
       "layout": "IPY_MODEL_5b957341f8e24e7cb6382b9faf849e4f",
       "max": 80,
       "style": "IPY_MODEL_aec003b19ed04219b5104cec9dc8d50d",
       "value": 80
      }
     },
     "1bf0aadc9948448286b3afa1b201991f": {
      "model_module": "@jupyter-widgets/controls",
      "model_module_version": "2.0.0",
      "model_name": "HTMLStyleModel",
      "state": {
       "description_width": "",
       "font_size": null,
       "text_color": null
      }
     },
     "1bff3f7ef05447fb9e7d44f3a7b33065": {
      "model_module": "@jupyter-widgets/base",
      "model_module_version": "2.0.0",
      "model_name": "LayoutModel",
      "state": {}
     },
     "1c0bb075e1bc4895b892c39dbedd6e9d": {
      "model_module": "@jupyter-widgets/controls",
      "model_module_version": "2.0.0",
      "model_name": "FloatProgressModel",
      "state": {
       "bar_style": "danger",
       "layout": "IPY_MODEL_261505e4932f4a60b4dc84c44e806acc",
       "max": 10,
       "style": "IPY_MODEL_ea30750024b94fb69c65be89fdaadc5f"
      }
     },
     "1c2289835a3b4cf0b4e290636a2cbacf": {
      "model_module": "@jupyter-widgets/base",
      "model_module_version": "2.0.0",
      "model_name": "LayoutModel",
      "state": {}
     },
     "1c308e44f5d242088ed9a4f9a67c05c6": {
      "model_module": "@jupyter-widgets/base",
      "model_module_version": "2.0.0",
      "model_name": "LayoutModel",
      "state": {
       "flex": "2"
      }
     },
     "1c38c8e340ed4a01acd1c2f3bf79a8c9": {
      "model_module": "@jupyter-widgets/base",
      "model_module_version": "2.0.0",
      "model_name": "LayoutModel",
      "state": {
       "flex": "2"
      }
     },
     "1c456fdeeb684866a1352f533c8125e3": {
      "model_module": "@jupyter-widgets/controls",
      "model_module_version": "2.0.0",
      "model_name": "HTMLModel",
      "state": {
       "layout": "IPY_MODEL_1654f80bbfdf4bc591b2221695773785",
       "style": "IPY_MODEL_211c9c1a094e45c58404a5ad78bdd33f",
       "value": "Testing DataLoader 0: 100%"
      }
     },
     "1c4e73021f3c48fe8d04ca8149500f83": {
      "model_module": "@jupyter-widgets/controls",
      "model_module_version": "2.0.0",
      "model_name": "HTMLModel",
      "state": {
       "layout": "IPY_MODEL_098222fcaa224248b80c7765f45dd53d",
       "style": "IPY_MODEL_0b29976dbe204efc97a4ae2879e2930a",
       "value": "Testing DataLoader 0: 100%"
      }
     },
     "1c5ecffc6c2d4eefbb3c7d61cf135eba": {
      "model_module": "@jupyter-widgets/base",
      "model_module_version": "2.0.0",
      "model_name": "LayoutModel",
      "state": {
       "display": "inline-flex",
       "flex_flow": "row wrap",
       "width": "100%"
      }
     },
     "1c666adc9aa04ab18b982a5319b90927": {
      "model_module": "@jupyter-widgets/base",
      "model_module_version": "2.0.0",
      "model_name": "LayoutModel",
      "state": {}
     },
     "1c692c92bedf4085bb3cae050d81bb13": {
      "model_module": "@jupyter-widgets/controls",
      "model_module_version": "2.0.0",
      "model_name": "HTMLModel",
      "state": {
       "layout": "IPY_MODEL_40ead5cbf8f24b65aa55eed82b6fca5f",
       "style": "IPY_MODEL_207f9186fa0549fab7c7b1b5bbc1638b",
       "value": " 0/10 [01:04&lt;?, ?it/s]"
      }
     },
     "1cba9eefc774483fadef87fe012d3083": {
      "model_module": "@jupyter-widgets/base",
      "model_module_version": "2.0.0",
      "model_name": "LayoutModel",
      "state": {}
     },
     "1cbb23026d734f99bdb8ae894598c5c3": {
      "model_module": "@jupyter-widgets/controls",
      "model_module_version": "2.0.0",
      "model_name": "HTMLModel",
      "state": {
       "layout": "IPY_MODEL_6bd9bd5cb43e49bba9765711ff3b206b",
       "style": "IPY_MODEL_3995c17808974345ab58756d0f19d048",
       "value": " 1/1 [00:00&lt;00:00, 86.51it/s]"
      }
     },
     "1ccf3b40f18b4de68290a3d76f32b7aa": {
      "model_module": "@jupyter-widgets/controls",
      "model_module_version": "2.0.0",
      "model_name": "FloatProgressModel",
      "state": {
       "bar_style": "success",
       "layout": "IPY_MODEL_0dbb18adba8c4bb18d6ce8dbd6be6c0f",
       "max": 80,
       "style": "IPY_MODEL_704b553723404705b849befbece66112",
       "value": 80
      }
     },
     "1d02b5a2d659419dae52ba6acc411fe1": {
      "model_module": "@jupyter-widgets/controls",
      "model_module_version": "2.0.0",
      "model_name": "HTMLStyleModel",
      "state": {
       "description_width": "",
       "font_size": null,
       "text_color": null
      }
     },
     "1d169068cc9b4535bb996c1127c83ca1": {
      "model_module": "@jupyter-widgets/controls",
      "model_module_version": "2.0.0",
      "model_name": "HBoxModel",
      "state": {
       "children": [
        "IPY_MODEL_7cb7b5d905a64e218f7d9173318d1821",
        "IPY_MODEL_149bd039b31941319545ea5acbb278a6",
        "IPY_MODEL_4565df0e99bc4f2187c4d666a9d30df4"
       ],
       "layout": "IPY_MODEL_f6820ddefc2b4cb899a13a32cbddd9fd"
      }
     },
     "1d31663b52da434fbbe9857196890a1b": {
      "model_module": "@jupyter-widgets/base",
      "model_module_version": "2.0.0",
      "model_name": "LayoutModel",
      "state": {}
     },
     "1d34054dde6c45e5962fd6c338cb7cc4": {
      "model_module": "@jupyter-widgets/base",
      "model_module_version": "2.0.0",
      "model_name": "LayoutModel",
      "state": {
       "display": "inline-flex",
       "flex_flow": "row wrap",
       "width": "100%"
      }
     },
     "1d34d03392444928b771ac8589d501b2": {
      "model_module": "@jupyter-widgets/base",
      "model_module_version": "2.0.0",
      "model_name": "LayoutModel",
      "state": {
       "flex": "2"
      }
     },
     "1d41247f6b214ed9bfae6eb6980f4f3f": {
      "model_module": "@jupyter-widgets/base",
      "model_module_version": "2.0.0",
      "model_name": "LayoutModel",
      "state": {}
     },
     "1d6414a039554f75af06f61fb165afe1": {
      "model_module": "@jupyter-widgets/controls",
      "model_module_version": "2.0.0",
      "model_name": "HBoxModel",
      "state": {
       "children": [
        "IPY_MODEL_1c456fdeeb684866a1352f533c8125e3",
        "IPY_MODEL_a9b9ded3f18047518dfdd3390ac61f6d",
        "IPY_MODEL_8ff475c1c580488e8584891de5449d53"
       ],
       "layout": "IPY_MODEL_1e1421bd74cc45039b30699505563cc3"
      }
     },
     "1dd7c030933d4a36a72039ba41545485": {
      "model_module": "@jupyter-widgets/base",
      "model_module_version": "2.0.0",
      "model_name": "LayoutModel",
      "state": {}
     },
     "1e1421bd74cc45039b30699505563cc3": {
      "model_module": "@jupyter-widgets/base",
      "model_module_version": "2.0.0",
      "model_name": "LayoutModel",
      "state": {
       "display": "inline-flex",
       "flex_flow": "row wrap",
       "width": "100%"
      }
     },
     "1e271f2898cd4631866580bb5a5f927e": {
      "model_module": "@jupyter-widgets/controls",
      "model_module_version": "2.0.0",
      "model_name": "HTMLModel",
      "state": {
       "layout": "IPY_MODEL_12437dabf66647e6a075ed6715fb9809",
       "style": "IPY_MODEL_c71d9584263c45b3b070b541f29eba9f",
       "value": " 1/1 [00:00&lt;00:00, 256.91it/s]"
      }
     },
     "1e326999496147099530df23fae92ee0": {
      "model_module": "@jupyter-widgets/base",
      "model_module_version": "2.0.0",
      "model_name": "LayoutModel",
      "state": {}
     },
     "1e662d6be96448e18153b19aba440fd4": {
      "model_module": "@jupyter-widgets/base",
      "model_module_version": "2.0.0",
      "model_name": "LayoutModel",
      "state": {}
     },
     "1e9088daa1b04517b93f678a9994e9d5": {
      "model_module": "@jupyter-widgets/base",
      "model_module_version": "2.0.0",
      "model_name": "LayoutModel",
      "state": {}
     },
     "1ebe26fc2412408fa968376250dccdce": {
      "model_module": "@jupyter-widgets/base",
      "model_module_version": "2.0.0",
      "model_name": "LayoutModel",
      "state": {}
     },
     "1ebe44b61ebc4d489c0f73078ef74c0b": {
      "model_module": "@jupyter-widgets/controls",
      "model_module_version": "2.0.0",
      "model_name": "HTMLModel",
      "state": {
       "layout": "IPY_MODEL_527b6884a4c44c74ac5924c29ede6d0b",
       "style": "IPY_MODEL_fb74058ff43c40be9048315fc16f676d",
       "value": " 1/1 [00:00&lt;00:00, 88.02it/s]"
      }
     },
     "1ec28050d2184cd3a952cbcdb93bcdb6": {
      "model_module": "@jupyter-widgets/base",
      "model_module_version": "2.0.0",
      "model_name": "LayoutModel",
      "state": {
       "flex": "2"
      }
     },
     "1ec45c6fbb724a9c9a0679cefd7e5d9a": {
      "model_module": "@jupyter-widgets/controls",
      "model_module_version": "2.0.0",
      "model_name": "FloatProgressModel",
      "state": {
       "bar_style": "danger",
       "layout": "IPY_MODEL_d3104472b996414090f0069ec448008c",
       "max": 80,
       "style": "IPY_MODEL_9a6a68bfe8044e5186bdcb8663cfd2c1",
       "value": 74
      }
     },
     "1f063e5855a54306aa46ceb0b6c124bf": {
      "model_module": "@jupyter-widgets/controls",
      "model_module_version": "2.0.0",
      "model_name": "HBoxModel",
      "state": {
       "children": [
        "IPY_MODEL_1a2aad1ae5d4460cb296c77f9a267b03",
        "IPY_MODEL_2de36642032e4234b46c05110f6fc776",
        "IPY_MODEL_f4c24e6cf67d48c58a4be2257b71d799"
       ],
       "layout": "IPY_MODEL_43658c8c0092489b824d449ab437a6e0"
      }
     },
     "1f17c3a60d7c44ac84024019791836d1": {
      "model_module": "@jupyter-widgets/base",
      "model_module_version": "2.0.0",
      "model_name": "LayoutModel",
      "state": {}
     },
     "1f4f023ecce34b44be5dc731f329df9a": {
      "model_module": "@jupyter-widgets/controls",
      "model_module_version": "2.0.0",
      "model_name": "HTMLStyleModel",
      "state": {
       "description_width": "",
       "font_size": null,
       "text_color": null
      }
     },
     "1f55449c97d2413f835b385da2bf8506": {
      "model_module": "@jupyter-widgets/base",
      "model_module_version": "2.0.0",
      "model_name": "LayoutModel",
      "state": {
       "display": "inline-flex",
       "flex_flow": "row wrap",
       "width": "100%"
      }
     },
     "1f673ad642ee4b51b5e5ff5d91f19926": {
      "model_module": "@jupyter-widgets/base",
      "model_module_version": "2.0.0",
      "model_name": "LayoutModel",
      "state": {}
     },
     "1f8855ca70f849c9a400426dc4bcb555": {
      "model_module": "@jupyter-widgets/controls",
      "model_module_version": "2.0.0",
      "model_name": "FloatProgressModel",
      "state": {
       "bar_style": "success",
       "layout": "IPY_MODEL_e70e69a3f14f4525aace264d72866822",
       "max": 80,
       "style": "IPY_MODEL_2ff6054971ac4a1c83a6bbedac902cfa",
       "value": 80
      }
     },
     "1f8e3d5b63cc47c2acd61b9ef55a64bf": {
      "model_module": "@jupyter-widgets/controls",
      "model_module_version": "2.0.0",
      "model_name": "HTMLModel",
      "state": {
       "layout": "IPY_MODEL_c2c54750b29d4762b8f37b613ccccd25",
       "style": "IPY_MODEL_56dcdcdb6516461fbda5e800f233d4a0",
       "value": " 5/5 [00:00&lt;00:00, 18.28it/s, loss=0.177, v_num=75, MAE=3.830, RMSE=4.880, Loss=0.179, RegLoss=0.120]"
      }
     },
     "1fa034b6d25e42688cdb21392af233fe": {
      "model_module": "@jupyter-widgets/controls",
      "model_module_version": "2.0.0",
      "model_name": "ProgressStyleModel",
      "state": {
       "description_width": ""
      }
     },
     "1fc44cf952734afb92e459989b1d875a": {
      "model_module": "@jupyter-widgets/controls",
      "model_module_version": "2.0.0",
      "model_name": "FloatProgressModel",
      "state": {
       "bar_style": "success",
       "layout": "IPY_MODEL_7394622d675446ffa36a64dbf12b4e5f",
       "max": 1,
       "style": "IPY_MODEL_63c081b5251b470c8d0925cce294e942",
       "value": 1
      }
     },
     "1fcc6028fe3a4a6e9424a853f549af4f": {
      "model_module": "@jupyter-widgets/controls",
      "model_module_version": "2.0.0",
      "model_name": "FloatProgressModel",
      "state": {
       "bar_style": "success",
       "layout": "IPY_MODEL_dc3e2debee4c4e94aad018fb76ae688a",
       "max": 1,
       "style": "IPY_MODEL_a83625a2363f49c5ba8f7cfc8c51daa4",
       "value": 1
      }
     },
     "20145183ad374fef8e15458c40fc3158": {
      "model_module": "@jupyter-widgets/controls",
      "model_module_version": "2.0.0",
      "model_name": "FloatProgressModel",
      "state": {
       "bar_style": "danger",
       "layout": "IPY_MODEL_620e1e6d1244497b8f3bd9f00f376d81",
       "max": 10,
       "style": "IPY_MODEL_b687402338a7447891e6f2e2dd65b221",
       "value": 3
      }
     },
     "2029b0a7506c42e3963955d331334fbd": {
      "model_module": "@jupyter-widgets/controls",
      "model_module_version": "2.0.0",
      "model_name": "HTMLModel",
      "state": {
       "layout": "IPY_MODEL_b58d89dff0b04a1ba88b48ba0179a1c0",
       "style": "IPY_MODEL_72d46b4be7cc493bbb97fc54fe7c61e8",
       "value": "Epoch 4:  80%"
      }
     },
     "2032458e98fe4203a0ebae6c0392a297": {
      "model_module": "@jupyter-widgets/controls",
      "model_module_version": "2.0.0",
      "model_name": "FloatProgressModel",
      "state": {
       "bar_style": "success",
       "layout": "IPY_MODEL_bbf9ef2834454e8fba1d8885c8acb0bb",
       "max": 1,
       "style": "IPY_MODEL_aad383c28516456c91a89febb67224ac",
       "value": 1
      }
     },
     "204d22ae370c49839767cc280993a317": {
      "model_module": "@jupyter-widgets/controls",
      "model_module_version": "2.0.0",
      "model_name": "HTMLModel",
      "state": {
       "layout": "IPY_MODEL_6ddc1fc58a154387a3b6f7a9607a4bf3",
       "style": "IPY_MODEL_54edaa7a67914848bdebab3c2abe8ed9",
       "value": " 80/80 [00:00&lt;00:00, 265.80it/s, loss=1.2, v_num=23, MAE=20.60, RMSE=29.60, Loss=1.240, RegLoss=0.226]"
      }
     },
     "2054ec38e8224e9594a8396682c87494": {
      "model_module": "@jupyter-widgets/controls",
      "model_module_version": "2.0.0",
      "model_name": "HTMLStyleModel",
      "state": {
       "description_width": "",
       "font_size": null,
       "text_color": null
      }
     },
     "20578676c7614857b0caf0a9e9a3acdf": {
      "model_module": "@jupyter-widgets/controls",
      "model_module_version": "2.0.0",
      "model_name": "FloatProgressModel",
      "state": {
       "bar_style": "danger",
       "layout": "IPY_MODEL_6fdf2c34f325429d8253ef04dd00d260",
       "max": 10,
       "style": "IPY_MODEL_6b0433a96318416eb05bea7bce3e1d8c"
      }
     },
     "207f9186fa0549fab7c7b1b5bbc1638b": {
      "model_module": "@jupyter-widgets/controls",
      "model_module_version": "2.0.0",
      "model_name": "HTMLStyleModel",
      "state": {
       "description_width": "",
       "font_size": null,
       "text_color": null
      }
     },
     "208c783e6ef742dc8e2a659b60b54a2f": {
      "model_module": "@jupyter-widgets/base",
      "model_module_version": "2.0.0",
      "model_name": "LayoutModel",
      "state": {}
     },
     "20d8c1bb13d045198b9b9edbd2dc684e": {
      "model_module": "@jupyter-widgets/controls",
      "model_module_version": "2.0.0",
      "model_name": "HBoxModel",
      "state": {
       "children": [
        "IPY_MODEL_e194e2f8321043109bb021248e32b32e",
        "IPY_MODEL_df715766bb98470bba676bd114b78663",
        "IPY_MODEL_28af14a7ecae4106882a65101ca76913"
       ],
       "layout": "IPY_MODEL_e0c281cf9640497881e8cefeadf95f3a"
      }
     },
     "20de8559d13440178111052404b3dad1": {
      "model_module": "@jupyter-widgets/controls",
      "model_module_version": "2.0.0",
      "model_name": "HTMLStyleModel",
      "state": {
       "description_width": "",
       "font_size": null,
       "text_color": null
      }
     },
     "20e96ad682dc4534b1b5be3493a195fe": {
      "model_module": "@jupyter-widgets/controls",
      "model_module_version": "2.0.0",
      "model_name": "ProgressStyleModel",
      "state": {
       "description_width": ""
      }
     },
     "20e9d50493664ae1b24c79c28695a2b3": {
      "model_module": "@jupyter-widgets/base",
      "model_module_version": "2.0.0",
      "model_name": "LayoutModel",
      "state": {}
     },
     "20fad522d06d46b4ba3fc374f0cf2f64": {
      "model_module": "@jupyter-widgets/controls",
      "model_module_version": "2.0.0",
      "model_name": "HBoxModel",
      "state": {
       "children": [
        "IPY_MODEL_572ed601c7054551b10d50a4214db35e",
        "IPY_MODEL_c899549c846d41b9ab1af8f8d016d9f2",
        "IPY_MODEL_858297fd2bac47ff9c9d01ff9bcdc314"
       ],
       "layout": "IPY_MODEL_2bd95cf892124d35b33a4a119dc92fe8"
      }
     },
     "211c9c1a094e45c58404a5ad78bdd33f": {
      "model_module": "@jupyter-widgets/controls",
      "model_module_version": "2.0.0",
      "model_name": "HTMLStyleModel",
      "state": {
       "description_width": "",
       "font_size": null,
       "text_color": null
      }
     },
     "2129a97fe30648e6851e3dc928c7355e": {
      "model_module": "@jupyter-widgets/controls",
      "model_module_version": "2.0.0",
      "model_name": "HTMLModel",
      "state": {
       "layout": "IPY_MODEL_361469a6e2d043abb60fc8f8db949120",
       "style": "IPY_MODEL_3a5487a85acd4d4fbed83e53bcdb5269",
       "value": "Epoch 1:   1%"
      }
     },
     "21424c967cbc41059c8cad624c6e7eaf": {
      "model_module": "@jupyter-widgets/controls",
      "model_module_version": "2.0.0",
      "model_name": "ProgressStyleModel",
      "state": {
       "description_width": ""
      }
     },
     "214f6414c5e146c087d0e95263b1c5a0": {
      "model_module": "@jupyter-widgets/base",
      "model_module_version": "2.0.0",
      "model_name": "LayoutModel",
      "state": {
       "flex": "2"
      }
     },
     "219f0d21b8a442759b684b628a8ed963": {
      "model_module": "@jupyter-widgets/base",
      "model_module_version": "2.0.0",
      "model_name": "LayoutModel",
      "state": {}
     },
     "21b118cc1edb4539ba4b95d962c807fe": {
      "model_module": "@jupyter-widgets/controls",
      "model_module_version": "2.0.0",
      "model_name": "HTMLModel",
      "state": {
       "layout": "IPY_MODEL_6ccc3c3833c04134af22937f8839e396",
       "style": "IPY_MODEL_571fcc3dbc5a428eb40c4983f2dc3d1d",
       "value": " 1/1 [00:00&lt;00:00, 91.20it/s]"
      }
     },
     "21f22b824bae43b9b4834eac7a1576f6": {
      "model_module": "@jupyter-widgets/controls",
      "model_module_version": "2.0.0",
      "model_name": "ProgressStyleModel",
      "state": {
       "description_width": ""
      }
     },
     "220fe309318c4c36b7e2ea5f3f2faa86": {
      "model_module": "@jupyter-widgets/controls",
      "model_module_version": "2.0.0",
      "model_name": "HTMLModel",
      "state": {
       "layout": "IPY_MODEL_b903be8930fd496db4c9eba34fe2e30c",
       "style": "IPY_MODEL_e5c76d6faa494b7e85ad5f06181bc6e6",
       "value": " 1/1 [00:00&lt;00:00, 112.86it/s]"
      }
     },
     "222019c00df042f8897af2e4e3ae163a": {
      "model_module": "@jupyter-widgets/base",
      "model_module_version": "2.0.0",
      "model_name": "LayoutModel",
      "state": {}
     },
     "2223e0d7214243669ecf0e134eb7ef32": {
      "model_module": "@jupyter-widgets/controls",
      "model_module_version": "2.0.0",
      "model_name": "HTMLStyleModel",
      "state": {
       "description_width": "",
       "font_size": null,
       "text_color": null
      }
     },
     "224f5854e53f48e7ba6795d7a42d9044": {
      "model_module": "@jupyter-widgets/controls",
      "model_module_version": "2.0.0",
      "model_name": "HBoxModel",
      "state": {
       "children": [
        "IPY_MODEL_9d614f6a195744c18fc6f7bff0f44cc8",
        "IPY_MODEL_082cc67c71ac4b0cb852efd3696639a2",
        "IPY_MODEL_8419bd8cef3047f58bfcb80073999054"
       ],
       "layout": "IPY_MODEL_7d5add0d4dd74f0581ce8c2169afd3a1"
      }
     },
     "2259d8872bd245bc88c53a72e36ecac0": {
      "model_module": "@jupyter-widgets/controls",
      "model_module_version": "2.0.0",
      "model_name": "HTMLModel",
      "state": {
       "layout": "IPY_MODEL_3c5682440bf2443b8f55f84c838be4a2",
       "style": "IPY_MODEL_2d01c71b0c0d49f79d72d08b0f2443e4",
       "value": " 80/80 [00:00&lt;00:00, 198.24it/s, loss=29.1]"
      }
     },
     "2272d16b9327450689cc2b3b261a11d3": {
      "model_module": "@jupyter-widgets/controls",
      "model_module_version": "2.0.0",
      "model_name": "ProgressStyleModel",
      "state": {
       "description_width": ""
      }
     },
     "22a2d2dfcac5451e8f4e8a8ad68aafb1": {
      "model_module": "@jupyter-widgets/base",
      "model_module_version": "2.0.0",
      "model_name": "LayoutModel",
      "state": {}
     },
     "22cb88f4f7f44c73a72b545cb44fe852": {
      "model_module": "@jupyter-widgets/base",
      "model_module_version": "2.0.0",
      "model_name": "LayoutModel",
      "state": {}
     },
     "22fa76da27e04e6b839f48aebdd9a01c": {
      "model_module": "@jupyter-widgets/base",
      "model_module_version": "2.0.0",
      "model_name": "LayoutModel",
      "state": {}
     },
     "2311b88765c1451d810785d3e879d836": {
      "model_module": "@jupyter-widgets/controls",
      "model_module_version": "2.0.0",
      "model_name": "FloatProgressModel",
      "state": {
       "bar_style": "danger",
       "layout": "IPY_MODEL_ffdffdbdda0145119a4dd47907c913ff",
       "max": 80,
       "style": "IPY_MODEL_bfee0801546b4ac9920a2150570d3583",
       "value": 53
      }
     },
     "23330d2927ba4f378be7c8c3cb8199f6": {
      "model_module": "@jupyter-widgets/controls",
      "model_module_version": "2.0.0",
      "model_name": "FloatProgressModel",
      "state": {
       "bar_style": "danger",
       "layout": "IPY_MODEL_066d97d262d1403d888a628abdab8056",
       "max": 10,
       "style": "IPY_MODEL_0bfd946195eb47669657efcc7367a483"
      }
     },
     "234a0df230fd4df18f30ffe311c27868": {
      "model_module": "@jupyter-widgets/controls",
      "model_module_version": "2.0.0",
      "model_name": "HTMLModel",
      "state": {
       "layout": "IPY_MODEL_30167509c042491a9aa6a052824009e9",
       "style": "IPY_MODEL_a662ff60522f47198dce6a9d039c1697",
       "value": "Validation DataLoader 0: 100%"
      }
     },
     "23507b52f6cd4ec0989562f3090fe2b6": {
      "model_module": "@jupyter-widgets/controls",
      "model_module_version": "2.0.0",
      "model_name": "FloatProgressModel",
      "state": {
       "bar_style": "success",
       "layout": "IPY_MODEL_b95ba0c068554a8f85297cbf9eaa4a66",
       "max": 80,
       "style": "IPY_MODEL_65db854e485c47aba7339d95363dde5b",
       "value": 80
      }
     },
     "237e8364d9614a8f9c016774ab4d0520": {
      "model_module": "@jupyter-widgets/controls",
      "model_module_version": "2.0.0",
      "model_name": "HTMLStyleModel",
      "state": {
       "description_width": "",
       "font_size": null,
       "text_color": null
      }
     },
     "237e9e844b7b4a82a99a9b2302496876": {
      "model_module": "@jupyter-widgets/controls",
      "model_module_version": "2.0.0",
      "model_name": "HTMLModel",
      "state": {
       "layout": "IPY_MODEL_71606fb044844edabdcd1c95bc0de31e",
       "style": "IPY_MODEL_7fb44c8a86164d3bb14116d20f262750",
       "value": " 0/10 [00:24&lt;?, ?it/s]"
      }
     },
     "239f40c82ab447f581ba89dce95f368e": {
      "model_module": "@jupyter-widgets/controls",
      "model_module_version": "2.0.0",
      "model_name": "HTMLStyleModel",
      "state": {
       "description_width": "",
       "font_size": null,
       "text_color": null
      }
     },
     "23bbcbcdee744effa9e55a6ae4b3072d": {
      "model_module": "@jupyter-widgets/controls",
      "model_module_version": "2.0.0",
      "model_name": "HTMLModel",
      "state": {
       "layout": "IPY_MODEL_d7b9f83ca8e343e0b0ab9ac932f1e563",
       "style": "IPY_MODEL_7a44b58db3ab41f88a12736d15495904",
       "value": "Testing DataLoader 0: 100%"
      }
     },
     "23d1202249fe40fca70a896a82266ca1": {
      "model_module": "@jupyter-widgets/controls",
      "model_module_version": "2.0.0",
      "model_name": "FloatProgressModel",
      "state": {
       "bar_style": "danger",
       "layout": "IPY_MODEL_521a15ee06974644a7a8a1d55d08968a",
       "max": 80,
       "style": "IPY_MODEL_f81214405ffe4d0594e7da78d06314ec",
       "value": 16
      }
     },
     "23ff1c73c2eb428bbde3586de746bbd7": {
      "model_module": "@jupyter-widgets/controls",
      "model_module_version": "2.0.0",
      "model_name": "FloatProgressModel",
      "state": {
       "bar_style": "success",
       "layout": "IPY_MODEL_0f42066f8506489f92527339fbbab2b9",
       "max": 80,
       "style": "IPY_MODEL_e2008e0ce02742eda5ca2561f4fdeeda",
       "value": 80
      }
     },
     "240a430503d44275b5cf6daeaaa0655f": {
      "model_module": "@jupyter-widgets/controls",
      "model_module_version": "2.0.0",
      "model_name": "FloatProgressModel",
      "state": {
       "bar_style": "danger",
       "layout": "IPY_MODEL_3e61a35618b24899957e6b7de168104a",
       "max": 80,
       "style": "IPY_MODEL_91a879bf5034455e941e79ba1ca55f62",
       "value": 3
      }
     },
     "2415b5d0f411496fb3f83e834e2a255c": {
      "model_module": "@jupyter-widgets/controls",
      "model_module_version": "2.0.0",
      "model_name": "HTMLStyleModel",
      "state": {
       "description_width": "",
       "font_size": null,
       "text_color": null
      }
     },
     "2451e78a031d480ab0127e717f9c9efe": {
      "model_module": "@jupyter-widgets/controls",
      "model_module_version": "2.0.0",
      "model_name": "HTMLModel",
      "state": {
       "layout": "IPY_MODEL_25ccac508f1546c0946257c15d938236",
       "style": "IPY_MODEL_26ebd2b932454f90b5fa154d7b1d64c0",
       "value": "Epoch 53:  66%"
      }
     },
     "2456b9365ee241b2b01cb8896789ad3a": {
      "model_module": "@jupyter-widgets/controls",
      "model_module_version": "2.0.0",
      "model_name": "HBoxModel",
      "state": {
       "children": [
        "IPY_MODEL_1a0be0caa6fe42559a45c52a389a067b",
        "IPY_MODEL_25ffa2237ff1423c8bdb450fe7f32eff",
        "IPY_MODEL_8600d402763e404ca7c2e24f9e01db99"
       ],
       "layout": "IPY_MODEL_8fc5bbb6efd14468afcd212d5d53ef14"
      }
     },
     "245e1a4a5cc24bb3bc3736ed2b7548a6": {
      "model_module": "@jupyter-widgets/controls",
      "model_module_version": "2.0.0",
      "model_name": "FloatProgressModel",
      "state": {
       "bar_style": "success",
       "layout": "IPY_MODEL_cf7e7041f71946c0a58372bc23a3ad09",
       "max": 1,
       "style": "IPY_MODEL_f83e9c7c5da24f3db14c8917b67514cb",
       "value": 1
      }
     },
     "2468efcc97dc496dbbc66fe567ed73d5": {
      "model_module": "@jupyter-widgets/controls",
      "model_module_version": "2.0.0",
      "model_name": "FloatProgressModel",
      "state": {
       "bar_style": "success",
       "layout": "IPY_MODEL_d3e3fd870d274ead85149d17036fb7f7",
       "max": 5,
       "style": "IPY_MODEL_bfd6c03d76f64c31a19f09095d01deeb",
       "value": 5
      }
     },
     "24750f6635d848bcb143f2c99d111f50": {
      "model_module": "@jupyter-widgets/controls",
      "model_module_version": "2.0.0",
      "model_name": "HTMLModel",
      "state": {
       "layout": "IPY_MODEL_0a8c81d9bc1a4de9adb4cd911a3b4d60",
       "style": "IPY_MODEL_e528f253301841e2b92cb8516f28f565",
       "value": "Epoch 53:  66%"
      }
     },
     "24a272ae39914916ac3c3879ec80b720": {
      "model_module": "@jupyter-widgets/base",
      "model_module_version": "2.0.0",
      "model_name": "LayoutModel",
      "state": {
       "display": "inline-flex",
       "flex_flow": "row wrap",
       "width": "100%"
      }
     },
     "24ab7b12c8524bc58e80fbcd486145ce": {
      "model_module": "@jupyter-widgets/base",
      "model_module_version": "2.0.0",
      "model_name": "LayoutModel",
      "state": {
       "flex": "2"
      }
     },
     "24ad9445235b44cbb8a32a9482f1eb6b": {
      "model_module": "@jupyter-widgets/base",
      "model_module_version": "2.0.0",
      "model_name": "LayoutModel",
      "state": {
       "flex": "2"
      }
     },
     "24b39a416da74fc18ad2679f4cd25e0b": {
      "model_module": "@jupyter-widgets/base",
      "model_module_version": "2.0.0",
      "model_name": "LayoutModel",
      "state": {
       "flex": "2"
      }
     },
     "24c196cb4b1d400f850185e61ac0159e": {
      "model_module": "@jupyter-widgets/controls",
      "model_module_version": "2.0.0",
      "model_name": "HTMLModel",
      "state": {
       "layout": "IPY_MODEL_dcfa8b7e5aa34a8dad8c26a1197eb58e",
       "style": "IPY_MODEL_633b4eba8fe446d18407e07cea05944e",
       "value": "  0%"
      }
     },
     "24d6379b639e4354b5a37f1f002b2e3c": {
      "model_module": "@jupyter-widgets/controls",
      "model_module_version": "2.0.0",
      "model_name": "FloatProgressModel",
      "state": {
       "layout": "IPY_MODEL_1035aa346aea4d11890d46f25ba768f2",
       "max": 1,
       "style": "IPY_MODEL_1626070f82274603bb936a7d9604cc06",
       "value": 1
      }
     },
     "253b0648148f40049f635df70ef3f472": {
      "model_module": "@jupyter-widgets/base",
      "model_module_version": "2.0.0",
      "model_name": "LayoutModel",
      "state": {
       "flex": "2"
      }
     },
     "2542765dad08413e8fadf8b525d62e17": {
      "model_module": "@jupyter-widgets/base",
      "model_module_version": "2.0.0",
      "model_name": "LayoutModel",
      "state": {}
     },
     "255da7a69c3c44e5b20bd9d89d8c97ff": {
      "model_module": "@jupyter-widgets/base",
      "model_module_version": "2.0.0",
      "model_name": "LayoutModel",
      "state": {}
     },
     "257746a289e44f51bb15917430f4e852": {
      "model_module": "@jupyter-widgets/controls",
      "model_module_version": "2.0.0",
      "model_name": "FloatProgressModel",
      "state": {
       "bar_style": "success",
       "layout": "IPY_MODEL_b920bbdce72d4f0c9aa3afd67f55ed55",
       "max": 5,
       "style": "IPY_MODEL_517d03ad5fa541cf90369bba2cd092c0",
       "value": 5
      }
     },
     "25804bedb6aa412a9db1bb8332fab2d4": {
      "model_module": "@jupyter-widgets/base",
      "model_module_version": "2.0.0",
      "model_name": "LayoutModel",
      "state": {
       "flex": "2"
      }
     },
     "25ccac508f1546c0946257c15d938236": {
      "model_module": "@jupyter-widgets/base",
      "model_module_version": "2.0.0",
      "model_name": "LayoutModel",
      "state": {}
     },
     "25d759e5b7114d7eb8f50cda28bf84a7": {
      "model_module": "@jupyter-widgets/controls",
      "model_module_version": "2.0.0",
      "model_name": "HBoxModel",
      "state": {
       "children": [
        "IPY_MODEL_1a2968d4cb6d42b3b672c1595a993cda",
        "IPY_MODEL_9115b2c8a5a64a96b1ebff64ae32683a",
        "IPY_MODEL_0a5cde821dc742ef9f5303215287d8ec"
       ],
       "layout": "IPY_MODEL_5d311be1f9cb42a3808e2d1dde69a9e6"
      }
     },
     "25f21c2961ee4b1a9ac3fad0976ef581": {
      "model_module": "@jupyter-widgets/controls",
      "model_module_version": "2.0.0",
      "model_name": "HTMLStyleModel",
      "state": {
       "description_width": "",
       "font_size": null,
       "text_color": null
      }
     },
     "25f5dada92a2430c9459d5923e5a064a": {
      "model_module": "@jupyter-widgets/base",
      "model_module_version": "2.0.0",
      "model_name": "LayoutModel",
      "state": {
       "flex": "2"
      }
     },
     "25ffa2237ff1423c8bdb450fe7f32eff": {
      "model_module": "@jupyter-widgets/controls",
      "model_module_version": "2.0.0",
      "model_name": "FloatProgressModel",
      "state": {
       "bar_style": "danger",
       "layout": "IPY_MODEL_c14fb76017c442ea94c63fef7933f591",
       "max": 1,
       "style": "IPY_MODEL_d210191f326c42848759ff7864e19602"
      }
     },
     "260ab1f463e14e288c70c9ed6b5cfb20": {
      "model_module": "@jupyter-widgets/base",
      "model_module_version": "2.0.0",
      "model_name": "LayoutModel",
      "state": {}
     },
     "261505e4932f4a60b4dc84c44e806acc": {
      "model_module": "@jupyter-widgets/base",
      "model_module_version": "2.0.0",
      "model_name": "LayoutModel",
      "state": {}
     },
     "262adfebb99c4ff79962402444ebf750": {
      "model_module": "@jupyter-widgets/controls",
      "model_module_version": "2.0.0",
      "model_name": "HTMLModel",
      "state": {
       "layout": "IPY_MODEL_6e1c201db5d540a1b0203b6400d2c0ba",
       "style": "IPY_MODEL_b6f3e12dcfaa4869b1ae659e9bfcd20d",
       "value": " 80/80 [00:00&lt;00:00, 174.19it/s, loss=0.0983, v_num=39, MAE=3.490, RMSE=4.450, Loss=0.0973, RegLoss=0.0589]"
      }
     },
     "264c1c2341a44d6d8d8e158171c13988": {
      "model_module": "@jupyter-widgets/base",
      "model_module_version": "2.0.0",
      "model_name": "LayoutModel",
      "state": {}
     },
     "2669b85d1dd0400b84be164b8b6a4580": {
      "model_module": "@jupyter-widgets/controls",
      "model_module_version": "2.0.0",
      "model_name": "HBoxModel",
      "state": {
       "children": [
        "IPY_MODEL_6b838d0cef3a43b59b14d8ecefdd44d7",
        "IPY_MODEL_fed98a47d3684d60b0998dc8f45e4c36",
        "IPY_MODEL_4f88a9e72dd245fb8b57faec3b4a0d03"
       ],
       "layout": "IPY_MODEL_11849fd2f2ca4e089c213376197646ab"
      }
     },
     "26812b83412f4fd6ae2e11150bfffe61": {
      "model_module": "@jupyter-widgets/controls",
      "model_module_version": "2.0.0",
      "model_name": "HTMLModel",
      "state": {
       "layout": "IPY_MODEL_855f3260e85d49c0bf1c16e250fd25bb",
       "style": "IPY_MODEL_114fb9dd3b64436eb7a97cb69d2bb8f7",
       "value": " 80/80 [00:00&lt;00:00, 286.92it/s, loss=0.0395, v_num=54, MAE=3.770, RMSE=4.750, Loss=0.0397, RegLoss=0.00218]"
      }
     },
     "2693e680c86b400dab81d3a262f6e416": {
      "model_module": "@jupyter-widgets/base",
      "model_module_version": "2.0.0",
      "model_name": "LayoutModel",
      "state": {}
     },
     "269ac224ed4b4bf48127a2d9aa48e886": {
      "model_module": "@jupyter-widgets/controls",
      "model_module_version": "2.0.0",
      "model_name": "HTMLModel",
      "state": {
       "layout": "IPY_MODEL_68af5d625b8b47e6a935285b8145a1d1",
       "style": "IPY_MODEL_a79ec298dba84acf9d29340336fb9a13",
       "value": "Epoch 5: 100%"
      }
     },
     "26ad5107d5724bce8745024168ac29b5": {
      "model_module": "@jupyter-widgets/controls",
      "model_module_version": "2.0.0",
      "model_name": "HBoxModel",
      "state": {
       "children": [
        "IPY_MODEL_d3f417cc893547e1ac9356c9296698d4",
        "IPY_MODEL_240a430503d44275b5cf6daeaaa0655f",
        "IPY_MODEL_ecc6c11871ab47028da59fec17cd7a1d"
       ],
       "layout": "IPY_MODEL_9ec3497e0cdf4f41a0190e063a859d4d"
      }
     },
     "26ebd2b932454f90b5fa154d7b1d64c0": {
      "model_module": "@jupyter-widgets/controls",
      "model_module_version": "2.0.0",
      "model_name": "HTMLStyleModel",
      "state": {
       "description_width": "",
       "font_size": null,
       "text_color": null
      }
     },
     "2707efd14a12424193dbfd096fc9ece7": {
      "model_module": "@jupyter-widgets/base",
      "model_module_version": "2.0.0",
      "model_name": "LayoutModel",
      "state": {
       "flex": "2"
      }
     },
     "2716a362b3f34bb082f7b2aef4d24ec2": {
      "model_module": "@jupyter-widgets/controls",
      "model_module_version": "2.0.0",
      "model_name": "HTMLModel",
      "state": {
       "layout": "IPY_MODEL_0f6f014f8ccb438c9e2e8f7ea9c18879",
       "style": "IPY_MODEL_4324a1cae123403493ad05fe90b13c54",
       "value": "Testing DataLoader 0: 100%"
      }
     },
     "272862981951488499b7e77c40d5881a": {
      "model_module": "@jupyter-widgets/base",
      "model_module_version": "2.0.0",
      "model_name": "LayoutModel",
      "state": {}
     },
     "272e8886e24d4fbc9de3e6ee8f9acab4": {
      "model_module": "@jupyter-widgets/controls",
      "model_module_version": "2.0.0",
      "model_name": "HTMLStyleModel",
      "state": {
       "description_width": "",
       "font_size": null,
       "text_color": null
      }
     },
     "273734bde0a14f8693a15ba31d9c51e6": {
      "model_module": "@jupyter-widgets/base",
      "model_module_version": "2.0.0",
      "model_name": "LayoutModel",
      "state": {}
     },
     "275567ce2a874fa78b3dad264dacadc1": {
      "model_module": "@jupyter-widgets/controls",
      "model_module_version": "2.0.0",
      "model_name": "HBoxModel",
      "state": {
       "children": [
        "IPY_MODEL_40c2abbfb54f40c6b504b0eebf458918",
        "IPY_MODEL_71335977f9074d8dbd4239364ef1106e",
        "IPY_MODEL_0657bdbd22bf4fd0864c9483c969dac2"
       ],
       "layout": "IPY_MODEL_f659f1c1ae794eee939aa83977b1c93a"
      }
     },
     "277ab22eeec54ff9abf90efc6bdddfb1": {
      "model_module": "@jupyter-widgets/base",
      "model_module_version": "2.0.0",
      "model_name": "LayoutModel",
      "state": {
       "flex": "2"
      }
     },
     "27888d2c917e45f18d7ef75f39950028": {
      "model_module": "@jupyter-widgets/controls",
      "model_module_version": "2.0.0",
      "model_name": "HBoxModel",
      "state": {
       "children": [
        "IPY_MODEL_dd1f0dab3f5d49a4866f4a9e59df7684",
        "IPY_MODEL_23d1202249fe40fca70a896a82266ca1",
        "IPY_MODEL_93df76a1436e4fcea57f26f0f83f8a98"
       ],
       "layout": "IPY_MODEL_a4d0a91ec72d4dc0a480df4c670f895b"
      }
     },
     "27dda09613df4e588f0517b55406c0f6": {
      "model_module": "@jupyter-widgets/controls",
      "model_module_version": "2.0.0",
      "model_name": "HBoxModel",
      "state": {
       "children": [
        "IPY_MODEL_8c2b3209bb244cb28c72c7def3787db9",
        "IPY_MODEL_59a93d3e85314900a324f6ca7f0d75bb",
        "IPY_MODEL_0bc55701d2eb4acebf739ff1cbf88463"
       ],
       "layout": "IPY_MODEL_6d6d38b1777d4c2290326c9ebb49e00a"
      }
     },
     "281e410adc2f4a57b1da0b779d56029b": {
      "model_module": "@jupyter-widgets/base",
      "model_module_version": "2.0.0",
      "model_name": "LayoutModel",
      "state": {}
     },
     "2824c9abd98b4178a28c6c6d6567b746": {
      "model_module": "@jupyter-widgets/controls",
      "model_module_version": "2.0.0",
      "model_name": "FloatProgressModel",
      "state": {
       "bar_style": "danger",
       "layout": "IPY_MODEL_89edf301d3a74252b6422b8aeaca99b0",
       "max": 80,
       "style": "IPY_MODEL_68809902ddb547098c4dd1cca395d45c",
       "value": 1
      }
     },
     "282bcfae1ac04753a317ee7431ef7f75": {
      "model_module": "@jupyter-widgets/controls",
      "model_module_version": "2.0.0",
      "model_name": "HTMLModel",
      "state": {
       "layout": "IPY_MODEL_ba65362f0f6d4391a18b55696745b8a3",
       "style": "IPY_MODEL_7461050b4eba43498a9a873e4be5d06d",
       "value": "Validation DataLoader 0: 100%"
      }
     },
     "283d34abb5b64775861dfda420a30061": {
      "model_module": "@jupyter-widgets/controls",
      "model_module_version": "2.0.0",
      "model_name": "HTMLStyleModel",
      "state": {
       "description_width": "",
       "font_size": null,
       "text_color": null
      }
     },
     "28463e9717fb44baa24848fb75f80eeb": {
      "model_module": "@jupyter-widgets/controls",
      "model_module_version": "2.0.0",
      "model_name": "HTMLStyleModel",
      "state": {
       "description_width": "",
       "font_size": null,
       "text_color": null
      }
     },
     "288d8205c7bc472eb2e7b85cac15f8ba": {
      "model_module": "@jupyter-widgets/controls",
      "model_module_version": "2.0.0",
      "model_name": "HTMLStyleModel",
      "state": {
       "description_width": "",
       "font_size": null,
       "text_color": null
      }
     },
     "28a4930067b44b92aa34a3aaee9ebf65": {
      "model_module": "@jupyter-widgets/controls",
      "model_module_version": "2.0.0",
      "model_name": "HTMLStyleModel",
      "state": {
       "description_width": "",
       "font_size": null,
       "text_color": null
      }
     },
     "28af14a7ecae4106882a65101ca76913": {
      "model_module": "@jupyter-widgets/controls",
      "model_module_version": "2.0.0",
      "model_name": "HTMLModel",
      "state": {
       "layout": "IPY_MODEL_527152030af54e21ba472f6fbc760aeb",
       "style": "IPY_MODEL_cab04c751fdb4189b21c40c81def48a6",
       "value": " 1/1 [00:00&lt;00:00, 90.18it/s]"
      }
     },
     "28c53e22bfc542b3a3feb71a5a02b36f": {
      "model_module": "@jupyter-widgets/controls",
      "model_module_version": "2.0.0",
      "model_name": "FloatProgressModel",
      "state": {
       "bar_style": "danger",
       "layout": "IPY_MODEL_3054692152c842a89f41380202f21c81",
       "max": 1,
       "style": "IPY_MODEL_1af23fe34c2244b5a7ff8c5c3ae95bae"
      }
     },
     "28d23a1cb052458ea77c5ecbee7a5b5b": {
      "model_module": "@jupyter-widgets/base",
      "model_module_version": "2.0.0",
      "model_name": "LayoutModel",
      "state": {}
     },
     "28e9dfcbd3b84ce580079995b93b4a8d": {
      "model_module": "@jupyter-widgets/controls",
      "model_module_version": "2.0.0",
      "model_name": "HTMLModel",
      "state": {
       "layout": "IPY_MODEL_85a5c81f46324be7b4251530a6cbf5f6",
       "style": "IPY_MODEL_8c050df4a54f4e55941aabf287d579d3",
       "value": " 1/1 [00:00&lt;00:00, 88.72it/s]"
      }
     },
     "28fe32dafbee4c82a54f93f76c8c0b53": {
      "model_module": "@jupyter-widgets/controls",
      "model_module_version": "2.0.0",
      "model_name": "HTMLStyleModel",
      "state": {
       "description_width": "",
       "font_size": null,
       "text_color": null
      }
     },
     "28fe4634910e4b81a5478bd67375ab92": {
      "model_module": "@jupyter-widgets/controls",
      "model_module_version": "2.0.0",
      "model_name": "FloatProgressModel",
      "state": {
       "bar_style": "success",
       "layout": "IPY_MODEL_fd69f4da12584563a404db98192c6593",
       "max": 1,
       "style": "IPY_MODEL_4630376c04464dbb9897e4096a53ea10",
       "value": 1
      }
     },
     "290132626ba440c1b8cd277f2b61bddb": {
      "model_module": "@jupyter-widgets/controls",
      "model_module_version": "2.0.0",
      "model_name": "ProgressStyleModel",
      "state": {
       "description_width": ""
      }
     },
     "290d8337deae466eb720634fb92dc965": {
      "model_module": "@jupyter-widgets/base",
      "model_module_version": "2.0.0",
      "model_name": "LayoutModel",
      "state": {
       "display": "inline-flex",
       "flex_flow": "row wrap",
       "width": "100%"
      }
     },
     "2941d72b5915485b94d254aa2f175d23": {
      "model_module": "@jupyter-widgets/controls",
      "model_module_version": "2.0.0",
      "model_name": "HTMLStyleModel",
      "state": {
       "description_width": "",
       "font_size": null,
       "text_color": null
      }
     },
     "2964d31cf644411dbd439593f6373fbc": {
      "model_module": "@jupyter-widgets/base",
      "model_module_version": "2.0.0",
      "model_name": "LayoutModel",
      "state": {
       "flex": "2"
      }
     },
     "2999b6663ca74f31ab93b31e819c32c3": {
      "model_module": "@jupyter-widgets/controls",
      "model_module_version": "2.0.0",
      "model_name": "HTMLStyleModel",
      "state": {
       "description_width": "",
       "font_size": null,
       "text_color": null
      }
     },
     "29d0fd2a204b4feeaf9433b85debd788": {
      "model_module": "@jupyter-widgets/controls",
      "model_module_version": "2.0.0",
      "model_name": "HBoxModel",
      "state": {
       "children": [
        "IPY_MODEL_4100135f0a6e41d0bebc59bf530351d9",
        "IPY_MODEL_78abc3fef0c44d0891cff7acf49073e9",
        "IPY_MODEL_a57d0930d73942b9b94743f448f4ead7"
       ],
       "layout": "IPY_MODEL_3fb938d2f42e4d0892b1a4e09b96500e"
      }
     },
     "29ec2fcc244f43c58cfe495aa7b34397": {
      "model_module": "@jupyter-widgets/controls",
      "model_module_version": "2.0.0",
      "model_name": "HTMLStyleModel",
      "state": {
       "description_width": "",
       "font_size": null,
       "text_color": null
      }
     },
     "29f8d30686dc49f7bc447178b3c0267a": {
      "model_module": "@jupyter-widgets/controls",
      "model_module_version": "2.0.0",
      "model_name": "HTMLModel",
      "state": {
       "layout": "IPY_MODEL_5a1b07ea47b9441eb1bfc44a1db8ce2d",
       "style": "IPY_MODEL_61bccb18fa6b4853ba76548f4b402069",
       "value": " 1/1 [00:00&lt;00:00, 111.54it/s]"
      }
     },
     "29fc7b787a674875ab8187b26872a8c1": {
      "model_module": "@jupyter-widgets/base",
      "model_module_version": "2.0.0",
      "model_name": "LayoutModel",
      "state": {
       "flex": "2"
      }
     },
     "2a0452e588ae454fa2821fcf8bbf1487": {
      "model_module": "@jupyter-widgets/controls",
      "model_module_version": "2.0.0",
      "model_name": "HTMLStyleModel",
      "state": {
       "description_width": "",
       "font_size": null,
       "text_color": null
      }
     },
     "2a470a51716c4ce58c648c98828ef8fa": {
      "model_module": "@jupyter-widgets/controls",
      "model_module_version": "2.0.0",
      "model_name": "HTMLStyleModel",
      "state": {
       "description_width": "",
       "font_size": null,
       "text_color": null
      }
     },
     "2a75b5b388be47c482299b4c600afa45": {
      "model_module": "@jupyter-widgets/controls",
      "model_module_version": "2.0.0",
      "model_name": "FloatProgressModel",
      "state": {
       "bar_style": "success",
       "layout": "IPY_MODEL_3f5f6094450d419a98efd7a8be997acc",
       "max": 1,
       "style": "IPY_MODEL_155c85863dc54cbdbf44a4365a146e33",
       "value": 1
      }
     },
     "2a8bb23c20f6461c994f689785a528fb": {
      "model_module": "@jupyter-widgets/controls",
      "model_module_version": "2.0.0",
      "model_name": "ProgressStyleModel",
      "state": {
       "description_width": ""
      }
     },
     "2a908cca18a14781b8f56be27ed10db2": {
      "model_module": "@jupyter-widgets/controls",
      "model_module_version": "2.0.0",
      "model_name": "ProgressStyleModel",
      "state": {
       "description_width": ""
      }
     },
     "2a980795ace9416aad59b64fd15951c3": {
      "model_module": "@jupyter-widgets/base",
      "model_module_version": "2.0.0",
      "model_name": "LayoutModel",
      "state": {}
     },
     "2a9bbe4412ee410aa07a4c50febe42ec": {
      "model_module": "@jupyter-widgets/base",
      "model_module_version": "2.0.0",
      "model_name": "LayoutModel",
      "state": {}
     },
     "2aabf946e32545d9bfd66916e5fa6aed": {
      "model_module": "@jupyter-widgets/controls",
      "model_module_version": "2.0.0",
      "model_name": "HTMLModel",
      "state": {
       "layout": "IPY_MODEL_c9637258c18c41e0afbc5958a7867f49",
       "style": "IPY_MODEL_a89dbd418e814804a3698548172a2ee4",
       "value": "Epoch 80: 100%"
      }
     },
     "2ab4b7ecbb69470eafbe48c3d9f21e52": {
      "model_module": "@jupyter-widgets/base",
      "model_module_version": "2.0.0",
      "model_name": "LayoutModel",
      "state": {
       "display": "inline-flex",
       "flex_flow": "row wrap",
       "width": "100%"
      }
     },
     "2ad0cb474c7c46e590b41b7a4d541558": {
      "model_module": "@jupyter-widgets/base",
      "model_module_version": "2.0.0",
      "model_name": "LayoutModel",
      "state": {}
     },
     "2ad440ef47ed4400a0d14c9c569b6936": {
      "model_module": "@jupyter-widgets/controls",
      "model_module_version": "2.0.0",
      "model_name": "HTMLStyleModel",
      "state": {
       "description_width": "",
       "font_size": null,
       "text_color": null
      }
     },
     "2ad5fa980fa345cf851e25294b9d733b": {
      "model_module": "@jupyter-widgets/base",
      "model_module_version": "2.0.0",
      "model_name": "LayoutModel",
      "state": {}
     },
     "2add8132a05b48cfaec50a26fc0f1919": {
      "model_module": "@jupyter-widgets/base",
      "model_module_version": "2.0.0",
      "model_name": "LayoutModel",
      "state": {
       "display": "inline-flex",
       "flex_flow": "row wrap",
       "width": "100%"
      }
     },
     "2aff931bb13a4527bf8ab970ba0eed53": {
      "model_module": "@jupyter-widgets/controls",
      "model_module_version": "2.0.0",
      "model_name": "HTMLModel",
      "state": {
       "layout": "IPY_MODEL_8ad28b5a2b7f42c0b6e226f7ddad0acf",
       "style": "IPY_MODEL_3c23944c91d74f3bb15d71ad1db08afe",
       "value": " 0/1 [00:01&lt;?, ?it/s]"
      }
     },
     "2b2471ea6cc24e11bac37703d5ecd3e1": {
      "model_module": "@jupyter-widgets/controls",
      "model_module_version": "2.0.0",
      "model_name": "HTMLModel",
      "state": {
       "layout": "IPY_MODEL_2693e680c86b400dab81d3a262f6e416",
       "style": "IPY_MODEL_4bf6bea9201a4223a371ab437abebbbd",
       "value": " 0/10 [00:04&lt;?, ?it/s]"
      }
     },
     "2b3c72d1577d4b48bfb64abf86a9b6b2": {
      "model_module": "@jupyter-widgets/controls",
      "model_module_version": "2.0.0",
      "model_name": "FloatProgressModel",
      "state": {
       "bar_style": "danger",
       "layout": "IPY_MODEL_9ba82b86a5c64f99b1c12a40a966ce9e",
       "max": 80,
       "style": "IPY_MODEL_17bf2e42d0f2467cb781b824e827e028",
       "value": 53
      }
     },
     "2b42d2de35354809a999741384980fd0": {
      "model_module": "@jupyter-widgets/controls",
      "model_module_version": "2.0.0",
      "model_name": "ProgressStyleModel",
      "state": {
       "description_width": ""
      }
     },
     "2b5e4f3ab93f4906b30194062551c286": {
      "model_module": "@jupyter-widgets/controls",
      "model_module_version": "2.0.0",
      "model_name": "HBoxModel",
      "state": {
       "children": [
        "IPY_MODEL_4aaa3d103b464761853f205b51064fba",
        "IPY_MODEL_df53e07302de44c5a170d44409b1d184",
        "IPY_MODEL_ef88186ec7d846d49e1e210dd6c39f40"
       ],
       "layout": "IPY_MODEL_077535732d7d474fa6c69fa0831c8f45"
      }
     },
     "2b6e6fc18fd346418fa225ff12c81e34": {
      "model_module": "@jupyter-widgets/base",
      "model_module_version": "2.0.0",
      "model_name": "LayoutModel",
      "state": {
       "display": "inline-flex",
       "flex_flow": "row wrap",
       "width": "100%"
      }
     },
     "2b6ffda6bdde47f391e18f1e31deaa0f": {
      "model_module": "@jupyter-widgets/base",
      "model_module_version": "2.0.0",
      "model_name": "LayoutModel",
      "state": {
       "flex": "2"
      }
     },
     "2b7603a93c5b4a40a3a108b2582279de": {
      "model_module": "@jupyter-widgets/controls",
      "model_module_version": "2.0.0",
      "model_name": "HTMLStyleModel",
      "state": {
       "description_width": "",
       "font_size": null,
       "text_color": null
      }
     },
     "2b8ba6d66def4066b75262c782635a16": {
      "model_module": "@jupyter-widgets/controls",
      "model_module_version": "2.0.0",
      "model_name": "HBoxModel",
      "state": {
       "children": [
        "IPY_MODEL_e183471d1bf34423ba40b7a19d9e7b56",
        "IPY_MODEL_b1ca383be60e44f2a0398c59f4437d3d",
        "IPY_MODEL_6291de838d0c4e189afcc231b7851011"
       ],
       "layout": "IPY_MODEL_038bbe41db964c2ab8fbd095539007be"
      }
     },
     "2bd95cf892124d35b33a4a119dc92fe8": {
      "model_module": "@jupyter-widgets/base",
      "model_module_version": "2.0.0",
      "model_name": "LayoutModel",
      "state": {}
     },
     "2c1170b148d14882b61a61b8f78a8d63": {
      "model_module": "@jupyter-widgets/controls",
      "model_module_version": "2.0.0",
      "model_name": "ProgressStyleModel",
      "state": {
       "description_width": ""
      }
     },
     "2c196bf32f2b48cc8020a518f21a4ac9": {
      "model_module": "@jupyter-widgets/controls",
      "model_module_version": "2.0.0",
      "model_name": "HTMLStyleModel",
      "state": {
       "description_width": "",
       "font_size": null,
       "text_color": null
      }
     },
     "2c1c80729ed749468f177f7b7cb7ea31": {
      "model_module": "@jupyter-widgets/controls",
      "model_module_version": "2.0.0",
      "model_name": "ProgressStyleModel",
      "state": {
       "description_width": ""
      }
     },
     "2c4f631ca410483f9e229ba65f535e45": {
      "model_module": "@jupyter-widgets/base",
      "model_module_version": "2.0.0",
      "model_name": "LayoutModel",
      "state": {}
     },
     "2c643fe8e7f0437dae4ec84577da4181": {
      "model_module": "@jupyter-widgets/controls",
      "model_module_version": "2.0.0",
      "model_name": "HTMLStyleModel",
      "state": {
       "description_width": "",
       "font_size": null,
       "text_color": null
      }
     },
     "2c6b56ea8a0f4484bca17310f32ea9b4": {
      "model_module": "@jupyter-widgets/controls",
      "model_module_version": "2.0.0",
      "model_name": "HBoxModel",
      "state": {
       "children": [
        "IPY_MODEL_b3794973e6c949b08aa6aaa3a1719be9",
        "IPY_MODEL_d949fe8c0535409ba28e74013d0281a8",
        "IPY_MODEL_9badc4edb7ca4543ba9a96a1d6dcaabb"
       ],
       "layout": "IPY_MODEL_9554fca29e7743c4be07a4ee6a22a699"
      }
     },
     "2c6c1b37e0f14103960ec8ad034a977e": {
      "model_module": "@jupyter-widgets/controls",
      "model_module_version": "2.0.0",
      "model_name": "HTMLModel",
      "state": {
       "layout": "IPY_MODEL_c18d31f7c1044846ad8c09be4519e875",
       "style": "IPY_MODEL_f4bc0db7fa964fc58806da80bdba8001",
       "value": " 0/10 [00:27&lt;?, ?it/s]"
      }
     },
     "2c708181fa6246f1b8733a6d0fdfe73c": {
      "model_module": "@jupyter-widgets/base",
      "model_module_version": "2.0.0",
      "model_name": "LayoutModel",
      "state": {}
     },
     "2c7eb46c89ce449a8fe1ac9f0088260f": {
      "model_module": "@jupyter-widgets/controls",
      "model_module_version": "2.0.0",
      "model_name": "HTMLStyleModel",
      "state": {
       "description_width": "",
       "font_size": null,
       "text_color": null
      }
     },
     "2caebdaa26a6467497a64edd0ba87b4a": {
      "model_module": "@jupyter-widgets/base",
      "model_module_version": "2.0.0",
      "model_name": "LayoutModel",
      "state": {}
     },
     "2d01c71b0c0d49f79d72d08b0f2443e4": {
      "model_module": "@jupyter-widgets/controls",
      "model_module_version": "2.0.0",
      "model_name": "HTMLStyleModel",
      "state": {
       "description_width": "",
       "font_size": null,
       "text_color": null
      }
     },
     "2d118806ca474d6ca56f49ef1f5bffff": {
      "model_module": "@jupyter-widgets/controls",
      "model_module_version": "2.0.0",
      "model_name": "HBoxModel",
      "state": {
       "children": [
        "IPY_MODEL_eaa781f2127645158e212f1d8f911ee8",
        "IPY_MODEL_7a7f585545f8470180749059159feb05",
        "IPY_MODEL_f910c1aa069e4abba9a166f91e7afd4d"
       ],
       "layout": "IPY_MODEL_3ddd74620afe4355a00e921608dc70d1"
      }
     },
     "2d656d99b91e459b8c5a259f900e6203": {
      "model_module": "@jupyter-widgets/controls",
      "model_module_version": "2.0.0",
      "model_name": "HBoxModel",
      "state": {
       "children": [
        "IPY_MODEL_f508a9f3cd4c4e129db661bee0826fc9",
        "IPY_MODEL_5c4e46aee51d4571bd73da85cb38abe0",
        "IPY_MODEL_21b118cc1edb4539ba4b95d962c807fe"
       ],
       "layout": "IPY_MODEL_dcc2869975fa4a84b1d2b3365a53b0d2"
      }
     },
     "2d74481a4c764770ac2b7c7f3295e7ea": {
      "model_module": "@jupyter-widgets/controls",
      "model_module_version": "2.0.0",
      "model_name": "HTMLModel",
      "state": {
       "layout": "IPY_MODEL_190fae7a2c574665b87559e4c17d14c3",
       "style": "IPY_MODEL_2df6e5f4579d4e559cb76bd9dd1500ba",
       "value": "Epoch 12:  15%"
      }
     },
     "2dac2ded949a4fb59b97bec61ba764ea": {
      "model_module": "@jupyter-widgets/base",
      "model_module_version": "2.0.0",
      "model_name": "LayoutModel",
      "state": {}
     },
     "2dbd5668a92543c095ca722368ea7fd9": {
      "model_module": "@jupyter-widgets/controls",
      "model_module_version": "2.0.0",
      "model_name": "HTMLStyleModel",
      "state": {
       "description_width": "",
       "font_size": null,
       "text_color": null
      }
     },
     "2dd326d723a6464399e749a2c6c9b295": {
      "model_module": "@jupyter-widgets/controls",
      "model_module_version": "2.0.0",
      "model_name": "HTMLStyleModel",
      "state": {
       "description_width": "",
       "font_size": null,
       "text_color": null
      }
     },
     "2de365da5cd04ab58c1c8c473dc4a93b": {
      "model_module": "@jupyter-widgets/controls",
      "model_module_version": "2.0.0",
      "model_name": "HTMLStyleModel",
      "state": {
       "description_width": "",
       "font_size": null,
       "text_color": null
      }
     },
     "2de36642032e4234b46c05110f6fc776": {
      "model_module": "@jupyter-widgets/controls",
      "model_module_version": "2.0.0",
      "model_name": "FloatProgressModel",
      "state": {
       "bar_style": "danger",
       "layout": "IPY_MODEL_214f6414c5e146c087d0e95263b1c5a0",
       "max": 80,
       "style": "IPY_MODEL_e023adbf9b0d47f28c81eb0d1c54e628",
       "value": 9
      }
     },
     "2ded3ebb4ddd4618b3344b84383a08c3": {
      "model_module": "@jupyter-widgets/controls",
      "model_module_version": "2.0.0",
      "model_name": "HTMLModel",
      "state": {
       "layout": "IPY_MODEL_19b0b96b5282456b83a77c2f2bc76034",
       "style": "IPY_MODEL_dc8f66daa1814103a34ce4e057793895",
       "value": " 80/80 [00:00&lt;00:00, 153.36it/s, loss=18.5, v_num=21, MAE=3.880, RMSE=5.290, Loss=20.00, RegLoss=0.222]"
      }
     },
     "2df6aeb0efce4ac89caad0bbd6af3937": {
      "model_module": "@jupyter-widgets/controls",
      "model_module_version": "2.0.0",
      "model_name": "HTMLModel",
      "state": {
       "layout": "IPY_MODEL_b06c17aa9a4649b68cc7dfa3ccfac641",
       "style": "IPY_MODEL_e2431e9b82634bb79418effd1ca42600",
       "value": " 29/80 [00:00&lt;00:00, 101.72it/s, loss=0.0693, v_num=55, MAE=4.560, RMSE=5.760, Loss=0.068, RegLoss=0.000]"
      }
     },
     "2df6e5f4579d4e559cb76bd9dd1500ba": {
      "model_module": "@jupyter-widgets/controls",
      "model_module_version": "2.0.0",
      "model_name": "HTMLStyleModel",
      "state": {
       "description_width": "",
       "font_size": null,
       "text_color": null
      }
     },
     "2df7066d020a4f73805cadcfe734e807": {
      "model_module": "@jupyter-widgets/base",
      "model_module_version": "2.0.0",
      "model_name": "LayoutModel",
      "state": {}
     },
     "2e4aff5bb07544dca0d93e31bcf3ce6c": {
      "model_module": "@jupyter-widgets/controls",
      "model_module_version": "2.0.0",
      "model_name": "FloatProgressModel",
      "state": {
       "bar_style": "danger",
       "layout": "IPY_MODEL_921d858179664fc192cd915bd4d2d5c3",
       "max": 80,
       "style": "IPY_MODEL_8c06f5324be64009be87861898402c13",
       "value": 53
      }
     },
     "2e4f74b4cd35445ebbb6cf3b53bb443b": {
      "model_module": "@jupyter-widgets/controls",
      "model_module_version": "2.0.0",
      "model_name": "FloatProgressModel",
      "state": {
       "bar_style": "danger",
       "layout": "IPY_MODEL_b57f87c0f4e349f6936fea7adb055fbe",
       "max": 10,
       "style": "IPY_MODEL_ac725bccedce4df8919e37e2a604f12c",
       "value": 2
      }
     },
     "2e4fbd1f28994bf29ab4226f19cf616b": {
      "model_module": "@jupyter-widgets/controls",
      "model_module_version": "2.0.0",
      "model_name": "FloatProgressModel",
      "state": {
       "bar_style": "danger",
       "layout": "IPY_MODEL_33189719d2e7482b8a13b82aa28fbe09",
       "max": 10,
       "style": "IPY_MODEL_a14fe98611824d178fb4545b1eb4bac1"
      }
     },
     "2e5b9604ffd1440ab89de228cff7c1b3": {
      "model_module": "@jupyter-widgets/base",
      "model_module_version": "2.0.0",
      "model_name": "LayoutModel",
      "state": {
       "flex": "2"
      }
     },
     "2e66c6dcdd134e92bad915ec2170b827": {
      "model_module": "@jupyter-widgets/base",
      "model_module_version": "2.0.0",
      "model_name": "LayoutModel",
      "state": {}
     },
     "2e71e472e9d7453fa3eebd586fdfc285": {
      "model_module": "@jupyter-widgets/controls",
      "model_module_version": "2.0.0",
      "model_name": "HBoxModel",
      "state": {
       "children": [
        "IPY_MODEL_1ac906007b38408584a5514746eeced8",
        "IPY_MODEL_7ef6224cfcc54d2eaaf9d740af23ec2a",
        "IPY_MODEL_bc62551184be42a69773129c7b7d3b08"
       ],
       "layout": "IPY_MODEL_7f84432d858f4ec788fece8d31eee4b8"
      }
     },
     "2e7606b0dfdc44ca90b16d2e65a42934": {
      "model_module": "@jupyter-widgets/base",
      "model_module_version": "2.0.0",
      "model_name": "LayoutModel",
      "state": {}
     },
     "2e7f645ca5f745b0a2e669c723c34f76": {
      "model_module": "@jupyter-widgets/base",
      "model_module_version": "2.0.0",
      "model_name": "LayoutModel",
      "state": {}
     },
     "2e87fc3a4c094d3387be98b6145830c2": {
      "model_module": "@jupyter-widgets/controls",
      "model_module_version": "2.0.0",
      "model_name": "FloatProgressModel",
      "state": {
       "bar_style": "success",
       "layout": "IPY_MODEL_87550d9e06d344809df34280a9eddf87",
       "max": 80,
       "style": "IPY_MODEL_dd665ab92ce84308a9727385d60963d7",
       "value": 80
      }
     },
     "2eeb4f47b26d4acc8449b4339cb7be8d": {
      "model_module": "@jupyter-widgets/base",
      "model_module_version": "2.0.0",
      "model_name": "LayoutModel",
      "state": {}
     },
     "2ef3a8d842054c16af2eb47fe1afdd3e": {
      "model_module": "@jupyter-widgets/base",
      "model_module_version": "2.0.0",
      "model_name": "LayoutModel",
      "state": {
       "flex": "2"
      }
     },
     "2f09e27189e242a7895474f63853dffd": {
      "model_module": "@jupyter-widgets/controls",
      "model_module_version": "2.0.0",
      "model_name": "HTMLModel",
      "state": {
       "layout": "IPY_MODEL_4ea7fb3feb8649d0ad2bce83e83c3490",
       "style": "IPY_MODEL_abbc30050d1a4e63bc4d466954fb72c1",
       "value": " 0/10 [00:59&lt;?, ?it/s]"
      }
     },
     "2f7a0a6a5ba74eac9cc0d9297444544b": {
      "model_module": "@jupyter-widgets/controls",
      "model_module_version": "2.0.0",
      "model_name": "HTMLStyleModel",
      "state": {
       "description_width": "",
       "font_size": null,
       "text_color": null
      }
     },
     "2f8dce58f6bb4baaa48427a6165ceb5a": {
      "model_module": "@jupyter-widgets/base",
      "model_module_version": "2.0.0",
      "model_name": "LayoutModel",
      "state": {}
     },
     "2ff6054971ac4a1c83a6bbedac902cfa": {
      "model_module": "@jupyter-widgets/controls",
      "model_module_version": "2.0.0",
      "model_name": "ProgressStyleModel",
      "state": {
       "description_width": ""
      }
     },
     "30038a0b636c4542befbb784c64f8a61": {
      "model_module": "@jupyter-widgets/base",
      "model_module_version": "2.0.0",
      "model_name": "LayoutModel",
      "state": {}
     },
     "3005d9df12e44d56889a10187f0270c6": {
      "model_module": "@jupyter-widgets/controls",
      "model_module_version": "2.0.0",
      "model_name": "HTMLStyleModel",
      "state": {
       "description_width": "",
       "font_size": null,
       "text_color": null
      }
     },
     "30167509c042491a9aa6a052824009e9": {
      "model_module": "@jupyter-widgets/base",
      "model_module_version": "2.0.0",
      "model_name": "LayoutModel",
      "state": {}
     },
     "301ac5e4efd742538dc391a7cddba5ff": {
      "model_module": "@jupyter-widgets/base",
      "model_module_version": "2.0.0",
      "model_name": "LayoutModel",
      "state": {
       "display": "inline-flex",
       "flex_flow": "row wrap",
       "width": "100%"
      }
     },
     "303d1addfe8e4c77aae9789e78e0e01a": {
      "model_module": "@jupyter-widgets/controls",
      "model_module_version": "2.0.0",
      "model_name": "HBoxModel",
      "state": {
       "children": [
        "IPY_MODEL_8038ad524bb34b05adcc6b9c9154ac9a",
        "IPY_MODEL_2e87fc3a4c094d3387be98b6145830c2",
        "IPY_MODEL_896675afd2994a8887a97e0f8b1f34e6"
       ],
       "layout": "IPY_MODEL_94242b915fe0486dbc596fd7e747173a"
      }
     },
     "304450e1033142e689c61aebba7874f8": {
      "model_module": "@jupyter-widgets/base",
      "model_module_version": "2.0.0",
      "model_name": "LayoutModel",
      "state": {}
     },
     "3054692152c842a89f41380202f21c81": {
      "model_module": "@jupyter-widgets/base",
      "model_module_version": "2.0.0",
      "model_name": "LayoutModel",
      "state": {}
     },
     "306004e701d34e63b70c9a97a65c52ac": {
      "model_module": "@jupyter-widgets/controls",
      "model_module_version": "2.0.0",
      "model_name": "HTMLStyleModel",
      "state": {
       "description_width": "",
       "font_size": null,
       "text_color": null
      }
     },
     "307cb08a35694ca2840fad40d25a8a2d": {
      "model_module": "@jupyter-widgets/base",
      "model_module_version": "2.0.0",
      "model_name": "LayoutModel",
      "state": {}
     },
     "3091fb50a5a148cda48307054f4af4e6": {
      "model_module": "@jupyter-widgets/base",
      "model_module_version": "2.0.0",
      "model_name": "LayoutModel",
      "state": {}
     },
     "30a030da362f48e59a2e75ee690e41f8": {
      "model_module": "@jupyter-widgets/controls",
      "model_module_version": "2.0.0",
      "model_name": "HTMLModel",
      "state": {
       "layout": "IPY_MODEL_8c891c89c71646a2a7b59379686e0ce0",
       "style": "IPY_MODEL_cf874cb96c8a430d8b9df50580dc5521",
       "value": " 1/1 [00:00&lt;00:00, 90.33it/s]"
      }
     },
     "30b725ce7d114915a7f9fa57d984c091": {
      "model_module": "@jupyter-widgets/base",
      "model_module_version": "2.0.0",
      "model_name": "LayoutModel",
      "state": {}
     },
     "30d33e34fad74e06be90f39836c0ce21": {
      "model_module": "@jupyter-widgets/base",
      "model_module_version": "2.0.0",
      "model_name": "LayoutModel",
      "state": {
       "flex": "2"
      }
     },
     "31077bcad44f48dfbe7a7139a5098a5c": {
      "model_module": "@jupyter-widgets/controls",
      "model_module_version": "2.0.0",
      "model_name": "ProgressStyleModel",
      "state": {
       "description_width": ""
      }
     },
     "31198fbf08ab47419127378e0c489d4d": {
      "model_module": "@jupyter-widgets/base",
      "model_module_version": "2.0.0",
      "model_name": "LayoutModel",
      "state": {}
     },
     "3138bd1148874f5caec184fdf8a36092": {
      "model_module": "@jupyter-widgets/base",
      "model_module_version": "2.0.0",
      "model_name": "LayoutModel",
      "state": {}
     },
     "31b2099195f34ca6a010e93c0e66076a": {
      "model_module": "@jupyter-widgets/base",
      "model_module_version": "2.0.0",
      "model_name": "LayoutModel",
      "state": {
       "display": "inline-flex",
       "flex_flow": "row wrap",
       "width": "100%"
      }
     },
     "31b817e0f2d34dff92d39a3b05de80db": {
      "model_module": "@jupyter-widgets/controls",
      "model_module_version": "2.0.0",
      "model_name": "HBoxModel",
      "state": {
       "children": [
        "IPY_MODEL_cb5e93bcb4ab46b59dcbe331559589d1",
        "IPY_MODEL_60e2ca3bf4dc47baaae3e94391b68232",
        "IPY_MODEL_7c3cd042c2294d66be2d6b3eb0e03b62"
       ],
       "layout": "IPY_MODEL_d09adf7850f34913aa90243dc35aeae5"
      }
     },
     "31d6eaa8aa134fbcb7dcec224879239e": {
      "model_module": "@jupyter-widgets/controls",
      "model_module_version": "2.0.0",
      "model_name": "HTMLStyleModel",
      "state": {
       "description_width": "",
       "font_size": null,
       "text_color": null
      }
     },
     "31fb91b709f04bdda70598717ae2fb98": {
      "model_module": "@jupyter-widgets/controls",
      "model_module_version": "2.0.0",
      "model_name": "HTMLStyleModel",
      "state": {
       "description_width": "",
       "font_size": null,
       "text_color": null
      }
     },
     "32079f3698124f1e9c7131aa52d48fde": {
      "model_module": "@jupyter-widgets/controls",
      "model_module_version": "2.0.0",
      "model_name": "HTMLStyleModel",
      "state": {
       "description_width": "",
       "font_size": null,
       "text_color": null
      }
     },
     "321074dbe36c4358bcb3efb1a0fe9f97": {
      "model_module": "@jupyter-widgets/base",
      "model_module_version": "2.0.0",
      "model_name": "LayoutModel",
      "state": {}
     },
     "32198b624aed4c67af47afe0ce05d3fd": {
      "model_module": "@jupyter-widgets/base",
      "model_module_version": "2.0.0",
      "model_name": "LayoutModel",
      "state": {}
     },
     "321b5de4808e4fd8bdae0575db30b779": {
      "model_module": "@jupyter-widgets/controls",
      "model_module_version": "2.0.0",
      "model_name": "HTMLStyleModel",
      "state": {
       "description_width": "",
       "font_size": null,
       "text_color": null
      }
     },
     "322cb2173d334a4e8865650af6106bca": {
      "model_module": "@jupyter-widgets/controls",
      "model_module_version": "2.0.0",
      "model_name": "HBoxModel",
      "state": {
       "children": [
        "IPY_MODEL_7f135a49066d4f59bc9e3c9c5ef4630c",
        "IPY_MODEL_dcc0b0859f2c431389082bd4c8eb82f5",
        "IPY_MODEL_53ca5739130b469baa831ad0ba0852e9"
       ],
       "layout": "IPY_MODEL_36f08f2538af41efa637658f0830d5e5"
      }
     },
     "3234da80f8074070b44b5b4ee4d134fb": {
      "model_module": "@jupyter-widgets/controls",
      "model_module_version": "2.0.0",
      "model_name": "HTMLStyleModel",
      "state": {
       "description_width": "",
       "font_size": null,
       "text_color": null
      }
     },
     "32566fd3616e4efa9f16bc218fc0ecaa": {
      "model_module": "@jupyter-widgets/base",
      "model_module_version": "2.0.0",
      "model_name": "LayoutModel",
      "state": {
       "display": "inline-flex",
       "flex_flow": "row wrap",
       "width": "100%"
      }
     },
     "327b3e6c747c4ce1850eab8711e83c7a": {
      "model_module": "@jupyter-widgets/controls",
      "model_module_version": "2.0.0",
      "model_name": "ProgressStyleModel",
      "state": {
       "description_width": ""
      }
     },
     "32c6ef975a3f40b49debc1417ddc6b63": {
      "model_module": "@jupyter-widgets/controls",
      "model_module_version": "2.0.0",
      "model_name": "HBoxModel",
      "state": {
       "children": [
        "IPY_MODEL_918a3ae6d7c64be3a445ff165f5b2013",
        "IPY_MODEL_2e4f74b4cd35445ebbb6cf3b53bb443b",
        "IPY_MODEL_b442bcb3138146baa95f77cd96879d8e"
       ],
       "layout": "IPY_MODEL_1456f058bcbf4c93b188361489ea84bd"
      }
     },
     "33189719d2e7482b8a13b82aa28fbe09": {
      "model_module": "@jupyter-widgets/base",
      "model_module_version": "2.0.0",
      "model_name": "LayoutModel",
      "state": {}
     },
     "332fb5b18fe84c75a32ad813c7a2bb97": {
      "model_module": "@jupyter-widgets/base",
      "model_module_version": "2.0.0",
      "model_name": "LayoutModel",
      "state": {}
     },
     "3331125eee824308a0242ba0feab2bdb": {
      "model_module": "@jupyter-widgets/base",
      "model_module_version": "2.0.0",
      "model_name": "LayoutModel",
      "state": {
       "flex": "2"
      }
     },
     "333a77e170da40d7b7b34ec535a2253b": {
      "model_module": "@jupyter-widgets/controls",
      "model_module_version": "2.0.0",
      "model_name": "HBoxModel",
      "state": {
       "children": [
        "IPY_MODEL_c9858c6ceb05486b8618a9beca513d7f",
        "IPY_MODEL_b73ed9ca59784d13a7a3bd7b2cf2de0d",
        "IPY_MODEL_940c51ba744247c1a61aec427470fc7b"
       ],
       "layout": "IPY_MODEL_260ab1f463e14e288c70c9ed6b5cfb20"
      }
     },
     "3376b2bac86f4a41b656afe1bdf6864e": {
      "model_module": "@jupyter-widgets/base",
      "model_module_version": "2.0.0",
      "model_name": "LayoutModel",
      "state": {}
     },
     "338e6c7f55b04e8882e791dde1b2c473": {
      "model_module": "@jupyter-widgets/controls",
      "model_module_version": "2.0.0",
      "model_name": "HTMLStyleModel",
      "state": {
       "description_width": "",
       "font_size": null,
       "text_color": null
      }
     },
     "339b33fd14db4ee289812f1593629419": {
      "model_module": "@jupyter-widgets/base",
      "model_module_version": "2.0.0",
      "model_name": "LayoutModel",
      "state": {
       "flex": "2"
      }
     },
     "33ae5efd377d4e83b014ec954e43440d": {
      "model_module": "@jupyter-widgets/base",
      "model_module_version": "2.0.0",
      "model_name": "LayoutModel",
      "state": {
       "display": "inline-flex",
       "flex_flow": "row wrap",
       "visibility": "hidden",
       "width": "100%"
      }
     },
     "33bafbce055f4ffaa229b513211a9050": {
      "model_module": "@jupyter-widgets/base",
      "model_module_version": "2.0.0",
      "model_name": "LayoutModel",
      "state": {
       "display": "inline-flex",
       "flex_flow": "row wrap",
       "visibility": "hidden",
       "width": "100%"
      }
     },
     "33fe12fcf17f482da836a4f824b17ec0": {
      "model_module": "@jupyter-widgets/base",
      "model_module_version": "2.0.0",
      "model_name": "LayoutModel",
      "state": {}
     },
     "342b29d0ef7448339419a7c4c7ce5ca3": {
      "model_module": "@jupyter-widgets/controls",
      "model_module_version": "2.0.0",
      "model_name": "HTMLStyleModel",
      "state": {
       "description_width": "",
       "font_size": null,
       "text_color": null
      }
     },
     "3440c9c141174ee2aa6a72071aa519b9": {
      "model_module": "@jupyter-widgets/controls",
      "model_module_version": "2.0.0",
      "model_name": "HTMLModel",
      "state": {
       "layout": "IPY_MODEL_5012616584f9465cb89dd9d977fdc7b8",
       "style": "IPY_MODEL_f622acc92f8f478a9e7143866c6cca62",
       "value": " 4/5 [00:32&lt;00:08,  8.24s/it, loss=0.0509, v_num=69, MAE=4.100, RMSE=5.180, Loss=0.067, RegLoss=0.000]"
      }
     },
     "34544ce11cb9443fb1b4ef02d4eacd95": {
      "model_module": "@jupyter-widgets/base",
      "model_module_version": "2.0.0",
      "model_name": "LayoutModel",
      "state": {}
     },
     "345882bda02941149c1478fdb7328265": {
      "model_module": "@jupyter-widgets/controls",
      "model_module_version": "2.0.0",
      "model_name": "HTMLModel",
      "state": {
       "layout": "IPY_MODEL_cbeb20264945458e901fee6b8aa4ef83",
       "style": "IPY_MODEL_654fc1a32b544731a96d5d7be351ff6d",
       "value": "Epoch 80: 100%"
      }
     },
     "34619bea19c7428ab168714f57ead768": {
      "model_module": "@jupyter-widgets/base",
      "model_module_version": "2.0.0",
      "model_name": "LayoutModel",
      "state": {}
     },
     "346d7023a1744d70bfc6d0900334f27a": {
      "model_module": "@jupyter-widgets/base",
      "model_module_version": "2.0.0",
      "model_name": "LayoutModel",
      "state": {
       "display": "inline-flex",
       "flex_flow": "row wrap",
       "width": "100%"
      }
     },
     "347ee0ec7ecc405f871a4d983fba03b4": {
      "model_module": "@jupyter-widgets/controls",
      "model_module_version": "2.0.0",
      "model_name": "HTMLStyleModel",
      "state": {
       "description_width": "",
       "font_size": null,
       "text_color": null
      }
     },
     "348bc8926df240b88dc5e70af4ff0af7": {
      "model_module": "@jupyter-widgets/controls",
      "model_module_version": "2.0.0",
      "model_name": "HTMLStyleModel",
      "state": {
       "description_width": "",
       "font_size": null,
       "text_color": null
      }
     },
     "349eb541e4f74d5f89820969fff16394": {
      "model_module": "@jupyter-widgets/controls",
      "model_module_version": "2.0.0",
      "model_name": "HTMLStyleModel",
      "state": {
       "description_width": "",
       "font_size": null,
       "text_color": null
      }
     },
     "34a47f3766ef4fdfa9cf471710c4f572": {
      "model_module": "@jupyter-widgets/base",
      "model_module_version": "2.0.0",
      "model_name": "LayoutModel",
      "state": {}
     },
     "34defccf093344c7b3eac5c6a67d5149": {
      "model_module": "@jupyter-widgets/base",
      "model_module_version": "2.0.0",
      "model_name": "LayoutModel",
      "state": {}
     },
     "350f5d496cc443d6a53912117af1b259": {
      "model_module": "@jupyter-widgets/controls",
      "model_module_version": "2.0.0",
      "model_name": "ProgressStyleModel",
      "state": {
       "description_width": ""
      }
     },
     "35285a947d504ccaa89dc2873205c333": {
      "model_module": "@jupyter-widgets/controls",
      "model_module_version": "2.0.0",
      "model_name": "HTMLModel",
      "state": {
       "layout": "IPY_MODEL_c69a986371f6470b9d392b016c438466",
       "style": "IPY_MODEL_bfedad66c78b49449fafa17f5deacb56",
       "value": "Epoch 80: 100%"
      }
     },
     "35456a7f3bc24ce78f815e4cd5c78177": {
      "model_module": "@jupyter-widgets/controls",
      "model_module_version": "2.0.0",
      "model_name": "HTMLModel",
      "state": {
       "layout": "IPY_MODEL_f8b2af7538224462984d3af65ffe5b2e",
       "style": "IPY_MODEL_b7b7b3e5bdf0488a82c80b0a6bce475e",
       "value": " 5/5 [00:00&lt;00:00, 16.22it/s, loss=0.172, v_num=77, MAE=3.870, RMSE=4.920, Loss=0.172, RegLoss=0.112]"
      }
     },
     "35719b89061a4452aebbd35d0873e059": {
      "model_module": "@jupyter-widgets/controls",
      "model_module_version": "2.0.0",
      "model_name": "HBoxModel",
      "state": {
       "children": [
        "IPY_MODEL_085fb47acb514307ba42284d2ca9c8a7",
        "IPY_MODEL_6ebca98ab8ab45749f1f986fe11d7969",
        "IPY_MODEL_9c0c437f597a4ebcbb958e0d600121bd"
       ],
       "layout": "IPY_MODEL_5d62977f7e1c4a7394b338d4eebec670"
      }
     },
     "3571dc6a246e42caa8b2beb935773bae": {
      "model_module": "@jupyter-widgets/controls",
      "model_module_version": "2.0.0",
      "model_name": "HTMLModel",
      "state": {
       "layout": "IPY_MODEL_35db1cadd93449ebb29b729ce961c914",
       "style": "IPY_MODEL_baccdfccff244f0a8c1d850cad802834",
       "value": "Testing DataLoader 0: 100%"
      }
     },
     "35867e672cb54be3a1968922d0b3f05b": {
      "model_module": "@jupyter-widgets/base",
      "model_module_version": "2.0.0",
      "model_name": "LayoutModel",
      "state": {
       "flex": "2"
      }
     },
     "35944a988e274e01a64b1cc768d28f13": {
      "model_module": "@jupyter-widgets/base",
      "model_module_version": "2.0.0",
      "model_name": "LayoutModel",
      "state": {}
     },
     "35c095184db045bc849d3ad9b0c66ed1": {
      "model_module": "@jupyter-widgets/base",
      "model_module_version": "2.0.0",
      "model_name": "LayoutModel",
      "state": {
       "display": "inline-flex",
       "flex_flow": "row wrap",
       "width": "100%"
      }
     },
     "35c7c477dbd24393b18e782f21549d03": {
      "model_module": "@jupyter-widgets/base",
      "model_module_version": "2.0.0",
      "model_name": "LayoutModel",
      "state": {}
     },
     "35ca75f90b724a0e8ebe957c5bfb625f": {
      "model_module": "@jupyter-widgets/controls",
      "model_module_version": "2.0.0",
      "model_name": "ProgressStyleModel",
      "state": {
       "description_width": ""
      }
     },
     "35db1cadd93449ebb29b729ce961c914": {
      "model_module": "@jupyter-widgets/base",
      "model_module_version": "2.0.0",
      "model_name": "LayoutModel",
      "state": {}
     },
     "35e65353b58e4868b9f1aced006e9c5d": {
      "model_module": "@jupyter-widgets/base",
      "model_module_version": "2.0.0",
      "model_name": "LayoutModel",
      "state": {}
     },
     "35eccebe0a324fcba8beb904ac355fa9": {
      "model_module": "@jupyter-widgets/controls",
      "model_module_version": "2.0.0",
      "model_name": "HTMLModel",
      "state": {
       "layout": "IPY_MODEL_3f2fb4c04cd848bf846a33fb70b0bc49",
       "style": "IPY_MODEL_a2ad4376344447b38caacc66d63c004c",
       "value": "Epoch 80: 100%"
      }
     },
     "361469a6e2d043abb60fc8f8db949120": {
      "model_module": "@jupyter-widgets/base",
      "model_module_version": "2.0.0",
      "model_name": "LayoutModel",
      "state": {}
     },
     "361cbddaeb214ce4aa161934b8dd065b": {
      "model_module": "@jupyter-widgets/base",
      "model_module_version": "2.0.0",
      "model_name": "LayoutModel",
      "state": {
       "flex": "2"
      }
     },
     "36264fcf9ce447ad86300451a6cca4ff": {
      "model_module": "@jupyter-widgets/controls",
      "model_module_version": "2.0.0",
      "model_name": "ProgressStyleModel",
      "state": {
       "description_width": ""
      }
     },
     "3637fb726e2147038062a98012bbdff9": {
      "model_module": "@jupyter-widgets/controls",
      "model_module_version": "2.0.0",
      "model_name": "ProgressStyleModel",
      "state": {
       "description_width": ""
      }
     },
     "36664f17f5e14196a2020798abf17c65": {
      "model_module": "@jupyter-widgets/base",
      "model_module_version": "2.0.0",
      "model_name": "LayoutModel",
      "state": {}
     },
     "366cb69416e044e69ace8b89ef0628f4": {
      "model_module": "@jupyter-widgets/controls",
      "model_module_version": "2.0.0",
      "model_name": "HTMLModel",
      "state": {
       "layout": "IPY_MODEL_6131e2fdec654a04bfe8ea4335d770f3",
       "style": "IPY_MODEL_a5c76a8e580c4293a73c9fe787ccaf9a",
       "value": " 0/1 [00:23&lt;?, ?it/s]"
      }
     },
     "36f08f2538af41efa637658f0830d5e5": {
      "model_module": "@jupyter-widgets/base",
      "model_module_version": "2.0.0",
      "model_name": "LayoutModel",
      "state": {}
     },
     "371a0781dc3a4f619af911420a311cd6": {
      "model_module": "@jupyter-widgets/base",
      "model_module_version": "2.0.0",
      "model_name": "LayoutModel",
      "state": {}
     },
     "375e7f47ab194088a95256a66ce66981": {
      "model_module": "@jupyter-widgets/controls",
      "model_module_version": "2.0.0",
      "model_name": "HTMLModel",
      "state": {
       "layout": "IPY_MODEL_ce5adeceb9db432c89487e534e273118",
       "style": "IPY_MODEL_ea46c106effa40b8a59656dda5fa948b",
       "value": "Epoch 29:  36%"
      }
     },
     "37ad7e38c23c41bfadefcdb7c604cc11": {
      "model_module": "@jupyter-widgets/controls",
      "model_module_version": "2.0.0",
      "model_name": "FloatProgressModel",
      "state": {
       "bar_style": "success",
       "layout": "IPY_MODEL_f8ee2f4abb1847c0a6318cb83bce3b9b",
       "max": 1,
       "style": "IPY_MODEL_e0b7588633774e39817e2c661137a8c1",
       "value": 1
      }
     },
     "37c5708f9754497c835a4906bc42e5fd": {
      "model_module": "@jupyter-widgets/controls",
      "model_module_version": "2.0.0",
      "model_name": "HTMLModel",
      "state": {
       "layout": "IPY_MODEL_2c708181fa6246f1b8733a6d0fdfe73c",
       "style": "IPY_MODEL_709869ba3c6041099192861f822d3052",
       "value": "Epoch 4:  80%"
      }
     },
     "37db7ddb7208481b8c6590e5649e46aa": {
      "model_module": "@jupyter-widgets/base",
      "model_module_version": "2.0.0",
      "model_name": "LayoutModel",
      "state": {}
     },
     "38392748befc44fd9df039aca34ccd6c": {
      "model_module": "@jupyter-widgets/controls",
      "model_module_version": "2.0.0",
      "model_name": "HTMLModel",
      "state": {
       "layout": "IPY_MODEL_c12e352f1e2540e6bdfb7e5004bda56b",
       "style": "IPY_MODEL_150b5bcaa8b543fe9631c9eb8803d013",
       "value": " 1/1 [00:00&lt;00:00, 236.77it/s]"
      }
     },
     "38787f3efe86483e9bf1fe11df24738f": {
      "model_module": "@jupyter-widgets/controls",
      "model_module_version": "2.0.0",
      "model_name": "HTMLStyleModel",
      "state": {
       "description_width": "",
       "font_size": null,
       "text_color": null
      }
     },
     "38a24eb2cf9d46eb991e5af0f776fc24": {
      "model_module": "@jupyter-widgets/controls",
      "model_module_version": "2.0.0",
      "model_name": "HTMLModel",
      "state": {
       "layout": "IPY_MODEL_43988a546647422daf7909877f6a1d9e",
       "style": "IPY_MODEL_7c9ed8ae6e97451cad223d61859ad627",
       "value": " 1/1 [00:00&lt;00:00, 91.93it/s]"
      }
     },
     "38b161a1e3ae47b3904f9269621dd96d": {
      "model_module": "@jupyter-widgets/base",
      "model_module_version": "2.0.0",
      "model_name": "LayoutModel",
      "state": {}
     },
     "38b253c8459a4505800f3cb70f3428f3": {
      "model_module": "@jupyter-widgets/controls",
      "model_module_version": "2.0.0",
      "model_name": "HTMLModel",
      "state": {
       "layout": "IPY_MODEL_614a897e27954f8bb008c9e3d760fd7b",
       "style": "IPY_MODEL_45fde3c76e2e42babb4b10c268eab080",
       "value": "Epoch 33:  41%"
      }
     },
     "38d5674c43ed4632a45ace65b65da8e4": {
      "model_module": "@jupyter-widgets/controls",
      "model_module_version": "2.0.0",
      "model_name": "HTMLStyleModel",
      "state": {
       "description_width": "",
       "font_size": null,
       "text_color": null
      }
     },
     "38fe4d9d4a2e403c839c94191877484b": {
      "model_module": "@jupyter-widgets/controls",
      "model_module_version": "2.0.0",
      "model_name": "ProgressStyleModel",
      "state": {
       "description_width": ""
      }
     },
     "3904a522bbbf422ea92f489c5ea38a46": {
      "model_module": "@jupyter-widgets/controls",
      "model_module_version": "2.0.0",
      "model_name": "HBoxModel",
      "state": {
       "children": [
        "IPY_MODEL_bf6311651c3f4f34b65deef8038edea3",
        "IPY_MODEL_7f848606c33a4378af2e15d8c8c90b0c",
        "IPY_MODEL_9c896a79a9c14e46975b8e33c68830f2"
       ],
       "layout": "IPY_MODEL_6bbfd379a3744319ad349773549c2f9d"
      }
     },
     "3906d5f13c494da2b9a14e5bf45729df": {
      "model_module": "@jupyter-widgets/base",
      "model_module_version": "2.0.0",
      "model_name": "LayoutModel",
      "state": {
       "flex": "2"
      }
     },
     "39081e21bc6248de9bfdc98142f083e3": {
      "model_module": "@jupyter-widgets/base",
      "model_module_version": "2.0.0",
      "model_name": "LayoutModel",
      "state": {}
     },
     "39088b69c0da4a60a5a1131d157b6a69": {
      "model_module": "@jupyter-widgets/base",
      "model_module_version": "2.0.0",
      "model_name": "LayoutModel",
      "state": {}
     },
     "3914ec0def024199bef10b2af52edcb7": {
      "model_module": "@jupyter-widgets/controls",
      "model_module_version": "2.0.0",
      "model_name": "HTMLModel",
      "state": {
       "layout": "IPY_MODEL_12dfa1d3b1b443209c5bb93d80b96df5",
       "style": "IPY_MODEL_d799b814db78472ba3ba1da119133db7",
       "value": " 80/80 [00:00&lt;00:00, 247.02it/s, loss=0.089, v_num=43, MAE=3.440, RMSE=4.440, Loss=0.089, RegLoss=0.0536]"
      }
     },
     "3971f13044084ee49065e8a0acbc9c91": {
      "model_module": "@jupyter-widgets/base",
      "model_module_version": "2.0.0",
      "model_name": "LayoutModel",
      "state": {}
     },
     "3995c17808974345ab58756d0f19d048": {
      "model_module": "@jupyter-widgets/controls",
      "model_module_version": "2.0.0",
      "model_name": "HTMLStyleModel",
      "state": {
       "description_width": "",
       "font_size": null,
       "text_color": null
      }
     },
     "39d9b48d80ff450db64fb454889c610d": {
      "model_module": "@jupyter-widgets/controls",
      "model_module_version": "2.0.0",
      "model_name": "HTMLModel",
      "state": {
       "layout": "IPY_MODEL_fbf06a6ac01341d29cd7a57fad1bffad",
       "style": "IPY_MODEL_d9f55cbab5f74223b3dec1312e5d9142",
       "value": "  0%"
      }
     },
     "39e5603856a14f6f8bd0b68228429a2c": {
      "model_module": "@jupyter-widgets/base",
      "model_module_version": "2.0.0",
      "model_name": "LayoutModel",
      "state": {
       "display": "inline-flex",
       "flex_flow": "row wrap",
       "width": "100%"
      }
     },
     "39f44e2088bf450ead26dc5f18c755e7": {
      "model_module": "@jupyter-widgets/base",
      "model_module_version": "2.0.0",
      "model_name": "LayoutModel",
      "state": {}
     },
     "3a540e81c13745b7869f7c399ecdb3f2": {
      "model_module": "@jupyter-widgets/base",
      "model_module_version": "2.0.0",
      "model_name": "LayoutModel",
      "state": {}
     },
     "3a5487a85acd4d4fbed83e53bcdb5269": {
      "model_module": "@jupyter-widgets/controls",
      "model_module_version": "2.0.0",
      "model_name": "HTMLStyleModel",
      "state": {
       "description_width": "",
       "font_size": null,
       "text_color": null
      }
     },
     "3a62d0f4ebb74ed6bd72cd1f0f4c60ab": {
      "model_module": "@jupyter-widgets/controls",
      "model_module_version": "2.0.0",
      "model_name": "FloatProgressModel",
      "state": {
       "bar_style": "danger",
       "layout": "IPY_MODEL_db8bdc62cd764eed8b52519a5444061d",
       "max": 10,
       "style": "IPY_MODEL_fb3c4795ad6d41a5ad6fa938bdfe4c26"
      }
     },
     "3a8736e4c3f0458fbfded0a0e39d59a3": {
      "model_module": "@jupyter-widgets/base",
      "model_module_version": "2.0.0",
      "model_name": "LayoutModel",
      "state": {
       "flex": "2"
      }
     },
     "3abce16aa0b746429a0af5fe4698116a": {
      "model_module": "@jupyter-widgets/base",
      "model_module_version": "2.0.0",
      "model_name": "LayoutModel",
      "state": {}
     },
     "3af67c1cbfda4901ab9edf2bcfc818ff": {
      "model_module": "@jupyter-widgets/base",
      "model_module_version": "2.0.0",
      "model_name": "LayoutModel",
      "state": {
       "display": "inline-flex",
       "flex_flow": "row wrap",
       "width": "100%"
      }
     },
     "3b02931ed18e4199bc5ba31a7ca5e1af": {
      "model_module": "@jupyter-widgets/base",
      "model_module_version": "2.0.0",
      "model_name": "LayoutModel",
      "state": {}
     },
     "3b19e2f496c84cd0ac43086968ebebbd": {
      "model_module": "@jupyter-widgets/base",
      "model_module_version": "2.0.0",
      "model_name": "LayoutModel",
      "state": {}
     },
     "3b668618b1fd45e5b586622b2fb8f048": {
      "model_module": "@jupyter-widgets/controls",
      "model_module_version": "2.0.0",
      "model_name": "HTMLStyleModel",
      "state": {
       "description_width": "",
       "font_size": null,
       "text_color": null
      }
     },
     "3b87712ca8224b598029f9282d9f6f37": {
      "model_module": "@jupyter-widgets/controls",
      "model_module_version": "2.0.0",
      "model_name": "HTMLModel",
      "state": {
       "layout": "IPY_MODEL_e618c6afa01245dbbe937e50d813af87",
       "style": "IPY_MODEL_eb922e19a032439fad524cd46bfde852",
       "value": "  0%"
      }
     },
     "3b90b83f9051493eab502bc3dc5555fe": {
      "model_module": "@jupyter-widgets/base",
      "model_module_version": "2.0.0",
      "model_name": "LayoutModel",
      "state": {
       "display": "inline-flex",
       "flex_flow": "row wrap",
       "width": "100%"
      }
     },
     "3ba90e997ace48dd8169b6cca832d43d": {
      "model_module": "@jupyter-widgets/base",
      "model_module_version": "2.0.0",
      "model_name": "LayoutModel",
      "state": {
       "flex": "2"
      }
     },
     "3bada50a4d0b482884b9ef55a8685588": {
      "model_module": "@jupyter-widgets/base",
      "model_module_version": "2.0.0",
      "model_name": "LayoutModel",
      "state": {
       "display": "inline-flex",
       "flex_flow": "row wrap",
       "width": "100%"
      }
     },
     "3bc407401ebf46138657cd1962d78b87": {
      "model_module": "@jupyter-widgets/base",
      "model_module_version": "2.0.0",
      "model_name": "LayoutModel",
      "state": {}
     },
     "3be6f05da10143d9a3966e8eb91e59b6": {
      "model_module": "@jupyter-widgets/controls",
      "model_module_version": "2.0.0",
      "model_name": "HTMLStyleModel",
      "state": {
       "description_width": "",
       "font_size": null,
       "text_color": null
      }
     },
     "3c109c2e6d3c444e92dd4270ac7877d3": {
      "model_module": "@jupyter-widgets/controls",
      "model_module_version": "2.0.0",
      "model_name": "HBoxModel",
      "state": {
       "children": [
        "IPY_MODEL_0d541e04990441f295a623c1fa9b188c",
        "IPY_MODEL_28fe4634910e4b81a5478bd67375ab92",
        "IPY_MODEL_0192f57b04b141bfb6664370b0d3c8cf"
       ],
       "layout": "IPY_MODEL_bd29fabfb34c45d0a04da083cab0783e"
      }
     },
     "3c11d46edebc462681d8bc2ae7c7cbb1": {
      "model_module": "@jupyter-widgets/base",
      "model_module_version": "2.0.0",
      "model_name": "LayoutModel",
      "state": {}
     },
     "3c1ee1d1619448db950ca2b0b615701b": {
      "model_module": "@jupyter-widgets/controls",
      "model_module_version": "2.0.0",
      "model_name": "HBoxModel",
      "state": {
       "children": [
        "IPY_MODEL_415fb18214e742d2bcfbe855b9273ad2",
        "IPY_MODEL_ae6d8dc463c940b987e3c5b83bb2fe02",
        "IPY_MODEL_bcee2841a72044549e4a08a593334acd"
       ],
       "layout": "IPY_MODEL_7de4283d202747aea289af62cc268f6d"
      }
     },
     "3c23944c91d74f3bb15d71ad1db08afe": {
      "model_module": "@jupyter-widgets/controls",
      "model_module_version": "2.0.0",
      "model_name": "HTMLStyleModel",
      "state": {
       "description_width": "",
       "font_size": null,
       "text_color": null
      }
     },
     "3c42a1033eac409aa1f792accb17a485": {
      "model_module": "@jupyter-widgets/base",
      "model_module_version": "2.0.0",
      "model_name": "LayoutModel",
      "state": {
       "display": "inline-flex",
       "flex_flow": "row wrap",
       "width": "100%"
      }
     },
     "3c52cf745887473d8094f59443a9d9fa": {
      "model_module": "@jupyter-widgets/base",
      "model_module_version": "2.0.0",
      "model_name": "LayoutModel",
      "state": {}
     },
     "3c5682440bf2443b8f55f84c838be4a2": {
      "model_module": "@jupyter-widgets/base",
      "model_module_version": "2.0.0",
      "model_name": "LayoutModel",
      "state": {}
     },
     "3c8cfacbb4c84446ada43e25b6e44569": {
      "model_module": "@jupyter-widgets/controls",
      "model_module_version": "2.0.0",
      "model_name": "HTMLModel",
      "state": {
       "layout": "IPY_MODEL_bc98e7f0d25c4edbb98c98cbf668a37f",
       "style": "IPY_MODEL_5022e323683d466981239ef654d015ee",
       "value": "Epoch 80: 100%"
      }
     },
     "3ce184b44d4e4019902e84821f0a4cc4": {
      "model_module": "@jupyter-widgets/base",
      "model_module_version": "2.0.0",
      "model_name": "LayoutModel",
      "state": {
       "flex": "2"
      }
     },
     "3cf995f9ebbb4682ba0be82e7b8ee83d": {
      "model_module": "@jupyter-widgets/base",
      "model_module_version": "2.0.0",
      "model_name": "LayoutModel",
      "state": {}
     },
     "3cfc1619698e4d07ae48cf734e100b2d": {
      "model_module": "@jupyter-widgets/controls",
      "model_module_version": "2.0.0",
      "model_name": "HTMLStyleModel",
      "state": {
       "description_width": "",
       "font_size": null,
       "text_color": null
      }
     },
     "3d03719a7f23486d884aacf530fc2baa": {
      "model_module": "@jupyter-widgets/controls",
      "model_module_version": "2.0.0",
      "model_name": "HTMLModel",
      "state": {
       "layout": "IPY_MODEL_65e92ee58457409391a9bd5c985cd969",
       "style": "IPY_MODEL_0f5b1678ab2a4403aafec4efde79651d",
       "value": " 1/1 [00:00&lt;00:00, 107.88it/s]"
      }
     },
     "3d177a62ae864e8db86b2b4f891717b3": {
      "model_module": "@jupyter-widgets/controls",
      "model_module_version": "2.0.0",
      "model_name": "FloatProgressModel",
      "state": {
       "bar_style": "success",
       "layout": "IPY_MODEL_dfbb75de2016416ba791915b1de123d1",
       "max": 1,
       "style": "IPY_MODEL_b85fd0fe6c64414293d7f1d185835b64",
       "value": 1
      }
     },
     "3d1a8ca4f0234d1888a75754e1dd0f93": {
      "model_module": "@jupyter-widgets/base",
      "model_module_version": "2.0.0",
      "model_name": "LayoutModel",
      "state": {
       "flex": "2"
      }
     },
     "3d211586c5644e80b436231b02907891": {
      "model_module": "@jupyter-widgets/controls",
      "model_module_version": "2.0.0",
      "model_name": "HTMLStyleModel",
      "state": {
       "description_width": "",
       "font_size": null,
       "text_color": null
      }
     },
     "3d362d4d043447349a9bf72d3a6b6e3f": {
      "model_module": "@jupyter-widgets/controls",
      "model_module_version": "2.0.0",
      "model_name": "FloatProgressModel",
      "state": {
       "layout": "IPY_MODEL_82bc1826327a4e09986012f96aea2294",
       "max": 1,
       "style": "IPY_MODEL_ca5948de3c524e00972d266e6a0527b6",
       "value": 1
      }
     },
     "3d979652409c48d4bc1e4a6d80be628d": {
      "model_module": "@jupyter-widgets/base",
      "model_module_version": "2.0.0",
      "model_name": "LayoutModel",
      "state": {}
     },
     "3da09cef04554d4480cfd50826dcc6c7": {
      "model_module": "@jupyter-widgets/base",
      "model_module_version": "2.0.0",
      "model_name": "LayoutModel",
      "state": {}
     },
     "3dad9557f5bb4583880fff0f953d47e5": {
      "model_module": "@jupyter-widgets/base",
      "model_module_version": "2.0.0",
      "model_name": "LayoutModel",
      "state": {
       "flex": "2"
      }
     },
     "3dbd8ed441da4f8a92d687e899d158ce": {
      "model_module": "@jupyter-widgets/base",
      "model_module_version": "2.0.0",
      "model_name": "LayoutModel",
      "state": {}
     },
     "3dc96b3fbe124e68b34658d612b2a880": {
      "model_module": "@jupyter-widgets/base",
      "model_module_version": "2.0.0",
      "model_name": "LayoutModel",
      "state": {}
     },
     "3dd4a9815a22422486fdaaa46a70071f": {
      "model_module": "@jupyter-widgets/base",
      "model_module_version": "2.0.0",
      "model_name": "LayoutModel",
      "state": {}
     },
     "3ddd74620afe4355a00e921608dc70d1": {
      "model_module": "@jupyter-widgets/base",
      "model_module_version": "2.0.0",
      "model_name": "LayoutModel",
      "state": {}
     },
     "3df738aa8c104e5f87cca0c347eb4c7c": {
      "model_module": "@jupyter-widgets/controls",
      "model_module_version": "2.0.0",
      "model_name": "HTMLStyleModel",
      "state": {
       "description_width": "",
       "font_size": null,
       "text_color": null
      }
     },
     "3e10fff99e6e4de2b66748da33902ee9": {
      "model_module": "@jupyter-widgets/controls",
      "model_module_version": "2.0.0",
      "model_name": "HBoxModel",
      "state": {
       "children": [
        "IPY_MODEL_4222837bc93a4d2ab04ba3366c94d38a",
        "IPY_MODEL_8041b7f657894a2f8d8487e127bfcc5a",
        "IPY_MODEL_af172063387747a0ac0f4951fffb0693"
       ],
       "layout": "IPY_MODEL_f6c93d0b7de44cb38e7568aaa95592b7"
      }
     },
     "3e35cebe55044fa681fbcf3126c11a38": {
      "model_module": "@jupyter-widgets/controls",
      "model_module_version": "2.0.0",
      "model_name": "HBoxModel",
      "state": {
       "children": [
        "IPY_MODEL_0a142f2980d144b0b13b1725c07eddc9",
        "IPY_MODEL_23330d2927ba4f378be7c8c3cb8199f6",
        "IPY_MODEL_237e9e844b7b4a82a99a9b2302496876"
       ],
       "layout": "IPY_MODEL_84e8708e63df4aada51d81a7dfc626d4"
      }
     },
     "3e47ac2a218746deb7a4efc8d8ed5787": {
      "model_module": "@jupyter-widgets/controls",
      "model_module_version": "2.0.0",
      "model_name": "ProgressStyleModel",
      "state": {
       "description_width": ""
      }
     },
     "3e61a35618b24899957e6b7de168104a": {
      "model_module": "@jupyter-widgets/base",
      "model_module_version": "2.0.0",
      "model_name": "LayoutModel",
      "state": {
       "flex": "2"
      }
     },
     "3ea0840819f445adbde6569802db53a1": {
      "model_module": "@jupyter-widgets/controls",
      "model_module_version": "2.0.0",
      "model_name": "HTMLStyleModel",
      "state": {
       "description_width": "",
       "font_size": null,
       "text_color": null
      }
     },
     "3ee0e014fdd6459282708d1cc86c43f3": {
      "model_module": "@jupyter-widgets/controls",
      "model_module_version": "2.0.0",
      "model_name": "ProgressStyleModel",
      "state": {
       "description_width": ""
      }
     },
     "3ef6313f11014f8aa4c74d8d40e81df6": {
      "model_module": "@jupyter-widgets/base",
      "model_module_version": "2.0.0",
      "model_name": "LayoutModel",
      "state": {}
     },
     "3f2fb4c04cd848bf846a33fb70b0bc49": {
      "model_module": "@jupyter-widgets/base",
      "model_module_version": "2.0.0",
      "model_name": "LayoutModel",
      "state": {}
     },
     "3f3f73d46e2743e89074ff6d54579525": {
      "model_module": "@jupyter-widgets/base",
      "model_module_version": "2.0.0",
      "model_name": "LayoutModel",
      "state": {}
     },
     "3f5f6094450d419a98efd7a8be997acc": {
      "model_module": "@jupyter-widgets/base",
      "model_module_version": "2.0.0",
      "model_name": "LayoutModel",
      "state": {
       "flex": "2"
      }
     },
     "3f68472460504938b7c9347e034ba015": {
      "model_module": "@jupyter-widgets/controls",
      "model_module_version": "2.0.0",
      "model_name": "HTMLModel",
      "state": {
       "layout": "IPY_MODEL_53ffa6f1792a410c81219a8afda3a7a4",
       "style": "IPY_MODEL_5934f4e43551415f9087e1c9c9508a5e",
       "value": " 1/1 [00:00&lt;00:00, 88.78it/s]"
      }
     },
     "3f720d9ba6f649e29b3c6d81da76a3c5": {
      "model_module": "@jupyter-widgets/controls",
      "model_module_version": "2.0.0",
      "model_name": "HBoxModel",
      "state": {
       "children": [
        "IPY_MODEL_92993aeab5c24ef1839a57702bf7ab44",
        "IPY_MODEL_4af7559492da48869c37dd75ffe0443a",
        "IPY_MODEL_cc8bf393d5c84d5dba7cb76c5ffd49d1"
       ],
       "layout": "IPY_MODEL_7a95fcab436344518a4de7377b04ab76"
      }
     },
     "3f7b75b2f8d6469e8deccb6af01fcb00": {
      "model_module": "@jupyter-widgets/controls",
      "model_module_version": "2.0.0",
      "model_name": "ProgressStyleModel",
      "state": {
       "description_width": ""
      }
     },
     "3f93b08be2d34a4ea275f962e4a067ac": {
      "model_module": "@jupyter-widgets/base",
      "model_module_version": "2.0.0",
      "model_name": "LayoutModel",
      "state": {
       "display": "inline-flex",
       "flex_flow": "row wrap",
       "visibility": "hidden",
       "width": "100%"
      }
     },
     "3faa294c632e40d4a09d075aeb70fa3c": {
      "model_module": "@jupyter-widgets/controls",
      "model_module_version": "2.0.0",
      "model_name": "HTMLStyleModel",
      "state": {
       "description_width": "",
       "font_size": null,
       "text_color": null
      }
     },
     "3fb938d2f42e4d0892b1a4e09b96500e": {
      "model_module": "@jupyter-widgets/base",
      "model_module_version": "2.0.0",
      "model_name": "LayoutModel",
      "state": {
       "display": "inline-flex",
       "flex_flow": "row wrap",
       "width": "100%"
      }
     },
     "3fe36cc7618d45c7812302a67807cb10": {
      "model_module": "@jupyter-widgets/controls",
      "model_module_version": "2.0.0",
      "model_name": "HTMLModel",
      "state": {
       "layout": "IPY_MODEL_6e237ec6cee34439a9d702bf4cf46186",
       "style": "IPY_MODEL_31fb91b709f04bdda70598717ae2fb98",
       "value": "Testing DataLoader 0: 100%"
      }
     },
     "3fef1880513b4e44ab7697c578a9867d": {
      "model_module": "@jupyter-widgets/controls",
      "model_module_version": "2.0.0",
      "model_name": "HTMLStyleModel",
      "state": {
       "description_width": "",
       "font_size": null,
       "text_color": null
      }
     },
     "4080dca229784e4d97f33e6e3434d9ee": {
      "model_module": "@jupyter-widgets/base",
      "model_module_version": "2.0.0",
      "model_name": "LayoutModel",
      "state": {
       "flex": "2"
      }
     },
     "408c783a0bf54cdf9a6d703b6e491b06": {
      "model_module": "@jupyter-widgets/controls",
      "model_module_version": "2.0.0",
      "model_name": "HTMLStyleModel",
      "state": {
       "description_width": "",
       "font_size": null,
       "text_color": null
      }
     },
     "409a87a56b7a4abf8784556d77c42f2c": {
      "model_module": "@jupyter-widgets/controls",
      "model_module_version": "2.0.0",
      "model_name": "HTMLModel",
      "state": {
       "layout": "IPY_MODEL_14228b2823ae443c8a62fc1be781ab49",
       "style": "IPY_MODEL_4243b61214cb4d15a2f9aa4856c85453",
       "value": " 53/80 [00:54&lt;00:27,  1.02s/it, loss=0.556, v_num=57, MAE=10.20, RMSE=13.40, Loss=0.598, RegLoss=0.000]"
      }
     },
     "40c0b8fa0e554eb394854326d90f0796": {
      "model_module": "@jupyter-widgets/controls",
      "model_module_version": "2.0.0",
      "model_name": "HTMLModel",
      "state": {
       "layout": "IPY_MODEL_34a47f3766ef4fdfa9cf471710c4f572",
       "style": "IPY_MODEL_06df39cce1a94761bb3eff3a722398a4",
       "value": " 5/5 [00:00&lt;00:00, 10.34it/s, loss=0.0565, v_num=84, MAE=3.600, RMSE=4.670, Loss=0.0584, RegLoss=0.0143]"
      }
     },
     "40c2abbfb54f40c6b504b0eebf458918": {
      "model_module": "@jupyter-widgets/controls",
      "model_module_version": "2.0.0",
      "model_name": "HTMLModel",
      "state": {
       "layout": "IPY_MODEL_5c482ac0ae8a457999d1df597b562e70",
       "style": "IPY_MODEL_4932e264037a4652821c4d5be31bd4d0",
       "value": "Testing DataLoader 0: 100%"
      }
     },
     "40cd10d76ceb4fc68330b6cb46d77eb2": {
      "model_module": "@jupyter-widgets/controls",
      "model_module_version": "2.0.0",
      "model_name": "HTMLStyleModel",
      "state": {
       "description_width": "",
       "font_size": null,
       "text_color": null
      }
     },
     "40ead5cbf8f24b65aa55eed82b6fca5f": {
      "model_module": "@jupyter-widgets/base",
      "model_module_version": "2.0.0",
      "model_name": "LayoutModel",
      "state": {}
     },
     "40f757c92d884597a7612442806b9951": {
      "model_module": "@jupyter-widgets/base",
      "model_module_version": "2.0.0",
      "model_name": "LayoutModel",
      "state": {}
     },
     "4100135f0a6e41d0bebc59bf530351d9": {
      "model_module": "@jupyter-widgets/controls",
      "model_module_version": "2.0.0",
      "model_name": "HTMLModel",
      "state": {
       "layout": "IPY_MODEL_d98594a2143d466e993c2e29d789bf28",
       "style": "IPY_MODEL_526e3cff34f84f8f86d95244bc0e74c0",
       "value": "Epoch 19:  24%"
      }
     },
     "4100590a1b824606bec7af69213a7892": {
      "model_module": "@jupyter-widgets/controls",
      "model_module_version": "2.0.0",
      "model_name": "HTMLModel",
      "state": {
       "layout": "IPY_MODEL_7232c14eed3046529c8fd29e34f7f4be",
       "style": "IPY_MODEL_9eef9bd63d784e78aa6f91bcc71211dc",
       "value": "Epoch 80: 100%"
      }
     },
     "4148dd9b9d5742f58112d70f8572bec9": {
      "model_module": "@jupyter-widgets/base",
      "model_module_version": "2.0.0",
      "model_name": "LayoutModel",
      "state": {}
     },
     "414fbe36a5904bd9a4ba2feef1c964d1": {
      "model_module": "@jupyter-widgets/controls",
      "model_module_version": "2.0.0",
      "model_name": "ProgressStyleModel",
      "state": {
       "description_width": ""
      }
     },
     "415fb18214e742d2bcfbe855b9273ad2": {
      "model_module": "@jupyter-widgets/controls",
      "model_module_version": "2.0.0",
      "model_name": "HTMLModel",
      "state": {
       "layout": "IPY_MODEL_d406ee8540e24c7d949941623f58026b",
       "style": "IPY_MODEL_a2426b5c439c4a7693fd75985868ecff",
       "value": "Epoch 53:  66%"
      }
     },
     "41650d72089d451f8208159f95a58acd": {
      "model_module": "@jupyter-widgets/base",
      "model_module_version": "2.0.0",
      "model_name": "LayoutModel",
      "state": {
       "flex": "2"
      }
     },
     "416d9b6055834df3a4d7f661ebd89a19": {
      "model_module": "@jupyter-widgets/base",
      "model_module_version": "2.0.0",
      "model_name": "LayoutModel",
      "state": {}
     },
     "418b70a7ab6b4563ab17d68c644fa3d5": {
      "model_module": "@jupyter-widgets/controls",
      "model_module_version": "2.0.0",
      "model_name": "HTMLModel",
      "state": {
       "layout": "IPY_MODEL_36664f17f5e14196a2020798abf17c65",
       "style": "IPY_MODEL_03b5a357c54d4c53bf2612beceac0127",
       "value": "Epoch 53:  66%"
      }
     },
     "41b4fbdeedad45429b63ea37ac051903": {
      "model_module": "@jupyter-widgets/controls",
      "model_module_version": "2.0.0",
      "model_name": "HTMLModel",
      "state": {
       "layout": "IPY_MODEL_cadfe047bf2e4cfb80f2c428d6588765",
       "style": "IPY_MODEL_b7e41d88998f4e68baa402167834512d",
       "value": " 4/5 [00:11&lt;00:02,  2.82s/it, loss=0.0738, v_num=80, MAE=4.860, RMSE=6.200, Loss=0.081, RegLoss=0.000]"
      }
     },
     "41c4da8b8c594f2e8ce26f8606d0f77c": {
      "model_module": "@jupyter-widgets/controls",
      "model_module_version": "2.0.0",
      "model_name": "HTMLModel",
      "state": {
       "layout": "IPY_MODEL_a981657320bc4b478e8cbb802dd12bb4",
       "style": "IPY_MODEL_976751c4ba824eb985c7aeae100665ae",
       "value": " 4/80 [18:38:42&lt;354:15:22, 16780.56s/it, loss=0.0715, v_num=4, MAE=3.720, RMSE=4.760, Loss=0.0804, RegLoss=0.000]"
      }
     },
     "41c9c71794e646afb06f500ca56cbd23": {
      "model_module": "@jupyter-widgets/controls",
      "model_module_version": "2.0.0",
      "model_name": "HTMLStyleModel",
      "state": {
       "description_width": "",
       "font_size": null,
       "text_color": null
      }
     },
     "41e4778bc5da41b0ba862cb825dd6017": {
      "model_module": "@jupyter-widgets/base",
      "model_module_version": "2.0.0",
      "model_name": "LayoutModel",
      "state": {
       "display": "inline-flex",
       "flex_flow": "row wrap",
       "width": "100%"
      }
     },
     "41f5a9ac5cc245ef88087ffef4169207": {
      "model_module": "@jupyter-widgets/controls",
      "model_module_version": "2.0.0",
      "model_name": "HTMLStyleModel",
      "state": {
       "description_width": "",
       "font_size": null,
       "text_color": null
      }
     },
     "41fe283964d34721bd1ca316295c7e44": {
      "model_module": "@jupyter-widgets/controls",
      "model_module_version": "2.0.0",
      "model_name": "HBoxModel",
      "state": {
       "children": [
        "IPY_MODEL_d98165b9f8274ef9903d22018c5212c1",
        "IPY_MODEL_af45fb4fd88c42ed928ba43481fc98b7",
        "IPY_MODEL_d3dd4417bb8e49969077c13f1f73a9c4"
       ],
       "layout": "IPY_MODEL_47ef4ad10469424cb88531086d8b6ead"
      }
     },
     "420f1d9487eb49da9a8c809ed85a43df": {
      "model_module": "@jupyter-widgets/base",
      "model_module_version": "2.0.0",
      "model_name": "LayoutModel",
      "state": {}
     },
     "420f44707abb4e0a885c7c4e2694b05e": {
      "model_module": "@jupyter-widgets/base",
      "model_module_version": "2.0.0",
      "model_name": "LayoutModel",
      "state": {}
     },
     "4215e360a1a447ceaabeceab00782204": {
      "model_module": "@jupyter-widgets/base",
      "model_module_version": "2.0.0",
      "model_name": "LayoutModel",
      "state": {
       "flex": "2"
      }
     },
     "4222837bc93a4d2ab04ba3366c94d38a": {
      "model_module": "@jupyter-widgets/controls",
      "model_module_version": "2.0.0",
      "model_name": "HTMLModel",
      "state": {
       "layout": "IPY_MODEL_faa5b36751b84c38b84c41caa94f9ec4",
       "style": "IPY_MODEL_e62602e1d6ce4624b3899e5edbdd59ab",
       "value": "Testing DataLoader 0: 100%"
      }
     },
     "4223b8aaaf9043eabcf196ae70bf94c2": {
      "model_module": "@jupyter-widgets/controls",
      "model_module_version": "2.0.0",
      "model_name": "HTMLModel",
      "state": {
       "layout": "IPY_MODEL_997a0b5f97c74f40ac6a29ffe7ad70b5",
       "style": "IPY_MODEL_0e118e086e7346c5856584b5087e36f0",
       "value": "Testing DataLoader 0: 100%"
      }
     },
     "4228ace251994763b161d56696b50930": {
      "model_module": "@jupyter-widgets/controls",
      "model_module_version": "2.0.0",
      "model_name": "HTMLStyleModel",
      "state": {
       "description_width": "",
       "font_size": null,
       "text_color": null
      }
     },
     "423218b5b1aa4c518e9a38602d1e215b": {
      "model_module": "@jupyter-widgets/base",
      "model_module_version": "2.0.0",
      "model_name": "LayoutModel",
      "state": {
       "display": "inline-flex",
       "flex_flow": "row wrap",
       "width": "100%"
      }
     },
     "4237437bdba3496d8d6e2d9955cb86c1": {
      "model_module": "@jupyter-widgets/controls",
      "model_module_version": "2.0.0",
      "model_name": "ProgressStyleModel",
      "state": {
       "description_width": ""
      }
     },
     "4243b61214cb4d15a2f9aa4856c85453": {
      "model_module": "@jupyter-widgets/controls",
      "model_module_version": "2.0.0",
      "model_name": "HTMLStyleModel",
      "state": {
       "description_width": "",
       "font_size": null,
       "text_color": null
      }
     },
     "426191b933fa404995aceebaf63e5ccd": {
      "model_module": "@jupyter-widgets/base",
      "model_module_version": "2.0.0",
      "model_name": "LayoutModel",
      "state": {
       "flex": "2"
      }
     },
     "4268effb6057448eba09dba6da9b4c0d": {
      "model_module": "@jupyter-widgets/controls",
      "model_module_version": "2.0.0",
      "model_name": "HTMLStyleModel",
      "state": {
       "description_width": "",
       "font_size": null,
       "text_color": null
      }
     },
     "427edd487fc445798360b2a11739b3bd": {
      "model_module": "@jupyter-widgets/controls",
      "model_module_version": "2.0.0",
      "model_name": "HTMLModel",
      "state": {
       "layout": "IPY_MODEL_dd87223045b34a27a89c2f5eac65691b",
       "style": "IPY_MODEL_6293d089d4b14235bc6812f1af52d476",
       "value": " 1/1 [00:00&lt;00:00, 262.08it/s]"
      }
     },
     "4280416781784fc6993512a37138a65c": {
      "model_module": "@jupyter-widgets/controls",
      "model_module_version": "2.0.0",
      "model_name": "HBoxModel",
      "state": {
       "children": [
        "IPY_MODEL_debdaf0d31634f70a81c164325bffc74",
        "IPY_MODEL_e38d4c390eea489a8fb14bf2e8ec8afd",
        "IPY_MODEL_d1189fcb801840258dc9518cc7ed1184"
       ],
       "layout": "IPY_MODEL_5c7a6c57c9c6450ea1229108b4dfc60f"
      }
     },
     "42830c62f8034f269d82af14f8bf66a2": {
      "model_module": "@jupyter-widgets/base",
      "model_module_version": "2.0.0",
      "model_name": "LayoutModel",
      "state": {
       "display": "inline-flex",
       "flex_flow": "row wrap",
       "width": "100%"
      }
     },
     "42a03d5e50e445ef85c6fa03da192613": {
      "model_module": "@jupyter-widgets/base",
      "model_module_version": "2.0.0",
      "model_name": "LayoutModel",
      "state": {
       "flex": "2"
      }
     },
     "42bcc2fa861e42e0b0f0a21c0cddeeb7": {
      "model_module": "@jupyter-widgets/controls",
      "model_module_version": "2.0.0",
      "model_name": "ProgressStyleModel",
      "state": {
       "description_width": ""
      }
     },
     "4324a1cae123403493ad05fe90b13c54": {
      "model_module": "@jupyter-widgets/controls",
      "model_module_version": "2.0.0",
      "model_name": "HTMLStyleModel",
      "state": {
       "description_width": "",
       "font_size": null,
       "text_color": null
      }
     },
     "435a64f06f0248e488f102416eef2581": {
      "model_module": "@jupyter-widgets/controls",
      "model_module_version": "2.0.0",
      "model_name": "HTMLStyleModel",
      "state": {
       "description_width": "",
       "font_size": null,
       "text_color": null
      }
     },
     "43658c8c0092489b824d449ab437a6e0": {
      "model_module": "@jupyter-widgets/base",
      "model_module_version": "2.0.0",
      "model_name": "LayoutModel",
      "state": {
       "display": "inline-flex",
       "flex_flow": "row wrap",
       "width": "100%"
      }
     },
     "437a53a56b854c939c766546b1b0f81c": {
      "model_module": "@jupyter-widgets/controls",
      "model_module_version": "2.0.0",
      "model_name": "HTMLStyleModel",
      "state": {
       "description_width": "",
       "font_size": null,
       "text_color": null
      }
     },
     "43988a546647422daf7909877f6a1d9e": {
      "model_module": "@jupyter-widgets/base",
      "model_module_version": "2.0.0",
      "model_name": "LayoutModel",
      "state": {}
     },
     "43a68744aca345edbcc6a5e5fece96be": {
      "model_module": "@jupyter-widgets/controls",
      "model_module_version": "2.0.0",
      "model_name": "HTMLModel",
      "state": {
       "layout": "IPY_MODEL_13bd1d14f85e4dab8efe28803874c870",
       "style": "IPY_MODEL_df303d360ad648dbb315bbff83207acc",
       "value": " 0/10 [00:17&lt;?, ?it/s]"
      }
     },
     "43dd8b1dba8240bf861235a425784818": {
      "model_module": "@jupyter-widgets/base",
      "model_module_version": "2.0.0",
      "model_name": "LayoutModel",
      "state": {}
     },
     "4411029ff8e44681aedd2d06a3fed0a0": {
      "model_module": "@jupyter-widgets/controls",
      "model_module_version": "2.0.0",
      "model_name": "FloatProgressModel",
      "state": {
       "bar_style": "danger",
       "layout": "IPY_MODEL_65b09a3b88c64d6594a0cec4edc7e690",
       "max": 10,
       "style": "IPY_MODEL_64085e998abc4f938211cad08c4b3293"
      }
     },
     "447336bcd07a4169841f0d00ce7d2449": {
      "model_module": "@jupyter-widgets/controls",
      "model_module_version": "2.0.0",
      "model_name": "HTMLModel",
      "state": {
       "layout": "IPY_MODEL_ca39eb79e5ca49bfa5ef71ca515ff652",
       "style": "IPY_MODEL_14fcee99b0d04c648bcfd73023dc5ab1",
       "value": "  0%"
      }
     },
     "44cf4fe8fe0c4a7cbf9eed5efaa6f05a": {
      "model_module": "@jupyter-widgets/base",
      "model_module_version": "2.0.0",
      "model_name": "LayoutModel",
      "state": {}
     },
     "44cfb2be437e41128194cc0fe28daaf7": {
      "model_module": "@jupyter-widgets/controls",
      "model_module_version": "2.0.0",
      "model_name": "HTMLModel",
      "state": {
       "layout": "IPY_MODEL_51419ad3d0584bb78ee6b92344453ada",
       "style": "IPY_MODEL_67c72f3484be4538b552078dbb332aa5",
       "value": " 16/80 [00:22&lt;01:29,  1.39s/it, loss=0.441, v_num=71, MAE_val=3.310, RMSE_val=4.340, Loss_val=0.559, RegLoss_val=0.000, MAE=3.500, RMSE=4.490, Loss=0.460, RegLoss=0.000]"
      }
     },
     "44e1599780664cccac45cbd7df138c59": {
      "model_module": "@jupyter-widgets/controls",
      "model_module_version": "2.0.0",
      "model_name": "HBoxModel",
      "state": {
       "children": [
        "IPY_MODEL_176e1ce5be0e4779b6b65d28b35749e9",
        "IPY_MODEL_98c7fc472743492ab6cf34be6766c007",
        "IPY_MODEL_6505a2281aa942229dc80e3a923371da"
       ],
       "layout": "IPY_MODEL_f1fa97ff899849a5bea4e2c6e06f4295"
      }
     },
     "452b423320264bc988fb3c7b138ba425": {
      "model_module": "@jupyter-widgets/base",
      "model_module_version": "2.0.0",
      "model_name": "LayoutModel",
      "state": {}
     },
     "452f1cb7afe04669826e9c5f205c4c90": {
      "model_module": "@jupyter-widgets/base",
      "model_module_version": "2.0.0",
      "model_name": "LayoutModel",
      "state": {
       "flex": "2"
      }
     },
     "455f8a8e34024dd9a6a10b1c8d16579d": {
      "model_module": "@jupyter-widgets/controls",
      "model_module_version": "2.0.0",
      "model_name": "HTMLModel",
      "state": {
       "layout": "IPY_MODEL_4691cb4be3f5499eba1d0a0f53d23f35",
       "style": "IPY_MODEL_3be6f05da10143d9a3966e8eb91e59b6",
       "value": "Epoch 80: 100%"
      }
     },
     "4565df0e99bc4f2187c4d666a9d30df4": {
      "model_module": "@jupyter-widgets/controls",
      "model_module_version": "2.0.0",
      "model_name": "HTMLModel",
      "state": {
       "layout": "IPY_MODEL_0f03009fa5f44e468391db54d34d293f",
       "style": "IPY_MODEL_1427dabd009e483696604372d82a8ee0",
       "value": " 0/1 [00:01&lt;?, ?it/s]"
      }
     },
     "4565fe5c8d3b43549824753da966d94f": {
      "model_module": "@jupyter-widgets/base",
      "model_module_version": "2.0.0",
      "model_name": "LayoutModel",
      "state": {
       "display": "inline-flex",
       "flex_flow": "row wrap",
       "width": "100%"
      }
     },
     "4567df403887484fa535246a67e1e0a9": {
      "model_module": "@jupyter-widgets/controls",
      "model_module_version": "2.0.0",
      "model_name": "HTMLModel",
      "state": {
       "layout": "IPY_MODEL_58b3fec6a0cb468c93328cc28d216844",
       "style": "IPY_MODEL_3b668618b1fd45e5b586622b2fb8f048",
       "value": "  0%"
      }
     },
     "456f4816feeb468f9845a130be065de1": {
      "model_module": "@jupyter-widgets/controls",
      "model_module_version": "2.0.0",
      "model_name": "FloatProgressModel",
      "state": {
       "bar_style": "danger",
       "layout": "IPY_MODEL_564bd5ed602e4841ba6acd271ef87fe2",
       "max": 80,
       "style": "IPY_MODEL_89a256cd0c67400e9153226eb1059e65",
       "value": 53
      }
     },
     "45b7ec157e864fd186e9408d982c99ea": {
      "model_module": "@jupyter-widgets/controls",
      "model_module_version": "2.0.0",
      "model_name": "HTMLModel",
      "state": {
       "layout": "IPY_MODEL_22cb88f4f7f44c73a72b545cb44fe852",
       "style": "IPY_MODEL_bd11504d4d034a82862182ae46200251",
       "value": " 15/80 [00:00&lt;00:00, 84.12it/s, loss=0.041, v_num=48, MAE=4.080, RMSE=5.190, Loss=0.0421, RegLoss=0.000]"
      }
     },
     "45f272c192ec4596a2d19e94734468da": {
      "model_module": "@jupyter-widgets/controls",
      "model_module_version": "2.0.0",
      "model_name": "ProgressStyleModel",
      "state": {
       "description_width": ""
      }
     },
     "45fde3c76e2e42babb4b10c268eab080": {
      "model_module": "@jupyter-widgets/controls",
      "model_module_version": "2.0.0",
      "model_name": "HTMLStyleModel",
      "state": {
       "description_width": "",
       "font_size": null,
       "text_color": null
      }
     },
     "461ada0c479243a6926a2647e03a7cb6": {
      "model_module": "@jupyter-widgets/controls",
      "model_module_version": "2.0.0",
      "model_name": "HBoxModel",
      "state": {
       "children": [
        "IPY_MODEL_51869bf59b73431388be6b781dc6dd29",
        "IPY_MODEL_104215aea60f42b9bc76b7b2f1d3c9a9",
        "IPY_MODEL_0852cf5a10e846a7b44772a1c1dd2875"
       ],
       "layout": "IPY_MODEL_32566fd3616e4efa9f16bc218fc0ecaa"
      }
     },
     "462947cc8d3549f194f5343fca906a02": {
      "model_module": "@jupyter-widgets/base",
      "model_module_version": "2.0.0",
      "model_name": "LayoutModel",
      "state": {
       "flex": "2"
      }
     },
     "4630376c04464dbb9897e4096a53ea10": {
      "model_module": "@jupyter-widgets/controls",
      "model_module_version": "2.0.0",
      "model_name": "ProgressStyleModel",
      "state": {
       "description_width": ""
      }
     },
     "46446ad5b7ba4423877c5563c575aa79": {
      "model_module": "@jupyter-widgets/base",
      "model_module_version": "2.0.0",
      "model_name": "LayoutModel",
      "state": {}
     },
     "46527d0a7f4d4cf6ba4e79731c9031dd": {
      "model_module": "@jupyter-widgets/base",
      "model_module_version": "2.0.0",
      "model_name": "LayoutModel",
      "state": {
       "display": "inline-flex",
       "flex_flow": "row wrap",
       "width": "100%"
      }
     },
     "46705d450ddd4e41874b6e587eed998e": {
      "model_module": "@jupyter-widgets/base",
      "model_module_version": "2.0.0",
      "model_name": "LayoutModel",
      "state": {}
     },
     "4678db72d4f04ab1b53d5206114e75ac": {
      "model_module": "@jupyter-widgets/controls",
      "model_module_version": "2.0.0",
      "model_name": "HBoxModel",
      "state": {
       "children": [
        "IPY_MODEL_880fb5964ee941d882de597d0e5f267b",
        "IPY_MODEL_e5ab4c0596ff41aca7d12a1a58b4ed23",
        "IPY_MODEL_c09debf11452418ca9c99e831e670f1c"
       ],
       "layout": "IPY_MODEL_77eea94ae670447fa0158be5bf77357a"
      }
     },
     "4685fca421634fabad76154ad8eec283": {
      "model_module": "@jupyter-widgets/controls",
      "model_module_version": "2.0.0",
      "model_name": "HTMLStyleModel",
      "state": {
       "description_width": "",
       "font_size": null,
       "text_color": null
      }
     },
     "4691cb4be3f5499eba1d0a0f53d23f35": {
      "model_module": "@jupyter-widgets/base",
      "model_module_version": "2.0.0",
      "model_name": "LayoutModel",
      "state": {}
     },
     "46aac4d0dbcf49aca60966817396820e": {
      "model_module": "@jupyter-widgets/controls",
      "model_module_version": "2.0.0",
      "model_name": "HTMLModel",
      "state": {
       "layout": "IPY_MODEL_8ca6225cb07f44a58eaf39fb6cf133a8",
       "style": "IPY_MODEL_32079f3698124f1e9c7131aa52d48fde",
       "value": " 44/80 [01:01&lt;00:49,  1.39s/it, loss=4.51]"
      }
     },
     "46ab916c75cb47aa9fcccd241d9635a1": {
      "model_module": "@jupyter-widgets/base",
      "model_module_version": "2.0.0",
      "model_name": "LayoutModel",
      "state": {
       "display": "inline-flex",
       "flex_flow": "row wrap",
       "width": "100%"
      }
     },
     "46ebae3ec24c475bad51a7c3c318f955": {
      "model_module": "@jupyter-widgets/controls",
      "model_module_version": "2.0.0",
      "model_name": "FloatProgressModel",
      "state": {
       "bar_style": "danger",
       "layout": "IPY_MODEL_bcedd1d314184d6a9d9ee4b83f0de002",
       "max": 10,
       "style": "IPY_MODEL_5797746cbc3d4e02892cf36441ffb6a7"
      }
     },
     "470789c61e6a4acb909b974ee4488f9f": {
      "model_module": "@jupyter-widgets/base",
      "model_module_version": "2.0.0",
      "model_name": "LayoutModel",
      "state": {}
     },
     "470b1dc13e06459888c823a44b371651": {
      "model_module": "@jupyter-widgets/base",
      "model_module_version": "2.0.0",
      "model_name": "LayoutModel",
      "state": {}
     },
     "475028e1d77345abb4b5c96d4b740761": {
      "model_module": "@jupyter-widgets/base",
      "model_module_version": "2.0.0",
      "model_name": "LayoutModel",
      "state": {}
     },
     "476038c73460473b81306f0bfd208c9c": {
      "model_module": "@jupyter-widgets/controls",
      "model_module_version": "2.0.0",
      "model_name": "HTMLModel",
      "state": {
       "layout": "IPY_MODEL_6118262e9d044c6d8a78283fe1c452d3",
       "style": "IPY_MODEL_197d2cd878184be99eac32d5fe6c10b4",
       "value": "Testing DataLoader 0: 100%"
      }
     },
     "47875b712dcf4fb5bcb52023a3a263e8": {
      "model_module": "@jupyter-widgets/base",
      "model_module_version": "2.0.0",
      "model_name": "LayoutModel",
      "state": {
       "display": "inline-flex",
       "flex_flow": "row wrap",
       "width": "100%"
      }
     },
     "47ef4ad10469424cb88531086d8b6ead": {
      "model_module": "@jupyter-widgets/base",
      "model_module_version": "2.0.0",
      "model_name": "LayoutModel",
      "state": {
       "display": "inline-flex",
       "flex_flow": "row wrap",
       "width": "100%"
      }
     },
     "47ef5e94422748e7a24a64ea2f69c446": {
      "model_module": "@jupyter-widgets/controls",
      "model_module_version": "2.0.0",
      "model_name": "HTMLStyleModel",
      "state": {
       "description_width": "",
       "font_size": null,
       "text_color": null
      }
     },
     "4825bcd107af47f2a36a8a9d002265c7": {
      "model_module": "@jupyter-widgets/base",
      "model_module_version": "2.0.0",
      "model_name": "LayoutModel",
      "state": {}
     },
     "4827a95a3eda46d584a448d91e00facd": {
      "model_module": "@jupyter-widgets/controls",
      "model_module_version": "2.0.0",
      "model_name": "HBoxModel",
      "state": {
       "children": [
        "IPY_MODEL_e0a9e5117100439f9a0a92c3b0ee1858",
        "IPY_MODEL_cda8cf25cd01457cb65c95aa95263f8f",
        "IPY_MODEL_3440c9c141174ee2aa6a72071aa519b9"
       ],
       "layout": "IPY_MODEL_46527d0a7f4d4cf6ba4e79731c9031dd"
      }
     },
     "483c4766dd46429a97772f268ee46e1c": {
      "model_module": "@jupyter-widgets/controls",
      "model_module_version": "2.0.0",
      "model_name": "HTMLStyleModel",
      "state": {
       "description_width": "",
       "font_size": null,
       "text_color": null
      }
     },
     "485d3ff7f3ce4e43a2cb7b28cdbf38c0": {
      "model_module": "@jupyter-widgets/controls",
      "model_module_version": "2.0.0",
      "model_name": "ProgressStyleModel",
      "state": {
       "description_width": ""
      }
     },
     "485fa06fb6d54137af10e71afa069504": {
      "model_module": "@jupyter-widgets/base",
      "model_module_version": "2.0.0",
      "model_name": "LayoutModel",
      "state": {
       "flex": "2"
      }
     },
     "487435d8487d4c3e98d7ecadc896f3e3": {
      "model_module": "@jupyter-widgets/controls",
      "model_module_version": "2.0.0",
      "model_name": "HTMLModel",
      "state": {
       "layout": "IPY_MODEL_020aac8682f64389878a2287fc8b2d7d",
       "style": "IPY_MODEL_9622f0c287544801bcee835c88ed360b",
       "value": "Epoch 5: 100%"
      }
     },
     "4890aa38c2954b459d0f4b676701b934": {
      "model_module": "@jupyter-widgets/controls",
      "model_module_version": "2.0.0",
      "model_name": "FloatProgressModel",
      "state": {
       "bar_style": "success",
       "layout": "IPY_MODEL_c62ab157eeb745c99c17fdb45e7a7f12",
       "max": 1,
       "style": "IPY_MODEL_97eb7e331440421a9e567da413c96f46",
       "value": 1
      }
     },
     "48ae878ab056412bb10c006014bd5b5a": {
      "model_module": "@jupyter-widgets/controls",
      "model_module_version": "2.0.0",
      "model_name": "FloatProgressModel",
      "state": {
       "bar_style": "danger",
       "layout": "IPY_MODEL_aaea92f3d1b5410cb11714cb6d9c0837",
       "max": 10,
       "style": "IPY_MODEL_990843da84584c20b4798dfd73731112"
      }
     },
     "48aeb3ec36c7447b80ee10dcd7ec03f6": {
      "model_module": "@jupyter-widgets/base",
      "model_module_version": "2.0.0",
      "model_name": "LayoutModel",
      "state": {}
     },
     "48b48da537c641b98cf36afda07f2bd5": {
      "model_module": "@jupyter-widgets/controls",
      "model_module_version": "2.0.0",
      "model_name": "ProgressStyleModel",
      "state": {
       "description_width": ""
      }
     },
     "48fc43dc68e647fc8d364c2eb627ce33": {
      "model_module": "@jupyter-widgets/controls",
      "model_module_version": "2.0.0",
      "model_name": "HTMLStyleModel",
      "state": {
       "description_width": "",
       "font_size": null,
       "text_color": null
      }
     },
     "490d0d7de0ae45af9315d3cfcc73921f": {
      "model_module": "@jupyter-widgets/controls",
      "model_module_version": "2.0.0",
      "model_name": "HTMLModel",
      "state": {
       "layout": "IPY_MODEL_98e84ec544674565b12ec9245a6f675b",
       "style": "IPY_MODEL_ab38723d696540088c294b4f187cfa1a",
       "value": "Epoch 5: 100%"
      }
     },
     "4916365658854544a090b45fa6055a57": {
      "model_module": "@jupyter-widgets/controls",
      "model_module_version": "2.0.0",
      "model_name": "HTMLStyleModel",
      "state": {
       "description_width": "",
       "font_size": null,
       "text_color": null
      }
     },
     "4932e264037a4652821c4d5be31bd4d0": {
      "model_module": "@jupyter-widgets/controls",
      "model_module_version": "2.0.0",
      "model_name": "HTMLStyleModel",
      "state": {
       "description_width": "",
       "font_size": null,
       "text_color": null
      }
     },
     "494e78a52cb84548929d9092739e0ce7": {
      "model_module": "@jupyter-widgets/controls",
      "model_module_version": "2.0.0",
      "model_name": "HBoxModel",
      "state": {
       "children": [
        "IPY_MODEL_790a134246f5462c902139cdc2565c95",
        "IPY_MODEL_12fef3faa01c497d85a11286fe6abe8d",
        "IPY_MODEL_155ba1421fac4d58bf291f05163cd8e4"
       ],
       "layout": "IPY_MODEL_82c2b13e50894b6294557335f38425fd"
      }
     },
     "4951e90aa2dc458e838ec78625a0a361": {
      "model_module": "@jupyter-widgets/base",
      "model_module_version": "2.0.0",
      "model_name": "LayoutModel",
      "state": {}
     },
     "4980381f000e4ab8ab03a74b98368bc5": {
      "model_module": "@jupyter-widgets/controls",
      "model_module_version": "2.0.0",
      "model_name": "HBoxModel",
      "state": {
       "children": [
        "IPY_MODEL_cc45c5d9fdb349a68ee4a0d0605e8b09",
        "IPY_MODEL_c082d066f435474396e4d419ff9c79a7",
        "IPY_MODEL_da884434cfa646058ca47808ff7c91a2"
       ],
       "layout": "IPY_MODEL_6ae8f572885147a881ada2a226032475"
      }
     },
     "49983138c64f4db9bcfbdaae892b045f": {
      "model_module": "@jupyter-widgets/base",
      "model_module_version": "2.0.0",
      "model_name": "LayoutModel",
      "state": {
       "display": "inline-flex",
       "flex_flow": "row wrap",
       "width": "100%"
      }
     },
     "49a5a8572b824735a24086c0533d6bdb": {
      "model_module": "@jupyter-widgets/base",
      "model_module_version": "2.0.0",
      "model_name": "LayoutModel",
      "state": {
       "display": "inline-flex",
       "flex_flow": "row wrap",
       "width": "100%"
      }
     },
     "49b76f410c214365b2e2cb3c30764072": {
      "model_module": "@jupyter-widgets/controls",
      "model_module_version": "2.0.0",
      "model_name": "FloatProgressModel",
      "state": {
       "bar_style": "danger",
       "layout": "IPY_MODEL_e38c2555285041878789eee706701193",
       "max": 1,
       "style": "IPY_MODEL_4b58e0d962424c038e8e45d9267d1eae"
      }
     },
     "49b793afbf2f45b2bca139a04a21c014": {
      "model_module": "@jupyter-widgets/controls",
      "model_module_version": "2.0.0",
      "model_name": "ProgressStyleModel",
      "state": {
       "description_width": ""
      }
     },
     "49c058fface54db2a95c9bd6496bd420": {
      "model_module": "@jupyter-widgets/controls",
      "model_module_version": "2.0.0",
      "model_name": "ProgressStyleModel",
      "state": {
       "description_width": ""
      }
     },
     "49c3414c1037437186b87a8fcbffdb48": {
      "model_module": "@jupyter-widgets/controls",
      "model_module_version": "2.0.0",
      "model_name": "ProgressStyleModel",
      "state": {
       "description_width": ""
      }
     },
     "49eef5d6c80a40ec9777601b292caed2": {
      "model_module": "@jupyter-widgets/controls",
      "model_module_version": "2.0.0",
      "model_name": "HTMLStyleModel",
      "state": {
       "description_width": "",
       "font_size": null,
       "text_color": null
      }
     },
     "4a09796ce9964bada8898e9d7fd24f49": {
      "model_module": "@jupyter-widgets/base",
      "model_module_version": "2.0.0",
      "model_name": "LayoutModel",
      "state": {}
     },
     "4a0a86e3924e4430b53a49e28587b4a2": {
      "model_module": "@jupyter-widgets/base",
      "model_module_version": "2.0.0",
      "model_name": "LayoutModel",
      "state": {}
     },
     "4a0cd29d463e43b3a6eb4ae36e1eca03": {
      "model_module": "@jupyter-widgets/controls",
      "model_module_version": "2.0.0",
      "model_name": "HTMLModel",
      "state": {
       "layout": "IPY_MODEL_2eeb4f47b26d4acc8449b4339cb7be8d",
       "style": "IPY_MODEL_0389fd5cf42b4ed38afa9ebe63a0cc3a",
       "value": " 1/1 [00:00&lt;00:00, 182.81it/s]"
      }
     },
     "4a5ffdaf07c344c994d606cba45c7b1b": {
      "model_module": "@jupyter-widgets/base",
      "model_module_version": "2.0.0",
      "model_name": "LayoutModel",
      "state": {
       "flex": "2"
      }
     },
     "4a68ff874ec04180bf8f4aa3badfe894": {
      "model_module": "@jupyter-widgets/base",
      "model_module_version": "2.0.0",
      "model_name": "LayoutModel",
      "state": {}
     },
     "4aaa3d103b464761853f205b51064fba": {
      "model_module": "@jupyter-widgets/controls",
      "model_module_version": "2.0.0",
      "model_name": "HTMLModel",
      "state": {
       "layout": "IPY_MODEL_559ca6fc36664c2e96d91be0e4b476ab",
       "style": "IPY_MODEL_306004e701d34e63b70c9a97a65c52ac",
       "value": "  0%"
      }
     },
     "4aea390e9ca94871a6b0092ba54935d7": {
      "model_module": "@jupyter-widgets/base",
      "model_module_version": "2.0.0",
      "model_name": "LayoutModel",
      "state": {}
     },
     "4af349fbbe054721ac4ba390cbcee41c": {
      "model_module": "@jupyter-widgets/controls",
      "model_module_version": "2.0.0",
      "model_name": "ProgressStyleModel",
      "state": {
       "description_width": ""
      }
     },
     "4af570f572e84219a291515b376f96c7": {
      "model_module": "@jupyter-widgets/base",
      "model_module_version": "2.0.0",
      "model_name": "LayoutModel",
      "state": {
       "flex": "2"
      }
     },
     "4af7559492da48869c37dd75ffe0443a": {
      "model_module": "@jupyter-widgets/controls",
      "model_module_version": "2.0.0",
      "model_name": "FloatProgressModel",
      "state": {
       "bar_style": "success",
       "layout": "IPY_MODEL_dd43ef91c3424389ab06b67220c67824",
       "max": 1,
       "style": "IPY_MODEL_d90a22d660534fc9803a8a83157ca1f4",
       "value": 1
      }
     },
     "4b027de46b574bccbe035a6149a4af3a": {
      "model_module": "@jupyter-widgets/controls",
      "model_module_version": "2.0.0",
      "model_name": "HTMLStyleModel",
      "state": {
       "description_width": "",
       "font_size": null,
       "text_color": null
      }
     },
     "4b1c9de3c3944a6f9c0a65adca306259": {
      "model_module": "@jupyter-widgets/base",
      "model_module_version": "2.0.0",
      "model_name": "LayoutModel",
      "state": {}
     },
     "4b1e1e12a6e34a2a80f07261414f4fab": {
      "model_module": "@jupyter-widgets/controls",
      "model_module_version": "2.0.0",
      "model_name": "ProgressStyleModel",
      "state": {
       "description_width": ""
      }
     },
     "4b26a5259e4447f59ad059645bfb8fdb": {
      "model_module": "@jupyter-widgets/base",
      "model_module_version": "2.0.0",
      "model_name": "LayoutModel",
      "state": {}
     },
     "4b3a5996ed084f139dc828893b9fb6c1": {
      "model_module": "@jupyter-widgets/base",
      "model_module_version": "2.0.0",
      "model_name": "LayoutModel",
      "state": {}
     },
     "4b45aa71aa0f4eca8b61ffd4799da869": {
      "model_module": "@jupyter-widgets/base",
      "model_module_version": "2.0.0",
      "model_name": "LayoutModel",
      "state": {}
     },
     "4b58e0d962424c038e8e45d9267d1eae": {
      "model_module": "@jupyter-widgets/controls",
      "model_module_version": "2.0.0",
      "model_name": "ProgressStyleModel",
      "state": {
       "description_width": ""
      }
     },
     "4b701645f8d1453797dc551db379352e": {
      "model_module": "@jupyter-widgets/controls",
      "model_module_version": "2.0.0",
      "model_name": "ProgressStyleModel",
      "state": {
       "description_width": ""
      }
     },
     "4bcbe2c5e4e048159e9b86d734de78d3": {
      "model_module": "@jupyter-widgets/base",
      "model_module_version": "2.0.0",
      "model_name": "LayoutModel",
      "state": {}
     },
     "4bced7d7f1e84e8d82143e61db1f6898": {
      "model_module": "@jupyter-widgets/controls",
      "model_module_version": "2.0.0",
      "model_name": "HTMLModel",
      "state": {
       "layout": "IPY_MODEL_0630902998e046359d5dc4fa764d5963",
       "style": "IPY_MODEL_695d71326dfd4ffc96cabca42e8e2ffb",
       "value": " 1/1 [00:00&lt;00:00, 163.69it/s]"
      }
     },
     "4bf6bea9201a4223a371ab437abebbbd": {
      "model_module": "@jupyter-widgets/controls",
      "model_module_version": "2.0.0",
      "model_name": "HTMLStyleModel",
      "state": {
       "description_width": "",
       "font_size": null,
       "text_color": null
      }
     },
     "4bf9dd7cfa53464f970ddadfbef4697e": {
      "model_module": "@jupyter-widgets/controls",
      "model_module_version": "2.0.0",
      "model_name": "FloatProgressModel",
      "state": {
       "bar_style": "danger",
       "layout": "IPY_MODEL_9dc42ab3a0284535987019e757d467eb",
       "max": 1000,
       "style": "IPY_MODEL_9668e7aa4eda4c2a8cf5d450b88483a9"
      }
     },
     "4c029a10631b477093c92ad34274b17b": {
      "model_module": "@jupyter-widgets/base",
      "model_module_version": "2.0.0",
      "model_name": "LayoutModel",
      "state": {
       "display": "inline-flex",
       "flex_flow": "row wrap",
       "visibility": "hidden",
       "width": "100%"
      }
     },
     "4c1fede122284e4b846a608840566529": {
      "model_module": "@jupyter-widgets/controls",
      "model_module_version": "2.0.0",
      "model_name": "HTMLModel",
      "state": {
       "layout": "IPY_MODEL_48aeb3ec36c7447b80ee10dcd7ec03f6",
       "style": "IPY_MODEL_47ef5e94422748e7a24a64ea2f69c446",
       "value": " 80/80 [00:00&lt;00:00, 202.20it/s, loss=0.0824]"
      }
     },
     "4c2381a649fc43d39e1bce212e7e5e91": {
      "model_module": "@jupyter-widgets/controls",
      "model_module_version": "2.0.0",
      "model_name": "HTMLModel",
      "state": {
       "layout": "IPY_MODEL_0a6ffd6e180344ffb09001029221db0c",
       "style": "IPY_MODEL_ec7da90760f444948b405e5742e02270",
       "value": " 0/10 [00:59&lt;?, ?it/s]"
      }
     },
     "4c3572680e854fbab71679897159612a": {
      "model_module": "@jupyter-widgets/controls",
      "model_module_version": "2.0.0",
      "model_name": "FloatProgressModel",
      "state": {
       "bar_style": "success",
       "layout": "IPY_MODEL_3dad9557f5bb4583880fff0f953d47e5",
       "max": 1,
       "style": "IPY_MODEL_a99b9bf55c2d41c78ce9920d0113c40d",
       "value": 1
      }
     },
     "4c7df85db163493481bb55f091a2b4d5": {
      "model_module": "@jupyter-widgets/controls",
      "model_module_version": "2.0.0",
      "model_name": "HTMLModel",
      "state": {
       "layout": "IPY_MODEL_ebc177ae99c24dfda47b98986586ebd2",
       "style": "IPY_MODEL_abbf7bafeab1467d837c8d0303538dc3",
       "value": "Epoch 9:  11%"
      }
     },
     "4ca86758376643a3bc8b2b68a48171fa": {
      "model_module": "@jupyter-widgets/controls",
      "model_module_version": "2.0.0",
      "model_name": "HTMLStyleModel",
      "state": {
       "description_width": "",
       "font_size": null,
       "text_color": null
      }
     },
     "4cab33b54ae84a7cbdde5d5cc9af2ee7": {
      "model_module": "@jupyter-widgets/controls",
      "model_module_version": "2.0.0",
      "model_name": "ProgressStyleModel",
      "state": {
       "description_width": ""
      }
     },
     "4ce7f598e81f46a1818f39cd334e05c2": {
      "model_module": "@jupyter-widgets/controls",
      "model_module_version": "2.0.0",
      "model_name": "ProgressStyleModel",
      "state": {
       "description_width": ""
      }
     },
     "4cff782f2a9a46ab8e89741bb08b2477": {
      "model_module": "@jupyter-widgets/base",
      "model_module_version": "2.0.0",
      "model_name": "LayoutModel",
      "state": {}
     },
     "4d01f49cd95d4510a04f76a6ceb005d6": {
      "model_module": "@jupyter-widgets/controls",
      "model_module_version": "2.0.0",
      "model_name": "HTMLModel",
      "state": {
       "layout": "IPY_MODEL_8e6486cb13cb485399b6840d98ec9963",
       "style": "IPY_MODEL_c1aa3bf2ef454258ad8d2b66e33ce1c6",
       "value": " 80/80 [00:00&lt;00:00, 211.90it/s, loss=1.27]"
      }
     },
     "4d037506a05143f5986803d94823a9e7": {
      "model_module": "@jupyter-widgets/controls",
      "model_module_version": "2.0.0",
      "model_name": "FloatProgressModel",
      "state": {
       "bar_style": "danger",
       "layout": "IPY_MODEL_883454ea93444f1fa3f039727e24b36f",
       "max": 80,
       "style": "IPY_MODEL_65aec4d7e809452d8ca8f73cd27fa2e8",
       "value": 1
      }
     },
     "4d0f8d93670a49b8b0d39aa333f5720a": {
      "model_module": "@jupyter-widgets/controls",
      "model_module_version": "2.0.0",
      "model_name": "HTMLModel",
      "state": {
       "layout": "IPY_MODEL_cd7d47e7de3a47b8a3f1abfa530d5692",
       "style": "IPY_MODEL_fdb4282e1f084de5940f17d10f818a07",
       "value": " 5/5 [00:00&lt;00:00, 14.64it/s, loss=0.0689, v_num=78, MAE=3.490, RMSE=4.480, Loss=0.0719, RegLoss=0.0275]"
      }
     },
     "4d38823ca08744968f64e8bcb0bcd2b2": {
      "model_module": "@jupyter-widgets/base",
      "model_module_version": "2.0.0",
      "model_name": "LayoutModel",
      "state": {
       "display": "inline-flex",
       "flex_flow": "row wrap",
       "width": "100%"
      }
     },
     "4d4e3aafd2fc4d9c95f09478753bef6e": {
      "model_module": "@jupyter-widgets/controls",
      "model_module_version": "2.0.0",
      "model_name": "FloatProgressModel",
      "state": {
       "bar_style": "success",
       "layout": "IPY_MODEL_42a03d5e50e445ef85c6fa03da192613",
       "max": 1,
       "style": "IPY_MODEL_36264fcf9ce447ad86300451a6cca4ff",
       "value": 1
      }
     },
     "4d6305bcf9d44072b398f5cba43d996f": {
      "model_module": "@jupyter-widgets/base",
      "model_module_version": "2.0.0",
      "model_name": "LayoutModel",
      "state": {
       "display": "inline-flex",
       "flex_flow": "row wrap",
       "width": "100%"
      }
     },
     "4d773f3decb4483c82f1ff4c363cf385": {
      "model_module": "@jupyter-widgets/base",
      "model_module_version": "2.0.0",
      "model_name": "LayoutModel",
      "state": {
       "display": "inline-flex",
       "flex_flow": "row wrap",
       "width": "100%"
      }
     },
     "4d77536456e04166bd1e6d0bf31e0470": {
      "model_module": "@jupyter-widgets/controls",
      "model_module_version": "2.0.0",
      "model_name": "HBoxModel",
      "state": {
       "children": [
        "IPY_MODEL_e2188555d2714102a3640a323e1ae9c0",
        "IPY_MODEL_b529454761ad4287aa7483f4efc13d14",
        "IPY_MODEL_d03afcc948b5404d9e7b9ce1cc9b3766"
       ],
       "layout": "IPY_MODEL_18e244ee34074206a519611a0f2eba89"
      }
     },
     "4d83cbf6aafe4a72a8c2e449df32f941": {
      "model_module": "@jupyter-widgets/controls",
      "model_module_version": "2.0.0",
      "model_name": "HTMLStyleModel",
      "state": {
       "description_width": "",
       "font_size": null,
       "text_color": null
      }
     },
     "4db20f2a65fb4460b06240d66ee8c730": {
      "model_module": "@jupyter-widgets/controls",
      "model_module_version": "2.0.0",
      "model_name": "FloatProgressModel",
      "state": {
       "bar_style": "danger",
       "layout": "IPY_MODEL_834480a2d1184584a8df5dd8bb1a4127",
       "max": 80,
       "style": "IPY_MODEL_3e47ac2a218746deb7a4efc8d8ed5787",
       "value": 1
      }
     },
     "4de18e00d1ba409490668f4897281c6d": {
      "model_module": "@jupyter-widgets/base",
      "model_module_version": "2.0.0",
      "model_name": "LayoutModel",
      "state": {
       "display": "inline-flex",
       "flex_flow": "row wrap",
       "width": "100%"
      }
     },
     "4e1f3b88365a41c7b2f746318f1101cd": {
      "model_module": "@jupyter-widgets/base",
      "model_module_version": "2.0.0",
      "model_name": "LayoutModel",
      "state": {}
     },
     "4e53110a4f504675aeaed4a2d249d8c7": {
      "model_module": "@jupyter-widgets/base",
      "model_module_version": "2.0.0",
      "model_name": "LayoutModel",
      "state": {
       "display": "inline-flex",
       "flex_flow": "row wrap",
       "width": "100%"
      }
     },
     "4e7d98e0361d4f669ba0f8078689a4d9": {
      "model_module": "@jupyter-widgets/controls",
      "model_module_version": "2.0.0",
      "model_name": "HTMLStyleModel",
      "state": {
       "description_width": "",
       "font_size": null,
       "text_color": null
      }
     },
     "4ea18709716c45dc986d28b6d996411d": {
      "model_module": "@jupyter-widgets/base",
      "model_module_version": "2.0.0",
      "model_name": "LayoutModel",
      "state": {}
     },
     "4ea7fb3feb8649d0ad2bce83e83c3490": {
      "model_module": "@jupyter-widgets/base",
      "model_module_version": "2.0.0",
      "model_name": "LayoutModel",
      "state": {}
     },
     "4ebfa4710ad8498e9985fc65cf064e96": {
      "model_module": "@jupyter-widgets/controls",
      "model_module_version": "2.0.0",
      "model_name": "FloatProgressModel",
      "state": {
       "bar_style": "success",
       "layout": "IPY_MODEL_53e4f2cbcc284f6fa28a7fc5368ec4f9",
       "max": 1,
       "style": "IPY_MODEL_738d25f385f94d358a99f917a277371e",
       "value": 1
      }
     },
     "4ed79763ab3f44e8b7f27b38695d69ff": {
      "model_module": "@jupyter-widgets/base",
      "model_module_version": "2.0.0",
      "model_name": "LayoutModel",
      "state": {}
     },
     "4ee70652e1514e489d52b50aeb2b414f": {
      "model_module": "@jupyter-widgets/controls",
      "model_module_version": "2.0.0",
      "model_name": "FloatProgressModel",
      "state": {
       "bar_style": "success",
       "layout": "IPY_MODEL_361cbddaeb214ce4aa161934b8dd065b",
       "max": 5,
       "style": "IPY_MODEL_694977a8e5884c4cab345a31804762cc",
       "value": 5
      }
     },
     "4ee999b5685942a3a3a43ca1adba0961": {
      "model_module": "@jupyter-widgets/base",
      "model_module_version": "2.0.0",
      "model_name": "LayoutModel",
      "state": {}
     },
     "4ef1dbf94ae54ebabf762f6a7bb34581": {
      "model_module": "@jupyter-widgets/base",
      "model_module_version": "2.0.0",
      "model_name": "LayoutModel",
      "state": {
       "display": "inline-flex",
       "flex_flow": "row wrap",
       "visibility": "hidden",
       "width": "100%"
      }
     },
     "4ef928114d874629a1533afa02cef9f8": {
      "model_module": "@jupyter-widgets/base",
      "model_module_version": "2.0.0",
      "model_name": "LayoutModel",
      "state": {
       "display": "inline-flex",
       "flex_flow": "row wrap",
       "width": "100%"
      }
     },
     "4efa8f7ff2014281855c68394ac75712": {
      "model_module": "@jupyter-widgets/base",
      "model_module_version": "2.0.0",
      "model_name": "LayoutModel",
      "state": {
       "display": "inline-flex",
       "flex_flow": "row wrap",
       "width": "100%"
      }
     },
     "4efb849cc79549a59f15c634068fbd0a": {
      "model_module": "@jupyter-widgets/controls",
      "model_module_version": "2.0.0",
      "model_name": "HTMLStyleModel",
      "state": {
       "description_width": "",
       "font_size": null,
       "text_color": null
      }
     },
     "4f589c5dce03463f87695f0ad68cf0d5": {
      "model_module": "@jupyter-widgets/controls",
      "model_module_version": "2.0.0",
      "model_name": "HTMLStyleModel",
      "state": {
       "description_width": "",
       "font_size": null,
       "text_color": null
      }
     },
     "4f680e0f2a144ffab41134ff7190221f": {
      "model_module": "@jupyter-widgets/base",
      "model_module_version": "2.0.0",
      "model_name": "LayoutModel",
      "state": {}
     },
     "4f6ba49dc8ee4ed4b2614e1c9cd877eb": {
      "model_module": "@jupyter-widgets/controls",
      "model_module_version": "2.0.0",
      "model_name": "HTMLStyleModel",
      "state": {
       "description_width": "",
       "font_size": null,
       "text_color": null
      }
     },
     "4f792dcf008d444c9699c1cfe2dcd51c": {
      "model_module": "@jupyter-widgets/controls",
      "model_module_version": "2.0.0",
      "model_name": "HTMLModel",
      "state": {
       "layout": "IPY_MODEL_87bf9c5e4cae449b8a6aed05a22ff8d7",
       "style": "IPY_MODEL_cdc0db68b95a4aad97deca86c23917cf",
       "value": "Testing DataLoader 0: 100%"
      }
     },
     "4f88a9e72dd245fb8b57faec3b4a0d03": {
      "model_module": "@jupyter-widgets/controls",
      "model_module_version": "2.0.0",
      "model_name": "HTMLModel",
      "state": {
       "layout": "IPY_MODEL_7938c3305bf64efca94b5cc17f26118b",
       "style": "IPY_MODEL_d67bd8056e7c48c981fcca33a6cf1a0d",
       "value": " 1/80 [03:51&lt;5:04:29, 231.26s/it]"
      }
     },
     "4fa5190fda944379b635728be0285e77": {
      "model_module": "@jupyter-widgets/controls",
      "model_module_version": "2.0.0",
      "model_name": "HTMLStyleModel",
      "state": {
       "description_width": "",
       "font_size": null,
       "text_color": null
      }
     },
     "4fe4a888289c452a81363b41692fa5be": {
      "model_module": "@jupyter-widgets/controls",
      "model_module_version": "2.0.0",
      "model_name": "HTMLModel",
      "state": {
       "layout": "IPY_MODEL_8d675b1f3da44c6b8eaaac7f8b31f109",
       "style": "IPY_MODEL_2dd326d723a6464399e749a2c6c9b295",
       "value": " 4/5 [00:00&lt;00:00, 25.79it/s, loss=0.0695, v_num=89, MAE=5.940, RMSE=7.660, Loss=0.114, RegLoss=0.000]"
      }
     },
     "4fe7f2ad7bad45af9c572f26dc66da2d": {
      "model_module": "@jupyter-widgets/base",
      "model_module_version": "2.0.0",
      "model_name": "LayoutModel",
      "state": {
       "flex": "2"
      }
     },
     "4ff63d1784204461b1d87ee635473c09": {
      "model_module": "@jupyter-widgets/base",
      "model_module_version": "2.0.0",
      "model_name": "LayoutModel",
      "state": {}
     },
     "5005ffea31634550bb314bcd546c625e": {
      "model_module": "@jupyter-widgets/controls",
      "model_module_version": "2.0.0",
      "model_name": "ProgressStyleModel",
      "state": {
       "description_width": ""
      }
     },
     "5012616584f9465cb89dd9d977fdc7b8": {
      "model_module": "@jupyter-widgets/base",
      "model_module_version": "2.0.0",
      "model_name": "LayoutModel",
      "state": {}
     },
     "5022e323683d466981239ef654d015ee": {
      "model_module": "@jupyter-widgets/controls",
      "model_module_version": "2.0.0",
      "model_name": "HTMLStyleModel",
      "state": {
       "description_width": "",
       "font_size": null,
       "text_color": null
      }
     },
     "5038eff8d2db42cab5544de5d1605221": {
      "model_module": "@jupyter-widgets/base",
      "model_module_version": "2.0.0",
      "model_name": "LayoutModel",
      "state": {
       "display": "inline-flex",
       "flex_flow": "row wrap",
       "width": "100%"
      }
     },
     "50c8e5c426414b8f9da890c27895585f": {
      "model_module": "@jupyter-widgets/controls",
      "model_module_version": "2.0.0",
      "model_name": "HTMLModel",
      "state": {
       "layout": "IPY_MODEL_bff8ea41a02649e884e9448687fcc05f",
       "style": "IPY_MODEL_b88d208b571c4275b4a610ae5fe384ab",
       "value": " 1/1 [00:00&lt;00:00, 93.53it/s]"
      }
     },
     "50d5fafa71b14fe194c1d5fe62c89a14": {
      "model_module": "@jupyter-widgets/base",
      "model_module_version": "2.0.0",
      "model_name": "LayoutModel",
      "state": {
       "display": "inline-flex",
       "flex_flow": "row wrap",
       "width": "100%"
      }
     },
     "50e28d6265044e54b67d39ee19695646": {
      "model_module": "@jupyter-widgets/controls",
      "model_module_version": "2.0.0",
      "model_name": "ProgressStyleModel",
      "state": {
       "description_width": ""
      }
     },
     "50f43626d48a4aa7890cc7749eafc2f1": {
      "model_module": "@jupyter-widgets/controls",
      "model_module_version": "2.0.0",
      "model_name": "HTMLStyleModel",
      "state": {
       "description_width": "",
       "font_size": null,
       "text_color": null
      }
     },
     "50fa9f6f5fd6411aab0de167908c9add": {
      "model_module": "@jupyter-widgets/controls",
      "model_module_version": "2.0.0",
      "model_name": "HTMLStyleModel",
      "state": {
       "description_width": "",
       "font_size": null,
       "text_color": null
      }
     },
     "51160adee666418e94fe18dd36cb125b": {
      "model_module": "@jupyter-widgets/base",
      "model_module_version": "2.0.0",
      "model_name": "LayoutModel",
      "state": {}
     },
     "512f1505a74a450f83df0dda46a5cbe7": {
      "model_module": "@jupyter-widgets/controls",
      "model_module_version": "2.0.0",
      "model_name": "HTMLModel",
      "state": {
       "layout": "IPY_MODEL_0b043a14e85c473fa3448d39e63ac079",
       "style": "IPY_MODEL_a43f2b75e1724232b2dd97b0a251bf94",
       "value": " 0/10 [00:22&lt;?, ?it/s]"
      }
     },
     "5137ee35c06c4c8d89bcf73dbce3dc68": {
      "model_module": "@jupyter-widgets/controls",
      "model_module_version": "2.0.0",
      "model_name": "HTMLStyleModel",
      "state": {
       "description_width": "",
       "font_size": null,
       "text_color": null
      }
     },
     "51419ad3d0584bb78ee6b92344453ada": {
      "model_module": "@jupyter-widgets/base",
      "model_module_version": "2.0.0",
      "model_name": "LayoutModel",
      "state": {}
     },
     "5145622ca26740bdb8d3bf2a2bb47e5f": {
      "model_module": "@jupyter-widgets/controls",
      "model_module_version": "2.0.0",
      "model_name": "HBoxModel",
      "state": {
       "children": [
        "IPY_MODEL_487435d8487d4c3e98d7ecadc896f3e3",
        "IPY_MODEL_2468efcc97dc496dbbc66fe567ed73d5",
        "IPY_MODEL_4d0f8d93670a49b8b0d39aa333f5720a"
       ],
       "layout": "IPY_MODEL_69e6723d3e87420aaff1c1d4699a4613"
      }
     },
     "517d03ad5fa541cf90369bba2cd092c0": {
      "model_module": "@jupyter-widgets/controls",
      "model_module_version": "2.0.0",
      "model_name": "ProgressStyleModel",
      "state": {
       "description_width": ""
      }
     },
     "5182c8fa768f44c088d038e70469d04e": {
      "model_module": "@jupyter-widgets/controls",
      "model_module_version": "2.0.0",
      "model_name": "HBoxModel",
      "state": {
       "children": [
        "IPY_MODEL_8fc2c7f6127640ac93e3f1d7fe80506f",
        "IPY_MODEL_257746a289e44f51bb15917430f4e852",
        "IPY_MODEL_35456a7f3bc24ce78f815e4cd5c78177"
       ],
       "layout": "IPY_MODEL_4d6305bcf9d44072b398f5cba43d996f"
      }
     },
     "51869bf59b73431388be6b781dc6dd29": {
      "model_module": "@jupyter-widgets/controls",
      "model_module_version": "2.0.0",
      "model_name": "HTMLModel",
      "state": {
       "layout": "IPY_MODEL_ab2179e1f2e344e3b5e41e39977088ff",
       "style": "IPY_MODEL_707678bc79fd476195f056cdc6b23afa",
       "value": "Testing DataLoader 0: 100%"
      }
     },
     "518fd954649849c9995b729c8a240699": {
      "model_module": "@jupyter-widgets/controls",
      "model_module_version": "2.0.0",
      "model_name": "FloatProgressModel",
      "state": {
       "bar_style": "danger",
       "layout": "IPY_MODEL_253b0648148f40049f635df70ef3f472",
       "max": 80,
       "style": "IPY_MODEL_16d408acfbe04ac4a207cd2eec67d7d5",
       "value": 53
      }
     },
     "51cbb734d98e468ca37d622fbd1a815f": {
      "model_module": "@jupyter-widgets/controls",
      "model_module_version": "2.0.0",
      "model_name": "FloatProgressModel",
      "state": {
       "bar_style": "danger",
       "layout": "IPY_MODEL_cee64b707adb4b8ca854cc99267e2929",
       "max": 1,
       "style": "IPY_MODEL_705199a266c84ef49c13902654e7478c"
      }
     },
     "521a15ee06974644a7a8a1d55d08968a": {
      "model_module": "@jupyter-widgets/base",
      "model_module_version": "2.0.0",
      "model_name": "LayoutModel",
      "state": {
       "flex": "2"
      }
     },
     "5223249927ae427881789296eae33b7e": {
      "model_module": "@jupyter-widgets/base",
      "model_module_version": "2.0.0",
      "model_name": "LayoutModel",
      "state": {}
     },
     "5237cc86c9ff4c3a83cb05ba4f52aa74": {
      "model_module": "@jupyter-widgets/controls",
      "model_module_version": "2.0.0",
      "model_name": "ProgressStyleModel",
      "state": {
       "description_width": ""
      }
     },
     "5247479c42fd4e28a8b1f3ec2064bee4": {
      "model_module": "@jupyter-widgets/base",
      "model_module_version": "2.0.0",
      "model_name": "LayoutModel",
      "state": {}
     },
     "5249442d2f314eae9c97d2c908545377": {
      "model_module": "@jupyter-widgets/controls",
      "model_module_version": "2.0.0",
      "model_name": "ProgressStyleModel",
      "state": {
       "description_width": ""
      }
     },
     "525cf692519f49618bf0b18fb86ca74e": {
      "model_module": "@jupyter-widgets/controls",
      "model_module_version": "2.0.0",
      "model_name": "HTMLStyleModel",
      "state": {
       "description_width": "",
       "font_size": null,
       "text_color": null
      }
     },
     "526b0b2687234c25bd4f6443ffb8898c": {
      "model_module": "@jupyter-widgets/base",
      "model_module_version": "2.0.0",
      "model_name": "LayoutModel",
      "state": {}
     },
     "526e3cff34f84f8f86d95244bc0e74c0": {
      "model_module": "@jupyter-widgets/controls",
      "model_module_version": "2.0.0",
      "model_name": "HTMLStyleModel",
      "state": {
       "description_width": "",
       "font_size": null,
       "text_color": null
      }
     },
     "526ec9c9382e4413be20993d093dd79f": {
      "model_module": "@jupyter-widgets/base",
      "model_module_version": "2.0.0",
      "model_name": "LayoutModel",
      "state": {}
     },
     "5270d142e1694337822a9804350b79ee": {
      "model_module": "@jupyter-widgets/controls",
      "model_module_version": "2.0.0",
      "model_name": "HTMLModel",
      "state": {
       "layout": "IPY_MODEL_5446cfb83416496a86f9ce9323a027a6",
       "style": "IPY_MODEL_50f43626d48a4aa7890cc7749eafc2f1",
       "value": " 1/80 [00:00&lt;00:34,  2.29it/s]"
      }
     },
     "527152030af54e21ba472f6fbc760aeb": {
      "model_module": "@jupyter-widgets/base",
      "model_module_version": "2.0.0",
      "model_name": "LayoutModel",
      "state": {}
     },
     "527b6884a4c44c74ac5924c29ede6d0b": {
      "model_module": "@jupyter-widgets/base",
      "model_module_version": "2.0.0",
      "model_name": "LayoutModel",
      "state": {}
     },
     "529f2735369340acb25c81104e9d4321": {
      "model_module": "@jupyter-widgets/controls",
      "model_module_version": "2.0.0",
      "model_name": "HTMLStyleModel",
      "state": {
       "description_width": "",
       "font_size": null,
       "text_color": null
      }
     },
     "52cef1629cd54feabfef938184b0120c": {
      "model_module": "@jupyter-widgets/controls",
      "model_module_version": "2.0.0",
      "model_name": "HTMLStyleModel",
      "state": {
       "description_width": "",
       "font_size": null,
       "text_color": null
      }
     },
     "532678a053f1402f9e75a23536e5edab": {
      "model_module": "@jupyter-widgets/base",
      "model_module_version": "2.0.0",
      "model_name": "LayoutModel",
      "state": {
       "display": "inline-flex",
       "flex_flow": "row wrap",
       "visibility": "hidden",
       "width": "100%"
      }
     },
     "533549f500dc494dafd45623d65fc418": {
      "model_module": "@jupyter-widgets/controls",
      "model_module_version": "2.0.0",
      "model_name": "HTMLStyleModel",
      "state": {
       "description_width": "",
       "font_size": null,
       "text_color": null
      }
     },
     "5390b1a83b244dfdb43481abb2fa51a5": {
      "model_module": "@jupyter-widgets/controls",
      "model_module_version": "2.0.0",
      "model_name": "HTMLModel",
      "state": {
       "layout": "IPY_MODEL_7c6782a701394e0d9e7bbbd3fd199575",
       "style": "IPY_MODEL_196e7d1ddaae4946ab6fc245ea406530",
       "value": " 1/1 [00:00&lt;00:00, 240.98it/s]"
      }
     },
     "5397152ed4ba4acfa0e60ffe8752d7ea": {
      "model_module": "@jupyter-widgets/controls",
      "model_module_version": "2.0.0",
      "model_name": "HTMLModel",
      "state": {
       "layout": "IPY_MODEL_7cfc29cbe3d64ac899edf1feb1ac1c68",
       "style": "IPY_MODEL_4b027de46b574bccbe035a6149a4af3a",
       "value": " 80/80 [00:00&lt;00:00, 276.77it/s, loss=0.0362, v_num=46, MAE=3.630, RMSE=4.580, Loss=0.0359, RegLoss=0.00178]"
      }
     },
     "53ca5739130b469baa831ad0ba0852e9": {
      "model_module": "@jupyter-widgets/controls",
      "model_module_version": "2.0.0",
      "model_name": "HTMLModel",
      "state": {
       "layout": "IPY_MODEL_a859fd13d6d344f9856b657d9fbb9ca7",
       "style": "IPY_MODEL_d9d44e4d11a64012b00f445ecf7b7de3",
       "value": " 0/10 [00:24&lt;?, ?it/s]"
      }
     },
     "53da328527c24adfa83b0543e17db487": {
      "model_module": "@jupyter-widgets/controls",
      "model_module_version": "2.0.0",
      "model_name": "HTMLModel",
      "state": {
       "layout": "IPY_MODEL_d892094c169d4a46997d39533272df32",
       "style": "IPY_MODEL_20de8559d13440178111052404b3dad1",
       "value": "Epoch 1:   1%"
      }
     },
     "53defd1327db4dda80831eae99286105": {
      "model_module": "@jupyter-widgets/controls",
      "model_module_version": "2.0.0",
      "model_name": "HBoxModel",
      "state": {
       "children": [
        "IPY_MODEL_a795bee5507b48f084c2c85cdfab86ba",
        "IPY_MODEL_096a63d5a9a140aaa69e3c21d102b8d3",
        "IPY_MODEL_600fc80b3cc2459b90e89317f3be7a19"
       ],
       "layout": "IPY_MODEL_affbe261ffce42a1ad25288f1383364f"
      }
     },
     "53e4f2cbcc284f6fa28a7fc5368ec4f9": {
      "model_module": "@jupyter-widgets/base",
      "model_module_version": "2.0.0",
      "model_name": "LayoutModel",
      "state": {
       "flex": "2"
      }
     },
     "53ffa6f1792a410c81219a8afda3a7a4": {
      "model_module": "@jupyter-widgets/base",
      "model_module_version": "2.0.0",
      "model_name": "LayoutModel",
      "state": {}
     },
     "542a561546aa4349bad3e85a1c4f1b54": {
      "model_module": "@jupyter-widgets/controls",
      "model_module_version": "2.0.0",
      "model_name": "HTMLStyleModel",
      "state": {
       "description_width": "",
       "font_size": null,
       "text_color": null
      }
     },
     "542b65e528c04ab796be3bfadd2f7895": {
      "model_module": "@jupyter-widgets/controls",
      "model_module_version": "2.0.0",
      "model_name": "HBoxModel",
      "state": {
       "children": [
        "IPY_MODEL_447336bcd07a4169841f0d00ce7d2449",
        "IPY_MODEL_c8745bd7e37047029ecdfd8688d389f4",
        "IPY_MODEL_fdef760b343441e68ace45a8d37ae129"
       ],
       "layout": "IPY_MODEL_e2fd098bb2614ef28a288cba60e401fd"
      }
     },
     "5444bb3456044aafae6e2c4e6672e47a": {
      "model_module": "@jupyter-widgets/controls",
      "model_module_version": "2.0.0",
      "model_name": "HTMLModel",
      "state": {
       "layout": "IPY_MODEL_f3b69a5b7d414809968ee4c2cb4ba009",
       "style": "IPY_MODEL_195859fb490d4890b631defbe81089a7",
       "value": " 1/1 [00:00&lt;00:00, 95.61it/s]"
      }
     },
     "5446cfb83416496a86f9ce9323a027a6": {
      "model_module": "@jupyter-widgets/base",
      "model_module_version": "2.0.0",
      "model_name": "LayoutModel",
      "state": {}
     },
     "545a47491cd4430599eb57ac6c7e7440": {
      "model_module": "@jupyter-widgets/controls",
      "model_module_version": "2.0.0",
      "model_name": "FloatProgressModel",
      "state": {
       "bar_style": "success",
       "layout": "IPY_MODEL_9247172b88654c4280edcf5a2665f419",
       "max": 80,
       "style": "IPY_MODEL_d984c83c83f249baabff85310d03e876",
       "value": 80
      }
     },
     "5462a6e68ca240fbb4cdaf9c3616ffab": {
      "model_module": "@jupyter-widgets/base",
      "model_module_version": "2.0.0",
      "model_name": "LayoutModel",
      "state": {
       "display": "inline-flex",
       "flex_flow": "row wrap",
       "width": "100%"
      }
     },
     "5497ebf806ea4de7acb86737d9dff373": {
      "model_module": "@jupyter-widgets/controls",
      "model_module_version": "2.0.0",
      "model_name": "HTMLStyleModel",
      "state": {
       "description_width": "",
       "font_size": null,
       "text_color": null
      }
     },
     "54bc1b49d55a436c86ed6b2e01eb914b": {
      "model_module": "@jupyter-widgets/controls",
      "model_module_version": "2.0.0",
      "model_name": "FloatProgressModel",
      "state": {
       "layout": "IPY_MODEL_91679a1ef82a42a68fb70f3ff95c0584",
       "max": 1,
       "style": "IPY_MODEL_5a4074a353974515a232d16f69802dac",
       "value": 1
      }
     },
     "54edaa7a67914848bdebab3c2abe8ed9": {
      "model_module": "@jupyter-widgets/controls",
      "model_module_version": "2.0.0",
      "model_name": "HTMLStyleModel",
      "state": {
       "description_width": "",
       "font_size": null,
       "text_color": null
      }
     },
     "54fb97edba05458bb8824f20f06e594a": {
      "model_module": "@jupyter-widgets/controls",
      "model_module_version": "2.0.0",
      "model_name": "HTMLModel",
      "state": {
       "layout": "IPY_MODEL_8534a1e9a0f24539b7d517fb4831d63b",
       "style": "IPY_MODEL_9e4b4e41347c4c70af0343c3d1e2aafc",
       "value": "Validation DataLoader 0: 100%"
      }
     },
     "54fc5936cfc4477d9139c8018f535b3d": {
      "model_module": "@jupyter-widgets/base",
      "model_module_version": "2.0.0",
      "model_name": "LayoutModel",
      "state": {
       "display": "inline-flex",
       "flex_flow": "row wrap",
       "width": "100%"
      }
     },
     "55005f41ef6b4d3a8a76fd3c368b4fb9": {
      "model_module": "@jupyter-widgets/controls",
      "model_module_version": "2.0.0",
      "model_name": "HBoxModel",
      "state": {
       "children": [
        "IPY_MODEL_09b69d3af84a400fb5ca37113f0022df",
        "IPY_MODEL_67fa15b2c82e458780863bfeef0d4ea0",
        "IPY_MODEL_cfb13b4229e841928030d21329d2a3ed"
       ],
       "layout": "IPY_MODEL_6a4886d30c844b16ab341c82ede32ae1"
      }
     },
     "550e107f931d44dfb4480047dfbbeb8f": {
      "model_module": "@jupyter-widgets/controls",
      "model_module_version": "2.0.0",
      "model_name": "HTMLModel",
      "state": {
       "layout": "IPY_MODEL_4951e90aa2dc458e838ec78625a0a361",
       "style": "IPY_MODEL_347ee0ec7ecc405f871a4d983fba03b4",
       "value": " 1/1 [00:00&lt;00:00, 92.50it/s]"
      }
     },
     "5551d009bb814846b28c828232a8c672": {
      "model_module": "@jupyter-widgets/controls",
      "model_module_version": "2.0.0",
      "model_name": "HTMLStyleModel",
      "state": {
       "description_width": "",
       "font_size": null,
       "text_color": null
      }
     },
     "55522bd32e804a1680811ebce5cdcd77": {
      "model_module": "@jupyter-widgets/base",
      "model_module_version": "2.0.0",
      "model_name": "LayoutModel",
      "state": {}
     },
     "556f232615b24569a30728cb8c4e676a": {
      "model_module": "@jupyter-widgets/base",
      "model_module_version": "2.0.0",
      "model_name": "LayoutModel",
      "state": {}
     },
     "556f7a66d43c4a64a26235af6c5f8b53": {
      "model_module": "@jupyter-widgets/base",
      "model_module_version": "2.0.0",
      "model_name": "LayoutModel",
      "state": {
       "display": "inline-flex",
       "flex_flow": "row wrap",
       "width": "100%"
      }
     },
     "557da54ebb1643c5b5abdb2b4caf9774": {
      "model_module": "@jupyter-widgets/controls",
      "model_module_version": "2.0.0",
      "model_name": "HTMLModel",
      "state": {
       "layout": "IPY_MODEL_e63a933ebe034344b513c6e2e02b2adc",
       "style": "IPY_MODEL_1afcd168200f451eb836de968cd472a4",
       "value": "Testing DataLoader 0: 100%"
      }
     },
     "55967e77a89f4d47991e03c22a7ee57a": {
      "model_module": "@jupyter-widgets/base",
      "model_module_version": "2.0.0",
      "model_name": "LayoutModel",
      "state": {
       "display": "inline-flex",
       "flex_flow": "row wrap",
       "width": "100%"
      }
     },
     "559ca6fc36664c2e96d91be0e4b476ab": {
      "model_module": "@jupyter-widgets/base",
      "model_module_version": "2.0.0",
      "model_name": "LayoutModel",
      "state": {}
     },
     "55a41cfa0b83453cb3c1856c35628f87": {
      "model_module": "@jupyter-widgets/controls",
      "model_module_version": "2.0.0",
      "model_name": "HTMLStyleModel",
      "state": {
       "description_width": "",
       "font_size": null,
       "text_color": null
      }
     },
     "55addd63f3004d40829a3c3bfd47ee5d": {
      "model_module": "@jupyter-widgets/base",
      "model_module_version": "2.0.0",
      "model_name": "LayoutModel",
      "state": {}
     },
     "55d006abde9347bfa3e2efe5941cc9ad": {
      "model_module": "@jupyter-widgets/controls",
      "model_module_version": "2.0.0",
      "model_name": "FloatProgressModel",
      "state": {
       "bar_style": "success",
       "layout": "IPY_MODEL_e388acc0a07a4165b1401a1755728689",
       "max": 80,
       "style": "IPY_MODEL_170b6043c4644aa99a56a28632d9dcad",
       "value": 80
      }
     },
     "55f0c83a3c6945d1879840511265acde": {
      "model_module": "@jupyter-widgets/base",
      "model_module_version": "2.0.0",
      "model_name": "LayoutModel",
      "state": {
       "flex": "2"
      }
     },
     "564bd5ed602e4841ba6acd271ef87fe2": {
      "model_module": "@jupyter-widgets/base",
      "model_module_version": "2.0.0",
      "model_name": "LayoutModel",
      "state": {
       "flex": "2"
      }
     },
     "564f7c320ded4115a998ffeb6185908f": {
      "model_module": "@jupyter-widgets/controls",
      "model_module_version": "2.0.0",
      "model_name": "ProgressStyleModel",
      "state": {
       "description_width": ""
      }
     },
     "566f0346c1be44b2b9e259033b57e5b5": {
      "model_module": "@jupyter-widgets/base",
      "model_module_version": "2.0.0",
      "model_name": "LayoutModel",
      "state": {}
     },
     "56888341a7184862a21f874933e03b22": {
      "model_module": "@jupyter-widgets/controls",
      "model_module_version": "2.0.0",
      "model_name": "FloatProgressModel",
      "state": {
       "layout": "IPY_MODEL_d45bd142874249159b7b355b9e860862",
       "max": 1,
       "style": "IPY_MODEL_9f4e476845c340fda5d2aadd1544689f",
       "value": 1
      }
     },
     "5691e12a911a47eaa6ac913718e86874": {
      "model_module": "@jupyter-widgets/controls",
      "model_module_version": "2.0.0",
      "model_name": "ProgressStyleModel",
      "state": {
       "description_width": ""
      }
     },
     "5698efb166284c938970700259787342": {
      "model_module": "@jupyter-widgets/controls",
      "model_module_version": "2.0.0",
      "model_name": "FloatProgressModel",
      "state": {
       "bar_style": "success",
       "layout": "IPY_MODEL_24b39a416da74fc18ad2679f4cd25e0b",
       "max": 1,
       "style": "IPY_MODEL_bf26e9239d6943c589e918d91cff3791",
       "value": 1
      }
     },
     "56a2c56fb94948968bdfb28ead4101ca": {
      "model_module": "@jupyter-widgets/controls",
      "model_module_version": "2.0.0",
      "model_name": "HBoxModel",
      "state": {
       "children": [
        "IPY_MODEL_2029b0a7506c42e3963955d331334fbd",
        "IPY_MODEL_1501052ff1fe42e8887578667aca2823",
        "IPY_MODEL_4fe4a888289c452a81363b41692fa5be"
       ],
       "layout": "IPY_MODEL_7e0bb88e5b064d02ab4eb735ce2ae4c8"
      }
     },
     "56dcdcdb6516461fbda5e800f233d4a0": {
      "model_module": "@jupyter-widgets/controls",
      "model_module_version": "2.0.0",
      "model_name": "HTMLStyleModel",
      "state": {
       "description_width": "",
       "font_size": null,
       "text_color": null
      }
     },
     "56ed8bff40184926812027bc977cae02": {
      "model_module": "@jupyter-widgets/base",
      "model_module_version": "2.0.0",
      "model_name": "LayoutModel",
      "state": {
       "display": "inline-flex",
       "flex_flow": "row wrap",
       "visibility": "hidden",
       "width": "100%"
      }
     },
     "5700e1a6a9ca417bb93d3b90455229ee": {
      "model_module": "@jupyter-widgets/controls",
      "model_module_version": "2.0.0",
      "model_name": "HTMLModel",
      "state": {
       "layout": "IPY_MODEL_5247479c42fd4e28a8b1f3ec2064bee4",
       "style": "IPY_MODEL_627a311296bb4eb896fbca216ae5aa35",
       "value": " 0/10 [00:24&lt;?, ?it/s]"
      }
     },
     "571fcc3dbc5a428eb40c4983f2dc3d1d": {
      "model_module": "@jupyter-widgets/controls",
      "model_module_version": "2.0.0",
      "model_name": "HTMLStyleModel",
      "state": {
       "description_width": "",
       "font_size": null,
       "text_color": null
      }
     },
     "5728c1ce46674c09a480249db4232762": {
      "model_module": "@jupyter-widgets/controls",
      "model_module_version": "2.0.0",
      "model_name": "HTMLModel",
      "state": {
       "layout": "IPY_MODEL_fe6e67e7f9f246bd90f7243256bcd735",
       "style": "IPY_MODEL_d8f076e156c842ac975b815819132985",
       "value": "Validation DataLoader 0: 100%"
      }
     },
     "572ed601c7054551b10d50a4214db35e": {
      "model_module": "@jupyter-widgets/controls",
      "model_module_version": "2.0.0",
      "model_name": "HTMLModel",
      "state": {
       "layout": "IPY_MODEL_f7982015045b4883941ca085d8f40d35",
       "style": "IPY_MODEL_b53a21681edf4f408f28370d5238cf81",
       "value": "  0%"
      }
     },
     "57833b605a274ef2a75c6beac1ca79c1": {
      "model_module": "@jupyter-widgets/base",
      "model_module_version": "2.0.0",
      "model_name": "LayoutModel",
      "state": {}
     },
     "57899f9e337743b79b51d5c413a6d7cc": {
      "model_module": "@jupyter-widgets/controls",
      "model_module_version": "2.0.0",
      "model_name": "ProgressStyleModel",
      "state": {
       "description_width": ""
      }
     },
     "5797746cbc3d4e02892cf36441ffb6a7": {
      "model_module": "@jupyter-widgets/controls",
      "model_module_version": "2.0.0",
      "model_name": "ProgressStyleModel",
      "state": {
       "description_width": ""
      }
     },
     "57d57c7735c0447687bb3e35fa046fc1": {
      "model_module": "@jupyter-widgets/controls",
      "model_module_version": "2.0.0",
      "model_name": "FloatProgressModel",
      "state": {
       "bar_style": "success",
       "layout": "IPY_MODEL_edac04b3c7ae49a7bab259fce65828b8",
       "max": 5,
       "style": "IPY_MODEL_9cf2d0999d214707b5d5e737212ce1ec",
       "value": 5
      }
     },
     "57d6f56034414fc8aef0413e223d3791": {
      "model_module": "@jupyter-widgets/base",
      "model_module_version": "2.0.0",
      "model_name": "LayoutModel",
      "state": {}
     },
     "5812ad99fc084c2c964e1c716463812f": {
      "model_module": "@jupyter-widgets/base",
      "model_module_version": "2.0.0",
      "model_name": "LayoutModel",
      "state": {
       "flex": "2"
      }
     },
     "584bbe3cbf444a4695f4e12d387ba321": {
      "model_module": "@jupyter-widgets/controls",
      "model_module_version": "2.0.0",
      "model_name": "FloatProgressModel",
      "state": {
       "bar_style": "success",
       "layout": "IPY_MODEL_66b2de739fc44ef0867b0ac8d60d33f3",
       "max": 1,
       "style": "IPY_MODEL_6f777f9ba2d349d6a087ba82e2cb7882",
       "value": 1
      }
     },
     "5855efc93924492e99cabf515566dc84": {
      "model_module": "@jupyter-widgets/controls",
      "model_module_version": "2.0.0",
      "model_name": "HTMLStyleModel",
      "state": {
       "description_width": "",
       "font_size": null,
       "text_color": null
      }
     },
     "5867a5ec4fff4338900acbb93869add0": {
      "model_module": "@jupyter-widgets/base",
      "model_module_version": "2.0.0",
      "model_name": "LayoutModel",
      "state": {}
     },
     "5883fb687467456da4a8ab33c4ff038f": {
      "model_module": "@jupyter-widgets/base",
      "model_module_version": "2.0.0",
      "model_name": "LayoutModel",
      "state": {
       "flex": "2"
      }
     },
     "58a0ffd6aea34b019b1200fe65a24cfd": {
      "model_module": "@jupyter-widgets/base",
      "model_module_version": "2.0.0",
      "model_name": "LayoutModel",
      "state": {}
     },
     "58b3fec6a0cb468c93328cc28d216844": {
      "model_module": "@jupyter-widgets/base",
      "model_module_version": "2.0.0",
      "model_name": "LayoutModel",
      "state": {}
     },
     "58bbaeab6809413c9eaa6dd15dc9629c": {
      "model_module": "@jupyter-widgets/base",
      "model_module_version": "2.0.0",
      "model_name": "LayoutModel",
      "state": {
       "flex": "2"
      }
     },
     "58bc3ea9b4ea4f88987372d71db45afa": {
      "model_module": "@jupyter-widgets/controls",
      "model_module_version": "2.0.0",
      "model_name": "HTMLStyleModel",
      "state": {
       "description_width": "",
       "font_size": null,
       "text_color": null
      }
     },
     "58c3d00beb2b466292a4c04e3eda7a03": {
      "model_module": "@jupyter-widgets/controls",
      "model_module_version": "2.0.0",
      "model_name": "ProgressStyleModel",
      "state": {
       "description_width": ""
      }
     },
     "5934f4e43551415f9087e1c9c9508a5e": {
      "model_module": "@jupyter-widgets/controls",
      "model_module_version": "2.0.0",
      "model_name": "HTMLStyleModel",
      "state": {
       "description_width": "",
       "font_size": null,
       "text_color": null
      }
     },
     "59754fc215074d2c9311fa018034000d": {
      "model_module": "@jupyter-widgets/controls",
      "model_module_version": "2.0.0",
      "model_name": "HTMLStyleModel",
      "state": {
       "description_width": "",
       "font_size": null,
       "text_color": null
      }
     },
     "598f59af126f4bd8a20bc9900b061ecc": {
      "model_module": "@jupyter-widgets/controls",
      "model_module_version": "2.0.0",
      "model_name": "ProgressStyleModel",
      "state": {
       "description_width": ""
      }
     },
     "5990b1d1e9b84470bd4e8497a8537c7b": {
      "model_module": "@jupyter-widgets/controls",
      "model_module_version": "2.0.0",
      "model_name": "HTMLModel",
      "state": {
       "layout": "IPY_MODEL_6ddef7511911482986795e9d9bdd5c27",
       "style": "IPY_MODEL_a4db6dbc432648cdb54942629b2b3114",
       "value": "Validation DataLoader 0: 100%"
      }
     },
     "59a93d3e85314900a324f6ca7f0d75bb": {
      "model_module": "@jupyter-widgets/controls",
      "model_module_version": "2.0.0",
      "model_name": "FloatProgressModel",
      "state": {
       "bar_style": "success",
       "layout": "IPY_MODEL_59dd7c6a57d747c1b3bdacfe7e4aaee7",
       "max": 80,
       "style": "IPY_MODEL_a7ff9d1782094c5bb0f2c95b01f34a80",
       "value": 80
      }
     },
     "59dd7c6a57d747c1b3bdacfe7e4aaee7": {
      "model_module": "@jupyter-widgets/base",
      "model_module_version": "2.0.0",
      "model_name": "LayoutModel",
      "state": {
       "flex": "2"
      }
     },
     "5a13b084c61640deb602b58fff92b1d1": {
      "model_module": "@jupyter-widgets/controls",
      "model_module_version": "2.0.0",
      "model_name": "HTMLModel",
      "state": {
       "layout": "IPY_MODEL_ca0f1a8b6f314f739baa284ddbda8b3b",
       "style": "IPY_MODEL_2c7eb46c89ce449a8fe1ac9f0088260f",
       "value": "  0%"
      }
     },
     "5a1b07ea47b9441eb1bfc44a1db8ce2d": {
      "model_module": "@jupyter-widgets/base",
      "model_module_version": "2.0.0",
      "model_name": "LayoutModel",
      "state": {}
     },
     "5a1b631955ab42c5bcf43e7078387972": {
      "model_module": "@jupyter-widgets/controls",
      "model_module_version": "2.0.0",
      "model_name": "HBoxModel",
      "state": {
       "children": [
        "IPY_MODEL_2129a97fe30648e6851e3dc928c7355e",
        "IPY_MODEL_4d037506a05143f5986803d94823a9e7",
        "IPY_MODEL_14ee8183c4a2402396c78ed92d59a782"
       ],
       "layout": "IPY_MODEL_ffbb1731581e41d59dfbc0017d2f76d5"
      }
     },
     "5a4074a353974515a232d16f69802dac": {
      "model_module": "@jupyter-widgets/controls",
      "model_module_version": "2.0.0",
      "model_name": "ProgressStyleModel",
      "state": {
       "description_width": ""
      }
     },
     "5a6b4cba129041de8c4dcf8c86e82957": {
      "model_module": "@jupyter-widgets/controls",
      "model_module_version": "2.0.0",
      "model_name": "HBoxModel",
      "state": {
       "children": [
        "IPY_MODEL_69f2ef2f1b9742949d33ad047e70faae",
        "IPY_MODEL_584bbe3cbf444a4695f4e12d387ba321",
        "IPY_MODEL_8eeabdd55f5c41c09f546688d6d8b1ae"
       ],
       "layout": "IPY_MODEL_00f5f3ae51d4403f9d0ffcb0d27de858"
      }
     },
     "5aa917aa3c224b17ba2a6ca80d666a48": {
      "model_module": "@jupyter-widgets/controls",
      "model_module_version": "2.0.0",
      "model_name": "FloatProgressModel",
      "state": {
       "bar_style": "success",
       "layout": "IPY_MODEL_1c38c8e340ed4a01acd1c2f3bf79a8c9",
       "max": 80,
       "style": "IPY_MODEL_834f78fbf3cd404aa6102d2d2f383ee7",
       "value": 80
      }
     },
     "5b485d7ec82b476a8ecbe6eedcd6b733": {
      "model_module": "@jupyter-widgets/controls",
      "model_module_version": "2.0.0",
      "model_name": "HBoxModel",
      "state": {
       "children": [
        "IPY_MODEL_24c196cb4b1d400f850185e61ac0159e",
        "IPY_MODEL_f76b5fe7196c4daab54ebee3c662d5e5",
        "IPY_MODEL_9d5b09dbd4cb456fb9277c1b7de6a8d6"
       ],
       "layout": "IPY_MODEL_eaa1f0367eae434b88cd55c8667e199f"
      }
     },
     "5b53c7b8e96a4f8494e5f0b299157c85": {
      "model_module": "@jupyter-widgets/controls",
      "model_module_version": "2.0.0",
      "model_name": "HTMLModel",
      "state": {
       "layout": "IPY_MODEL_acac15419d9d4f7cb68261aad782f8bd",
       "style": "IPY_MODEL_af4092153bb6457c895c0001fc4c29e5",
       "value": "  0%"
      }
     },
     "5b6d627ae697499d96f8c3dcc205a985": {
      "model_module": "@jupyter-widgets/controls",
      "model_module_version": "2.0.0",
      "model_name": "HTMLModel",
      "state": {
       "layout": "IPY_MODEL_99f76f36a492422dbb942e8db801072f",
       "style": "IPY_MODEL_12f6cdc5fa954068a400d14cd199b593",
       "value": "Epoch 80: 100%"
      }
     },
     "5b957341f8e24e7cb6382b9faf849e4f": {
      "model_module": "@jupyter-widgets/base",
      "model_module_version": "2.0.0",
      "model_name": "LayoutModel",
      "state": {
       "flex": "2"
      }
     },
     "5bc68dca1b264366ae1b28de6f64fd51": {
      "model_module": "@jupyter-widgets/base",
      "model_module_version": "2.0.0",
      "model_name": "LayoutModel",
      "state": {}
     },
     "5bda19e2623c49158d682aa2efa79063": {
      "model_module": "@jupyter-widgets/controls",
      "model_module_version": "2.0.0",
      "model_name": "ProgressStyleModel",
      "state": {
       "description_width": ""
      }
     },
     "5bf17b4e559d4832aca54f91ba69f17c": {
      "model_module": "@jupyter-widgets/controls",
      "model_module_version": "2.0.0",
      "model_name": "HTMLModel",
      "state": {
       "layout": "IPY_MODEL_08e93b263bf3464aa308b164bd51d577",
       "style": "IPY_MODEL_4916365658854544a090b45fa6055a57",
       "value": "Validation DataLoader 0: 100%"
      }
     },
     "5c3f93c4eee944ed9b45347a2d469007": {
      "model_module": "@jupyter-widgets/base",
      "model_module_version": "2.0.0",
      "model_name": "LayoutModel",
      "state": {
       "flex": "2"
      }
     },
     "5c482ac0ae8a457999d1df597b562e70": {
      "model_module": "@jupyter-widgets/base",
      "model_module_version": "2.0.0",
      "model_name": "LayoutModel",
      "state": {}
     },
     "5c489cb5953447e0a2b980e5105c001c": {
      "model_module": "@jupyter-widgets/base",
      "model_module_version": "2.0.0",
      "model_name": "LayoutModel",
      "state": {}
     },
     "5c4e46aee51d4571bd73da85cb38abe0": {
      "model_module": "@jupyter-widgets/controls",
      "model_module_version": "2.0.0",
      "model_name": "FloatProgressModel",
      "state": {
       "bar_style": "success",
       "layout": "IPY_MODEL_89b5350649f64d3c8fe34e134d297cae",
       "max": 1,
       "style": "IPY_MODEL_93013c8e6e0547b19ac8b912b1194ab2",
       "value": 1
      }
     },
     "5c7a6c57c9c6450ea1229108b4dfc60f": {
      "model_module": "@jupyter-widgets/base",
      "model_module_version": "2.0.0",
      "model_name": "LayoutModel",
      "state": {
       "display": "inline-flex",
       "flex_flow": "row wrap",
       "width": "100%"
      }
     },
     "5cbe7eca94074cf79c3202f025fe8cbc": {
      "model_module": "@jupyter-widgets/controls",
      "model_module_version": "2.0.0",
      "model_name": "ProgressStyleModel",
      "state": {
       "description_width": ""
      }
     },
     "5d293da5d74340ffabc75ad6eb69d172": {
      "model_module": "@jupyter-widgets/base",
      "model_module_version": "2.0.0",
      "model_name": "LayoutModel",
      "state": {}
     },
     "5d311be1f9cb42a3808e2d1dde69a9e6": {
      "model_module": "@jupyter-widgets/base",
      "model_module_version": "2.0.0",
      "model_name": "LayoutModel",
      "state": {}
     },
     "5d38d31bb8f24cf1984e1720c5d803a2": {
      "model_module": "@jupyter-widgets/base",
      "model_module_version": "2.0.0",
      "model_name": "LayoutModel",
      "state": {
       "flex": "2"
      }
     },
     "5d4c29199d4547e1bb521ddcf37725e9": {
      "model_module": "@jupyter-widgets/base",
      "model_module_version": "2.0.0",
      "model_name": "LayoutModel",
      "state": {}
     },
     "5d62977f7e1c4a7394b338d4eebec670": {
      "model_module": "@jupyter-widgets/base",
      "model_module_version": "2.0.0",
      "model_name": "LayoutModel",
      "state": {}
     },
     "5d6439f92f0846e8a06fae1bbf4ccd6a": {
      "model_module": "@jupyter-widgets/controls",
      "model_module_version": "2.0.0",
      "model_name": "HTMLModel",
      "state": {
       "layout": "IPY_MODEL_82ef4abda3c245268567b02bd0267373",
       "style": "IPY_MODEL_d3e1db4180ef4bc99aba441d98089727",
       "value": " 1/1 [00:00&lt;00:00, 153.83it/s]"
      }
     },
     "5d65ea0405374ead88b4ab6856a3657c": {
      "model_module": "@jupyter-widgets/base",
      "model_module_version": "2.0.0",
      "model_name": "LayoutModel",
      "state": {}
     },
     "5d9b0302a753421f98009ed1bf4834c2": {
      "model_module": "@jupyter-widgets/controls",
      "model_module_version": "2.0.0",
      "model_name": "HTMLStyleModel",
      "state": {
       "description_width": "",
       "font_size": null,
       "text_color": null
      }
     },
     "5daeae3cbebe4c328e78fc0ff0e629a9": {
      "model_module": "@jupyter-widgets/base",
      "model_module_version": "2.0.0",
      "model_name": "LayoutModel",
      "state": {}
     },
     "5dbb4bcd798f483baea42fb07b105fc4": {
      "model_module": "@jupyter-widgets/base",
      "model_module_version": "2.0.0",
      "model_name": "LayoutModel",
      "state": {
       "flex": "2"
      }
     },
     "5dd0205c75314daa864e8b6f07228e61": {
      "model_module": "@jupyter-widgets/controls",
      "model_module_version": "2.0.0",
      "model_name": "FloatProgressModel",
      "state": {
       "bar_style": "success",
       "layout": "IPY_MODEL_ffaf0239b48b483d9521171da9ff980a",
       "max": 1,
       "style": "IPY_MODEL_a3cd23eff60e4748b90e251ded36dccb",
       "value": 1
      }
     },
     "5dffcaf1fac8478da7cae7d6f09bde60": {
      "model_module": "@jupyter-widgets/controls",
      "model_module_version": "2.0.0",
      "model_name": "HTMLStyleModel",
      "state": {
       "description_width": "",
       "font_size": null,
       "text_color": null
      }
     },
     "5e07f4570f604b13a9a02bfc5445e0fc": {
      "model_module": "@jupyter-widgets/controls",
      "model_module_version": "2.0.0",
      "model_name": "HTMLModel",
      "state": {
       "layout": "IPY_MODEL_d211cb0371c14363a574f6c8481ba474",
       "style": "IPY_MODEL_03c4d363898c43238d818741e638105c",
       "value": "Best trial: 0. Best value: 36.7768: 100%"
      }
     },
     "5e2ddf48f3424766acacabbaa34b2052": {
      "model_module": "@jupyter-widgets/base",
      "model_module_version": "2.0.0",
      "model_name": "LayoutModel",
      "state": {}
     },
     "5e47867947b1457db15728f578630165": {
      "model_module": "@jupyter-widgets/controls",
      "model_module_version": "2.0.0",
      "model_name": "HBoxModel",
      "state": {
       "children": [
        "IPY_MODEL_dab665abb1574f8295a2d405184cb0f1",
        "IPY_MODEL_518fd954649849c9995b729c8a240699",
        "IPY_MODEL_ca072aa0cf4f4a848c25d8a3257c5197"
       ],
       "layout": "IPY_MODEL_e338738700dc4a6c93e00709c4bcc9ee"
      }
     },
     "5e76dea4ee4f4607a8c4c780ef30389d": {
      "model_module": "@jupyter-widgets/controls",
      "model_module_version": "2.0.0",
      "model_name": "FloatProgressModel",
      "state": {
       "bar_style": "success",
       "layout": "IPY_MODEL_d8107ce3ba75409694e78ce286d2b43e",
       "max": 1,
       "style": "IPY_MODEL_3f7b75b2f8d6469e8deccb6af01fcb00",
       "value": 1
      }
     },
     "5e78481f1074479381832d31b94fe228": {
      "model_module": "@jupyter-widgets/controls",
      "model_module_version": "2.0.0",
      "model_name": "HTMLStyleModel",
      "state": {
       "description_width": "",
       "font_size": null,
       "text_color": null
      }
     },
     "5e8ff159504a4e189ba0158f9fb74a27": {
      "model_module": "@jupyter-widgets/base",
      "model_module_version": "2.0.0",
      "model_name": "LayoutModel",
      "state": {}
     },
     "5eac5eb8acec4792a616af91f3dcba94": {
      "model_module": "@jupyter-widgets/base",
      "model_module_version": "2.0.0",
      "model_name": "LayoutModel",
      "state": {
       "display": "inline-flex",
       "flex_flow": "row wrap",
       "width": "100%"
      }
     },
     "5eae6f0558624de6b2c26c52e6bb5bf0": {
      "model_module": "@jupyter-widgets/controls",
      "model_module_version": "2.0.0",
      "model_name": "FloatProgressModel",
      "state": {
       "bar_style": "success",
       "layout": "IPY_MODEL_2ef3a8d842054c16af2eb47fe1afdd3e",
       "max": 1,
       "style": "IPY_MODEL_0ea566997b8e4eddbedb03aebb88fa8e",
       "value": 1
      }
     },
     "5eb022eeecb2461cae4b60081345c756": {
      "model_module": "@jupyter-widgets/controls",
      "model_module_version": "2.0.0",
      "model_name": "ProgressStyleModel",
      "state": {
       "description_width": ""
      }
     },
     "5f062616c9cd4c27989f75fe2ec69382": {
      "model_module": "@jupyter-widgets/controls",
      "model_module_version": "2.0.0",
      "model_name": "HTMLModel",
      "state": {
       "layout": "IPY_MODEL_08967c5e2502458f93902154b42828bd",
       "style": "IPY_MODEL_85dddc526e7a4dba968aed52068e992f",
       "value": " 1/1 [00:00&lt;00:00, 85.63it/s]"
      }
     },
     "5f11db0ee9a544388d260f08790d4200": {
      "model_module": "@jupyter-widgets/base",
      "model_module_version": "2.0.0",
      "model_name": "LayoutModel",
      "state": {}
     },
     "5f1d7c22cdd44b609a5105d749a3af43": {
      "model_module": "@jupyter-widgets/controls",
      "model_module_version": "2.0.0",
      "model_name": "HBoxModel",
      "state": {
       "children": [
        "IPY_MODEL_c2024b413ec14ac4988c7b305b56e021",
        "IPY_MODEL_d17b06bc3a674693a79e584a515001a6",
        "IPY_MODEL_645cb94be4894b758bd9cc00c056f5ec"
       ],
       "layout": "IPY_MODEL_ff069ef90de3421ea662f4b9f094113c"
      }
     },
     "5f5d342b67d2406488fe8ff372a34975": {
      "model_module": "@jupyter-widgets/controls",
      "model_module_version": "2.0.0",
      "model_name": "HBoxModel",
      "state": {
       "children": [
        "IPY_MODEL_3571dc6a246e42caa8b2beb935773bae",
        "IPY_MODEL_1889f25cd43047e581fb3c885bce78d7",
        "IPY_MODEL_3f68472460504938b7c9347e034ba015"
       ],
       "layout": "IPY_MODEL_bfc6350968db47c2a8736f36771a913e"
      }
     },
     "5f97449194d74270b7b8fa9373c8577e": {
      "model_module": "@jupyter-widgets/controls",
      "model_module_version": "2.0.0",
      "model_name": "HTMLModel",
      "state": {
       "layout": "IPY_MODEL_4aea390e9ca94871a6b0092ba54935d7",
       "style": "IPY_MODEL_e517aa3e337e4dc790571111fa01168e",
       "value": " 0/1 [00:36&lt;?, ?it/s]"
      }
     },
     "5fa761ac24d14c15a60dcd169286d611": {
      "model_module": "@jupyter-widgets/base",
      "model_module_version": "2.0.0",
      "model_name": "LayoutModel",
      "state": {}
     },
     "5faf76310a964b47b969ce33b9da6177": {
      "model_module": "@jupyter-widgets/controls",
      "model_module_version": "2.0.0",
      "model_name": "HBoxModel",
      "state": {
       "children": [
        "IPY_MODEL_c738121d22d24c8c9637db1affa97eed",
        "IPY_MODEL_143fa845cc7d4f38ba1dd7891b2d1495",
        "IPY_MODEL_f5efda52d51b49e49ea81c458c91275b"
       ],
       "layout": "IPY_MODEL_dd493b8fc2bd4ad1b5d421b73c68dd49"
      }
     },
     "5fb4dfb335804760bb66923a50a98d3e": {
      "model_module": "@jupyter-widgets/controls",
      "model_module_version": "2.0.0",
      "model_name": "HTMLModel",
      "state": {
       "layout": "IPY_MODEL_4ea18709716c45dc986d28b6d996411d",
       "style": "IPY_MODEL_ce06d07ef286452a983610c96d3339ef",
       "value": " 1/1 [00:00&lt;00:00, 156.69it/s]"
      }
     },
     "5fb6a5002eb24b94bf52fa369c666de7": {
      "model_module": "@jupyter-widgets/controls",
      "model_module_version": "2.0.0",
      "model_name": "HBoxModel",
      "state": {
       "children": [
        "IPY_MODEL_700d2f10169946aba543fa2a64f02c17",
        "IPY_MODEL_9b0fd699a64e4bad97cc92dfd5844a75",
        "IPY_MODEL_a9d062c2490c4ac8b4e313b267b3584b"
       ],
       "layout": "IPY_MODEL_b769daddf11b4d518f60b98b7d6897ee"
      }
     },
     "5fbc2e8068334a77afa057047c375dac": {
      "model_module": "@jupyter-widgets/controls",
      "model_module_version": "2.0.0",
      "model_name": "HTMLStyleModel",
      "state": {
       "description_width": "",
       "font_size": null,
       "text_color": null
      }
     },
     "5fd620f2bd4e445ab685b9dbb0b87489": {
      "model_module": "@jupyter-widgets/controls",
      "model_module_version": "2.0.0",
      "model_name": "HTMLModel",
      "state": {
       "layout": "IPY_MODEL_91dd261e1a9a4461a1acc1bfaa6fdb8f",
       "style": "IPY_MODEL_623984826bd748d2b400bdb48bb9570a",
       "value": "Epoch 80: 100%"
      }
     },
     "600fc80b3cc2459b90e89317f3be7a19": {
      "model_module": "@jupyter-widgets/controls",
      "model_module_version": "2.0.0",
      "model_name": "HTMLModel",
      "state": {
       "layout": "IPY_MODEL_cb12b8b6b4554c6f8eeb426f7fb58efd",
       "style": "IPY_MODEL_0e59d310df5f439f9eb5b3aa36acdb55",
       "value": " 1/1 [00:00&lt;00:00, 89.48it/s]"
      }
     },
     "6017e1f558784ac2a30b676a98ba32a8": {
      "model_module": "@jupyter-widgets/base",
      "model_module_version": "2.0.0",
      "model_name": "LayoutModel",
      "state": {
       "flex": "2"
      }
     },
     "601bdb0732a24285967e2843b4ba91e6": {
      "model_module": "@jupyter-widgets/controls",
      "model_module_version": "2.0.0",
      "model_name": "HBoxModel",
      "state": {
       "children": [
        "IPY_MODEL_c0029918edc041edb2723aadd90f94fb",
        "IPY_MODEL_a882c36cd59d48649a30c3d9340d367a",
        "IPY_MODEL_c251eaa781444b05bf8519fe87f4dd36"
       ],
       "layout": "IPY_MODEL_898afd836e734adfbe20e3d3198de325"
      }
     },
     "6040d3e041b346da984359c18638e379": {
      "model_module": "@jupyter-widgets/controls",
      "model_module_version": "2.0.0",
      "model_name": "HBoxModel",
      "state": {
       "children": [
        "IPY_MODEL_6c38cdd884544f818848081a0270064f",
        "IPY_MODEL_5eae6f0558624de6b2c26c52e6bb5bf0",
        "IPY_MODEL_887de557339d436c9d784e2970b7e955"
       ],
       "layout": "IPY_MODEL_cbdb1aab83c64766b8f2e1a116eebdc3"
      }
     },
     "608dd82bee9f4351916353139e85511c": {
      "model_module": "@jupyter-widgets/base",
      "model_module_version": "2.0.0",
      "model_name": "LayoutModel",
      "state": {
       "flex": "2"
      }
     },
     "60df4edee67b4ba49a35ba92c6a8589d": {
      "model_module": "@jupyter-widgets/controls",
      "model_module_version": "2.0.0",
      "model_name": "HTMLStyleModel",
      "state": {
       "description_width": "",
       "font_size": null,
       "text_color": null
      }
     },
     "60e0b8446dff40f6938d08692f19dcc6": {
      "model_module": "@jupyter-widgets/controls",
      "model_module_version": "2.0.0",
      "model_name": "HBoxModel",
      "state": {
       "children": [
        "IPY_MODEL_5e07f4570f604b13a9a02bfc5445e0fc",
        "IPY_MODEL_d41979b746fd417a8ea26a88ab4e649d",
        "IPY_MODEL_d9595f05699341edb1ffeeaab023c2c1"
       ],
       "layout": "IPY_MODEL_219f0d21b8a442759b684b628a8ed963"
      }
     },
     "60e2ca3bf4dc47baaae3e94391b68232": {
      "model_module": "@jupyter-widgets/controls",
      "model_module_version": "2.0.0",
      "model_name": "FloatProgressModel",
      "state": {
       "bar_style": "success",
       "layout": "IPY_MODEL_030ef7938fdb47e5bc4ffbc85f9c6fd5",
       "max": 1,
       "style": "IPY_MODEL_8f8c51dcf5a44bc2bc1eb25230c43338",
       "value": 1
      }
     },
     "60f1c7d186584df591c64f4c1b6895b2": {
      "model_module": "@jupyter-widgets/controls",
      "model_module_version": "2.0.0",
      "model_name": "ProgressStyleModel",
      "state": {
       "description_width": ""
      }
     },
     "6118262e9d044c6d8a78283fe1c452d3": {
      "model_module": "@jupyter-widgets/base",
      "model_module_version": "2.0.0",
      "model_name": "LayoutModel",
      "state": {}
     },
     "6131e2fdec654a04bfe8ea4335d770f3": {
      "model_module": "@jupyter-widgets/base",
      "model_module_version": "2.0.0",
      "model_name": "LayoutModel",
      "state": {}
     },
     "614a897e27954f8bb008c9e3d760fd7b": {
      "model_module": "@jupyter-widgets/base",
      "model_module_version": "2.0.0",
      "model_name": "LayoutModel",
      "state": {}
     },
     "614d5c885d60434e8f96cb673e0f88d4": {
      "model_module": "@jupyter-widgets/controls",
      "model_module_version": "2.0.0",
      "model_name": "FloatProgressModel",
      "state": {
       "bar_style": "success",
       "layout": "IPY_MODEL_ca762cb9a708466998e1222aba1456be",
       "max": 80,
       "style": "IPY_MODEL_57899f9e337743b79b51d5c413a6d7cc",
       "value": 80
      }
     },
     "616b4e1192074a6b9f4c934efe728ccf": {
      "model_module": "@jupyter-widgets/controls",
      "model_module_version": "2.0.0",
      "model_name": "HBoxModel",
      "state": {
       "children": [
        "IPY_MODEL_35eccebe0a324fcba8beb904ac355fa9",
        "IPY_MODEL_cfc0e41bb61f4f04b924d7f112122220",
        "IPY_MODEL_6f099c5e1cb64b6380aa8a28e5a9b5c1"
       ],
       "layout": "IPY_MODEL_24a272ae39914916ac3c3879ec80b720"
      }
     },
     "616dabf28da74f49a22bcc4f0841bbd3": {
      "model_module": "@jupyter-widgets/base",
      "model_module_version": "2.0.0",
      "model_name": "LayoutModel",
      "state": {}
     },
     "617e78a183ae4c8d8780ff29bf1ca414": {
      "model_module": "@jupyter-widgets/base",
      "model_module_version": "2.0.0",
      "model_name": "LayoutModel",
      "state": {}
     },
     "6181def745dc4936b5bcece287ed565e": {
      "model_module": "@jupyter-widgets/base",
      "model_module_version": "2.0.0",
      "model_name": "LayoutModel",
      "state": {
       "flex": "2"
      }
     },
     "61bccb18fa6b4853ba76548f4b402069": {
      "model_module": "@jupyter-widgets/controls",
      "model_module_version": "2.0.0",
      "model_name": "HTMLStyleModel",
      "state": {
       "description_width": "",
       "font_size": null,
       "text_color": null
      }
     },
     "61c3fc52fd3e45029e87a9cf67eaa7af": {
      "model_module": "@jupyter-widgets/base",
      "model_module_version": "2.0.0",
      "model_name": "LayoutModel",
      "state": {
       "flex": "2"
      }
     },
     "61d73ee232bb47819620c26234ea0f85": {
      "model_module": "@jupyter-widgets/controls",
      "model_module_version": "2.0.0",
      "model_name": "HTMLStyleModel",
      "state": {
       "description_width": "",
       "font_size": null,
       "text_color": null
      }
     },
     "61d8905d6750417fac83d3e9e197444c": {
      "model_module": "@jupyter-widgets/controls",
      "model_module_version": "2.0.0",
      "model_name": "FloatProgressModel",
      "state": {
       "layout": "IPY_MODEL_608dd82bee9f4351916353139e85511c",
       "max": 1,
       "style": "IPY_MODEL_92c92aa078d24d8caac948d83624c53e",
       "value": 1
      }
     },
     "61e6bf31f154402a874c7ca46e0342de": {
      "model_module": "@jupyter-widgets/controls",
      "model_module_version": "2.0.0",
      "model_name": "HTMLModel",
      "state": {
       "layout": "IPY_MODEL_9ff1bb2d7d1046a48cac15ee3926f62c",
       "style": "IPY_MODEL_c5b7c78a4cb34f55a291cdf7fc4701c4",
       "value": " 0/10 [00:30&lt;?, ?it/s]"
      }
     },
     "61f2357ca2104c3094600c566f90eb28": {
      "model_module": "@jupyter-widgets/controls",
      "model_module_version": "2.0.0",
      "model_name": "HTMLStyleModel",
      "state": {
       "description_width": "",
       "font_size": null,
       "text_color": null
      }
     },
     "620d0d5916664005ac747eeaa2f0579b": {
      "model_module": "@jupyter-widgets/controls",
      "model_module_version": "2.0.0",
      "model_name": "HTMLStyleModel",
      "state": {
       "description_width": "",
       "font_size": null,
       "text_color": null
      }
     },
     "620e1e6d1244497b8f3bd9f00f376d81": {
      "model_module": "@jupyter-widgets/base",
      "model_module_version": "2.0.0",
      "model_name": "LayoutModel",
      "state": {}
     },
     "620f22d1ccad47f1a6466e0cbf8e91e3": {
      "model_module": "@jupyter-widgets/base",
      "model_module_version": "2.0.0",
      "model_name": "LayoutModel",
      "state": {
       "display": "inline-flex",
       "flex_flow": "row wrap",
       "width": "100%"
      }
     },
     "623984826bd748d2b400bdb48bb9570a": {
      "model_module": "@jupyter-widgets/controls",
      "model_module_version": "2.0.0",
      "model_name": "HTMLStyleModel",
      "state": {
       "description_width": "",
       "font_size": null,
       "text_color": null
      }
     },
     "627a311296bb4eb896fbca216ae5aa35": {
      "model_module": "@jupyter-widgets/controls",
      "model_module_version": "2.0.0",
      "model_name": "HTMLStyleModel",
      "state": {
       "description_width": "",
       "font_size": null,
       "text_color": null
      }
     },
     "628a7e23d05c4d46851d4a09226316ed": {
      "model_module": "@jupyter-widgets/base",
      "model_module_version": "2.0.0",
      "model_name": "LayoutModel",
      "state": {}
     },
     "6291de838d0c4e189afcc231b7851011": {
      "model_module": "@jupyter-widgets/controls",
      "model_module_version": "2.0.0",
      "model_name": "HTMLModel",
      "state": {
       "layout": "IPY_MODEL_7212eb2a695446acb05ec04eb26d55b9",
       "style": "IPY_MODEL_75632a59fbe54d5cab93a9c5175a2996",
       "value": " 159/233 [45:00&lt;00:01, 42.78it/s]"
      }
     },
     "6293d089d4b14235bc6812f1af52d476": {
      "model_module": "@jupyter-widgets/controls",
      "model_module_version": "2.0.0",
      "model_name": "HTMLStyleModel",
      "state": {
       "description_width": "",
       "font_size": null,
       "text_color": null
      }
     },
     "6328a7c3082f45dc86b4a3a0e9f8501d": {
      "model_module": "@jupyter-widgets/base",
      "model_module_version": "2.0.0",
      "model_name": "LayoutModel",
      "state": {}
     },
     "633b4eba8fe446d18407e07cea05944e": {
      "model_module": "@jupyter-widgets/controls",
      "model_module_version": "2.0.0",
      "model_name": "HTMLStyleModel",
      "state": {
       "description_width": "",
       "font_size": null,
       "text_color": null
      }
     },
     "6396b9bcb875488cb1c932e61712ea12": {
      "model_module": "@jupyter-widgets/controls",
      "model_module_version": "2.0.0",
      "model_name": "FloatProgressModel",
      "state": {
       "bar_style": "success",
       "layout": "IPY_MODEL_cd2fda8c748c467bb941e07f705716d3",
       "max": 1,
       "style": "IPY_MODEL_87bbe7a6a6a349589407b08f5828f3a7",
       "value": 1
      }
     },
     "639cf85ba8c94671a9f328e3a2ed7d8c": {
      "model_module": "@jupyter-widgets/base",
      "model_module_version": "2.0.0",
      "model_name": "LayoutModel",
      "state": {}
     },
     "63c081b5251b470c8d0925cce294e942": {
      "model_module": "@jupyter-widgets/controls",
      "model_module_version": "2.0.0",
      "model_name": "ProgressStyleModel",
      "state": {
       "description_width": ""
      }
     },
     "63d55fa91320425692f1eafa11a69531": {
      "model_module": "@jupyter-widgets/controls",
      "model_module_version": "2.0.0",
      "model_name": "HBoxModel",
      "state": {
       "children": [
        "IPY_MODEL_0e7fb4c17dc24f889d4a9d1a5e64e340",
        "IPY_MODEL_f6bdd33e46ac4af5af7def4bb60fe0a5",
        "IPY_MODEL_9fcbd6b7d1e849489a6ff6b4293413d6"
       ],
       "layout": "IPY_MODEL_620f22d1ccad47f1a6466e0cbf8e91e3"
      }
     },
     "63f75f9ba93543f29451b6fa584b477f": {
      "model_module": "@jupyter-widgets/controls",
      "model_module_version": "2.0.0",
      "model_name": "HTMLModel",
      "state": {
       "layout": "IPY_MODEL_791784dadf5c4181825ed9062da692e5",
       "style": "IPY_MODEL_3cfc1619698e4d07ae48cf734e100b2d",
       "value": " 1/1 [00:09&lt;00:00,  9.12s/it]"
      }
     },
     "63fedcfbc66a4b32aa1fd691a65bd9bc": {
      "model_module": "@jupyter-widgets/controls",
      "model_module_version": "2.0.0",
      "model_name": "HBoxModel",
      "state": {
       "children": [
        "IPY_MODEL_6eb1d6cedce54953a8d741a0d8239f29",
        "IPY_MODEL_72103bb8927e4c929f478acd65dc6980",
        "IPY_MODEL_9518d41772394c6dbdd4e36f73a1840b"
       ],
       "layout": "IPY_MODEL_cf3016bf263b40b5accedcaee9f2d613"
      }
     },
     "64085e998abc4f938211cad08c4b3293": {
      "model_module": "@jupyter-widgets/controls",
      "model_module_version": "2.0.0",
      "model_name": "ProgressStyleModel",
      "state": {
       "description_width": ""
      }
     },
     "645cb94be4894b758bd9cc00c056f5ec": {
      "model_module": "@jupyter-widgets/controls",
      "model_module_version": "2.0.0",
      "model_name": "HTMLModel",
      "state": {
       "layout": "IPY_MODEL_c750152005924bba9eab938e3bb85058",
       "style": "IPY_MODEL_831145229fe44e5faf38598578321e32",
       "value": " 0/1 [00:01&lt;?, ?it/s]"
      }
     },
     "6471406d9ffd494abcd8b36c85719588": {
      "model_module": "@jupyter-widgets/controls",
      "model_module_version": "2.0.0",
      "model_name": "HTMLStyleModel",
      "state": {
       "description_width": "",
       "font_size": null,
       "text_color": null
      }
     },
     "647f494fdb984a66bcc95740bb87312c": {
      "model_module": "@jupyter-widgets/controls",
      "model_module_version": "2.0.0",
      "model_name": "ProgressStyleModel",
      "state": {
       "description_width": ""
      }
     },
     "648194c080784e8e8727769bf3107368": {
      "model_module": "@jupyter-widgets/controls",
      "model_module_version": "2.0.0",
      "model_name": "HBoxModel",
      "state": {
       "children": [
        "IPY_MODEL_6bde608557e2416a8057c3a7af33b3ce",
        "IPY_MODEL_9aed358f87a9497082fc5990b99ce748",
        "IPY_MODEL_91b613998d3e42309363f72ca8b4a79f"
       ],
       "layout": "IPY_MODEL_964b2102f2734263800f887290751eba"
      }
     },
     "6493298fc09d45ecae68a3a829065ecc": {
      "model_module": "@jupyter-widgets/base",
      "model_module_version": "2.0.0",
      "model_name": "LayoutModel",
      "state": {
       "flex": "2"
      }
     },
     "64ae1d425c674eaf824bbe8fbb6efa5f": {
      "model_module": "@jupyter-widgets/base",
      "model_module_version": "2.0.0",
      "model_name": "LayoutModel",
      "state": {}
     },
     "64b133b50bee472cb9028fc2db147332": {
      "model_module": "@jupyter-widgets/controls",
      "model_module_version": "2.0.0",
      "model_name": "HTMLStyleModel",
      "state": {
       "description_width": "",
       "font_size": null,
       "text_color": null
      }
     },
     "64e6d076a9824dd1b9bf789111de63f2": {
      "model_module": "@jupyter-widgets/controls",
      "model_module_version": "2.0.0",
      "model_name": "HTMLStyleModel",
      "state": {
       "description_width": "",
       "font_size": null,
       "text_color": null
      }
     },
     "6505a2281aa942229dc80e3a923371da": {
      "model_module": "@jupyter-widgets/controls",
      "model_module_version": "2.0.0",
      "model_name": "HTMLModel",
      "state": {
       "layout": "IPY_MODEL_3dbd8ed441da4f8a92d687e899d158ce",
       "style": "IPY_MODEL_8a4cea4fe207468997fe742303e7a1f5",
       "value": " 5/5 [00:00&lt;00:00, 10.49it/s, loss=0.171, v_num=74, MAE=4.090, RMSE=5.190, Loss=0.173, RegLoss=0.107]"
      }
     },
     "6539477d358543cabf74dbb2c5ad2e6e": {
      "model_module": "@jupyter-widgets/base",
      "model_module_version": "2.0.0",
      "model_name": "LayoutModel",
      "state": {
       "display": "inline-flex",
       "flex_flow": "row wrap",
       "width": "100%"
      }
     },
     "654fc1a32b544731a96d5d7be351ff6d": {
      "model_module": "@jupyter-widgets/controls",
      "model_module_version": "2.0.0",
      "model_name": "HTMLStyleModel",
      "state": {
       "description_width": "",
       "font_size": null,
       "text_color": null
      }
     },
     "6565f507626240d68b00ae4de2e0f080": {
      "model_module": "@jupyter-widgets/controls",
      "model_module_version": "2.0.0",
      "model_name": "FloatProgressModel",
      "state": {
       "bar_style": "danger",
       "layout": "IPY_MODEL_a1972969019e484cabac12035abb8fb9",
       "max": 80,
       "style": "IPY_MODEL_73440a9427364eae94ca516360e54ba0",
       "value": 15
      }
     },
     "658d516fde01463ab308747e38c337cb": {
      "model_module": "@jupyter-widgets/controls",
      "model_module_version": "2.0.0",
      "model_name": "FloatProgressModel",
      "state": {
       "bar_style": "success",
       "layout": "IPY_MODEL_a3348d2f51604c3b93f85ed13248c0af",
       "max": 1,
       "style": "IPY_MODEL_b43f0b4f8e7e453d95e10c51a772ead8",
       "value": 1
      }
     },
     "6592118489d04bd39fd8ec96aff25a63": {
      "model_module": "@jupyter-widgets/controls",
      "model_module_version": "2.0.0",
      "model_name": "HTMLModel",
      "state": {
       "layout": "IPY_MODEL_ebdc0395f87b402eba951d4dbfffde32",
       "style": "IPY_MODEL_349eb541e4f74d5f89820969fff16394",
       "value": " 1/1 [00:00&lt;00:00, 104.01it/s]"
      }
     },
     "659473577ddb4b6c8bccf6380389c82b": {
      "model_module": "@jupyter-widgets/controls",
      "model_module_version": "2.0.0",
      "model_name": "HTMLStyleModel",
      "state": {
       "description_width": "",
       "font_size": null,
       "text_color": null
      }
     },
     "65aec4d7e809452d8ca8f73cd27fa2e8": {
      "model_module": "@jupyter-widgets/controls",
      "model_module_version": "2.0.0",
      "model_name": "ProgressStyleModel",
      "state": {
       "description_width": ""
      }
     },
     "65b09a3b88c64d6594a0cec4edc7e690": {
      "model_module": "@jupyter-widgets/base",
      "model_module_version": "2.0.0",
      "model_name": "LayoutModel",
      "state": {}
     },
     "65c173bd2fb94a5b80c9ed6c976c9f1a": {
      "model_module": "@jupyter-widgets/controls",
      "model_module_version": "2.0.0",
      "model_name": "ProgressStyleModel",
      "state": {
       "description_width": ""
      }
     },
     "65db854e485c47aba7339d95363dde5b": {
      "model_module": "@jupyter-widgets/controls",
      "model_module_version": "2.0.0",
      "model_name": "ProgressStyleModel",
      "state": {
       "description_width": ""
      }
     },
     "65e47d13afb143f587ba842a46b3e01b": {
      "model_module": "@jupyter-widgets/controls",
      "model_module_version": "2.0.0",
      "model_name": "HTMLStyleModel",
      "state": {
       "description_width": "",
       "font_size": null,
       "text_color": null
      }
     },
     "65e92ee58457409391a9bd5c985cd969": {
      "model_module": "@jupyter-widgets/base",
      "model_module_version": "2.0.0",
      "model_name": "LayoutModel",
      "state": {}
     },
     "6632055c746e4a259291f691c5ae504e": {
      "model_module": "@jupyter-widgets/controls",
      "model_module_version": "2.0.0",
      "model_name": "FloatProgressModel",
      "state": {
       "layout": "IPY_MODEL_5d38d31bb8f24cf1984e1720c5d803a2",
       "max": 1,
       "style": "IPY_MODEL_f6fb7943c3054e2e8a7d5722289723e0",
       "value": 1
      }
     },
     "6654ae3d2a824d9aab1b0ced0a711096": {
      "model_module": "@jupyter-widgets/controls",
      "model_module_version": "2.0.0",
      "model_name": "HTMLModel",
      "state": {
       "layout": "IPY_MODEL_5f11db0ee9a544388d260f08790d4200",
       "style": "IPY_MODEL_b32b11c9f5dc4299b964295b76503399",
       "value": "Epoch 4:  80%"
      }
     },
     "665cfe30ba0348b8beb7489d902c1f3f": {
      "model_module": "@jupyter-widgets/controls",
      "model_module_version": "2.0.0",
      "model_name": "HBoxModel",
      "state": {
       "children": [
        "IPY_MODEL_9febc49f2e06487b977bfcacac293f18",
        "IPY_MODEL_55d006abde9347bfa3e2efe5941cc9ad",
        "IPY_MODEL_4d01f49cd95d4510a04f76a6ceb005d6"
       ],
       "layout": "IPY_MODEL_1d34054dde6c45e5962fd6c338cb7cc4"
      }
     },
     "6660e87d9f31418cb76939e7feba54c2": {
      "model_module": "@jupyter-widgets/base",
      "model_module_version": "2.0.0",
      "model_name": "LayoutModel",
      "state": {
       "display": "inline-flex",
       "flex_flow": "row wrap",
       "width": "100%"
      }
     },
     "6667d5b507b649eea05a7611cd113be8": {
      "model_module": "@jupyter-widgets/controls",
      "model_module_version": "2.0.0",
      "model_name": "HTMLStyleModel",
      "state": {
       "description_width": "",
       "font_size": null,
       "text_color": null
      }
     },
     "6692b5dc276045459fe81374a171cc2d": {
      "model_module": "@jupyter-widgets/controls",
      "model_module_version": "2.0.0",
      "model_name": "HTMLModel",
      "state": {
       "layout": "IPY_MODEL_74c000570c8f4745b9b8e34c3e35d75a",
       "style": "IPY_MODEL_de1622c6cfd845f591ce30ac9ee1e5df",
       "value": "  0%"
      }
     },
     "66aa3ae1deb94f92ba3d5606bc7348cd": {
      "model_module": "@jupyter-widgets/base",
      "model_module_version": "2.0.0",
      "model_name": "LayoutModel",
      "state": {}
     },
     "66b2de739fc44ef0867b0ac8d60d33f3": {
      "model_module": "@jupyter-widgets/base",
      "model_module_version": "2.0.0",
      "model_name": "LayoutModel",
      "state": {
       "flex": "2"
      }
     },
     "66ce578de5d04364a73d2c29ee97db7f": {
      "model_module": "@jupyter-widgets/controls",
      "model_module_version": "2.0.0",
      "model_name": "ProgressStyleModel",
      "state": {
       "description_width": ""
      }
     },
     "66e7c886dcbb47e8aadc2571c6b640e4": {
      "model_module": "@jupyter-widgets/controls",
      "model_module_version": "2.0.0",
      "model_name": "ProgressStyleModel",
      "state": {
       "description_width": ""
      }
     },
     "676c82b70037458b84b59ccba7bce9e7": {
      "model_module": "@jupyter-widgets/controls",
      "model_module_version": "2.0.0",
      "model_name": "HTMLModel",
      "state": {
       "layout": "IPY_MODEL_d266e15b75624a4284b962e602b05c72",
       "style": "IPY_MODEL_156f389d52324032963a1bb193ed1bf6",
       "value": "  0%"
      }
     },
     "6774e0e0fa9b450db05f54df1622b6be": {
      "model_module": "@jupyter-widgets/controls",
      "model_module_version": "2.0.0",
      "model_name": "HTMLStyleModel",
      "state": {
       "description_width": "",
       "font_size": null,
       "text_color": null
      }
     },
     "6777696a80f044a5aa54726b42517851": {
      "model_module": "@jupyter-widgets/base",
      "model_module_version": "2.0.0",
      "model_name": "LayoutModel",
      "state": {
       "display": "inline-flex",
       "flex_flow": "row wrap",
       "width": "100%"
      }
     },
     "67ae583ac3534621abcb01f5cd110ab3": {
      "model_module": "@jupyter-widgets/controls",
      "model_module_version": "2.0.0",
      "model_name": "FloatProgressModel",
      "state": {
       "layout": "IPY_MODEL_e9d793d5a9844c65b48a5f18d942090f",
       "max": 1,
       "style": "IPY_MODEL_ccdc34aef66748feabca4b522db72c6b",
       "value": 1
      }
     },
     "67b7fc2c1616476e9fd005cb5f36ea5f": {
      "model_module": "@jupyter-widgets/controls",
      "model_module_version": "2.0.0",
      "model_name": "HTMLStyleModel",
      "state": {
       "description_width": "",
       "font_size": null,
       "text_color": null
      }
     },
     "67c628f8897d40d4acb7fcd92fc0c88c": {
      "model_module": "@jupyter-widgets/controls",
      "model_module_version": "2.0.0",
      "model_name": "FloatProgressModel",
      "state": {
       "layout": "IPY_MODEL_c32034261bab413d8e2d1c2f13feb274",
       "max": 1,
       "style": "IPY_MODEL_31077bcad44f48dfbe7a7139a5098a5c",
       "value": 1
      }
     },
     "67c72f3484be4538b552078dbb332aa5": {
      "model_module": "@jupyter-widgets/controls",
      "model_module_version": "2.0.0",
      "model_name": "HTMLStyleModel",
      "state": {
       "description_width": "",
       "font_size": null,
       "text_color": null
      }
     },
     "67d290fcc5e84814afc993647320c554": {
      "model_module": "@jupyter-widgets/controls",
      "model_module_version": "2.0.0",
      "model_name": "HTMLStyleModel",
      "state": {
       "description_width": "",
       "font_size": null,
       "text_color": null
      }
     },
     "67d5b442287542a9bbc0f6f1ebe4c176": {
      "model_module": "@jupyter-widgets/controls",
      "model_module_version": "2.0.0",
      "model_name": "HTMLStyleModel",
      "state": {
       "description_width": "",
       "font_size": null,
       "text_color": null
      }
     },
     "67e46c50fda04886a71ec3f4ae664069": {
      "model_module": "@jupyter-widgets/controls",
      "model_module_version": "2.0.0",
      "model_name": "HTMLModel",
      "state": {
       "layout": "IPY_MODEL_ab50c474c8834929b97d3d355f624cb5",
       "style": "IPY_MODEL_a34406039c17431192c243d05469e7e4",
       "value": " 53/80 [12:02&lt;06:07, 13.63s/it, loss=4.85, v_num=15, MAE=52.10, RMSE=85.00, Loss=5.290, RegLoss=0.000]"
      }
     },
     "67fa15b2c82e458780863bfeef0d4ea0": {
      "model_module": "@jupyter-widgets/controls",
      "model_module_version": "2.0.0",
      "model_name": "FloatProgressModel",
      "state": {
       "bar_style": "success",
       "layout": "IPY_MODEL_939f25d0ad994d6e9af77a49d848796e",
       "max": 1,
       "style": "IPY_MODEL_c5da57b22ca943ff8f7175a6eec56455",
       "value": 1
      }
     },
     "68288d3e4e5b4ac9b6b29f118c84d2df": {
      "model_module": "@jupyter-widgets/controls",
      "model_module_version": "2.0.0",
      "model_name": "HTMLModel",
      "state": {
       "layout": "IPY_MODEL_4cff782f2a9a46ab8e89741bb08b2477",
       "style": "IPY_MODEL_d8228cfd4f274ae7b33d2107f486f93e",
       "value": " 5/5 [00:00&lt;00:00, 16.26it/s, loss=0.121, v_num=87, MAE=3.710, RMSE=4.800, Loss=0.122, RegLoss=0.0745]"
      }
     },
     "686c4c6d55034e329dd247d7bea3cecc": {
      "model_module": "@jupyter-widgets/controls",
      "model_module_version": "2.0.0",
      "model_name": "HTMLModel",
      "state": {
       "layout": "IPY_MODEL_6eb31578f5d949a78fa2d6bf4aafa47b",
       "style": "IPY_MODEL_e12a2d7ec6884db9b5d0898dee1c29b1",
       "value": "Validation DataLoader 0: 100%"
      }
     },
     "686e8b2ef9d24521bb3743e4b646a32d": {
      "model_module": "@jupyter-widgets/controls",
      "model_module_version": "2.0.0",
      "model_name": "HBoxModel",
      "state": {
       "children": [
        "IPY_MODEL_c2516ce0b18a45abb2b9623aca5c3bcc",
        "IPY_MODEL_4411029ff8e44681aedd2d06a3fed0a0",
        "IPY_MODEL_a24bc6df1ed54b20910b14891170aba4"
       ],
       "layout": "IPY_MODEL_1bc4e0a6737a44e8bb8cda823c0cfcad"
      }
     },
     "6877eb22c1584dfba221963e9aea0dc5": {
      "model_module": "@jupyter-widgets/controls",
      "model_module_version": "2.0.0",
      "model_name": "HTMLModel",
      "state": {
       "layout": "IPY_MODEL_0c9db46a05784bc1bbf4b32e811303bf",
       "style": "IPY_MODEL_aa2b9a4bf3e34469bcd5834cfebfe29e",
       "value": "Testing DataLoader 0: 100%"
      }
     },
     "68809902ddb547098c4dd1cca395d45c": {
      "model_module": "@jupyter-widgets/controls",
      "model_module_version": "2.0.0",
      "model_name": "ProgressStyleModel",
      "state": {
       "description_width": ""
      }
     },
     "68af5d625b8b47e6a935285b8145a1d1": {
      "model_module": "@jupyter-widgets/base",
      "model_module_version": "2.0.0",
      "model_name": "LayoutModel",
      "state": {}
     },
     "68b69d8a6d90426d9cfa8e492b4433b4": {
      "model_module": "@jupyter-widgets/controls",
      "model_module_version": "2.0.0",
      "model_name": "ProgressStyleModel",
      "state": {
       "description_width": ""
      }
     },
     "68b779e1fb614194992f9cd68af123e7": {
      "model_module": "@jupyter-widgets/controls",
      "model_module_version": "2.0.0",
      "model_name": "HTMLStyleModel",
      "state": {
       "description_width": "",
       "font_size": null,
       "text_color": null
      }
     },
     "68c0efa106e84a6cadd3210fd56a13fb": {
      "model_module": "@jupyter-widgets/controls",
      "model_module_version": "2.0.0",
      "model_name": "ProgressStyleModel",
      "state": {
       "description_width": ""
      }
     },
     "68c84bb1a9d34f8fae4608fa300331f1": {
      "model_module": "@jupyter-widgets/base",
      "model_module_version": "2.0.0",
      "model_name": "LayoutModel",
      "state": {}
     },
     "68d34e5bc2e141949093a8db4ca6f621": {
      "model_module": "@jupyter-widgets/controls",
      "model_module_version": "2.0.0",
      "model_name": "HTMLModel",
      "state": {
       "layout": "IPY_MODEL_143e4c324c5b4d29b24862a933ef0d71",
       "style": "IPY_MODEL_efc96549b1ec42e19844de865ccf2486",
       "value": "Testing DataLoader 0: 100%"
      }
     },
     "694977a8e5884c4cab345a31804762cc": {
      "model_module": "@jupyter-widgets/controls",
      "model_module_version": "2.0.0",
      "model_name": "ProgressStyleModel",
      "state": {
       "description_width": ""
      }
     },
     "695d71326dfd4ffc96cabca42e8e2ffb": {
      "model_module": "@jupyter-widgets/controls",
      "model_module_version": "2.0.0",
      "model_name": "HTMLStyleModel",
      "state": {
       "description_width": "",
       "font_size": null,
       "text_color": null
      }
     },
     "6988121bfb8441758c1f85db9a709f88": {
      "model_module": "@jupyter-widgets/controls",
      "model_module_version": "2.0.0",
      "model_name": "HBoxModel",
      "state": {
       "children": [
        "IPY_MODEL_b45fc10f51b04df2869abd34e99f779f",
        "IPY_MODEL_043bd15177f84c4c8a638fdffc6282c5",
        "IPY_MODEL_4c1fede122284e4b846a608840566529"
       ],
       "layout": "IPY_MODEL_6660e87d9f31418cb76939e7feba54c2"
      }
     },
     "6991250b94514465b3cb7b6ce2ddc8ba": {
      "model_module": "@jupyter-widgets/controls",
      "model_module_version": "2.0.0",
      "model_name": "HTMLStyleModel",
      "state": {
       "description_width": "",
       "font_size": null,
       "text_color": null
      }
     },
     "69ca2574ac1e45c09de7d6cae984e258": {
      "model_module": "@jupyter-widgets/controls",
      "model_module_version": "2.0.0",
      "model_name": "HTMLModel",
      "state": {
       "layout": "IPY_MODEL_c97bc2632b0545948f88781188302af7",
       "style": "IPY_MODEL_9f8cff23f41040478ecb22e297d34cc5",
       "value": "  0%"
      }
     },
     "69cf647b79084f63a945a2aea3a3d525": {
      "model_module": "@jupyter-widgets/controls",
      "model_module_version": "2.0.0",
      "model_name": "ProgressStyleModel",
      "state": {
       "description_width": ""
      }
     },
     "69e6723d3e87420aaff1c1d4699a4613": {
      "model_module": "@jupyter-widgets/base",
      "model_module_version": "2.0.0",
      "model_name": "LayoutModel",
      "state": {
       "display": "inline-flex",
       "flex_flow": "row wrap",
       "width": "100%"
      }
     },
     "69e8c73efcd64a0691301124edc23417": {
      "model_module": "@jupyter-widgets/base",
      "model_module_version": "2.0.0",
      "model_name": "LayoutModel",
      "state": {}
     },
     "69e8cf2e040c4dafb732fb2550a6d8d6": {
      "model_module": "@jupyter-widgets/controls",
      "model_module_version": "2.0.0",
      "model_name": "HTMLStyleModel",
      "state": {
       "description_width": "",
       "font_size": null,
       "text_color": null
      }
     },
     "69f2ef2f1b9742949d33ad047e70faae": {
      "model_module": "@jupyter-widgets/controls",
      "model_module_version": "2.0.0",
      "model_name": "HTMLModel",
      "state": {
       "layout": "IPY_MODEL_40f757c92d884597a7612442806b9951",
       "style": "IPY_MODEL_6cc6a7a0789f47dfadc87f5cfdc69f2d",
       "value": "Testing DataLoader 0: 100%"
      }
     },
     "6a3922c91a684b13908907f17560e0af": {
      "model_module": "@jupyter-widgets/controls",
      "model_module_version": "2.0.0",
      "model_name": "ProgressStyleModel",
      "state": {
       "description_width": ""
      }
     },
     "6a4886d30c844b16ab341c82ede32ae1": {
      "model_module": "@jupyter-widgets/base",
      "model_module_version": "2.0.0",
      "model_name": "LayoutModel",
      "state": {
       "display": "inline-flex",
       "flex_flow": "row wrap",
       "width": "100%"
      }
     },
     "6a5806b9689546a0a39c563c42bee9d3": {
      "model_module": "@jupyter-widgets/base",
      "model_module_version": "2.0.0",
      "model_name": "LayoutModel",
      "state": {}
     },
     "6a5b18ebc60a4c1d8653aaf5df92ef88": {
      "model_module": "@jupyter-widgets/controls",
      "model_module_version": "2.0.0",
      "model_name": "HTMLModel",
      "state": {
       "layout": "IPY_MODEL_15884be0003d4c7cac47343a34bd075e",
       "style": "IPY_MODEL_50fa9f6f5fd6411aab0de167908c9add",
       "value": "  0%"
      }
     },
     "6a5b29e110204f7f957d90362960b253": {
      "model_module": "@jupyter-widgets/controls",
      "model_module_version": "2.0.0",
      "model_name": "HTMLModel",
      "state": {
       "layout": "IPY_MODEL_78224d570c7a490ab66c1e0a012328b0",
       "style": "IPY_MODEL_a0ce2789da4d4a93bc1366860b472750",
       "value": "Epoch 80: 100%"
      }
     },
     "6a8e9c2b7d5e4622bc84f20cee0aafad": {
      "model_module": "@jupyter-widgets/controls",
      "model_module_version": "2.0.0",
      "model_name": "FloatProgressModel",
      "state": {
       "bar_style": "success",
       "layout": "IPY_MODEL_b67b120716f7416088883ee6313b3544",
       "max": 1,
       "style": "IPY_MODEL_35ca75f90b724a0e8ebe957c5bfb625f",
       "value": 1
      }
     },
     "6aaa614ab99447e1bebc9a96dfa57f3c": {
      "model_module": "@jupyter-widgets/base",
      "model_module_version": "2.0.0",
      "model_name": "LayoutModel",
      "state": {
       "display": "inline-flex",
       "flex_flow": "row wrap",
       "width": "100%"
      }
     },
     "6ac1a3e12ecb4ee9b694ffabc364fd4c": {
      "model_module": "@jupyter-widgets/base",
      "model_module_version": "2.0.0",
      "model_name": "LayoutModel",
      "state": {}
     },
     "6ae8f572885147a881ada2a226032475": {
      "model_module": "@jupyter-widgets/base",
      "model_module_version": "2.0.0",
      "model_name": "LayoutModel",
      "state": {
       "display": "inline-flex",
       "flex_flow": "row wrap",
       "width": "100%"
      }
     },
     "6afd2db0628a4f6fbd34dfdd3b913f1b": {
      "model_module": "@jupyter-widgets/base",
      "model_module_version": "2.0.0",
      "model_name": "LayoutModel",
      "state": {}
     },
     "6b0433a96318416eb05bea7bce3e1d8c": {
      "model_module": "@jupyter-widgets/controls",
      "model_module_version": "2.0.0",
      "model_name": "ProgressStyleModel",
      "state": {
       "description_width": ""
      }
     },
     "6b05cf7e6af24e6b977e8907c13b50fd": {
      "model_module": "@jupyter-widgets/base",
      "model_module_version": "2.0.0",
      "model_name": "LayoutModel",
      "state": {
       "display": "inline-flex",
       "flex_flow": "row wrap",
       "width": "100%"
      }
     },
     "6b67f20b24984d0baa05c761b75ca8c7": {
      "model_module": "@jupyter-widgets/base",
      "model_module_version": "2.0.0",
      "model_name": "LayoutModel",
      "state": {}
     },
     "6b838d0cef3a43b59b14d8ecefdd44d7": {
      "model_module": "@jupyter-widgets/controls",
      "model_module_version": "2.0.0",
      "model_name": "HTMLModel",
      "state": {
       "layout": "IPY_MODEL_9e0cf5ed6e67400c97e0e4ad7400d07d",
       "style": "IPY_MODEL_4fa5190fda944379b635728be0285e77",
       "value": "Epoch 1:   1%"
      }
     },
     "6b89e9c487934b7882d646cb2f20a0cf": {
      "model_module": "@jupyter-widgets/controls",
      "model_module_version": "2.0.0",
      "model_name": "ProgressStyleModel",
      "state": {
       "description_width": ""
      }
     },
     "6b8c4e2792a54a2a8faa6a7b41c4144f": {
      "model_module": "@jupyter-widgets/controls",
      "model_module_version": "2.0.0",
      "model_name": "ProgressStyleModel",
      "state": {
       "description_width": ""
      }
     },
     "6b8d2b73af6d46e9b57eec64cd667ba1": {
      "model_module": "@jupyter-widgets/base",
      "model_module_version": "2.0.0",
      "model_name": "LayoutModel",
      "state": {}
     },
     "6bae89452c8f4e73addd07bce07b2026": {
      "model_module": "@jupyter-widgets/base",
      "model_module_version": "2.0.0",
      "model_name": "LayoutModel",
      "state": {}
     },
     "6bbfd379a3744319ad349773549c2f9d": {
      "model_module": "@jupyter-widgets/base",
      "model_module_version": "2.0.0",
      "model_name": "LayoutModel",
      "state": {
       "display": "inline-flex",
       "flex_flow": "row wrap",
       "width": "100%"
      }
     },
     "6bd98dec062d4bbf9827979bb5eab159": {
      "model_module": "@jupyter-widgets/base",
      "model_module_version": "2.0.0",
      "model_name": "LayoutModel",
      "state": {}
     },
     "6bd9bd5cb43e49bba9765711ff3b206b": {
      "model_module": "@jupyter-widgets/base",
      "model_module_version": "2.0.0",
      "model_name": "LayoutModel",
      "state": {}
     },
     "6bde608557e2416a8057c3a7af33b3ce": {
      "model_module": "@jupyter-widgets/controls",
      "model_module_version": "2.0.0",
      "model_name": "HTMLModel",
      "state": {
       "layout": "IPY_MODEL_b39431db2d73468f893eaf8a6e482049",
       "style": "IPY_MODEL_8545a18f8c2347678281bea01e152bf7",
       "value": "Epoch 4:  80%"
      }
     },
     "6bed07b6ed86460fb3ce626fcb222fbb": {
      "model_module": "@jupyter-widgets/base",
      "model_module_version": "2.0.0",
      "model_name": "LayoutModel",
      "state": {
       "flex": "2"
      }
     },
     "6c1ea7dfa8c540549291f741e9d8782f": {
      "model_module": "@jupyter-widgets/base",
      "model_module_version": "2.0.0",
      "model_name": "LayoutModel",
      "state": {}
     },
     "6c1ecbfaf65448ff9dc0028bce2a6cd3": {
      "model_module": "@jupyter-widgets/controls",
      "model_module_version": "2.0.0",
      "model_name": "HTMLModel",
      "state": {
       "layout": "IPY_MODEL_dd0994d317a646599983fe0a49a236eb",
       "style": "IPY_MODEL_2a0452e588ae454fa2821fcf8bbf1487",
       "value": " 1/1 [00:00&lt;00:00, 275.92it/s]"
      }
     },
     "6c220498480e4dfea0e2f0ee0fec30d3": {
      "model_module": "@jupyter-widgets/controls",
      "model_module_version": "2.0.0",
      "model_name": "ProgressStyleModel",
      "state": {
       "description_width": ""
      }
     },
     "6c2981e361244b4d8302f8ef063a31ea": {
      "model_module": "@jupyter-widgets/base",
      "model_module_version": "2.0.0",
      "model_name": "LayoutModel",
      "state": {
       "flex": "2"
      }
     },
     "6c38cdd884544f818848081a0270064f": {
      "model_module": "@jupyter-widgets/controls",
      "model_module_version": "2.0.0",
      "model_name": "HTMLModel",
      "state": {
       "layout": "IPY_MODEL_3dc96b3fbe124e68b34658d612b2a880",
       "style": "IPY_MODEL_f5cc23e197d948b397c51d6c44a877c4",
       "value": "Testing DataLoader 0: 100%"
      }
     },
     "6c449b00f0c8401da30dabce925ad32c": {
      "model_module": "@jupyter-widgets/base",
      "model_module_version": "2.0.0",
      "model_name": "LayoutModel",
      "state": {
       "display": "inline-flex",
       "flex_flow": "row wrap",
       "visibility": "hidden",
       "width": "100%"
      }
     },
     "6cc6a7a0789f47dfadc87f5cfdc69f2d": {
      "model_module": "@jupyter-widgets/controls",
      "model_module_version": "2.0.0",
      "model_name": "HTMLStyleModel",
      "state": {
       "description_width": "",
       "font_size": null,
       "text_color": null
      }
     },
     "6ccc3c3833c04134af22937f8839e396": {
      "model_module": "@jupyter-widgets/base",
      "model_module_version": "2.0.0",
      "model_name": "LayoutModel",
      "state": {}
     },
     "6ccd5c2dfe2446aa98c4cef709709673": {
      "model_module": "@jupyter-widgets/controls",
      "model_module_version": "2.0.0",
      "model_name": "HBoxModel",
      "state": {
       "children": [
        "IPY_MODEL_acefa3c55c9c44f3b123474840214497",
        "IPY_MODEL_ed067e32b7e943c4b90c456d19f41f5b",
        "IPY_MODEL_b98b4591154b4041a5943a352413b941"
       ],
       "layout": "IPY_MODEL_9b960bbf0d6748a5b4fb22eb79570e69"
      }
     },
     "6cdf0e6651a44c6c9ff3ca56f4e0571e": {
      "model_module": "@jupyter-widgets/controls",
      "model_module_version": "2.0.0",
      "model_name": "HBoxModel",
      "state": {
       "children": [
        "IPY_MODEL_37c5708f9754497c835a4906bc42e5fd",
        "IPY_MODEL_70615f48f7a746c9930d3bd0858a44ba",
        "IPY_MODEL_ef23022cefdf485b86eff52165fa1f26"
       ],
       "layout": "IPY_MODEL_aad833d320714ebfa5783e29ddd4f715"
      }
     },
     "6cff334b5a924aebab98ceb30b6ed379": {
      "model_module": "@jupyter-widgets/controls",
      "model_module_version": "2.0.0",
      "model_name": "HTMLModel",
      "state": {
       "layout": "IPY_MODEL_8d3e2d14e87f4447a732b18e6dc556dd",
       "style": "IPY_MODEL_1019a2ecdeb74df99bbb88e2413b3f2c",
       "value": " 5/5 [00:00&lt;00:00, 15.37it/s, loss=0.059, v_num=88, MAE=3.490, RMSE=4.480, Loss=0.0624, RegLoss=0.0234]"
      }
     },
     "6d1a0bf81dfc437aa87e07183801157f": {
      "model_module": "@jupyter-widgets/base",
      "model_module_version": "2.0.0",
      "model_name": "LayoutModel",
      "state": {
       "flex": "2"
      }
     },
     "6d2eefd9cc2841f49af8ea3d0af9ae20": {
      "model_module": "@jupyter-widgets/controls",
      "model_module_version": "2.0.0",
      "model_name": "HTMLStyleModel",
      "state": {
       "description_width": "",
       "font_size": null,
       "text_color": null
      }
     },
     "6d559ca2b9d843979c71f6555faddfad": {
      "model_module": "@jupyter-widgets/controls",
      "model_module_version": "2.0.0",
      "model_name": "HBoxModel",
      "state": {
       "children": [
        "IPY_MODEL_e3ab88da121f48ce8b6353c6d996b492",
        "IPY_MODEL_bb7f648b5f614894a196b4abe98035e4",
        "IPY_MODEL_366cb69416e044e69ace8b89ef0628f4"
       ],
       "layout": "IPY_MODEL_6f5812fcdcc54771b6ca1fbea749597a"
      }
     },
     "6d5ebb4fe2534e2cbbe765ea2a669d15": {
      "model_module": "@jupyter-widgets/base",
      "model_module_version": "2.0.0",
      "model_name": "LayoutModel",
      "state": {}
     },
     "6d663bc051634aeca58871a54668a30b": {
      "model_module": "@jupyter-widgets/base",
      "model_module_version": "2.0.0",
      "model_name": "LayoutModel",
      "state": {
       "display": "inline-flex",
       "flex_flow": "row wrap",
       "visibility": "hidden",
       "width": "100%"
      }
     },
     "6d6d38b1777d4c2290326c9ebb49e00a": {
      "model_module": "@jupyter-widgets/base",
      "model_module_version": "2.0.0",
      "model_name": "LayoutModel",
      "state": {
       "display": "inline-flex",
       "flex_flow": "row wrap",
       "width": "100%"
      }
     },
     "6db102ff44da42c39c776a9cde2a7d13": {
      "model_module": "@jupyter-widgets/controls",
      "model_module_version": "2.0.0",
      "model_name": "HBoxModel",
      "state": {
       "children": [
        "IPY_MODEL_aba2188f56ef45a580302d5d09cd8013",
        "IPY_MODEL_6565f507626240d68b00ae4de2e0f080",
        "IPY_MODEL_45b7ec157e864fd186e9408d982c99ea"
       ],
       "layout": "IPY_MODEL_42830c62f8034f269d82af14f8bf66a2"
      }
     },
     "6dba4a237cad4308abd23a22c43a345c": {
      "model_module": "@jupyter-widgets/controls",
      "model_module_version": "2.0.0",
      "model_name": "HBoxModel",
      "state": {
       "children": [
        "IPY_MODEL_cff116c0cff94f88bbcfcee54253eff0",
        "IPY_MODEL_95667df0ca4a4b03836d37d8747a861f",
        "IPY_MODEL_bfc19c68fed54cd5906aebda29a83be2"
       ],
       "layout": "IPY_MODEL_31198fbf08ab47419127378e0c489d4d"
      }
     },
     "6dd57d815b9b496cb1b68fd6f2903c24": {
      "model_module": "@jupyter-widgets/controls",
      "model_module_version": "2.0.0",
      "model_name": "HTMLModel",
      "state": {
       "layout": "IPY_MODEL_4ee999b5685942a3a3a43ca1adba0961",
       "style": "IPY_MODEL_69e8cf2e040c4dafb732fb2550a6d8d6",
       "value": "Epoch 80: 100%"
      }
     },
     "6ddc1fc58a154387a3b6f7a9607a4bf3": {
      "model_module": "@jupyter-widgets/base",
      "model_module_version": "2.0.0",
      "model_name": "LayoutModel",
      "state": {}
     },
     "6ddef7511911482986795e9d9bdd5c27": {
      "model_module": "@jupyter-widgets/base",
      "model_module_version": "2.0.0",
      "model_name": "LayoutModel",
      "state": {}
     },
     "6de45caa22ca431cb04a897e86c0719e": {
      "model_module": "@jupyter-widgets/controls",
      "model_module_version": "2.0.0",
      "model_name": "HTMLStyleModel",
      "state": {
       "description_width": "",
       "font_size": null,
       "text_color": null
      }
     },
     "6de928294cc8424fab1561ce4533ba4c": {
      "model_module": "@jupyter-widgets/controls",
      "model_module_version": "2.0.0",
      "model_name": "HTMLStyleModel",
      "state": {
       "description_width": "",
       "font_size": null,
       "text_color": null
      }
     },
     "6deabd3b483c4b0ca8b4b076adb6a186": {
      "model_module": "@jupyter-widgets/controls",
      "model_module_version": "2.0.0",
      "model_name": "HTMLModel",
      "state": {
       "layout": "IPY_MODEL_1412787c076c4c68a7a3ab336e8deb4a",
       "style": "IPY_MODEL_5497ebf806ea4de7acb86737d9dff373",
       "value": "Epoch 80: 100%"
      }
     },
     "6df3538fa6cb474798d001809a89e052": {
      "model_module": "@jupyter-widgets/controls",
      "model_module_version": "2.0.0",
      "model_name": "HTMLModel",
      "state": {
       "layout": "IPY_MODEL_bef9978edef14dd88bc8061b20ba9f33",
       "style": "IPY_MODEL_8431bcddb9cd4b94928fc5561a90df3c",
       "value": "  0%"
      }
     },
     "6df4c8dd86de43c8886c6d06c7f47c82": {
      "model_module": "@jupyter-widgets/controls",
      "model_module_version": "2.0.0",
      "model_name": "ProgressStyleModel",
      "state": {
       "description_width": ""
      }
     },
     "6e0fab55ad184f0db4057ff6fe36e2d8": {
      "model_module": "@jupyter-widgets/controls",
      "model_module_version": "2.0.0",
      "model_name": "ProgressStyleModel",
      "state": {
       "description_width": ""
      }
     },
     "6e1c201db5d540a1b0203b6400d2c0ba": {
      "model_module": "@jupyter-widgets/base",
      "model_module_version": "2.0.0",
      "model_name": "LayoutModel",
      "state": {}
     },
     "6e237ec6cee34439a9d702bf4cf46186": {
      "model_module": "@jupyter-widgets/base",
      "model_module_version": "2.0.0",
      "model_name": "LayoutModel",
      "state": {}
     },
     "6e2cd0fb99a246c5a669a31d2d4c307f": {
      "model_module": "@jupyter-widgets/base",
      "model_module_version": "2.0.0",
      "model_name": "LayoutModel",
      "state": {}
     },
     "6e2ffb7c7f724df58d863f4d3abd5df4": {
      "model_module": "@jupyter-widgets/controls",
      "model_module_version": "2.0.0",
      "model_name": "HBoxModel",
      "state": {
       "children": [
        "IPY_MODEL_38b253c8459a4505800f3cb70f3428f3",
        "IPY_MODEL_f29e86858e3a41d18da5f35a08e4a0ad",
        "IPY_MODEL_d1d1aaed2a1344ceb3e951a5386cfa72"
       ],
       "layout": "IPY_MODEL_f1c8466031b24841b34a710c9f6aaa98"
      }
     },
     "6e5948e80168476d973dc921788cfff3": {
      "model_module": "@jupyter-widgets/controls",
      "model_module_version": "2.0.0",
      "model_name": "HTMLStyleModel",
      "state": {
       "description_width": "",
       "font_size": null,
       "text_color": null
      }
     },
     "6e898a8b76ba4ad0987c6b380911d17d": {
      "model_module": "@jupyter-widgets/controls",
      "model_module_version": "2.0.0",
      "model_name": "HTMLStyleModel",
      "state": {
       "description_width": "",
       "font_size": null,
       "text_color": null
      }
     },
     "6eb1d6cedce54953a8d741a0d8239f29": {
      "model_module": "@jupyter-widgets/controls",
      "model_module_version": "2.0.0",
      "model_name": "HTMLModel",
      "state": {
       "layout": "IPY_MODEL_0b37c2af128f4b0aa0b291ae3b020a4d",
       "style": "IPY_MODEL_e30e102807fb49a6a71cc0ecdfb78d80",
       "value": "  0%"
      }
     },
     "6eb31578f5d949a78fa2d6bf4aafa47b": {
      "model_module": "@jupyter-widgets/base",
      "model_module_version": "2.0.0",
      "model_name": "LayoutModel",
      "state": {}
     },
     "6eb3c32cc3d14dfd8795f6b9b84ec63e": {
      "model_module": "@jupyter-widgets/base",
      "model_module_version": "2.0.0",
      "model_name": "LayoutModel",
      "state": {}
     },
     "6ebca98ab8ab45749f1f986fe11d7969": {
      "model_module": "@jupyter-widgets/controls",
      "model_module_version": "2.0.0",
      "model_name": "FloatProgressModel",
      "state": {
       "bar_style": "danger",
       "layout": "IPY_MODEL_1e326999496147099530df23fae92ee0",
       "max": 10,
       "style": "IPY_MODEL_a95ebd3b24ff41b0a96bb97516a98169"
      }
     },
     "6ec29bb895eb4091b1cd1923982d0ff6": {
      "model_module": "@jupyter-widgets/controls",
      "model_module_version": "2.0.0",
      "model_name": "HBoxModel",
      "state": {
       "children": [
        "IPY_MODEL_788877fd400b4fb1817a0f5e39e71e6b",
        "IPY_MODEL_bbaa4664b0614ccc9b7ca0cd61a69a8a",
        "IPY_MODEL_9c768a3f5afb431d90fdfdddddf69c09"
       ],
       "layout": "IPY_MODEL_55967e77a89f4d47991e03c22a7ee57a"
      }
     },
     "6ecf42fc42fa423ca0c57cf02b36ee07": {
      "model_module": "@jupyter-widgets/base",
      "model_module_version": "2.0.0",
      "model_name": "LayoutModel",
      "state": {
       "display": "inline-flex",
       "flex_flow": "row wrap",
       "width": "100%"
      }
     },
     "6f00f96270904d26b3e6748561be761c": {
      "model_module": "@jupyter-widgets/controls",
      "model_module_version": "2.0.0",
      "model_name": "HBoxModel",
      "state": {
       "children": [
        "IPY_MODEL_96accb01cd4d47e1a1c98f09b26604b2",
        "IPY_MODEL_8b287f093aeb4311901416d0db1d4149",
        "IPY_MODEL_cf1cfc73fbf74ea998bfb18b03d5c99b"
       ],
       "layout": "IPY_MODEL_84dbfa57750247e5ad1586599eda5f3f"
      }
     },
     "6f099c5e1cb64b6380aa8a28e5a9b5c1": {
      "model_module": "@jupyter-widgets/controls",
      "model_module_version": "2.0.0",
      "model_name": "HTMLModel",
      "state": {
       "layout": "IPY_MODEL_98d619a1b1bb4f4d844764453d577751",
       "style": "IPY_MODEL_0926e6963791497b8ac7b268f388c14e",
       "value": " 80/80 [00:00&lt;00:00, 150.33it/s, loss=0.0542, v_num=16, MAE=3.540, RMSE=4.540, Loss=0.0526, RegLoss=0.000665]"
      }
     },
     "6f21e14be3744d58affa17d4220bec47": {
      "model_module": "@jupyter-widgets/controls",
      "model_module_version": "2.0.0",
      "model_name": "HTMLStyleModel",
      "state": {
       "description_width": "",
       "font_size": null,
       "text_color": null
      }
     },
     "6f3e0112f12142e9a4b1f0d24c0cbc41": {
      "model_module": "@jupyter-widgets/controls",
      "model_module_version": "2.0.0",
      "model_name": "ProgressStyleModel",
      "state": {
       "description_width": ""
      }
     },
     "6f40b3377fd34146bc72e125fe18eaf6": {
      "model_module": "@jupyter-widgets/controls",
      "model_module_version": "2.0.0",
      "model_name": "HBoxModel",
      "state": {
       "children": [
        "IPY_MODEL_eb2b30d3510342059aafd02c6fcdac00",
        "IPY_MODEL_72eb1821c9ee498fb2bbe71acf59ff9d",
        "IPY_MODEL_0a7e02895b154115aa820890d8a832e6"
       ],
       "layout": "IPY_MODEL_5462a6e68ca240fbb4cdaf9c3616ffab"
      }
     },
     "6f56659ea8124826bb9aea957e6797c5": {
      "model_module": "@jupyter-widgets/base",
      "model_module_version": "2.0.0",
      "model_name": "LayoutModel",
      "state": {}
     },
     "6f5812fcdcc54771b6ca1fbea749597a": {
      "model_module": "@jupyter-widgets/base",
      "model_module_version": "2.0.0",
      "model_name": "LayoutModel",
      "state": {}
     },
     "6f777f9ba2d349d6a087ba82e2cb7882": {
      "model_module": "@jupyter-widgets/controls",
      "model_module_version": "2.0.0",
      "model_name": "ProgressStyleModel",
      "state": {
       "description_width": ""
      }
     },
     "6f793fd48b144c2dbc0c5c5e120fb703": {
      "model_module": "@jupyter-widgets/base",
      "model_module_version": "2.0.0",
      "model_name": "LayoutModel",
      "state": {}
     },
     "6fa6ede631a543a0b4dd87e4a06a3782": {
      "model_module": "@jupyter-widgets/controls",
      "model_module_version": "2.0.0",
      "model_name": "HTMLStyleModel",
      "state": {
       "description_width": "",
       "font_size": null,
       "text_color": null
      }
     },
     "6fba338259bc40f8bc00193da72b2f10": {
      "model_module": "@jupyter-widgets/controls",
      "model_module_version": "2.0.0",
      "model_name": "HBoxModel",
      "state": {
       "children": [
        "IPY_MODEL_4567df403887484fa535246a67e1e0a9",
        "IPY_MODEL_cc1b8f7205ac49eab2b838f696779329",
        "IPY_MODEL_b84ddec9bb4b49fd955eb8a61726f389"
       ],
       "layout": "IPY_MODEL_4b3a5996ed084f139dc828893b9fb6c1"
      }
     },
     "6fbc3f214160456f99395f99def91d98": {
      "model_module": "@jupyter-widgets/controls",
      "model_module_version": "2.0.0",
      "model_name": "HTMLModel",
      "state": {
       "layout": "IPY_MODEL_6bae89452c8f4e73addd07bce07b2026",
       "style": "IPY_MODEL_079d1a09596c460dbb515956d3bc7df4",
       "value": " 1/1 [00:00&lt;00:00, 262.47it/s]"
      }
     },
     "6fdf2c34f325429d8253ef04dd00d260": {
      "model_module": "@jupyter-widgets/base",
      "model_module_version": "2.0.0",
      "model_name": "LayoutModel",
      "state": {}
     },
     "700d2f10169946aba543fa2a64f02c17": {
      "model_module": "@jupyter-widgets/controls",
      "model_module_version": "2.0.0",
      "model_name": "HTMLModel",
      "state": {
       "layout": "IPY_MODEL_255da7a69c3c44e5b20bd9d89d8c97ff",
       "style": "IPY_MODEL_64b133b50bee472cb9028fc2db147332",
       "value": "Epoch 53:  66%"
      }
     },
     "70190e297dad4562af9e03b8130758a2": {
      "model_module": "@jupyter-widgets/controls",
      "model_module_version": "2.0.0",
      "model_name": "HTMLModel",
      "state": {
       "layout": "IPY_MODEL_1e9088daa1b04517b93f678a9994e9d5",
       "style": "IPY_MODEL_6de45caa22ca431cb04a897e86c0719e",
       "value": " 80/80 [00:00&lt;00:00, 164.80it/s, loss=2.31, v_num=59, MAE=30.40, RMSE=39.60, Loss=2.290, RegLoss=1.120]"
      }
     },
     "7041652920f94fb7958e91ba203ab9e3": {
      "model_module": "@jupyter-widgets/controls",
      "model_module_version": "2.0.0",
      "model_name": "HTMLModel",
      "state": {
       "layout": "IPY_MODEL_07d603cdf344483ba22867c51efe1303",
       "style": "IPY_MODEL_2b7603a93c5b4a40a3a108b2582279de",
       "value": "Testing DataLoader 0: 100%"
      }
     },
     "704b553723404705b849befbece66112": {
      "model_module": "@jupyter-widgets/controls",
      "model_module_version": "2.0.0",
      "model_name": "ProgressStyleModel",
      "state": {
       "description_width": ""
      }
     },
     "705199a266c84ef49c13902654e7478c": {
      "model_module": "@jupyter-widgets/controls",
      "model_module_version": "2.0.0",
      "model_name": "ProgressStyleModel",
      "state": {
       "description_width": ""
      }
     },
     "7055ac8e137d4ef2aeb87d16126a92ba": {
      "model_module": "@jupyter-widgets/base",
      "model_module_version": "2.0.0",
      "model_name": "LayoutModel",
      "state": {}
     },
     "70615f48f7a746c9930d3bd0858a44ba": {
      "model_module": "@jupyter-widgets/controls",
      "model_module_version": "2.0.0",
      "model_name": "FloatProgressModel",
      "state": {
       "bar_style": "danger",
       "layout": "IPY_MODEL_4fe7f2ad7bad45af9c572f26dc66da2d",
       "max": 5,
       "style": "IPY_MODEL_68c0efa106e84a6cadd3210fd56a13fb",
       "value": 4
      }
     },
     "70718fec3dc049e389114335c65b4a75": {
      "model_module": "@jupyter-widgets/controls",
      "model_module_version": "2.0.0",
      "model_name": "FloatProgressModel",
      "state": {
       "layout": "IPY_MODEL_e6723e9ce9214e9490409264981d92f5",
       "max": 1,
       "style": "IPY_MODEL_66e7c886dcbb47e8aadc2571c6b640e4",
       "value": 1
      }
     },
     "707678bc79fd476195f056cdc6b23afa": {
      "model_module": "@jupyter-widgets/controls",
      "model_module_version": "2.0.0",
      "model_name": "HTMLStyleModel",
      "state": {
       "description_width": "",
       "font_size": null,
       "text_color": null
      }
     },
     "7091c64a8a1a46a1a7cfcc3918ced42b": {
      "model_module": "@jupyter-widgets/base",
      "model_module_version": "2.0.0",
      "model_name": "LayoutModel",
      "state": {
       "flex": "2"
      }
     },
     "7091c6d0ad294621995620d951bffd2a": {
      "model_module": "@jupyter-widgets/base",
      "model_module_version": "2.0.0",
      "model_name": "LayoutModel",
      "state": {}
     },
     "709869ba3c6041099192861f822d3052": {
      "model_module": "@jupyter-widgets/controls",
      "model_module_version": "2.0.0",
      "model_name": "HTMLStyleModel",
      "state": {
       "description_width": "",
       "font_size": null,
       "text_color": null
      }
     },
     "70b4a1e98f7e4781804d024b6e9e96d4": {
      "model_module": "@jupyter-widgets/controls",
      "model_module_version": "2.0.0",
      "model_name": "HBoxModel",
      "state": {
       "children": [
        "IPY_MODEL_057c7634cf30410293fed6caa8f184a3",
        "IPY_MODEL_0cbe6ea0c6df4fc881fe447aea336a6a",
        "IPY_MODEL_409a87a56b7a4abf8784556d77c42f2c"
       ],
       "layout": "IPY_MODEL_7b54a16ca65747d88fc2ee281b8dbb85"
      }
     },
     "70c726f1c6fa4eccbc00d0302f9ab7f3": {
      "model_module": "@jupyter-widgets/controls",
      "model_module_version": "2.0.0",
      "model_name": "HTMLStyleModel",
      "state": {
       "description_width": "",
       "font_size": null,
       "text_color": null
      }
     },
     "70e3c1236de54c1dbd958226421dec70": {
      "model_module": "@jupyter-widgets/base",
      "model_module_version": "2.0.0",
      "model_name": "LayoutModel",
      "state": {}
     },
     "711532557bd04abbbfe10b15754617b4": {
      "model_module": "@jupyter-widgets/controls",
      "model_module_version": "2.0.0",
      "model_name": "HTMLStyleModel",
      "state": {
       "description_width": "",
       "font_size": null,
       "text_color": null
      }
     },
     "711c78c133a54e9690ad0cae328cef9d": {
      "model_module": "@jupyter-widgets/controls",
      "model_module_version": "2.0.0",
      "model_name": "HTMLModel",
      "state": {
       "layout": "IPY_MODEL_d0da05aa3aa84bd5be6d4e4eeb6f546c",
       "style": "IPY_MODEL_9b0a82914aa94f8e9e880deb4b894739",
       "value": "Testing DataLoader 0: 100%"
      }
     },
     "71335977f9074d8dbd4239364ef1106e": {
      "model_module": "@jupyter-widgets/controls",
      "model_module_version": "2.0.0",
      "model_name": "FloatProgressModel",
      "state": {
       "bar_style": "success",
       "layout": "IPY_MODEL_9d7063f9d591435dba2cdcc2027aa569",
       "max": 1,
       "style": "IPY_MODEL_5237cc86c9ff4c3a83cb05ba4f52aa74",
       "value": 1
      }
     },
     "714ac24574234257a22059c5dd6e2414": {
      "model_module": "@jupyter-widgets/base",
      "model_module_version": "2.0.0",
      "model_name": "LayoutModel",
      "state": {}
     },
     "7152c322771249dda7a5106d68967e0d": {
      "model_module": "@jupyter-widgets/controls",
      "model_module_version": "2.0.0",
      "model_name": "FloatProgressModel",
      "state": {
       "bar_style": "danger",
       "layout": "IPY_MODEL_5fa761ac24d14c15a60dcd169286d611",
       "max": 10,
       "style": "IPY_MODEL_063a0f44e7fd4528b132bdbc08c0e0b2"
      }
     },
     "71533dd5113b485b885a49ec07c235e7": {
      "model_module": "@jupyter-widgets/base",
      "model_module_version": "2.0.0",
      "model_name": "LayoutModel",
      "state": {}
     },
     "715cccc90a9d4b849ef319d010a3c28f": {
      "model_module": "@jupyter-widgets/controls",
      "model_module_version": "2.0.0",
      "model_name": "HBoxModel",
      "state": {
       "children": [
        "IPY_MODEL_d7868f73823a44fcb1a8bb0512d8191e",
        "IPY_MODEL_15767ffd5a644ef897316da787a7fae3",
        "IPY_MODEL_28e9dfcbd3b84ce580079995b93b4a8d"
       ],
       "layout": "IPY_MODEL_fdbd36f472d44219800a3b1a9df377b4"
      }
     },
     "71601595b22049d18d73aa7dedfb4281": {
      "model_module": "@jupyter-widgets/base",
      "model_module_version": "2.0.0",
      "model_name": "LayoutModel",
      "state": {}
     },
     "71606fb044844edabdcd1c95bc0de31e": {
      "model_module": "@jupyter-widgets/base",
      "model_module_version": "2.0.0",
      "model_name": "LayoutModel",
      "state": {}
     },
     "71834e46a46f41a1ada576a36fac2ba9": {
      "model_module": "@jupyter-widgets/controls",
      "model_module_version": "2.0.0",
      "model_name": "HTMLStyleModel",
      "state": {
       "description_width": "",
       "font_size": null,
       "text_color": null
      }
     },
     "71863c124d624b6d92f69e8922cf88a4": {
      "model_module": "@jupyter-widgets/controls",
      "model_module_version": "2.0.0",
      "model_name": "HTMLModel",
      "state": {
       "layout": "IPY_MODEL_108a22fe3a8441aea8d6f1401e3f5b6e",
       "style": "IPY_MODEL_483c4766dd46429a97772f268ee46e1c",
       "value": "Testing DataLoader 0: 100%"
      }
     },
     "7187ce0741284f1680c661bfcbd1bf22": {
      "model_module": "@jupyter-widgets/controls",
      "model_module_version": "2.0.0",
      "model_name": "HTMLModel",
      "state": {
       "layout": "IPY_MODEL_749ae92c62424d9d90153343813094bc",
       "style": "IPY_MODEL_dbb515ecaffa4935b37763c9e6fec694",
       "value": " 0/10 [00:00&lt;?, ?it/s]"
      }
     },
     "71d26e5084d049d8b52715d3a4866356": {
      "model_module": "@jupyter-widgets/controls",
      "model_module_version": "2.0.0",
      "model_name": "HTMLStyleModel",
      "state": {
       "description_width": "",
       "font_size": null,
       "text_color": null
      }
     },
     "71d45a43b534437097add171450f165b": {
      "model_module": "@jupyter-widgets/controls",
      "model_module_version": "2.0.0",
      "model_name": "HTMLStyleModel",
      "state": {
       "description_width": "",
       "font_size": null,
       "text_color": null
      }
     },
     "71e42e259ef244c3b094726a0d095a87": {
      "model_module": "@jupyter-widgets/controls",
      "model_module_version": "2.0.0",
      "model_name": "HTMLStyleModel",
      "state": {
       "description_width": "",
       "font_size": null,
       "text_color": null
      }
     },
     "71f5a31a29df4e598de9050e8638d6d2": {
      "model_module": "@jupyter-widgets/controls",
      "model_module_version": "2.0.0",
      "model_name": "HTMLModel",
      "state": {
       "layout": "IPY_MODEL_ad9581db29d1403cb07ac2aea8bb48f8",
       "style": "IPY_MODEL_935d4a5db57a4e01b0b889a75909ce2f",
       "value": " 1/1 [00:00&lt;00:00, 91.28it/s]"
      }
     },
     "7207c907426d4f53b329f99728b61c5d": {
      "model_module": "@jupyter-widgets/controls",
      "model_module_version": "2.0.0",
      "model_name": "FloatProgressModel",
      "state": {
       "bar_style": "danger",
       "layout": "IPY_MODEL_3cf995f9ebbb4682ba0be82e7b8ee83d",
       "max": 10,
       "style": "IPY_MODEL_a99ed47071f940fb91941e5417e87e62"
      }
     },
     "720bcbb368d14e55887b3a4a8c07f282": {
      "model_module": "@jupyter-widgets/controls",
      "model_module_version": "2.0.0",
      "model_name": "HTMLStyleModel",
      "state": {
       "description_width": "",
       "font_size": null,
       "text_color": null
      }
     },
     "72103bb8927e4c929f478acd65dc6980": {
      "model_module": "@jupyter-widgets/controls",
      "model_module_version": "2.0.0",
      "model_name": "FloatProgressModel",
      "state": {
       "bar_style": "danger",
       "layout": "IPY_MODEL_3b19e2f496c84cd0ac43086968ebebbd",
       "max": 10,
       "style": "IPY_MODEL_cdfe4a2d3bc04ba5b78991dcafb73fbc"
      }
     },
     "7212eb2a695446acb05ec04eb26d55b9": {
      "model_module": "@jupyter-widgets/base",
      "model_module_version": "2.0.0",
      "model_name": "LayoutModel",
      "state": {}
     },
     "7232c14eed3046529c8fd29e34f7f4be": {
      "model_module": "@jupyter-widgets/base",
      "model_module_version": "2.0.0",
      "model_name": "LayoutModel",
      "state": {}
     },
     "7253d83d1cb141b9ab72f8fd39a327fa": {
      "model_module": "@jupyter-widgets/controls",
      "model_module_version": "2.0.0",
      "model_name": "HTMLStyleModel",
      "state": {
       "description_width": "",
       "font_size": null,
       "text_color": null
      }
     },
     "7266caef6bdc4107bae5f6b8850ff52b": {
      "model_module": "@jupyter-widgets/controls",
      "model_module_version": "2.0.0",
      "model_name": "ProgressStyleModel",
      "state": {
       "description_width": ""
      }
     },
     "72b623052c2549c3823d8b884efc011a": {
      "model_module": "@jupyter-widgets/controls",
      "model_module_version": "2.0.0",
      "model_name": "HTMLStyleModel",
      "state": {
       "description_width": "",
       "font_size": null,
       "text_color": null
      }
     },
     "72d46b4be7cc493bbb97fc54fe7c61e8": {
      "model_module": "@jupyter-widgets/controls",
      "model_module_version": "2.0.0",
      "model_name": "HTMLStyleModel",
      "state": {
       "description_width": "",
       "font_size": null,
       "text_color": null
      }
     },
     "72eb1821c9ee498fb2bbe71acf59ff9d": {
      "model_module": "@jupyter-widgets/controls",
      "model_module_version": "2.0.0",
      "model_name": "FloatProgressModel",
      "state": {
       "bar_style": "success",
       "layout": "IPY_MODEL_277ab22eeec54ff9abf90efc6bdddfb1",
       "max": 1,
       "style": "IPY_MODEL_6a3922c91a684b13908907f17560e0af",
       "value": 1
      }
     },
     "72ef3f22dbaa441288dd3cb6379f2c49": {
      "model_module": "@jupyter-widgets/controls",
      "model_module_version": "2.0.0",
      "model_name": "HTMLStyleModel",
      "state": {
       "description_width": "",
       "font_size": null,
       "text_color": null
      }
     },
     "72f832a6ed3b4e9bbf939c7f75d820ba": {
      "model_module": "@jupyter-widgets/controls",
      "model_module_version": "2.0.0",
      "model_name": "HTMLModel",
      "state": {
       "layout": "IPY_MODEL_da457384fd8d41cc97d825d617d7e3c0",
       "style": "IPY_MODEL_c31f811a8daa4b0fb2a86c29347df4ae",
       "value": " 1/1 [00:00&lt;00:00, 249.97it/s]"
      }
     },
     "730f765d227f4fb9aef8ab76a45cab21": {
      "model_module": "@jupyter-widgets/base",
      "model_module_version": "2.0.0",
      "model_name": "LayoutModel",
      "state": {
       "flex": "2"
      }
     },
     "7323bdd85d1a41c388f1519d215d630b": {
      "model_module": "@jupyter-widgets/base",
      "model_module_version": "2.0.0",
      "model_name": "LayoutModel",
      "state": {
       "flex": "2"
      }
     },
     "73440a9427364eae94ca516360e54ba0": {
      "model_module": "@jupyter-widgets/controls",
      "model_module_version": "2.0.0",
      "model_name": "ProgressStyleModel",
      "state": {
       "description_width": ""
      }
     },
     "73607deca04146b1a52d61b26676c7b9": {
      "model_module": "@jupyter-widgets/controls",
      "model_module_version": "2.0.0",
      "model_name": "HTMLModel",
      "state": {
       "layout": "IPY_MODEL_e093442d6a5c4ee2ad5e11724c7f5536",
       "style": "IPY_MODEL_f1ef0f893a9d4d7cae6e6287c8845413",
       "value": " 1/80 [00:00&lt;00:08,  9.66it/s]"
      }
     },
     "738d25f385f94d358a99f917a277371e": {
      "model_module": "@jupyter-widgets/controls",
      "model_module_version": "2.0.0",
      "model_name": "ProgressStyleModel",
      "state": {
       "description_width": ""
      }
     },
     "7394622d675446ffa36a64dbf12b4e5f": {
      "model_module": "@jupyter-widgets/base",
      "model_module_version": "2.0.0",
      "model_name": "LayoutModel",
      "state": {
       "flex": "2"
      }
     },
     "73b94a3adf0e4ad986fdcae4ed759356": {
      "model_module": "@jupyter-widgets/controls",
      "model_module_version": "2.0.0",
      "model_name": "HTMLStyleModel",
      "state": {
       "description_width": "",
       "font_size": null,
       "text_color": null
      }
     },
     "73c5f540459245899243d5418c4e15aa": {
      "model_module": "@jupyter-widgets/base",
      "model_module_version": "2.0.0",
      "model_name": "LayoutModel",
      "state": {
       "display": "inline-flex",
       "flex_flow": "row wrap",
       "width": "100%"
      }
     },
     "73cacc096c2540c4ab221bc9549e710f": {
      "model_module": "@jupyter-widgets/controls",
      "model_module_version": "2.0.0",
      "model_name": "HTMLStyleModel",
      "state": {
       "description_width": "",
       "font_size": null,
       "text_color": null
      }
     },
     "73e50109e7364add8896f9cb96bc3029": {
      "model_module": "@jupyter-widgets/controls",
      "model_module_version": "2.0.0",
      "model_name": "HTMLModel",
      "state": {
       "layout": "IPY_MODEL_20e9d50493664ae1b24c79c28695a2b3",
       "style": "IPY_MODEL_0b603464d6b645a2ba0f57e6be413c3d",
       "value": " 33/80 [00:01&lt;00:02, 18.93it/s, loss=0.0926, v_num=17, MAE=4.390, RMSE=5.550, Loss=0.0982, RegLoss=0.000]"
      }
     },
     "73ff5e4be1254ed39cb83a41e2da054f": {
      "model_module": "@jupyter-widgets/base",
      "model_module_version": "2.0.0",
      "model_name": "LayoutModel",
      "state": {}
     },
     "74554cf1a6da4059b6be8d2be341caf5": {
      "model_module": "@jupyter-widgets/controls",
      "model_module_version": "2.0.0",
      "model_name": "HTMLModel",
      "state": {
       "layout": "IPY_MODEL_7ce29f0780cc4d5c9b77df2ba1e96399",
       "style": "IPY_MODEL_4d83cbf6aafe4a72a8c2e449df32f941",
       "value": "Validation DataLoader 0: 100%"
      }
     },
     "7461050b4eba43498a9a873e4be5d06d": {
      "model_module": "@jupyter-widgets/controls",
      "model_module_version": "2.0.0",
      "model_name": "HTMLStyleModel",
      "state": {
       "description_width": "",
       "font_size": null,
       "text_color": null
      }
     },
     "746a645dba8b4864b7de35db641013a4": {
      "model_module": "@jupyter-widgets/controls",
      "model_module_version": "2.0.0",
      "model_name": "ProgressStyleModel",
      "state": {
       "description_width": ""
      }
     },
     "7495db79c30a4643ac0d430dc02854be": {
      "model_module": "@jupyter-widgets/controls",
      "model_module_version": "2.0.0",
      "model_name": "HTMLModel",
      "state": {
       "layout": "IPY_MODEL_000a17cd3f2f476a81d632c76a6d92bb",
       "style": "IPY_MODEL_437a53a56b854c939c766546b1b0f81c",
       "value": "Epoch 4:  80%"
      }
     },
     "749ae92c62424d9d90153343813094bc": {
      "model_module": "@jupyter-widgets/base",
      "model_module_version": "2.0.0",
      "model_name": "LayoutModel",
      "state": {}
     },
     "74c000570c8f4745b9b8e34c3e35d75a": {
      "model_module": "@jupyter-widgets/base",
      "model_module_version": "2.0.0",
      "model_name": "LayoutModel",
      "state": {}
     },
     "74ea1a71dbb0463d9874c9b9e86fe502": {
      "model_module": "@jupyter-widgets/controls",
      "model_module_version": "2.0.0",
      "model_name": "HTMLModel",
      "state": {
       "layout": "IPY_MODEL_be3618f84e004077ac41a1dc7f73f474",
       "style": "IPY_MODEL_011d3147790546148bf955ef2f03a0d0",
       "value": "Epoch 53:  66%"
      }
     },
     "74ecb636da644dae8b5cd6d4133fedc3": {
      "model_module": "@jupyter-widgets/base",
      "model_module_version": "2.0.0",
      "model_name": "LayoutModel",
      "state": {}
     },
     "75632a59fbe54d5cab93a9c5175a2996": {
      "model_module": "@jupyter-widgets/controls",
      "model_module_version": "2.0.0",
      "model_name": "HTMLStyleModel",
      "state": {
       "description_width": "",
       "font_size": null,
       "text_color": null
      }
     },
     "75a3188ef7a643b687c5ca792586a203": {
      "model_module": "@jupyter-widgets/base",
      "model_module_version": "2.0.0",
      "model_name": "LayoutModel",
      "state": {
       "flex": "2"
      }
     },
     "75be0ac0977045e2b92ca40889e40984": {
      "model_module": "@jupyter-widgets/controls",
      "model_module_version": "2.0.0",
      "model_name": "HTMLModel",
      "state": {
       "layout": "IPY_MODEL_38b161a1e3ae47b3904f9269621dd96d",
       "style": "IPY_MODEL_c881f06991744b749ba0c6d9e6d90070",
       "value": "Validation DataLoader 0: 100%"
      }
     },
     "75bf0e93392946f79462b30cd424f276": {
      "model_module": "@jupyter-widgets/controls",
      "model_module_version": "2.0.0",
      "model_name": "FloatProgressModel",
      "state": {
       "bar_style": "success",
       "layout": "IPY_MODEL_196fbbffdcb34a949ea48582ebb60157",
       "max": 80,
       "style": "IPY_MODEL_6c220498480e4dfea0e2f0ee0fec30d3",
       "value": 80
      }
     },
     "75c3dcffbee94cde96a5c6feadb487bb": {
      "model_module": "@jupyter-widgets/base",
      "model_module_version": "2.0.0",
      "model_name": "LayoutModel",
      "state": {}
     },
     "75df0ab1fe924f21b77aaafb68af332d": {
      "model_module": "@jupyter-widgets/controls",
      "model_module_version": "2.0.0",
      "model_name": "HBoxModel",
      "state": {
       "children": [
        "IPY_MODEL_df3ff12fa0c748a5bf117f59d6ae13f6",
        "IPY_MODEL_7f0b32a46ebd4cb185e8419e979fc717",
        "IPY_MODEL_2c6c1b37e0f14103960ec8ad034a977e"
       ],
       "layout": "IPY_MODEL_3bc407401ebf46138657cd1962d78b87"
      }
     },
     "75f313b39f5f4d4c9e2cedecd712f449": {
      "model_module": "@jupyter-widgets/controls",
      "model_module_version": "2.0.0",
      "model_name": "ProgressStyleModel",
      "state": {
       "description_width": ""
      }
     },
     "75fa7ab77eb74c3abebd525162ec2f71": {
      "model_module": "@jupyter-widgets/controls",
      "model_module_version": "2.0.0",
      "model_name": "HBoxModel",
      "state": {
       "children": [
        "IPY_MODEL_d48044d72320423fa2eb8c864a3b0cdb",
        "IPY_MODEL_51cbb734d98e468ca37d622fbd1a815f",
        "IPY_MODEL_5f97449194d74270b7b8fa9373c8577e"
       ],
       "layout": "IPY_MODEL_dff007aacf0943ca805b7c1654b50574"
      }
     },
     "7640a3f7645b4bcba10532d07e571602": {
      "model_module": "@jupyter-widgets/controls",
      "model_module_version": "2.0.0",
      "model_name": "ProgressStyleModel",
      "state": {
       "description_width": ""
      }
     },
     "765b9045365442c28868778fe57a5a49": {
      "model_module": "@jupyter-widgets/controls",
      "model_module_version": "2.0.0",
      "model_name": "ProgressStyleModel",
      "state": {
       "description_width": ""
      }
     },
     "7660456ff6904e7bbf9e5ab3bbce90c4": {
      "model_module": "@jupyter-widgets/controls",
      "model_module_version": "2.0.0",
      "model_name": "HTMLModel",
      "state": {
       "layout": "IPY_MODEL_cd3a10674b2e4f698b903dcf70884b2d",
       "style": "IPY_MODEL_15b5562aa53349aaa2cda883de5eacfe",
       "value": " 1/1 [00:00&lt;00:00, 247.64it/s]"
      }
     },
     "768615ddcd814bcea1c300686141e75d": {
      "model_module": "@jupyter-widgets/controls",
      "model_module_version": "2.0.0",
      "model_name": "FloatProgressModel",
      "state": {
       "bar_style": "danger",
       "layout": "IPY_MODEL_8bc6817154d04a468cdc3040b77a4a3c",
       "max": 80,
       "style": "IPY_MODEL_daf84713fdca4b45b3ec4aca83edd58f",
       "value": 1
      }
     },
     "76ab6f59237747a99898eca5407e3ecb": {
      "model_module": "@jupyter-widgets/controls",
      "model_module_version": "2.0.0",
      "model_name": "HTMLStyleModel",
      "state": {
       "description_width": "",
       "font_size": null,
       "text_color": null
      }
     },
     "76d1b74c093a4d38bc9072a2a27688bc": {
      "model_module": "@jupyter-widgets/base",
      "model_module_version": "2.0.0",
      "model_name": "LayoutModel",
      "state": {
       "flex": "2"
      }
     },
     "76f6c2f0496d41178e2a8e2b26d06802": {
      "model_module": "@jupyter-widgets/controls",
      "model_module_version": "2.0.0",
      "model_name": "HTMLModel",
      "state": {
       "layout": "IPY_MODEL_57d6f56034414fc8aef0413e223d3791",
       "style": "IPY_MODEL_5fbc2e8068334a77afa057047c375dac",
       "value": "Testing DataLoader 0: 100%"
      }
     },
     "76fb30bbb40f4ffdbeccdb4dad35fc4d": {
      "model_module": "@jupyter-widgets/controls",
      "model_module_version": "2.0.0",
      "model_name": "HTMLModel",
      "state": {
       "layout": "IPY_MODEL_46705d450ddd4e41874b6e587eed998e",
       "style": "IPY_MODEL_338e6c7f55b04e8882e791dde1b2c473",
       "value": " 1/1 [00:00&lt;00:00, 237.79it/s]"
      }
     },
     "7713a66e205c458dbc017d83f6e02d28": {
      "model_module": "@jupyter-widgets/controls",
      "model_module_version": "2.0.0",
      "model_name": "HTMLStyleModel",
      "state": {
       "description_width": "",
       "font_size": null,
       "text_color": null
      }
     },
     "7721554b3de2453bb750c1f0139ca13a": {
      "model_module": "@jupyter-widgets/base",
      "model_module_version": "2.0.0",
      "model_name": "LayoutModel",
      "state": {}
     },
     "776cb026353744d484ece2ef07fe09a2": {
      "model_module": "@jupyter-widgets/base",
      "model_module_version": "2.0.0",
      "model_name": "LayoutModel",
      "state": {}
     },
     "77b6cb1ea64c4c8e88226cb81c47020d": {
      "model_module": "@jupyter-widgets/controls",
      "model_module_version": "2.0.0",
      "model_name": "HBoxModel",
      "state": {
       "children": [
        "IPY_MODEL_7041652920f94fb7958e91ba203ab9e3",
        "IPY_MODEL_db26505f19104dd2b9f1da3b76b6bb71",
        "IPY_MODEL_ef34d76913904566b2a70671ad1e2f1c"
       ],
       "layout": "IPY_MODEL_e626d46f4f734c0bbf77f55f5e72fe3f"
      }
     },
     "77d8634905e6422581f03c512af153c2": {
      "model_module": "@jupyter-widgets/controls",
      "model_module_version": "2.0.0",
      "model_name": "HBoxModel",
      "state": {
       "children": [
        "IPY_MODEL_9ced10d770ff420f986d19834a4951d0",
        "IPY_MODEL_afa1285761bf411cbd65236c6f2a3f43",
        "IPY_MODEL_a4357489c0cd4e588379bf8c962391dc"
       ],
       "layout": "IPY_MODEL_301ac5e4efd742538dc391a7cddba5ff"
      }
     },
     "77dbd3aeec8548b2a008ec4816569d72": {
      "model_module": "@jupyter-widgets/controls",
      "model_module_version": "2.0.0",
      "model_name": "HBoxModel",
      "state": {
       "children": [
        "IPY_MODEL_8762234b01164742a35425a310f29ebf",
        "IPY_MODEL_9fe5bbe5771545a7895ceba0ad944932",
        "IPY_MODEL_cc41b352381940cc844740c7984358a2"
       ],
       "layout": "IPY_MODEL_9e5b2d3ff0684917b65aa30d6a13e420"
      }
     },
     "77eea94ae670447fa0158be5bf77357a": {
      "model_module": "@jupyter-widgets/base",
      "model_module_version": "2.0.0",
      "model_name": "LayoutModel",
      "state": {
       "display": "inline-flex",
       "flex_flow": "row wrap",
       "width": "100%"
      }
     },
     "78224d570c7a490ab66c1e0a012328b0": {
      "model_module": "@jupyter-widgets/base",
      "model_module_version": "2.0.0",
      "model_name": "LayoutModel",
      "state": {}
     },
     "78450d60aef94cb3a8db13137678ec43": {
      "model_module": "@jupyter-widgets/base",
      "model_module_version": "2.0.0",
      "model_name": "LayoutModel",
      "state": {
       "display": "inline-flex",
       "flex_flow": "row wrap",
       "width": "100%"
      }
     },
     "787153b91b7d4e18a7b00033a84141cd": {
      "model_module": "@jupyter-widgets/controls",
      "model_module_version": "2.0.0",
      "model_name": "HTMLModel",
      "state": {
       "layout": "IPY_MODEL_d8a73da620ac4e3d9f6809ff3d39695f",
       "style": "IPY_MODEL_b0e77cb0bd244b398e6edd9da6fa53a1",
       "value": "  0%"
      }
     },
     "788877fd400b4fb1817a0f5e39e71e6b": {
      "model_module": "@jupyter-widgets/controls",
      "model_module_version": "2.0.0",
      "model_name": "HTMLModel",
      "state": {
       "layout": "IPY_MODEL_822494f2e81e499eaa054b30df127b44",
       "style": "IPY_MODEL_a73cfd4e5b7846558a10d60cc339281d",
       "value": "Testing DataLoader 0: 100%"
      }
     },
     "7896a639a1e94b0eb7847738984fa383": {
      "model_module": "@jupyter-widgets/base",
      "model_module_version": "2.0.0",
      "model_name": "LayoutModel",
      "state": {
       "flex": "2"
      }
     },
     "78abc3fef0c44d0891cff7acf49073e9": {
      "model_module": "@jupyter-widgets/controls",
      "model_module_version": "2.0.0",
      "model_name": "FloatProgressModel",
      "state": {
       "bar_style": "danger",
       "layout": "IPY_MODEL_8f95e45c673140d49665e80b436c4666",
       "max": 80,
       "style": "IPY_MODEL_c20ce9d77fb444cc964df2a55f8772e2",
       "value": 19
      }
     },
     "78b5e13e4b904e82b7d7b237a30feb4c": {
      "model_module": "@jupyter-widgets/controls",
      "model_module_version": "2.0.0",
      "model_name": "FloatProgressModel",
      "state": {
       "bar_style": "success",
       "layout": "IPY_MODEL_ea01df793e60425a859e41549374f937",
       "max": 80,
       "style": "IPY_MODEL_4b1e1e12a6e34a2a80f07261414f4fab",
       "value": 80
      }
     },
     "78d93e012a0a4ebd9f0e5d5be46a1957": {
      "model_module": "@jupyter-widgets/controls",
      "model_module_version": "2.0.0",
      "model_name": "ProgressStyleModel",
      "state": {
       "description_width": ""
      }
     },
     "790a134246f5462c902139cdc2565c95": {
      "model_module": "@jupyter-widgets/controls",
      "model_module_version": "2.0.0",
      "model_name": "HTMLModel",
      "state": {
       "layout": "IPY_MODEL_04bf59cb204e406f97521fe93dac0fad",
       "style": "IPY_MODEL_13a88ef9448c42b3a86722cf80b8adae",
       "value": "Testing DataLoader 0: 100%"
      }
     },
     "790b0910f7f842dcb266be3a3985a94c": {
      "model_module": "@jupyter-widgets/controls",
      "model_module_version": "2.0.0",
      "model_name": "ProgressStyleModel",
      "state": {
       "description_width": ""
      }
     },
     "791784dadf5c4181825ed9062da692e5": {
      "model_module": "@jupyter-widgets/base",
      "model_module_version": "2.0.0",
      "model_name": "LayoutModel",
      "state": {}
     },
     "7930f6efe27e43a39ee2ebee7214484d": {
      "model_module": "@jupyter-widgets/base",
      "model_module_version": "2.0.0",
      "model_name": "LayoutModel",
      "state": {
       "display": "inline-flex",
       "flex_flow": "row wrap",
       "width": "100%"
      }
     },
     "7938c3305bf64efca94b5cc17f26118b": {
      "model_module": "@jupyter-widgets/base",
      "model_module_version": "2.0.0",
      "model_name": "LayoutModel",
      "state": {}
     },
     "793fe73b463e4b978c5a3d77eb7d1b89": {
      "model_module": "@jupyter-widgets/controls",
      "model_module_version": "2.0.0",
      "model_name": "HBoxModel",
      "state": {
       "children": [
        "IPY_MODEL_8d1d38b0996147d191dd4e3ba96c2bf7",
        "IPY_MODEL_2e4aff5bb07544dca0d93e31bcf3ce6c",
        "IPY_MODEL_fe3ceed28f9a447fa4bbb61a1982bdce"
       ],
       "layout": "IPY_MODEL_a53a6a88fde74955829c597726c462eb"
      }
     },
     "795b4c442e394ad9b1169017bb6d08a3": {
      "model_module": "@jupyter-widgets/controls",
      "model_module_version": "2.0.0",
      "model_name": "ProgressStyleModel",
      "state": {
       "description_width": ""
      }
     },
     "79709935e6654cec84a52e6e0b240341": {
      "model_module": "@jupyter-widgets/controls",
      "model_module_version": "2.0.0",
      "model_name": "HBoxModel",
      "state": {
       "children": [
        "IPY_MODEL_6deabd3b483c4b0ca8b4b076adb6a186",
        "IPY_MODEL_545a47491cd4430599eb57ac6c7e7440",
        "IPY_MODEL_26812b83412f4fd6ae2e11150bfffe61"
       ],
       "layout": "IPY_MODEL_9932b77bc63e4847a7faede2dda1a612"
      }
     },
     "79efd4ded37a4b6482900ea0a04f730b": {
      "model_module": "@jupyter-widgets/controls",
      "model_module_version": "2.0.0",
      "model_name": "HTMLModel",
      "state": {
       "layout": "IPY_MODEL_3abce16aa0b746429a0af5fe4698116a",
       "style": "IPY_MODEL_f49353c4475e46fbb16329188005143d",
       "value": "Testing DataLoader 0: 100%"
      }
     },
     "79f39a65fbcb476ebace75fb49585311": {
      "model_module": "@jupyter-widgets/controls",
      "model_module_version": "2.0.0",
      "model_name": "HBoxModel",
      "state": {
       "children": [
        "IPY_MODEL_161b6cb863d5433aaa4e31e64be77471",
        "IPY_MODEL_4ebfa4710ad8498e9985fc65cf064e96",
        "IPY_MODEL_091b1f9613b1420dab33cd990527d3dd"
       ],
       "layout": "IPY_MODEL_2ab4b7ecbb69470eafbe48c3d9f21e52"
      }
     },
     "79f56ee01e614be9aad3ef947216d11e": {
      "model_module": "@jupyter-widgets/base",
      "model_module_version": "2.0.0",
      "model_name": "LayoutModel",
      "state": {}
     },
     "7a44b58db3ab41f88a12736d15495904": {
      "model_module": "@jupyter-widgets/controls",
      "model_module_version": "2.0.0",
      "model_name": "HTMLStyleModel",
      "state": {
       "description_width": "",
       "font_size": null,
       "text_color": null
      }
     },
     "7a7f585545f8470180749059159feb05": {
      "model_module": "@jupyter-widgets/controls",
      "model_module_version": "2.0.0",
      "model_name": "FloatProgressModel",
      "state": {
       "bar_style": "danger",
       "layout": "IPY_MODEL_c08dc34b02ea4c4d9fb715a87853f366",
       "max": 10,
       "style": "IPY_MODEL_7b8e4b50caf44604957786fa7689c898"
      }
     },
     "7a95fcab436344518a4de7377b04ab76": {
      "model_module": "@jupyter-widgets/base",
      "model_module_version": "2.0.0",
      "model_name": "LayoutModel",
      "state": {
       "display": "inline-flex",
       "flex_flow": "row wrap",
       "width": "100%"
      }
     },
     "7adb33d042e647ab89bf350d354bba9b": {
      "model_module": "@jupyter-widgets/base",
      "model_module_version": "2.0.0",
      "model_name": "LayoutModel",
      "state": {}
     },
     "7aee721932a840a5af9e86e9c6975107": {
      "model_module": "@jupyter-widgets/base",
      "model_module_version": "2.0.0",
      "model_name": "LayoutModel",
      "state": {}
     },
     "7af615217ae043ffb6c3b87abcfe497e": {
      "model_module": "@jupyter-widgets/controls",
      "model_module_version": "2.0.0",
      "model_name": "HBoxModel",
      "state": {
       "children": [
        "IPY_MODEL_b142370ddc9f4b839830c597a55f57db",
        "IPY_MODEL_48ae878ab056412bb10c006014bd5b5a",
        "IPY_MODEL_2f09e27189e242a7895474f63853dffd"
       ],
       "layout": "IPY_MODEL_de5ed58f66504a52b04468bb837fd240"
      }
     },
     "7b02228cfbf94c6aae388cb5cfa91f4a": {
      "model_module": "@jupyter-widgets/controls",
      "model_module_version": "2.0.0",
      "model_name": "FloatProgressModel",
      "state": {
       "bar_style": "success",
       "layout": "IPY_MODEL_e5ec048e426346cfa7ddd6590428dd60",
       "max": 1,
       "style": "IPY_MODEL_194c848312244cf8923e0fd2b576911b",
       "value": 1
      }
     },
     "7b2b47386fc04c939dbd5ef20100f7a6": {
      "model_module": "@jupyter-widgets/controls",
      "model_module_version": "2.0.0",
      "model_name": "ProgressStyleModel",
      "state": {
       "description_width": ""
      }
     },
     "7b54a16ca65747d88fc2ee281b8dbb85": {
      "model_module": "@jupyter-widgets/base",
      "model_module_version": "2.0.0",
      "model_name": "LayoutModel",
      "state": {
       "display": "inline-flex",
       "flex_flow": "row wrap",
       "width": "100%"
      }
     },
     "7b783602643746c69605e508933b8c66": {
      "model_module": "@jupyter-widgets/controls",
      "model_module_version": "2.0.0",
      "model_name": "HTMLModel",
      "state": {
       "layout": "IPY_MODEL_6ac1a3e12ecb4ee9b694ffabc364fd4c",
       "style": "IPY_MODEL_3234da80f8074070b44b5b4ee4d134fb",
       "value": " 1/1 [00:00&lt;00:00, 114.38it/s]"
      }
     },
     "7b84670897f94a4a8cf5b5aee8df3843": {
      "model_module": "@jupyter-widgets/base",
      "model_module_version": "2.0.0",
      "model_name": "LayoutModel",
      "state": {
       "flex": "2"
      }
     },
     "7b8e4b50caf44604957786fa7689c898": {
      "model_module": "@jupyter-widgets/controls",
      "model_module_version": "2.0.0",
      "model_name": "ProgressStyleModel",
      "state": {
       "description_width": ""
      }
     },
     "7b936e2bf2b4441bab0f44dfa2a3b9b2": {
      "model_module": "@jupyter-widgets/controls",
      "model_module_version": "2.0.0",
      "model_name": "HTMLModel",
      "state": {
       "layout": "IPY_MODEL_7055ac8e137d4ef2aeb87d16126a92ba",
       "style": "IPY_MODEL_91758c0788fb469881b4dbd1ed561bd2",
       "value": "Epoch 80: 100%"
      }
     },
     "7ba47627ae284054b8eea08811c180f8": {
      "model_module": "@jupyter-widgets/base",
      "model_module_version": "2.0.0",
      "model_name": "LayoutModel",
      "state": {
       "display": "inline-flex",
       "flex_flow": "row wrap",
       "width": "100%"
      }
     },
     "7bd0ec2583b3449485c749e119b9f486": {
      "model_module": "@jupyter-widgets/controls",
      "model_module_version": "2.0.0",
      "model_name": "HTMLModel",
      "state": {
       "layout": "IPY_MODEL_b06103776ebd401f8e1645563df473d4",
       "style": "IPY_MODEL_237e8364d9614a8f9c016774ab4d0520",
       "value": " 1/1 [00:00&lt;00:00, 247.88it/s]"
      }
     },
     "7bef78ff5633498894f874f3a8ad5276": {
      "model_module": "@jupyter-widgets/controls",
      "model_module_version": "2.0.0",
      "model_name": "HTMLModel",
      "state": {
       "layout": "IPY_MODEL_4b45aa71aa0f4eca8b61ffd4799da869",
       "style": "IPY_MODEL_007c5d6db55e4e9e9954cf2a3c8c4561",
       "value": " 0/10 [00:29&lt;?, ?it/s]"
      }
     },
     "7bfdeb3797c940a2b3b9e092db0bb712": {
      "model_module": "@jupyter-widgets/controls",
      "model_module_version": "2.0.0",
      "model_name": "HTMLStyleModel",
      "state": {
       "description_width": "",
       "font_size": null,
       "text_color": null
      }
     },
     "7c3cd042c2294d66be2d6b3eb0e03b62": {
      "model_module": "@jupyter-widgets/controls",
      "model_module_version": "2.0.0",
      "model_name": "HTMLModel",
      "state": {
       "layout": "IPY_MODEL_272862981951488499b7e77c40d5881a",
       "style": "IPY_MODEL_71d26e5084d049d8b52715d3a4866356",
       "value": " 1/1 [00:00&lt;00:00, 92.35it/s]"
      }
     },
     "7c41e90130e5411ea363bebd5a1e0779": {
      "model_module": "@jupyter-widgets/controls",
      "model_module_version": "2.0.0",
      "model_name": "HTMLStyleModel",
      "state": {
       "description_width": "",
       "font_size": null,
       "text_color": null
      }
     },
     "7c44cd05a7fa4ac5ac92c151c0780e25": {
      "model_module": "@jupyter-widgets/controls",
      "model_module_version": "2.0.0",
      "model_name": "ProgressStyleModel",
      "state": {
       "description_width": ""
      }
     },
     "7c62d76b552a46b2b65a3b7f498ff2d8": {
      "model_module": "@jupyter-widgets/base",
      "model_module_version": "2.0.0",
      "model_name": "LayoutModel",
      "state": {}
     },
     "7c66ce31031d446c897771c30c885f39": {
      "model_module": "@jupyter-widgets/base",
      "model_module_version": "2.0.0",
      "model_name": "LayoutModel",
      "state": {
       "display": "inline-flex",
       "flex_flow": "row wrap",
       "width": "100%"
      }
     },
     "7c6782a701394e0d9e7bbbd3fd199575": {
      "model_module": "@jupyter-widgets/base",
      "model_module_version": "2.0.0",
      "model_name": "LayoutModel",
      "state": {}
     },
     "7c82fb3452e04cf3bd4d818caf626023": {
      "model_module": "@jupyter-widgets/base",
      "model_module_version": "2.0.0",
      "model_name": "LayoutModel",
      "state": {
       "display": "inline-flex",
       "flex_flow": "row wrap",
       "width": "100%"
      }
     },
     "7c835093e541498b886d4c28d0be6196": {
      "model_module": "@jupyter-widgets/controls",
      "model_module_version": "2.0.0",
      "model_name": "HTMLModel",
      "state": {
       "layout": "IPY_MODEL_98891c0affc44f9e882dd57a40d58443",
       "style": "IPY_MODEL_0f9bdde6cf474f1eb21eddceff95956f",
       "value": "Testing DataLoader 0: 100%"
      }
     },
     "7c9ed8ae6e97451cad223d61859ad627": {
      "model_module": "@jupyter-widgets/controls",
      "model_module_version": "2.0.0",
      "model_name": "HTMLStyleModel",
      "state": {
       "description_width": "",
       "font_size": null,
       "text_color": null
      }
     },
     "7ca05ba7e70f474ca99885f74b80f5c4": {
      "model_module": "@jupyter-widgets/base",
      "model_module_version": "2.0.0",
      "model_name": "LayoutModel",
      "state": {
       "display": "inline-flex",
       "flex_flow": "row wrap",
       "visibility": "hidden",
       "width": "100%"
      }
     },
     "7ca2d72419534473aecaf1f06d086ca9": {
      "model_module": "@jupyter-widgets/base",
      "model_module_version": "2.0.0",
      "model_name": "LayoutModel",
      "state": {
       "flex": "2"
      }
     },
     "7ca53108a23942f1a4d4de65c0119494": {
      "model_module": "@jupyter-widgets/controls",
      "model_module_version": "2.0.0",
      "model_name": "HTMLStyleModel",
      "state": {
       "description_width": "",
       "font_size": null,
       "text_color": null
      }
     },
     "7cb7b5d905a64e218f7d9173318d1821": {
      "model_module": "@jupyter-widgets/controls",
      "model_module_version": "2.0.0",
      "model_name": "HTMLModel",
      "state": {
       "layout": "IPY_MODEL_e9e8d41f4cf143dd9660cd88c9fb43bf",
       "style": "IPY_MODEL_e0de4a6d1afd4ab18264f511678042fb",
       "value": "  0%"
      }
     },
     "7cbd61c8df2f43d38ec75d7a2c367d85": {
      "model_module": "@jupyter-widgets/base",
      "model_module_version": "2.0.0",
      "model_name": "LayoutModel",
      "state": {}
     },
     "7cd288f205964e3aafecd2946d98a274": {
      "model_module": "@jupyter-widgets/controls",
      "model_module_version": "2.0.0",
      "model_name": "HTMLStyleModel",
      "state": {
       "description_width": "",
       "font_size": null,
       "text_color": null
      }
     },
     "7ce29f0780cc4d5c9b77df2ba1e96399": {
      "model_module": "@jupyter-widgets/base",
      "model_module_version": "2.0.0",
      "model_name": "LayoutModel",
      "state": {}
     },
     "7cfc29cbe3d64ac899edf1feb1ac1c68": {
      "model_module": "@jupyter-widgets/base",
      "model_module_version": "2.0.0",
      "model_name": "LayoutModel",
      "state": {}
     },
     "7d2ea721c34747e0a6e76b9dbb6c4239": {
      "model_module": "@jupyter-widgets/base",
      "model_module_version": "2.0.0",
      "model_name": "LayoutModel",
      "state": {}
     },
     "7d453f7676584a4faa65c1155ec9925f": {
      "model_module": "@jupyter-widgets/controls",
      "model_module_version": "2.0.0",
      "model_name": "FloatProgressModel",
      "state": {
       "bar_style": "success",
       "layout": "IPY_MODEL_0c9d2ab71d734577ba96c8f7e0ea61e7",
       "max": 1,
       "style": "IPY_MODEL_c44071b6c7c64561b689421448f78787",
       "value": 1
      }
     },
     "7d5add0d4dd74f0581ce8c2169afd3a1": {
      "model_module": "@jupyter-widgets/base",
      "model_module_version": "2.0.0",
      "model_name": "LayoutModel",
      "state": {
       "display": "inline-flex",
       "flex_flow": "row wrap",
       "width": "100%"
      }
     },
     "7d5e0a76ce7d4ff89ac926488d51d0fc": {
      "model_module": "@jupyter-widgets/controls",
      "model_module_version": "2.0.0",
      "model_name": "HBoxModel",
      "state": {
       "children": [
        "IPY_MODEL_476038c73460473b81306f0bfd208c9c",
        "IPY_MODEL_91e99e560bb941c6b4ae130abcd2f359",
        "IPY_MODEL_97797fa3a60b47e795cf421739395467"
       ],
       "layout": "IPY_MODEL_46ab916c75cb47aa9fcccd241d9635a1"
      }
     },
     "7d601e2276b8497ca733464310987087": {
      "model_module": "@jupyter-widgets/controls",
      "model_module_version": "2.0.0",
      "model_name": "HTMLStyleModel",
      "state": {
       "description_width": "",
       "font_size": null,
       "text_color": null
      }
     },
     "7d6e585506ee4992a7086ebbefab36dc": {
      "model_module": "@jupyter-widgets/controls",
      "model_module_version": "2.0.0",
      "model_name": "HBoxModel",
      "state": {
       "children": [
        "IPY_MODEL_74ea1a71dbb0463d9874c9b9e86fe502",
        "IPY_MODEL_832b726c39dc462b9a84c9ee0f2d7a0a",
        "IPY_MODEL_da43a07b9374489d803ab43c293afa84"
       ],
       "layout": "IPY_MODEL_5038eff8d2db42cab5544de5d1605221"
      }
     },
     "7dc727e8558349c1a13feb3eca711dcc": {
      "model_module": "@jupyter-widgets/base",
      "model_module_version": "2.0.0",
      "model_name": "LayoutModel",
      "state": {
       "flex": "2"
      }
     },
     "7de4283d202747aea289af62cc268f6d": {
      "model_module": "@jupyter-widgets/base",
      "model_module_version": "2.0.0",
      "model_name": "LayoutModel",
      "state": {
       "display": "inline-flex",
       "flex_flow": "row wrap",
       "width": "100%"
      }
     },
     "7e0bb88e5b064d02ab4eb735ce2ae4c8": {
      "model_module": "@jupyter-widgets/base",
      "model_module_version": "2.0.0",
      "model_name": "LayoutModel",
      "state": {
       "display": "inline-flex",
       "flex_flow": "row wrap",
       "width": "100%"
      }
     },
     "7e0cd2d022ba4baa99fc10f90e9cfadd": {
      "model_module": "@jupyter-widgets/controls",
      "model_module_version": "2.0.0",
      "model_name": "ProgressStyleModel",
      "state": {
       "description_width": ""
      }
     },
     "7e253192159145a8986aaa08a819d17d": {
      "model_module": "@jupyter-widgets/controls",
      "model_module_version": "2.0.0",
      "model_name": "HTMLModel",
      "state": {
       "layout": "IPY_MODEL_208c783e6ef742dc8e2a659b60b54a2f",
       "style": "IPY_MODEL_1024313c98194eb89e6b012afbda19cf",
       "value": "Testing DataLoader 0: 100%"
      }
     },
     "7e628651a00b414482a79ecf7d5b8454": {
      "model_module": "@jupyter-widgets/controls",
      "model_module_version": "2.0.0",
      "model_name": "HTMLModel",
      "state": {
       "layout": "IPY_MODEL_e7ee85b6d23c42e89022a9d77cbfaa1f",
       "style": "IPY_MODEL_95d1c216b22a484395b73a11411a5a38",
       "value": " 1/1 [00:00&lt;00:00, 127.15it/s]"
      }
     },
     "7ea21a90c62e4b5fa151b312282203a1": {
      "model_module": "@jupyter-widgets/controls",
      "model_module_version": "2.0.0",
      "model_name": "HBoxModel",
      "state": {
       "children": [
        "IPY_MODEL_24750f6635d848bcb143f2c99d111f50",
        "IPY_MODEL_e07f7ca3eed04c7197c21854a8e503dd",
        "IPY_MODEL_02001cf21e1d4a2394aa446439e5fd7c"
       ],
       "layout": "IPY_MODEL_556f7a66d43c4a64a26235af6c5f8b53"
      }
     },
     "7ebc7a06e5454f97831f42524d9eb3ee": {
      "model_module": "@jupyter-widgets/controls",
      "model_module_version": "2.0.0",
      "model_name": "HTMLStyleModel",
      "state": {
       "description_width": "",
       "font_size": null,
       "text_color": null
      }
     },
     "7ee53d48dfc841d39d6fb3c0fdfb2431": {
      "model_module": "@jupyter-widgets/controls",
      "model_module_version": "2.0.0",
      "model_name": "HTMLModel",
      "state": {
       "layout": "IPY_MODEL_aaf7d91d90c941b9b647672ef5a834cc",
       "style": "IPY_MODEL_fd9fe3e49763444888e984ea9d188e78",
       "value": "Validation DataLoader 0: 100%"
      }
     },
     "7ef6224cfcc54d2eaaf9d740af23ec2a": {
      "model_module": "@jupyter-widgets/controls",
      "model_module_version": "2.0.0",
      "model_name": "FloatProgressModel",
      "state": {
       "bar_style": "success",
       "layout": "IPY_MODEL_d4b88e7e6aff411fbdc3fa91eb7e2514",
       "max": 80,
       "style": "IPY_MODEL_96caee3eebb3469cb42e3fe24c45067f",
       "value": 80
      }
     },
     "7f0b32a46ebd4cb185e8419e979fc717": {
      "model_module": "@jupyter-widgets/controls",
      "model_module_version": "2.0.0",
      "model_name": "FloatProgressModel",
      "state": {
       "bar_style": "danger",
       "layout": "IPY_MODEL_b6a702f5170048c08c74b774724f7d85",
       "max": 10,
       "style": "IPY_MODEL_887fbf85fdc34dd6b9878b1e00c1a92a"
      }
     },
     "7f135a49066d4f59bc9e3c9c5ef4630c": {
      "model_module": "@jupyter-widgets/controls",
      "model_module_version": "2.0.0",
      "model_name": "HTMLModel",
      "state": {
       "layout": "IPY_MODEL_03fd6c7b2045428d8bf07cf356b42239",
       "style": "IPY_MODEL_8d83ac12c63e466aa8a57f6b1fedd133",
       "value": "  0%"
      }
     },
     "7f188b512298435e8598e53584887566": {
      "model_module": "@jupyter-widgets/controls",
      "model_module_version": "2.0.0",
      "model_name": "HTMLStyleModel",
      "state": {
       "description_width": "",
       "font_size": null,
       "text_color": null
      }
     },
     "7f25d856e913460f90fa88ccf850e015": {
      "model_module": "@jupyter-widgets/base",
      "model_module_version": "2.0.0",
      "model_name": "LayoutModel",
      "state": {}
     },
     "7f84432d858f4ec788fece8d31eee4b8": {
      "model_module": "@jupyter-widgets/base",
      "model_module_version": "2.0.0",
      "model_name": "LayoutModel",
      "state": {
       "display": "inline-flex",
       "flex_flow": "row wrap",
       "width": "100%"
      }
     },
     "7f848606c33a4378af2e15d8c8c90b0c": {
      "model_module": "@jupyter-widgets/controls",
      "model_module_version": "2.0.0",
      "model_name": "FloatProgressModel",
      "state": {
       "bar_style": "success",
       "layout": "IPY_MODEL_d918832d830744f196d854b96d1fb2f2",
       "max": 1,
       "style": "IPY_MODEL_58c3d00beb2b466292a4c04e3eda7a03",
       "value": 1
      }
     },
     "7f9466036f154b40a5cf8246b232768e": {
      "model_module": "@jupyter-widgets/controls",
      "model_module_version": "2.0.0",
      "model_name": "FloatProgressModel",
      "state": {
       "bar_style": "danger",
       "layout": "IPY_MODEL_fb793709d927456dac8fcd5e440a987e",
       "max": 10,
       "style": "IPY_MODEL_f1f63af7736a4154b49e9caac66c8282"
      }
     },
     "7fb44c8a86164d3bb14116d20f262750": {
      "model_module": "@jupyter-widgets/controls",
      "model_module_version": "2.0.0",
      "model_name": "HTMLStyleModel",
      "state": {
       "description_width": "",
       "font_size": null,
       "text_color": null
      }
     },
     "7fc98b8d6078408bbb38ef8823e7537f": {
      "model_module": "@jupyter-widgets/controls",
      "model_module_version": "2.0.0",
      "model_name": "HTMLModel",
      "state": {
       "layout": "IPY_MODEL_a5745b981ab740aaa1abc26656ed1220",
       "style": "IPY_MODEL_da820ec6aee449a9b4f17ca3b3c88938",
       "value": " 46/80 [03:18&lt;02:26,  4.31s/it, loss=9.68]"
      }
     },
     "7fd776a233b2498dbbd122f3a68be25c": {
      "model_module": "@jupyter-widgets/controls",
      "model_module_version": "2.0.0",
      "model_name": "HBoxModel",
      "state": {
       "children": [
        "IPY_MODEL_711c78c133a54e9690ad0cae328cef9d",
        "IPY_MODEL_98912cf4110c43538ca82ef7fbd68528",
        "IPY_MODEL_4a0cd29d463e43b3a6eb4ae36e1eca03"
       ],
       "layout": "IPY_MODEL_bcee20b2c43841aba7b1ef326d4ffb50"
      }
     },
     "802b205b7ac84935a8d54b240a5709bf": {
      "model_module": "@jupyter-widgets/controls",
      "model_module_version": "2.0.0",
      "model_name": "HTMLModel",
      "state": {
       "layout": "IPY_MODEL_0e6d9954a13a47fcb2fd0d000d1a3b08",
       "style": "IPY_MODEL_6991250b94514465b3cb7b6ce2ddc8ba",
       "value": " 1/1 [00:00&lt;00:00, 70.45it/s]"
      }
     },
     "802e12c666c146ba8394115b915a00ec": {
      "model_module": "@jupyter-widgets/controls",
      "model_module_version": "2.0.0",
      "model_name": "FloatProgressModel",
      "state": {
       "bar_style": "success",
       "layout": "IPY_MODEL_ea00aa1c4bb14ebca32c4153481490db",
       "max": 1,
       "style": "IPY_MODEL_cbe143b239884fb69ed639b98a61f646",
       "value": 1
      }
     },
     "8038ad524bb34b05adcc6b9c9154ac9a": {
      "model_module": "@jupyter-widgets/controls",
      "model_module_version": "2.0.0",
      "model_name": "HTMLModel",
      "state": {
       "layout": "IPY_MODEL_526ec9c9382e4413be20993d093dd79f",
       "style": "IPY_MODEL_8690958904504f5dbc870ce3432f7111",
       "value": "Epoch 80: 100%"
      }
     },
     "8041b7f657894a2f8d8487e127bfcc5a": {
      "model_module": "@jupyter-widgets/controls",
      "model_module_version": "2.0.0",
      "model_name": "FloatProgressModel",
      "state": {
       "bar_style": "success",
       "layout": "IPY_MODEL_7323bdd85d1a41c388f1519d215d630b",
       "max": 1,
       "style": "IPY_MODEL_4cab33b54ae84a7cbdde5d5cc9af2ee7",
       "value": 1
      }
     },
     "80a8d34948154d3a9557edf813e8cf73": {
      "model_module": "@jupyter-widgets/controls",
      "model_module_version": "2.0.0",
      "model_name": "HTMLModel",
      "state": {
       "layout": "IPY_MODEL_b14187bd370042ed9f4393730cc3db72",
       "style": "IPY_MODEL_4f589c5dce03463f87695f0ad68cf0d5",
       "value": "Epoch 80: 100%"
      }
     },
     "80d6abc35df444c19c73abc2be2f010f": {
      "model_module": "@jupyter-widgets/controls",
      "model_module_version": "2.0.0",
      "model_name": "HBoxModel",
      "state": {
       "children": [
        "IPY_MODEL_80a8d34948154d3a9557edf813e8cf73",
        "IPY_MODEL_1ccf3b40f18b4de68290a3d76f32b7aa",
        "IPY_MODEL_5397152ed4ba4acfa0e60ffe8752d7ea"
       ],
       "layout": "IPY_MODEL_4e53110a4f504675aeaed4a2d249d8c7"
      }
     },
     "80d8a4598b1846cdb6237c6724eaecfc": {
      "model_module": "@jupyter-widgets/base",
      "model_module_version": "2.0.0",
      "model_name": "LayoutModel",
      "state": {}
     },
     "80e72b12b2284df0843c5ea5d60fafe4": {
      "model_module": "@jupyter-widgets/controls",
      "model_module_version": "2.0.0",
      "model_name": "ProgressStyleModel",
      "state": {
       "description_width": ""
      }
     },
     "8135f4ad61354fd7ae5efbd879f8e744": {
      "model_module": "@jupyter-widgets/controls",
      "model_module_version": "2.0.0",
      "model_name": "HTMLModel",
      "state": {
       "layout": "IPY_MODEL_30b725ce7d114915a7f9fa57d984c091",
       "style": "IPY_MODEL_288d8205c7bc472eb2e7b85cac15f8ba",
       "value": "Testing DataLoader 0: 100%"
      }
     },
     "8161c3ad909a479bb2fe5ed5bb2481ac": {
      "model_module": "@jupyter-widgets/controls",
      "model_module_version": "2.0.0",
      "model_name": "HTMLModel",
      "state": {
       "layout": "IPY_MODEL_f98a9f8f778b4bc7aaa02bb5b9652134",
       "style": "IPY_MODEL_48fc43dc68e647fc8d364c2eb627ce33",
       "value": " 19/80 [00:36&lt;01:58,  1.94s/it, loss=0.0818, v_num=68, MAE=4.960, RMSE=6.340, Loss=0.0814, RegLoss=0.000]"
      }
     },
     "81662e0c5955454ebe586fbc9504f199": {
      "model_module": "@jupyter-widgets/base",
      "model_module_version": "2.0.0",
      "model_name": "LayoutModel",
      "state": {}
     },
     "81be869575744247b927c629cbc00de9": {
      "model_module": "@jupyter-widgets/base",
      "model_module_version": "2.0.0",
      "model_name": "LayoutModel",
      "state": {
       "flex": "2"
      }
     },
     "81dc413f61dd4a37b56d6b4ac2a15f97": {
      "model_module": "@jupyter-widgets/controls",
      "model_module_version": "2.0.0",
      "model_name": "HTMLStyleModel",
      "state": {
       "description_width": "",
       "font_size": null,
       "text_color": null
      }
     },
     "81e3598ff2b143db85ef5c2c90f688be": {
      "model_module": "@jupyter-widgets/base",
      "model_module_version": "2.0.0",
      "model_name": "LayoutModel",
      "state": {
       "display": "inline-flex",
       "flex_flow": "row wrap",
       "visibility": "hidden",
       "width": "100%"
      }
     },
     "81fed34052a241a08ae41b8647280b95": {
      "model_module": "@jupyter-widgets/base",
      "model_module_version": "2.0.0",
      "model_name": "LayoutModel",
      "state": {}
     },
     "822494f2e81e499eaa054b30df127b44": {
      "model_module": "@jupyter-widgets/base",
      "model_module_version": "2.0.0",
      "model_name": "LayoutModel",
      "state": {}
     },
     "8247f25ca5b64cd5acefc5fa1e84e5e0": {
      "model_module": "@jupyter-widgets/controls",
      "model_module_version": "2.0.0",
      "model_name": "HTMLStyleModel",
      "state": {
       "description_width": "",
       "font_size": null,
       "text_color": null
      }
     },
     "828516623a07475faff5563e04508756": {
      "model_module": "@jupyter-widgets/base",
      "model_module_version": "2.0.0",
      "model_name": "LayoutModel",
      "state": {
       "display": "inline-flex",
       "flex_flow": "row wrap",
       "width": "100%"
      }
     },
     "82a0dcf9eda14548a50b8642f7ed0533": {
      "model_module": "@jupyter-widgets/base",
      "model_module_version": "2.0.0",
      "model_name": "LayoutModel",
      "state": {}
     },
     "82b682c5565946a4b3aa0083746a943f": {
      "model_module": "@jupyter-widgets/controls",
      "model_module_version": "2.0.0",
      "model_name": "HTMLModel",
      "state": {
       "layout": "IPY_MODEL_d7b72a169d1e4855ade83814bf3c5e39",
       "style": "IPY_MODEL_ca1da69b569f49b48c7dba2bdcb6d97e",
       "value": "Epoch 5: 100%"
      }
     },
     "82bc1826327a4e09986012f96aea2294": {
      "model_module": "@jupyter-widgets/base",
      "model_module_version": "2.0.0",
      "model_name": "LayoutModel",
      "state": {
       "flex": "2"
      }
     },
     "82c2b13e50894b6294557335f38425fd": {
      "model_module": "@jupyter-widgets/base",
      "model_module_version": "2.0.0",
      "model_name": "LayoutModel",
      "state": {
       "display": "inline-flex",
       "flex_flow": "row wrap",
       "width": "100%"
      }
     },
     "82ef4abda3c245268567b02bd0267373": {
      "model_module": "@jupyter-widgets/base",
      "model_module_version": "2.0.0",
      "model_name": "LayoutModel",
      "state": {}
     },
     "82fb5c37277047558d3423ece15115ae": {
      "model_module": "@jupyter-widgets/controls",
      "model_module_version": "2.0.0",
      "model_name": "HBoxModel",
      "state": {
       "children": [
        "IPY_MODEL_a6bee94c693649a4bf709b9a89202baf",
        "IPY_MODEL_5e76dea4ee4f4607a8c4c780ef30389d",
        "IPY_MODEL_63f75f9ba93543f29451b6fa584b477f"
       ],
       "layout": "IPY_MODEL_aac4c2f35b2745fe9f050a370bcfdc36"
      }
     },
     "830019a8f70a492ebb64ab8e6675ecf3": {
      "model_module": "@jupyter-widgets/controls",
      "model_module_version": "2.0.0",
      "model_name": "HTMLModel",
      "state": {
       "layout": "IPY_MODEL_d62620b1d1b4495cae05475e1e5ad85e",
       "style": "IPY_MODEL_18bbef9ccaf0444e88484d7eb96d9e62",
       "value": "Epoch 53:  66%"
      }
     },
     "831145229fe44e5faf38598578321e32": {
      "model_module": "@jupyter-widgets/controls",
      "model_module_version": "2.0.0",
      "model_name": "HTMLStyleModel",
      "state": {
       "description_width": "",
       "font_size": null,
       "text_color": null
      }
     },
     "83147a6984e741b4b3bf9bd9491ac6ad": {
      "model_module": "@jupyter-widgets/controls",
      "model_module_version": "2.0.0",
      "model_name": "HTMLModel",
      "state": {
       "layout": "IPY_MODEL_7f25d856e913460f90fa88ccf850e015",
       "style": "IPY_MODEL_2999b6663ca74f31ab93b31e819c32c3",
       "value": " 5/5 [00:00&lt;00:00, 16.09it/s, loss=0.0949, v_num=76, MAE=3.540, RMSE=4.550, Loss=0.098, RegLoss=0.051]"
      }
     },
     "8318063fc50e4467a7a34ba141866aed": {
      "model_module": "@jupyter-widgets/base",
      "model_module_version": "2.0.0",
      "model_name": "LayoutModel",
      "state": {}
     },
     "832b726c39dc462b9a84c9ee0f2d7a0a": {
      "model_module": "@jupyter-widgets/controls",
      "model_module_version": "2.0.0",
      "model_name": "FloatProgressModel",
      "state": {
       "bar_style": "danger",
       "layout": "IPY_MODEL_426191b933fa404995aceebaf63e5ccd",
       "max": 80,
       "style": "IPY_MODEL_1b7beed1e67f47d1a961ede213be7059",
       "value": 53
      }
     },
     "834480a2d1184584a8df5dd8bb1a4127": {
      "model_module": "@jupyter-widgets/base",
      "model_module_version": "2.0.0",
      "model_name": "LayoutModel",
      "state": {
       "flex": "2"
      }
     },
     "834f78fbf3cd404aa6102d2d2f383ee7": {
      "model_module": "@jupyter-widgets/controls",
      "model_module_version": "2.0.0",
      "model_name": "ProgressStyleModel",
      "state": {
       "description_width": ""
      }
     },
     "8353cb0526ea480387ce0d461055402c": {
      "model_module": "@jupyter-widgets/controls",
      "model_module_version": "2.0.0",
      "model_name": "HTMLStyleModel",
      "state": {
       "description_width": "",
       "font_size": null,
       "text_color": null
      }
     },
     "835de0959cb0406f8d71f9ca7ebd7945": {
      "model_module": "@jupyter-widgets/controls",
      "model_module_version": "2.0.0",
      "model_name": "HTMLStyleModel",
      "state": {
       "description_width": "",
       "font_size": null,
       "text_color": null
      }
     },
     "837aae2776734b48936883845e652aca": {
      "model_module": "@jupyter-widgets/base",
      "model_module_version": "2.0.0",
      "model_name": "LayoutModel",
      "state": {
       "display": "inline-flex",
       "flex_flow": "row wrap",
       "width": "100%"
      }
     },
     "8395f7b4d503435bb79942c4407c3c73": {
      "model_module": "@jupyter-widgets/controls",
      "model_module_version": "2.0.0",
      "model_name": "ProgressStyleModel",
      "state": {
       "description_width": ""
      }
     },
     "83a2f943a53042329e8476f284c68ca1": {
      "model_module": "@jupyter-widgets/controls",
      "model_module_version": "2.0.0",
      "model_name": "HTMLStyleModel",
      "state": {
       "description_width": "",
       "font_size": null,
       "text_color": null
      }
     },
     "83bd5f492fb8414488d179272241c124": {
      "model_module": "@jupyter-widgets/controls",
      "model_module_version": "2.0.0",
      "model_name": "HTMLStyleModel",
      "state": {
       "description_width": "",
       "font_size": null,
       "text_color": null
      }
     },
     "83c8378d793941788e25624633d7976d": {
      "model_module": "@jupyter-widgets/base",
      "model_module_version": "2.0.0",
      "model_name": "LayoutModel",
      "state": {
       "flex": "2"
      }
     },
     "8400cdd85a7d4e659bef19a8a9f68361": {
      "model_module": "@jupyter-widgets/controls",
      "model_module_version": "2.0.0",
      "model_name": "HTMLModel",
      "state": {
       "layout": "IPY_MODEL_470b1dc13e06459888c823a44b371651",
       "style": "IPY_MODEL_7bfdeb3797c940a2b3b9e092db0bb712",
       "value": " 0/10 [00:00&lt;?, ?it/s]"
      }
     },
     "84102dbbf59b4c0c9810e49efd592288": {
      "model_module": "@jupyter-widgets/controls",
      "model_module_version": "2.0.0",
      "model_name": "HTMLModel",
      "state": {
       "layout": "IPY_MODEL_9f0944b099b14102ade9d7fe84478d1b",
       "style": "IPY_MODEL_2ad440ef47ed4400a0d14c9c569b6936",
       "value": " 1/1 [00:00&lt;00:00, 117.17it/s]"
      }
     },
     "841615b276dc4061b4421c01f82e3442": {
      "model_module": "@jupyter-widgets/base",
      "model_module_version": "2.0.0",
      "model_name": "LayoutModel",
      "state": {}
     },
     "8419bd8cef3047f58bfcb80073999054": {
      "model_module": "@jupyter-widgets/controls",
      "model_module_version": "2.0.0",
      "model_name": "HTMLModel",
      "state": {
       "layout": "IPY_MODEL_9207b9da9f7a479c98de70577b0bb621",
       "style": "IPY_MODEL_321b5de4808e4fd8bdae0575db30b779",
       "value": " 5/5 [00:00&lt;00:00, 16.68it/s, loss=0.121, v_num=86, MAE=3.720, RMSE=4.720, Loss=0.121, RegLoss=0.0741]"
      }
     },
     "8431bcddb9cd4b94928fc5561a90df3c": {
      "model_module": "@jupyter-widgets/controls",
      "model_module_version": "2.0.0",
      "model_name": "HTMLStyleModel",
      "state": {
       "description_width": "",
       "font_size": null,
       "text_color": null
      }
     },
     "846673c673c74a829e35a5eeee8330a7": {
      "model_module": "@jupyter-widgets/base",
      "model_module_version": "2.0.0",
      "model_name": "LayoutModel",
      "state": {
       "flex": "2"
      }
     },
     "8472ee121e29454786dabf4847f89738": {
      "model_module": "@jupyter-widgets/base",
      "model_module_version": "2.0.0",
      "model_name": "LayoutModel",
      "state": {
       "display": "inline-flex",
       "flex_flow": "row wrap",
       "width": "100%"
      }
     },
     "848eb2835e84499093b07afd0657e0c7": {
      "model_module": "@jupyter-widgets/controls",
      "model_module_version": "2.0.0",
      "model_name": "HTMLStyleModel",
      "state": {
       "description_width": "",
       "font_size": null,
       "text_color": null
      }
     },
     "8493ea5637144caa8486b288d75cba55": {
      "model_module": "@jupyter-widgets/controls",
      "model_module_version": "2.0.0",
      "model_name": "HTMLModel",
      "state": {
       "layout": "IPY_MODEL_fb04b35783624bd2a0a3d81609e1576b",
       "style": "IPY_MODEL_2c196bf32f2b48cc8020a518f21a4ac9",
       "value": "  0%"
      }
     },
     "84bd29127d194a08866ef1c2b329d85d": {
      "model_module": "@jupyter-widgets/controls",
      "model_module_version": "2.0.0",
      "model_name": "HTMLModel",
      "state": {
       "layout": "IPY_MODEL_fbeecb9e61424263b8d2e26e0f3530d7",
       "style": "IPY_MODEL_f44ac01102a845898680d22f2dc6c49f",
       "value": "Best trial: 0. Best value: 6.08672: 100%"
      }
     },
     "84c465375f7049d38f76b5e4ca31a204": {
      "model_module": "@jupyter-widgets/controls",
      "model_module_version": "2.0.0",
      "model_name": "HBoxModel",
      "state": {
       "children": [
        "IPY_MODEL_5fd620f2bd4e445ab685b9dbb0b87489",
        "IPY_MODEL_e00107c650b64de2bc15115830e00f1a",
        "IPY_MODEL_3914ec0def024199bef10b2af52edcb7"
       ],
       "layout": "IPY_MODEL_828516623a07475faff5563e04508756"
      }
     },
     "84cf4b71442740cdb5e936aec9e40bcb": {
      "model_module": "@jupyter-widgets/controls",
      "model_module_version": "2.0.0",
      "model_name": "HTMLModel",
      "state": {
       "layout": "IPY_MODEL_ae597d46be5d487b9da63bbb736238ca",
       "style": "IPY_MODEL_5137ee35c06c4c8d89bcf73dbce3dc68",
       "value": "  0%"
      }
     },
     "84dbfa57750247e5ad1586599eda5f3f": {
      "model_module": "@jupyter-widgets/base",
      "model_module_version": "2.0.0",
      "model_name": "LayoutModel",
      "state": {}
     },
     "84e8708e63df4aada51d81a7dfc626d4": {
      "model_module": "@jupyter-widgets/base",
      "model_module_version": "2.0.0",
      "model_name": "LayoutModel",
      "state": {}
     },
     "8513b5e9dbd044e384040fdf9f48f55f": {
      "model_module": "@jupyter-widgets/controls",
      "model_module_version": "2.0.0",
      "model_name": "ProgressStyleModel",
      "state": {
       "description_width": ""
      }
     },
     "8534a1e9a0f24539b7d517fb4831d63b": {
      "model_module": "@jupyter-widgets/base",
      "model_module_version": "2.0.0",
      "model_name": "LayoutModel",
      "state": {}
     },
     "8545a18f8c2347678281bea01e152bf7": {
      "model_module": "@jupyter-widgets/controls",
      "model_module_version": "2.0.0",
      "model_name": "HTMLStyleModel",
      "state": {
       "description_width": "",
       "font_size": null,
       "text_color": null
      }
     },
     "855370905bb04c3f8718c5db721eb668": {
      "model_module": "@jupyter-widgets/controls",
      "model_module_version": "2.0.0",
      "model_name": "HTMLModel",
      "state": {
       "layout": "IPY_MODEL_80d8a4598b1846cdb6237c6724eaecfc",
       "style": "IPY_MODEL_76ab6f59237747a99898eca5407e3ecb",
       "value": "Epoch 1:   1%"
      }
     },
     "855f3260e85d49c0bf1c16e250fd25bb": {
      "model_module": "@jupyter-widgets/base",
      "model_module_version": "2.0.0",
      "model_name": "LayoutModel",
      "state": {}
     },
     "858297fd2bac47ff9c9d01ff9bcdc314": {
      "model_module": "@jupyter-widgets/controls",
      "model_module_version": "2.0.0",
      "model_name": "HTMLModel",
      "state": {
       "layout": "IPY_MODEL_4b1c9de3c3944a6f9c0a65adca306259",
       "style": "IPY_MODEL_a7a3dbdaf4c046d999944c68f29179a2",
       "value": " 0/10 [00:00&lt;?, ?it/s]"
      }
     },
     "8582d9c510034b77ae49ee56c006e621": {
      "model_module": "@jupyter-widgets/controls",
      "model_module_version": "2.0.0",
      "model_name": "HTMLStyleModel",
      "state": {
       "description_width": "",
       "font_size": null,
       "text_color": null
      }
     },
     "85943ee8f8a94c0cb1a2d27f69e9898e": {
      "model_module": "@jupyter-widgets/controls",
      "model_module_version": "2.0.0",
      "model_name": "HTMLModel",
      "state": {
       "layout": "IPY_MODEL_b9fd595623ae468db2510f4f7e03df32",
       "style": "IPY_MODEL_d9638fb8a9864d7dbcd84b62581cf370",
       "value": " 80/80 [00:00&lt;00:00, 238.82it/s, loss=2.24, v_num=47, MAE=7.220, RMSE=9.180, Loss=2.240, RegLoss=2.120]"
      }
     },
     "859ae62bedc14d0e8a56cc0d6bc8ee93": {
      "model_module": "@jupyter-widgets/base",
      "model_module_version": "2.0.0",
      "model_name": "LayoutModel",
      "state": {
       "display": "inline-flex",
       "flex_flow": "row wrap",
       "width": "100%"
      }
     },
     "85a5c81f46324be7b4251530a6cbf5f6": {
      "model_module": "@jupyter-widgets/base",
      "model_module_version": "2.0.0",
      "model_name": "LayoutModel",
      "state": {}
     },
     "85d7a586afd54efe8eb5c49ae0b2e2f3": {
      "model_module": "@jupyter-widgets/controls",
      "model_module_version": "2.0.0",
      "model_name": "HTMLStyleModel",
      "state": {
       "description_width": "",
       "font_size": null,
       "text_color": null
      }
     },
     "85dddc526e7a4dba968aed52068e992f": {
      "model_module": "@jupyter-widgets/controls",
      "model_module_version": "2.0.0",
      "model_name": "HTMLStyleModel",
      "state": {
       "description_width": "",
       "font_size": null,
       "text_color": null
      }
     },
     "8600d402763e404ca7c2e24f9e01db99": {
      "model_module": "@jupyter-widgets/controls",
      "model_module_version": "2.0.0",
      "model_name": "HTMLModel",
      "state": {
       "layout": "IPY_MODEL_f15c584b433e4619b2aa762f0f37d6cf",
       "style": "IPY_MODEL_272e8886e24d4fbc9de3e6ee8f9acab4",
       "value": " 0/1 [00:01&lt;?, ?it/s]"
      }
     },
     "866c4cbc4be64efbab643a5bb4431ea6": {
      "model_module": "@jupyter-widgets/controls",
      "model_module_version": "2.0.0",
      "model_name": "HTMLModel",
      "state": {
       "layout": "IPY_MODEL_bec81e66e93a40bb8d7f964821184e22",
       "style": "IPY_MODEL_98d8e2761bf847bea13a99421838542a",
       "value": " 1/1 [00:00&lt;00:00, 252.61it/s]"
      }
     },
     "866c92219bbe46869077070c4a89e64d": {
      "model_module": "@jupyter-widgets/controls",
      "model_module_version": "2.0.0",
      "model_name": "HTMLModel",
      "state": {
       "layout": "IPY_MODEL_3dd4a9815a22422486fdaaa46a70071f",
       "style": "IPY_MODEL_15fa9019ba094443865faa8a11d2062e",
       "value": " 0/1 [08:53&lt;?, ?it/s]"
      }
     },
     "8690958904504f5dbc870ce3432f7111": {
      "model_module": "@jupyter-widgets/controls",
      "model_module_version": "2.0.0",
      "model_name": "HTMLStyleModel",
      "state": {
       "description_width": "",
       "font_size": null,
       "text_color": null
      }
     },
     "869478c5e0da47738076ff59567a41af": {
      "model_module": "@jupyter-widgets/controls",
      "model_module_version": "2.0.0",
      "model_name": "ProgressStyleModel",
      "state": {
       "description_width": ""
      }
     },
     "87313859c4f1427599b2fef260d6c0c6": {
      "model_module": "@jupyter-widgets/base",
      "model_module_version": "2.0.0",
      "model_name": "LayoutModel",
      "state": {
       "flex": "2"
      }
     },
     "8751d60207754e5a88d29fd0096c2ad0": {
      "model_module": "@jupyter-widgets/controls",
      "model_module_version": "2.0.0",
      "model_name": "HTMLModel",
      "state": {
       "layout": "IPY_MODEL_fb15118fb2174fc98941038ef11d48d1",
       "style": "IPY_MODEL_00c27dca092846f88300d2918d87bbd7",
       "value": " 9/80 [01:18&lt;10:21,  8.75s/it, loss=0.0412, v_num=56, MAE=3.800, RMSE=4.840, Loss=0.0411, RegLoss=0.000]"
      }
     },
     "87550d9e06d344809df34280a9eddf87": {
      "model_module": "@jupyter-widgets/base",
      "model_module_version": "2.0.0",
      "model_name": "LayoutModel",
      "state": {
       "flex": "2"
      }
     },
     "8762234b01164742a35425a310f29ebf": {
      "model_module": "@jupyter-widgets/controls",
      "model_module_version": "2.0.0",
      "model_name": "HTMLModel",
      "state": {
       "layout": "IPY_MODEL_b7ab16658812415abceb02291809b23e",
       "style": "IPY_MODEL_7c41e90130e5411ea363bebd5a1e0779",
       "value": "Testing DataLoader 0: 100%"
      }
     },
     "877f8abf80d24da39cf77663743e83da": {
      "model_module": "@jupyter-widgets/controls",
      "model_module_version": "2.0.0",
      "model_name": "HBoxModel",
      "state": {
       "children": [
        "IPY_MODEL_adcc5707aeb24927b74d4f8aef21efed",
        "IPY_MODEL_a38ef5d58f1c413cb47ad437a2f9002f",
        "IPY_MODEL_973494a906ca4565b62829a6391c3ddb"
       ],
       "layout": "IPY_MODEL_4565fe5c8d3b43549824753da966d94f"
      }
     },
     "879be0947ff04105bb05062f460205df": {
      "model_module": "@jupyter-widgets/controls",
      "model_module_version": "2.0.0",
      "model_name": "HBoxModel",
      "state": {
       "children": [
        "IPY_MODEL_1459b663880f43b28a968e037c9987e4",
        "IPY_MODEL_a92b41ad16404b188bb1cb5b1c7dfa31",
        "IPY_MODEL_d6b6e1f2f9d44727857498b7b9cabd0c"
       ],
       "layout": "IPY_MODEL_6777696a80f044a5aa54726b42517851"
      }
     },
     "87bbe7a6a6a349589407b08f5828f3a7": {
      "model_module": "@jupyter-widgets/controls",
      "model_module_version": "2.0.0",
      "model_name": "ProgressStyleModel",
      "state": {
       "description_width": ""
      }
     },
     "87bf9c5e4cae449b8a6aed05a22ff8d7": {
      "model_module": "@jupyter-widgets/base",
      "model_module_version": "2.0.0",
      "model_name": "LayoutModel",
      "state": {}
     },
     "87c229c4fd444accaa3072c10910f5c9": {
      "model_module": "@jupyter-widgets/controls",
      "model_module_version": "2.0.0",
      "model_name": "HBoxModel",
      "state": {
       "children": [
        "IPY_MODEL_fcae91bc54de40cd93d5388b41ff547c",
        "IPY_MODEL_1ec45c6fbb724a9c9a0679cefd7e5d9a",
        "IPY_MODEL_d5033295d6474ea0a4b8c8c10246e4cd"
       ],
       "layout": "IPY_MODEL_4d38823ca08744968f64e8bcb0bcd2b2"
      }
     },
     "87f3ac855db743f990c82e795dfe0b2e": {
      "model_module": "@jupyter-widgets/base",
      "model_module_version": "2.0.0",
      "model_name": "LayoutModel",
      "state": {}
     },
     "87f6b73cb5aa49b08450b3b34c9dd44a": {
      "model_module": "@jupyter-widgets/base",
      "model_module_version": "2.0.0",
      "model_name": "LayoutModel",
      "state": {
       "flex": "2"
      }
     },
     "880fb5964ee941d882de597d0e5f267b": {
      "model_module": "@jupyter-widgets/controls",
      "model_module_version": "2.0.0",
      "model_name": "HTMLModel",
      "state": {
       "layout": "IPY_MODEL_b0383828439f4a49bee522220968ab76",
       "style": "IPY_MODEL_e152d2aafe9547cdbf0c0e77493db249",
       "value": "Testing DataLoader 0: 100%"
      }
     },
     "883454ea93444f1fa3f039727e24b36f": {
      "model_module": "@jupyter-widgets/base",
      "model_module_version": "2.0.0",
      "model_name": "LayoutModel",
      "state": {
       "flex": "2"
      }
     },
     "884b95776b664e0bbf0c593cb910bd46": {
      "model_module": "@jupyter-widgets/base",
      "model_module_version": "2.0.0",
      "model_name": "LayoutModel",
      "state": {}
     },
     "88676c835d494175ba7077c754b42a7a": {
      "model_module": "@jupyter-widgets/controls",
      "model_module_version": "2.0.0",
      "model_name": "HTMLModel",
      "state": {
       "layout": "IPY_MODEL_0bada24f3c8f432db5bffec56a842760",
       "style": "IPY_MODEL_4e7d98e0361d4f669ba0f8078689a4d9",
       "value": "  0%"
      }
     },
     "887de557339d436c9d784e2970b7e955": {
      "model_module": "@jupyter-widgets/controls",
      "model_module_version": "2.0.0",
      "model_name": "HTMLModel",
      "state": {
       "layout": "IPY_MODEL_ec1a9d334ecd4315bd18bf7d02087daa",
       "style": "IPY_MODEL_c5f2d25ba20148cb857172f93c75986d",
       "value": " 1/1 [00:00&lt;00:00, 111.26it/s]"
      }
     },
     "887fbf85fdc34dd6b9878b1e00c1a92a": {
      "model_module": "@jupyter-widgets/controls",
      "model_module_version": "2.0.0",
      "model_name": "ProgressStyleModel",
      "state": {
       "description_width": ""
      }
     },
     "888db4bd93fb419a8c7699c01949c06c": {
      "model_module": "@jupyter-widgets/base",
      "model_module_version": "2.0.0",
      "model_name": "LayoutModel",
      "state": {
       "display": "inline-flex",
       "flex_flow": "row wrap",
       "width": "100%"
      }
     },
     "88a18e70fe4945f390ac82536fff4ee9": {
      "model_module": "@jupyter-widgets/controls",
      "model_module_version": "2.0.0",
      "model_name": "ProgressStyleModel",
      "state": {
       "description_width": ""
      }
     },
     "88c9855d4eae4fc48824644eb0d10105": {
      "model_module": "@jupyter-widgets/controls",
      "model_module_version": "2.0.0",
      "model_name": "HBoxModel",
      "state": {
       "children": [
        "IPY_MODEL_84cf4b71442740cdb5e936aec9e40bcb",
        "IPY_MODEL_46ebae3ec24c475bad51a7c3c318f955",
        "IPY_MODEL_2b2471ea6cc24e11bac37703d5ecd3e1"
       ],
       "layout": "IPY_MODEL_fabbeb903899457eaa0d948056e52cd3"
      }
     },
     "88fd7306ee7e443e87841a2e22fdbb56": {
      "model_module": "@jupyter-widgets/base",
      "model_module_version": "2.0.0",
      "model_name": "LayoutModel",
      "state": {}
     },
     "89051043272b4d00917b41eff41e1ccb": {
      "model_module": "@jupyter-widgets/base",
      "model_module_version": "2.0.0",
      "model_name": "LayoutModel",
      "state": {}
     },
     "892309ff5bf04c0fa05551942e0d565c": {
      "model_module": "@jupyter-widgets/controls",
      "model_module_version": "2.0.0",
      "model_name": "HTMLModel",
      "state": {
       "layout": "IPY_MODEL_68c84bb1a9d34f8fae4608fa300331f1",
       "style": "IPY_MODEL_1b00934df5954a16ba1a055a4337fea2",
       "value": " 1/1 [00:00&lt;00:00, 87.77it/s]"
      }
     },
     "896675afd2994a8887a97e0f8b1f34e6": {
      "model_module": "@jupyter-widgets/controls",
      "model_module_version": "2.0.0",
      "model_name": "HTMLModel",
      "state": {
       "layout": "IPY_MODEL_74ecb636da644dae8b5cd6d4133fedc3",
       "style": "IPY_MODEL_c39ab66ff2d843deb1951b0bee3c5232",
       "value": " 80/80 [00:00&lt;00:00, 161.00it/s, loss=0.327, v_num=58, MAE=5.560, RMSE=7.090, Loss=0.330, RegLoss=0.159]"
      }
     },
     "8967b712047d44c6bebb15a1b0238dbd": {
      "model_module": "@jupyter-widgets/controls",
      "model_module_version": "2.0.0",
      "model_name": "HTMLStyleModel",
      "state": {
       "description_width": "",
       "font_size": null,
       "text_color": null
      }
     },
     "898afd836e734adfbe20e3d3198de325": {
      "model_module": "@jupyter-widgets/base",
      "model_module_version": "2.0.0",
      "model_name": "LayoutModel",
      "state": {}
     },
     "898f823082de44e0923ebe9a4dfd7ccf": {
      "model_module": "@jupyter-widgets/controls",
      "model_module_version": "2.0.0",
      "model_name": "HTMLModel",
      "state": {
       "layout": "IPY_MODEL_950af2c8bd2840eeb2818be1a2a2f8ce",
       "style": "IPY_MODEL_61d73ee232bb47819620c26234ea0f85",
       "value": "Epoch 4:   5%"
      }
     },
     "89a256cd0c67400e9153226eb1059e65": {
      "model_module": "@jupyter-widgets/controls",
      "model_module_version": "2.0.0",
      "model_name": "ProgressStyleModel",
      "state": {
       "description_width": ""
      }
     },
     "89b5350649f64d3c8fe34e134d297cae": {
      "model_module": "@jupyter-widgets/base",
      "model_module_version": "2.0.0",
      "model_name": "LayoutModel",
      "state": {
       "flex": "2"
      }
     },
     "89e49f90e25442aa892c6fb130b32df0": {
      "model_module": "@jupyter-widgets/controls",
      "model_module_version": "2.0.0",
      "model_name": "HTMLModel",
      "state": {
       "layout": "IPY_MODEL_cd64f4eb248a4d9b98322944b3410507",
       "style": "IPY_MODEL_d3eec73c29234e78ba75a7dfd68eafc0",
       "value": "Validation DataLoader 0: 100%"
      }
     },
     "89edf301d3a74252b6422b8aeaca99b0": {
      "model_module": "@jupyter-widgets/base",
      "model_module_version": "2.0.0",
      "model_name": "LayoutModel",
      "state": {
       "flex": "2"
      }
     },
     "89f2579fb25f4e2892e825e0ff5b2cc2": {
      "model_module": "@jupyter-widgets/base",
      "model_module_version": "2.0.0",
      "model_name": "LayoutModel",
      "state": {
       "display": "inline-flex",
       "flex_flow": "row wrap",
       "width": "100%"
      }
     },
     "89fb78f84f884ec3aab645bc21f6192b": {
      "model_module": "@jupyter-widgets/controls",
      "model_module_version": "2.0.0",
      "model_name": "HTMLStyleModel",
      "state": {
       "description_width": "",
       "font_size": null,
       "text_color": null
      }
     },
     "8a4cea4fe207468997fe742303e7a1f5": {
      "model_module": "@jupyter-widgets/controls",
      "model_module_version": "2.0.0",
      "model_name": "HTMLStyleModel",
      "state": {
       "description_width": "",
       "font_size": null,
       "text_color": null
      }
     },
     "8a5679dfd8e04a58b0047312f9a7093a": {
      "model_module": "@jupyter-widgets/base",
      "model_module_version": "2.0.0",
      "model_name": "LayoutModel",
      "state": {}
     },
     "8a581e95cf8d4393ac49c64cc935b5f1": {
      "model_module": "@jupyter-widgets/controls",
      "model_module_version": "2.0.0",
      "model_name": "FloatProgressModel",
      "state": {
       "bar_style": "success",
       "layout": "IPY_MODEL_d7500987fa7f447baf2e066730a5f443",
       "max": 1,
       "style": "IPY_MODEL_10605308d9dd439db415bb13fc35edb4",
       "value": 1
      }
     },
     "8a6c65be183d4deba981acce00018a27": {
      "model_module": "@jupyter-widgets/controls",
      "model_module_version": "2.0.0",
      "model_name": "HBoxModel",
      "state": {
       "children": [
        "IPY_MODEL_898f823082de44e0923ebe9a4dfd7ccf",
        "IPY_MODEL_0e4a857bd2df4a7f8cfd03fb5bdc12f5",
        "IPY_MODEL_41c4da8b8c594f2e8ce26f8606d0f77c"
       ],
       "layout": "IPY_MODEL_78450d60aef94cb3a8db13137678ec43"
      }
     },
     "8a7428bbd74945119e53ca263a59a218": {
      "model_module": "@jupyter-widgets/controls",
      "model_module_version": "2.0.0",
      "model_name": "HTMLStyleModel",
      "state": {
       "description_width": "",
       "font_size": null,
       "text_color": null
      }
     },
     "8a849537784a431d9a068074bc786ddc": {
      "model_module": "@jupyter-widgets/controls",
      "model_module_version": "2.0.0",
      "model_name": "HTMLStyleModel",
      "state": {
       "description_width": "",
       "font_size": null,
       "text_color": null
      }
     },
     "8a8508b6d3e2457b9045e1b54c26c3d7": {
      "model_module": "@jupyter-widgets/controls",
      "model_module_version": "2.0.0",
      "model_name": "HBoxModel",
      "state": {
       "children": [
        "IPY_MODEL_e16a334bb92c4b38b9cbe6c056d3efea",
        "IPY_MODEL_1b4fe3ca93574766884db8f6b98c5260",
        "IPY_MODEL_a273df3e887f4bb1bf592bdce67d2b1b"
       ],
       "layout": "IPY_MODEL_fce3df398582484dbb420aa24e1a0882"
      }
     },
     "8a89ad31966847a6a9c3d957192e6e78": {
      "model_module": "@jupyter-widgets/controls",
      "model_module_version": "2.0.0",
      "model_name": "ProgressStyleModel",
      "state": {
       "description_width": ""
      }
     },
     "8a8d64e220f6495dae0e274f429ebe86": {
      "model_module": "@jupyter-widgets/controls",
      "model_module_version": "2.0.0",
      "model_name": "HTMLModel",
      "state": {
       "layout": "IPY_MODEL_f70fa8c2f23d46f99140aac23bad6ae7",
       "style": "IPY_MODEL_c64d6a6e39d84ff7aef0b5ee2fba0328",
       "value": "Best trial: 0. Best value: 42.7085: 100%"
      }
     },
     "8ac8f42b1e8745d191b3ea271cb7d815": {
      "model_module": "@jupyter-widgets/controls",
      "model_module_version": "2.0.0",
      "model_name": "HBoxModel",
      "state": {
       "children": [
        "IPY_MODEL_a4dce12cad7b4d6da295f14f533a4b0e",
        "IPY_MODEL_ab73be5f16d84194b84f6ad5303e84f5",
        "IPY_MODEL_44cfb2be437e41128194cc0fe28daaf7"
       ],
       "layout": "IPY_MODEL_4de18e00d1ba409490668f4897281c6d"
      }
     },
     "8ad28b5a2b7f42c0b6e226f7ddad0acf": {
      "model_module": "@jupyter-widgets/base",
      "model_module_version": "2.0.0",
      "model_name": "LayoutModel",
      "state": {}
     },
     "8ad4455a8fd342cc9f00e53671f47b13": {
      "model_module": "@jupyter-widgets/controls",
      "model_module_version": "2.0.0",
      "model_name": "HBoxModel",
      "state": {
       "children": [
        "IPY_MODEL_3b87712ca8224b598029f9282d9f6f37",
        "IPY_MODEL_09efee8fd31946758bc109ab4bd21a43",
        "IPY_MODEL_2aff931bb13a4527bf8ab970ba0eed53"
       ],
       "layout": "IPY_MODEL_46446ad5b7ba4423877c5563c575aa79"
      }
     },
     "8b083e12015a4bd0b05629412feaad48": {
      "model_module": "@jupyter-widgets/controls",
      "model_module_version": "2.0.0",
      "model_name": "HBoxModel",
      "state": {
       "children": [
        "IPY_MODEL_019e1d9a23604910a40fb04a6eac9690",
        "IPY_MODEL_952bc251884e487f9e069192a6f370c9",
        "IPY_MODEL_a272745243c048a5a367471fbfdbc232"
       ],
       "layout": "IPY_MODEL_8472ee121e29454786dabf4847f89738"
      }
     },
     "8b287f093aeb4311901416d0db1d4149": {
      "model_module": "@jupyter-widgets/controls",
      "model_module_version": "2.0.0",
      "model_name": "FloatProgressModel",
      "state": {
       "bar_style": "danger",
       "layout": "IPY_MODEL_e78bac074d4b4052b9d4aaf5121599b5",
       "max": 10,
       "style": "IPY_MODEL_edcaa98a29194625ab8d74ba154dd8ad"
      }
     },
     "8b45551f369d4b96bfb6b99db5159899": {
      "model_module": "@jupyter-widgets/base",
      "model_module_version": "2.0.0",
      "model_name": "LayoutModel",
      "state": {}
     },
     "8b60f85f15a44c5293f6b1d8ea44282f": {
      "model_module": "@jupyter-widgets/base",
      "model_module_version": "2.0.0",
      "model_name": "LayoutModel",
      "state": {}
     },
     "8b68946fd9d6482683a5549d2770966b": {
      "model_module": "@jupyter-widgets/controls",
      "model_module_version": "2.0.0",
      "model_name": "HTMLModel",
      "state": {
       "layout": "IPY_MODEL_4f680e0f2a144ffab41134ff7190221f",
       "style": "IPY_MODEL_9417c9409e08459383021b836c6bfd26",
       "value": " 1/1 [00:12&lt;00:00, 12.40s/it]"
      }
     },
     "8b94702eff6849b786e9fea14350a4d1": {
      "model_module": "@jupyter-widgets/controls",
      "model_module_version": "2.0.0",
      "model_name": "HTMLStyleModel",
      "state": {
       "description_width": "",
       "font_size": null,
       "text_color": null
      }
     },
     "8ba4d5679467406e8d883477a683ba85": {
      "model_module": "@jupyter-widgets/controls",
      "model_module_version": "2.0.0",
      "model_name": "HTMLStyleModel",
      "state": {
       "description_width": "",
       "font_size": null,
       "text_color": null
      }
     },
     "8bb68183ed3647d8bde28aa2146b929d": {
      "model_module": "@jupyter-widgets/base",
      "model_module_version": "2.0.0",
      "model_name": "LayoutModel",
      "state": {
       "display": "inline-flex",
       "flex_flow": "row wrap",
       "width": "100%"
      }
     },
     "8bc6817154d04a468cdc3040b77a4a3c": {
      "model_module": "@jupyter-widgets/base",
      "model_module_version": "2.0.0",
      "model_name": "LayoutModel",
      "state": {
       "flex": "2"
      }
     },
     "8c050df4a54f4e55941aabf287d579d3": {
      "model_module": "@jupyter-widgets/controls",
      "model_module_version": "2.0.0",
      "model_name": "HTMLStyleModel",
      "state": {
       "description_width": "",
       "font_size": null,
       "text_color": null
      }
     },
     "8c06f5324be64009be87861898402c13": {
      "model_module": "@jupyter-widgets/controls",
      "model_module_version": "2.0.0",
      "model_name": "ProgressStyleModel",
      "state": {
       "description_width": ""
      }
     },
     "8c146e6a0f1747f9911bfa23a18bc8b0": {
      "model_module": "@jupyter-widgets/base",
      "model_module_version": "2.0.0",
      "model_name": "LayoutModel",
      "state": {}
     },
     "8c2b3209bb244cb28c72c7def3787db9": {
      "model_module": "@jupyter-widgets/controls",
      "model_module_version": "2.0.0",
      "model_name": "HTMLModel",
      "state": {
       "layout": "IPY_MODEL_e139e1ad08b241df83e47116ac41a6f1",
       "style": "IPY_MODEL_014492f5b3094069970b6cf5e605c69f",
       "value": "Epoch 80: 100%"
      }
     },
     "8c31dd2ce5b2440ab569046e0705e468": {
      "model_module": "@jupyter-widgets/controls",
      "model_module_version": "2.0.0",
      "model_name": "HBoxModel",
      "state": {
       "children": [
        "IPY_MODEL_676c82b70037458b84b59ccba7bce9e7",
        "IPY_MODEL_49b76f410c214365b2e2cb3c30764072",
        "IPY_MODEL_e23937d940ae42a08c475c897a450c6c"
       ],
       "layout": "IPY_MODEL_c3861b287956457689a86cc3d5fd308c"
      }
     },
     "8c3e3033f65f4895b15c9cdd913e7a52": {
      "model_module": "@jupyter-widgets/controls",
      "model_module_version": "2.0.0",
      "model_name": "HTMLStyleModel",
      "state": {
       "description_width": "",
       "font_size": null,
       "text_color": null
      }
     },
     "8c62689cbc1749edaf7e4f219a6b7366": {
      "model_module": "@jupyter-widgets/controls",
      "model_module_version": "2.0.0",
      "model_name": "HTMLModel",
      "state": {
       "layout": "IPY_MODEL_93164bf7696b4429a30013f5fbe81a54",
       "style": "IPY_MODEL_e61e449b6be94937bbd0d10fdd3e9c15",
       "value": " 80/80 [00:00&lt;00:00, 346.11it/s, loss=0.913]"
      }
     },
     "8c68477fe3fe4ba4a62031dc031dca74": {
      "model_module": "@jupyter-widgets/base",
      "model_module_version": "2.0.0",
      "model_name": "LayoutModel",
      "state": {
       "flex": "2"
      }
     },
     "8c891c89c71646a2a7b59379686e0ce0": {
      "model_module": "@jupyter-widgets/base",
      "model_module_version": "2.0.0",
      "model_name": "LayoutModel",
      "state": {}
     },
     "8c9fca256e2e406a80fbc74966b9238c": {
      "model_module": "@jupyter-widgets/controls",
      "model_module_version": "2.0.0",
      "model_name": "FloatProgressModel",
      "state": {
       "bar_style": "success",
       "layout": "IPY_MODEL_339b33fd14db4ee289812f1593629419",
       "max": 1,
       "style": "IPY_MODEL_8513b5e9dbd044e384040fdf9f48f55f",
       "value": 1
      }
     },
     "8ca6225cb07f44a58eaf39fb6cf133a8": {
      "model_module": "@jupyter-widgets/base",
      "model_module_version": "2.0.0",
      "model_name": "LayoutModel",
      "state": {}
     },
     "8cd06c31225a41e997bb3b9614804959": {
      "model_module": "@jupyter-widgets/controls",
      "model_module_version": "2.0.0",
      "model_name": "HBoxModel",
      "state": {
       "children": [
        "IPY_MODEL_6654ae3d2a824d9aab1b0ced0a711096",
        "IPY_MODEL_15160ed4a544452a975bf0e112df183d",
        "IPY_MODEL_dff32a5358ab41a4ae7d05957b7a8964"
       ],
       "layout": "IPY_MODEL_c31aaf2950b44430bc29e65316b11c9e"
      }
     },
     "8cffc93369ad473b88f508dd6cda33ef": {
      "model_module": "@jupyter-widgets/controls",
      "model_module_version": "2.0.0",
      "model_name": "HTMLStyleModel",
      "state": {
       "description_width": "",
       "font_size": null,
       "text_color": null
      }
     },
     "8d1d38b0996147d191dd4e3ba96c2bf7": {
      "model_module": "@jupyter-widgets/controls",
      "model_module_version": "2.0.0",
      "model_name": "HTMLModel",
      "state": {
       "layout": "IPY_MODEL_6eb3c32cc3d14dfd8795f6b9b84ec63e",
       "style": "IPY_MODEL_73b94a3adf0e4ad986fdcae4ed759356",
       "value": "Epoch 53:  66%"
      }
     },
     "8d3009e3412d43a4ad372963cc549117": {
      "model_module": "@jupyter-widgets/controls",
      "model_module_version": "2.0.0",
      "model_name": "ProgressStyleModel",
      "state": {
       "description_width": ""
      }
     },
     "8d3cceb38ea043e8b50a7f78c2e2a654": {
      "model_module": "@jupyter-widgets/base",
      "model_module_version": "2.0.0",
      "model_name": "LayoutModel",
      "state": {}
     },
     "8d3e2d14e87f4447a732b18e6dc556dd": {
      "model_module": "@jupyter-widgets/base",
      "model_module_version": "2.0.0",
      "model_name": "LayoutModel",
      "state": {}
     },
     "8d458a02b6294072be671ceff54e5894": {
      "model_module": "@jupyter-widgets/controls",
      "model_module_version": "2.0.0",
      "model_name": "HBoxModel",
      "state": {
       "children": [
        "IPY_MODEL_4f792dcf008d444c9699c1cfe2dcd51c",
        "IPY_MODEL_9b8c113f3523495bb8dddd0cb84c2323",
        "IPY_MODEL_f10865e815e84d2aa2a53e96d44490a6"
       ],
       "layout": "IPY_MODEL_be9c5c269ebf455b9d54c0c48aebb080"
      }
     },
     "8d488471a7194227b55ac61bb03485c6": {
      "model_module": "@jupyter-widgets/controls",
      "model_module_version": "2.0.0",
      "model_name": "HTMLStyleModel",
      "state": {
       "description_width": "",
       "font_size": null,
       "text_color": null
      }
     },
     "8d5111ef98f94f7eb1f6b997af46e03d": {
      "model_module": "@jupyter-widgets/controls",
      "model_module_version": "2.0.0",
      "model_name": "FloatProgressModel",
      "state": {
       "bar_style": "danger",
       "layout": "IPY_MODEL_d84761777dd646b695cafe670b165f8e",
       "max": 80,
       "style": "IPY_MODEL_5249442d2f314eae9c97d2c908545377",
       "value": 53
      }
     },
     "8d675b1f3da44c6b8eaaac7f8b31f109": {
      "model_module": "@jupyter-widgets/base",
      "model_module_version": "2.0.0",
      "model_name": "LayoutModel",
      "state": {}
     },
     "8d7971b716bb49cbbf3f2726e7e00a4b": {
      "model_module": "@jupyter-widgets/controls",
      "model_module_version": "2.0.0",
      "model_name": "HTMLStyleModel",
      "state": {
       "description_width": "",
       "font_size": null,
       "text_color": null
      }
     },
     "8d83ac12c63e466aa8a57f6b1fedd133": {
      "model_module": "@jupyter-widgets/controls",
      "model_module_version": "2.0.0",
      "model_name": "HTMLStyleModel",
      "state": {
       "description_width": "",
       "font_size": null,
       "text_color": null
      }
     },
     "8dc4406843ac4e6e803f2309dd367c43": {
      "model_module": "@jupyter-widgets/controls",
      "model_module_version": "2.0.0",
      "model_name": "ProgressStyleModel",
      "state": {
       "description_width": ""
      }
     },
     "8df41f4d11804b59a96763f17676f084": {
      "model_module": "@jupyter-widgets/base",
      "model_module_version": "2.0.0",
      "model_name": "LayoutModel",
      "state": {}
     },
     "8e19f8dd68f04341a5ba117949173d99": {
      "model_module": "@jupyter-widgets/base",
      "model_module_version": "2.0.0",
      "model_name": "LayoutModel",
      "state": {
       "flex": "2"
      }
     },
     "8e238d66a217457cb85a650fb81b1544": {
      "model_module": "@jupyter-widgets/base",
      "model_module_version": "2.0.0",
      "model_name": "LayoutModel",
      "state": {}
     },
     "8e6486cb13cb485399b6840d98ec9963": {
      "model_module": "@jupyter-widgets/base",
      "model_module_version": "2.0.0",
      "model_name": "LayoutModel",
      "state": {}
     },
     "8e6f00fb3c10485e92c1803925ff9c29": {
      "model_module": "@jupyter-widgets/base",
      "model_module_version": "2.0.0",
      "model_name": "LayoutModel",
      "state": {}
     },
     "8ea65924825c46db83928d83c2407b0b": {
      "model_module": "@jupyter-widgets/controls",
      "model_module_version": "2.0.0",
      "model_name": "HTMLStyleModel",
      "state": {
       "description_width": "",
       "font_size": null,
       "text_color": null
      }
     },
     "8eabe00b2b064c64b2f972973dfa135d": {
      "model_module": "@jupyter-widgets/base",
      "model_module_version": "2.0.0",
      "model_name": "LayoutModel",
      "state": {}
     },
     "8ed6cee09ec04ab99d26b7a25fb0f550": {
      "model_module": "@jupyter-widgets/base",
      "model_module_version": "2.0.0",
      "model_name": "LayoutModel",
      "state": {}
     },
     "8eeabdd55f5c41c09f546688d6d8b1ae": {
      "model_module": "@jupyter-widgets/controls",
      "model_module_version": "2.0.0",
      "model_name": "HTMLModel",
      "state": {
       "layout": "IPY_MODEL_88fd7306ee7e443e87841a2e22fdbb56",
       "style": "IPY_MODEL_103b805549064e579f65a0ccf1488fbf",
       "value": " 1/1 [00:00&lt;00:00, 89.65it/s]"
      }
     },
     "8f0fd895f42e43538c410414e69a66f7": {
      "model_module": "@jupyter-widgets/base",
      "model_module_version": "2.0.0",
      "model_name": "LayoutModel",
      "state": {}
     },
     "8f4473233a49436ca30e6c1ca16b7f47": {
      "model_module": "@jupyter-widgets/controls",
      "model_module_version": "2.0.0",
      "model_name": "HTMLStyleModel",
      "state": {
       "description_width": "",
       "font_size": null,
       "text_color": null
      }
     },
     "8f68662f34664a63bebaca7092d816f3": {
      "model_module": "@jupyter-widgets/controls",
      "model_module_version": "2.0.0",
      "model_name": "HTMLModel",
      "state": {
       "layout": "IPY_MODEL_e8d5d5965b1d41758fe02d858093d69c",
       "style": "IPY_MODEL_c5f5af17551742c4a811f9036e1583fd",
       "value": "Epoch 1:   1%"
      }
     },
     "8f73173a32ca4d7b8df196660fc0ad54": {
      "model_module": "@jupyter-widgets/controls",
      "model_module_version": "2.0.0",
      "model_name": "HTMLStyleModel",
      "state": {
       "description_width": "",
       "font_size": null,
       "text_color": null
      }
     },
     "8f8c51dcf5a44bc2bc1eb25230c43338": {
      "model_module": "@jupyter-widgets/controls",
      "model_module_version": "2.0.0",
      "model_name": "ProgressStyleModel",
      "state": {
       "description_width": ""
      }
     },
     "8f95e45c673140d49665e80b436c4666": {
      "model_module": "@jupyter-widgets/base",
      "model_module_version": "2.0.0",
      "model_name": "LayoutModel",
      "state": {
       "flex": "2"
      }
     },
     "8fc2c7f6127640ac93e3f1d7fe80506f": {
      "model_module": "@jupyter-widgets/controls",
      "model_module_version": "2.0.0",
      "model_name": "HTMLModel",
      "state": {
       "layout": "IPY_MODEL_b2b294a9734b4131b135af5823825e58",
       "style": "IPY_MODEL_835de0959cb0406f8d71f9ca7ebd7945",
       "value": "Epoch 5: 100%"
      }
     },
     "8fc5bbb6efd14468afcd212d5d53ef14": {
      "model_module": "@jupyter-widgets/base",
      "model_module_version": "2.0.0",
      "model_name": "LayoutModel",
      "state": {}
     },
     "8ff475c1c580488e8584891de5449d53": {
      "model_module": "@jupyter-widgets/controls",
      "model_module_version": "2.0.0",
      "model_name": "HTMLModel",
      "state": {
       "layout": "IPY_MODEL_162ad6e298e04bdc92c7b4a25f7bbcf8",
       "style": "IPY_MODEL_c2957c0e1f1a4ceb890406eef4436dfa",
       "value": " 1/1 [00:00&lt;00:00, 92.30it/s]"
      }
     },
     "8ff79812380d4f6e891370b53c9e9bdc": {
      "model_module": "@jupyter-widgets/controls",
      "model_module_version": "2.0.0",
      "model_name": "HTMLModel",
      "state": {
       "layout": "IPY_MODEL_1333ce932e1345d99267d64671b1ed79",
       "style": "IPY_MODEL_9970253ee4c042b8a2bc74a2707f7b3c",
       "value": " 53/80 [02:44&lt;01:23,  3.10s/it, loss=0.0605, v_num=36, MAE=3.730, RMSE=4.770, Loss=0.0592, RegLoss=0.000]"
      }
     },
     "9033ef6292484a9d9b9e43e20f8bc6ab": {
      "model_module": "@jupyter-widgets/controls",
      "model_module_version": "2.0.0",
      "model_name": "ProgressStyleModel",
      "state": {
       "description_width": ""
      }
     },
     "90360ad50133499d8830a15b908e035b": {
      "model_module": "@jupyter-widgets/base",
      "model_module_version": "2.0.0",
      "model_name": "LayoutModel",
      "state": {}
     },
     "9062921f76f240b298e7cf65a44ba52a": {
      "model_module": "@jupyter-widgets/controls",
      "model_module_version": "2.0.0",
      "model_name": "HTMLStyleModel",
      "state": {
       "description_width": "",
       "font_size": null,
       "text_color": null
      }
     },
     "90839a5bf70847c687b9c1d44480723c": {
      "model_module": "@jupyter-widgets/base",
      "model_module_version": "2.0.0",
      "model_name": "LayoutModel",
      "state": {}
     },
     "90957ad00bb84546b4fdcd82d55ac055": {
      "model_module": "@jupyter-widgets/base",
      "model_module_version": "2.0.0",
      "model_name": "LayoutModel",
      "state": {
       "flex": "2"
      }
     },
     "90aa575a88974578972af6dff3db13f2": {
      "model_module": "@jupyter-widgets/base",
      "model_module_version": "2.0.0",
      "model_name": "LayoutModel",
      "state": {}
     },
     "90babb532c8b440f85bc6c1ae4316070": {
      "model_module": "@jupyter-widgets/controls",
      "model_module_version": "2.0.0",
      "model_name": "ProgressStyleModel",
      "state": {
       "description_width": ""
      }
     },
     "90c3f4a88f3d478dbb974cc63e666a71": {
      "model_module": "@jupyter-widgets/controls",
      "model_module_version": "2.0.0",
      "model_name": "FloatProgressModel",
      "state": {
       "bar_style": "danger",
       "layout": "IPY_MODEL_841615b276dc4061b4421c01f82e3442",
       "max": 10,
       "style": "IPY_MODEL_6b89e9c487934b7882d646cb2f20a0cf"
      }
     },
     "90d2ac0d407340a1adb12c937d277d1b": {
      "model_module": "@jupyter-widgets/controls",
      "model_module_version": "2.0.0",
      "model_name": "HBoxModel",
      "state": {
       "children": [
        "IPY_MODEL_b5d082dd594d458f915e71aef0b3c306",
        "IPY_MODEL_1c0bb075e1bc4895b892c39dbedd6e9d",
        "IPY_MODEL_af87ec435ccc4b19b2e2647a7485b518"
       ],
       "layout": "IPY_MODEL_b25baa110bbb47888148a97452ee6592"
      }
     },
     "90fa0bda66c747f28e7dbf516ab3175b": {
      "model_module": "@jupyter-widgets/controls",
      "model_module_version": "2.0.0",
      "model_name": "HBoxModel",
      "state": {
       "children": [
        "IPY_MODEL_97fd468eee6044608e50aab78c7e61c3",
        "IPY_MODEL_2824c9abd98b4178a28c6c6d6567b746",
        "IPY_MODEL_5270d142e1694337822a9804350b79ee"
       ],
       "layout": "IPY_MODEL_39e5603856a14f6f8bd0b68228429a2c"
      }
     },
     "90ff0f51fea14e3d844cee14602bf8a1": {
      "model_module": "@jupyter-widgets/base",
      "model_module_version": "2.0.0",
      "model_name": "LayoutModel",
      "state": {}
     },
     "9115b2c8a5a64a96b1ebff64ae32683a": {
      "model_module": "@jupyter-widgets/controls",
      "model_module_version": "2.0.0",
      "model_name": "FloatProgressModel",
      "state": {
       "bar_style": "success",
       "layout": "IPY_MODEL_90ff0f51fea14e3d844cee14602bf8a1",
       "max": 1,
       "style": "IPY_MODEL_6e0fab55ad184f0db4057ff6fe36e2d8",
       "value": 1
      }
     },
     "911c0b19d11847828693ffdac6dcd9f3": {
      "model_module": "@jupyter-widgets/base",
      "model_module_version": "2.0.0",
      "model_name": "LayoutModel",
      "state": {}
     },
     "91679a1ef82a42a68fb70f3ff95c0584": {
      "model_module": "@jupyter-widgets/base",
      "model_module_version": "2.0.0",
      "model_name": "LayoutModel",
      "state": {
       "flex": "2"
      }
     },
     "91758c0788fb469881b4dbd1ed561bd2": {
      "model_module": "@jupyter-widgets/controls",
      "model_module_version": "2.0.0",
      "model_name": "HTMLStyleModel",
      "state": {
       "description_width": "",
       "font_size": null,
       "text_color": null
      }
     },
     "918a3ae6d7c64be3a445ff165f5b2013": {
      "model_module": "@jupyter-widgets/controls",
      "model_module_version": "2.0.0",
      "model_name": "HTMLModel",
      "state": {
       "layout": "IPY_MODEL_4b26a5259e4447f59ad059645bfb8fdb",
       "style": "IPY_MODEL_c35220a19ba84f73bb64d63e1ee2e474",
       "value": " 20%"
      }
     },
     "91a280a870ec42b0989379f22202379a": {
      "model_module": "@jupyter-widgets/base",
      "model_module_version": "2.0.0",
      "model_name": "LayoutModel",
      "state": {}
     },
     "91a879bf5034455e941e79ba1ca55f62": {
      "model_module": "@jupyter-widgets/controls",
      "model_module_version": "2.0.0",
      "model_name": "ProgressStyleModel",
      "state": {
       "description_width": ""
      }
     },
     "91b613998d3e42309363f72ca8b4a79f": {
      "model_module": "@jupyter-widgets/controls",
      "model_module_version": "2.0.0",
      "model_name": "HTMLModel",
      "state": {
       "layout": "IPY_MODEL_ca2908b60334460b82a197bbb40e6bec",
       "style": "IPY_MODEL_b1f870f1c4bc492382e0feea39574bb5",
       "value": " 4/5 [01:15&lt;00:18, 18.76s/it, loss=18.1, v_num=72, MAE=521.0, RMSE=894.0, Loss=28.90, RegLoss=0.000]"
      }
     },
     "91bc1f4d0b8b4ff1a6db32404aa5c873": {
      "model_module": "@jupyter-widgets/base",
      "model_module_version": "2.0.0",
      "model_name": "LayoutModel",
      "state": {
       "flex": "2"
      }
     },
     "91d8311f3daf4e4ba63d693af74bc97b": {
      "model_module": "@jupyter-widgets/controls",
      "model_module_version": "2.0.0",
      "model_name": "HTMLStyleModel",
      "state": {
       "description_width": "",
       "font_size": null,
       "text_color": null
      }
     },
     "91dd261e1a9a4461a1acc1bfaa6fdb8f": {
      "model_module": "@jupyter-widgets/base",
      "model_module_version": "2.0.0",
      "model_name": "LayoutModel",
      "state": {}
     },
     "91e8a519ca56472888b46cbcafc7475c": {
      "model_module": "@jupyter-widgets/controls",
      "model_module_version": "2.0.0",
      "model_name": "HBoxModel",
      "state": {
       "children": [
        "IPY_MODEL_d243459d5831476c91a7cf5c3b6cd13c",
        "IPY_MODEL_57d57c7735c0447687bb3e35fa046fc1",
        "IPY_MODEL_194413b53c614496b8763bffe48418e3"
       ],
       "layout": "IPY_MODEL_c596080167854f838ea90aa6eda88f82"
      }
     },
     "91e99e560bb941c6b4ae130abcd2f359": {
      "model_module": "@jupyter-widgets/controls",
      "model_module_version": "2.0.0",
      "model_name": "FloatProgressModel",
      "state": {
       "bar_style": "success",
       "layout": "IPY_MODEL_bb1bb80b635e4d24a45f8970e59d50fc",
       "max": 1,
       "style": "IPY_MODEL_564f7c320ded4115a998ffeb6185908f",
       "value": 1
      }
     },
     "91f6f00a871348f58816f254684b2098": {
      "model_module": "@jupyter-widgets/controls",
      "model_module_version": "2.0.0",
      "model_name": "HTMLStyleModel",
      "state": {
       "description_width": "",
       "font_size": null,
       "text_color": null
      }
     },
     "9207b9da9f7a479c98de70577b0bb621": {
      "model_module": "@jupyter-widgets/base",
      "model_module_version": "2.0.0",
      "model_name": "LayoutModel",
      "state": {}
     },
     "920a173d548c4c1180c954dc9fcbc5b5": {
      "model_module": "@jupyter-widgets/controls",
      "model_module_version": "2.0.0",
      "model_name": "HTMLStyleModel",
      "state": {
       "description_width": "",
       "font_size": null,
       "text_color": null
      }
     },
     "921d858179664fc192cd915bd4d2d5c3": {
      "model_module": "@jupyter-widgets/base",
      "model_module_version": "2.0.0",
      "model_name": "LayoutModel",
      "state": {
       "flex": "2"
      }
     },
     "92288818358d4b7cbe60b0c740a6516b": {
      "model_module": "@jupyter-widgets/controls",
      "model_module_version": "2.0.0",
      "model_name": "HBoxModel",
      "state": {
       "children": [
        "IPY_MODEL_f15252e4623c439c92f0c81b69b5e4f0",
        "IPY_MODEL_20145183ad374fef8e15458c40fc3158",
        "IPY_MODEL_cc23ca746ddb420683221c1b643311ef"
       ],
       "layout": "IPY_MODEL_b833cc88f7b54b088c8f6a336ae2405a"
      }
     },
     "9242a1a6b35648799ee03e361a9a2180": {
      "model_module": "@jupyter-widgets/controls",
      "model_module_version": "2.0.0",
      "model_name": "HTMLStyleModel",
      "state": {
       "description_width": "",
       "font_size": null,
       "text_color": null
      }
     },
     "9247172b88654c4280edcf5a2665f419": {
      "model_module": "@jupyter-widgets/base",
      "model_module_version": "2.0.0",
      "model_name": "LayoutModel",
      "state": {
       "flex": "2"
      }
     },
     "927b72ce9ab74bbf83c4cd6552553d05": {
      "model_module": "@jupyter-widgets/controls",
      "model_module_version": "2.0.0",
      "model_name": "HBoxModel",
      "state": {
       "children": [
        "IPY_MODEL_ae4e984176134972a8c853834ecc97ab",
        "IPY_MODEL_e332581e64b4414c80522ad6b07fd00f",
        "IPY_MODEL_c929713a00e3455fb1cf1bc9951771aa"
       ],
       "layout": "IPY_MODEL_4efa8f7ff2014281855c68394ac75712"
      }
     },
     "928a16a152d84170bf76d0f77b979a6b": {
      "model_module": "@jupyter-widgets/controls",
      "model_module_version": "2.0.0",
      "model_name": "HTMLModel",
      "state": {
       "layout": "IPY_MODEL_79f56ee01e614be9aad3ef947216d11e",
       "style": "IPY_MODEL_acbef2cd8909452da651851e87a76cf7",
       "value": "Testing DataLoader 0: 100%"
      }
     },
     "92993aeab5c24ef1839a57702bf7ab44": {
      "model_module": "@jupyter-widgets/controls",
      "model_module_version": "2.0.0",
      "model_name": "HTMLModel",
      "state": {
       "layout": "IPY_MODEL_afb03663d0c6450580ac54ec30156e07",
       "style": "IPY_MODEL_ad69881c6b1a4fe189636207356e0114",
       "value": "Testing DataLoader 0: 100%"
      }
     },
     "92ba1e5f6af540bdb6819826a218478f": {
      "model_module": "@jupyter-widgets/base",
      "model_module_version": "2.0.0",
      "model_name": "LayoutModel",
      "state": {
       "display": "inline-flex",
       "flex_flow": "row wrap",
       "width": "100%"
      }
     },
     "92bd830ce0064611a1abd20a82f9224e": {
      "model_module": "@jupyter-widgets/controls",
      "model_module_version": "2.0.0",
      "model_name": "HTMLModel",
      "state": {
       "layout": "IPY_MODEL_c70d38d312b64603904d88bec4fffee0",
       "style": "IPY_MODEL_435a64f06f0248e488f102416eef2581",
       "value": "Validation DataLoader 0: 100%"
      }
     },
     "92c92aa078d24d8caac948d83624c53e": {
      "model_module": "@jupyter-widgets/controls",
      "model_module_version": "2.0.0",
      "model_name": "ProgressStyleModel",
      "state": {
       "description_width": ""
      }
     },
     "92c98941263b4bedbccba3ff887d1770": {
      "model_module": "@jupyter-widgets/base",
      "model_module_version": "2.0.0",
      "model_name": "LayoutModel",
      "state": {}
     },
     "92ee426c3d7144ca9236a9d5cbb34665": {
      "model_module": "@jupyter-widgets/controls",
      "model_module_version": "2.0.0",
      "model_name": "HTMLModel",
      "state": {
       "layout": "IPY_MODEL_198045f94a2442edb558bfdb373afb9e",
       "style": "IPY_MODEL_ac3a6af00c344bdaa2f568204566df96",
       "value": " 1/1 [00:00&lt;00:00, 193.37it/s]"
      }
     },
     "92f064fd5e7f41ecae164b5ceaa12dc7": {
      "model_module": "@jupyter-widgets/controls",
      "model_module_version": "2.0.0",
      "model_name": "FloatProgressModel",
      "state": {
       "bar_style": "success",
       "layout": "IPY_MODEL_d24a1c16aafe4a6cb5f2a76b59ca489d",
       "max": 1,
       "style": "IPY_MODEL_21f22b824bae43b9b4834eac7a1576f6",
       "value": 1
      }
     },
     "92fba87302984ba59d0fc0529fc78b2a": {
      "model_module": "@jupyter-widgets/controls",
      "model_module_version": "2.0.0",
      "model_name": "HTMLModel",
      "state": {
       "layout": "IPY_MODEL_a5659962d0454ffbb9398e022a8b7097",
       "style": "IPY_MODEL_5855efc93924492e99cabf515566dc84",
       "value": "Testing DataLoader 0: 100%"
      }
     },
     "93013c8e6e0547b19ac8b912b1194ab2": {
      "model_module": "@jupyter-widgets/controls",
      "model_module_version": "2.0.0",
      "model_name": "ProgressStyleModel",
      "state": {
       "description_width": ""
      }
     },
     "9305bbf74e6c477b90e18370820258f9": {
      "model_module": "@jupyter-widgets/base",
      "model_module_version": "2.0.0",
      "model_name": "LayoutModel",
      "state": {}
     },
     "930c2dc748f949c38db640fb0b500ba9": {
      "model_module": "@jupyter-widgets/controls",
      "model_module_version": "2.0.0",
      "model_name": "HTMLStyleModel",
      "state": {
       "description_width": "",
       "font_size": null,
       "text_color": null
      }
     },
     "93164bf7696b4429a30013f5fbe81a54": {
      "model_module": "@jupyter-widgets/base",
      "model_module_version": "2.0.0",
      "model_name": "LayoutModel",
      "state": {}
     },
     "93234eaf9ff54aa190dca2314e43a100": {
      "model_module": "@jupyter-widgets/controls",
      "model_module_version": "2.0.0",
      "model_name": "HTMLModel",
      "state": {
       "layout": "IPY_MODEL_d2a048a6e9ff4ab088999cb8f1819006",
       "style": "IPY_MODEL_c3c555b95623404a9914a7bbe5572511",
       "value": "Validation DataLoader 0: 100%"
      }
     },
     "932e6acd30814b6da4eca1148aa8a63f": {
      "model_module": "@jupyter-widgets/controls",
      "model_module_version": "2.0.0",
      "model_name": "ProgressStyleModel",
      "state": {
       "description_width": ""
      }
     },
     "935d4a5db57a4e01b0b889a75909ce2f": {
      "model_module": "@jupyter-widgets/controls",
      "model_module_version": "2.0.0",
      "model_name": "HTMLStyleModel",
      "state": {
       "description_width": "",
       "font_size": null,
       "text_color": null
      }
     },
     "93743e77cff04085bc8f8174bc0daf8b": {
      "model_module": "@jupyter-widgets/base",
      "model_module_version": "2.0.0",
      "model_name": "LayoutModel",
      "state": {
       "flex": "2"
      }
     },
     "937af538a9d24e90b032f67f88b8fbdb": {
      "model_module": "@jupyter-widgets/controls",
      "model_module_version": "2.0.0",
      "model_name": "FloatProgressModel",
      "state": {
       "bar_style": "success",
       "layout": "IPY_MODEL_f96af865e8aa459fb3bb6e1e27378ba2",
       "max": 80,
       "style": "IPY_MODEL_647f494fdb984a66bcc95740bb87312c",
       "value": 80
      }
     },
     "9391ae00aa5d4df4aa81ecdcc6a749fe": {
      "model_module": "@jupyter-widgets/controls",
      "model_module_version": "2.0.0",
      "model_name": "HTMLStyleModel",
      "state": {
       "description_width": "",
       "font_size": null,
       "text_color": null
      }
     },
     "939979da941e44428a5a1dd766338f9a": {
      "model_module": "@jupyter-widgets/controls",
      "model_module_version": "2.0.0",
      "model_name": "HBoxModel",
      "state": {
       "children": [
        "IPY_MODEL_855370905bb04c3f8718c5db721eb668",
        "IPY_MODEL_e080ec17a722447f8eb94db3475cac43",
        "IPY_MODEL_f036769307ae44bf9c769a05c6b57c8e"
       ],
       "layout": "IPY_MODEL_b66c1e4804414bb99eeb849312854fb1"
      }
     },
     "939f25d0ad994d6e9af77a49d848796e": {
      "model_module": "@jupyter-widgets/base",
      "model_module_version": "2.0.0",
      "model_name": "LayoutModel",
      "state": {
       "flex": "2"
      }
     },
     "93d1adfffe90404e91f4ff94f287c34d": {
      "model_module": "@jupyter-widgets/controls",
      "model_module_version": "2.0.0",
      "model_name": "HTMLModel",
      "state": {
       "layout": "IPY_MODEL_94b3daef82aa43af9e4dfe832977ca92",
       "style": "IPY_MODEL_4efb849cc79549a59f15c634068fbd0a",
       "value": " 0/1000 [00:00&lt;?, ?it/s]"
      }
     },
     "93d9f78e94cc441c8ee8066c0800312f": {
      "model_module": "@jupyter-widgets/controls",
      "model_module_version": "2.0.0",
      "model_name": "HBoxModel",
      "state": {
       "children": [
        "IPY_MODEL_7e253192159145a8986aaa08a819d17d",
        "IPY_MODEL_245e1a4a5cc24bb3bc3736ed2b7548a6",
        "IPY_MODEL_802b205b7ac84935a8d54b240a5709bf"
       ],
       "layout": "IPY_MODEL_423218b5b1aa4c518e9a38602d1e215b"
      }
     },
     "93df76a1436e4fcea57f26f0f83f8a98": {
      "model_module": "@jupyter-widgets/controls",
      "model_module_version": "2.0.0",
      "model_name": "HTMLModel",
      "state": {
       "layout": "IPY_MODEL_026174fa01a94de298265a001369d001",
       "style": "IPY_MODEL_73cacc096c2540c4ab221bc9549e710f",
       "value": " 16/80 [01:31&lt;06:07,  5.74s/it, loss=0.0551, v_num=61, MAE=4.010, RMSE=5.060, Loss=0.0537, RegLoss=0.000]"
      }
     },
     "93f0a155c8ea47f8ac836dce6745751f": {
      "model_module": "@jupyter-widgets/controls",
      "model_module_version": "2.0.0",
      "model_name": "HBoxModel",
      "state": {
       "children": [
        "IPY_MODEL_269ac224ed4b4bf48127a2d9aa48e886",
        "IPY_MODEL_16e4a461302d4f3795b93ec23469a22c",
        "IPY_MODEL_6cff334b5a924aebab98ceb30b6ed379"
       ],
       "layout": "IPY_MODEL_a31e606bf8d24383939b385cc84a4fd1"
      }
     },
     "9405df4bb27f49b0ba15d6addb7368aa": {
      "model_module": "@jupyter-widgets/base",
      "model_module_version": "2.0.0",
      "model_name": "LayoutModel",
      "state": {}
     },
     "940c51ba744247c1a61aec427470fc7b": {
      "model_module": "@jupyter-widgets/controls",
      "model_module_version": "2.0.0",
      "model_name": "HTMLModel",
      "state": {
       "layout": "IPY_MODEL_a23e3ad1eae8497b97c17a0541ad751a",
       "style": "IPY_MODEL_e9fbeccf43e44fecb0a029ad3924cb0b",
       "value": " 0/10 [00:00&lt;?, ?it/s]"
      }
     },
     "9417c9409e08459383021b836c6bfd26": {
      "model_module": "@jupyter-widgets/controls",
      "model_module_version": "2.0.0",
      "model_name": "HTMLStyleModel",
      "state": {
       "description_width": "",
       "font_size": null,
       "text_color": null
      }
     },
     "94242b915fe0486dbc596fd7e747173a": {
      "model_module": "@jupyter-widgets/base",
      "model_module_version": "2.0.0",
      "model_name": "LayoutModel",
      "state": {
       "display": "inline-flex",
       "flex_flow": "row wrap",
       "width": "100%"
      }
     },
     "942b04c5bd9241a4a4af0c6dce3ea1c3": {
      "model_module": "@jupyter-widgets/controls",
      "model_module_version": "2.0.0",
      "model_name": "FloatProgressModel",
      "state": {
       "bar_style": "success",
       "layout": "IPY_MODEL_6c2981e361244b4d8302f8ef063a31ea",
       "max": 1,
       "style": "IPY_MODEL_4b701645f8d1453797dc551db379352e",
       "value": 1
      }
     },
     "9475f462e37b413fb6c5560302156ac2": {
      "model_module": "@jupyter-widgets/controls",
      "model_module_version": "2.0.0",
      "model_name": "FloatProgressModel",
      "state": {
       "layout": "IPY_MODEL_9e6ed892103e4e2d844f5757fb063d71",
       "max": 1,
       "style": "IPY_MODEL_598f59af126f4bd8a20bc9900b061ecc",
       "value": 1
      }
     },
     "9491aa24454c4dc8a184a6da4761ec6c": {
      "model_module": "@jupyter-widgets/controls",
      "model_module_version": "2.0.0",
      "model_name": "HTMLModel",
      "state": {
       "layout": "IPY_MODEL_a29587fbaf0d4465a68137b7ac7db474",
       "style": "IPY_MODEL_8a7428bbd74945119e53ca263a59a218",
       "value": "Epoch 19:  24%"
      }
     },
     "9495893f1e0f48db843229118c072a94": {
      "model_module": "@jupyter-widgets/base",
      "model_module_version": "2.0.0",
      "model_name": "LayoutModel",
      "state": {
       "flex": "2"
      }
     },
     "94a5495f29b6476f81f84c0847a0d920": {
      "model_module": "@jupyter-widgets/controls",
      "model_module_version": "2.0.0",
      "model_name": "HBoxModel",
      "state": {
       "children": [
        "IPY_MODEL_bae3b482a9804315b16ca2a3ac385ce3",
        "IPY_MODEL_3a62d0f4ebb74ed6bd72cd1f0f4c60ab",
        "IPY_MODEL_4c2381a649fc43d39e1bce212e7e5e91"
       ],
       "layout": "IPY_MODEL_3138bd1148874f5caec184fdf8a36092"
      }
     },
     "94a6bc693749410aba67cdca2a87a953": {
      "model_module": "@jupyter-widgets/controls",
      "model_module_version": "2.0.0",
      "model_name": "HTMLStyleModel",
      "state": {
       "description_width": "",
       "font_size": null,
       "text_color": null
      }
     },
     "94b3daef82aa43af9e4dfe832977ca92": {
      "model_module": "@jupyter-widgets/base",
      "model_module_version": "2.0.0",
      "model_name": "LayoutModel",
      "state": {}
     },
     "94d3b0d1df624df094b220f069e13677": {
      "model_module": "@jupyter-widgets/controls",
      "model_module_version": "2.0.0",
      "model_name": "HTMLStyleModel",
      "state": {
       "description_width": "",
       "font_size": null,
       "text_color": null
      }
     },
     "94de9c4a9cee412f96ec54f757edca64": {
      "model_module": "@jupyter-widgets/controls",
      "model_module_version": "2.0.0",
      "model_name": "HTMLModel",
      "state": {
       "layout": "IPY_MODEL_b6d15f905edf4fbf98e946663cdd455d",
       "style": "IPY_MODEL_01cfef312cf84fd1bf6fc89642c16e1e",
       "value": "Testing DataLoader 0: 100%"
      }
     },
     "950af2c8bd2840eeb2818be1a2a2f8ce": {
      "model_module": "@jupyter-widgets/base",
      "model_module_version": "2.0.0",
      "model_name": "LayoutModel",
      "state": {}
     },
     "951827df99b04b31a6151b6111800b32": {
      "model_module": "@jupyter-widgets/controls",
      "model_module_version": "2.0.0",
      "model_name": "ProgressStyleModel",
      "state": {
       "description_width": ""
      }
     },
     "9518d41772394c6dbdd4e36f73a1840b": {
      "model_module": "@jupyter-widgets/controls",
      "model_module_version": "2.0.0",
      "model_name": "HTMLModel",
      "state": {
       "layout": "IPY_MODEL_90360ad50133499d8830a15b908e035b",
       "style": "IPY_MODEL_7d601e2276b8497ca733464310987087",
       "value": " 0/10 [00:05&lt;?, ?it/s]"
      }
     },
     "952bc251884e487f9e069192a6f370c9": {
      "model_module": "@jupyter-widgets/controls",
      "model_module_version": "2.0.0",
      "model_name": "FloatProgressModel",
      "state": {
       "layout": "IPY_MODEL_01544979f57c4f888a0ce216860e4334",
       "max": 5,
       "style": "IPY_MODEL_9b72b93d84e6434b8e70a1ca9628d42d",
       "value": 4
      }
     },
     "9554fca29e7743c4be07a4ee6a22a699": {
      "model_module": "@jupyter-widgets/base",
      "model_module_version": "2.0.0",
      "model_name": "LayoutModel",
      "state": {}
     },
     "95667df0ca4a4b03836d37d8747a861f": {
      "model_module": "@jupyter-widgets/controls",
      "model_module_version": "2.0.0",
      "model_name": "FloatProgressModel",
      "state": {
       "bar_style": "danger",
       "layout": "IPY_MODEL_9837d5a211ac4f428e08461eba1c2131",
       "max": 10,
       "style": "IPY_MODEL_0672ddf445a941b9ba0933e3cebcf5bb"
      }
     },
     "9581fc2dfe8b4aed87b34c8e764d09e2": {
      "model_module": "@jupyter-widgets/base",
      "model_module_version": "2.0.0",
      "model_name": "LayoutModel",
      "state": {
       "display": "inline-flex",
       "flex_flow": "row wrap",
       "width": "100%"
      }
     },
     "95bf6a94d88b4f6b93fcea8bbbb6ae68": {
      "model_module": "@jupyter-widgets/controls",
      "model_module_version": "2.0.0",
      "model_name": "HTMLModel",
      "state": {
       "layout": "IPY_MODEL_2c4f631ca410483f9e229ba65f535e45",
       "style": "IPY_MODEL_d0369ce465514a418600c24793a9352d",
       "value": "Testing DataLoader 0: 100%"
      }
     },
     "95c5e126fad04066a09454eb05aacd7e": {
      "model_module": "@jupyter-widgets/controls",
      "model_module_version": "2.0.0",
      "model_name": "HTMLModel",
      "state": {
       "layout": "IPY_MODEL_3c52cf745887473d8094f59443a9d9fa",
       "style": "IPY_MODEL_12c5d762ec424a338a60c0aea4c860e3",
       "value": " 1/1 [00:00&lt;00:00, 85.72it/s]"
      }
     },
     "95c85a9917624a4fa0b827c0a0a8e446": {
      "model_module": "@jupyter-widgets/controls",
      "model_module_version": "2.0.0",
      "model_name": "FloatProgressModel",
      "state": {
       "bar_style": "success",
       "layout": "IPY_MODEL_3906d5f13c494da2b9a14e5bf45729df",
       "max": 1,
       "style": "IPY_MODEL_7b2b47386fc04c939dbd5ef20100f7a6",
       "value": 1
      }
     },
     "95d1c216b22a484395b73a11411a5a38": {
      "model_module": "@jupyter-widgets/controls",
      "model_module_version": "2.0.0",
      "model_name": "HTMLStyleModel",
      "state": {
       "description_width": "",
       "font_size": null,
       "text_color": null
      }
     },
     "95f8a80638cf484c8683dcf0d6a1289c": {
      "model_module": "@jupyter-widgets/controls",
      "model_module_version": "2.0.0",
      "model_name": "HBoxModel",
      "state": {
       "children": [
        "IPY_MODEL_18f3868d316645f6a1a21ef46ec5831b",
        "IPY_MODEL_4bf9dd7cfa53464f970ddadfbef4697e",
        "IPY_MODEL_93d1adfffe90404e91f4ff94f287c34d"
       ],
       "layout": "IPY_MODEL_5bc68dca1b264366ae1b28de6f64fd51"
      }
     },
     "95f97f9798e94533800c8bd3edf6c11d": {
      "model_module": "@jupyter-widgets/controls",
      "model_module_version": "2.0.0",
      "model_name": "FloatProgressModel",
      "state": {
       "bar_style": "success",
       "layout": "IPY_MODEL_4a5ffdaf07c344c994d606cba45c7b1b",
       "max": 80,
       "style": "IPY_MODEL_e46f692cbc3c417086c16b74c38e1cfc",
       "value": 80
      }
     },
     "9622f0c287544801bcee835c88ed360b": {
      "model_module": "@jupyter-widgets/controls",
      "model_module_version": "2.0.0",
      "model_name": "HTMLStyleModel",
      "state": {
       "description_width": "",
       "font_size": null,
       "text_color": null
      }
     },
     "962406c068704ed18f14e29ca28679e9": {
      "model_module": "@jupyter-widgets/controls",
      "model_module_version": "2.0.0",
      "model_name": "FloatProgressModel",
      "state": {
       "bar_style": "success",
       "layout": "IPY_MODEL_2964d31cf644411dbd439593f6373fbc",
       "max": 80,
       "style": "IPY_MODEL_c8ea81de82564536ac5354918aa9fcc8",
       "value": 80
      }
     },
     "964b2102f2734263800f887290751eba": {
      "model_module": "@jupyter-widgets/base",
      "model_module_version": "2.0.0",
      "model_name": "LayoutModel",
      "state": {
       "display": "inline-flex",
       "flex_flow": "row wrap",
       "width": "100%"
      }
     },
     "9668e7aa4eda4c2a8cf5d450b88483a9": {
      "model_module": "@jupyter-widgets/controls",
      "model_module_version": "2.0.0",
      "model_name": "ProgressStyleModel",
      "state": {
       "description_width": ""
      }
     },
     "96690fcbfade487dbbeea996dd9a62c6": {
      "model_module": "@jupyter-widgets/base",
      "model_module_version": "2.0.0",
      "model_name": "LayoutModel",
      "state": {}
     },
     "96accb01cd4d47e1a1c98f09b26604b2": {
      "model_module": "@jupyter-widgets/controls",
      "model_module_version": "2.0.0",
      "model_name": "HTMLModel",
      "state": {
       "layout": "IPY_MODEL_5867a5ec4fff4338900acbb93869add0",
       "style": "IPY_MODEL_16455fb029ee4880a46a700baacf5291",
       "value": "  0%"
      }
     },
     "96caee3eebb3469cb42e3fe24c45067f": {
      "model_module": "@jupyter-widgets/controls",
      "model_module_version": "2.0.0",
      "model_name": "ProgressStyleModel",
      "state": {
       "description_width": ""
      }
     },
     "96f161b920954228b68427c325b7901d": {
      "model_module": "@jupyter-widgets/base",
      "model_module_version": "2.0.0",
      "model_name": "LayoutModel",
      "state": {}
     },
     "97088c69e19e403caab079f1751b7691": {
      "model_module": "@jupyter-widgets/base",
      "model_module_version": "2.0.0",
      "model_name": "LayoutModel",
      "state": {}
     },
     "972cef6d34c247058721257716d06644": {
      "model_module": "@jupyter-widgets/controls",
      "model_module_version": "2.0.0",
      "model_name": "FloatProgressModel",
      "state": {
       "bar_style": "danger",
       "layout": "IPY_MODEL_e8b2d3922b4f42e295d45db429f1e501",
       "max": 10,
       "style": "IPY_MODEL_9c2027602f4e43bb94835f73c38984e4"
      }
     },
     "973494a906ca4565b62829a6391c3ddb": {
      "model_module": "@jupyter-widgets/controls",
      "model_module_version": "2.0.0",
      "model_name": "HTMLModel",
      "state": {
       "layout": "IPY_MODEL_12329fc7347249818a06f3ed9bdcb733",
       "style": "IPY_MODEL_28463e9717fb44baa24848fb75f80eeb",
       "value": " 80/80 [00:01&lt;00:00, 71.04it/s, loss=0.129]"
      }
     },
     "973737d30dba422b8407292494487daf": {
      "model_module": "@jupyter-widgets/controls",
      "model_module_version": "2.0.0",
      "model_name": "HTMLStyleModel",
      "state": {
       "description_width": "",
       "font_size": null,
       "text_color": null
      }
     },
     "9745ad681a694fa195d9f500e710db95": {
      "model_module": "@jupyter-widgets/controls",
      "model_module_version": "2.0.0",
      "model_name": "HTMLModel",
      "state": {
       "layout": "IPY_MODEL_9bd5f536639e401c9a87c6586cfb0b54",
       "style": "IPY_MODEL_9391ae00aa5d4df4aa81ecdcc6a749fe",
       "value": " 80/80 [00:00&lt;00:00, 102.30it/s, loss=0.0656, v_num=0, MAE=3.940, RMSE=5.010, Loss=0.0654, RegLoss=0.00365]"
      }
     },
     "975a59476a9844ec8655ee09e82f6c4d": {
      "model_module": "@jupyter-widgets/controls",
      "model_module_version": "2.0.0",
      "model_name": "HTMLStyleModel",
      "state": {
       "description_width": "",
       "font_size": null,
       "text_color": null
      }
     },
     "976751c4ba824eb985c7aeae100665ae": {
      "model_module": "@jupyter-widgets/controls",
      "model_module_version": "2.0.0",
      "model_name": "HTMLStyleModel",
      "state": {
       "description_width": "",
       "font_size": null,
       "text_color": null
      }
     },
     "97797fa3a60b47e795cf421739395467": {
      "model_module": "@jupyter-widgets/controls",
      "model_module_version": "2.0.0",
      "model_name": "HTMLModel",
      "state": {
       "layout": "IPY_MODEL_cfb9eab8b93248e6b135006b658e2a0e",
       "style": "IPY_MODEL_0e3050ec8e184db198055d8dcd1f257d",
       "value": " 1/1 [00:00&lt;00:00, 115.75it/s]"
      }
     },
     "977bfa42eace4e79a30232c4719be348": {
      "model_module": "@jupyter-widgets/controls",
      "model_module_version": "2.0.0",
      "model_name": "HTMLModel",
      "state": {
       "layout": "IPY_MODEL_1e662d6be96448e18153b19aba440fd4",
       "style": "IPY_MODEL_9a6f04c7fb334c42a7d5df7cf581d222",
       "value": "Epoch 53:  66%"
      }
     },
     "97b21d9bb9fc45189f5046ea966cd4b0": {
      "model_module": "@jupyter-widgets/controls",
      "model_module_version": "2.0.0",
      "model_name": "HTMLModel",
      "state": {
       "layout": "IPY_MODEL_3a540e81c13745b7869f7c399ecdb3f2",
       "style": "IPY_MODEL_6fa6ede631a543a0b4dd87e4a06a3782",
       "value": " 53/80 [04:13&lt;02:08,  4.78s/it, loss=0.0566]"
      }
     },
     "97eb7e331440421a9e567da413c96f46": {
      "model_module": "@jupyter-widgets/controls",
      "model_module_version": "2.0.0",
      "model_name": "ProgressStyleModel",
      "state": {
       "description_width": ""
      }
     },
     "97fd468eee6044608e50aab78c7e61c3": {
      "model_module": "@jupyter-widgets/controls",
      "model_module_version": "2.0.0",
      "model_name": "HTMLModel",
      "state": {
       "layout": "IPY_MODEL_1ebe26fc2412408fa968376250dccdce",
       "style": "IPY_MODEL_9d352ba4de0342bf8aed25eafd83b813",
       "value": "Epoch 1:   1%"
      }
     },
     "980f100f3b9d458c985d99e6de619887": {
      "model_module": "@jupyter-widgets/base",
      "model_module_version": "2.0.0",
      "model_name": "LayoutModel",
      "state": {
       "flex": "2"
      }
     },
     "9811c371047c41e4bb3d9e71151aaf13": {
      "model_module": "@jupyter-widgets/base",
      "model_module_version": "2.0.0",
      "model_name": "LayoutModel",
      "state": {
       "display": "inline-flex",
       "flex_flow": "row wrap",
       "visibility": "hidden",
       "width": "100%"
      }
     },
     "9814cf3757884b079758f6ae47a734a5": {
      "model_module": "@jupyter-widgets/base",
      "model_module_version": "2.0.0",
      "model_name": "LayoutModel",
      "state": {}
     },
     "981a0c552e5a49f284f97e08b8f1ec86": {
      "model_module": "@jupyter-widgets/base",
      "model_module_version": "2.0.0",
      "model_name": "LayoutModel",
      "state": {
       "display": "inline-flex",
       "flex_flow": "row wrap",
       "width": "100%"
      }
     },
     "9837d5a211ac4f428e08461eba1c2131": {
      "model_module": "@jupyter-widgets/base",
      "model_module_version": "2.0.0",
      "model_name": "LayoutModel",
      "state": {}
     },
     "987fb968e49d41a69f781607f425ddbe": {
      "model_module": "@jupyter-widgets/controls",
      "model_module_version": "2.0.0",
      "model_name": "FloatProgressModel",
      "state": {
       "bar_style": "success",
       "layout": "IPY_MODEL_81be869575744247b927c629cbc00de9",
       "max": 1,
       "style": "IPY_MODEL_11a0782103ba4742a9fd1e49ee31f25f",
       "value": 1
      }
     },
     "98891c0affc44f9e882dd57a40d58443": {
      "model_module": "@jupyter-widgets/base",
      "model_module_version": "2.0.0",
      "model_name": "LayoutModel",
      "state": {}
     },
     "98912cf4110c43538ca82ef7fbd68528": {
      "model_module": "@jupyter-widgets/controls",
      "model_module_version": "2.0.0",
      "model_name": "FloatProgressModel",
      "state": {
       "bar_style": "success",
       "layout": "IPY_MODEL_fc2880533c2a4c6c8d5ae951155d39a0",
       "max": 1,
       "style": "IPY_MODEL_138a6ba303db4d3c8c08e1b68e59565a",
       "value": 1
      }
     },
     "98c7fc472743492ab6cf34be6766c007": {
      "model_module": "@jupyter-widgets/controls",
      "model_module_version": "2.0.0",
      "model_name": "FloatProgressModel",
      "state": {
       "bar_style": "success",
       "layout": "IPY_MODEL_76d1b74c093a4d38bc9072a2a27688bc",
       "max": 5,
       "style": "IPY_MODEL_b06605c8ebd44e0497fdc14f1329e808",
       "value": 5
      }
     },
     "98cff60fba30490db7f594ae29515b58": {
      "model_module": "@jupyter-widgets/controls",
      "model_module_version": "2.0.0",
      "model_name": "HTMLStyleModel",
      "state": {
       "description_width": "",
       "font_size": null,
       "text_color": null
      }
     },
     "98d619a1b1bb4f4d844764453d577751": {
      "model_module": "@jupyter-widgets/base",
      "model_module_version": "2.0.0",
      "model_name": "LayoutModel",
      "state": {}
     },
     "98d8e2761bf847bea13a99421838542a": {
      "model_module": "@jupyter-widgets/controls",
      "model_module_version": "2.0.0",
      "model_name": "HTMLStyleModel",
      "state": {
       "description_width": "",
       "font_size": null,
       "text_color": null
      }
     },
     "98dd4ee04703412da58024bfe0340cfc": {
      "model_module": "@jupyter-widgets/base",
      "model_module_version": "2.0.0",
      "model_name": "LayoutModel",
      "state": {}
     },
     "98e425d64a474f6dae003be5aab6e693": {
      "model_module": "@jupyter-widgets/controls",
      "model_module_version": "2.0.0",
      "model_name": "ProgressStyleModel",
      "state": {
       "description_width": ""
      }
     },
     "98e84ec544674565b12ec9245a6f675b": {
      "model_module": "@jupyter-widgets/base",
      "model_module_version": "2.0.0",
      "model_name": "LayoutModel",
      "state": {}
     },
     "98ee91fc951e40c0ba8aa018fa03d030": {
      "model_module": "@jupyter-widgets/controls",
      "model_module_version": "2.0.0",
      "model_name": "HBoxModel",
      "state": {
       "children": [
        "IPY_MODEL_d01ce7ddc323406a930ad9819ce648a2",
        "IPY_MODEL_f09abc734d4946deb7b42cd00bda1f43",
        "IPY_MODEL_7b783602643746c69605e508933b8c66"
       ],
       "layout": "IPY_MODEL_50d5fafa71b14fe194c1d5fe62c89a14"
      }
     },
     "990843da84584c20b4798dfd73731112": {
      "model_module": "@jupyter-widgets/controls",
      "model_module_version": "2.0.0",
      "model_name": "ProgressStyleModel",
      "state": {
       "description_width": ""
      }
     },
     "991d768604e3475686c8cd209a4c54a1": {
      "model_module": "@jupyter-widgets/controls",
      "model_module_version": "2.0.0",
      "model_name": "FloatProgressModel",
      "state": {
       "bar_style": "danger",
       "layout": "IPY_MODEL_9fe5c78ae85549898a47d66d79d980a7",
       "max": 10,
       "style": "IPY_MODEL_0fae48e9b6a14041beb24c739308c8df"
      }
     },
     "993064ed04004de482168ffcde8e980d": {
      "model_module": "@jupyter-widgets/controls",
      "model_module_version": "2.0.0",
      "model_name": "HTMLStyleModel",
      "state": {
       "description_width": "",
       "font_size": null,
       "text_color": null
      }
     },
     "9932b77bc63e4847a7faede2dda1a612": {
      "model_module": "@jupyter-widgets/base",
      "model_module_version": "2.0.0",
      "model_name": "LayoutModel",
      "state": {
       "display": "inline-flex",
       "flex_flow": "row wrap",
       "width": "100%"
      }
     },
     "9970253ee4c042b8a2bc74a2707f7b3c": {
      "model_module": "@jupyter-widgets/controls",
      "model_module_version": "2.0.0",
      "model_name": "HTMLStyleModel",
      "state": {
       "description_width": "",
       "font_size": null,
       "text_color": null
      }
     },
     "997a0b5f97c74f40ac6a29ffe7ad70b5": {
      "model_module": "@jupyter-widgets/base",
      "model_module_version": "2.0.0",
      "model_name": "LayoutModel",
      "state": {}
     },
     "99afad43fe454273a7a6208c63aa07be": {
      "model_module": "@jupyter-widgets/controls",
      "model_module_version": "2.0.0",
      "model_name": "HTMLModel",
      "state": {
       "layout": "IPY_MODEL_8eabe00b2b064c64b2f972973dfa135d",
       "style": "IPY_MODEL_a62db5a0bb9b49dd8a142177d8fc8fde",
       "value": "Epoch 1:   1%"
      }
     },
     "99b0b09058cd480594585b4cf2ec563a": {
      "model_module": "@jupyter-widgets/controls",
      "model_module_version": "2.0.0",
      "model_name": "HTMLStyleModel",
      "state": {
       "description_width": "",
       "font_size": null,
       "text_color": null
      }
     },
     "99f76f36a492422dbb942e8db801072f": {
      "model_module": "@jupyter-widgets/base",
      "model_module_version": "2.0.0",
      "model_name": "LayoutModel",
      "state": {}
     },
     "9a10d30a702b4e53bb7438c39c655236": {
      "model_module": "@jupyter-widgets/controls",
      "model_module_version": "2.0.0",
      "model_name": "ProgressStyleModel",
      "state": {
       "description_width": ""
      }
     },
     "9a68cb5e5b124c3f876e82cf4fa0e658": {
      "model_module": "@jupyter-widgets/controls",
      "model_module_version": "2.0.0",
      "model_name": "ProgressStyleModel",
      "state": {
       "description_width": ""
      }
     },
     "9a6a68bfe8044e5186bdcb8663cfd2c1": {
      "model_module": "@jupyter-widgets/controls",
      "model_module_version": "2.0.0",
      "model_name": "ProgressStyleModel",
      "state": {
       "description_width": ""
      }
     },
     "9a6f04c7fb334c42a7d5df7cf581d222": {
      "model_module": "@jupyter-widgets/controls",
      "model_module_version": "2.0.0",
      "model_name": "HTMLStyleModel",
      "state": {
       "description_width": "",
       "font_size": null,
       "text_color": null
      }
     },
     "9a721656333e4f0ab19c49d7d00fb017": {
      "model_module": "@jupyter-widgets/controls",
      "model_module_version": "2.0.0",
      "model_name": "FloatProgressModel",
      "state": {
       "bar_style": "danger",
       "layout": "IPY_MODEL_25804bedb6aa412a9db1bb8332fab2d4",
       "max": 80,
       "style": "IPY_MODEL_10e9f4eb6528492b8b1ec9d6d2865649",
       "value": 5
      }
     },
     "9a9739f1e33a47e795a737ec095abeab": {
      "model_module": "@jupyter-widgets/base",
      "model_module_version": "2.0.0",
      "model_name": "LayoutModel",
      "state": {
       "display": "inline-flex",
       "flex_flow": "row wrap",
       "visibility": "hidden",
       "width": "100%"
      }
     },
     "9aed358f87a9497082fc5990b99ce748": {
      "model_module": "@jupyter-widgets/controls",
      "model_module_version": "2.0.0",
      "model_name": "FloatProgressModel",
      "state": {
       "bar_style": "danger",
       "layout": "IPY_MODEL_e24f80829dac42e2b413c023b60ffb5c",
       "max": 5,
       "style": "IPY_MODEL_029a95c7cdcd414a92625f2d57692f30",
       "value": 4
      }
     },
     "9b0a82914aa94f8e9e880deb4b894739": {
      "model_module": "@jupyter-widgets/controls",
      "model_module_version": "2.0.0",
      "model_name": "HTMLStyleModel",
      "state": {
       "description_width": "",
       "font_size": null,
       "text_color": null
      }
     },
     "9b0fd699a64e4bad97cc92dfd5844a75": {
      "model_module": "@jupyter-widgets/controls",
      "model_module_version": "2.0.0",
      "model_name": "FloatProgressModel",
      "state": {
       "bar_style": "danger",
       "layout": "IPY_MODEL_41650d72089d451f8208159f95a58acd",
       "max": 80,
       "style": "IPY_MODEL_45f272c192ec4596a2d19e94734468da",
       "value": 53
      }
     },
     "9b499c4f4dc941e99f7f032e434406a2": {
      "model_module": "@jupyter-widgets/base",
      "model_module_version": "2.0.0",
      "model_name": "LayoutModel",
      "state": {
       "flex": "2"
      }
     },
     "9b72b93d84e6434b8e70a1ca9628d42d": {
      "model_module": "@jupyter-widgets/controls",
      "model_module_version": "2.0.0",
      "model_name": "ProgressStyleModel",
      "state": {
       "description_width": ""
      }
     },
     "9b757b5579d3454eaaa96056cb9c16de": {
      "model_module": "@jupyter-widgets/base",
      "model_module_version": "2.0.0",
      "model_name": "LayoutModel",
      "state": {}
     },
     "9b7c43b321e045a1899b938d3e81533d": {
      "model_module": "@jupyter-widgets/base",
      "model_module_version": "2.0.0",
      "model_name": "LayoutModel",
      "state": {
       "display": "inline-flex",
       "flex_flow": "row wrap",
       "width": "100%"
      }
     },
     "9b8987b3ca26431682c5e0c4e3941136": {
      "model_module": "@jupyter-widgets/controls",
      "model_module_version": "2.0.0",
      "model_name": "HTMLStyleModel",
      "state": {
       "description_width": "",
       "font_size": null,
       "text_color": null
      }
     },
     "9b8c113f3523495bb8dddd0cb84c2323": {
      "model_module": "@jupyter-widgets/controls",
      "model_module_version": "2.0.0",
      "model_name": "FloatProgressModel",
      "state": {
       "bar_style": "success",
       "layout": "IPY_MODEL_05f64315f34840de8405f67cc856d91f",
       "max": 1,
       "style": "IPY_MODEL_8a89ad31966847a6a9c3d957192e6e78",
       "value": 1
      }
     },
     "9b960bbf0d6748a5b4fb22eb79570e69": {
      "model_module": "@jupyter-widgets/base",
      "model_module_version": "2.0.0",
      "model_name": "LayoutModel",
      "state": {
       "display": "inline-flex",
       "flex_flow": "row wrap",
       "width": "100%"
      }
     },
     "9ba82b86a5c64f99b1c12a40a966ce9e": {
      "model_module": "@jupyter-widgets/base",
      "model_module_version": "2.0.0",
      "model_name": "LayoutModel",
      "state": {
       "flex": "2"
      }
     },
     "9badc4edb7ca4543ba9a96a1d6dcaabb": {
      "model_module": "@jupyter-widgets/controls",
      "model_module_version": "2.0.0",
      "model_name": "HTMLModel",
      "state": {
       "layout": "IPY_MODEL_475028e1d77345abb4b5c96d4b740761",
       "style": "IPY_MODEL_659473577ddb4b6c8bccf6380389c82b",
       "value": " 0/10 [01:01&lt;?, ?it/s]"
      }
     },
     "9bc933a9a57749abbc7591ee9046fefb": {
      "model_module": "@jupyter-widgets/base",
      "model_module_version": "2.0.0",
      "model_name": "LayoutModel",
      "state": {}
     },
     "9bd5f536639e401c9a87c6586cfb0b54": {
      "model_module": "@jupyter-widgets/base",
      "model_module_version": "2.0.0",
      "model_name": "LayoutModel",
      "state": {}
     },
     "9bfa2e13719b48d1908770e8938464c4": {
      "model_module": "@jupyter-widgets/controls",
      "model_module_version": "2.0.0",
      "model_name": "HBoxModel",
      "state": {
       "children": [
        "IPY_MODEL_7495db79c30a4643ac0d430dc02854be",
        "IPY_MODEL_10a1eff775124a4887833677156df6e3",
        "IPY_MODEL_41b4fbdeedad45429b63ea37ac051903"
       ],
       "layout": "IPY_MODEL_0a6c3c25ca464b1a9b8c6b5b0008837a"
      }
     },
     "9c00d1f341c34caca1f8e321d710e4ea": {
      "model_module": "@jupyter-widgets/base",
      "model_module_version": "2.0.0",
      "model_name": "LayoutModel",
      "state": {}
     },
     "9c0253eaed2a4be68e83e5ff90cebe53": {
      "model_module": "@jupyter-widgets/controls",
      "model_module_version": "2.0.0",
      "model_name": "ProgressStyleModel",
      "state": {
       "description_width": ""
      }
     },
     "9c0c437f597a4ebcbb958e0d600121bd": {
      "model_module": "@jupyter-widgets/controls",
      "model_module_version": "2.0.0",
      "model_name": "HTMLModel",
      "state": {
       "layout": "IPY_MODEL_2e66c6dcdd134e92bad915ec2170b827",
       "style": "IPY_MODEL_c0693a52d4e04a2a8191f7548c0804dc",
       "value": " 0/10 [00:00&lt;?, ?it/s]"
      }
     },
     "9c180b5716af47aeac87e31e0181eec7": {
      "model_module": "@jupyter-widgets/controls",
      "model_module_version": "2.0.0",
      "model_name": "HTMLStyleModel",
      "state": {
       "description_width": "",
       "font_size": null,
       "text_color": null
      }
     },
     "9c2027602f4e43bb94835f73c38984e4": {
      "model_module": "@jupyter-widgets/controls",
      "model_module_version": "2.0.0",
      "model_name": "ProgressStyleModel",
      "state": {
       "description_width": ""
      }
     },
     "9c2623ac21d740dca60ac2b734f57ed4": {
      "model_module": "@jupyter-widgets/base",
      "model_module_version": "2.0.0",
      "model_name": "LayoutModel",
      "state": {
       "display": "inline-flex",
       "flex_flow": "row wrap",
       "width": "100%"
      }
     },
     "9c768a3f5afb431d90fdfdddddf69c09": {
      "model_module": "@jupyter-widgets/controls",
      "model_module_version": "2.0.0",
      "model_name": "HTMLModel",
      "state": {
       "layout": "IPY_MODEL_30038a0b636c4542befbb784c64f8a61",
       "style": "IPY_MODEL_c4099e96ce2341e8accb31e0aa8a6345",
       "value": " 1/1 [00:00&lt;00:00, 106.63it/s]"
      }
     },
     "9c896a79a9c14e46975b8e33c68830f2": {
      "model_module": "@jupyter-widgets/controls",
      "model_module_version": "2.0.0",
      "model_name": "HTMLModel",
      "state": {
       "layout": "IPY_MODEL_639cf85ba8c94671a9f328e3a2ed7d8c",
       "style": "IPY_MODEL_b985aca381244d9c84671b18b7e6c334",
       "value": " 1/1 [00:00&lt;00:00, 85.38it/s]"
      }
     },
     "9caf95f3aa7d49729c03f6484ef8d2ec": {
      "model_module": "@jupyter-widgets/base",
      "model_module_version": "2.0.0",
      "model_name": "LayoutModel",
      "state": {}
     },
     "9cdb19e737f54ba7a9be88bc9e7def95": {
      "model_module": "@jupyter-widgets/controls",
      "model_module_version": "2.0.0",
      "model_name": "HBoxModel",
      "state": {
       "children": [
        "IPY_MODEL_4c7df85db163493481bb55f091a2b4d5",
        "IPY_MODEL_083f58b044774be986cebbcb955bb4ed",
        "IPY_MODEL_8751d60207754e5a88d29fd0096c2ad0"
       ],
       "layout": "IPY_MODEL_981a0c552e5a49f284f97e08b8f1ec86"
      }
     },
     "9ced10d770ff420f986d19834a4951d0": {
      "model_module": "@jupyter-widgets/controls",
      "model_module_version": "2.0.0",
      "model_name": "HTMLModel",
      "state": {
       "layout": "IPY_MODEL_98dd4ee04703412da58024bfe0340cfc",
       "style": "IPY_MODEL_2dbd5668a92543c095ca722368ea7fd9",
       "value": "Testing DataLoader 0: 100%"
      }
     },
     "9cee885dffa54fbaabb2b1d7c0d23dec": {
      "model_module": "@jupyter-widgets/controls",
      "model_module_version": "2.0.0",
      "model_name": "FloatProgressModel",
      "state": {
       "bar_style": "success",
       "layout": "IPY_MODEL_d35c25e5566f49b08f5151c16829b110",
       "max": 1,
       "style": "IPY_MODEL_4ce7f598e81f46a1818f39cd334e05c2",
       "value": 1
      }
     },
     "9cf2d0999d214707b5d5e737212ce1ec": {
      "model_module": "@jupyter-widgets/controls",
      "model_module_version": "2.0.0",
      "model_name": "ProgressStyleModel",
      "state": {
       "description_width": ""
      }
     },
     "9cfc64b51c0d484b9d7a726328bb9a3e": {
      "model_module": "@jupyter-widgets/controls",
      "model_module_version": "2.0.0",
      "model_name": "FloatProgressModel",
      "state": {
       "bar_style": "danger",
       "layout": "IPY_MODEL_13ba65edc32240d9a2316d0da01d3101",
       "max": 10,
       "style": "IPY_MODEL_3ee0e014fdd6459282708d1cc86c43f3"
      }
     },
     "9d1102e542b8460e9cc7767a3d6c7c60": {
      "model_module": "@jupyter-widgets/base",
      "model_module_version": "2.0.0",
      "model_name": "LayoutModel",
      "state": {}
     },
     "9d352ba4de0342bf8aed25eafd83b813": {
      "model_module": "@jupyter-widgets/controls",
      "model_module_version": "2.0.0",
      "model_name": "HTMLStyleModel",
      "state": {
       "description_width": "",
       "font_size": null,
       "text_color": null
      }
     },
     "9d3bc79138884751bd0cc90c069f84a4": {
      "model_module": "@jupyter-widgets/controls",
      "model_module_version": "2.0.0",
      "model_name": "HTMLStyleModel",
      "state": {
       "description_width": "",
       "font_size": null,
       "text_color": null
      }
     },
     "9d5aa6e38f9d4293a8b3c70a51512296": {
      "model_module": "@jupyter-widgets/controls",
      "model_module_version": "2.0.0",
      "model_name": "ProgressStyleModel",
      "state": {
       "description_width": ""
      }
     },
     "9d5b09dbd4cb456fb9277c1b7de6a8d6": {
      "model_module": "@jupyter-widgets/controls",
      "model_module_version": "2.0.0",
      "model_name": "HTMLModel",
      "state": {
       "layout": "IPY_MODEL_222019c00df042f8897af2e4e3ae163a",
       "style": "IPY_MODEL_a60677ee455b4bd092477db531b3c291",
       "value": " 0/1 [00:01&lt;?, ?it/s]"
      }
     },
     "9d614f6a195744c18fc6f7bff0f44cc8": {
      "model_module": "@jupyter-widgets/controls",
      "model_module_version": "2.0.0",
      "model_name": "HTMLModel",
      "state": {
       "layout": "IPY_MODEL_088a97b97b754ada9224ca39ee7e6f58",
       "style": "IPY_MODEL_f9f63af8d55e4e88884bfaa4afa5afab",
       "value": "Epoch 5: 100%"
      }
     },
     "9d676a9a70ea4781bb369b796744ae15": {
      "model_module": "@jupyter-widgets/base",
      "model_module_version": "2.0.0",
      "model_name": "LayoutModel",
      "state": {}
     },
     "9d7063f9d591435dba2cdcc2027aa569": {
      "model_module": "@jupyter-widgets/base",
      "model_module_version": "2.0.0",
      "model_name": "LayoutModel",
      "state": {
       "flex": "2"
      }
     },
     "9d93f3b67a6141d0965c8117dd404c18": {
      "model_module": "@jupyter-widgets/controls",
      "model_module_version": "2.0.0",
      "model_name": "ProgressStyleModel",
      "state": {
       "description_width": ""
      }
     },
     "9da7437c6f8541ed897130a15ef6316c": {
      "model_module": "@jupyter-widgets/base",
      "model_module_version": "2.0.0",
      "model_name": "LayoutModel",
      "state": {}
     },
     "9dc42ab3a0284535987019e757d467eb": {
      "model_module": "@jupyter-widgets/base",
      "model_module_version": "2.0.0",
      "model_name": "LayoutModel",
      "state": {}
     },
     "9e0cf5ed6e67400c97e0e4ad7400d07d": {
      "model_module": "@jupyter-widgets/base",
      "model_module_version": "2.0.0",
      "model_name": "LayoutModel",
      "state": {}
     },
     "9e19379973d746c8bafb4dab056beb6c": {
      "model_module": "@jupyter-widgets/base",
      "model_module_version": "2.0.0",
      "model_name": "LayoutModel",
      "state": {}
     },
     "9e1ab3c7facf4ffa9a917f6a41349853": {
      "model_module": "@jupyter-widgets/controls",
      "model_module_version": "2.0.0",
      "model_name": "HBoxModel",
      "state": {
       "children": [
        "IPY_MODEL_92fba87302984ba59d0fc0529fc78b2a",
        "IPY_MODEL_11187b0c588c4e6bbaa76ed6b4277e5f",
        "IPY_MODEL_b8221682090e4e68adb9496a7948bd83"
       ],
       "layout": "IPY_MODEL_49a5a8572b824735a24086c0533d6bdb"
      }
     },
     "9e2b8ef360f9441888679107c8bf99b1": {
      "model_module": "@jupyter-widgets/controls",
      "model_module_version": "2.0.0",
      "model_name": "HBoxModel",
      "state": {
       "children": [
        "IPY_MODEL_6dd57d815b9b496cb1b68fd6f2903c24",
        "IPY_MODEL_bb38cfdd26234a7c9708772d54152fc9",
        "IPY_MODEL_0af711e6ba4448d393fc8a95f3a8c400"
       ],
       "layout": "IPY_MODEL_73c5f540459245899243d5418c4e15aa"
      }
     },
     "9e32bb127ac542648f8c4f4302e06376": {
      "model_module": "@jupyter-widgets/base",
      "model_module_version": "2.0.0",
      "model_name": "LayoutModel",
      "state": {
       "display": "inline-flex",
       "flex_flow": "row wrap",
       "width": "100%"
      }
     },
     "9e4b4e41347c4c70af0343c3d1e2aafc": {
      "model_module": "@jupyter-widgets/controls",
      "model_module_version": "2.0.0",
      "model_name": "HTMLStyleModel",
      "state": {
       "description_width": "",
       "font_size": null,
       "text_color": null
      }
     },
     "9e4f2b21f6b1432fa654785bfe19256a": {
      "model_module": "@jupyter-widgets/controls",
      "model_module_version": "2.0.0",
      "model_name": "HTMLModel",
      "state": {
       "layout": "IPY_MODEL_8b45551f369d4b96bfb6b99db5159899",
       "style": "IPY_MODEL_408c783a0bf54cdf9a6d703b6e491b06",
       "value": " 0/10 [00:00&lt;?, ?it/s]"
      }
     },
     "9e595699a7904902a673a4d27638d80f": {
      "model_module": "@jupyter-widgets/controls",
      "model_module_version": "2.0.0",
      "model_name": "FloatProgressModel",
      "state": {
       "bar_style": "success",
       "layout": "IPY_MODEL_c93699a7efd54c20aa8f942b5309bb4d",
       "max": 80,
       "style": "IPY_MODEL_9a68cb5e5b124c3f876e82cf4fa0e658",
       "value": 80
      }
     },
     "9e5b2d3ff0684917b65aa30d6a13e420": {
      "model_module": "@jupyter-widgets/base",
      "model_module_version": "2.0.0",
      "model_name": "LayoutModel",
      "state": {
       "display": "inline-flex",
       "flex_flow": "row wrap",
       "width": "100%"
      }
     },
     "9e6ed892103e4e2d844f5757fb063d71": {
      "model_module": "@jupyter-widgets/base",
      "model_module_version": "2.0.0",
      "model_name": "LayoutModel",
      "state": {
       "flex": "2"
      }
     },
     "9e78deda2e7b4d52aa2282385c67b588": {
      "model_module": "@jupyter-widgets/controls",
      "model_module_version": "2.0.0",
      "model_name": "HTMLStyleModel",
      "state": {
       "description_width": "",
       "font_size": null,
       "text_color": null
      }
     },
     "9ebddbb36bb34023a26384f633e5e706": {
      "model_module": "@jupyter-widgets/base",
      "model_module_version": "2.0.0",
      "model_name": "LayoutModel",
      "state": {}
     },
     "9ec3497e0cdf4f41a0190e063a859d4d": {
      "model_module": "@jupyter-widgets/base",
      "model_module_version": "2.0.0",
      "model_name": "LayoutModel",
      "state": {
       "display": "inline-flex",
       "flex_flow": "row wrap",
       "width": "100%"
      }
     },
     "9eea3d9f58f84a69821194098fa8a97e": {
      "model_module": "@jupyter-widgets/controls",
      "model_module_version": "2.0.0",
      "model_name": "HTMLModel",
      "state": {
       "layout": "IPY_MODEL_0b8301f3a2134fa09c5e0f59691a109f",
       "style": "IPY_MODEL_ab3ccb2096e640528b1ca984b79031be",
       "value": " 1/1 [00:00&lt;00:00, 249.45it/s]"
      }
     },
     "9eef9bd63d784e78aa6f91bcc71211dc": {
      "model_module": "@jupyter-widgets/controls",
      "model_module_version": "2.0.0",
      "model_name": "HTMLStyleModel",
      "state": {
       "description_width": "",
       "font_size": null,
       "text_color": null
      }
     },
     "9ef5048d9a204b49b979be66094f0af8": {
      "model_module": "@jupyter-widgets/controls",
      "model_module_version": "2.0.0",
      "model_name": "HBoxModel",
      "state": {
       "children": [
        "IPY_MODEL_830019a8f70a492ebb64ab8e6675ecf3",
        "IPY_MODEL_2311b88765c1451d810785d3e879d836",
        "IPY_MODEL_97b21d9bb9fc45189f5046ea966cd4b0"
       ],
       "layout": "IPY_MODEL_f3f8a56b1e11469ba9b86d1a9bc42e53"
      }
     },
     "9f0944b099b14102ade9d7fe84478d1b": {
      "model_module": "@jupyter-widgets/base",
      "model_module_version": "2.0.0",
      "model_name": "LayoutModel",
      "state": {}
     },
     "9f12b0b364c1440e9a813a530d1a3318": {
      "model_module": "@jupyter-widgets/controls",
      "model_module_version": "2.0.0",
      "model_name": "HTMLStyleModel",
      "state": {
       "description_width": "",
       "font_size": null,
       "text_color": null
      }
     },
     "9f3152eec30b45bea6a10811de6ec64a": {
      "model_module": "@jupyter-widgets/controls",
      "model_module_version": "2.0.0",
      "model_name": "HTMLStyleModel",
      "state": {
       "description_width": "",
       "font_size": null,
       "text_color": null
      }
     },
     "9f4d522a0387487599fbc029466b2017": {
      "model_module": "@jupyter-widgets/base",
      "model_module_version": "2.0.0",
      "model_name": "LayoutModel",
      "state": {}
     },
     "9f4e476845c340fda5d2aadd1544689f": {
      "model_module": "@jupyter-widgets/controls",
      "model_module_version": "2.0.0",
      "model_name": "ProgressStyleModel",
      "state": {
       "description_width": ""
      }
     },
     "9f8cff23f41040478ecb22e297d34cc5": {
      "model_module": "@jupyter-widgets/controls",
      "model_module_version": "2.0.0",
      "model_name": "HTMLStyleModel",
      "state": {
       "description_width": "",
       "font_size": null,
       "text_color": null
      }
     },
     "9fcbd6b7d1e849489a6ff6b4293413d6": {
      "model_module": "@jupyter-widgets/controls",
      "model_module_version": "2.0.0",
      "model_name": "HTMLModel",
      "state": {
       "layout": "IPY_MODEL_e60bd10c58aa4dfeab57453d6ccc89ab",
       "style": "IPY_MODEL_c18c22d2f2d24de49883c44de0f28ab0",
       "value": " 53/80 [10:24&lt;05:17, 11.78s/it, loss=0.0539, v_num=1, MAE=3.560, RMSE=4.530, Loss=0.0527, RegLoss=0.000]"
      }
     },
     "9fdb393a2a4f41f88d362f54475bfc90": {
      "model_module": "@jupyter-widgets/controls",
      "model_module_version": "2.0.0",
      "model_name": "HBoxModel",
      "state": {
       "children": [
        "IPY_MODEL_fbddf211b9184451b0bc57947d4889f8",
        "IPY_MODEL_7207c907426d4f53b329f99728b61c5d",
        "IPY_MODEL_d69e9693086c472b9d8054996939449c"
       ],
       "layout": "IPY_MODEL_3da09cef04554d4480cfd50826dcc6c7"
      }
     },
     "9fe521ab50bc45689aa670c408a5ece4": {
      "model_module": "@jupyter-widgets/controls",
      "model_module_version": "2.0.0",
      "model_name": "HTMLModel",
      "state": {
       "layout": "IPY_MODEL_9f4d522a0387487599fbc029466b2017",
       "style": "IPY_MODEL_f23e81fa9c844c90847c512566f0e4d1",
       "value": " 2/80 [03:51&lt;2:30:31, 115.79s/it, loss=0.277, v_num=12, MAE=19.30, RMSE=24.50, Loss=0.831, RegLoss=0.000]"
      }
     },
     "9fe5bbe5771545a7895ceba0ad944932": {
      "model_module": "@jupyter-widgets/controls",
      "model_module_version": "2.0.0",
      "model_name": "FloatProgressModel",
      "state": {
       "bar_style": "success",
       "layout": "IPY_MODEL_dbd4cb1451344a0ea06e1308726c36ca",
       "max": 1,
       "style": "IPY_MODEL_20e96ad682dc4534b1b5be3493a195fe",
       "value": 1
      }
     },
     "9fe5c78ae85549898a47d66d79d980a7": {
      "model_module": "@jupyter-widgets/base",
      "model_module_version": "2.0.0",
      "model_name": "LayoutModel",
      "state": {}
     },
     "9febc49f2e06487b977bfcacac293f18": {
      "model_module": "@jupyter-widgets/controls",
      "model_module_version": "2.0.0",
      "model_name": "HTMLModel",
      "state": {
       "layout": "IPY_MODEL_10c38553bb454f49b365591cb8973e22",
       "style": "IPY_MODEL_5e78481f1074479381832d31b94fe228",
       "value": "Epoch 80: 100%"
      }
     },
     "9ff1bb2d7d1046a48cac15ee3926f62c": {
      "model_module": "@jupyter-widgets/base",
      "model_module_version": "2.0.0",
      "model_name": "LayoutModel",
      "state": {}
     },
     "9ff5b7fd1cb84252820dabc203078c7f": {
      "model_module": "@jupyter-widgets/controls",
      "model_module_version": "2.0.0",
      "model_name": "HTMLStyleModel",
      "state": {
       "description_width": "",
       "font_size": null,
       "text_color": null
      }
     },
     "a00fff96a454495eb23e3058a7ce5c66": {
      "model_module": "@jupyter-widgets/controls",
      "model_module_version": "2.0.0",
      "model_name": "HTMLStyleModel",
      "state": {
       "description_width": "",
       "font_size": null,
       "text_color": null
      }
     },
     "a01a4ee5e6e94f178638244b348518ab": {
      "model_module": "@jupyter-widgets/controls",
      "model_module_version": "2.0.0",
      "model_name": "HTMLStyleModel",
      "state": {
       "description_width": "",
       "font_size": null,
       "text_color": null
      }
     },
     "a0361cadeb6d4679bb02fae3ba990089": {
      "model_module": "@jupyter-widgets/base",
      "model_module_version": "2.0.0",
      "model_name": "LayoutModel",
      "state": {}
     },
     "a0863118b5224f898d676afbeed8f4b0": {
      "model_module": "@jupyter-widgets/base",
      "model_module_version": "2.0.0",
      "model_name": "LayoutModel",
      "state": {
       "flex": "2"
      }
     },
     "a0a02ccff53645b9a28e2454b92c4434": {
      "model_module": "@jupyter-widgets/base",
      "model_module_version": "2.0.0",
      "model_name": "LayoutModel",
      "state": {}
     },
     "a0ce2789da4d4a93bc1366860b472750": {
      "model_module": "@jupyter-widgets/controls",
      "model_module_version": "2.0.0",
      "model_name": "HTMLStyleModel",
      "state": {
       "description_width": "",
       "font_size": null,
       "text_color": null
      }
     },
     "a0d6aa0927ac430c8cc211c50d7b6b75": {
      "model_module": "@jupyter-widgets/controls",
      "model_module_version": "2.0.0",
      "model_name": "HBoxModel",
      "state": {
       "children": [
        "IPY_MODEL_5a13b084c61640deb602b58fff92b1d1",
        "IPY_MODEL_7f9466036f154b40a5cf8246b232768e",
        "IPY_MODEL_a66cc0f13eb94d8db797ffd195674626"
       ],
       "layout": "IPY_MODEL_13ec0d64188a472cbf7bbc1b2681f5b5"
      }
     },
     "a0e46d77949842e297ba5993601a913f": {
      "model_module": "@jupyter-widgets/controls",
      "model_module_version": "2.0.0",
      "model_name": "HTMLModel",
      "state": {
       "layout": "IPY_MODEL_55addd63f3004d40829a3c3bfd47ee5d",
       "style": "IPY_MODEL_6d2eefd9cc2841f49af8ea3d0af9ae20",
       "value": "Epoch 53:  66%"
      }
     },
     "a10ecef044894760ba16e1d954dc62d7": {
      "model_module": "@jupyter-widgets/base",
      "model_module_version": "2.0.0",
      "model_name": "LayoutModel",
      "state": {}
     },
     "a1185d560a0348598f15685031449f15": {
      "model_module": "@jupyter-widgets/base",
      "model_module_version": "2.0.0",
      "model_name": "LayoutModel",
      "state": {
       "display": "inline-flex",
       "flex_flow": "row wrap",
       "visibility": "hidden",
       "width": "100%"
      }
     },
     "a14364434e1b48a79f6c06e83f1467ee": {
      "model_module": "@jupyter-widgets/controls",
      "model_module_version": "2.0.0",
      "model_name": "HBoxModel",
      "state": {
       "children": [
        "IPY_MODEL_4223b8aaaf9043eabcf196ae70bf94c2",
        "IPY_MODEL_6396b9bcb875488cb1c932e61712ea12",
        "IPY_MODEL_550e107f931d44dfb4480047dfbbeb8f"
       ],
       "layout": "IPY_MODEL_6539477d358543cabf74dbb2c5ad2e6e"
      }
     },
     "a14fe98611824d178fb4545b1eb4bac1": {
      "model_module": "@jupyter-widgets/controls",
      "model_module_version": "2.0.0",
      "model_name": "ProgressStyleModel",
      "state": {
       "description_width": ""
      }
     },
     "a1972969019e484cabac12035abb8fb9": {
      "model_module": "@jupyter-widgets/base",
      "model_module_version": "2.0.0",
      "model_name": "LayoutModel",
      "state": {
       "flex": "2"
      }
     },
     "a1b247a4d59c4caeb3c6c767b5c2d3dc": {
      "model_module": "@jupyter-widgets/controls",
      "model_module_version": "2.0.0",
      "model_name": "FloatProgressModel",
      "state": {
       "layout": "IPY_MODEL_7896a639a1e94b0eb7847738984fa383",
       "max": 1,
       "style": "IPY_MODEL_efd2941a8b084af9881c8d46b5a33aaf",
       "value": 1
      }
     },
     "a1ee67202f93492ca5dd37b05ed0d732": {
      "model_module": "@jupyter-widgets/controls",
      "model_module_version": "2.0.0",
      "model_name": "ProgressStyleModel",
      "state": {
       "description_width": ""
      }
     },
     "a200157b094b4c8f990f366fb6bcb20c": {
      "model_module": "@jupyter-widgets/controls",
      "model_module_version": "2.0.0",
      "model_name": "HTMLModel",
      "state": {
       "layout": "IPY_MODEL_617e78a183ae4c8d8780ff29bf1ca414",
       "style": "IPY_MODEL_72b623052c2549c3823d8b884efc011a",
       "value": "Validation DataLoader 0: 100%"
      }
     },
     "a2391554472d4981af74c1836be0aec4": {
      "model_module": "@jupyter-widgets/controls",
      "model_module_version": "2.0.0",
      "model_name": "HTMLStyleModel",
      "state": {
       "description_width": "",
       "font_size": null,
       "text_color": null
      }
     },
     "a23c122227cd4ef98fd8ee3929c374a4": {
      "model_module": "@jupyter-widgets/controls",
      "model_module_version": "2.0.0",
      "model_name": "HTMLStyleModel",
      "state": {
       "description_width": "",
       "font_size": null,
       "text_color": null
      }
     },
     "a23e3ad1eae8497b97c17a0541ad751a": {
      "model_module": "@jupyter-widgets/base",
      "model_module_version": "2.0.0",
      "model_name": "LayoutModel",
      "state": {}
     },
     "a2426b5c439c4a7693fd75985868ecff": {
      "model_module": "@jupyter-widgets/controls",
      "model_module_version": "2.0.0",
      "model_name": "HTMLStyleModel",
      "state": {
       "description_width": "",
       "font_size": null,
       "text_color": null
      }
     },
     "a24bc6df1ed54b20910b14891170aba4": {
      "model_module": "@jupyter-widgets/controls",
      "model_module_version": "2.0.0",
      "model_name": "HTMLModel",
      "state": {
       "layout": "IPY_MODEL_4825bcd107af47f2a36a8a9d002265c7",
       "style": "IPY_MODEL_5551d009bb814846b28c828232a8c672",
       "value": " 0/10 [00:22&lt;?, ?it/s]"
      }
     },
     "a272745243c048a5a367471fbfdbc232": {
      "model_module": "@jupyter-widgets/controls",
      "model_module_version": "2.0.0",
      "model_name": "HTMLModel",
      "state": {
       "layout": "IPY_MODEL_6a5806b9689546a0a39c563c42bee9d3",
       "style": "IPY_MODEL_daa611af6c724f25bc53357f3de46e2c",
       "value": " 4/5 [01:10&lt;00:17, 17.71s/it, loss=0.0628, v_num=83, MAE=4.770, RMSE=6.170, Loss=0.0831, RegLoss=0.000]"
      }
     },
     "a273df3e887f4bb1bf592bdce67d2b1b": {
      "model_module": "@jupyter-widgets/controls",
      "model_module_version": "2.0.0",
      "model_name": "HTMLModel",
      "state": {
       "layout": "IPY_MODEL_35944a988e274e01a64b1cc768d28f13",
       "style": "IPY_MODEL_2de365da5cd04ab58c1c8c473dc4a93b",
       "value": " 9/80 [02:19&lt;18:19, 15.48s/it, loss=0.631, v_num=73, MAE_val=5.000, RMSE_val=6.020, Loss_val=0.908, RegLoss_val=0.000, MAE=4.380, RMSE=5.450, Loss=0.636, RegLoss=0.000]"
      }
     },
     "a2860b712c5648cbbf00512e4a2c54a6": {
      "model_module": "@jupyter-widgets/controls",
      "model_module_version": "2.0.0",
      "model_name": "ProgressStyleModel",
      "state": {
       "description_width": ""
      }
     },
     "a2868cf5921f498e839afca5015e7a67": {
      "model_module": "@jupyter-widgets/base",
      "model_module_version": "2.0.0",
      "model_name": "LayoutModel",
      "state": {}
     },
     "a28d950429a0494f9af43f7c62816b13": {
      "model_module": "@jupyter-widgets/controls",
      "model_module_version": "2.0.0",
      "model_name": "FloatProgressModel",
      "state": {
       "bar_style": "success",
       "layout": "IPY_MODEL_9b499c4f4dc941e99f7f032e434406a2",
       "max": 1,
       "style": "IPY_MODEL_abb44353fa954b3b9162d56407f53775",
       "value": 1
      }
     },
     "a29587fbaf0d4465a68137b7ac7db474": {
      "model_module": "@jupyter-widgets/base",
      "model_module_version": "2.0.0",
      "model_name": "LayoutModel",
      "state": {}
     },
     "a2961c5c3fa146eb8b8b5fa01c249abb": {
      "model_module": "@jupyter-widgets/controls",
      "model_module_version": "2.0.0",
      "model_name": "HTMLModel",
      "state": {
       "layout": "IPY_MODEL_3b02931ed18e4199bc5ba31a7ca5e1af",
       "style": "IPY_MODEL_8d7971b716bb49cbbf3f2726e7e00a4b",
       "value": "Testing DataLoader 0: 100%"
      }
     },
     "a2a91e69e84e478e8706410b13f6dd6b": {
      "model_module": "@jupyter-widgets/controls",
      "model_module_version": "2.0.0",
      "model_name": "FloatProgressModel",
      "state": {
       "bar_style": "danger",
       "layout": "IPY_MODEL_6b8d2b73af6d46e9b57eec64cd667ba1",
       "max": 10,
       "style": "IPY_MODEL_88a18e70fe4945f390ac82536fff4ee9"
      }
     },
     "a2ad4376344447b38caacc66d63c004c": {
      "model_module": "@jupyter-widgets/controls",
      "model_module_version": "2.0.0",
      "model_name": "HTMLStyleModel",
      "state": {
       "description_width": "",
       "font_size": null,
       "text_color": null
      }
     },
     "a31e606bf8d24383939b385cc84a4fd1": {
      "model_module": "@jupyter-widgets/base",
      "model_module_version": "2.0.0",
      "model_name": "LayoutModel",
      "state": {
       "display": "inline-flex",
       "flex_flow": "row wrap",
       "width": "100%"
      }
     },
     "a32b65ba5a3d4ca0ab316935c8ec33d8": {
      "model_module": "@jupyter-widgets/controls",
      "model_module_version": "2.0.0",
      "model_name": "ProgressStyleModel",
      "state": {
       "description_width": ""
      }
     },
     "a32c822178744bc3b9e7c476319fbb95": {
      "model_module": "@jupyter-widgets/base",
      "model_module_version": "2.0.0",
      "model_name": "LayoutModel",
      "state": {}
     },
     "a3348d2f51604c3b93f85ed13248c0af": {
      "model_module": "@jupyter-widgets/base",
      "model_module_version": "2.0.0",
      "model_name": "LayoutModel",
      "state": {
       "flex": "2"
      }
     },
     "a34406039c17431192c243d05469e7e4": {
      "model_module": "@jupyter-widgets/controls",
      "model_module_version": "2.0.0",
      "model_name": "HTMLStyleModel",
      "state": {
       "description_width": "",
       "font_size": null,
       "text_color": null
      }
     },
     "a35fab61c001416b81a11dd7f581981b": {
      "model_module": "@jupyter-widgets/controls",
      "model_module_version": "2.0.0",
      "model_name": "HTMLStyleModel",
      "state": {
       "description_width": "",
       "font_size": null,
       "text_color": null
      }
     },
     "a36b1a29d72d45279ff9ef2b353f4580": {
      "model_module": "@jupyter-widgets/base",
      "model_module_version": "2.0.0",
      "model_name": "LayoutModel",
      "state": {}
     },
     "a37beb2b98b249019010322aecfcc69c": {
      "model_module": "@jupyter-widgets/controls",
      "model_module_version": "2.0.0",
      "model_name": "HTMLStyleModel",
      "state": {
       "description_width": "",
       "font_size": null,
       "text_color": null
      }
     },
     "a38b2f9a7f634a00adf4f154db15e983": {
      "model_module": "@jupyter-widgets/controls",
      "model_module_version": "2.0.0",
      "model_name": "HTMLModel",
      "state": {
       "layout": "IPY_MODEL_34619bea19c7428ab168714f57ead768",
       "style": "IPY_MODEL_b133aec8116e40b1974d199225c4ac6a",
       "value": "Epoch 2:   2%"
      }
     },
     "a38ef5d58f1c413cb47ad437a2f9002f": {
      "model_module": "@jupyter-widgets/controls",
      "model_module_version": "2.0.0",
      "model_name": "FloatProgressModel",
      "state": {
       "bar_style": "success",
       "layout": "IPY_MODEL_2b6ffda6bdde47f391e18f1e31deaa0f",
       "max": 80,
       "style": "IPY_MODEL_78d93e012a0a4ebd9f0e5d5be46a1957",
       "value": 80
      }
     },
     "a3cd23eff60e4748b90e251ded36dccb": {
      "model_module": "@jupyter-widgets/controls",
      "model_module_version": "2.0.0",
      "model_name": "ProgressStyleModel",
      "state": {
       "description_width": ""
      }
     },
     "a3d061d06217487c98b879ae6ff3c3f1": {
      "model_module": "@jupyter-widgets/base",
      "model_module_version": "2.0.0",
      "model_name": "LayoutModel",
      "state": {
       "flex": "2"
      }
     },
     "a3f2f6f0e31d41a381ee660daac38b39": {
      "model_module": "@jupyter-widgets/controls",
      "model_module_version": "2.0.0",
      "model_name": "HTMLStyleModel",
      "state": {
       "description_width": "",
       "font_size": null,
       "text_color": null
      }
     },
     "a3fbc84403a44b0f8708ecc7d117cad2": {
      "model_module": "@jupyter-widgets/controls",
      "model_module_version": "2.0.0",
      "model_name": "ProgressStyleModel",
      "state": {
       "description_width": ""
      }
     },
     "a4357489c0cd4e588379bf8c962391dc": {
      "model_module": "@jupyter-widgets/controls",
      "model_module_version": "2.0.0",
      "model_name": "HTMLModel",
      "state": {
       "layout": "IPY_MODEL_d1f9786c710a42cd9366bbc57822abaa",
       "style": "IPY_MODEL_99b0b09058cd480594585b4cf2ec563a",
       "value": " 1/1 [00:00&lt;00:00, 248.65it/s]"
      }
     },
     "a43f2b75e1724232b2dd97b0a251bf94": {
      "model_module": "@jupyter-widgets/controls",
      "model_module_version": "2.0.0",
      "model_name": "HTMLStyleModel",
      "state": {
       "description_width": "",
       "font_size": null,
       "text_color": null
      }
     },
     "a44a0ded907b4c7a992c462df6b8de3d": {
      "model_module": "@jupyter-widgets/controls",
      "model_module_version": "2.0.0",
      "model_name": "FloatProgressModel",
      "state": {
       "layout": "IPY_MODEL_d4fa2f8c31e34b25bb20c03e8e136a31",
       "max": 1,
       "style": "IPY_MODEL_d915a6dca1f4449ea600023915c28be0",
       "value": 1
      }
     },
     "a44ab23f508e4ad28969d80d7ac17642": {
      "model_module": "@jupyter-widgets/controls",
      "model_module_version": "2.0.0",
      "model_name": "HTMLModel",
      "state": {
       "layout": "IPY_MODEL_d66ff35b8d3d44d7a4e80b65892ba4f9",
       "style": "IPY_MODEL_e038f8850d3f44eca6c8182f75e50864",
       "value": "  0%"
      }
     },
     "a47e9d86e4f74c8a8574fa7cf1baaac4": {
      "model_module": "@jupyter-widgets/controls",
      "model_module_version": "2.0.0",
      "model_name": "HBoxModel",
      "state": {
       "children": [
        "IPY_MODEL_2aabf946e32545d9bfd66916e5fa6aed",
        "IPY_MODEL_c3cd293aaa6e42c3bc03e0b8d02c95be",
        "IPY_MODEL_dd25994b0ab5444f8564e9ae8b81e88b"
       ],
       "layout": "IPY_MODEL_097d94e327de45539c7852dd0fb89dc1"
      }
     },
     "a487686547494243b876320a80d14f0d": {
      "model_module": "@jupyter-widgets/controls",
      "model_module_version": "2.0.0",
      "model_name": "HBoxModel",
      "state": {
       "children": [
        "IPY_MODEL_557da54ebb1643c5b5abdb2b4caf9774",
        "IPY_MODEL_10524fcd77724f9e8f61cb966dbbd06f",
        "IPY_MODEL_e83a28ca0c9e47aa8c90ae419258c800"
       ],
       "layout": "IPY_MODEL_fe687aea2b1d46eeaed186117740ed66"
      }
     },
     "a49e9014465e4997addda374146e36a0": {
      "model_module": "@jupyter-widgets/base",
      "model_module_version": "2.0.0",
      "model_name": "LayoutModel",
      "state": {
       "display": "inline-flex",
       "flex_flow": "row wrap",
       "width": "100%"
      }
     },
     "a4a883d2d8ce490191da3a285c0043af": {
      "model_module": "@jupyter-widgets/controls",
      "model_module_version": "2.0.0",
      "model_name": "FloatProgressModel",
      "state": {
       "layout": "IPY_MODEL_4af570f572e84219a291515b376f96c7",
       "max": 1,
       "style": "IPY_MODEL_42bcc2fa861e42e0b0f0a21c0cddeeb7",
       "value": 1
      }
     },
     "a4bcad971a7e415db0b819b418a40707": {
      "model_module": "@jupyter-widgets/base",
      "model_module_version": "2.0.0",
      "model_name": "LayoutModel",
      "state": {}
     },
     "a4d0a91ec72d4dc0a480df4c670f895b": {
      "model_module": "@jupyter-widgets/base",
      "model_module_version": "2.0.0",
      "model_name": "LayoutModel",
      "state": {
       "display": "inline-flex",
       "flex_flow": "row wrap",
       "width": "100%"
      }
     },
     "a4db6dbc432648cdb54942629b2b3114": {
      "model_module": "@jupyter-widgets/controls",
      "model_module_version": "2.0.0",
      "model_name": "HTMLStyleModel",
      "state": {
       "description_width": "",
       "font_size": null,
       "text_color": null
      }
     },
     "a4dce12cad7b4d6da295f14f533a4b0e": {
      "model_module": "@jupyter-widgets/controls",
      "model_module_version": "2.0.0",
      "model_name": "HTMLModel",
      "state": {
       "layout": "IPY_MODEL_1d41247f6b214ed9bfae6eb6980f4f3f",
       "style": "IPY_MODEL_df1ce22c936d4b01b02042b92ae30905",
       "value": "Epoch 16:  20%"
      }
     },
     "a5103c4e75d54bc982ea8f2bbb14e7d9": {
      "model_module": "@jupyter-widgets/controls",
      "model_module_version": "2.0.0",
      "model_name": "HTMLStyleModel",
      "state": {
       "description_width": "",
       "font_size": null,
       "text_color": null
      }
     },
     "a53a6a88fde74955829c597726c462eb": {
      "model_module": "@jupyter-widgets/base",
      "model_module_version": "2.0.0",
      "model_name": "LayoutModel",
      "state": {
       "display": "inline-flex",
       "flex_flow": "row wrap",
       "width": "100%"
      }
     },
     "a5659962d0454ffbb9398e022a8b7097": {
      "model_module": "@jupyter-widgets/base",
      "model_module_version": "2.0.0",
      "model_name": "LayoutModel",
      "state": {}
     },
     "a5745b981ab740aaa1abc26656ed1220": {
      "model_module": "@jupyter-widgets/base",
      "model_module_version": "2.0.0",
      "model_name": "LayoutModel",
      "state": {}
     },
     "a57d0930d73942b9b94743f448f4ead7": {
      "model_module": "@jupyter-widgets/controls",
      "model_module_version": "2.0.0",
      "model_name": "HTMLModel",
      "state": {
       "layout": "IPY_MODEL_8f0fd895f42e43538c410414e69a66f7",
       "style": "IPY_MODEL_0cf1185c7761420f9cadf82fbe85767c",
       "value": " 19/80 [00:00&lt;00:01, 34.64it/s, loss=12.4, v_num=11, MAE=176.0, RMSE=293.0, Loss=12.30, RegLoss=0.000]"
      }
     },
     "a58af8b745564bc2b6988143798a1998": {
      "model_module": "@jupyter-widgets/controls",
      "model_module_version": "2.0.0",
      "model_name": "ProgressStyleModel",
      "state": {
       "description_width": ""
      }
     },
     "a5c76a8e580c4293a73c9fe787ccaf9a": {
      "model_module": "@jupyter-widgets/controls",
      "model_module_version": "2.0.0",
      "model_name": "HTMLStyleModel",
      "state": {
       "description_width": "",
       "font_size": null,
       "text_color": null
      }
     },
     "a5e8a0a743b84f03898e820c2e30c291": {
      "model_module": "@jupyter-widgets/controls",
      "model_module_version": "2.0.0",
      "model_name": "HTMLStyleModel",
      "state": {
       "description_width": "",
       "font_size": null,
       "text_color": null
      }
     },
     "a60677ee455b4bd092477db531b3c291": {
      "model_module": "@jupyter-widgets/controls",
      "model_module_version": "2.0.0",
      "model_name": "HTMLStyleModel",
      "state": {
       "description_width": "",
       "font_size": null,
       "text_color": null
      }
     },
     "a62db5a0bb9b49dd8a142177d8fc8fde": {
      "model_module": "@jupyter-widgets/controls",
      "model_module_version": "2.0.0",
      "model_name": "HTMLStyleModel",
      "state": {
       "description_width": "",
       "font_size": null,
       "text_color": null
      }
     },
     "a655f57d69a3473ea13e46ba9557c23c": {
      "model_module": "@jupyter-widgets/controls",
      "model_module_version": "2.0.0",
      "model_name": "HBoxModel",
      "state": {
       "children": [
        "IPY_MODEL_0932daf91d1142cfb0d7a74391822b31",
        "IPY_MODEL_987fb968e49d41a69f781607f425ddbe",
        "IPY_MODEL_b7dfb6ac4ac142c59b9f6c4a88db98a9"
       ],
       "layout": "IPY_MODEL_e603bc032a7a41208b37110261cd7aea"
      }
     },
     "a65a1e4249bd4584be6f16ad47d84da8": {
      "model_module": "@jupyter-widgets/controls",
      "model_module_version": "2.0.0",
      "model_name": "HTMLModel",
      "state": {
       "layout": "IPY_MODEL_cbe643f021aa452e9b99d580bc57870d",
       "style": "IPY_MODEL_9242a1a6b35648799ee03e361a9a2180",
       "value": "Epoch 80: 100%"
      }
     },
     "a662ff60522f47198dce6a9d039c1697": {
      "model_module": "@jupyter-widgets/controls",
      "model_module_version": "2.0.0",
      "model_name": "HTMLStyleModel",
      "state": {
       "description_width": "",
       "font_size": null,
       "text_color": null
      }
     },
     "a66cc0f13eb94d8db797ffd195674626": {
      "model_module": "@jupyter-widgets/controls",
      "model_module_version": "2.0.0",
      "model_name": "HTMLModel",
      "state": {
       "layout": "IPY_MODEL_c12a99bdb99c46de900e63ba4c28d307",
       "style": "IPY_MODEL_9e78deda2e7b4d52aa2282385c67b588",
       "value": " 0/10 [00:16&lt;?, ?it/s]"
      }
     },
     "a6bee94c693649a4bf709b9a89202baf": {
      "model_module": "@jupyter-widgets/controls",
      "model_module_version": "2.0.0",
      "model_name": "HTMLModel",
      "state": {
       "layout": "IPY_MODEL_e7b8792ffadb41fa8e9060a936f4c9f9",
       "style": "IPY_MODEL_2223e0d7214243669ecf0e134eb7ef32",
       "value": "Best trial: 0. Best value: 4.59276: 100%"
      }
     },
     "a6c26686ab78467aa515f6ce9c8d3259": {
      "model_module": "@jupyter-widgets/controls",
      "model_module_version": "2.0.0",
      "model_name": "HTMLModel",
      "state": {
       "layout": "IPY_MODEL_9c00d1f341c34caca1f8e321d710e4ea",
       "style": "IPY_MODEL_8b94702eff6849b786e9fea14350a4d1",
       "value": " 80/80 [00:00&lt;00:00, 297.64it/s, loss=0.763, v_num=60, MAE=15.20, RMSE=19.40, Loss=0.749, RegLoss=0.324]"
      }
     },
     "a6c890782ba2448b8bd5e1615ce8ea2f": {
      "model_module": "@jupyter-widgets/controls",
      "model_module_version": "2.0.0",
      "model_name": "HTMLModel",
      "state": {
       "layout": "IPY_MODEL_009b00a60fde402e8f6eaa0636ac8430",
       "style": "IPY_MODEL_98cff60fba30490db7f594ae29515b58",
       "value": "Testing DataLoader 0: 100%"
      }
     },
     "a6e0f1a06221430db27181d92ba3559b": {
      "model_module": "@jupyter-widgets/base",
      "model_module_version": "2.0.0",
      "model_name": "LayoutModel",
      "state": {
       "display": "inline-flex",
       "flex_flow": "row wrap",
       "width": "100%"
      }
     },
     "a6e243be282c42c3b83de58045a8fb32": {
      "model_module": "@jupyter-widgets/base",
      "model_module_version": "2.0.0",
      "model_name": "LayoutModel",
      "state": {}
     },
     "a7186272dab04c44a0e575dea344684c": {
      "model_module": "@jupyter-widgets/controls",
      "model_module_version": "2.0.0",
      "model_name": "HBoxModel",
      "state": {
       "children": [
        "IPY_MODEL_0ed73742509d48429327cd6633a03f22",
        "IPY_MODEL_073eb66e724d4faabe6c1d7524b9e308",
        "IPY_MODEL_29f8d30686dc49f7bc447178b3c0267a"
       ],
       "layout": "IPY_MODEL_add2f53c52d64f4883c2fe919fb2d691"
      }
     },
     "a7203250552c4251b187675544297e97": {
      "model_module": "@jupyter-widgets/base",
      "model_module_version": "2.0.0",
      "model_name": "LayoutModel",
      "state": {
       "display": "inline-flex",
       "flex_flow": "row wrap",
       "width": "100%"
      }
     },
     "a72f4efe6d41463a9c1d3b86e2f243d9": {
      "model_module": "@jupyter-widgets/controls",
      "model_module_version": "2.0.0",
      "model_name": "HTMLStyleModel",
      "state": {
       "description_width": "",
       "font_size": null,
       "text_color": null
      }
     },
     "a73cfd4e5b7846558a10d60cc339281d": {
      "model_module": "@jupyter-widgets/controls",
      "model_module_version": "2.0.0",
      "model_name": "HTMLStyleModel",
      "state": {
       "description_width": "",
       "font_size": null,
       "text_color": null
      }
     },
     "a7627bf3337348e98ef8b8b0da6ee42a": {
      "model_module": "@jupyter-widgets/controls",
      "model_module_version": "2.0.0",
      "model_name": "HTMLStyleModel",
      "state": {
       "description_width": "",
       "font_size": null,
       "text_color": null
      }
     },
     "a77c47f0a5c3444ea2cd4a3f3eabc391": {
      "model_module": "@jupyter-widgets/controls",
      "model_module_version": "2.0.0",
      "model_name": "HTMLStyleModel",
      "state": {
       "description_width": "",
       "font_size": null,
       "text_color": null
      }
     },
     "a795bee5507b48f084c2c85cdfab86ba": {
      "model_module": "@jupyter-widgets/controls",
      "model_module_version": "2.0.0",
      "model_name": "HTMLModel",
      "state": {
       "layout": "IPY_MODEL_51160adee666418e94fe18dd36cb125b",
       "style": "IPY_MODEL_3faa294c632e40d4a09d075aeb70fa3c",
       "value": "Testing DataLoader 0: 100%"
      }
     },
     "a79ec298dba84acf9d29340336fb9a13": {
      "model_module": "@jupyter-widgets/controls",
      "model_module_version": "2.0.0",
      "model_name": "HTMLStyleModel",
      "state": {
       "description_width": "",
       "font_size": null,
       "text_color": null
      }
     },
     "a7a3dbdaf4c046d999944c68f29179a2": {
      "model_module": "@jupyter-widgets/controls",
      "model_module_version": "2.0.0",
      "model_name": "HTMLStyleModel",
      "state": {
       "description_width": "",
       "font_size": null,
       "text_color": null
      }
     },
     "a7baf6f50f794a418e82d97feaac9b86": {
      "model_module": "@jupyter-widgets/base",
      "model_module_version": "2.0.0",
      "model_name": "LayoutModel",
      "state": {}
     },
     "a7cafd3fdad84c8bb23a01dd9e859c1d": {
      "model_module": "@jupyter-widgets/controls",
      "model_module_version": "2.0.0",
      "model_name": "FloatProgressModel",
      "state": {
       "bar_style": "danger",
       "layout": "IPY_MODEL_55f0c83a3c6945d1879840511265acde",
       "max": 80,
       "style": "IPY_MODEL_0691b943f6b64b99b458985946d6b6b5",
       "value": 2
      }
     },
     "a7ff9d1782094c5bb0f2c95b01f34a80": {
      "model_module": "@jupyter-widgets/controls",
      "model_module_version": "2.0.0",
      "model_name": "ProgressStyleModel",
      "state": {
       "description_width": ""
      }
     },
     "a83625a2363f49c5ba8f7cfc8c51daa4": {
      "model_module": "@jupyter-widgets/controls",
      "model_module_version": "2.0.0",
      "model_name": "ProgressStyleModel",
      "state": {
       "description_width": ""
      }
     },
     "a83dc465b4044b54b751d72766056224": {
      "model_module": "@jupyter-widgets/base",
      "model_module_version": "2.0.0",
      "model_name": "LayoutModel",
      "state": {
       "flex": "2"
      }
     },
     "a84c3918de7c41d39be1b573e1a6862c": {
      "model_module": "@jupyter-widgets/controls",
      "model_module_version": "2.0.0",
      "model_name": "HBoxModel",
      "state": {
       "children": [
        "IPY_MODEL_2d74481a4c764770ac2b7c7f3295e7ea",
        "IPY_MODEL_ffbd0c7de17a42f0af489585a8db67f2",
        "IPY_MODEL_d55d1cac0c23430ab06bede1617cdefd"
       ],
       "layout": "IPY_MODEL_3b90b83f9051493eab502bc3dc5555fe"
      }
     },
     "a859fd13d6d344f9856b657d9fbb9ca7": {
      "model_module": "@jupyter-widgets/base",
      "model_module_version": "2.0.0",
      "model_name": "LayoutModel",
      "state": {}
     },
     "a862a401fe2341e0a0674eae8f54a4bf": {
      "model_module": "@jupyter-widgets/controls",
      "model_module_version": "2.0.0",
      "model_name": "HBoxModel",
      "state": {
       "children": [
        "IPY_MODEL_2451e78a031d480ab0127e717f9c9efe",
        "IPY_MODEL_14483db3fe6641308462f365beaaa012",
        "IPY_MODEL_0ec3a051bd044583b66e16cf6052be4f"
       ],
       "layout": "IPY_MODEL_bbd28f89f9884234adaeef0668fbd6c1"
      }
     },
     "a882c36cd59d48649a30c3d9340d367a": {
      "model_module": "@jupyter-widgets/controls",
      "model_module_version": "2.0.0",
      "model_name": "FloatProgressModel",
      "state": {
       "bar_style": "danger",
       "layout": "IPY_MODEL_96690fcbfade487dbbeea996dd9a62c6",
       "max": 10,
       "style": "IPY_MODEL_b414f8887f13490db57a6b2dcf248e90"
      }
     },
     "a8857c6f415649479508a4c1c2293416": {
      "model_module": "@jupyter-widgets/base",
      "model_module_version": "2.0.0",
      "model_name": "LayoutModel",
      "state": {}
     },
     "a88e81c641d446ff814919b4b1e918c7": {
      "model_module": "@jupyter-widgets/base",
      "model_module_version": "2.0.0",
      "model_name": "LayoutModel",
      "state": {}
     },
     "a89dbd418e814804a3698548172a2ee4": {
      "model_module": "@jupyter-widgets/controls",
      "model_module_version": "2.0.0",
      "model_name": "HTMLStyleModel",
      "state": {
       "description_width": "",
       "font_size": null,
       "text_color": null
      }
     },
     "a8bee37ce2a74267b3276fc5c88f634f": {
      "model_module": "@jupyter-widgets/controls",
      "model_module_version": "2.0.0",
      "model_name": "HTMLStyleModel",
      "state": {
       "description_width": "",
       "font_size": null,
       "text_color": null
      }
     },
     "a9172652df0741aab9ba20b15bf5ba7e": {
      "model_module": "@jupyter-widgets/base",
      "model_module_version": "2.0.0",
      "model_name": "LayoutModel",
      "state": {}
     },
     "a91f88ed4a0d47acba6182679688e2db": {
      "model_module": "@jupyter-widgets/controls",
      "model_module_version": "2.0.0",
      "model_name": "HBoxModel",
      "state": {
       "children": [
        "IPY_MODEL_1a7aa24557ca47bdb4ff8400f7f77695",
        "IPY_MODEL_166bf58d825c4f3bb67ec98ad6c9fce4",
        "IPY_MODEL_95c5e126fad04066a09454eb05aacd7e"
       ],
       "layout": "IPY_MODEL_4ef928114d874629a1533afa02cef9f8"
      }
     },
     "a92b41ad16404b188bb1cb5b1c7dfa31": {
      "model_module": "@jupyter-widgets/controls",
      "model_module_version": "2.0.0",
      "model_name": "FloatProgressModel",
      "state": {
       "bar_style": "danger",
       "layout": "IPY_MODEL_7ca2d72419534473aecaf1f06d086ca9",
       "max": 80,
       "style": "IPY_MODEL_c5ee510142d64d25be18d253b940a251",
       "value": 14
      }
     },
     "a95ebd3b24ff41b0a96bb97516a98169": {
      "model_module": "@jupyter-widgets/controls",
      "model_module_version": "2.0.0",
      "model_name": "ProgressStyleModel",
      "state": {
       "description_width": ""
      }
     },
     "a981657320bc4b478e8cbb802dd12bb4": {
      "model_module": "@jupyter-widgets/base",
      "model_module_version": "2.0.0",
      "model_name": "LayoutModel",
      "state": {}
     },
     "a98c2a2b2096479995128da78e10f98c": {
      "model_module": "@jupyter-widgets/controls",
      "model_module_version": "2.0.0",
      "model_name": "HTMLStyleModel",
      "state": {
       "description_width": "",
       "font_size": null,
       "text_color": null
      }
     },
     "a99b9bf55c2d41c78ce9920d0113c40d": {
      "model_module": "@jupyter-widgets/controls",
      "model_module_version": "2.0.0",
      "model_name": "ProgressStyleModel",
      "state": {
       "description_width": ""
      }
     },
     "a99ed47071f940fb91941e5417e87e62": {
      "model_module": "@jupyter-widgets/controls",
      "model_module_version": "2.0.0",
      "model_name": "ProgressStyleModel",
      "state": {
       "description_width": ""
      }
     },
     "a9aacfaea91b43dbbea5aa9ddb4a8048": {
      "model_module": "@jupyter-widgets/controls",
      "model_module_version": "2.0.0",
      "model_name": "HTMLModel",
      "state": {
       "layout": "IPY_MODEL_f96b47f04cbf4e6ebb464eb70fb7e9d4",
       "style": "IPY_MODEL_ebdcff9b74584cf1a787d378e1f5eb63",
       "value": "Epoch 80: 100%"
      }
     },
     "a9b6aaece5a14799a1e041f81c73773b": {
      "model_module": "@jupyter-widgets/controls",
      "model_module_version": "2.0.0",
      "model_name": "ProgressStyleModel",
      "state": {
       "description_width": ""
      }
     },
     "a9b9ded3f18047518dfdd3390ac61f6d": {
      "model_module": "@jupyter-widgets/controls",
      "model_module_version": "2.0.0",
      "model_name": "FloatProgressModel",
      "state": {
       "bar_style": "success",
       "layout": "IPY_MODEL_fef4dc63fb394ea4b8ea65798feb146a",
       "max": 1,
       "style": "IPY_MODEL_6b8c4e2792a54a2a8faa6a7b41c4144f",
       "value": 1
      }
     },
     "a9c3b40bd8aa4da492b31611154c2e3b": {
      "model_module": "@jupyter-widgets/controls",
      "model_module_version": "2.0.0",
      "model_name": "HTMLStyleModel",
      "state": {
       "description_width": "",
       "font_size": null,
       "text_color": null
      }
     },
     "a9ceb0234c1b489da3613ebd8801e6d6": {
      "model_module": "@jupyter-widgets/base",
      "model_module_version": "2.0.0",
      "model_name": "LayoutModel",
      "state": {
       "flex": "2"
      }
     },
     "a9d062c2490c4ac8b4e313b267b3584b": {
      "model_module": "@jupyter-widgets/controls",
      "model_module_version": "2.0.0",
      "model_name": "HTMLModel",
      "state": {
       "layout": "IPY_MODEL_7d2ea721c34747e0a6e76b9dbb6c4239",
       "style": "IPY_MODEL_67d290fcc5e84814afc993647320c554",
       "value": " 53/80 [08:38&lt;04:24,  9.78s/it, loss=0.0656, v_num=2, MAE=4.150, RMSE=5.250, Loss=0.0697, RegLoss=0.000]"
      }
     },
     "aa0a16f9107b4872bb814db488dfb9fb": {
      "model_module": "@jupyter-widgets/controls",
      "model_module_version": "2.0.0",
      "model_name": "ProgressStyleModel",
      "state": {
       "description_width": ""
      }
     },
     "aa2673f4394f47c7bb1d81140e6610f7": {
      "model_module": "@jupyter-widgets/controls",
      "model_module_version": "2.0.0",
      "model_name": "ProgressStyleModel",
      "state": {
       "description_width": ""
      }
     },
     "aa2b9a4bf3e34469bcd5834cfebfe29e": {
      "model_module": "@jupyter-widgets/controls",
      "model_module_version": "2.0.0",
      "model_name": "HTMLStyleModel",
      "state": {
       "description_width": "",
       "font_size": null,
       "text_color": null
      }
     },
     "aac4c2f35b2745fe9f050a370bcfdc36": {
      "model_module": "@jupyter-widgets/base",
      "model_module_version": "2.0.0",
      "model_name": "LayoutModel",
      "state": {}
     },
     "aacd331afd1749e3a625d22dfa9af0af": {
      "model_module": "@jupyter-widgets/controls",
      "model_module_version": "2.0.0",
      "model_name": "HBoxModel",
      "state": {
       "children": [
        "IPY_MODEL_eb18a4ce90d2478fb1e5aa17f9f3d5c6",
        "IPY_MODEL_d6395ed144c341f3bb8a4d5d23635ae2",
        "IPY_MODEL_5d6439f92f0846e8a06fae1bbf4ccd6a"
       ],
       "layout": "IPY_MODEL_d7401919a83545be86b9627ba1d40050"
      }
     },
     "aad383c28516456c91a89febb67224ac": {
      "model_module": "@jupyter-widgets/controls",
      "model_module_version": "2.0.0",
      "model_name": "ProgressStyleModel",
      "state": {
       "description_width": ""
      }
     },
     "aad833d320714ebfa5783e29ddd4f715": {
      "model_module": "@jupyter-widgets/base",
      "model_module_version": "2.0.0",
      "model_name": "LayoutModel",
      "state": {
       "display": "inline-flex",
       "flex_flow": "row wrap",
       "width": "100%"
      }
     },
     "aada959e57d44eecb79ab0b1d635fb4e": {
      "model_module": "@jupyter-widgets/controls",
      "model_module_version": "2.0.0",
      "model_name": "HBoxModel",
      "state": {
       "children": [
        "IPY_MODEL_a2961c5c3fa146eb8b8b5fa01c249abb",
        "IPY_MODEL_4890aa38c2954b459d0f4b676701b934",
        "IPY_MODEL_71f5a31a29df4e598de9050e8638d6d2"
       ],
       "layout": "IPY_MODEL_9c2623ac21d740dca60ac2b734f57ed4"
      }
     },
     "aaea92f3d1b5410cb11714cb6d9c0837": {
      "model_module": "@jupyter-widgets/base",
      "model_module_version": "2.0.0",
      "model_name": "LayoutModel",
      "state": {}
     },
     "aaec33aa8f0e416ab7f3bba7cfbbf547": {
      "model_module": "@jupyter-widgets/base",
      "model_module_version": "2.0.0",
      "model_name": "LayoutModel",
      "state": {}
     },
     "aaf7d91d90c941b9b647672ef5a834cc": {
      "model_module": "@jupyter-widgets/base",
      "model_module_version": "2.0.0",
      "model_name": "LayoutModel",
      "state": {}
     },
     "ab1f571227a44d41b2c4aa4f9e0028be": {
      "model_module": "@jupyter-widgets/controls",
      "model_module_version": "2.0.0",
      "model_name": "HTMLModel",
      "state": {
       "layout": "IPY_MODEL_6f56659ea8124826bb9aea957e6797c5",
       "style": "IPY_MODEL_e998548a74874b73962942398cc061a1",
       "value": "Epoch 80: 100%"
      }
     },
     "ab2179e1f2e344e3b5e41e39977088ff": {
      "model_module": "@jupyter-widgets/base",
      "model_module_version": "2.0.0",
      "model_name": "LayoutModel",
      "state": {}
     },
     "ab38723d696540088c294b4f187cfa1a": {
      "model_module": "@jupyter-widgets/controls",
      "model_module_version": "2.0.0",
      "model_name": "HTMLStyleModel",
      "state": {
       "description_width": "",
       "font_size": null,
       "text_color": null
      }
     },
     "ab3a893ac54442aaadfc8ae35880192a": {
      "model_module": "@jupyter-widgets/base",
      "model_module_version": "2.0.0",
      "model_name": "LayoutModel",
      "state": {}
     },
     "ab3ccb2096e640528b1ca984b79031be": {
      "model_module": "@jupyter-widgets/controls",
      "model_module_version": "2.0.0",
      "model_name": "HTMLStyleModel",
      "state": {
       "description_width": "",
       "font_size": null,
       "text_color": null
      }
     },
     "ab50c474c8834929b97d3d355f624cb5": {
      "model_module": "@jupyter-widgets/base",
      "model_module_version": "2.0.0",
      "model_name": "LayoutModel",
      "state": {}
     },
     "ab6174ebc92f42a4bf4a37dea6fc0f75": {
      "model_module": "@jupyter-widgets/controls",
      "model_module_version": "2.0.0",
      "model_name": "FloatProgressModel",
      "state": {
       "bar_style": "danger",
       "layout": "IPY_MODEL_f1a4449a6fd440849877566fa6a66d6e",
       "max": 80,
       "style": "IPY_MODEL_f68a05bd3eb2468a8b517e74eb970311",
       "value": 9
      }
     },
     "ab73be5f16d84194b84f6ad5303e84f5": {
      "model_module": "@jupyter-widgets/controls",
      "model_module_version": "2.0.0",
      "model_name": "FloatProgressModel",
      "state": {
       "bar_style": "danger",
       "layout": "IPY_MODEL_0b17d946a5e141c2b9943783f631b060",
       "max": 80,
       "style": "IPY_MODEL_414fbe36a5904bd9a4ba2feef1c964d1",
       "value": 16
      }
     },
     "ab995bf5a9434d6bbdeb08cf514d6938": {
      "model_module": "@jupyter-widgets/controls",
      "model_module_version": "2.0.0",
      "model_name": "HTMLModel",
      "state": {
       "layout": "IPY_MODEL_c4b35d641dea49d1b26d21784d33c37b",
       "style": "IPY_MODEL_6667d5b507b649eea05a7611cd113be8",
       "value": "Testing DataLoader 0: 100%"
      }
     },
     "aba2188f56ef45a580302d5d09cd8013": {
      "model_module": "@jupyter-widgets/controls",
      "model_module_version": "2.0.0",
      "model_name": "HTMLModel",
      "state": {
       "layout": "IPY_MODEL_be96baf96eb441e8b646f9c7e4bbc282",
       "style": "IPY_MODEL_1f4f023ecce34b44be5dc731f329df9a",
       "value": "Epoch 15:  19%"
      }
     },
     "aba87fad433e4dddb9e559b79104281c": {
      "model_module": "@jupyter-widgets/controls",
      "model_module_version": "2.0.0",
      "model_name": "FloatProgressModel",
      "state": {
       "layout": "IPY_MODEL_1c308e44f5d242088ed9a4f9a67c05c6",
       "max": 1,
       "style": "IPY_MODEL_cc6484f8f640491ea23812006fa936cd",
       "value": 1
      }
     },
     "abb44353fa954b3b9162d56407f53775": {
      "model_module": "@jupyter-widgets/controls",
      "model_module_version": "2.0.0",
      "model_name": "ProgressStyleModel",
      "state": {
       "description_width": ""
      }
     },
     "abbc30050d1a4e63bc4d466954fb72c1": {
      "model_module": "@jupyter-widgets/controls",
      "model_module_version": "2.0.0",
      "model_name": "HTMLStyleModel",
      "state": {
       "description_width": "",
       "font_size": null,
       "text_color": null
      }
     },
     "abbe748ccd83423a904dde16c9a889c8": {
      "model_module": "@jupyter-widgets/controls",
      "model_module_version": "2.0.0",
      "model_name": "HTMLStyleModel",
      "state": {
       "description_width": "",
       "font_size": null,
       "text_color": null
      }
     },
     "abbf7bafeab1467d837c8d0303538dc3": {
      "model_module": "@jupyter-widgets/controls",
      "model_module_version": "2.0.0",
      "model_name": "HTMLStyleModel",
      "state": {
       "description_width": "",
       "font_size": null,
       "text_color": null
      }
     },
     "abcbc2cb99524fcbbe4cebfe31b9f5c8": {
      "model_module": "@jupyter-widgets/base",
      "model_module_version": "2.0.0",
      "model_name": "LayoutModel",
      "state": {}
     },
     "abe79250f99a4bb6ac438d83d54403d6": {
      "model_module": "@jupyter-widgets/base",
      "model_module_version": "2.0.0",
      "model_name": "LayoutModel",
      "state": {}
     },
     "ac36768c6b3b45be9bb1599e212dd319": {
      "model_module": "@jupyter-widgets/base",
      "model_module_version": "2.0.0",
      "model_name": "LayoutModel",
      "state": {}
     },
     "ac3a6af00c344bdaa2f568204566df96": {
      "model_module": "@jupyter-widgets/controls",
      "model_module_version": "2.0.0",
      "model_name": "HTMLStyleModel",
      "state": {
       "description_width": "",
       "font_size": null,
       "text_color": null
      }
     },
     "ac48974ff5364cf9aeedb61229223e1d": {
      "model_module": "@jupyter-widgets/base",
      "model_module_version": "2.0.0",
      "model_name": "LayoutModel",
      "state": {
       "display": "inline-flex",
       "flex_flow": "row wrap",
       "width": "100%"
      }
     },
     "ac725bccedce4df8919e37e2a604f12c": {
      "model_module": "@jupyter-widgets/controls",
      "model_module_version": "2.0.0",
      "model_name": "ProgressStyleModel",
      "state": {
       "description_width": ""
      }
     },
     "aca74d5b69f64b868247c1ac95dfe16e": {
      "model_module": "@jupyter-widgets/controls",
      "model_module_version": "2.0.0",
      "model_name": "HTMLModel",
      "state": {
       "layout": "IPY_MODEL_8318063fc50e4467a7a34ba141866aed",
       "style": "IPY_MODEL_c45b5382f5c0445ea6cde8a756c94f94",
       "value": " 1/1 [00:00&lt;00:00, 93.41it/s]"
      }
     },
     "acac15419d9d4f7cb68261aad782f8bd": {
      "model_module": "@jupyter-widgets/base",
      "model_module_version": "2.0.0",
      "model_name": "LayoutModel",
      "state": {}
     },
     "acbef2cd8909452da651851e87a76cf7": {
      "model_module": "@jupyter-widgets/controls",
      "model_module_version": "2.0.0",
      "model_name": "HTMLStyleModel",
      "state": {
       "description_width": "",
       "font_size": null,
       "text_color": null
      }
     },
     "acc4066cb4284b3ba3ba9cf3181887f2": {
      "model_module": "@jupyter-widgets/controls",
      "model_module_version": "2.0.0",
      "model_name": "FloatProgressModel",
      "state": {
       "bar_style": "danger",
       "layout": "IPY_MODEL_c9bc19e027b344fca4eff3a7b23e3a16",
       "max": 80,
       "style": "IPY_MODEL_69cf647b79084f63a945a2aea3a3d525",
       "value": 3
      }
     },
     "acebe712706446529d4c5dcebdf36e2e": {
      "model_module": "@jupyter-widgets/controls",
      "model_module_version": "2.0.0",
      "model_name": "HBoxModel",
      "state": {
       "children": [
        "IPY_MODEL_3c8cfacbb4c84446ada43e25b6e44569",
        "IPY_MODEL_78b5e13e4b904e82b7d7b237a30feb4c",
        "IPY_MODEL_e99ef98b04074f82ba01b0ef717f4e3c"
       ],
       "layout": "IPY_MODEL_ec74b287dd574fec973e16a6355f8fca"
      }
     },
     "acefa3c55c9c44f3b123474840214497": {
      "model_module": "@jupyter-widgets/controls",
      "model_module_version": "2.0.0",
      "model_name": "HTMLModel",
      "state": {
       "layout": "IPY_MODEL_15ab063ebe554906ba4f084487f52dcd",
       "style": "IPY_MODEL_5d9b0302a753421f98009ed1bf4834c2",
       "value": "Testing DataLoader 0: 100%"
      }
     },
     "ad26d0bd7562429e84e2ca5eabd38869": {
      "model_module": "@jupyter-widgets/controls",
      "model_module_version": "2.0.0",
      "model_name": "HTMLModel",
      "state": {
       "layout": "IPY_MODEL_fe12910c885b4fb0bf2eae4c45c8d927",
       "style": "IPY_MODEL_19f135cd46eb4c05804b5bbb02cd3f43",
       "value": " 0/10 [00:54&lt;?, ?it/s]"
      }
     },
     "ad69881c6b1a4fe189636207356e0114": {
      "model_module": "@jupyter-widgets/controls",
      "model_module_version": "2.0.0",
      "model_name": "HTMLStyleModel",
      "state": {
       "description_width": "",
       "font_size": null,
       "text_color": null
      }
     },
     "ad85bfd1f63e4bb5a77dd1cd10009073": {
      "model_module": "@jupyter-widgets/base",
      "model_module_version": "2.0.0",
      "model_name": "LayoutModel",
      "state": {
       "display": "inline-flex",
       "flex_flow": "row wrap",
       "width": "100%"
      }
     },
     "ad9581db29d1403cb07ac2aea8bb48f8": {
      "model_module": "@jupyter-widgets/base",
      "model_module_version": "2.0.0",
      "model_name": "LayoutModel",
      "state": {}
     },
     "ada92add63d14dadb10b74e7e55315b9": {
      "model_module": "@jupyter-widgets/controls",
      "model_module_version": "2.0.0",
      "model_name": "HTMLStyleModel",
      "state": {
       "description_width": "",
       "font_size": null,
       "text_color": null
      }
     },
     "adc295d9368941a7a41624939ea71fdf": {
      "model_module": "@jupyter-widgets/base",
      "model_module_version": "2.0.0",
      "model_name": "LayoutModel",
      "state": {
       "flex": "2"
      }
     },
     "adcc5707aeb24927b74d4f8aef21efed": {
      "model_module": "@jupyter-widgets/controls",
      "model_module_version": "2.0.0",
      "model_name": "HTMLModel",
      "state": {
       "layout": "IPY_MODEL_4a68ff874ec04180bf8f4aa3badfe894",
       "style": "IPY_MODEL_9062921f76f240b298e7cf65a44ba52a",
       "value": "Epoch 80: 100%"
      }
     },
     "add2f53c52d64f4883c2fe919fb2d691": {
      "model_module": "@jupyter-widgets/base",
      "model_module_version": "2.0.0",
      "model_name": "LayoutModel",
      "state": {
       "display": "inline-flex",
       "flex_flow": "row wrap",
       "width": "100%"
      }
     },
     "ae0149db9e3640728162cbf16fbddbbd": {
      "model_module": "@jupyter-widgets/controls",
      "model_module_version": "2.0.0",
      "model_name": "HBoxModel",
      "state": {
       "children": [
        "IPY_MODEL_76f6c2f0496d41178e2a8e2b26d06802",
        "IPY_MODEL_d8136095730c41ed82df8627556bd148",
        "IPY_MODEL_5f062616c9cd4c27989f75fe2ec69382"
       ],
       "layout": "IPY_MODEL_cf325912e8c14c17b5ea9ec517f1d641"
      }
     },
     "ae0ce94d74bb484b8f7db58115ec2cea": {
      "model_module": "@jupyter-widgets/controls",
      "model_module_version": "2.0.0",
      "model_name": "HTMLModel",
      "state": {
       "layout": "IPY_MODEL_75c3dcffbee94cde96a5c6feadb487bb",
       "style": "IPY_MODEL_41c9c71794e646afb06f500ca56cbd23",
       "value": " 1/1 [00:00&lt;00:00, 111.04it/s]"
      }
     },
     "ae12625f71104c0dadc92b4536ae1d0d": {
      "model_module": "@jupyter-widgets/controls",
      "model_module_version": "2.0.0",
      "model_name": "HTMLModel",
      "state": {
       "layout": "IPY_MODEL_9b757b5579d3454eaaa96056cb9c16de",
       "style": "IPY_MODEL_1a58008c80774d3e919d75845001b411",
       "value": " 0/1 [00:01&lt;?, ?it/s]"
      }
     },
     "ae4e984176134972a8c853834ecc97ab": {
      "model_module": "@jupyter-widgets/controls",
      "model_module_version": "2.0.0",
      "model_name": "HTMLModel",
      "state": {
       "layout": "IPY_MODEL_628a7e23d05c4d46851d4a09226316ed",
       "style": "IPY_MODEL_bb1e414aa13941919cd60c6daec1d04f",
       "value": "Testing DataLoader 0: 100%"
      }
     },
     "ae597d46be5d487b9da63bbb736238ca": {
      "model_module": "@jupyter-widgets/base",
      "model_module_version": "2.0.0",
      "model_name": "LayoutModel",
      "state": {}
     },
     "ae6d8dc463c940b987e3c5b83bb2fe02": {
      "model_module": "@jupyter-widgets/controls",
      "model_module_version": "2.0.0",
      "model_name": "FloatProgressModel",
      "state": {
       "bar_style": "danger",
       "layout": "IPY_MODEL_d522856ae72e421aa3b99c8af44761c6",
       "max": 80,
       "style": "IPY_MODEL_b2a5160e7f6440fb8f0d34707a512b60",
       "value": 53
      }
     },
     "aec003b19ed04219b5104cec9dc8d50d": {
      "model_module": "@jupyter-widgets/controls",
      "model_module_version": "2.0.0",
      "model_name": "ProgressStyleModel",
      "state": {
       "description_width": ""
      }
     },
     "aed315226ac44c30adfbf5584ca18ed6": {
      "model_module": "@jupyter-widgets/base",
      "model_module_version": "2.0.0",
      "model_name": "LayoutModel",
      "state": {}
     },
     "aef5bffa60b44dc195dc98aa38a30e4f": {
      "model_module": "@jupyter-widgets/base",
      "model_module_version": "2.0.0",
      "model_name": "LayoutModel",
      "state": {}
     },
     "aeff25aab9024927aed3ee4c5ce55ab1": {
      "model_module": "@jupyter-widgets/controls",
      "model_module_version": "2.0.0",
      "model_name": "HBoxModel",
      "state": {
       "children": [
        "IPY_MODEL_d03557daf1a54612809f583679a6e9e5",
        "IPY_MODEL_8c9fca256e2e406a80fbc74966b9238c",
        "IPY_MODEL_f5d1104a818848a594ef5632a8818d51"
       ],
       "layout": "IPY_MODEL_ee3feba62e8d459d8b5a0bdaa5055390"
      }
     },
     "af172063387747a0ac0f4951fffb0693": {
      "model_module": "@jupyter-widgets/controls",
      "model_module_version": "2.0.0",
      "model_name": "HTMLModel",
      "state": {
       "layout": "IPY_MODEL_cbae90b64205462495fb52e9013639fa",
       "style": "IPY_MODEL_711532557bd04abbbfe10b15754617b4",
       "value": " 1/1 [00:00&lt;00:00, 115.63it/s]"
      }
     },
     "af1be01324a74df297d714cef4e700fa": {
      "model_module": "@jupyter-widgets/controls",
      "model_module_version": "2.0.0",
      "model_name": "HTMLModel",
      "state": {
       "layout": "IPY_MODEL_cf174968357f4cb6b34989a4956f429f",
       "style": "IPY_MODEL_52cef1629cd54feabfef938184b0120c",
       "value": "Testing DataLoader 0: 100%"
      }
     },
     "af1eb716109a4042a0595b13cf72f933": {
      "model_module": "@jupyter-widgets/controls",
      "model_module_version": "2.0.0",
      "model_name": "HTMLModel",
      "state": {
       "layout": "IPY_MODEL_c60d402aada64e56ad765afbc3d8869e",
       "style": "IPY_MODEL_6e5948e80168476d973dc921788cfff3",
       "value": " 9/80 [00:00&lt;00:02, 33.15it/s, loss=0.0628, v_num=64, MAE=4.390, RMSE=5.560, Loss=0.0606, RegLoss=0.000]"
      }
     },
     "af3d1f0f6a44449586fe29abe4b90f80": {
      "model_module": "@jupyter-widgets/base",
      "model_module_version": "2.0.0",
      "model_name": "LayoutModel",
      "state": {}
     },
     "af4092153bb6457c895c0001fc4c29e5": {
      "model_module": "@jupyter-widgets/controls",
      "model_module_version": "2.0.0",
      "model_name": "HTMLStyleModel",
      "state": {
       "description_width": "",
       "font_size": null,
       "text_color": null
      }
     },
     "af45fb4fd88c42ed928ba43481fc98b7": {
      "model_module": "@jupyter-widgets/controls",
      "model_module_version": "2.0.0",
      "model_name": "FloatProgressModel",
      "state": {
       "bar_style": "danger",
       "layout": "IPY_MODEL_f55f38a5ed6945139d528445f180330f",
       "max": 5,
       "style": "IPY_MODEL_0327bbdd11aa45e2a8bb11c887b62699",
       "value": 4
      }
     },
     "af551a0272374dbf8d0c9c1f4202252e": {
      "model_module": "@jupyter-widgets/controls",
      "model_module_version": "2.0.0",
      "model_name": "HTMLModel",
      "state": {
       "layout": "IPY_MODEL_f63c686d79bb406bb6568042b5a36b71",
       "style": "IPY_MODEL_8582d9c510034b77ae49ee56c006e621",
       "value": " 1/1 [00:00&lt;00:00, 247.04it/s]"
      }
     },
     "af5ac14545514cedbe6bcbd00927fbcb": {
      "model_module": "@jupyter-widgets/base",
      "model_module_version": "2.0.0",
      "model_name": "LayoutModel",
      "state": {}
     },
     "af87ec435ccc4b19b2e2647a7485b518": {
      "model_module": "@jupyter-widgets/controls",
      "model_module_version": "2.0.0",
      "model_name": "HTMLModel",
      "state": {
       "layout": "IPY_MODEL_a7baf6f50f794a418e82d97feaac9b86",
       "style": "IPY_MODEL_348bc8926df240b88dc5e70af4ff0af7",
       "value": " 0/10 [01:04&lt;?, ?it/s]"
      }
     },
     "af8ee901c3f1420293244163b6563f0c": {
      "model_module": "@jupyter-widgets/base",
      "model_module_version": "2.0.0",
      "model_name": "LayoutModel",
      "state": {
       "flex": "2"
      }
     },
     "afa1285761bf411cbd65236c6f2a3f43": {
      "model_module": "@jupyter-widgets/controls",
      "model_module_version": "2.0.0",
      "model_name": "FloatProgressModel",
      "state": {
       "bar_style": "success",
       "layout": "IPY_MODEL_24ab7b12c8524bc58e80fbcd486145ce",
       "max": 1,
       "style": "IPY_MODEL_b845ef3ab7af4a489745fb54abc4c609",
       "value": 1
      }
     },
     "afb03663d0c6450580ac54ec30156e07": {
      "model_module": "@jupyter-widgets/base",
      "model_module_version": "2.0.0",
      "model_name": "LayoutModel",
      "state": {}
     },
     "afcf574cd01342fd9f423477f6bef2ca": {
      "model_module": "@jupyter-widgets/controls",
      "model_module_version": "2.0.0",
      "model_name": "ProgressStyleModel",
      "state": {
       "description_width": ""
      }
     },
     "afd992f792af4ac68efbc544297735d0": {
      "model_module": "@jupyter-widgets/controls",
      "model_module_version": "2.0.0",
      "model_name": "HTMLModel",
      "state": {
       "layout": "IPY_MODEL_6afd2db0628a4f6fbd34dfdd3b913f1b",
       "style": "IPY_MODEL_342b29d0ef7448339419a7c4c7ce5ca3",
       "value": " 1/1 [00:00&lt;00:00, 113.00it/s]"
      }
     },
     "affbe261ffce42a1ad25288f1383364f": {
      "model_module": "@jupyter-widgets/base",
      "model_module_version": "2.0.0",
      "model_name": "LayoutModel",
      "state": {
       "display": "inline-flex",
       "flex_flow": "row wrap",
       "width": "100%"
      }
     },
     "b015a31d22d2402097a79c2dc0f03848": {
      "model_module": "@jupyter-widgets/controls",
      "model_module_version": "2.0.0",
      "model_name": "HBoxModel",
      "state": {
       "children": [
        "IPY_MODEL_0f2c157cbd3a451a966618b5dd7b8810",
        "IPY_MODEL_9cee885dffa54fbaabb2b1d7c0d23dec",
        "IPY_MODEL_afd992f792af4ac68efbc544297735d0"
       ],
       "layout": "IPY_MODEL_e57b770b594a423a91f4c5c1168eb41d"
      }
     },
     "b0383828439f4a49bee522220968ab76": {
      "model_module": "@jupyter-widgets/base",
      "model_module_version": "2.0.0",
      "model_name": "LayoutModel",
      "state": {}
     },
     "b04d61c0005948ca8b5d7ba6a9399459": {
      "model_module": "@jupyter-widgets/base",
      "model_module_version": "2.0.0",
      "model_name": "LayoutModel",
      "state": {}
     },
     "b0584abedafe4745ab84a4ac08a09c6b": {
      "model_module": "@jupyter-widgets/controls",
      "model_module_version": "2.0.0",
      "model_name": "HBoxModel",
      "state": {
       "children": [
        "IPY_MODEL_ffed5c3e37f141d99e57b0c7989972da",
        "IPY_MODEL_1fcc6028fe3a4a6e9424a853f549af4f",
        "IPY_MODEL_b65a3017f3aa491c9cccb8db869da165"
       ],
       "layout": "IPY_MODEL_059b6f9f1a2342cabc8a3e5f06f4a204"
      }
     },
     "b0609f4d1fe84524a4e55d12cde8ed6c": {
      "model_module": "@jupyter-widgets/base",
      "model_module_version": "2.0.0",
      "model_name": "LayoutModel",
      "state": {
       "flex": "2"
      }
     },
     "b06103776ebd401f8e1645563df473d4": {
      "model_module": "@jupyter-widgets/base",
      "model_module_version": "2.0.0",
      "model_name": "LayoutModel",
      "state": {}
     },
     "b06605c8ebd44e0497fdc14f1329e808": {
      "model_module": "@jupyter-widgets/controls",
      "model_module_version": "2.0.0",
      "model_name": "ProgressStyleModel",
      "state": {
       "description_width": ""
      }
     },
     "b06c17aa9a4649b68cc7dfa3ccfac641": {
      "model_module": "@jupyter-widgets/base",
      "model_module_version": "2.0.0",
      "model_name": "LayoutModel",
      "state": {}
     },
     "b06c8550bad647fba068255260c21cb6": {
      "model_module": "@jupyter-widgets/controls",
      "model_module_version": "2.0.0",
      "model_name": "HTMLStyleModel",
      "state": {
       "description_width": "",
       "font_size": null,
       "text_color": null
      }
     },
     "b0c0250a63cb498283d13193795e6cc3": {
      "model_module": "@jupyter-widgets/controls",
      "model_module_version": "2.0.0",
      "model_name": "HTMLModel",
      "state": {
       "layout": "IPY_MODEL_18dabe14922d443e9ed7efa5c4350b3c",
       "style": "IPY_MODEL_d41eb88a7ca1491ca511791867928f7e",
       "value": "Validation DataLoader 0: 100%"
      }
     },
     "b0cf5cb64c7343f99991e2cc9d9c11ae": {
      "model_module": "@jupyter-widgets/controls",
      "model_module_version": "2.0.0",
      "model_name": "HTMLModel",
      "state": {
       "layout": "IPY_MODEL_c360b549bc7f41e88559db8c5e1e17ae",
       "style": "IPY_MODEL_d6e88b10952d4f62a1e8afe15724b034",
       "value": "Epoch 80: 100%"
      }
     },
     "b0e77cb0bd244b398e6edd9da6fa53a1": {
      "model_module": "@jupyter-widgets/controls",
      "model_module_version": "2.0.0",
      "model_name": "HTMLStyleModel",
      "state": {
       "description_width": "",
       "font_size": null,
       "text_color": null
      }
     },
     "b133aec8116e40b1974d199225c4ac6a": {
      "model_module": "@jupyter-widgets/controls",
      "model_module_version": "2.0.0",
      "model_name": "HTMLStyleModel",
      "state": {
       "description_width": "",
       "font_size": null,
       "text_color": null
      }
     },
     "b137315c987e459e8d3f7c01256f1581": {
      "model_module": "@jupyter-widgets/controls",
      "model_module_version": "2.0.0",
      "model_name": "FloatProgressModel",
      "state": {
       "bar_style": "danger",
       "layout": "IPY_MODEL_b0609f4d1fe84524a4e55d12cde8ed6c",
       "max": 80,
       "style": "IPY_MODEL_4237437bdba3496d8d6e2d9955cb86c1",
       "value": 53
      }
     },
     "b14187bd370042ed9f4393730cc3db72": {
      "model_module": "@jupyter-widgets/base",
      "model_module_version": "2.0.0",
      "model_name": "LayoutModel",
      "state": {}
     },
     "b142370ddc9f4b839830c597a55f57db": {
      "model_module": "@jupyter-widgets/controls",
      "model_module_version": "2.0.0",
      "model_name": "HTMLModel",
      "state": {
       "layout": "IPY_MODEL_09236d5f88b945268bdc3add4cf82f62",
       "style": "IPY_MODEL_a2391554472d4981af74c1836be0aec4",
       "value": "  0%"
      }
     },
     "b1a658272cdc4309ae6408b4516f70c2": {
      "model_module": "@jupyter-widgets/controls",
      "model_module_version": "2.0.0",
      "model_name": "HTMLModel",
      "state": {
       "layout": "IPY_MODEL_5223249927ae427881789296eae33b7e",
       "style": "IPY_MODEL_9f12b0b364c1440e9a813a530d1a3318",
       "value": "Testing DataLoader 0: 100%"
      }
     },
     "b1ca383be60e44f2a0398c59f4437d3d": {
      "model_module": "@jupyter-widgets/controls",
      "model_module_version": "2.0.0",
      "model_name": "FloatProgressModel",
      "state": {
       "bar_style": "danger",
       "layout": "IPY_MODEL_ff91d837f73f428cafa5cc464f07fc64",
       "max": 233,
       "style": "IPY_MODEL_5005ffea31634550bb314bcd546c625e",
       "value": 159
      }
     },
     "b1db1f3ccba647669f225c185b418ef5": {
      "model_module": "@jupyter-widgets/base",
      "model_module_version": "2.0.0",
      "model_name": "LayoutModel",
      "state": {}
     },
     "b1ecd88cd49e4ce3afbb683ef3127856": {
      "model_module": "@jupyter-widgets/controls",
      "model_module_version": "2.0.0",
      "model_name": "ProgressStyleModel",
      "state": {
       "description_width": ""
      }
     },
     "b1f870f1c4bc492382e0feea39574bb5": {
      "model_module": "@jupyter-widgets/controls",
      "model_module_version": "2.0.0",
      "model_name": "HTMLStyleModel",
      "state": {
       "description_width": "",
       "font_size": null,
       "text_color": null
      }
     },
     "b1fbca9eb5754f1091493d08afeb9d1e": {
      "model_module": "@jupyter-widgets/base",
      "model_module_version": "2.0.0",
      "model_name": "LayoutModel",
      "state": {
       "flex": "2"
      }
     },
     "b2045f9b5d1343db90d7c39fd882b32c": {
      "model_module": "@jupyter-widgets/controls",
      "model_module_version": "2.0.0",
      "model_name": "ProgressStyleModel",
      "state": {
       "description_width": ""
      }
     },
     "b2095431d3084937a2a24da9c644b549": {
      "model_module": "@jupyter-widgets/base",
      "model_module_version": "2.0.0",
      "model_name": "LayoutModel",
      "state": {
       "flex": "2"
      }
     },
     "b22d48a8f3954e8384b6e09650fcb37d": {
      "model_module": "@jupyter-widgets/base",
      "model_module_version": "2.0.0",
      "model_name": "LayoutModel",
      "state": {}
     },
     "b256553766ac44e5b12e8b1ee101b7f2": {
      "model_module": "@jupyter-widgets/controls",
      "model_module_version": "2.0.0",
      "model_name": "ProgressStyleModel",
      "state": {
       "description_width": ""
      }
     },
     "b25baa110bbb47888148a97452ee6592": {
      "model_module": "@jupyter-widgets/base",
      "model_module_version": "2.0.0",
      "model_name": "LayoutModel",
      "state": {}
     },
     "b2a5160e7f6440fb8f0d34707a512b60": {
      "model_module": "@jupyter-widgets/controls",
      "model_module_version": "2.0.0",
      "model_name": "ProgressStyleModel",
      "state": {
       "description_width": ""
      }
     },
     "b2af52bf142e45419e156f68bc405009": {
      "model_module": "@jupyter-widgets/controls",
      "model_module_version": "2.0.0",
      "model_name": "ProgressStyleModel",
      "state": {
       "description_width": ""
      }
     },
     "b2b294a9734b4131b135af5823825e58": {
      "model_module": "@jupyter-widgets/base",
      "model_module_version": "2.0.0",
      "model_name": "LayoutModel",
      "state": {}
     },
     "b2be5e3ff7694099bac9a2d0e50df368": {
      "model_module": "@jupyter-widgets/controls",
      "model_module_version": "2.0.0",
      "model_name": "HTMLModel",
      "state": {
       "layout": "IPY_MODEL_f92590fed9604b2d8779144617292448",
       "style": "IPY_MODEL_b3774c4e4a9a4eb182e893e7a6fa94fc",
       "value": "Epoch 46:  57%"
      }
     },
     "b2d5c6e427e74ada9b9c560167212140": {
      "model_module": "@jupyter-widgets/controls",
      "model_module_version": "2.0.0",
      "model_name": "HTMLStyleModel",
      "state": {
       "description_width": "",
       "font_size": null,
       "text_color": null
      }
     },
     "b2ddb05cebec4a439ae35934388b4242": {
      "model_module": "@jupyter-widgets/controls",
      "model_module_version": "2.0.0",
      "model_name": "HBoxModel",
      "state": {
       "children": [
        "IPY_MODEL_7b936e2bf2b4441bab0f44dfa2a3b9b2",
        "IPY_MODEL_95f97f9798e94533800c8bd3edf6c11d",
        "IPY_MODEL_8c62689cbc1749edaf7e4f219a6b7366"
       ],
       "layout": "IPY_MODEL_e9702848633a4220932851096a15ab58"
      }
     },
     "b32b11c9f5dc4299b964295b76503399": {
      "model_module": "@jupyter-widgets/controls",
      "model_module_version": "2.0.0",
      "model_name": "HTMLStyleModel",
      "state": {
       "description_width": "",
       "font_size": null,
       "text_color": null
      }
     },
     "b3774c4e4a9a4eb182e893e7a6fa94fc": {
      "model_module": "@jupyter-widgets/controls",
      "model_module_version": "2.0.0",
      "model_name": "HTMLStyleModel",
      "state": {
       "description_width": "",
       "font_size": null,
       "text_color": null
      }
     },
     "b3794973e6c949b08aa6aaa3a1719be9": {
      "model_module": "@jupyter-widgets/controls",
      "model_module_version": "2.0.0",
      "model_name": "HTMLModel",
      "state": {
       "layout": "IPY_MODEL_420f1d9487eb49da9a8c809ed85a43df",
       "style": "IPY_MODEL_b628c443713a4337b790be02a5de69a6",
       "value": "  0%"
      }
     },
     "b39431db2d73468f893eaf8a6e482049": {
      "model_module": "@jupyter-widgets/base",
      "model_module_version": "2.0.0",
      "model_name": "LayoutModel",
      "state": {}
     },
     "b3adf645e86e40578fb1a74c79eeccc4": {
      "model_module": "@jupyter-widgets/controls",
      "model_module_version": "2.0.0",
      "model_name": "ProgressStyleModel",
      "state": {
       "description_width": ""
      }
     },
     "b3dea43bd23b41f19795b18432464109": {
      "model_module": "@jupyter-widgets/controls",
      "model_module_version": "2.0.0",
      "model_name": "HBoxModel",
      "state": {
       "children": [
        "IPY_MODEL_f6cfc1cb0dc94c66a3b6d797a0c18d1f",
        "IPY_MODEL_5dd0205c75314daa864e8b6f07228e61",
        "IPY_MODEL_aca74d5b69f64b868247c1ac95dfe16e"
       ],
       "layout": "IPY_MODEL_92ba1e5f6af540bdb6819826a218478f"
      }
     },
     "b3f75925ed6047f382402aa7defa8988": {
      "model_module": "@jupyter-widgets/controls",
      "model_module_version": "2.0.0",
      "model_name": "HTMLStyleModel",
      "state": {
       "description_width": "",
       "font_size": null,
       "text_color": null
      }
     },
     "b414f8887f13490db57a6b2dcf248e90": {
      "model_module": "@jupyter-widgets/controls",
      "model_module_version": "2.0.0",
      "model_name": "ProgressStyleModel",
      "state": {
       "description_width": ""
      }
     },
     "b43f0b4f8e7e453d95e10c51a772ead8": {
      "model_module": "@jupyter-widgets/controls",
      "model_module_version": "2.0.0",
      "model_name": "ProgressStyleModel",
      "state": {
       "description_width": ""
      }
     },
     "b442bcb3138146baa95f77cd96879d8e": {
      "model_module": "@jupyter-widgets/controls",
      "model_module_version": "2.0.0",
      "model_name": "HTMLModel",
      "state": {
       "layout": "IPY_MODEL_73ff5e4be1254ed39cb83a41e2da054f",
       "style": "IPY_MODEL_975a59476a9844ec8655ee09e82f6c4d",
       "value": " 2/10 [02:56&lt;12:09, 91.15s/it]"
      }
     },
     "b45923af520d4d039a2c2cccaf93996c": {
      "model_module": "@jupyter-widgets/controls",
      "model_module_version": "2.0.0",
      "model_name": "FloatProgressModel",
      "state": {
       "bar_style": "success",
       "layout": "IPY_MODEL_3ce184b44d4e4019902e84821f0a4cc4",
       "max": 1,
       "style": "IPY_MODEL_869478c5e0da47738076ff59567a41af",
       "value": 1
      }
     },
     "b45fc10f51b04df2869abd34e99f779f": {
      "model_module": "@jupyter-widgets/controls",
      "model_module_version": "2.0.0",
      "model_name": "HTMLModel",
      "state": {
       "layout": "IPY_MODEL_a8857c6f415649479508a4c1c2293416",
       "style": "IPY_MODEL_b6136d39112840aa94b230f76dee2ab3",
       "value": "Epoch 80: 100%"
      }
     },
     "b46fb3297677456eb0e04a7c8a710973": {
      "model_module": "@jupyter-widgets/controls",
      "model_module_version": "2.0.0",
      "model_name": "HBoxModel",
      "state": {
       "children": [
        "IPY_MODEL_53da328527c24adfa83b0543e17db487",
        "IPY_MODEL_768615ddcd814bcea1c300686141e75d",
        "IPY_MODEL_73607deca04146b1a52d61b26676c7b9"
       ],
       "layout": "IPY_MODEL_cedd283badf845628f157f485d363877"
      }
     },
     "b4b1aae60ef44582a363cadbb94ec370": {
      "model_module": "@jupyter-widgets/controls",
      "model_module_version": "2.0.0",
      "model_name": "HBoxModel",
      "state": {
       "children": [
        "IPY_MODEL_c7370e3f4c58420ca89b786860ca8d88",
        "IPY_MODEL_802e12c666c146ba8394115b915a00ec",
        "IPY_MODEL_50c8e5c426414b8f9da890c27895585f"
       ],
       "layout": "IPY_MODEL_888db4bd93fb419a8c7699c01949c06c"
      }
     },
     "b4d2c1a5ab8a4bb89dfea24240d8920f": {
      "model_module": "@jupyter-widgets/controls",
      "model_module_version": "2.0.0",
      "model_name": "HTMLModel",
      "state": {
       "layout": "IPY_MODEL_0c0e62d5a7c54571a52ee9405e30f81c",
       "style": "IPY_MODEL_38787f3efe86483e9bf1fe11df24738f",
       "value": "Testing DataLoader 0: 100%"
      }
     },
     "b4d987aca5464c60b8798cfb810f95b1": {
      "model_module": "@jupyter-widgets/base",
      "model_module_version": "2.0.0",
      "model_name": "LayoutModel",
      "state": {
       "flex": "2"
      }
     },
     "b4f534c3f26347afbc017d769c19861e": {
      "model_module": "@jupyter-widgets/controls",
      "model_module_version": "2.0.0",
      "model_name": "ProgressStyleModel",
      "state": {
       "description_width": ""
      }
     },
     "b529454761ad4287aa7483f4efc13d14": {
      "model_module": "@jupyter-widgets/controls",
      "model_module_version": "2.0.0",
      "model_name": "FloatProgressModel",
      "state": {
       "bar_style": "danger",
       "layout": "IPY_MODEL_83c8378d793941788e25624633d7976d",
       "max": 5,
       "style": "IPY_MODEL_9d93f3b67a6141d0965c8117dd404c18",
       "value": 4
      }
     },
     "b53a21681edf4f408f28370d5238cf81": {
      "model_module": "@jupyter-widgets/controls",
      "model_module_version": "2.0.0",
      "model_name": "HTMLStyleModel",
      "state": {
       "description_width": "",
       "font_size": null,
       "text_color": null
      }
     },
     "b57f87c0f4e349f6936fea7adb055fbe": {
      "model_module": "@jupyter-widgets/base",
      "model_module_version": "2.0.0",
      "model_name": "LayoutModel",
      "state": {}
     },
     "b58d89dff0b04a1ba88b48ba0179a1c0": {
      "model_module": "@jupyter-widgets/base",
      "model_module_version": "2.0.0",
      "model_name": "LayoutModel",
      "state": {}
     },
     "b5d082dd594d458f915e71aef0b3c306": {
      "model_module": "@jupyter-widgets/controls",
      "model_module_version": "2.0.0",
      "model_name": "HTMLModel",
      "state": {
       "layout": "IPY_MODEL_7cbd61c8df2f43d38ec75d7a2c367d85",
       "style": "IPY_MODEL_d37b19020dd140159db5dd8c30b21647",
       "value": "  0%"
      }
     },
     "b61298e909c34ec6bfe7d881e3baae99": {
      "model_module": "@jupyter-widgets/controls",
      "model_module_version": "2.0.0",
      "model_name": "HTMLModel",
      "state": {
       "layout": "IPY_MODEL_fc104cc089b04baf94f56cc39fdd53b5",
       "style": "IPY_MODEL_9d3bc79138884751bd0cc90c069f84a4",
       "value": " 80/80 [00:00&lt;00:00, 304.06it/s, loss=7.57, v_num=45, MAE=9.320, RMSE=11.90, Loss=7.580, RegLoss=7.390]"
      }
     },
     "b6136d39112840aa94b230f76dee2ab3": {
      "model_module": "@jupyter-widgets/controls",
      "model_module_version": "2.0.0",
      "model_name": "HTMLStyleModel",
      "state": {
       "description_width": "",
       "font_size": null,
       "text_color": null
      }
     },
     "b628c443713a4337b790be02a5de69a6": {
      "model_module": "@jupyter-widgets/controls",
      "model_module_version": "2.0.0",
      "model_name": "HTMLStyleModel",
      "state": {
       "description_width": "",
       "font_size": null,
       "text_color": null
      }
     },
     "b65a3017f3aa491c9cccb8db869da165": {
      "model_module": "@jupyter-widgets/controls",
      "model_module_version": "2.0.0",
      "model_name": "HTMLModel",
      "state": {
       "layout": "IPY_MODEL_4a09796ce9964bada8898e9d7fd24f49",
       "style": "IPY_MODEL_3df738aa8c104e5f87cca0c347eb4c7c",
       "value": " 1/1 [00:00&lt;00:00, 87.00it/s]"
      }
     },
     "b66c1e4804414bb99eeb849312854fb1": {
      "model_module": "@jupyter-widgets/base",
      "model_module_version": "2.0.0",
      "model_name": "LayoutModel",
      "state": {
       "display": "inline-flex",
       "flex_flow": "row wrap",
       "width": "100%"
      }
     },
     "b67b120716f7416088883ee6313b3544": {
      "model_module": "@jupyter-widgets/base",
      "model_module_version": "2.0.0",
      "model_name": "LayoutModel",
      "state": {
       "flex": "2"
      }
     },
     "b687402338a7447891e6f2e2dd65b221": {
      "model_module": "@jupyter-widgets/controls",
      "model_module_version": "2.0.0",
      "model_name": "ProgressStyleModel",
      "state": {
       "description_width": ""
      }
     },
     "b69b41f5c32b473383fa85780a8cd524": {
      "model_module": "@jupyter-widgets/controls",
      "model_module_version": "2.0.0",
      "model_name": "HTMLStyleModel",
      "state": {
       "description_width": "",
       "font_size": null,
       "text_color": null
      }
     },
     "b6a702f5170048c08c74b774724f7d85": {
      "model_module": "@jupyter-widgets/base",
      "model_module_version": "2.0.0",
      "model_name": "LayoutModel",
      "state": {}
     },
     "b6cda9b1274546629c12a1e6bcd02784": {
      "model_module": "@jupyter-widgets/base",
      "model_module_version": "2.0.0",
      "model_name": "LayoutModel",
      "state": {}
     },
     "b6d15f905edf4fbf98e946663cdd455d": {
      "model_module": "@jupyter-widgets/base",
      "model_module_version": "2.0.0",
      "model_name": "LayoutModel",
      "state": {}
     },
     "b6e82dcbd063421da2b643fcf9b2a414": {
      "model_module": "@jupyter-widgets/controls",
      "model_module_version": "2.0.0",
      "model_name": "HTMLStyleModel",
      "state": {
       "description_width": "",
       "font_size": null,
       "text_color": null
      }
     },
     "b6f234d154a847e09bee9c25b1270f62": {
      "model_module": "@jupyter-widgets/controls",
      "model_module_version": "2.0.0",
      "model_name": "HTMLModel",
      "state": {
       "layout": "IPY_MODEL_3376b2bac86f4a41b656afe1bdf6864e",
       "style": "IPY_MODEL_720bcbb368d14e55887b3a4a8c07f282",
       "value": " 53/80 [01:42&lt;00:52,  1.94s/it, loss=0.058, v_num=14, MAE=3.720, RMSE=4.700, Loss=0.0561, RegLoss=0.000]"
      }
     },
     "b6f3e12dcfaa4869b1ae659e9bfcd20d": {
      "model_module": "@jupyter-widgets/controls",
      "model_module_version": "2.0.0",
      "model_name": "HTMLStyleModel",
      "state": {
       "description_width": "",
       "font_size": null,
       "text_color": null
      }
     },
     "b700fb7f991147a181e67ca5798f8716": {
      "model_module": "@jupyter-widgets/controls",
      "model_module_version": "2.0.0",
      "model_name": "ProgressStyleModel",
      "state": {
       "description_width": ""
      }
     },
     "b716b36a5c7a49a9afd375c9effe059c": {
      "model_module": "@jupyter-widgets/controls",
      "model_module_version": "2.0.0",
      "model_name": "HTMLModel",
      "state": {
       "layout": "IPY_MODEL_f0828a90b1804fd19b3cc23d633fc6fa",
       "style": "IPY_MODEL_94a6bc693749410aba67cdca2a87a953",
       "value": " 1/1 [00:00&lt;00:00, 243.32it/s]"
      }
     },
     "b73ed9ca59784d13a7a3bd7b2cf2de0d": {
      "model_module": "@jupyter-widgets/controls",
      "model_module_version": "2.0.0",
      "model_name": "FloatProgressModel",
      "state": {
       "bar_style": "danger",
       "layout": "IPY_MODEL_ec916e69babf4b3e807ca54a51f72fb9",
       "max": 10,
       "style": "IPY_MODEL_8dc4406843ac4e6e803f2309dd367c43"
      }
     },
     "b769daddf11b4d518f60b98b7d6897ee": {
      "model_module": "@jupyter-widgets/base",
      "model_module_version": "2.0.0",
      "model_name": "LayoutModel",
      "state": {
       "display": "inline-flex",
       "flex_flow": "row wrap",
       "width": "100%"
      }
     },
     "b7ab16658812415abceb02291809b23e": {
      "model_module": "@jupyter-widgets/base",
      "model_module_version": "2.0.0",
      "model_name": "LayoutModel",
      "state": {}
     },
     "b7b7b3e5bdf0488a82c80b0a6bce475e": {
      "model_module": "@jupyter-widgets/controls",
      "model_module_version": "2.0.0",
      "model_name": "HTMLStyleModel",
      "state": {
       "description_width": "",
       "font_size": null,
       "text_color": null
      }
     },
     "b7dfb6ac4ac142c59b9f6c4a88db98a9": {
      "model_module": "@jupyter-widgets/controls",
      "model_module_version": "2.0.0",
      "model_name": "HTMLModel",
      "state": {
       "layout": "IPY_MODEL_420f44707abb4e0a885c7c4e2694b05e",
       "style": "IPY_MODEL_55a41cfa0b83453cb3c1856c35628f87",
       "value": " 1/1 [00:00&lt;00:00, 91.51it/s]"
      }
     },
     "b7e41d88998f4e68baa402167834512d": {
      "model_module": "@jupyter-widgets/controls",
      "model_module_version": "2.0.0",
      "model_name": "HTMLStyleModel",
      "state": {
       "description_width": "",
       "font_size": null,
       "text_color": null
      }
     },
     "b810f1d33d434ecd951cc56230660e3a": {
      "model_module": "@jupyter-widgets/controls",
      "model_module_version": "2.0.0",
      "model_name": "HTMLModel",
      "state": {
       "layout": "IPY_MODEL_89051043272b4d00917b41eff41e1ccb",
       "style": "IPY_MODEL_930c2dc748f949c38db640fb0b500ba9",
       "value": " 1/80 [01:24&lt;1:51:42, 84.84s/it]"
      }
     },
     "b8221682090e4e68adb9496a7948bd83": {
      "model_module": "@jupyter-widgets/controls",
      "model_module_version": "2.0.0",
      "model_name": "HTMLModel",
      "state": {
       "layout": "IPY_MODEL_018f1426427e44a6b77ba7167b3182b1",
       "style": "IPY_MODEL_bf65e075c1f542d1b9190cbfeeed8bd5",
       "value": " 1/1 [00:00&lt;00:00, 84.18it/s]"
      }
     },
     "b833cc88f7b54b088c8f6a336ae2405a": {
      "model_module": "@jupyter-widgets/base",
      "model_module_version": "2.0.0",
      "model_name": "LayoutModel",
      "state": {}
     },
     "b83587da13294a98887bc755b3d9803d": {
      "model_module": "@jupyter-widgets/base",
      "model_module_version": "2.0.0",
      "model_name": "LayoutModel",
      "state": {}
     },
     "b845ef3ab7af4a489745fb54abc4c609": {
      "model_module": "@jupyter-widgets/controls",
      "model_module_version": "2.0.0",
      "model_name": "ProgressStyleModel",
      "state": {
       "description_width": ""
      }
     },
     "b84ddec9bb4b49fd955eb8a61726f389": {
      "model_module": "@jupyter-widgets/controls",
      "model_module_version": "2.0.0",
      "model_name": "HTMLModel",
      "state": {
       "layout": "IPY_MODEL_bd478ff563644ebd8025764aa479aa6e",
       "style": "IPY_MODEL_f35e8bb254674eb3a3df932a6ff06f5e",
       "value": " 0/1 [00:01&lt;?, ?it/s]"
      }
     },
     "b8526d9e91fd400496205dc975575e0f": {
      "model_module": "@jupyter-widgets/controls",
      "model_module_version": "2.0.0",
      "model_name": "HTMLStyleModel",
      "state": {
       "description_width": "",
       "font_size": null,
       "text_color": null
      }
     },
     "b85bc3a5529b427682bb7dbc6a453540": {
      "model_module": "@jupyter-widgets/controls",
      "model_module_version": "2.0.0",
      "model_name": "HTMLModel",
      "state": {
       "layout": "IPY_MODEL_de0ee6524bfd4c35a5e6b81843dfaabf",
       "style": "IPY_MODEL_2c643fe8e7f0437dae4ec84577da4181",
       "value": " 1/1 [00:00&lt;00:00, 93.75it/s]"
      }
     },
     "b85fd0fe6c64414293d7f1d185835b64": {
      "model_module": "@jupyter-widgets/controls",
      "model_module_version": "2.0.0",
      "model_name": "ProgressStyleModel",
      "state": {
       "description_width": ""
      }
     },
     "b8833ac36e6342b4b6efe3676f1c9f15": {
      "model_module": "@jupyter-widgets/base",
      "model_module_version": "2.0.0",
      "model_name": "LayoutModel",
      "state": {}
     },
     "b88d208b571c4275b4a610ae5fe384ab": {
      "model_module": "@jupyter-widgets/controls",
      "model_module_version": "2.0.0",
      "model_name": "HTMLStyleModel",
      "state": {
       "description_width": "",
       "font_size": null,
       "text_color": null
      }
     },
     "b891aac7ab834addae014c9267dac63c": {
      "model_module": "@jupyter-widgets/base",
      "model_module_version": "2.0.0",
      "model_name": "LayoutModel",
      "state": {}
     },
     "b8a3df7d4fd3477781a722e225b4a85b": {
      "model_module": "@jupyter-widgets/controls",
      "model_module_version": "2.0.0",
      "model_name": "HBoxModel",
      "state": {
       "children": [
        "IPY_MODEL_418b70a7ab6b4563ab17d68c644fa3d5",
        "IPY_MODEL_456f4816feeb468f9845a130be065de1",
        "IPY_MODEL_8ff79812380d4f6e891370b53c9e9bdc"
       ],
       "layout": "IPY_MODEL_41e4778bc5da41b0ba862cb825dd6017"
      }
     },
     "b903be8930fd496db4c9eba34fe2e30c": {
      "model_module": "@jupyter-widgets/base",
      "model_module_version": "2.0.0",
      "model_name": "LayoutModel",
      "state": {}
     },
     "b920bbdce72d4f0c9aa3afd67f55ed55": {
      "model_module": "@jupyter-widgets/base",
      "model_module_version": "2.0.0",
      "model_name": "LayoutModel",
      "state": {
       "flex": "2"
      }
     },
     "b94dcc02c7914c24a76923e237ddb7a6": {
      "model_module": "@jupyter-widgets/controls",
      "model_module_version": "2.0.0",
      "model_name": "HTMLStyleModel",
      "state": {
       "description_width": "",
       "font_size": null,
       "text_color": null
      }
     },
     "b95ba0c068554a8f85297cbf9eaa4a66": {
      "model_module": "@jupyter-widgets/base",
      "model_module_version": "2.0.0",
      "model_name": "LayoutModel",
      "state": {
       "flex": "2"
      }
     },
     "b97b6497fb0e4564834ed3be3d7c8ef7": {
      "model_module": "@jupyter-widgets/base",
      "model_module_version": "2.0.0",
      "model_name": "LayoutModel",
      "state": {
       "flex": "2"
      }
     },
     "b985aca381244d9c84671b18b7e6c334": {
      "model_module": "@jupyter-widgets/controls",
      "model_module_version": "2.0.0",
      "model_name": "HTMLStyleModel",
      "state": {
       "description_width": "",
       "font_size": null,
       "text_color": null
      }
     },
     "b98b4591154b4041a5943a352413b941": {
      "model_module": "@jupyter-widgets/controls",
      "model_module_version": "2.0.0",
      "model_name": "HTMLModel",
      "state": {
       "layout": "IPY_MODEL_0ea30bdf3fb04885a03930616699d2d6",
       "style": "IPY_MODEL_848eb2835e84499093b07afd0657e0c7",
       "value": " 1/1 [00:00&lt;00:00, 120.96it/s]"
      }
     },
     "b98f5773c6dd440fb97a15d52937bf38": {
      "model_module": "@jupyter-widgets/base",
      "model_module_version": "2.0.0",
      "model_name": "LayoutModel",
      "state": {
       "display": "inline-flex",
       "flex_flow": "row wrap",
       "visibility": "hidden",
       "width": "100%"
      }
     },
     "b9a24c27091949feb40ed71abb093ae1": {
      "model_module": "@jupyter-widgets/controls",
      "model_module_version": "2.0.0",
      "model_name": "HTMLStyleModel",
      "state": {
       "description_width": "",
       "font_size": null,
       "text_color": null
      }
     },
     "b9e51516ce9340ad82fcd91561e7b698": {
      "model_module": "@jupyter-widgets/controls",
      "model_module_version": "2.0.0",
      "model_name": "FloatProgressModel",
      "state": {
       "bar_style": "success",
       "layout": "IPY_MODEL_980f100f3b9d458c985d99e6de619887",
       "max": 1,
       "style": "IPY_MODEL_a1ee67202f93492ca5dd37b05ed0d732",
       "value": 1
      }
     },
     "b9f54a2a219b4b32919831226fde6ce1": {
      "model_module": "@jupyter-widgets/base",
      "model_module_version": "2.0.0",
      "model_name": "LayoutModel",
      "state": {}
     },
     "b9fd595623ae468db2510f4f7e03df32": {
      "model_module": "@jupyter-widgets/base",
      "model_module_version": "2.0.0",
      "model_name": "LayoutModel",
      "state": {}
     },
     "ba05a1b6f4b84dabafa6c6b3d0e5e91c": {
      "model_module": "@jupyter-widgets/controls",
      "model_module_version": "2.0.0",
      "model_name": "HTMLModel",
      "state": {
       "layout": "IPY_MODEL_ffd23a3a187a4fca8e3e5bd0656ff5cf",
       "style": "IPY_MODEL_e8a41ed6c6994ee9a479f918b562461b",
       "value": "Epoch 3:   4%"
      }
     },
     "ba0d440a5337443fa2fa79c7063f3ba3": {
      "model_module": "@jupyter-widgets/controls",
      "model_module_version": "2.0.0",
      "model_name": "HBoxModel",
      "state": {
       "children": [
        "IPY_MODEL_8f68662f34664a63bebaca7092d816f3",
        "IPY_MODEL_057170c88b2d4775a1e420d814f6c04e",
        "IPY_MODEL_f8c25f59b4ac4ff48fe1b66fde1a6e6c"
       ],
       "layout": "IPY_MODEL_ca903ba9d1ee46509c4de057315cb571"
      }
     },
     "ba4ddae065234f9c93339a2aff846e3a": {
      "model_module": "@jupyter-widgets/controls",
      "model_module_version": "2.0.0",
      "model_name": "HTMLModel",
      "state": {
       "layout": "IPY_MODEL_bf79521496e84c8c98517b4b24ff7d0c",
       "style": "IPY_MODEL_2a470a51716c4ce58c648c98828ef8fa",
       "value": " 1/1 [00:00&lt;00:00, 221.14it/s]"
      }
     },
     "ba65362f0f6d4391a18b55696745b8a3": {
      "model_module": "@jupyter-widgets/base",
      "model_module_version": "2.0.0",
      "model_name": "LayoutModel",
      "state": {}
     },
     "ba8335b198cd48c4b40a5d0a0fa4ea1b": {
      "model_module": "@jupyter-widgets/base",
      "model_module_version": "2.0.0",
      "model_name": "LayoutModel",
      "state": {}
     },
     "baab86bc295346da98053bb32ee08db4": {
      "model_module": "@jupyter-widgets/controls",
      "model_module_version": "2.0.0",
      "model_name": "ProgressStyleModel",
      "state": {
       "description_width": ""
      }
     },
     "baccdfccff244f0a8c1d850cad802834": {
      "model_module": "@jupyter-widgets/controls",
      "model_module_version": "2.0.0",
      "model_name": "HTMLStyleModel",
      "state": {
       "description_width": "",
       "font_size": null,
       "text_color": null
      }
     },
     "badfe97008184b1f9ade9ab4536f4647": {
      "model_module": "@jupyter-widgets/controls",
      "model_module_version": "2.0.0",
      "model_name": "FloatProgressModel",
      "state": {
       "bar_style": "success",
       "layout": "IPY_MODEL_c7b1f21703cf42adbefaafe81d152147",
       "max": 1,
       "style": "IPY_MODEL_1fa034b6d25e42688cdb21392af233fe",
       "value": 1
      }
     },
     "bae3b482a9804315b16ca2a3ac385ce3": {
      "model_module": "@jupyter-widgets/controls",
      "model_module_version": "2.0.0",
      "model_name": "HTMLModel",
      "state": {
       "layout": "IPY_MODEL_14cb64f1fd2447d693272736deb0f4c0",
       "style": "IPY_MODEL_fe26fc615f4e4d95938fbb25b098ca1b",
       "value": "  0%"
      }
     },
     "bb1bb80b635e4d24a45f8970e59d50fc": {
      "model_module": "@jupyter-widgets/base",
      "model_module_version": "2.0.0",
      "model_name": "LayoutModel",
      "state": {
       "flex": "2"
      }
     },
     "bb1e414aa13941919cd60c6daec1d04f": {
      "model_module": "@jupyter-widgets/controls",
      "model_module_version": "2.0.0",
      "model_name": "HTMLStyleModel",
      "state": {
       "description_width": "",
       "font_size": null,
       "text_color": null
      }
     },
     "bb38cfdd26234a7c9708772d54152fc9": {
      "model_module": "@jupyter-widgets/controls",
      "model_module_version": "2.0.0",
      "model_name": "FloatProgressModel",
      "state": {
       "bar_style": "success",
       "layout": "IPY_MODEL_c51b74abf795498887fbed486314e3b8",
       "max": 80,
       "style": "IPY_MODEL_b700fb7f991147a181e67ca5798f8716",
       "value": 80
      }
     },
     "bb54652f76c24765b7deeee7638dbe14": {
      "model_module": "@jupyter-widgets/controls",
      "model_module_version": "2.0.0",
      "model_name": "FloatProgressModel",
      "state": {
       "bar_style": "danger",
       "layout": "IPY_MODEL_730f765d227f4fb9aef8ab76a45cab21",
       "max": 80,
       "style": "IPY_MODEL_951827df99b04b31a6151b6111800b32",
       "value": 29
      }
     },
     "bb7f648b5f614894a196b4abe98035e4": {
      "model_module": "@jupyter-widgets/controls",
      "model_module_version": "2.0.0",
      "model_name": "FloatProgressModel",
      "state": {
       "bar_style": "danger",
       "layout": "IPY_MODEL_19e1eb19e2a143d2b005bccac5b7000f",
       "max": 1,
       "style": "IPY_MODEL_5eb022eeecb2461cae4b60081345c756"
      }
     },
     "bb98ad2b34d44b14883226671e6bea71": {
      "model_module": "@jupyter-widgets/base",
      "model_module_version": "2.0.0",
      "model_name": "LayoutModel",
      "state": {}
     },
     "bba374551c014a7fbc5f4ec8c666a903": {
      "model_module": "@jupyter-widgets/base",
      "model_module_version": "2.0.0",
      "model_name": "LayoutModel",
      "state": {}
     },
     "bbaa4664b0614ccc9b7ca0cd61a69a8a": {
      "model_module": "@jupyter-widgets/controls",
      "model_module_version": "2.0.0",
      "model_name": "FloatProgressModel",
      "state": {
       "bar_style": "success",
       "layout": "IPY_MODEL_6bed07b6ed86460fb3ce626fcb222fbb",
       "max": 1,
       "style": "IPY_MODEL_d054ecaf7e914400a29f392c746203af",
       "value": 1
      }
     },
     "bbd28f89f9884234adaeef0668fbd6c1": {
      "model_module": "@jupyter-widgets/base",
      "model_module_version": "2.0.0",
      "model_name": "LayoutModel",
      "state": {
       "display": "inline-flex",
       "flex_flow": "row wrap",
       "width": "100%"
      }
     },
     "bbd869eb13a64b70bd0547db85132387": {
      "model_module": "@jupyter-widgets/base",
      "model_module_version": "2.0.0",
      "model_name": "LayoutModel",
      "state": {}
     },
     "bbda28043e17487b81d6c1eb75fff787": {
      "model_module": "@jupyter-widgets/controls",
      "model_module_version": "2.0.0",
      "model_name": "HTMLModel",
      "state": {
       "layout": "IPY_MODEL_11068b6d9d824bc391f5d167186b841d",
       "style": "IPY_MODEL_4228ace251994763b161d56696b50930",
       "value": " 19/80 [00:00&lt;00:00, 181.62it/s, loss=0.153, v_num=7, MAE=5.870, RMSE=7.500, Loss=0.147, RegLoss=0.000]"
      }
     },
     "bbf9ef2834454e8fba1d8885c8acb0bb": {
      "model_module": "@jupyter-widgets/base",
      "model_module_version": "2.0.0",
      "model_name": "LayoutModel",
      "state": {
       "flex": "2"
      }
     },
     "bbfb49bebca74c6d89804552ecd7ca5a": {
      "model_module": "@jupyter-widgets/base",
      "model_module_version": "2.0.0",
      "model_name": "LayoutModel",
      "state": {}
     },
     "bbfcb14ffa3e48a991ac38787c16f2c7": {
      "model_module": "@jupyter-widgets/controls",
      "model_module_version": "2.0.0",
      "model_name": "FloatProgressModel",
      "state": {
       "layout": "IPY_MODEL_6493298fc09d45ecae68a3a829065ecc",
       "max": 1,
       "style": "IPY_MODEL_68b69d8a6d90426d9cfa8e492b4433b4",
       "value": 1
      }
     },
     "bc070bde792a4656a1e4df621ce02a86": {
      "model_module": "@jupyter-widgets/controls",
      "model_module_version": "2.0.0",
      "model_name": "HBoxModel",
      "state": {
       "children": [
        "IPY_MODEL_10eded6024e5472e9ef3c7cf13740743",
        "IPY_MODEL_a2a91e69e84e478e8706410b13f6dd6b",
        "IPY_MODEL_bd1e33e806624dbcad8f81b00a5a1d4e"
       ],
       "layout": "IPY_MODEL_af5ac14545514cedbe6bcbd00927fbcb"
      }
     },
     "bc62551184be42a69773129c7b7d3b08": {
      "model_module": "@jupyter-widgets/controls",
      "model_module_version": "2.0.0",
      "model_name": "HTMLModel",
      "state": {
       "layout": "IPY_MODEL_0235abc2355d42d6aa8a2d264fb8ab41",
       "style": "IPY_MODEL_09ab4e6dff164f639e816a1c99d341a0",
       "value": " 80/80 [00:01&lt;00:00, 56.34it/s, loss=0.0591]"
      }
     },
     "bc720bbc90064ef79b1201b7b0efa5f6": {
      "model_module": "@jupyter-widgets/base",
      "model_module_version": "2.0.0",
      "model_name": "LayoutModel",
      "state": {
       "display": "inline-flex",
       "flex_flow": "row wrap",
       "width": "100%"
      }
     },
     "bc8b98253f2c4cd7ac1c0889d761815d": {
      "model_module": "@jupyter-widgets/controls",
      "model_module_version": "2.0.0",
      "model_name": "FloatProgressModel",
      "state": {
       "bar_style": "danger",
       "layout": "IPY_MODEL_adc295d9368941a7a41624939ea71fdf",
       "max": 80,
       "style": "IPY_MODEL_3637fb726e2147038062a98012bbdff9",
       "value": 46
      }
     },
     "bc90b0a6a25c43e0b0f410d86475c766": {
      "model_module": "@jupyter-widgets/base",
      "model_module_version": "2.0.0",
      "model_name": "LayoutModel",
      "state": {}
     },
     "bc98e7f0d25c4edbb98c98cbf668a37f": {
      "model_module": "@jupyter-widgets/base",
      "model_module_version": "2.0.0",
      "model_name": "LayoutModel",
      "state": {}
     },
     "bcedd1d314184d6a9d9ee4b83f0de002": {
      "model_module": "@jupyter-widgets/base",
      "model_module_version": "2.0.0",
      "model_name": "LayoutModel",
      "state": {}
     },
     "bcee20b2c43841aba7b1ef326d4ffb50": {
      "model_module": "@jupyter-widgets/base",
      "model_module_version": "2.0.0",
      "model_name": "LayoutModel",
      "state": {
       "display": "inline-flex",
       "flex_flow": "row wrap",
       "width": "100%"
      }
     },
     "bcee2841a72044549e4a08a593334acd": {
      "model_module": "@jupyter-widgets/controls",
      "model_module_version": "2.0.0",
      "model_name": "HTMLModel",
      "state": {
       "layout": "IPY_MODEL_0f268c3a73e34a75a44706a4f84a30cf",
       "style": "IPY_MODEL_60df4edee67b4ba49a35ba92c6a8589d",
       "value": " 53/80 [02:40&lt;01:21,  3.03s/it, loss=0.0486]"
      }
     },
     "bd11504d4d034a82862182ae46200251": {
      "model_module": "@jupyter-widgets/controls",
      "model_module_version": "2.0.0",
      "model_name": "HTMLStyleModel",
      "state": {
       "description_width": "",
       "font_size": null,
       "text_color": null
      }
     },
     "bd1e33e806624dbcad8f81b00a5a1d4e": {
      "model_module": "@jupyter-widgets/controls",
      "model_module_version": "2.0.0",
      "model_name": "HTMLModel",
      "state": {
       "layout": "IPY_MODEL_c870c410ee494ac19bdd493fcc485490",
       "style": "IPY_MODEL_38d5674c43ed4632a45ace65b65da8e4",
       "value": " 0/10 [00:22&lt;?, ?it/s]"
      }
     },
     "bd29fabfb34c45d0a04da083cab0783e": {
      "model_module": "@jupyter-widgets/base",
      "model_module_version": "2.0.0",
      "model_name": "LayoutModel",
      "state": {
       "display": "inline-flex",
       "flex_flow": "row wrap",
       "width": "100%"
      }
     },
     "bd478ff563644ebd8025764aa479aa6e": {
      "model_module": "@jupyter-widgets/base",
      "model_module_version": "2.0.0",
      "model_name": "LayoutModel",
      "state": {}
     },
     "bd898b974e384039a7b66df8d030da30": {
      "model_module": "@jupyter-widgets/controls",
      "model_module_version": "2.0.0",
      "model_name": "HBoxModel",
      "state": {
       "children": [
        "IPY_MODEL_23bbcbcdee744effa9e55a6ae4b3072d",
        "IPY_MODEL_37ad7e38c23c41bfadefcdb7c604cc11",
        "IPY_MODEL_6592118489d04bd39fd8ec96aff25a63"
       ],
       "layout": "IPY_MODEL_0e44385ea7304bc48f0989e5938ef51c"
      }
     },
     "be3618f84e004077ac41a1dc7f73f474": {
      "model_module": "@jupyter-widgets/base",
      "model_module_version": "2.0.0",
      "model_name": "LayoutModel",
      "state": {}
     },
     "be3fcdb9e5f44ed7863855eee9b9f736": {
      "model_module": "@jupyter-widgets/controls",
      "model_module_version": "2.0.0",
      "model_name": "HTMLModel",
      "state": {
       "layout": "IPY_MODEL_304450e1033142e689c61aebba7874f8",
       "style": "IPY_MODEL_7ca53108a23942f1a4d4de65c0119494",
       "value": " 5/80 [00:18&lt;04:33,  3.65s/it, loss=0.179]"
      }
     },
     "be683f2d1c134fc294fbd1ecf9649bae": {
      "model_module": "@jupyter-widgets/controls",
      "model_module_version": "2.0.0",
      "model_name": "FloatProgressModel",
      "state": {
       "bar_style": "danger",
       "layout": "IPY_MODEL_5883fb687467456da4a8ab33c4ff038f",
       "max": 80,
       "style": "IPY_MODEL_189748719bf9449fb94bc79dd8b79e71",
       "value": 53
      }
     },
     "be7175299fc846b396cde9c7b446d05f": {
      "model_module": "@jupyter-widgets/controls",
      "model_module_version": "2.0.0",
      "model_name": "HTMLStyleModel",
      "state": {
       "description_width": "",
       "font_size": null,
       "text_color": null
      }
     },
     "be81d5a16fe94e0d99b29941ae472b37": {
      "model_module": "@jupyter-widgets/controls",
      "model_module_version": "2.0.0",
      "model_name": "HTMLStyleModel",
      "state": {
       "description_width": "",
       "font_size": null,
       "text_color": null
      }
     },
     "be96baf96eb441e8b646f9c7e4bbc282": {
      "model_module": "@jupyter-widgets/base",
      "model_module_version": "2.0.0",
      "model_name": "LayoutModel",
      "state": {}
     },
     "be9c5c269ebf455b9d54c0c48aebb080": {
      "model_module": "@jupyter-widgets/base",
      "model_module_version": "2.0.0",
      "model_name": "LayoutModel",
      "state": {
       "display": "inline-flex",
       "flex_flow": "row wrap",
       "width": "100%"
      }
     },
     "bea67c978f174038a00e700ddfa60660": {
      "model_module": "@jupyter-widgets/controls",
      "model_module_version": "2.0.0",
      "model_name": "FloatProgressModel",
      "state": {
       "layout": "IPY_MODEL_462947cc8d3549f194f5343fca906a02",
       "max": 1,
       "style": "IPY_MODEL_21424c967cbc41059c8cad624c6e7eaf",
       "value": 1
      }
     },
     "bec81e66e93a40bb8d7f964821184e22": {
      "model_module": "@jupyter-widgets/base",
      "model_module_version": "2.0.0",
      "model_name": "LayoutModel",
      "state": {}
     },
     "becea4a579a2432fae4a9120e34f6bac": {
      "model_module": "@jupyter-widgets/controls",
      "model_module_version": "2.0.0",
      "model_name": "HTMLModel",
      "state": {
       "layout": "IPY_MODEL_d41b95b13fd043929ca07ace906c04e6",
       "style": "IPY_MODEL_cd17980bf66141a0a156e0bff7242f18",
       "value": "Validation DataLoader 0: 100%"
      }
     },
     "bef9978edef14dd88bc8061b20ba9f33": {
      "model_module": "@jupyter-widgets/base",
      "model_module_version": "2.0.0",
      "model_name": "LayoutModel",
      "state": {}
     },
     "bf23f98413a945338b62adbe6a22344b": {
      "model_module": "@jupyter-widgets/base",
      "model_module_version": "2.0.0",
      "model_name": "LayoutModel",
      "state": {
       "display": "inline-flex",
       "flex_flow": "row wrap",
       "width": "100%"
      }
     },
     "bf26e9239d6943c589e918d91cff3791": {
      "model_module": "@jupyter-widgets/controls",
      "model_module_version": "2.0.0",
      "model_name": "ProgressStyleModel",
      "state": {
       "description_width": ""
      }
     },
     "bf3bdbf840574b0d982402b6e8370f85": {
      "model_module": "@jupyter-widgets/controls",
      "model_module_version": "2.0.0",
      "model_name": "HTMLStyleModel",
      "state": {
       "description_width": "",
       "font_size": null,
       "text_color": null
      }
     },
     "bf598e1872534554ba3ec01eccaf3a31": {
      "model_module": "@jupyter-widgets/controls",
      "model_module_version": "2.0.0",
      "model_name": "HBoxModel",
      "state": {
       "children": [
        "IPY_MODEL_dab470dbf1e343febc47820410970c58",
        "IPY_MODEL_c979a8ce7fda4c6aa48bb5f74c5234b0",
        "IPY_MODEL_8161c3ad909a479bb2fe5ed5bb2481ac"
       ],
       "layout": "IPY_MODEL_6b05cf7e6af24e6b977e8907c13b50fd"
      }
     },
     "bf6311651c3f4f34b65deef8038edea3": {
      "model_module": "@jupyter-widgets/controls",
      "model_module_version": "2.0.0",
      "model_name": "HTMLModel",
      "state": {
       "layout": "IPY_MODEL_ef280b7c41b443ee8d68fc007f0d721b",
       "style": "IPY_MODEL_64e6d076a9824dd1b9bf789111de63f2",
       "value": "Testing DataLoader 0: 100%"
      }
     },
     "bf65e075c1f542d1b9190cbfeeed8bd5": {
      "model_module": "@jupyter-widgets/controls",
      "model_module_version": "2.0.0",
      "model_name": "HTMLStyleModel",
      "state": {
       "description_width": "",
       "font_size": null,
       "text_color": null
      }
     },
     "bf79521496e84c8c98517b4b24ff7d0c": {
      "model_module": "@jupyter-widgets/base",
      "model_module_version": "2.0.0",
      "model_name": "LayoutModel",
      "state": {}
     },
     "bf99ed8e08f64fb2977c7875b29bb86c": {
      "model_module": "@jupyter-widgets/controls",
      "model_module_version": "2.0.0",
      "model_name": "HTMLStyleModel",
      "state": {
       "description_width": "",
       "font_size": null,
       "text_color": null
      }
     },
     "bfa8cdb8004140bd97962dcb10570398": {
      "model_module": "@jupyter-widgets/controls",
      "model_module_version": "2.0.0",
      "model_name": "HTMLModel",
      "state": {
       "layout": "IPY_MODEL_b1db1f3ccba647669f225c185b418ef5",
       "style": "IPY_MODEL_b6e82dcbd063421da2b643fcf9b2a414",
       "value": " 80/80 [00:00&lt;00:00, 163.74it/s, loss=0.116, v_num=6, MAE=3.690, RMSE=4.660, Loss=0.117, RegLoss=0.0611]"
      }
     },
     "bfc19c68fed54cd5906aebda29a83be2": {
      "model_module": "@jupyter-widgets/controls",
      "model_module_version": "2.0.0",
      "model_name": "HTMLModel",
      "state": {
       "layout": "IPY_MODEL_97088c69e19e403caab079f1751b7691",
       "style": "IPY_MODEL_ddded9ed002b420e824d228c80c91642",
       "value": " 0/10 [00:00&lt;?, ?it/s]"
      }
     },
     "bfc6350968db47c2a8736f36771a913e": {
      "model_module": "@jupyter-widgets/base",
      "model_module_version": "2.0.0",
      "model_name": "LayoutModel",
      "state": {
       "display": "inline-flex",
       "flex_flow": "row wrap",
       "width": "100%"
      }
     },
     "bfd6c03d76f64c31a19f09095d01deeb": {
      "model_module": "@jupyter-widgets/controls",
      "model_module_version": "2.0.0",
      "model_name": "ProgressStyleModel",
      "state": {
       "description_width": ""
      }
     },
     "bfedad66c78b49449fafa17f5deacb56": {
      "model_module": "@jupyter-widgets/controls",
      "model_module_version": "2.0.0",
      "model_name": "HTMLStyleModel",
      "state": {
       "description_width": "",
       "font_size": null,
       "text_color": null
      }
     },
     "bfee0801546b4ac9920a2150570d3583": {
      "model_module": "@jupyter-widgets/controls",
      "model_module_version": "2.0.0",
      "model_name": "ProgressStyleModel",
      "state": {
       "description_width": ""
      }
     },
     "bff8cb3cb47a418bab6c797ef5221978": {
      "model_module": "@jupyter-widgets/controls",
      "model_module_version": "2.0.0",
      "model_name": "HBoxModel",
      "state": {
       "children": [
        "IPY_MODEL_68d34e5bc2e141949093a8db4ca6f621",
        "IPY_MODEL_f8631da3193a4efeaecb7a18bce14611",
        "IPY_MODEL_185f92d7edcc4d378efa41d6542e3c95"
       ],
       "layout": "IPY_MODEL_837aae2776734b48936883845e652aca"
      }
     },
     "bff8ea41a02649e884e9448687fcc05f": {
      "model_module": "@jupyter-widgets/base",
      "model_module_version": "2.0.0",
      "model_name": "LayoutModel",
      "state": {}
     },
     "c0029918edc041edb2723aadd90f94fb": {
      "model_module": "@jupyter-widgets/controls",
      "model_module_version": "2.0.0",
      "model_name": "HTMLModel",
      "state": {
       "layout": "IPY_MODEL_8b60f85f15a44c5293f6b1d8ea44282f",
       "style": "IPY_MODEL_bf99ed8e08f64fb2977c7875b29bb86c",
       "value": "  0%"
      }
     },
     "c0081e5b14a148df82ef0b18f9543dcd": {
      "model_module": "@jupyter-widgets/controls",
      "model_module_version": "2.0.0",
      "model_name": "HTMLModel",
      "state": {
       "layout": "IPY_MODEL_281e410adc2f4a57b1da0b779d56029b",
       "style": "IPY_MODEL_cf48c8a373bf4660b6ab8caae4922f2c",
       "value": " 1/1 [00:00&lt;00:00, 245.65it/s]"
      }
     },
     "c065352b097049cc9a29d9d1e0802b3a": {
      "model_module": "@jupyter-widgets/controls",
      "model_module_version": "2.0.0",
      "model_name": "HTMLStyleModel",
      "state": {
       "description_width": "",
       "font_size": null,
       "text_color": null
      }
     },
     "c065ae4b65a34a06b9c2ad3869523338": {
      "model_module": "@jupyter-widgets/controls",
      "model_module_version": "2.0.0",
      "model_name": "HTMLModel",
      "state": {
       "layout": "IPY_MODEL_1f673ad642ee4b51b5e5ff5d91f19926",
       "style": "IPY_MODEL_3fef1880513b4e44ab7697c578a9867d",
       "value": "Epoch 44:  55%"
      }
     },
     "c0693a52d4e04a2a8191f7548c0804dc": {
      "model_module": "@jupyter-widgets/controls",
      "model_module_version": "2.0.0",
      "model_name": "HTMLStyleModel",
      "state": {
       "description_width": "",
       "font_size": null,
       "text_color": null
      }
     },
     "c082d066f435474396e4d419ff9c79a7": {
      "model_module": "@jupyter-widgets/controls",
      "model_module_version": "2.0.0",
      "model_name": "FloatProgressModel",
      "state": {
       "bar_style": "danger",
       "layout": "IPY_MODEL_b97b6497fb0e4564834ed3be3d7c8ef7",
       "max": 80,
       "style": "IPY_MODEL_6df4c8dd86de43c8886c6d06c7f47c82",
       "value": 53
      }
     },
     "c086e0e221e44b4d9d96247273b38ad9": {
      "model_module": "@jupyter-widgets/controls",
      "model_module_version": "2.0.0",
      "model_name": "HTMLModel",
      "state": {
       "layout": "IPY_MODEL_bbd869eb13a64b70bd0547db85132387",
       "style": "IPY_MODEL_81dc413f61dd4a37b56d6b4ac2a15f97",
       "value": " 0/10 [00:24&lt;?, ?it/s]"
      }
     },
     "c08dc34b02ea4c4d9fb715a87853f366": {
      "model_module": "@jupyter-widgets/base",
      "model_module_version": "2.0.0",
      "model_name": "LayoutModel",
      "state": {}
     },
     "c09debf11452418ca9c99e831e670f1c": {
      "model_module": "@jupyter-widgets/controls",
      "model_module_version": "2.0.0",
      "model_name": "HTMLModel",
      "state": {
       "layout": "IPY_MODEL_7adb33d042e647ab89bf350d354bba9b",
       "style": "IPY_MODEL_1bdfb0dcbed1495ea4dfe9ae101c61bf",
       "value": " 1/1 [00:00&lt;00:00, 87.34it/s]"
      }
     },
     "c0d99e42faf3421ba1bbfab1a42d5e23": {
      "model_module": "@jupyter-widgets/base",
      "model_module_version": "2.0.0",
      "model_name": "LayoutModel",
      "state": {}
     },
     "c0eb2792b9c145c6be88753874235eee": {
      "model_module": "@jupyter-widgets/controls",
      "model_module_version": "2.0.0",
      "model_name": "HTMLModel",
      "state": {
       "layout": "IPY_MODEL_3c11d46edebc462681d8bc2ae7c7cbb1",
       "style": "IPY_MODEL_c179985709434a5b8a7ab977ba99726c",
       "value": "Validation DataLoader 0: 100%"
      }
     },
     "c12a99bdb99c46de900e63ba4c28d307": {
      "model_module": "@jupyter-widgets/base",
      "model_module_version": "2.0.0",
      "model_name": "LayoutModel",
      "state": {}
     },
     "c12e352f1e2540e6bdfb7e5004bda56b": {
      "model_module": "@jupyter-widgets/base",
      "model_module_version": "2.0.0",
      "model_name": "LayoutModel",
      "state": {}
     },
     "c14fb76017c442ea94c63fef7933f591": {
      "model_module": "@jupyter-widgets/base",
      "model_module_version": "2.0.0",
      "model_name": "LayoutModel",
      "state": {}
     },
     "c15296324725400ea3730f240d525973": {
      "model_module": "@jupyter-widgets/controls",
      "model_module_version": "2.0.0",
      "model_name": "HTMLModel",
      "state": {
       "layout": "IPY_MODEL_f1c25f0dfabb47188a8a8a787bcd497c",
       "style": "IPY_MODEL_28fe32dafbee4c82a54f93f76c8c0b53",
       "value": "Epoch 5: 100%"
      }
     },
     "c179985709434a5b8a7ab977ba99726c": {
      "model_module": "@jupyter-widgets/controls",
      "model_module_version": "2.0.0",
      "model_name": "HTMLStyleModel",
      "state": {
       "description_width": "",
       "font_size": null,
       "text_color": null
      }
     },
     "c18418e58d82435faf7a5388147d8740": {
      "model_module": "@jupyter-widgets/controls",
      "model_module_version": "2.0.0",
      "model_name": "HTMLModel",
      "state": {
       "layout": "IPY_MODEL_bba374551c014a7fbc5f4ec8c666a903",
       "style": "IPY_MODEL_7713a66e205c458dbc017d83f6e02d28",
       "value": " 3/80 [00:00&lt;00:05, 12.92it/s, loss=0.0969, v_num=41, MAE=5.390, RMSE=6.900, Loss=0.108, RegLoss=0.000]"
      }
     },
     "c18c22d2f2d24de49883c44de0f28ab0": {
      "model_module": "@jupyter-widgets/controls",
      "model_module_version": "2.0.0",
      "model_name": "HTMLStyleModel",
      "state": {
       "description_width": "",
       "font_size": null,
       "text_color": null
      }
     },
     "c18d31f7c1044846ad8c09be4519e875": {
      "model_module": "@jupyter-widgets/base",
      "model_module_version": "2.0.0",
      "model_name": "LayoutModel",
      "state": {}
     },
     "c194b7d0a3494e2d83af94e447883fb3": {
      "model_module": "@jupyter-widgets/controls",
      "model_module_version": "2.0.0",
      "model_name": "HTMLStyleModel",
      "state": {
       "description_width": "",
       "font_size": null,
       "text_color": null
      }
     },
     "c1aa3bf2ef454258ad8d2b66e33ce1c6": {
      "model_module": "@jupyter-widgets/controls",
      "model_module_version": "2.0.0",
      "model_name": "HTMLStyleModel",
      "state": {
       "description_width": "",
       "font_size": null,
       "text_color": null
      }
     },
     "c1e8e6bbec7f4d48b9314c59177bc98e": {
      "model_module": "@jupyter-widgets/base",
      "model_module_version": "2.0.0",
      "model_name": "LayoutModel",
      "state": {}
     },
     "c1f1cbbf88ac48f9b71d6b09ada8400b": {
      "model_module": "@jupyter-widgets/controls",
      "model_module_version": "2.0.0",
      "model_name": "HTMLStyleModel",
      "state": {
       "description_width": "",
       "font_size": null,
       "text_color": null
      }
     },
     "c2024b413ec14ac4988c7b305b56e021": {
      "model_module": "@jupyter-widgets/controls",
      "model_module_version": "2.0.0",
      "model_name": "HTMLModel",
      "state": {
       "layout": "IPY_MODEL_92c98941263b4bedbccba3ff887d1770",
       "style": "IPY_MODEL_cb7130e90a804c4481d06a84d274b3c6",
       "value": "  0%"
      }
     },
     "c20ce9d77fb444cc964df2a55f8772e2": {
      "model_module": "@jupyter-widgets/controls",
      "model_module_version": "2.0.0",
      "model_name": "ProgressStyleModel",
      "state": {
       "description_width": ""
      }
     },
     "c229bf6ddc6b4a21b2826e088638d965": {
      "model_module": "@jupyter-widgets/controls",
      "model_module_version": "2.0.0",
      "model_name": "HTMLModel",
      "state": {
       "layout": "IPY_MODEL_57833b605a274ef2a75c6beac1ca79c1",
       "style": "IPY_MODEL_ada92add63d14dadb10b74e7e55315b9",
       "value": " 1/1 [00:00&lt;00:00, 110.25it/s]"
      }
     },
     "c2516ce0b18a45abb2b9623aca5c3bcc": {
      "model_module": "@jupyter-widgets/controls",
      "model_module_version": "2.0.0",
      "model_name": "HTMLModel",
      "state": {
       "layout": "IPY_MODEL_1f17c3a60d7c44ac84024019791836d1",
       "style": "IPY_MODEL_533549f500dc494dafd45623d65fc418",
       "value": "  0%"
      }
     },
     "c251eaa781444b05bf8519fe87f4dd36": {
      "model_module": "@jupyter-widgets/controls",
      "model_module_version": "2.0.0",
      "model_name": "HTMLModel",
      "state": {
       "layout": "IPY_MODEL_6c1ea7dfa8c540549291f741e9d8782f",
       "style": "IPY_MODEL_bf3bdbf840574b0d982402b6e8370f85",
       "value": " 0/10 [00:00&lt;?, ?it/s]"
      }
     },
     "c27f179979094bf3a43685c28446c6fb": {
      "model_module": "@jupyter-widgets/controls",
      "model_module_version": "2.0.0",
      "model_name": "HTMLModel",
      "state": {
       "layout": "IPY_MODEL_fae0fba5e88b4af2bcb1193a7e1b7a3a",
       "style": "IPY_MODEL_ee9fad45cfa54a78b02cd5203dc0c0ad",
       "value": "Validation DataLoader 0: 100%"
      }
     },
     "c2957c0e1f1a4ceb890406eef4436dfa": {
      "model_module": "@jupyter-widgets/controls",
      "model_module_version": "2.0.0",
      "model_name": "HTMLStyleModel",
      "state": {
       "description_width": "",
       "font_size": null,
       "text_color": null
      }
     },
     "c296763d3c4643c39b72226cba7959d2": {
      "model_module": "@jupyter-widgets/controls",
      "model_module_version": "2.0.0",
      "model_name": "HTMLStyleModel",
      "state": {
       "description_width": "",
       "font_size": null,
       "text_color": null
      }
     },
     "c29ec89d59b7461ebfc8b7bec0cddb7e": {
      "model_module": "@jupyter-widgets/controls",
      "model_module_version": "2.0.0",
      "model_name": "HTMLModel",
      "state": {
       "layout": "IPY_MODEL_2ad5fa980fa345cf851e25294b9d733b",
       "style": "IPY_MODEL_7f188b512298435e8598e53584887566",
       "value": " 1/1 [01:28&lt;00:00, 88.88s/it]"
      }
     },
     "c2c2fb9281134c2c9c630396a42bb46b": {
      "model_module": "@jupyter-widgets/controls",
      "model_module_version": "2.0.0",
      "model_name": "HBoxModel",
      "state": {
       "children": [
        "IPY_MODEL_a65a1e4249bd4584be6f16ad47d84da8",
        "IPY_MODEL_23507b52f6cd4ec0989562f3090fe2b6",
        "IPY_MODEL_9745ad681a694fa195d9f500e710db95"
       ],
       "layout": "IPY_MODEL_9e32bb127ac542648f8c4f4302e06376"
      }
     },
     "c2c54750b29d4762b8f37b613ccccd25": {
      "model_module": "@jupyter-widgets/base",
      "model_module_version": "2.0.0",
      "model_name": "LayoutModel",
      "state": {}
     },
     "c2ca1f3e4acd4039a6f0bb0b9a754a34": {
      "model_module": "@jupyter-widgets/controls",
      "model_module_version": "2.0.0",
      "model_name": "HBoxModel",
      "state": {
       "children": [
        "IPY_MODEL_345882bda02941149c1478fdb7328265",
        "IPY_MODEL_1f8855ca70f849c9a400426dc4bcb555",
        "IPY_MODEL_de12fe60899742b3acd217fc9eec9074"
       ],
       "layout": "IPY_MODEL_3c42a1033eac409aa1f792accb17a485"
      }
     },
     "c2d91198d8d14f0f95efa12a450509fd": {
      "model_module": "@jupyter-widgets/controls",
      "model_module_version": "2.0.0",
      "model_name": "FloatProgressModel",
      "state": {
       "bar_style": "danger",
       "layout": "IPY_MODEL_6b67f20b24984d0baa05c761b75ca8c7",
       "max": 10,
       "style": "IPY_MODEL_60f1c7d186584df591c64f4c1b6895b2"
      }
     },
     "c2ddee26d0074086a151d4c5e36c538c": {
      "model_module": "@jupyter-widgets/controls",
      "model_module_version": "2.0.0",
      "model_name": "ProgressStyleModel",
      "state": {
       "description_width": ""
      }
     },
     "c31aaf2950b44430bc29e65316b11c9e": {
      "model_module": "@jupyter-widgets/base",
      "model_module_version": "2.0.0",
      "model_name": "LayoutModel",
      "state": {
       "display": "inline-flex",
       "flex_flow": "row wrap",
       "width": "100%"
      }
     },
     "c31f811a8daa4b0fb2a86c29347df4ae": {
      "model_module": "@jupyter-widgets/controls",
      "model_module_version": "2.0.0",
      "model_name": "HTMLStyleModel",
      "state": {
       "description_width": "",
       "font_size": null,
       "text_color": null
      }
     },
     "c32034261bab413d8e2d1c2f13feb274": {
      "model_module": "@jupyter-widgets/base",
      "model_module_version": "2.0.0",
      "model_name": "LayoutModel",
      "state": {
       "flex": "2"
      }
     },
     "c32e0bb048f3403b93b540db6b119472": {
      "model_module": "@jupyter-widgets/controls",
      "model_module_version": "2.0.0",
      "model_name": "HTMLStyleModel",
      "state": {
       "description_width": "",
       "font_size": null,
       "text_color": null
      }
     },
     "c336ab8832ca45aab56eb16e366c4904": {
      "model_module": "@jupyter-widgets/controls",
      "model_module_version": "2.0.0",
      "model_name": "HTMLStyleModel",
      "state": {
       "description_width": "",
       "font_size": null,
       "text_color": null
      }
     },
     "c3384d6213c3427b8db8392c7813ab86": {
      "model_module": "@jupyter-widgets/controls",
      "model_module_version": "2.0.0",
      "model_name": "HTMLStyleModel",
      "state": {
       "description_width": "",
       "font_size": null,
       "text_color": null
      }
     },
     "c35220a19ba84f73bb64d63e1ee2e474": {
      "model_module": "@jupyter-widgets/controls",
      "model_module_version": "2.0.0",
      "model_name": "HTMLStyleModel",
      "state": {
       "description_width": "",
       "font_size": null,
       "text_color": null
      }
     },
     "c360b549bc7f41e88559db8c5e1e17ae": {
      "model_module": "@jupyter-widgets/base",
      "model_module_version": "2.0.0",
      "model_name": "LayoutModel",
      "state": {}
     },
     "c3730728dc374c17908baa4f26d4a48f": {
      "model_module": "@jupyter-widgets/base",
      "model_module_version": "2.0.0",
      "model_name": "LayoutModel",
      "state": {
       "flex": "2"
      }
     },
     "c3861b287956457689a86cc3d5fd308c": {
      "model_module": "@jupyter-widgets/base",
      "model_module_version": "2.0.0",
      "model_name": "LayoutModel",
      "state": {}
     },
     "c39ab66ff2d843deb1951b0bee3c5232": {
      "model_module": "@jupyter-widgets/controls",
      "model_module_version": "2.0.0",
      "model_name": "HTMLStyleModel",
      "state": {
       "description_width": "",
       "font_size": null,
       "text_color": null
      }
     },
     "c3c555b95623404a9914a7bbe5572511": {
      "model_module": "@jupyter-widgets/controls",
      "model_module_version": "2.0.0",
      "model_name": "HTMLStyleModel",
      "state": {
       "description_width": "",
       "font_size": null,
       "text_color": null
      }
     },
     "c3cd293aaa6e42c3bc03e0b8d02c95be": {
      "model_module": "@jupyter-widgets/controls",
      "model_module_version": "2.0.0",
      "model_name": "FloatProgressModel",
      "state": {
       "bar_style": "success",
       "layout": "IPY_MODEL_b1fbca9eb5754f1091493d08afeb9d1e",
       "max": 80,
       "style": "IPY_MODEL_2c1c80729ed749468f177f7b7cb7ea31",
       "value": 80
      }
     },
     "c4099e96ce2341e8accb31e0aa8a6345": {
      "model_module": "@jupyter-widgets/controls",
      "model_module_version": "2.0.0",
      "model_name": "HTMLStyleModel",
      "state": {
       "description_width": "",
       "font_size": null,
       "text_color": null
      }
     },
     "c44071b6c7c64561b689421448f78787": {
      "model_module": "@jupyter-widgets/controls",
      "model_module_version": "2.0.0",
      "model_name": "ProgressStyleModel",
      "state": {
       "description_width": ""
      }
     },
     "c45b5382f5c0445ea6cde8a756c94f94": {
      "model_module": "@jupyter-widgets/controls",
      "model_module_version": "2.0.0",
      "model_name": "HTMLStyleModel",
      "state": {
       "description_width": "",
       "font_size": null,
       "text_color": null
      }
     },
     "c4611647f876481694e0172643fb67fd": {
      "model_module": "@jupyter-widgets/controls",
      "model_module_version": "2.0.0",
      "model_name": "HTMLModel",
      "state": {
       "layout": "IPY_MODEL_14a9fab1ee284d7f9a028c0495929d81",
       "style": "IPY_MODEL_eef4eb84836648f6ae5570f6c3c1abce",
       "value": "Epoch 53:  66%"
      }
     },
     "c4847214d6ff4ee7ba1916ac1831938e": {
      "model_module": "@jupyter-widgets/base",
      "model_module_version": "2.0.0",
      "model_name": "LayoutModel",
      "state": {}
     },
     "c4b35d641dea49d1b26d21784d33c37b": {
      "model_module": "@jupyter-widgets/base",
      "model_module_version": "2.0.0",
      "model_name": "LayoutModel",
      "state": {}
     },
     "c4c7a32cdb554206904444fd5998012a": {
      "model_module": "@jupyter-widgets/base",
      "model_module_version": "2.0.0",
      "model_name": "LayoutModel",
      "state": {
       "flex": "2"
      }
     },
     "c51b74abf795498887fbed486314e3b8": {
      "model_module": "@jupyter-widgets/base",
      "model_module_version": "2.0.0",
      "model_name": "LayoutModel",
      "state": {
       "flex": "2"
      }
     },
     "c52bb12c22964bd2807d06440a43120a": {
      "model_module": "@jupyter-widgets/controls",
      "model_module_version": "2.0.0",
      "model_name": "ProgressStyleModel",
      "state": {
       "description_width": ""
      }
     },
     "c52c20c1d4b14afc81d153c4745183fa": {
      "model_module": "@jupyter-widgets/controls",
      "model_module_version": "2.0.0",
      "model_name": "HTMLStyleModel",
      "state": {
       "description_width": "",
       "font_size": null,
       "text_color": null
      }
     },
     "c596080167854f838ea90aa6eda88f82": {
      "model_module": "@jupyter-widgets/base",
      "model_module_version": "2.0.0",
      "model_name": "LayoutModel",
      "state": {
       "display": "inline-flex",
       "flex_flow": "row wrap",
       "width": "100%"
      }
     },
     "c5b7c78a4cb34f55a291cdf7fc4701c4": {
      "model_module": "@jupyter-widgets/controls",
      "model_module_version": "2.0.0",
      "model_name": "HTMLStyleModel",
      "state": {
       "description_width": "",
       "font_size": null,
       "text_color": null
      }
     },
     "c5da57b22ca943ff8f7175a6eec56455": {
      "model_module": "@jupyter-widgets/controls",
      "model_module_version": "2.0.0",
      "model_name": "ProgressStyleModel",
      "state": {
       "description_width": ""
      }
     },
     "c5ee510142d64d25be18d253b940a251": {
      "model_module": "@jupyter-widgets/controls",
      "model_module_version": "2.0.0",
      "model_name": "ProgressStyleModel",
      "state": {
       "description_width": ""
      }
     },
     "c5f2d25ba20148cb857172f93c75986d": {
      "model_module": "@jupyter-widgets/controls",
      "model_module_version": "2.0.0",
      "model_name": "HTMLStyleModel",
      "state": {
       "description_width": "",
       "font_size": null,
       "text_color": null
      }
     },
     "c5f5af17551742c4a811f9036e1583fd": {
      "model_module": "@jupyter-widgets/controls",
      "model_module_version": "2.0.0",
      "model_name": "HTMLStyleModel",
      "state": {
       "description_width": "",
       "font_size": null,
       "text_color": null
      }
     },
     "c60d402aada64e56ad765afbc3d8869e": {
      "model_module": "@jupyter-widgets/base",
      "model_module_version": "2.0.0",
      "model_name": "LayoutModel",
      "state": {}
     },
     "c62ab157eeb745c99c17fdb45e7a7f12": {
      "model_module": "@jupyter-widgets/base",
      "model_module_version": "2.0.0",
      "model_name": "LayoutModel",
      "state": {
       "flex": "2"
      }
     },
     "c64d6a6e39d84ff7aef0b5ee2fba0328": {
      "model_module": "@jupyter-widgets/controls",
      "model_module_version": "2.0.0",
      "model_name": "HTMLStyleModel",
      "state": {
       "description_width": "",
       "font_size": null,
       "text_color": null
      }
     },
     "c67151bbf17d409198ca6ce54918db53": {
      "model_module": "@jupyter-widgets/base",
      "model_module_version": "2.0.0",
      "model_name": "LayoutModel",
      "state": {
       "flex": "2"
      }
     },
     "c68e4f3c03d044238a0297e50abd5de5": {
      "model_module": "@jupyter-widgets/controls",
      "model_module_version": "2.0.0",
      "model_name": "HBoxModel",
      "state": {
       "children": [
        "IPY_MODEL_94de9c4a9cee412f96ec54f757edca64",
        "IPY_MODEL_95c85a9917624a4fa0b827c0a0a8e446",
        "IPY_MODEL_ee147a1e99b041ac90829960d25bbf58"
       ],
       "layout": "IPY_MODEL_bc720bbc90064ef79b1201b7b0efa5f6"
      }
     },
     "c69a986371f6470b9d392b016c438466": {
      "model_module": "@jupyter-widgets/base",
      "model_module_version": "2.0.0",
      "model_name": "LayoutModel",
      "state": {}
     },
     "c6a1cc6491ba4add9af5a7feb178758b": {
      "model_module": "@jupyter-widgets/base",
      "model_module_version": "2.0.0",
      "model_name": "LayoutModel",
      "state": {}
     },
     "c6c1bc60cebe4ef6b23b14c67c12dbc3": {
      "model_module": "@jupyter-widgets/controls",
      "model_module_version": "2.0.0",
      "model_name": "HBoxModel",
      "state": {
       "children": [
        "IPY_MODEL_b2be5e3ff7694099bac9a2d0e50df368",
        "IPY_MODEL_bc8b98253f2c4cd7ac1c0889d761815d",
        "IPY_MODEL_7fc98b8d6078408bbb38ef8823e7537f"
       ],
       "layout": "IPY_MODEL_6aaa614ab99447e1bebc9a96dfa57f3c"
      }
     },
     "c6cf3e19bb7d48a2b9204db71f861ca9": {
      "model_module": "@jupyter-widgets/controls",
      "model_module_version": "2.0.0",
      "model_name": "HTMLModel",
      "state": {
       "layout": "IPY_MODEL_3ef6313f11014f8aa4c74d8d40e81df6",
       "style": "IPY_MODEL_dbb09fb94f164b6b9aeb6630040f89a6",
       "value": " 1/1 [00:00&lt;00:00, 77.23it/s]"
      }
     },
     "c6f8e71c2e444a74852fad7d81df6733": {
      "model_module": "@jupyter-widgets/controls",
      "model_module_version": "2.0.0",
      "model_name": "HBoxModel",
      "state": {
       "children": [
        "IPY_MODEL_8493ea5637144caa8486b288d75cba55",
        "IPY_MODEL_f4f577465b6845119274f622dcf7ed5a",
        "IPY_MODEL_152d9f2999b5429eb90b7e77db739a04"
       ],
       "layout": "IPY_MODEL_44cf4fe8fe0c4a7cbf9eed5efaa6f05a"
      }
     },
     "c70d38d312b64603904d88bec4fffee0": {
      "model_module": "@jupyter-widgets/base",
      "model_module_version": "2.0.0",
      "model_name": "LayoutModel",
      "state": {}
     },
     "c71bed78d53641b1a0f31cae09c5cd63": {
      "model_module": "@jupyter-widgets/controls",
      "model_module_version": "2.0.0",
      "model_name": "HBoxModel",
      "state": {
       "children": [
        "IPY_MODEL_af1be01324a74df297d714cef4e700fa",
        "IPY_MODEL_7d453f7676584a4faa65c1155ec9925f",
        "IPY_MODEL_d6f145c83fb945909f87f9c726baffa5"
       ],
       "layout": "IPY_MODEL_54fc5936cfc4477d9139c8018f535b3d"
      }
     },
     "c71d9584263c45b3b070b541f29eba9f": {
      "model_module": "@jupyter-widgets/controls",
      "model_module_version": "2.0.0",
      "model_name": "HTMLStyleModel",
      "state": {
       "description_width": "",
       "font_size": null,
       "text_color": null
      }
     },
     "c7370e3f4c58420ca89b786860ca8d88": {
      "model_module": "@jupyter-widgets/controls",
      "model_module_version": "2.0.0",
      "model_name": "HTMLModel",
      "state": {
       "layout": "IPY_MODEL_dd66f1515749491b9ea907b6f23de884",
       "style": "IPY_MODEL_eac9530ec21b47f78b595d004b76f682",
       "value": "Testing DataLoader 0: 100%"
      }
     },
     "c738121d22d24c8c9637db1affa97eed": {
      "model_module": "@jupyter-widgets/controls",
      "model_module_version": "2.0.0",
      "model_name": "HTMLModel",
      "state": {
       "layout": "IPY_MODEL_140121536ba04676b70128b2533431f6",
       "style": "IPY_MODEL_e413dfd7b52b4502a46791c2ed743dab",
       "value": "Testing DataLoader 0: 100%"
      }
     },
     "c73c9f5b57b1418e8a7338c5272df9ec": {
      "model_module": "@jupyter-widgets/controls",
      "model_module_version": "2.0.0",
      "model_name": "HTMLStyleModel",
      "state": {
       "description_width": "",
       "font_size": null,
       "text_color": null
      }
     },
     "c750152005924bba9eab938e3bb85058": {
      "model_module": "@jupyter-widgets/base",
      "model_module_version": "2.0.0",
      "model_name": "LayoutModel",
      "state": {}
     },
     "c7545ec6c7c44c76ba58bf88ee5e4d73": {
      "model_module": "@jupyter-widgets/controls",
      "model_module_version": "2.0.0",
      "model_name": "HTMLModel",
      "state": {
       "layout": "IPY_MODEL_fcb9e476a43c43529595cb9828cf9fb9",
       "style": "IPY_MODEL_8f4473233a49436ca30e6c1ca16b7f47",
       "value": " 1/1 [00:00&lt;00:00, 244.10it/s]"
      }
     },
     "c77a536e75a945f8a80cf7a3586b530d": {
      "model_module": "@jupyter-widgets/controls",
      "model_module_version": "2.0.0",
      "model_name": "HBoxModel",
      "state": {
       "children": [
        "IPY_MODEL_f79bd2d9f94548b19bc8d24ed3d160e7",
        "IPY_MODEL_badfe97008184b1f9ade9ab4536f4647",
        "IPY_MODEL_220fe309318c4c36b7e2ea5f3f2faa86"
       ],
       "layout": "IPY_MODEL_89f2579fb25f4e2892e825e0ff5b2cc2"
      }
     },
     "c78c5bb9a6f64085a01758e3575a0c68": {
      "model_module": "@jupyter-widgets/base",
      "model_module_version": "2.0.0",
      "model_name": "LayoutModel",
      "state": {}
     },
     "c7b1f21703cf42adbefaafe81d152147": {
      "model_module": "@jupyter-widgets/base",
      "model_module_version": "2.0.0",
      "model_name": "LayoutModel",
      "state": {
       "flex": "2"
      }
     },
     "c81a8342962848cd89de70f0db683c7f": {
      "model_module": "@jupyter-widgets/base",
      "model_module_version": "2.0.0",
      "model_name": "LayoutModel",
      "state": {
       "flex": "2"
      }
     },
     "c8316dbe406e4e539fd20181bcd88791": {
      "model_module": "@jupyter-widgets/base",
      "model_module_version": "2.0.0",
      "model_name": "LayoutModel",
      "state": {}
     },
     "c833c8c597b64f69952e95dbde4eb61b": {
      "model_module": "@jupyter-widgets/controls",
      "model_module_version": "2.0.0",
      "model_name": "HTMLModel",
      "state": {
       "layout": "IPY_MODEL_1cba9eefc774483fadef87fe012d3083",
       "style": "IPY_MODEL_c3384d6213c3427b8db8392c7813ab86",
       "value": " 1/1 [00:00&lt;00:00, 90.01it/s]"
      }
     },
     "c870c410ee494ac19bdd493fcc485490": {
      "model_module": "@jupyter-widgets/base",
      "model_module_version": "2.0.0",
      "model_name": "LayoutModel",
      "state": {}
     },
     "c8745bd7e37047029ecdfd8688d389f4": {
      "model_module": "@jupyter-widgets/controls",
      "model_module_version": "2.0.0",
      "model_name": "FloatProgressModel",
      "state": {
       "bar_style": "danger",
       "layout": "IPY_MODEL_aed315226ac44c30adfbf5584ca18ed6",
       "max": 10,
       "style": "IPY_MODEL_dc55dc2d21d74fd691620bc0c32e1c0c"
      }
     },
     "c881f06991744b749ba0c6d9e6d90070": {
      "model_module": "@jupyter-widgets/controls",
      "model_module_version": "2.0.0",
      "model_name": "HTMLStyleModel",
      "state": {
       "description_width": "",
       "font_size": null,
       "text_color": null
      }
     },
     "c898c5a4c29348b883652582d040a26d": {
      "model_module": "@jupyter-widgets/controls",
      "model_module_version": "2.0.0",
      "model_name": "HBoxModel",
      "state": {
       "children": [
        "IPY_MODEL_d9d456aeec894a83935237127693520c",
        "IPY_MODEL_972cef6d34c247058721257716d06644",
        "IPY_MODEL_43a68744aca345edbcc6a5e5fece96be"
       ],
       "layout": "IPY_MODEL_3d979652409c48d4bc1e4a6d80be628d"
      }
     },
     "c899549c846d41b9ab1af8f8d016d9f2": {
      "model_module": "@jupyter-widgets/controls",
      "model_module_version": "2.0.0",
      "model_name": "FloatProgressModel",
      "state": {
       "bar_style": "danger",
       "layout": "IPY_MODEL_d3d267abf5c5403b82540ed6765bc938",
       "max": 10,
       "style": "IPY_MODEL_2a908cca18a14781b8f56be27ed10db2"
      }
     },
     "c8c8dd150bdb4ba086e2758003b99d29": {
      "model_module": "@jupyter-widgets/controls",
      "model_module_version": "2.0.0",
      "model_name": "HBoxModel",
      "state": {
       "children": [
        "IPY_MODEL_fc68c6335fb9477dbda40aa3fb4a077c",
        "IPY_MODEL_4ee70652e1514e489d52b50aeb2b414f",
        "IPY_MODEL_68288d3e4e5b4ac9b6b29f118c84d2df"
       ],
       "layout": "IPY_MODEL_ad85bfd1f63e4bb5a77dd1cd10009073"
      }
     },
     "c8e3eef82ec2453492fd6293efc43d0f": {
      "model_module": "@jupyter-widgets/base",
      "model_module_version": "2.0.0",
      "model_name": "LayoutModel",
      "state": {}
     },
     "c8ea81de82564536ac5354918aa9fcc8": {
      "model_module": "@jupyter-widgets/controls",
      "model_module_version": "2.0.0",
      "model_name": "ProgressStyleModel",
      "state": {
       "description_width": ""
      }
     },
     "c8fabd1d59b34a01996f9b14cad39583": {
      "model_module": "@jupyter-widgets/controls",
      "model_module_version": "2.0.0",
      "model_name": "FloatProgressModel",
      "state": {
       "bar_style": "danger",
       "layout": "IPY_MODEL_526b0b2687234c25bd4f6443ffb8898c",
       "max": 10,
       "style": "IPY_MODEL_ed643b2b4875428a9c5e463dc215c661"
      }
     },
     "c929713a00e3455fb1cf1bc9951771aa": {
      "model_module": "@jupyter-widgets/controls",
      "model_module_version": "2.0.0",
      "model_name": "HTMLModel",
      "state": {
       "layout": "IPY_MODEL_098907b078344b94993ed58f2d20d624",
       "style": "IPY_MODEL_195ad70ff6fd45cc8fd7b0a0499dede9",
       "value": " 1/1 [00:00&lt;00:00, 113.49it/s]"
      }
     },
     "c93699a7efd54c20aa8f942b5309bb4d": {
      "model_module": "@jupyter-widgets/base",
      "model_module_version": "2.0.0",
      "model_name": "LayoutModel",
      "state": {
       "flex": "2"
      }
     },
     "c9637258c18c41e0afbc5958a7867f49": {
      "model_module": "@jupyter-widgets/base",
      "model_module_version": "2.0.0",
      "model_name": "LayoutModel",
      "state": {}
     },
     "c979a8ce7fda4c6aa48bb5f74c5234b0": {
      "model_module": "@jupyter-widgets/controls",
      "model_module_version": "2.0.0",
      "model_name": "FloatProgressModel",
      "state": {
       "bar_style": "danger",
       "layout": "IPY_MODEL_c4c7a32cdb554206904444fd5998012a",
       "max": 80,
       "style": "IPY_MODEL_7e0cd2d022ba4baa99fc10f90e9cfadd",
       "value": 19
      }
     },
     "c97a20fa4e4a43d39ba309364862e923": {
      "model_module": "@jupyter-widgets/controls",
      "model_module_version": "2.0.0",
      "model_name": "ProgressStyleModel",
      "state": {
       "description_width": ""
      }
     },
     "c97bc2632b0545948f88781188302af7": {
      "model_module": "@jupyter-widgets/base",
      "model_module_version": "2.0.0",
      "model_name": "LayoutModel",
      "state": {}
     },
     "c9858c6ceb05486b8618a9beca513d7f": {
      "model_module": "@jupyter-widgets/controls",
      "model_module_version": "2.0.0",
      "model_name": "HTMLModel",
      "state": {
       "layout": "IPY_MODEL_58a0ffd6aea34b019b1200fe65a24cfd",
       "style": "IPY_MODEL_28a4930067b44b92aa34a3aaee9ebf65",
       "value": "  0%"
      }
     },
     "c9bc19e027b344fca4eff3a7b23e3a16": {
      "model_module": "@jupyter-widgets/base",
      "model_module_version": "2.0.0",
      "model_name": "LayoutModel",
      "state": {
       "flex": "2"
      }
     },
     "c9bca6f807cc4d25801383d4b763e57a": {
      "model_module": "@jupyter-widgets/base",
      "model_module_version": "2.0.0",
      "model_name": "LayoutModel",
      "state": {
       "display": "inline-flex",
       "flex_flow": "row wrap",
       "width": "100%"
      }
     },
     "c9d788e5397149d99b775c7626fa24c4": {
      "model_module": "@jupyter-widgets/controls",
      "model_module_version": "2.0.0",
      "model_name": "ProgressStyleModel",
      "state": {
       "description_width": ""
      }
     },
     "ca072aa0cf4f4a848c25d8a3257c5197": {
      "model_module": "@jupyter-widgets/controls",
      "model_module_version": "2.0.0",
      "model_name": "HTMLModel",
      "state": {
       "layout": "IPY_MODEL_e62388e8f40a472db0629050c864f557",
       "style": "IPY_MODEL_58bc3ea9b4ea4f88987372d71db45afa",
       "value": " 53/80 [18:45:52&lt;9:33:33, 1274.58s/it, loss=0.939, v_num=3, MAE=12.20, RMSE=16.20, Loss=0.831, RegLoss=0.000]"
      }
     },
     "ca0f1a8b6f314f739baa284ddbda8b3b": {
      "model_module": "@jupyter-widgets/base",
      "model_module_version": "2.0.0",
      "model_name": "LayoutModel",
      "state": {}
     },
     "ca1da69b569f49b48c7dba2bdcb6d97e": {
      "model_module": "@jupyter-widgets/controls",
      "model_module_version": "2.0.0",
      "model_name": "HTMLStyleModel",
      "state": {
       "description_width": "",
       "font_size": null,
       "text_color": null
      }
     },
     "ca2908b60334460b82a197bbb40e6bec": {
      "model_module": "@jupyter-widgets/base",
      "model_module_version": "2.0.0",
      "model_name": "LayoutModel",
      "state": {}
     },
     "ca39eb79e5ca49bfa5ef71ca515ff652": {
      "model_module": "@jupyter-widgets/base",
      "model_module_version": "2.0.0",
      "model_name": "LayoutModel",
      "state": {}
     },
     "ca5948de3c524e00972d266e6a0527b6": {
      "model_module": "@jupyter-widgets/controls",
      "model_module_version": "2.0.0",
      "model_name": "ProgressStyleModel",
      "state": {
       "description_width": ""
      }
     },
     "ca762cb9a708466998e1222aba1456be": {
      "model_module": "@jupyter-widgets/base",
      "model_module_version": "2.0.0",
      "model_name": "LayoutModel",
      "state": {
       "flex": "2"
      }
     },
     "ca903ba9d1ee46509c4de057315cb571": {
      "model_module": "@jupyter-widgets/base",
      "model_module_version": "2.0.0",
      "model_name": "LayoutModel",
      "state": {
       "display": "inline-flex",
       "flex_flow": "row wrap",
       "width": "100%"
      }
     },
     "ca928b326ef442d1a4f3abc981cf4302": {
      "model_module": "@jupyter-widgets/base",
      "model_module_version": "2.0.0",
      "model_name": "LayoutModel",
      "state": {
       "flex": "2"
      }
     },
     "cab04c751fdb4189b21c40c81def48a6": {
      "model_module": "@jupyter-widgets/controls",
      "model_module_version": "2.0.0",
      "model_name": "HTMLStyleModel",
      "state": {
       "description_width": "",
       "font_size": null,
       "text_color": null
      }
     },
     "cac5fdf25c3e4c1890251a82ea0321d0": {
      "model_module": "@jupyter-widgets/base",
      "model_module_version": "2.0.0",
      "model_name": "LayoutModel",
      "state": {}
     },
     "cadfe047bf2e4cfb80f2c428d6588765": {
      "model_module": "@jupyter-widgets/base",
      "model_module_version": "2.0.0",
      "model_name": "LayoutModel",
      "state": {}
     },
     "cb12b8b6b4554c6f8eeb426f7fb58efd": {
      "model_module": "@jupyter-widgets/base",
      "model_module_version": "2.0.0",
      "model_name": "LayoutModel",
      "state": {}
     },
     "cb40911721f241b59e735b44478119ba": {
      "model_module": "@jupyter-widgets/controls",
      "model_module_version": "2.0.0",
      "model_name": "FloatProgressModel",
      "state": {
       "bar_style": "danger",
       "layout": "IPY_MODEL_19d65bf9e1e24e07ac9da851c2c6fcd6",
       "max": 10,
       "style": "IPY_MODEL_c97a20fa4e4a43d39ba309364862e923"
      }
     },
     "cb5e93bcb4ab46b59dcbe331559589d1": {
      "model_module": "@jupyter-widgets/controls",
      "model_module_version": "2.0.0",
      "model_name": "HTMLModel",
      "state": {
       "layout": "IPY_MODEL_c0d99e42faf3421ba1bbfab1a42d5e23",
       "style": "IPY_MODEL_d0566f094afd4664aa4bafa57d005b0e",
       "value": "Testing DataLoader 0: 100%"
      }
     },
     "cb7130e90a804c4481d06a84d274b3c6": {
      "model_module": "@jupyter-widgets/controls",
      "model_module_version": "2.0.0",
      "model_name": "HTMLStyleModel",
      "state": {
       "description_width": "",
       "font_size": null,
       "text_color": null
      }
     },
     "cb9f31dea21c4e918db2ffac15f5837b": {
      "model_module": "@jupyter-widgets/controls",
      "model_module_version": "2.0.0",
      "model_name": "HTMLModel",
      "state": {
       "layout": "IPY_MODEL_a32c822178744bc3b9e7c476319fbb95",
       "style": "IPY_MODEL_c336ab8832ca45aab56eb16e366c4904",
       "value": " 0/10 [00:00&lt;?, ?it/s]"
      }
     },
     "cbae90b64205462495fb52e9013639fa": {
      "model_module": "@jupyter-widgets/base",
      "model_module_version": "2.0.0",
      "model_name": "LayoutModel",
      "state": {}
     },
     "cbdb1aab83c64766b8f2e1a116eebdc3": {
      "model_module": "@jupyter-widgets/base",
      "model_module_version": "2.0.0",
      "model_name": "LayoutModel",
      "state": {
       "display": "inline-flex",
       "flex_flow": "row wrap",
       "width": "100%"
      }
     },
     "cbe143b239884fb69ed639b98a61f646": {
      "model_module": "@jupyter-widgets/controls",
      "model_module_version": "2.0.0",
      "model_name": "ProgressStyleModel",
      "state": {
       "description_width": ""
      }
     },
     "cbe643f021aa452e9b99d580bc57870d": {
      "model_module": "@jupyter-widgets/base",
      "model_module_version": "2.0.0",
      "model_name": "LayoutModel",
      "state": {}
     },
     "cbe7e810cb6346c5b3663538d6033792": {
      "model_module": "@jupyter-widgets/base",
      "model_module_version": "2.0.0",
      "model_name": "LayoutModel",
      "state": {}
     },
     "cbeb20264945458e901fee6b8aa4ef83": {
      "model_module": "@jupyter-widgets/base",
      "model_module_version": "2.0.0",
      "model_name": "LayoutModel",
      "state": {}
     },
     "cbefb668f4064611a8395ac1630dc3f9": {
      "model_module": "@jupyter-widgets/controls",
      "model_module_version": "2.0.0",
      "model_name": "HBoxModel",
      "state": {
       "children": [
        "IPY_MODEL_06009826b74d41de903d19141deb2ff1",
        "IPY_MODEL_0b15fd4808b44782a2e9db9d2ba441f7",
        "IPY_MODEL_b85bc3a5529b427682bb7dbc6a453540"
       ],
       "layout": "IPY_MODEL_9b7c43b321e045a1899b938d3e81533d"
      }
     },
     "cc1b8f7205ac49eab2b838f696779329": {
      "model_module": "@jupyter-widgets/controls",
      "model_module_version": "2.0.0",
      "model_name": "FloatProgressModel",
      "state": {
       "bar_style": "danger",
       "layout": "IPY_MODEL_aef5bffa60b44dc195dc98aa38a30e4f",
       "max": 1,
       "style": "IPY_MODEL_49c3414c1037437186b87a8fcbffdb48"
      }
     },
     "cc23ca746ddb420683221c1b643311ef": {
      "model_module": "@jupyter-widgets/controls",
      "model_module_version": "2.0.0",
      "model_name": "HTMLModel",
      "state": {
       "layout": "IPY_MODEL_a10ecef044894760ba16e1d954dc62d7",
       "style": "IPY_MODEL_6f21e14be3744d58affa17d4220bec47",
       "value": " 3/10 [02:46&lt;05:43, 49.10s/it]"
      }
     },
     "cc41b352381940cc844740c7984358a2": {
      "model_module": "@jupyter-widgets/controls",
      "model_module_version": "2.0.0",
      "model_name": "HTMLModel",
      "state": {
       "layout": "IPY_MODEL_ed76e5bbf2ae48889427821dc555d024",
       "style": "IPY_MODEL_058836ba9daf46a6ab135a01b96760fa",
       "value": " 1/1 [00:00&lt;00:00, 83.52it/s]"
      }
     },
     "cc45c5d9fdb349a68ee4a0d0605e8b09": {
      "model_module": "@jupyter-widgets/controls",
      "model_module_version": "2.0.0",
      "model_name": "HTMLModel",
      "state": {
       "layout": "IPY_MODEL_1c2289835a3b4cf0b4e290636a2cbacf",
       "style": "IPY_MODEL_108ec7c0d18144da8fa1eea5f9672c29",
       "value": "Epoch 53:  66%"
      }
     },
     "cc5479ffc99b404f9eebe7057609eb8f": {
      "model_module": "@jupyter-widgets/controls",
      "model_module_version": "2.0.0",
      "model_name": "HTMLModel",
      "state": {
       "layout": "IPY_MODEL_e871715c40d3495fa014fb5ab013ca72",
       "style": "IPY_MODEL_529f2735369340acb25c81104e9d4321",
       "value": "Epoch 1:   1%"
      }
     },
     "cc6484f8f640491ea23812006fa936cd": {
      "model_module": "@jupyter-widgets/controls",
      "model_module_version": "2.0.0",
      "model_name": "ProgressStyleModel",
      "state": {
       "description_width": ""
      }
     },
     "cc8bf393d5c84d5dba7cb76c5ffd49d1": {
      "model_module": "@jupyter-widgets/controls",
      "model_module_version": "2.0.0",
      "model_name": "HTMLModel",
      "state": {
       "layout": "IPY_MODEL_1ac0a451a34544ce9889fabfb380cab0",
       "style": "IPY_MODEL_a7627bf3337348e98ef8b8b0da6ee42a",
       "value": " 1/1 [00:00&lt;00:00, 86.79it/s]"
      }
     },
     "ccdc34aef66748feabca4b522db72c6b": {
      "model_module": "@jupyter-widgets/controls",
      "model_module_version": "2.0.0",
      "model_name": "ProgressStyleModel",
      "state": {
       "description_width": ""
      }
     },
     "ccfe1d87e68e425a9a3d4b4b5ca56349": {
      "model_module": "@jupyter-widgets/controls",
      "model_module_version": "2.0.0",
      "model_name": "HTMLStyleModel",
      "state": {
       "description_width": "",
       "font_size": null,
       "text_color": null
      }
     },
     "cd0ec384316849acaf317cd2991be41f": {
      "model_module": "@jupyter-widgets/base",
      "model_module_version": "2.0.0",
      "model_name": "LayoutModel",
      "state": {
       "display": "inline-flex",
       "flex_flow": "row wrap",
       "width": "100%"
      }
     },
     "cd17980bf66141a0a156e0bff7242f18": {
      "model_module": "@jupyter-widgets/controls",
      "model_module_version": "2.0.0",
      "model_name": "HTMLStyleModel",
      "state": {
       "description_width": "",
       "font_size": null,
       "text_color": null
      }
     },
     "cd2fda8c748c467bb941e07f705716d3": {
      "model_module": "@jupyter-widgets/base",
      "model_module_version": "2.0.0",
      "model_name": "LayoutModel",
      "state": {
       "flex": "2"
      }
     },
     "cd336b0d547b49879c1b09482cd14aaf": {
      "model_module": "@jupyter-widgets/controls",
      "model_module_version": "2.0.0",
      "model_name": "FloatProgressModel",
      "state": {
       "bar_style": "danger",
       "layout": "IPY_MODEL_5812ad99fc084c2c964e1c716463812f",
       "max": 80,
       "style": "IPY_MODEL_e4f9506e4fef4f5199c736c9c26504b9",
       "value": 44
      }
     },
     "cd3a10674b2e4f698b903dcf70884b2d": {
      "model_module": "@jupyter-widgets/base",
      "model_module_version": "2.0.0",
      "model_name": "LayoutModel",
      "state": {}
     },
     "cd6246ad6f134f1c8d6f28c82a23febc": {
      "model_module": "@jupyter-widgets/base",
      "model_module_version": "2.0.0",
      "model_name": "LayoutModel",
      "state": {
       "display": "inline-flex",
       "flex_flow": "row wrap",
       "width": "100%"
      }
     },
     "cd64f4eb248a4d9b98322944b3410507": {
      "model_module": "@jupyter-widgets/base",
      "model_module_version": "2.0.0",
      "model_name": "LayoutModel",
      "state": {}
     },
     "cd7d47e7de3a47b8a3f1abfa530d5692": {
      "model_module": "@jupyter-widgets/base",
      "model_module_version": "2.0.0",
      "model_name": "LayoutModel",
      "state": {}
     },
     "cda8cf25cd01457cb65c95aa95263f8f": {
      "model_module": "@jupyter-widgets/controls",
      "model_module_version": "2.0.0",
      "model_name": "FloatProgressModel",
      "state": {
       "bar_style": "danger",
       "layout": "IPY_MODEL_e9045c204eb047938e03df19ab9dc05c",
       "max": 5,
       "style": "IPY_MODEL_327b3e6c747c4ce1850eab8711e83c7a",
       "value": 4
      }
     },
     "cdc0db68b95a4aad97deca86c23917cf": {
      "model_module": "@jupyter-widgets/controls",
      "model_module_version": "2.0.0",
      "model_name": "HTMLStyleModel",
      "state": {
       "description_width": "",
       "font_size": null,
       "text_color": null
      }
     },
     "cdf010dcf3af4e86bd7d55f77bca2210": {
      "model_module": "@jupyter-widgets/controls",
      "model_module_version": "2.0.0",
      "model_name": "HBoxModel",
      "state": {
       "children": [
        "IPY_MODEL_99afad43fe454273a7a6208c63aa07be",
        "IPY_MODEL_4db20f2a65fb4460b06240d66ee8c730",
        "IPY_MODEL_b810f1d33d434ecd951cc56230660e3a"
       ],
       "layout": "IPY_MODEL_290d8337deae466eb720634fb92dc965"
      }
     },
     "cdfe4a2d3bc04ba5b78991dcafb73fbc": {
      "model_module": "@jupyter-widgets/controls",
      "model_module_version": "2.0.0",
      "model_name": "ProgressStyleModel",
      "state": {
       "description_width": ""
      }
     },
     "ce06d07ef286452a983610c96d3339ef": {
      "model_module": "@jupyter-widgets/controls",
      "model_module_version": "2.0.0",
      "model_name": "HTMLStyleModel",
      "state": {
       "description_width": "",
       "font_size": null,
       "text_color": null
      }
     },
     "ce07bf8a679145f89088ec2ed337bfca": {
      "model_module": "@jupyter-widgets/base",
      "model_module_version": "2.0.0",
      "model_name": "LayoutModel",
      "state": {
       "flex": "2"
      }
     },
     "ce5adeceb9db432c89487e534e273118": {
      "model_module": "@jupyter-widgets/base",
      "model_module_version": "2.0.0",
      "model_name": "LayoutModel",
      "state": {}
     },
     "ce8f3e8f48164e3887a7309c10f64b75": {
      "model_module": "@jupyter-widgets/base",
      "model_module_version": "2.0.0",
      "model_name": "LayoutModel",
      "state": {}
     },
     "ce9bb8b4d0e442e697c8c6a54b896d5b": {
      "model_module": "@jupyter-widgets/controls",
      "model_module_version": "2.0.0",
      "model_name": "HTMLModel",
      "state": {
       "layout": "IPY_MODEL_bc90b0a6a25c43e0b0f410d86475c766",
       "style": "IPY_MODEL_3d211586c5644e80b436231b02907891",
       "value": "  0%"
      }
     },
     "ceb3646093ca4d1285df8aa728a23b35": {
      "model_module": "@jupyter-widgets/controls",
      "model_module_version": "2.0.0",
      "model_name": "HTMLModel",
      "state": {
       "layout": "IPY_MODEL_2a980795ace9416aad59b64fd15951c3",
       "style": "IPY_MODEL_c1f1cbbf88ac48f9b71d6b09ada8400b",
       "value": "Validation DataLoader 0: 100%"
      }
     },
     "cec1858ff2134b548189af914d1f80c2": {
      "model_module": "@jupyter-widgets/controls",
      "model_module_version": "2.0.0",
      "model_name": "HBoxModel",
      "state": {
       "children": [
        "IPY_MODEL_6a5b18ebc60a4c1d8653aaf5df92ef88",
        "IPY_MODEL_991d768604e3475686c8cd209a4c54a1",
        "IPY_MODEL_e61abae2c2c04bd78871b92c98842c65"
       ],
       "layout": "IPY_MODEL_64ae1d425c674eaf824bbe8fbb6efa5f"
      }
     },
     "cedd283badf845628f157f485d363877": {
      "model_module": "@jupyter-widgets/base",
      "model_module_version": "2.0.0",
      "model_name": "LayoutModel",
      "state": {
       "display": "inline-flex",
       "flex_flow": "row wrap",
       "width": "100%"
      }
     },
     "cee64b707adb4b8ca854cc99267e2929": {
      "model_module": "@jupyter-widgets/base",
      "model_module_version": "2.0.0",
      "model_name": "LayoutModel",
      "state": {}
     },
     "cf174968357f4cb6b34989a4956f429f": {
      "model_module": "@jupyter-widgets/base",
      "model_module_version": "2.0.0",
      "model_name": "LayoutModel",
      "state": {}
     },
     "cf1cfc73fbf74ea998bfb18b03d5c99b": {
      "model_module": "@jupyter-widgets/controls",
      "model_module_version": "2.0.0",
      "model_name": "HTMLModel",
      "state": {
       "layout": "IPY_MODEL_5d4c29199d4547e1bb521ddcf37725e9",
       "style": "IPY_MODEL_c065352b097049cc9a29d9d1e0802b3a",
       "value": " 0/10 [00:24&lt;?, ?it/s]"
      }
     },
     "cf214f0c2f554e769a05750c43c460b5": {
      "model_module": "@jupyter-widgets/controls",
      "model_module_version": "2.0.0",
      "model_name": "HBoxModel",
      "state": {
       "children": [
        "IPY_MODEL_c065ae4b65a34a06b9c2ad3869523338",
        "IPY_MODEL_cd336b0d547b49879c1b09482cd14aaf",
        "IPY_MODEL_46aac4d0dbcf49aca60966817396820e"
       ],
       "layout": "IPY_MODEL_7c66ce31031d446c897771c30c885f39"
      }
     },
     "cf3016bf263b40b5accedcaee9f2d613": {
      "model_module": "@jupyter-widgets/base",
      "model_module_version": "2.0.0",
      "model_name": "LayoutModel",
      "state": {}
     },
     "cf325912e8c14c17b5ea9ec517f1d641": {
      "model_module": "@jupyter-widgets/base",
      "model_module_version": "2.0.0",
      "model_name": "LayoutModel",
      "state": {
       "display": "inline-flex",
       "flex_flow": "row wrap",
       "width": "100%"
      }
     },
     "cf33e86b24db4b1ea5d2c4486b365118": {
      "model_module": "@jupyter-widgets/base",
      "model_module_version": "2.0.0",
      "model_name": "LayoutModel",
      "state": {
       "display": "inline-flex",
       "flex_flow": "row wrap",
       "width": "100%"
      }
     },
     "cf48c8a373bf4660b6ab8caae4922f2c": {
      "model_module": "@jupyter-widgets/controls",
      "model_module_version": "2.0.0",
      "model_name": "HTMLStyleModel",
      "state": {
       "description_width": "",
       "font_size": null,
       "text_color": null
      }
     },
     "cf7e7041f71946c0a58372bc23a3ad09": {
      "model_module": "@jupyter-widgets/base",
      "model_module_version": "2.0.0",
      "model_name": "LayoutModel",
      "state": {
       "flex": "2"
      }
     },
     "cf8109ff85514758866f70484346449a": {
      "model_module": "@jupyter-widgets/base",
      "model_module_version": "2.0.0",
      "model_name": "LayoutModel",
      "state": {}
     },
     "cf874cb96c8a430d8b9df50580dc5521": {
      "model_module": "@jupyter-widgets/controls",
      "model_module_version": "2.0.0",
      "model_name": "HTMLStyleModel",
      "state": {
       "description_width": "",
       "font_size": null,
       "text_color": null
      }
     },
     "cfb13b4229e841928030d21329d2a3ed": {
      "model_module": "@jupyter-widgets/controls",
      "model_module_version": "2.0.0",
      "model_name": "HTMLModel",
      "state": {
       "layout": "IPY_MODEL_af3d1f0f6a44449586fe29abe4b90f80",
       "style": "IPY_MODEL_ccfe1d87e68e425a9a3d4b4b5ca56349",
       "value": " 1/1 [00:00&lt;00:00, 77.14it/s]"
      }
     },
     "cfb9eab8b93248e6b135006b658e2a0e": {
      "model_module": "@jupyter-widgets/base",
      "model_module_version": "2.0.0",
      "model_name": "LayoutModel",
      "state": {}
     },
     "cfc0e41bb61f4f04b924d7f112122220": {
      "model_module": "@jupyter-widgets/controls",
      "model_module_version": "2.0.0",
      "model_name": "FloatProgressModel",
      "state": {
       "bar_style": "success",
       "layout": "IPY_MODEL_846673c673c74a829e35a5eeee8330a7",
       "max": 80,
       "style": "IPY_MODEL_2a8bb23c20f6461c994f689785a528fb",
       "value": 80
      }
     },
     "cfe015af029d416787e3fea7ba15383e": {
      "model_module": "@jupyter-widgets/controls",
      "model_module_version": "2.0.0",
      "model_name": "FloatProgressModel",
      "state": {
       "bar_style": "success",
       "layout": "IPY_MODEL_3a8736e4c3f0458fbfded0a0e39d59a3",
       "max": 80,
       "style": "IPY_MODEL_2c1170b148d14882b61a61b8f78a8d63",
       "value": 80
      }
     },
     "cff116c0cff94f88bbcfcee54253eff0": {
      "model_module": "@jupyter-widgets/controls",
      "model_module_version": "2.0.0",
      "model_name": "HTMLModel",
      "state": {
       "layout": "IPY_MODEL_06806a3dc41a4beeafe9d840860fdc39",
       "style": "IPY_MODEL_3005d9df12e44d56889a10187f0270c6",
       "value": "  0%"
      }
     },
     "d01ce7ddc323406a930ad9819ce648a2": {
      "model_module": "@jupyter-widgets/controls",
      "model_module_version": "2.0.0",
      "model_name": "HTMLModel",
      "state": {
       "layout": "IPY_MODEL_332fb5b18fe84c75a32ad813c7a2bb97",
       "style": "IPY_MODEL_67d5b442287542a9bbc0f6f1ebe4c176",
       "value": "Testing DataLoader 0: 100%"
      }
     },
     "d03557daf1a54612809f583679a6e9e5": {
      "model_module": "@jupyter-widgets/controls",
      "model_module_version": "2.0.0",
      "model_name": "HTMLModel",
      "state": {
       "layout": "IPY_MODEL_9ebddbb36bb34023a26384f633e5e706",
       "style": "IPY_MODEL_eac8d09889904eb192dd9e8e6300de8d",
       "value": "Testing DataLoader 0: 100%"
      }
     },
     "d0369ce465514a418600c24793a9352d": {
      "model_module": "@jupyter-widgets/controls",
      "model_module_version": "2.0.0",
      "model_name": "HTMLStyleModel",
      "state": {
       "description_width": "",
       "font_size": null,
       "text_color": null
      }
     },
     "d037589ac2bc496abd601372ace2a9fd": {
      "model_module": "@jupyter-widgets/base",
      "model_module_version": "2.0.0",
      "model_name": "LayoutModel",
      "state": {}
     },
     "d03afcc948b5404d9e7b9ce1cc9b3766": {
      "model_module": "@jupyter-widgets/controls",
      "model_module_version": "2.0.0",
      "model_name": "HTMLModel",
      "state": {
       "layout": "IPY_MODEL_4a0a86e3924e4430b53a49e28587b4a2",
       "style": "IPY_MODEL_239f40c82ab447f581ba89dce95f368e",
       "value": " 4/5 [00:06&lt;00:01,  1.71s/it, loss=0.0605, v_num=81, MAE=3.980, RMSE=5.110, Loss=0.068, RegLoss=0.000]"
      }
     },
     "d04c758e579b4a4eac7baf130deddb58": {
      "model_module": "@jupyter-widgets/controls",
      "model_module_version": "2.0.0",
      "model_name": "HBoxModel",
      "state": {
       "children": [
        "IPY_MODEL_9491aa24454c4dc8a184a6da4761ec6c",
        "IPY_MODEL_e061ac9ff9e64ad5a2202b8132a76b4a",
        "IPY_MODEL_bbda28043e17487b81d6c1eb75fff787"
       ],
       "layout": "IPY_MODEL_0182ecea18de44c9b853098e2529f20d"
      }
     },
     "d054ecaf7e914400a29f392c746203af": {
      "model_module": "@jupyter-widgets/controls",
      "model_module_version": "2.0.0",
      "model_name": "ProgressStyleModel",
      "state": {
       "description_width": ""
      }
     },
     "d0566f094afd4664aa4bafa57d005b0e": {
      "model_module": "@jupyter-widgets/controls",
      "model_module_version": "2.0.0",
      "model_name": "HTMLStyleModel",
      "state": {
       "description_width": "",
       "font_size": null,
       "text_color": null
      }
     },
     "d078ca9c25a94cae8430ab4cf4e69591": {
      "model_module": "@jupyter-widgets/controls",
      "model_module_version": "2.0.0",
      "model_name": "HTMLStyleModel",
      "state": {
       "description_width": "",
       "font_size": null,
       "text_color": null
      }
     },
     "d097a09f7c1e4d3893ab79118962c37d": {
      "model_module": "@jupyter-widgets/base",
      "model_module_version": "2.0.0",
      "model_name": "LayoutModel",
      "state": {}
     },
     "d09adf7850f34913aa90243dc35aeae5": {
      "model_module": "@jupyter-widgets/base",
      "model_module_version": "2.0.0",
      "model_name": "LayoutModel",
      "state": {
       "display": "inline-flex",
       "flex_flow": "row wrap",
       "width": "100%"
      }
     },
     "d0d4210e53d044d0b29dbe682f459e01": {
      "model_module": "@jupyter-widgets/base",
      "model_module_version": "2.0.0",
      "model_name": "LayoutModel",
      "state": {}
     },
     "d0d5839fab72438d83c00a6edd18e2f8": {
      "model_module": "@jupyter-widgets/controls",
      "model_module_version": "2.0.0",
      "model_name": "HTMLModel",
      "state": {
       "layout": "IPY_MODEL_1d31663b52da434fbbe9857196890a1b",
       "style": "IPY_MODEL_fa3f9b6b2395424785781f129d673883",
       "value": " 1/1 [00:00&lt;00:00, 263.79it/s]"
      }
     },
     "d0da05aa3aa84bd5be6d4e4eeb6f546c": {
      "model_module": "@jupyter-widgets/base",
      "model_module_version": "2.0.0",
      "model_name": "LayoutModel",
      "state": {}
     },
     "d1189fcb801840258dc9518cc7ed1184": {
      "model_module": "@jupyter-widgets/controls",
      "model_module_version": "2.0.0",
      "model_name": "HTMLModel",
      "state": {
       "layout": "IPY_MODEL_4bcbe2c5e4e048159e9b86d734de78d3",
       "style": "IPY_MODEL_9f3152eec30b45bea6a10811de6ec64a",
       "value": " 1/1 [00:00&lt;00:00, 112.06it/s]"
      }
     },
     "d11e075218f64762bf5c679dacac1ecf": {
      "model_module": "@jupyter-widgets/base",
      "model_module_version": "2.0.0",
      "model_name": "LayoutModel",
      "state": {
       "flex": "2"
      }
     },
     "d156550f16ed42e2b1ae2b86312f6fc2": {
      "model_module": "@jupyter-widgets/controls",
      "model_module_version": "2.0.0",
      "model_name": "HBoxModel",
      "state": {
       "children": [
        "IPY_MODEL_a38b2f9a7f634a00adf4f154db15e983",
        "IPY_MODEL_a7cafd3fdad84c8bb23a01dd9e859c1d",
        "IPY_MODEL_9fe521ab50bc45689aa670c408a5ece4"
       ],
       "layout": "IPY_MODEL_1c5ecffc6c2d4eefbb3c7d61cf135eba"
      }
     },
     "d1666cc6d5fb4d10832ef533687e5fb9": {
      "model_module": "@jupyter-widgets/base",
      "model_module_version": "2.0.0",
      "model_name": "LayoutModel",
      "state": {
       "display": "inline-flex",
       "flex_flow": "row wrap",
       "visibility": "hidden",
       "width": "100%"
      }
     },
     "d17b06bc3a674693a79e584a515001a6": {
      "model_module": "@jupyter-widgets/controls",
      "model_module_version": "2.0.0",
      "model_name": "FloatProgressModel",
      "state": {
       "bar_style": "danger",
       "layout": "IPY_MODEL_d44942f1985a41dda4a94ce0e4db1652",
       "max": 1,
       "style": "IPY_MODEL_b2045f9b5d1343db90d7c39fd882b32c"
      }
     },
     "d17c9d8c1ae943b690940564777d38d8": {
      "model_module": "@jupyter-widgets/controls",
      "model_module_version": "2.0.0",
      "model_name": "HTMLStyleModel",
      "state": {
       "description_width": "",
       "font_size": null,
       "text_color": null
      }
     },
     "d1a0f8a7c689440e8d3305b2a5cfd1b4": {
      "model_module": "@jupyter-widgets/controls",
      "model_module_version": "2.0.0",
      "model_name": "HTMLStyleModel",
      "state": {
       "description_width": "",
       "font_size": null,
       "text_color": null
      }
     },
     "d1a46bfab2584355a93b54b41f346d77": {
      "model_module": "@jupyter-widgets/controls",
      "model_module_version": "2.0.0",
      "model_name": "FloatProgressModel",
      "state": {
       "bar_style": "success",
       "layout": "IPY_MODEL_b4d987aca5464c60b8798cfb810f95b1",
       "max": 80,
       "style": "IPY_MODEL_90babb532c8b440f85bc6c1ae4316070",
       "value": 80
      }
     },
     "d1c425aa389247cbb527cf07deb1a1b3": {
      "model_module": "@jupyter-widgets/controls",
      "model_module_version": "2.0.0",
      "model_name": "HBoxModel",
      "state": {
       "children": [
        "IPY_MODEL_0c09a644234143febae8e43500a244c6",
        "IPY_MODEL_010a1ff6bbbb4d208cfbb33ab4d72aeb",
        "IPY_MODEL_866c92219bbe46869077070c4a89e64d"
       ],
       "layout": "IPY_MODEL_9581fc2dfe8b4aed87b34c8e764d09e2"
      }
     },
     "d1d1aaed2a1344ceb3e951a5386cfa72": {
      "model_module": "@jupyter-widgets/controls",
      "model_module_version": "2.0.0",
      "model_name": "HTMLModel",
      "state": {
       "layout": "IPY_MODEL_35c7c477dbd24393b18e782f21549d03",
       "style": "IPY_MODEL_ecc9c68673e644c9908f4e57056c11f1",
       "value": " 33/80 [00:00&lt;00:00, 186.92it/s, loss=0.0847, v_num=40, MAE=4.680, RMSE=5.960, Loss=0.0862, RegLoss=0.000]"
      }
     },
     "d1dd1eb2cf6b474ea3b9457e0f11d11f": {
      "model_module": "@jupyter-widgets/controls",
      "model_module_version": "2.0.0",
      "model_name": "HBoxModel",
      "state": {
       "children": [
        "IPY_MODEL_a0e46d77949842e297ba5993601a913f",
        "IPY_MODEL_2b3c72d1577d4b48bfb64abf86a9b6b2",
        "IPY_MODEL_fbf4f8771a9b4668a08301072a0e0434"
       ],
       "layout": "IPY_MODEL_31b2099195f34ca6a010e93c0e66076a"
      }
     },
     "d1f9786c710a42cd9366bbc57822abaa": {
      "model_module": "@jupyter-widgets/base",
      "model_module_version": "2.0.0",
      "model_name": "LayoutModel",
      "state": {}
     },
     "d210191f326c42848759ff7864e19602": {
      "model_module": "@jupyter-widgets/controls",
      "model_module_version": "2.0.0",
      "model_name": "ProgressStyleModel",
      "state": {
       "description_width": ""
      }
     },
     "d211cb0371c14363a574f6c8481ba474": {
      "model_module": "@jupyter-widgets/base",
      "model_module_version": "2.0.0",
      "model_name": "LayoutModel",
      "state": {}
     },
     "d21e6aa7f6bf46a7b25c83b96c6a80c9": {
      "model_module": "@jupyter-widgets/controls",
      "model_module_version": "2.0.0",
      "model_name": "HTMLStyleModel",
      "state": {
       "description_width": "",
       "font_size": null,
       "text_color": null
      }
     },
     "d243459d5831476c91a7cf5c3b6cd13c": {
      "model_module": "@jupyter-widgets/controls",
      "model_module_version": "2.0.0",
      "model_name": "HTMLModel",
      "state": {
       "layout": "IPY_MODEL_39f44e2088bf450ead26dc5f18c755e7",
       "style": "IPY_MODEL_71d45a43b534437097add171450f165b",
       "value": "Epoch 5: 100%"
      }
     },
     "d24a1c16aafe4a6cb5f2a76b59ca489d": {
      "model_module": "@jupyter-widgets/base",
      "model_module_version": "2.0.0",
      "model_name": "LayoutModel",
      "state": {
       "flex": "2"
      }
     },
     "d266e15b75624a4284b962e602b05c72": {
      "model_module": "@jupyter-widgets/base",
      "model_module_version": "2.0.0",
      "model_name": "LayoutModel",
      "state": {}
     },
     "d26a12087f5b4bdb8e202a5d30f72f00": {
      "model_module": "@jupyter-widgets/controls",
      "model_module_version": "2.0.0",
      "model_name": "HTMLStyleModel",
      "state": {
       "description_width": "",
       "font_size": null,
       "text_color": null
      }
     },
     "d2a048a6e9ff4ab088999cb8f1819006": {
      "model_module": "@jupyter-widgets/base",
      "model_module_version": "2.0.0",
      "model_name": "LayoutModel",
      "state": {}
     },
     "d3104472b996414090f0069ec448008c": {
      "model_module": "@jupyter-widgets/base",
      "model_module_version": "2.0.0",
      "model_name": "LayoutModel",
      "state": {
       "flex": "2"
      }
     },
     "d35c25e5566f49b08f5151c16829b110": {
      "model_module": "@jupyter-widgets/base",
      "model_module_version": "2.0.0",
      "model_name": "LayoutModel",
      "state": {
       "flex": "2"
      }
     },
     "d36301c5674f4ed4ac2011928d1c3b3d": {
      "model_module": "@jupyter-widgets/controls",
      "model_module_version": "2.0.0",
      "model_name": "HBoxModel",
      "state": {
       "children": [
        "IPY_MODEL_3fe36cc7618d45c7812302a67807cb10",
        "IPY_MODEL_92f064fd5e7f41ecae164b5ceaa12dc7",
        "IPY_MODEL_1cbb23026d734f99bdb8ae894598c5c3"
       ],
       "layout": "IPY_MODEL_e0a9d846e7c145b999e14b89cfd1ba1e"
      }
     },
     "d37b19020dd140159db5dd8c30b21647": {
      "model_module": "@jupyter-widgets/controls",
      "model_module_version": "2.0.0",
      "model_name": "HTMLStyleModel",
      "state": {
       "description_width": "",
       "font_size": null,
       "text_color": null
      }
     },
     "d3d267abf5c5403b82540ed6765bc938": {
      "model_module": "@jupyter-widgets/base",
      "model_module_version": "2.0.0",
      "model_name": "LayoutModel",
      "state": {}
     },
     "d3dd4417bb8e49969077c13f1f73a9c4": {
      "model_module": "@jupyter-widgets/controls",
      "model_module_version": "2.0.0",
      "model_name": "HTMLModel",
      "state": {
       "layout": "IPY_MODEL_fcd663c1ecae418f8c427186a3f33faa",
       "style": "IPY_MODEL_abbe748ccd83423a904dde16c9a889c8",
       "value": " 4/5 [00:16&lt;00:04,  4.15s/it, loss=0.0565, v_num=79, MAE=3.910, RMSE=4.970, Loss=0.058, RegLoss=0.000]"
      }
     },
     "d3e1db4180ef4bc99aba441d98089727": {
      "model_module": "@jupyter-widgets/controls",
      "model_module_version": "2.0.0",
      "model_name": "HTMLStyleModel",
      "state": {
       "description_width": "",
       "font_size": null,
       "text_color": null
      }
     },
     "d3e3fd870d274ead85149d17036fb7f7": {
      "model_module": "@jupyter-widgets/base",
      "model_module_version": "2.0.0",
      "model_name": "LayoutModel",
      "state": {
       "flex": "2"
      }
     },
     "d3eec73c29234e78ba75a7dfd68eafc0": {
      "model_module": "@jupyter-widgets/controls",
      "model_module_version": "2.0.0",
      "model_name": "HTMLStyleModel",
      "state": {
       "description_width": "",
       "font_size": null,
       "text_color": null
      }
     },
     "d3eee9528eba4270aa0095e1c08609df": {
      "model_module": "@jupyter-widgets/base",
      "model_module_version": "2.0.0",
      "model_name": "LayoutModel",
      "state": {
       "display": "inline-flex",
       "flex_flow": "row wrap",
       "width": "100%"
      }
     },
     "d3f417cc893547e1ac9356c9296698d4": {
      "model_module": "@jupyter-widgets/controls",
      "model_module_version": "2.0.0",
      "model_name": "HTMLModel",
      "state": {
       "layout": "IPY_MODEL_f5ce53b0372c4717a62dd833056a7ac4",
       "style": "IPY_MODEL_993064ed04004de482168ffcde8e980d",
       "value": "Epoch 3:   4%"
      }
     },
     "d406ee8540e24c7d949941623f58026b": {
      "model_module": "@jupyter-widgets/base",
      "model_module_version": "2.0.0",
      "model_name": "LayoutModel",
      "state": {}
     },
     "d415fc39f7a747248b6fa83b1989d991": {
      "model_module": "@jupyter-widgets/controls",
      "model_module_version": "2.0.0",
      "model_name": "HBoxModel",
      "state": {
       "children": [
        "IPY_MODEL_6a5b29e110204f7f957d90362960b253",
        "IPY_MODEL_d1a46bfab2584355a93b54b41f346d77",
        "IPY_MODEL_2ded3ebb4ddd4618b3344b84383a08c3"
       ],
       "layout": "IPY_MODEL_cd6246ad6f134f1c8d6f28c82a23febc"
      }
     },
     "d4163ef395b8413a97f5cbb3bf45d94b": {
      "model_module": "@jupyter-widgets/controls",
      "model_module_version": "2.0.0",
      "model_name": "HBoxModel",
      "state": {
       "children": [
        "IPY_MODEL_1aaff77c1f264cf292b2f5edfcd422c6",
        "IPY_MODEL_8d5111ef98f94f7eb1f6b997af46e03d",
        "IPY_MODEL_67e46c50fda04886a71ec3f4ae664069"
       ],
       "layout": "IPY_MODEL_47875b712dcf4fb5bcb52023a3a263e8"
      }
     },
     "d41979b746fd417a8ea26a88ab4e649d": {
      "model_module": "@jupyter-widgets/controls",
      "model_module_version": "2.0.0",
      "model_name": "FloatProgressModel",
      "state": {
       "bar_style": "success",
       "layout": "IPY_MODEL_14689b3d2d8f46d19030df987dc1e604",
       "max": 1,
       "style": "IPY_MODEL_485d3ff7f3ce4e43a2cb7b28cdbf38c0",
       "value": 1
      }
     },
     "d41a421bf169450a8290da08e34d16b0": {
      "model_module": "@jupyter-widgets/controls",
      "model_module_version": "2.0.0",
      "model_name": "ProgressStyleModel",
      "state": {
       "description_width": ""
      }
     },
     "d41b95b13fd043929ca07ace906c04e6": {
      "model_module": "@jupyter-widgets/base",
      "model_module_version": "2.0.0",
      "model_name": "LayoutModel",
      "state": {}
     },
     "d41cd976abca4152938b6165bb91a7c6": {
      "model_module": "@jupyter-widgets/base",
      "model_module_version": "2.0.0",
      "model_name": "LayoutModel",
      "state": {
       "display": "inline-flex",
       "flex_flow": "row wrap",
       "width": "100%"
      }
     },
     "d41eb88a7ca1491ca511791867928f7e": {
      "model_module": "@jupyter-widgets/controls",
      "model_module_version": "2.0.0",
      "model_name": "HTMLStyleModel",
      "state": {
       "description_width": "",
       "font_size": null,
       "text_color": null
      }
     },
     "d44942f1985a41dda4a94ce0e4db1652": {
      "model_module": "@jupyter-widgets/base",
      "model_module_version": "2.0.0",
      "model_name": "LayoutModel",
      "state": {}
     },
     "d45bd142874249159b7b355b9e860862": {
      "model_module": "@jupyter-widgets/base",
      "model_module_version": "2.0.0",
      "model_name": "LayoutModel",
      "state": {
       "flex": "2"
      }
     },
     "d48044d72320423fa2eb8c864a3b0cdb": {
      "model_module": "@jupyter-widgets/controls",
      "model_module_version": "2.0.0",
      "model_name": "HTMLModel",
      "state": {
       "layout": "IPY_MODEL_2ad0cb474c7c46e590b41b7a4d541558",
       "style": "IPY_MODEL_15dc6c7211bd45639ebcd9bb2392b9a7",
       "value": "  0%"
      }
     },
     "d49cda81830345219f8c22ee065f3f62": {
      "model_module": "@jupyter-widgets/controls",
      "model_module_version": "2.0.0",
      "model_name": "HBoxModel",
      "state": {
       "children": [
        "IPY_MODEL_1c4e73021f3c48fe8d04ca8149500f83",
        "IPY_MODEL_3d177a62ae864e8db86b2b4f891717b3",
        "IPY_MODEL_30a030da362f48e59a2e75ee690e41f8"
       ],
       "layout": "IPY_MODEL_cd0ec384316849acaf317cd2991be41f"
      }
     },
     "d4b2ccc11c4d4751901d46416826ce94": {
      "model_module": "@jupyter-widgets/base",
      "model_module_version": "2.0.0",
      "model_name": "LayoutModel",
      "state": {}
     },
     "d4b88e7e6aff411fbdc3fa91eb7e2514": {
      "model_module": "@jupyter-widgets/base",
      "model_module_version": "2.0.0",
      "model_name": "LayoutModel",
      "state": {
       "flex": "2"
      }
     },
     "d4bd7ec509ed4dd2988276958ff2f7c6": {
      "model_module": "@jupyter-widgets/base",
      "model_module_version": "2.0.0",
      "model_name": "LayoutModel",
      "state": {}
     },
     "d4cbe27283964a258b87470d6217dcc1": {
      "model_module": "@jupyter-widgets/base",
      "model_module_version": "2.0.0",
      "model_name": "LayoutModel",
      "state": {
       "flex": "2"
      }
     },
     "d4eca226af7344fda10d0b2fe73b879f": {
      "model_module": "@jupyter-widgets/controls",
      "model_module_version": "2.0.0",
      "model_name": "HTMLModel",
      "state": {
       "layout": "IPY_MODEL_71601595b22049d18d73aa7dedfb4281",
       "style": "IPY_MODEL_c296763d3c4643c39b72226cba7959d2",
       "value": "  0%"
      }
     },
     "d4fa2f8c31e34b25bb20c03e8e136a31": {
      "model_module": "@jupyter-widgets/base",
      "model_module_version": "2.0.0",
      "model_name": "LayoutModel",
      "state": {
       "flex": "2"
      }
     },
     "d5033295d6474ea0a4b8c8c10246e4cd": {
      "model_module": "@jupyter-widgets/controls",
      "model_module_version": "2.0.0",
      "model_name": "HTMLModel",
      "state": {
       "layout": "IPY_MODEL_33fe12fcf17f482da836a4f824b17ec0",
       "style": "IPY_MODEL_a5e8a0a743b84f03898e820c2e30c291",
       "value": " 74/80 [00:00&lt;00:00, 411.85it/s, loss=0.0501, v_num=8, MAE=3.400, RMSE=4.360, Loss=0.050, RegLoss=0.00587]"
      }
     },
     "d51d4797c4e8463898e8751c432e2362": {
      "model_module": "@jupyter-widgets/controls",
      "model_module_version": "2.0.0",
      "model_name": "HTMLStyleModel",
      "state": {
       "description_width": "",
       "font_size": null,
       "text_color": null
      }
     },
     "d522856ae72e421aa3b99c8af44761c6": {
      "model_module": "@jupyter-widgets/base",
      "model_module_version": "2.0.0",
      "model_name": "LayoutModel",
      "state": {
       "flex": "2"
      }
     },
     "d525d6374f2b41b3af1ab1bb554d8a11": {
      "model_module": "@jupyter-widgets/base",
      "model_module_version": "2.0.0",
      "model_name": "LayoutModel",
      "state": {}
     },
     "d529fd9f13774cbeb6a71473aa82d43b": {
      "model_module": "@jupyter-widgets/controls",
      "model_module_version": "2.0.0",
      "model_name": "FloatProgressModel",
      "state": {
       "layout": "IPY_MODEL_ca928b326ef442d1a4f3abc981cf4302",
       "max": 1,
       "style": "IPY_MODEL_50e28d6265044e54b67d39ee19695646",
       "value": 1
      }
     },
     "d549e31f9a3946468ce29b93ee0b46f1": {
      "model_module": "@jupyter-widgets/controls",
      "model_module_version": "2.0.0",
      "model_name": "FloatProgressModel",
      "state": {
       "bar_style": "danger",
       "layout": "IPY_MODEL_2dac2ded949a4fb59b97bec61ba764ea",
       "max": 10,
       "style": "IPY_MODEL_48b48da537c641b98cf36afda07f2bd5"
      }
     },
     "d55d1cac0c23430ab06bede1617cdefd": {
      "model_module": "@jupyter-widgets/controls",
      "model_module_version": "2.0.0",
      "model_name": "HTMLModel",
      "state": {
       "layout": "IPY_MODEL_ff10e41a57df4b9f9f833cb6c19da090",
       "style": "IPY_MODEL_1d02b5a2d659419dae52ba6acc411fe1",
       "value": " 12/80 [00:00&lt;00:05, 12.36it/s, loss=0.0575, v_num=25, MAE=3.780, RMSE=4.800, Loss=0.0617, RegLoss=0.000]"
      }
     },
     "d5714df6f6504a4ebdfc76a0c106f248": {
      "model_module": "@jupyter-widgets/controls",
      "model_module_version": "2.0.0",
      "model_name": "HTMLModel",
      "state": {
       "layout": "IPY_MODEL_d4b2ccc11c4d4751901d46416826ce94",
       "style": "IPY_MODEL_b06c8550bad647fba068255260c21cb6",
       "value": " 0/10 [00:44&lt;?, ?it/s]"
      }
     },
     "d57278f7e7bf4f70afd35e0726820833": {
      "model_module": "@jupyter-widgets/controls",
      "model_module_version": "2.0.0",
      "model_name": "HBoxModel",
      "state": {
       "children": [
        "IPY_MODEL_88676c835d494175ba7077c754b42a7a",
        "IPY_MODEL_11f27ea224ef43e8aa90a5ee9e058685",
        "IPY_MODEL_cb9f31dea21c4e918db2ffac15f5837b"
       ],
       "layout": "IPY_MODEL_b891aac7ab834addae014c9267dac63c"
      }
     },
     "d5a128300cf149dbaa5eea2cc05798b2": {
      "model_module": "@jupyter-widgets/controls",
      "model_module_version": "2.0.0",
      "model_name": "HTMLModel",
      "state": {
       "layout": "IPY_MODEL_f7b31086cd0a4ee68a79aacb9d5f2088",
       "style": "IPY_MODEL_b3f75925ed6047f382402aa7defa8988",
       "value": "Validation DataLoader 0: 100%"
      }
     },
     "d5a4ce186a3b4e64a4bb85f9eb0149d2": {
      "model_module": "@jupyter-widgets/base",
      "model_module_version": "2.0.0",
      "model_name": "LayoutModel",
      "state": {
       "display": "inline-flex",
       "flex_flow": "row wrap",
       "width": "100%"
      }
     },
     "d62620b1d1b4495cae05475e1e5ad85e": {
      "model_module": "@jupyter-widgets/base",
      "model_module_version": "2.0.0",
      "model_name": "LayoutModel",
      "state": {}
     },
     "d6395ed144c341f3bb8a4d5d23635ae2": {
      "model_module": "@jupyter-widgets/controls",
      "model_module_version": "2.0.0",
      "model_name": "FloatProgressModel",
      "state": {
       "bar_style": "success",
       "layout": "IPY_MODEL_ce07bf8a679145f89088ec2ed337bfca",
       "max": 1,
       "style": "IPY_MODEL_49c058fface54db2a95c9bd6496bd420",
       "value": 1
      }
     },
     "d66ff35b8d3d44d7a4e80b65892ba4f9": {
      "model_module": "@jupyter-widgets/base",
      "model_module_version": "2.0.0",
      "model_name": "LayoutModel",
      "state": {}
     },
     "d67bd8056e7c48c981fcca33a6cf1a0d": {
      "model_module": "@jupyter-widgets/controls",
      "model_module_version": "2.0.0",
      "model_name": "HTMLStyleModel",
      "state": {
       "description_width": "",
       "font_size": null,
       "text_color": null
      }
     },
     "d69e9693086c472b9d8054996939449c": {
      "model_module": "@jupyter-widgets/controls",
      "model_module_version": "2.0.0",
      "model_name": "HTMLModel",
      "state": {
       "layout": "IPY_MODEL_06b97c952f6641e69ef86badd34ba37a",
       "style": "IPY_MODEL_dd7ec49cdae64caababf9cf376aab973",
       "value": " 0/10 [01:26&lt;?, ?it/s]"
      }
     },
     "d6ae89c0ad91498bab51503c1286b7fb": {
      "model_module": "@jupyter-widgets/controls",
      "model_module_version": "2.0.0",
      "model_name": "HBoxModel",
      "state": {
       "children": [
        "IPY_MODEL_fe811b9c395e47a4b43010cdd9c5bbfa",
        "IPY_MODEL_0d9a9df358624cc09fd232bbd916dbff",
        "IPY_MODEL_1483adb658c947c8a46b25700fa5a2cb"
       ],
       "layout": "IPY_MODEL_6ecf42fc42fa423ca0c57cf02b36ee07"
      }
     },
     "d6b6e1f2f9d44727857498b7b9cabd0c": {
      "model_module": "@jupyter-widgets/controls",
      "model_module_version": "2.0.0",
      "model_name": "HTMLModel",
      "state": {
       "layout": "IPY_MODEL_6328a7c3082f45dc86b4a3a0e9f8501d",
       "style": "IPY_MODEL_71834e46a46f41a1ada576a36fac2ba9",
       "value": " 14/80 [00:00&lt;00:01, 63.48it/s, loss=0.0521, v_num=29, MAE=3.620, RMSE=4.590, Loss=0.0508, RegLoss=0.000]"
      }
     },
     "d6e5a6eb6a72448b8b11d49761d78c5a": {
      "model_module": "@jupyter-widgets/base",
      "model_module_version": "2.0.0",
      "model_name": "LayoutModel",
      "state": {}
     },
     "d6e88b10952d4f62a1e8afe15724b034": {
      "model_module": "@jupyter-widgets/controls",
      "model_module_version": "2.0.0",
      "model_name": "HTMLStyleModel",
      "state": {
       "description_width": "",
       "font_size": null,
       "text_color": null
      }
     },
     "d6f145c83fb945909f87f9c726baffa5": {
      "model_module": "@jupyter-widgets/controls",
      "model_module_version": "2.0.0",
      "model_name": "HTMLModel",
      "state": {
       "layout": "IPY_MODEL_8ed6cee09ec04ab99d26b7a25fb0f550",
       "style": "IPY_MODEL_e8011cb69bc24f86a3f870e3fea84f6d",
       "value": " 1/1 [00:00&lt;00:00, 122.77it/s]"
      }
     },
     "d701e50b16f74cbdb6676c8daa1d23f4": {
      "model_module": "@jupyter-widgets/base",
      "model_module_version": "2.0.0",
      "model_name": "LayoutModel",
      "state": {
       "flex": "2"
      }
     },
     "d73e48e381bd4e14a406e1b7514fcbc3": {
      "model_module": "@jupyter-widgets/controls",
      "model_module_version": "2.0.0",
      "model_name": "ProgressStyleModel",
      "state": {
       "description_width": ""
      }
     },
     "d7401919a83545be86b9627ba1d40050": {
      "model_module": "@jupyter-widgets/base",
      "model_module_version": "2.0.0",
      "model_name": "LayoutModel",
      "state": {
       "display": "inline-flex",
       "flex_flow": "row wrap",
       "width": "100%"
      }
     },
     "d743fca3a3674846a6bb6a6b507e699e": {
      "model_module": "@jupyter-widgets/base",
      "model_module_version": "2.0.0",
      "model_name": "LayoutModel",
      "state": {}
     },
     "d7500987fa7f447baf2e066730a5f443": {
      "model_module": "@jupyter-widgets/base",
      "model_module_version": "2.0.0",
      "model_name": "LayoutModel",
      "state": {
       "flex": "2"
      }
     },
     "d7868f73823a44fcb1a8bb0512d8191e": {
      "model_module": "@jupyter-widgets/controls",
      "model_module_version": "2.0.0",
      "model_name": "HTMLModel",
      "state": {
       "layout": "IPY_MODEL_6bd98dec062d4bbf9827979bb5eab159",
       "style": "IPY_MODEL_71e42e259ef244c3b094726a0d095a87",
       "value": "Testing DataLoader 0: 100%"
      }
     },
     "d799b814db78472ba3ba1da119133db7": {
      "model_module": "@jupyter-widgets/controls",
      "model_module_version": "2.0.0",
      "model_name": "HTMLStyleModel",
      "state": {
       "description_width": "",
       "font_size": null,
       "text_color": null
      }
     },
     "d7b72a169d1e4855ade83814bf3c5e39": {
      "model_module": "@jupyter-widgets/base",
      "model_module_version": "2.0.0",
      "model_name": "LayoutModel",
      "state": {}
     },
     "d7b9f83ca8e343e0b0ab9ac932f1e563": {
      "model_module": "@jupyter-widgets/base",
      "model_module_version": "2.0.0",
      "model_name": "LayoutModel",
      "state": {}
     },
     "d7d244620c1f443a89f4446c5f1c4cbc": {
      "model_module": "@jupyter-widgets/controls",
      "model_module_version": "2.0.0",
      "model_name": "HTMLStyleModel",
      "state": {
       "description_width": "",
       "font_size": null,
       "text_color": null
      }
     },
     "d8107ce3ba75409694e78ce286d2b43e": {
      "model_module": "@jupyter-widgets/base",
      "model_module_version": "2.0.0",
      "model_name": "LayoutModel",
      "state": {}
     },
     "d8136095730c41ed82df8627556bd148": {
      "model_module": "@jupyter-widgets/controls",
      "model_module_version": "2.0.0",
      "model_name": "FloatProgressModel",
      "state": {
       "bar_style": "success",
       "layout": "IPY_MODEL_5c3f93c4eee944ed9b45347a2d469007",
       "max": 1,
       "style": "IPY_MODEL_b256553766ac44e5b12e8b1ee101b7f2",
       "value": 1
      }
     },
     "d8228cfd4f274ae7b33d2107f486f93e": {
      "model_module": "@jupyter-widgets/controls",
      "model_module_version": "2.0.0",
      "model_name": "HTMLStyleModel",
      "state": {
       "description_width": "",
       "font_size": null,
       "text_color": null
      }
     },
     "d83d4de1b6854827a29a16988c70bf5f": {
      "model_module": "@jupyter-widgets/controls",
      "model_module_version": "2.0.0",
      "model_name": "ProgressStyleModel",
      "state": {
       "description_width": ""
      }
     },
     "d84761777dd646b695cafe670b165f8e": {
      "model_module": "@jupyter-widgets/base",
      "model_module_version": "2.0.0",
      "model_name": "LayoutModel",
      "state": {
       "flex": "2"
      }
     },
     "d892094c169d4a46997d39533272df32": {
      "model_module": "@jupyter-widgets/base",
      "model_module_version": "2.0.0",
      "model_name": "LayoutModel",
      "state": {}
     },
     "d8a73da620ac4e3d9f6809ff3d39695f": {
      "model_module": "@jupyter-widgets/base",
      "model_module_version": "2.0.0",
      "model_name": "LayoutModel",
      "state": {}
     },
     "d8f076e156c842ac975b815819132985": {
      "model_module": "@jupyter-widgets/controls",
      "model_module_version": "2.0.0",
      "model_name": "HTMLStyleModel",
      "state": {
       "description_width": "",
       "font_size": null,
       "text_color": null
      }
     },
     "d90a22d660534fc9803a8a83157ca1f4": {
      "model_module": "@jupyter-widgets/controls",
      "model_module_version": "2.0.0",
      "model_name": "ProgressStyleModel",
      "state": {
       "description_width": ""
      }
     },
     "d915a6dca1f4449ea600023915c28be0": {
      "model_module": "@jupyter-widgets/controls",
      "model_module_version": "2.0.0",
      "model_name": "ProgressStyleModel",
      "state": {
       "description_width": ""
      }
     },
     "d918832d830744f196d854b96d1fb2f2": {
      "model_module": "@jupyter-widgets/base",
      "model_module_version": "2.0.0",
      "model_name": "LayoutModel",
      "state": {
       "flex": "2"
      }
     },
     "d949fe8c0535409ba28e74013d0281a8": {
      "model_module": "@jupyter-widgets/controls",
      "model_module_version": "2.0.0",
      "model_name": "FloatProgressModel",
      "state": {
       "bar_style": "danger",
       "layout": "IPY_MODEL_90aa575a88974578972af6dff3db13f2",
       "max": 10,
       "style": "IPY_MODEL_ee8f8ef7fed4466199a1f6b1deb93f1d"
      }
     },
     "d9595f05699341edb1ffeeaab023c2c1": {
      "model_module": "@jupyter-widgets/controls",
      "model_module_version": "2.0.0",
      "model_name": "HTMLModel",
      "state": {
       "layout": "IPY_MODEL_cf8109ff85514758866f70484346449a",
       "style": "IPY_MODEL_b2d5c6e427e74ada9b9c560167212140",
       "value": " 1/1 [01:01&lt;00:00, 61.90s/it]"
      }
     },
     "d9638fb8a9864d7dbcd84b62581cf370": {
      "model_module": "@jupyter-widgets/controls",
      "model_module_version": "2.0.0",
      "model_name": "HTMLStyleModel",
      "state": {
       "description_width": "",
       "font_size": null,
       "text_color": null
      }
     },
     "d98165b9f8274ef9903d22018c5212c1": {
      "model_module": "@jupyter-widgets/controls",
      "model_module_version": "2.0.0",
      "model_name": "HTMLModel",
      "state": {
       "layout": "IPY_MODEL_470789c61e6a4acb909b974ee4488f9f",
       "style": "IPY_MODEL_8f73173a32ca4d7b8df196660fc0ad54",
       "value": "Epoch 4:  80%"
      }
     },
     "d984c83c83f249baabff85310d03e876": {
      "model_module": "@jupyter-widgets/controls",
      "model_module_version": "2.0.0",
      "model_name": "ProgressStyleModel",
      "state": {
       "description_width": ""
      }
     },
     "d98594a2143d466e993c2e29d789bf28": {
      "model_module": "@jupyter-widgets/base",
      "model_module_version": "2.0.0",
      "model_name": "LayoutModel",
      "state": {}
     },
     "d9acb3cd066c4084acc62ab8c2dd15c9": {
      "model_module": "@jupyter-widgets/base",
      "model_module_version": "2.0.0",
      "model_name": "LayoutModel",
      "state": {}
     },
     "d9cbd0e7ab28425bb707a30a372a8938": {
      "model_module": "@jupyter-widgets/controls",
      "model_module_version": "2.0.0",
      "model_name": "ProgressStyleModel",
      "state": {
       "description_width": ""
      }
     },
     "d9d3109373e04b40b2f9eaf100d3bf54": {
      "model_module": "@jupyter-widgets/controls",
      "model_module_version": "2.0.0",
      "model_name": "FloatProgressModel",
      "state": {
       "layout": "IPY_MODEL_a83dc465b4044b54b751d72766056224",
       "max": 1,
       "style": "IPY_MODEL_765b9045365442c28868778fe57a5a49",
       "value": 1
      }
     },
     "d9d44e4d11a64012b00f445ecf7b7de3": {
      "model_module": "@jupyter-widgets/controls",
      "model_module_version": "2.0.0",
      "model_name": "HTMLStyleModel",
      "state": {
       "description_width": "",
       "font_size": null,
       "text_color": null
      }
     },
     "d9d456aeec894a83935237127693520c": {
      "model_module": "@jupyter-widgets/controls",
      "model_module_version": "2.0.0",
      "model_name": "HTMLModel",
      "state": {
       "layout": "IPY_MODEL_d0d4210e53d044d0b29dbe682f459e01",
       "style": "IPY_MODEL_8cffc93369ad473b88f508dd6cda33ef",
       "value": "  0%"
      }
     },
     "d9f55cbab5f74223b3dec1312e5d9142": {
      "model_module": "@jupyter-widgets/controls",
      "model_module_version": "2.0.0",
      "model_name": "HTMLStyleModel",
      "state": {
       "description_width": "",
       "font_size": null,
       "text_color": null
      }
     },
     "da3d55b94e3947feb7d35f044160dc2f": {
      "model_module": "@jupyter-widgets/base",
      "model_module_version": "2.0.0",
      "model_name": "LayoutModel",
      "state": {}
     },
     "da43a07b9374489d803ab43c293afa84": {
      "model_module": "@jupyter-widgets/controls",
      "model_module_version": "2.0.0",
      "model_name": "HTMLModel",
      "state": {
       "layout": "IPY_MODEL_566f0346c1be44b2b9e259033b57e5b5",
       "style": "IPY_MODEL_72ef3f22dbaa441288dd3cb6379f2c49",
       "value": " 53/80 [07:53&lt;04:00,  8.93s/it, loss=1.75, v_num=32, MAE=23.30, RMSE=33.80, Loss=1.790, RegLoss=0.000]"
      }
     },
     "da457384fd8d41cc97d825d617d7e3c0": {
      "model_module": "@jupyter-widgets/base",
      "model_module_version": "2.0.0",
      "model_name": "LayoutModel",
      "state": {}
     },
     "da5d092a22a64e7eb3af3e21659555af": {
      "model_module": "@jupyter-widgets/controls",
      "model_module_version": "2.0.0",
      "model_name": "HTMLStyleModel",
      "state": {
       "description_width": "",
       "font_size": null,
       "text_color": null
      }
     },
     "da70e09fa29d4009aa8b11f92a6f0ff1": {
      "model_module": "@jupyter-widgets/base",
      "model_module_version": "2.0.0",
      "model_name": "LayoutModel",
      "state": {
       "display": "inline-flex",
       "flex_flow": "row wrap",
       "visibility": "hidden",
       "width": "100%"
      }
     },
     "da7384892b05483cbdf183cd01765809": {
      "model_module": "@jupyter-widgets/controls",
      "model_module_version": "2.0.0",
      "model_name": "HBoxModel",
      "state": {
       "children": [
        "IPY_MODEL_fc693ada6a8e45e1bfcc804ce705c3f1",
        "IPY_MODEL_d549e31f9a3946468ce29b93ee0b46f1",
        "IPY_MODEL_c086e0e221e44b4d9d96247273b38ad9"
       ],
       "layout": "IPY_MODEL_9da7437c6f8541ed897130a15ef6316c"
      }
     },
     "da820ec6aee449a9b4f17ca3b3c88938": {
      "model_module": "@jupyter-widgets/controls",
      "model_module_version": "2.0.0",
      "model_name": "HTMLStyleModel",
      "state": {
       "description_width": "",
       "font_size": null,
       "text_color": null
      }
     },
     "da884434cfa646058ca47808ff7c91a2": {
      "model_module": "@jupyter-widgets/controls",
      "model_module_version": "2.0.0",
      "model_name": "HTMLModel",
      "state": {
       "layout": "IPY_MODEL_1805fda90c5248dfa4fbd0b6fc5faea0",
       "style": "IPY_MODEL_1bf0aadc9948448286b3afa1b201991f",
       "value": " 53/80 [05:49&lt;02:57,  6.59s/it, loss=0.0655]"
      }
     },
     "daa611af6c724f25bc53357f3de46e2c": {
      "model_module": "@jupyter-widgets/controls",
      "model_module_version": "2.0.0",
      "model_name": "HTMLStyleModel",
      "state": {
       "description_width": "",
       "font_size": null,
       "text_color": null
      }
     },
     "daa6e4a415054550b57f3d903ac2c142": {
      "model_module": "@jupyter-widgets/controls",
      "model_module_version": "2.0.0",
      "model_name": "HBoxModel",
      "state": {
       "children": [
        "IPY_MODEL_6df3538fa6cb474798d001809a89e052",
        "IPY_MODEL_1149c20ee27e45e5a2d8fb4344977dcb",
        "IPY_MODEL_61e6bf31f154402a874c7ca46e0342de"
       ],
       "layout": "IPY_MODEL_9d676a9a70ea4781bb369b796744ae15"
      }
     },
     "dab470dbf1e343febc47820410970c58": {
      "model_module": "@jupyter-widgets/controls",
      "model_module_version": "2.0.0",
      "model_name": "HTMLModel",
      "state": {
       "layout": "IPY_MODEL_dac6323e11a04a19a63da0e7394b1fca",
       "style": "IPY_MODEL_be7175299fc846b396cde9c7b446d05f",
       "value": "Epoch 19:  24%"
      }
     },
     "dab665abb1574f8295a2d405184cb0f1": {
      "model_module": "@jupyter-widgets/controls",
      "model_module_version": "2.0.0",
      "model_name": "HTMLModel",
      "state": {
       "layout": "IPY_MODEL_b9f54a2a219b4b32919831226fde6ce1",
       "style": "IPY_MODEL_d17c9d8c1ae943b690940564777d38d8",
       "value": "Epoch 53:  66%"
      }
     },
     "dac6323e11a04a19a63da0e7394b1fca": {
      "model_module": "@jupyter-widgets/base",
      "model_module_version": "2.0.0",
      "model_name": "LayoutModel",
      "state": {}
     },
     "daca7d148a4c420ab2e6c6c81fc083f1": {
      "model_module": "@jupyter-widgets/controls",
      "model_module_version": "2.0.0",
      "model_name": "HTMLModel",
      "state": {
       "layout": "IPY_MODEL_39081e21bc6248de9bfdc98142f083e3",
       "style": "IPY_MODEL_a8bee37ce2a74267b3276fc5c88f634f",
       "value": "Testing DataLoader 0: 100%"
      }
     },
     "dae21eb1feab490599396165977aac94": {
      "model_module": "@jupyter-widgets/controls",
      "model_module_version": "2.0.0",
      "model_name": "HTMLStyleModel",
      "state": {
       "description_width": "",
       "font_size": null,
       "text_color": null
      }
     },
     "daf84713fdca4b45b3ec4aca83edd58f": {
      "model_module": "@jupyter-widgets/controls",
      "model_module_version": "2.0.0",
      "model_name": "ProgressStyleModel",
      "state": {
       "description_width": ""
      }
     },
     "daffcf2097b74b1fb7e08476d9e396af": {
      "model_module": "@jupyter-widgets/base",
      "model_module_version": "2.0.0",
      "model_name": "LayoutModel",
      "state": {}
     },
     "db1ec4147a954ae899f781be4e3d9cd1": {
      "model_module": "@jupyter-widgets/base",
      "model_module_version": "2.0.0",
      "model_name": "LayoutModel",
      "state": {
       "display": "inline-flex",
       "flex_flow": "row wrap",
       "width": "100%"
      }
     },
     "db26505f19104dd2b9f1da3b76b6bb71": {
      "model_module": "@jupyter-widgets/controls",
      "model_module_version": "2.0.0",
      "model_name": "FloatProgressModel",
      "state": {
       "bar_style": "success",
       "layout": "IPY_MODEL_2707efd14a12424193dbfd096fc9ece7",
       "max": 1,
       "style": "IPY_MODEL_d73e48e381bd4e14a406e1b7514fcbc3",
       "value": 1
      }
     },
     "db48a92eab3248aab2859092acbff377": {
      "model_module": "@jupyter-widgets/controls",
      "model_module_version": "2.0.0",
      "model_name": "FloatProgressModel",
      "state": {
       "bar_style": "success",
       "layout": "IPY_MODEL_a9ceb0234c1b489da3613ebd8801e6d6",
       "max": 1,
       "style": "IPY_MODEL_9d5aa6e38f9d4293a8b3c70a51512296",
       "value": 1
      }
     },
     "db6471b59adc4901b5b05c9f417e877c": {
      "model_module": "@jupyter-widgets/controls",
      "model_module_version": "2.0.0",
      "model_name": "HBoxModel",
      "state": {
       "children": [
        "IPY_MODEL_eca9bd8e9d15453a836d1eab12d37f65",
        "IPY_MODEL_4d4e3aafd2fc4d9c95f09478753bef6e",
        "IPY_MODEL_ff6bf147db324291befdfc9658988ddc"
       ],
       "layout": "IPY_MODEL_3bada50a4d0b482884b9ef55a8685588"
      }
     },
     "db7f764f8b644b358f685d6c979f32aa": {
      "model_module": "@jupyter-widgets/base",
      "model_module_version": "2.0.0",
      "model_name": "LayoutModel",
      "state": {
       "display": "inline-flex",
       "flex_flow": "row wrap",
       "visibility": "hidden",
       "width": "100%"
      }
     },
     "db8bdc62cd764eed8b52519a5444061d": {
      "model_module": "@jupyter-widgets/base",
      "model_module_version": "2.0.0",
      "model_name": "LayoutModel",
      "state": {}
     },
     "db98e2b0d44e42709040506729e1ec30": {
      "model_module": "@jupyter-widgets/controls",
      "model_module_version": "2.0.0",
      "model_name": "HBoxModel",
      "state": {
       "children": [
        "IPY_MODEL_e8cf970f20df4c52874f61072d01626e",
        "IPY_MODEL_be683f2d1c134fc294fbd1ecf9649bae",
        "IPY_MODEL_b6f234d154a847e09bee9c25b1270f62"
       ],
       "layout": "IPY_MODEL_a49e9014465e4997addda374146e36a0"
      }
     },
     "dbb09fb94f164b6b9aeb6630040f89a6": {
      "model_module": "@jupyter-widgets/controls",
      "model_module_version": "2.0.0",
      "model_name": "HTMLStyleModel",
      "state": {
       "description_width": "",
       "font_size": null,
       "text_color": null
      }
     },
     "dbb515ecaffa4935b37763c9e6fec694": {
      "model_module": "@jupyter-widgets/controls",
      "model_module_version": "2.0.0",
      "model_name": "HTMLStyleModel",
      "state": {
       "description_width": "",
       "font_size": null,
       "text_color": null
      }
     },
     "dbc8c4077fbf4245aaed1bd56254f57c": {
      "model_module": "@jupyter-widgets/base",
      "model_module_version": "2.0.0",
      "model_name": "LayoutModel",
      "state": {}
     },
     "dbd4cb1451344a0ea06e1308726c36ca": {
      "model_module": "@jupyter-widgets/base",
      "model_module_version": "2.0.0",
      "model_name": "LayoutModel",
      "state": {
       "flex": "2"
      }
     },
     "dc3e2debee4c4e94aad018fb76ae688a": {
      "model_module": "@jupyter-widgets/base",
      "model_module_version": "2.0.0",
      "model_name": "LayoutModel",
      "state": {
       "flex": "2"
      }
     },
     "dc55dc2d21d74fd691620bc0c32e1c0c": {
      "model_module": "@jupyter-widgets/controls",
      "model_module_version": "2.0.0",
      "model_name": "ProgressStyleModel",
      "state": {
       "description_width": ""
      }
     },
     "dc8f66daa1814103a34ce4e057793895": {
      "model_module": "@jupyter-widgets/controls",
      "model_module_version": "2.0.0",
      "model_name": "HTMLStyleModel",
      "state": {
       "description_width": "",
       "font_size": null,
       "text_color": null
      }
     },
     "dcaef9672f20490e9b3eff32d4deab24": {
      "model_module": "@jupyter-widgets/controls",
      "model_module_version": "2.0.0",
      "model_name": "HBoxModel",
      "state": {
       "children": [
        "IPY_MODEL_6692b5dc276045459fe81374a171cc2d",
        "IPY_MODEL_c2d91198d8d14f0f95efa12a450509fd",
        "IPY_MODEL_d5714df6f6504a4ebdfc76a0c106f248"
       ],
       "layout": "IPY_MODEL_81662e0c5955454ebe586fbc9504f199"
      }
     },
     "dcc0b0859f2c431389082bd4c8eb82f5": {
      "model_module": "@jupyter-widgets/controls",
      "model_module_version": "2.0.0",
      "model_name": "FloatProgressModel",
      "state": {
       "bar_style": "danger",
       "layout": "IPY_MODEL_102f6f1859af4d2bacef8b43fd3c7dbb",
       "max": 10,
       "style": "IPY_MODEL_b1ecd88cd49e4ce3afbb683ef3127856"
      }
     },
     "dcc2869975fa4a84b1d2b3365a53b0d2": {
      "model_module": "@jupyter-widgets/base",
      "model_module_version": "2.0.0",
      "model_name": "LayoutModel",
      "state": {
       "display": "inline-flex",
       "flex_flow": "row wrap",
       "width": "100%"
      }
     },
     "dcfa8b7e5aa34a8dad8c26a1197eb58e": {
      "model_module": "@jupyter-widgets/base",
      "model_module_version": "2.0.0",
      "model_name": "LayoutModel",
      "state": {}
     },
     "dd0994d317a646599983fe0a49a236eb": {
      "model_module": "@jupyter-widgets/base",
      "model_module_version": "2.0.0",
      "model_name": "LayoutModel",
      "state": {}
     },
     "dd1a588568e24f509f3136016f73345e": {
      "model_module": "@jupyter-widgets/base",
      "model_module_version": "2.0.0",
      "model_name": "LayoutModel",
      "state": {
       "flex": "2"
      }
     },
     "dd1f0dab3f5d49a4866f4a9e59df7684": {
      "model_module": "@jupyter-widgets/controls",
      "model_module_version": "2.0.0",
      "model_name": "HTMLModel",
      "state": {
       "layout": "IPY_MODEL_8e238d66a217457cb85a650fb81b1544",
       "style": "IPY_MODEL_c194b7d0a3494e2d83af94e447883fb3",
       "value": "Epoch 16:  20%"
      }
     },
     "dd25994b0ab5444f8564e9ae8b81e88b": {
      "model_module": "@jupyter-widgets/controls",
      "model_module_version": "2.0.0",
      "model_name": "HTMLModel",
      "state": {
       "layout": "IPY_MODEL_fae0022d255d471db8141481b4f0fa5c",
       "style": "IPY_MODEL_9c180b5716af47aeac87e31e0181eec7",
       "value": " 80/80 [00:00&lt;00:00, 283.27it/s, loss=6.56, v_num=22, MAE=3.440, RMSE=4.390, Loss=6.210, RegLoss=0.0764]"
      }
     },
     "dd43ef91c3424389ab06b67220c67824": {
      "model_module": "@jupyter-widgets/base",
      "model_module_version": "2.0.0",
      "model_name": "LayoutModel",
      "state": {
       "flex": "2"
      }
     },
     "dd493b8fc2bd4ad1b5d421b73c68dd49": {
      "model_module": "@jupyter-widgets/base",
      "model_module_version": "2.0.0",
      "model_name": "LayoutModel",
      "state": {
       "display": "inline-flex",
       "flex_flow": "row wrap",
       "width": "100%"
      }
     },
     "dd665ab92ce84308a9727385d60963d7": {
      "model_module": "@jupyter-widgets/controls",
      "model_module_version": "2.0.0",
      "model_name": "ProgressStyleModel",
      "state": {
       "description_width": ""
      }
     },
     "dd66f1515749491b9ea907b6f23de884": {
      "model_module": "@jupyter-widgets/base",
      "model_module_version": "2.0.0",
      "model_name": "LayoutModel",
      "state": {}
     },
     "dd7ec49cdae64caababf9cf376aab973": {
      "model_module": "@jupyter-widgets/controls",
      "model_module_version": "2.0.0",
      "model_name": "HTMLStyleModel",
      "state": {
       "description_width": "",
       "font_size": null,
       "text_color": null
      }
     },
     "dd87223045b34a27a89c2f5eac65691b": {
      "model_module": "@jupyter-widgets/base",
      "model_module_version": "2.0.0",
      "model_name": "LayoutModel",
      "state": {}
     },
     "ddd7c89c70274362aa74b4eeec8dc1d6": {
      "model_module": "@jupyter-widgets/controls",
      "model_module_version": "2.0.0",
      "model_name": "HBoxModel",
      "state": {
       "children": [
        "IPY_MODEL_71863c124d624b6d92f69e8922cf88a4",
        "IPY_MODEL_a28d950429a0494f9af43f7c62816b13",
        "IPY_MODEL_3d03719a7f23486d884aacf530fc2baa"
       ],
       "layout": "IPY_MODEL_5eac5eb8acec4792a616af91f3dcba94"
      }
     },
     "ddded9ed002b420e824d228c80c91642": {
      "model_module": "@jupyter-widgets/controls",
      "model_module_version": "2.0.0",
      "model_name": "HTMLStyleModel",
      "state": {
       "description_width": "",
       "font_size": null,
       "text_color": null
      }
     },
     "de0ee6524bfd4c35a5e6b81843dfaabf": {
      "model_module": "@jupyter-widgets/base",
      "model_module_version": "2.0.0",
      "model_name": "LayoutModel",
      "state": {}
     },
     "de12fe60899742b3acd217fc9eec9074": {
      "model_module": "@jupyter-widgets/controls",
      "model_module_version": "2.0.0",
      "model_name": "HTMLModel",
      "state": {
       "layout": "IPY_MODEL_43dd8b1dba8240bf861235a425784818",
       "style": "IPY_MODEL_f28620fb45f84634bc8575ba1e27e1d9",
       "value": " 80/80 [00:00&lt;00:00, 165.33it/s, loss=3.92, v_num=44, MAE=9.460, RMSE=12.00, Loss=3.920, RegLoss=3.730]"
      }
     },
     "de1622c6cfd845f591ce30ac9ee1e5df": {
      "model_module": "@jupyter-widgets/controls",
      "model_module_version": "2.0.0",
      "model_name": "HTMLStyleModel",
      "state": {
       "description_width": "",
       "font_size": null,
       "text_color": null
      }
     },
     "de5ed58f66504a52b04468bb837fd240": {
      "model_module": "@jupyter-widgets/base",
      "model_module_version": "2.0.0",
      "model_name": "LayoutModel",
      "state": {}
     },
     "de944c7014f54b14a26694df9619c12b": {
      "model_module": "@jupyter-widgets/controls",
      "model_module_version": "2.0.0",
      "model_name": "FloatProgressModel",
      "state": {
       "layout": "IPY_MODEL_dd1a588568e24f509f3136016f73345e",
       "max": 1,
       "style": "IPY_MODEL_0edebf3bf358442d92b55f69cf87e8ca",
       "value": 1
      }
     },
     "de9b69ce42c941349d6021c8e7db3460": {
      "model_module": "@jupyter-widgets/base",
      "model_module_version": "2.0.0",
      "model_name": "LayoutModel",
      "state": {
       "display": "inline-flex",
       "flex_flow": "row wrap",
       "width": "100%"
      }
     },
     "debdaf0d31634f70a81c164325bffc74": {
      "model_module": "@jupyter-widgets/controls",
      "model_module_version": "2.0.0",
      "model_name": "HTMLModel",
      "state": {
       "layout": "IPY_MODEL_82a0dcf9eda14548a50b8642f7ed0533",
       "style": "IPY_MODEL_ec77352c8a4b4a08a2b38f26afe50a45",
       "value": "Testing DataLoader 0: 100%"
      }
     },
     "df1ce22c936d4b01b02042b92ae30905": {
      "model_module": "@jupyter-widgets/controls",
      "model_module_version": "2.0.0",
      "model_name": "HTMLStyleModel",
      "state": {
       "description_width": "",
       "font_size": null,
       "text_color": null
      }
     },
     "df303d360ad648dbb315bbff83207acc": {
      "model_module": "@jupyter-widgets/controls",
      "model_module_version": "2.0.0",
      "model_name": "HTMLStyleModel",
      "state": {
       "description_width": "",
       "font_size": null,
       "text_color": null
      }
     },
     "df3101a2afc94b0fa3cc58d89d21007d": {
      "model_module": "@jupyter-widgets/controls",
      "model_module_version": "2.0.0",
      "model_name": "HBoxModel",
      "state": {
       "children": [
        "IPY_MODEL_b4d2c1a5ab8a4bb89dfea24240d8920f",
        "IPY_MODEL_2a75b5b388be47c482299b4c600afa45",
        "IPY_MODEL_4bced7d7f1e84e8d82143e61db1f6898"
       ],
       "layout": "IPY_MODEL_8bb68183ed3647d8bde28aa2146b929d"
      }
     },
     "df3ff12fa0c748a5bf117f59d6ae13f6": {
      "model_module": "@jupyter-widgets/controls",
      "model_module_version": "2.0.0",
      "model_name": "HTMLModel",
      "state": {
       "layout": "IPY_MODEL_6d5ebb4fe2534e2cbbe765ea2a669d15",
       "style": "IPY_MODEL_2054ec38e8224e9594a8396682c87494",
       "value": "  0%"
      }
     },
     "df53e07302de44c5a170d44409b1d184": {
      "model_module": "@jupyter-widgets/controls",
      "model_module_version": "2.0.0",
      "model_name": "FloatProgressModel",
      "state": {
       "bar_style": "danger",
       "layout": "IPY_MODEL_d4bd7ec509ed4dd2988276958ff2f7c6",
       "max": 1,
       "style": "IPY_MODEL_75f313b39f5f4d4c9e2cedecd712f449"
      }
     },
     "df715766bb98470bba676bd114b78663": {
      "model_module": "@jupyter-widgets/controls",
      "model_module_version": "2.0.0",
      "model_name": "FloatProgressModel",
      "state": {
       "bar_style": "success",
       "layout": "IPY_MODEL_af8ee901c3f1420293244163b6563f0c",
       "max": 1,
       "style": "IPY_MODEL_10126a2882314d77a18c671a790ea8a7",
       "value": 1
      }
     },
     "df81fa9c5f964d6098f189541a123759": {
      "model_module": "@jupyter-widgets/controls",
      "model_module_version": "2.0.0",
      "model_name": "HTMLStyleModel",
      "state": {
       "description_width": "",
       "font_size": null,
       "text_color": null
      }
     },
     "dfbb75de2016416ba791915b1de123d1": {
      "model_module": "@jupyter-widgets/base",
      "model_module_version": "2.0.0",
      "model_name": "LayoutModel",
      "state": {
       "flex": "2"
      }
     },
     "dff007aacf0943ca805b7c1654b50574": {
      "model_module": "@jupyter-widgets/base",
      "model_module_version": "2.0.0",
      "model_name": "LayoutModel",
      "state": {}
     },
     "dff32a5358ab41a4ae7d05957b7a8964": {
      "model_module": "@jupyter-widgets/controls",
      "model_module_version": "2.0.0",
      "model_name": "HTMLModel",
      "state": {
       "layout": "IPY_MODEL_91a280a870ec42b0989379f22202379a",
       "style": "IPY_MODEL_4f6ba49dc8ee4ed4b2614e1c9cd877eb",
       "value": " 4/5 [01:15&lt;00:18, 18.82s/it, loss=1.45, v_num=82, MAE=5.880, RMSE=7.510, Loss=2.520, RegLoss=0.000]"
      }
     },
     "e00107c650b64de2bc15115830e00f1a": {
      "model_module": "@jupyter-widgets/controls",
      "model_module_version": "2.0.0",
      "model_name": "FloatProgressModel",
      "state": {
       "bar_style": "success",
       "layout": "IPY_MODEL_29fc7b787a674875ab8187b26872a8c1",
       "max": 80,
       "style": "IPY_MODEL_f29c2678a8284b10bd6c66cceabdabad",
       "value": 80
      }
     },
     "e00a2fd3ccaf4414b486e0dc796157fa": {
      "model_module": "@jupyter-widgets/controls",
      "model_module_version": "2.0.0",
      "model_name": "FloatProgressModel",
      "state": {
       "bar_style": "danger",
       "layout": "IPY_MODEL_58bbaeab6809413c9eaa6dd15dc9629c",
       "max": 80,
       "style": "IPY_MODEL_49b793afbf2f45b2bca139a04a21c014",
       "value": 33
      }
     },
     "e010b6d1bffe429d820887e643e8355b": {
      "model_module": "@jupyter-widgets/controls",
      "model_module_version": "2.0.0",
      "model_name": "HBoxModel",
      "state": {
       "children": [
        "IPY_MODEL_b1a658272cdc4309ae6408b4516f70c2",
        "IPY_MODEL_658d516fde01463ab308747e38c337cb",
        "IPY_MODEL_c6cf3e19bb7d48a2b9204db71f861ca9"
       ],
       "layout": "IPY_MODEL_2b6e6fc18fd346418fa225ff12c81e34"
      }
     },
     "e023adbf9b0d47f28c81eb0d1c54e628": {
      "model_module": "@jupyter-widgets/controls",
      "model_module_version": "2.0.0",
      "model_name": "ProgressStyleModel",
      "state": {
       "description_width": ""
      }
     },
     "e03057570ea34d76905d4ac23243a8d4": {
      "model_module": "@jupyter-widgets/controls",
      "model_module_version": "2.0.0",
      "model_name": "HTMLModel",
      "state": {
       "layout": "IPY_MODEL_9814cf3757884b079758f6ae47a734a5",
       "style": "IPY_MODEL_ea3997d720a545d195dd607b44dfac25",
       "value": " 1/1 [00:00&lt;00:00, 244.07it/s]"
      }
     },
     "e038f8850d3f44eca6c8182f75e50864": {
      "model_module": "@jupyter-widgets/controls",
      "model_module_version": "2.0.0",
      "model_name": "HTMLStyleModel",
      "state": {
       "description_width": "",
       "font_size": null,
       "text_color": null
      }
     },
     "e061ac9ff9e64ad5a2202b8132a76b4a": {
      "model_module": "@jupyter-widgets/controls",
      "model_module_version": "2.0.0",
      "model_name": "FloatProgressModel",
      "state": {
       "bar_style": "danger",
       "layout": "IPY_MODEL_7dc727e8558349c1a13feb3eca711dcc",
       "max": 80,
       "style": "IPY_MODEL_fd9060af838742c3b62ad617dfc770b5",
       "value": 19
      }
     },
     "e07f7ca3eed04c7197c21854a8e503dd": {
      "model_module": "@jupyter-widgets/controls",
      "model_module_version": "2.0.0",
      "model_name": "FloatProgressModel",
      "state": {
       "bar_style": "danger",
       "layout": "IPY_MODEL_c67151bbf17d409198ca6ce54918db53",
       "max": 80,
       "style": "IPY_MODEL_0706220f571c4d6da6e6ebc6c0e16eee",
       "value": 53
      }
     },
     "e080ec17a722447f8eb94db3475cac43": {
      "model_module": "@jupyter-widgets/controls",
      "model_module_version": "2.0.0",
      "model_name": "FloatProgressModel",
      "state": {
       "bar_style": "danger",
       "layout": "IPY_MODEL_30d33e34fad74e06be90f39836c0ce21",
       "max": 80,
       "style": "IPY_MODEL_fb7aa08159f44a1d965755a75918193b",
       "value": 1
      }
     },
     "e093442d6a5c4ee2ad5e11724c7f5536": {
      "model_module": "@jupyter-widgets/base",
      "model_module_version": "2.0.0",
      "model_name": "LayoutModel",
      "state": {}
     },
     "e0a9d846e7c145b999e14b89cfd1ba1e": {
      "model_module": "@jupyter-widgets/base",
      "model_module_version": "2.0.0",
      "model_name": "LayoutModel",
      "state": {
       "display": "inline-flex",
       "flex_flow": "row wrap",
       "width": "100%"
      }
     },
     "e0a9e5117100439f9a0a92c3b0ee1858": {
      "model_module": "@jupyter-widgets/controls",
      "model_module_version": "2.0.0",
      "model_name": "HTMLModel",
      "state": {
       "layout": "IPY_MODEL_2f8dce58f6bb4baaa48427a6165ceb5a",
       "style": "IPY_MODEL_b69b41f5c32b473383fa85780a8cd524",
       "value": "Epoch 4:  80%"
      }
     },
     "e0b7588633774e39817e2c661137a8c1": {
      "model_module": "@jupyter-widgets/controls",
      "model_module_version": "2.0.0",
      "model_name": "ProgressStyleModel",
      "state": {
       "description_width": ""
      }
     },
     "e0bf553817684121be0c4e8fa5a8ba2f": {
      "model_module": "@jupyter-widgets/controls",
      "model_module_version": "2.0.0",
      "model_name": "HTMLModel",
      "state": {
       "layout": "IPY_MODEL_f58f7193937943d1916d0092d9b5f492",
       "style": "IPY_MODEL_a35fab61c001416b81a11dd7f581981b",
       "value": " 1/1 [00:00&lt;00:00, 82.01it/s]"
      }
     },
     "e0c281cf9640497881e8cefeadf95f3a": {
      "model_module": "@jupyter-widgets/base",
      "model_module_version": "2.0.0",
      "model_name": "LayoutModel",
      "state": {
       "display": "inline-flex",
       "flex_flow": "row wrap",
       "width": "100%"
      }
     },
     "e0d3d775c1a34f22b66ce0c1c2b66de3": {
      "model_module": "@jupyter-widgets/controls",
      "model_module_version": "2.0.0",
      "model_name": "FloatProgressModel",
      "state": {
       "bar_style": "danger",
       "layout": "IPY_MODEL_f5c997ace33249d7979656c9ef567495",
       "max": 80,
       "style": "IPY_MODEL_a9b6aaece5a14799a1e041f81c73773b",
       "value": 53
      }
     },
     "e0de4a6d1afd4ab18264f511678042fb": {
      "model_module": "@jupyter-widgets/controls",
      "model_module_version": "2.0.0",
      "model_name": "HTMLStyleModel",
      "state": {
       "description_width": "",
       "font_size": null,
       "text_color": null
      }
     },
     "e12a2d7ec6884db9b5d0898dee1c29b1": {
      "model_module": "@jupyter-widgets/controls",
      "model_module_version": "2.0.0",
      "model_name": "HTMLStyleModel",
      "state": {
       "description_width": "",
       "font_size": null,
       "text_color": null
      }
     },
     "e139e1ad08b241df83e47116ac41a6f1": {
      "model_module": "@jupyter-widgets/base",
      "model_module_version": "2.0.0",
      "model_name": "LayoutModel",
      "state": {}
     },
     "e152d2aafe9547cdbf0c0e77493db249": {
      "model_module": "@jupyter-widgets/controls",
      "model_module_version": "2.0.0",
      "model_name": "HTMLStyleModel",
      "state": {
       "description_width": "",
       "font_size": null,
       "text_color": null
      }
     },
     "e16a334bb92c4b38b9cbe6c056d3efea": {
      "model_module": "@jupyter-widgets/controls",
      "model_module_version": "2.0.0",
      "model_name": "HTMLModel",
      "state": {
       "layout": "IPY_MODEL_fd62c7447ad24dc1ab09b5fbfc53c945",
       "style": "IPY_MODEL_be81d5a16fe94e0d99b29941ae472b37",
       "value": "Epoch 9:  11%"
      }
     },
     "e183471d1bf34423ba40b7a19d9e7b56": {
      "model_module": "@jupyter-widgets/controls",
      "model_module_version": "2.0.0",
      "model_name": "HTMLModel",
      "state": {
       "layout": "IPY_MODEL_96f161b920954228b68427c325b7901d",
       "style": "IPY_MODEL_8a849537784a431d9a068074bc786ddc",
       "value": "Finding best initial lr:  68%"
      }
     },
     "e184b9a7d9454752ad0a90f19d70400b": {
      "model_module": "@jupyter-widgets/controls",
      "model_module_version": "2.0.0",
      "model_name": "HTMLModel",
      "state": {
       "layout": "IPY_MODEL_87f3ac855db743f990c82e795dfe0b2e",
       "style": "IPY_MODEL_2941d72b5915485b94d254aa2f175d23",
       "value": "Epoch 9:  11%"
      }
     },
     "e18e3c4f5df74c54a98de5179ebfef33": {
      "model_module": "@jupyter-widgets/controls",
      "model_module_version": "2.0.0",
      "model_name": "HBoxModel",
      "state": {
       "children": [
        "IPY_MODEL_fe0c18f1961d48f981257c5fdafc6692",
        "IPY_MODEL_90c3f4a88f3d478dbb974cc63e666a71",
        "IPY_MODEL_e922f4a40ee44544b5d7c78e9dc650f3"
       ],
       "layout": "IPY_MODEL_14e4557d866344bea6609e0ab1a68873"
      }
     },
     "e194e2f8321043109bb021248e32b32e": {
      "model_module": "@jupyter-widgets/controls",
      "model_module_version": "2.0.0",
      "model_name": "HTMLModel",
      "state": {
       "layout": "IPY_MODEL_e31d171bda2f407cacdedad84b9c5fd5",
       "style": "IPY_MODEL_c52c20c1d4b14afc81d153c4745183fa",
       "value": "Testing DataLoader 0: 100%"
      }
     },
     "e2008e0ce02742eda5ca2561f4fdeeda": {
      "model_module": "@jupyter-widgets/controls",
      "model_module_version": "2.0.0",
      "model_name": "ProgressStyleModel",
      "state": {
       "description_width": ""
      }
     },
     "e2188555d2714102a3640a323e1ae9c0": {
      "model_module": "@jupyter-widgets/controls",
      "model_module_version": "2.0.0",
      "model_name": "HTMLModel",
      "state": {
       "layout": "IPY_MODEL_66aa3ae1deb94f92ba3d5606bc7348cd",
       "style": "IPY_MODEL_a77c47f0a5c3444ea2cd4a3f3eabc391",
       "value": "Epoch 4:  80%"
      }
     },
     "e21900b233f24d9d979d7ead3c143c13": {
      "model_module": "@jupyter-widgets/controls",
      "model_module_version": "2.0.0",
      "model_name": "HBoxModel",
      "state": {
       "children": [
        "IPY_MODEL_375e7f47ab194088a95256a66ce66981",
        "IPY_MODEL_bb54652f76c24765b7deeee7638dbe14",
        "IPY_MODEL_2df6aeb0efce4ac89caad0bbd6af3937"
       ],
       "layout": "IPY_MODEL_db1ec4147a954ae899f781be4e3d9cd1"
      }
     },
     "e23937d940ae42a08c475c897a450c6c": {
      "model_module": "@jupyter-widgets/controls",
      "model_module_version": "2.0.0",
      "model_name": "HTMLModel",
      "state": {
       "layout": "IPY_MODEL_f8b68c035d24402dbcd35e21df52b0ce",
       "style": "IPY_MODEL_d26a12087f5b4bdb8e202a5d30f72f00",
       "value": " 0/1 [00:00&lt;?, ?it/s]"
      }
     },
     "e2431e9b82634bb79418effd1ca42600": {
      "model_module": "@jupyter-widgets/controls",
      "model_module_version": "2.0.0",
      "model_name": "HTMLStyleModel",
      "state": {
       "description_width": "",
       "font_size": null,
       "text_color": null
      }
     },
     "e24f80829dac42e2b413c023b60ffb5c": {
      "model_module": "@jupyter-widgets/base",
      "model_module_version": "2.0.0",
      "model_name": "LayoutModel",
      "state": {
       "flex": "2"
      }
     },
     "e2691d0c887a488f86544e9b52b40857": {
      "model_module": "@jupyter-widgets/controls",
      "model_module_version": "2.0.0",
      "model_name": "HTMLStyleModel",
      "state": {
       "description_width": "",
       "font_size": null,
       "text_color": null
      }
     },
     "e26da458a1f34f56a8f8379845f0e77b": {
      "model_module": "@jupyter-widgets/base",
      "model_module_version": "2.0.0",
      "model_name": "LayoutModel",
      "state": {
       "display": "inline-flex",
       "flex_flow": "row wrap",
       "width": "100%"
      }
     },
     "e27b2f40d36d4051829e1db01c91b688": {
      "model_module": "@jupyter-widgets/controls",
      "model_module_version": "2.0.0",
      "model_name": "HTMLStyleModel",
      "state": {
       "description_width": "",
       "font_size": null,
       "text_color": null
      }
     },
     "e28939dad9ed45eb9d356dc3055b78f2": {
      "model_module": "@jupyter-widgets/controls",
      "model_module_version": "2.0.0",
      "model_name": "ProgressStyleModel",
      "state": {
       "description_width": ""
      }
     },
     "e2fd098bb2614ef28a288cba60e401fd": {
      "model_module": "@jupyter-widgets/base",
      "model_module_version": "2.0.0",
      "model_name": "LayoutModel",
      "state": {}
     },
     "e30e102807fb49a6a71cc0ecdfb78d80": {
      "model_module": "@jupyter-widgets/controls",
      "model_module_version": "2.0.0",
      "model_name": "HTMLStyleModel",
      "state": {
       "description_width": "",
       "font_size": null,
       "text_color": null
      }
     },
     "e31d171bda2f407cacdedad84b9c5fd5": {
      "model_module": "@jupyter-widgets/base",
      "model_module_version": "2.0.0",
      "model_name": "LayoutModel",
      "state": {}
     },
     "e332581e64b4414c80522ad6b07fd00f": {
      "model_module": "@jupyter-widgets/controls",
      "model_module_version": "2.0.0",
      "model_name": "FloatProgressModel",
      "state": {
       "bar_style": "success",
       "layout": "IPY_MODEL_b2095431d3084937a2a24da9c644b549",
       "max": 1,
       "style": "IPY_MODEL_baab86bc295346da98053bb32ee08db4",
       "value": 1
      }
     },
     "e338738700dc4a6c93e00709c4bcc9ee": {
      "model_module": "@jupyter-widgets/base",
      "model_module_version": "2.0.0",
      "model_name": "LayoutModel",
      "state": {
       "display": "inline-flex",
       "flex_flow": "row wrap",
       "width": "100%"
      }
     },
     "e388acc0a07a4165b1401a1755728689": {
      "model_module": "@jupyter-widgets/base",
      "model_module_version": "2.0.0",
      "model_name": "LayoutModel",
      "state": {
       "flex": "2"
      }
     },
     "e38c2555285041878789eee706701193": {
      "model_module": "@jupyter-widgets/base",
      "model_module_version": "2.0.0",
      "model_name": "LayoutModel",
      "state": {}
     },
     "e38d4c390eea489a8fb14bf2e8ec8afd": {
      "model_module": "@jupyter-widgets/controls",
      "model_module_version": "2.0.0",
      "model_name": "FloatProgressModel",
      "state": {
       "bar_style": "success",
       "layout": "IPY_MODEL_d4cbe27283964a258b87470d6217dcc1",
       "max": 1,
       "style": "IPY_MODEL_2b42d2de35354809a999741384980fd0",
       "value": 1
      }
     },
     "e3a3f2e856714606902d67ccd310a1be": {
      "model_module": "@jupyter-widgets/controls",
      "model_module_version": "2.0.0",
      "model_name": "HBoxModel",
      "state": {
       "children": [
        "IPY_MODEL_79efd4ded37a4b6482900ea0a04f730b",
        "IPY_MODEL_16b43d3436a94e41be5042155c795d69",
        "IPY_MODEL_1ebe44b61ebc4d489c0f73078ef74c0b"
       ],
       "layout": "IPY_MODEL_0ca9912cf88b4af7a8e2dbdf24614c2c"
      }
     },
     "e3ab88da121f48ce8b6353c6d996b492": {
      "model_module": "@jupyter-widgets/controls",
      "model_module_version": "2.0.0",
      "model_name": "HTMLModel",
      "state": {
       "layout": "IPY_MODEL_c1e8e6bbec7f4d48b9314c59177bc98e",
       "style": "IPY_MODEL_8247f25ca5b64cd5acefc5fa1e84e5e0",
       "value": "  0%"
      }
     },
     "e3f785a71c02442d9d946751e3df1524": {
      "model_module": "@jupyter-widgets/controls",
      "model_module_version": "2.0.0",
      "model_name": "HTMLStyleModel",
      "state": {
       "description_width": "",
       "font_size": null,
       "text_color": null
      }
     },
     "e413dfd7b52b4502a46791c2ed743dab": {
      "model_module": "@jupyter-widgets/controls",
      "model_module_version": "2.0.0",
      "model_name": "HTMLStyleModel",
      "state": {
       "description_width": "",
       "font_size": null,
       "text_color": null
      }
     },
     "e41d7a310358476aa693574c9229135d": {
      "model_module": "@jupyter-widgets/base",
      "model_module_version": "2.0.0",
      "model_name": "LayoutModel",
      "state": {
       "flex": "2"
      }
     },
     "e46f692cbc3c417086c16b74c38e1cfc": {
      "model_module": "@jupyter-widgets/controls",
      "model_module_version": "2.0.0",
      "model_name": "ProgressStyleModel",
      "state": {
       "description_width": ""
      }
     },
     "e48a6d695e854ba9a700ccbfc69ad82a": {
      "model_module": "@jupyter-widgets/controls",
      "model_module_version": "2.0.0",
      "model_name": "FloatProgressModel",
      "state": {
       "bar_style": "success",
       "layout": "IPY_MODEL_12bcd2ea8ff440e7959a992d60d655fa",
       "max": 1,
       "style": "IPY_MODEL_01b6b0efb9734e77b372ab47bfb7f2c5",
       "value": 1
      }
     },
     "e4f9506e4fef4f5199c736c9c26504b9": {
      "model_module": "@jupyter-widgets/controls",
      "model_module_version": "2.0.0",
      "model_name": "ProgressStyleModel",
      "state": {
       "description_width": ""
      }
     },
     "e517aa3e337e4dc790571111fa01168e": {
      "model_module": "@jupyter-widgets/controls",
      "model_module_version": "2.0.0",
      "model_name": "HTMLStyleModel",
      "state": {
       "description_width": "",
       "font_size": null,
       "text_color": null
      }
     },
     "e528f253301841e2b92cb8516f28f565": {
      "model_module": "@jupyter-widgets/controls",
      "model_module_version": "2.0.0",
      "model_name": "HTMLStyleModel",
      "state": {
       "description_width": "",
       "font_size": null,
       "text_color": null
      }
     },
     "e565f82f3f504a968222e1ba8126d453": {
      "model_module": "@jupyter-widgets/controls",
      "model_module_version": "2.0.0",
      "model_name": "HTMLModel",
      "state": {
       "layout": "IPY_MODEL_714ac24574234257a22059c5dd6e2414",
       "style": "IPY_MODEL_525cf692519f49618bf0b18fb86ca74e",
       "value": " 1/1 [00:00&lt;00:00, 88.41it/s]"
      }
     },
     "e57b770b594a423a91f4c5c1168eb41d": {
      "model_module": "@jupyter-widgets/base",
      "model_module_version": "2.0.0",
      "model_name": "LayoutModel",
      "state": {
       "display": "inline-flex",
       "flex_flow": "row wrap",
       "width": "100%"
      }
     },
     "e5ab4c0596ff41aca7d12a1a58b4ed23": {
      "model_module": "@jupyter-widgets/controls",
      "model_module_version": "2.0.0",
      "model_name": "FloatProgressModel",
      "state": {
       "bar_style": "success",
       "layout": "IPY_MODEL_1d34d03392444928b771ac8589d501b2",
       "max": 1,
       "style": "IPY_MODEL_9a10d30a702b4e53bb7438c39c655236",
       "value": 1
      }
     },
     "e5c76d6faa494b7e85ad5f06181bc6e6": {
      "model_module": "@jupyter-widgets/controls",
      "model_module_version": "2.0.0",
      "model_name": "HTMLStyleModel",
      "state": {
       "description_width": "",
       "font_size": null,
       "text_color": null
      }
     },
     "e5ec048e426346cfa7ddd6590428dd60": {
      "model_module": "@jupyter-widgets/base",
      "model_module_version": "2.0.0",
      "model_name": "LayoutModel",
      "state": {
       "flex": "2"
      }
     },
     "e603bc032a7a41208b37110261cd7aea": {
      "model_module": "@jupyter-widgets/base",
      "model_module_version": "2.0.0",
      "model_name": "LayoutModel",
      "state": {
       "display": "inline-flex",
       "flex_flow": "row wrap",
       "width": "100%"
      }
     },
     "e60bd10c58aa4dfeab57453d6ccc89ab": {
      "model_module": "@jupyter-widgets/base",
      "model_module_version": "2.0.0",
      "model_name": "LayoutModel",
      "state": {}
     },
     "e618c6afa01245dbbe937e50d813af87": {
      "model_module": "@jupyter-widgets/base",
      "model_module_version": "2.0.0",
      "model_name": "LayoutModel",
      "state": {}
     },
     "e61abae2c2c04bd78871b92c98842c65": {
      "model_module": "@jupyter-widgets/controls",
      "model_module_version": "2.0.0",
      "model_name": "HTMLModel",
      "state": {
       "layout": "IPY_MODEL_045a3f6ef7c64081a644657604bdbef4",
       "style": "IPY_MODEL_b9a24c27091949feb40ed71abb093ae1",
       "value": " 0/10 [00:18&lt;?, ?it/s]"
      }
     },
     "e61e449b6be94937bbd0d10fdd3e9c15": {
      "model_module": "@jupyter-widgets/controls",
      "model_module_version": "2.0.0",
      "model_name": "HTMLStyleModel",
      "state": {
       "description_width": "",
       "font_size": null,
       "text_color": null
      }
     },
     "e62388e8f40a472db0629050c864f557": {
      "model_module": "@jupyter-widgets/base",
      "model_module_version": "2.0.0",
      "model_name": "LayoutModel",
      "state": {}
     },
     "e62602e1d6ce4624b3899e5edbdd59ab": {
      "model_module": "@jupyter-widgets/controls",
      "model_module_version": "2.0.0",
      "model_name": "HTMLStyleModel",
      "state": {
       "description_width": "",
       "font_size": null,
       "text_color": null
      }
     },
     "e626d46f4f734c0bbf77f55f5e72fe3f": {
      "model_module": "@jupyter-widgets/base",
      "model_module_version": "2.0.0",
      "model_name": "LayoutModel",
      "state": {
       "display": "inline-flex",
       "flex_flow": "row wrap",
       "width": "100%"
      }
     },
     "e63a933ebe034344b513c6e2e02b2adc": {
      "model_module": "@jupyter-widgets/base",
      "model_module_version": "2.0.0",
      "model_name": "LayoutModel",
      "state": {}
     },
     "e6723e9ce9214e9490409264981d92f5": {
      "model_module": "@jupyter-widgets/base",
      "model_module_version": "2.0.0",
      "model_name": "LayoutModel",
      "state": {
       "flex": "2"
      }
     },
     "e70e69a3f14f4525aace264d72866822": {
      "model_module": "@jupyter-widgets/base",
      "model_module_version": "2.0.0",
      "model_name": "LayoutModel",
      "state": {
       "flex": "2"
      }
     },
     "e730dfe4275a45ccadfddc970d5ef211": {
      "model_module": "@jupyter-widgets/controls",
      "model_module_version": "2.0.0",
      "model_name": "HTMLStyleModel",
      "state": {
       "description_width": "",
       "font_size": null,
       "text_color": null
      }
     },
     "e740707e01df49b18093e109f71b618b": {
      "model_module": "@jupyter-widgets/controls",
      "model_module_version": "2.0.0",
      "model_name": "HTMLStyleModel",
      "state": {
       "description_width": "",
       "font_size": null,
       "text_color": null
      }
     },
     "e75aeccbf05b4a508a42064d7f35efef": {
      "model_module": "@jupyter-widgets/controls",
      "model_module_version": "2.0.0",
      "model_name": "HBoxModel",
      "state": {
       "children": [
        "IPY_MODEL_f0c867a31a154162a96e1d162c6de755",
        "IPY_MODEL_75bf0e93392946f79462b30cd424f276",
        "IPY_MODEL_85943ee8f8a94c0cb1a2d27f69e9898e"
       ],
       "layout": "IPY_MODEL_15281a910ef4411aaa62991d91460900"
      }
     },
     "e78bac074d4b4052b9d4aaf5121599b5": {
      "model_module": "@jupyter-widgets/base",
      "model_module_version": "2.0.0",
      "model_name": "LayoutModel",
      "state": {}
     },
     "e7b8792ffadb41fa8e9060a936f4c9f9": {
      "model_module": "@jupyter-widgets/base",
      "model_module_version": "2.0.0",
      "model_name": "LayoutModel",
      "state": {}
     },
     "e7ee85b6d23c42e89022a9d77cbfaa1f": {
      "model_module": "@jupyter-widgets/base",
      "model_module_version": "2.0.0",
      "model_name": "LayoutModel",
      "state": {}
     },
     "e8011cb69bc24f86a3f870e3fea84f6d": {
      "model_module": "@jupyter-widgets/controls",
      "model_module_version": "2.0.0",
      "model_name": "HTMLStyleModel",
      "state": {
       "description_width": "",
       "font_size": null,
       "text_color": null
      }
     },
     "e804a8745542428bb9a9230be1631000": {
      "model_module": "@jupyter-widgets/controls",
      "model_module_version": "2.0.0",
      "model_name": "HBoxModel",
      "state": {
       "children": [
        "IPY_MODEL_455f8a8e34024dd9a6a10b1c8d16579d",
        "IPY_MODEL_9e595699a7904902a673a4d27638d80f",
        "IPY_MODEL_2259d8872bd245bc88c53a72e36ecac0"
       ],
       "layout": "IPY_MODEL_0116f848e30e4aa2898a3cbe2831da1d"
      }
     },
     "e807564d05ad47f0943469e4b8f34055": {
      "model_module": "@jupyter-widgets/base",
      "model_module_version": "2.0.0",
      "model_name": "LayoutModel",
      "state": {}
     },
     "e8361ab6f701431790127837e2cae5b7": {
      "model_module": "@jupyter-widgets/base",
      "model_module_version": "2.0.0",
      "model_name": "LayoutModel",
      "state": {}
     },
     "e83a28ca0c9e47aa8c90ae419258c800": {
      "model_module": "@jupyter-widgets/controls",
      "model_module_version": "2.0.0",
      "model_name": "HTMLModel",
      "state": {
       "layout": "IPY_MODEL_7c62d76b552a46b2b65a3b7f498ff2d8",
       "style": "IPY_MODEL_1624f669da634fffa1b49167e2209af1",
       "value": " 1/1 [00:00&lt;00:00, 109.75it/s]"
      }
     },
     "e83e45aa944d4928a18ac2a544d4a3e2": {
      "model_module": "@jupyter-widgets/controls",
      "model_module_version": "2.0.0",
      "model_name": "ProgressStyleModel",
      "state": {
       "description_width": ""
      }
     },
     "e8690d6c57894502937d6966ddf176b3": {
      "model_module": "@jupyter-widgets/controls",
      "model_module_version": "2.0.0",
      "model_name": "HTMLModel",
      "state": {
       "layout": "IPY_MODEL_d6e5a6eb6a72448b8b11d49761d78c5a",
       "style": "IPY_MODEL_173872cfdbcb47d7af1595b0e2f1bebf",
       "value": "Testing DataLoader 0: 100%"
      }
     },
     "e871715c40d3495fa014fb5ab013ca72": {
      "model_module": "@jupyter-widgets/base",
      "model_module_version": "2.0.0",
      "model_name": "LayoutModel",
      "state": {}
     },
     "e87a2854b08845229cfcc50ccb12da6d": {
      "model_module": "@jupyter-widgets/base",
      "model_module_version": "2.0.0",
      "model_name": "LayoutModel",
      "state": {
       "display": "inline-flex",
       "flex_flow": "row wrap",
       "width": "100%"
      }
     },
     "e8a41ed6c6994ee9a479f918b562461b": {
      "model_module": "@jupyter-widgets/controls",
      "model_module_version": "2.0.0",
      "model_name": "HTMLStyleModel",
      "state": {
       "description_width": "",
       "font_size": null,
       "text_color": null
      }
     },
     "e8b2d3922b4f42e295d45db429f1e501": {
      "model_module": "@jupyter-widgets/base",
      "model_module_version": "2.0.0",
      "model_name": "LayoutModel",
      "state": {}
     },
     "e8c2c2b11dfd42c78f64a51a7ea1cb6f": {
      "model_module": "@jupyter-widgets/controls",
      "model_module_version": "2.0.0",
      "model_name": "HBoxModel",
      "state": {
       "children": [
        "IPY_MODEL_928a16a152d84170bf76d0f77b979a6b",
        "IPY_MODEL_942b04c5bd9241a4a4af0c6dce3ea1c3",
        "IPY_MODEL_c229bf6ddc6b4a21b2826e088638d965"
       ],
       "layout": "IPY_MODEL_1f55449c97d2413f835b385da2bf8506"
      }
     },
     "e8c3cdf5e9c4490a9548fee32c0b4d58": {
      "model_module": "@jupyter-widgets/controls",
      "model_module_version": "2.0.0",
      "model_name": "ProgressStyleModel",
      "state": {
       "description_width": ""
      }
     },
     "e8cf970f20df4c52874f61072d01626e": {
      "model_module": "@jupyter-widgets/controls",
      "model_module_version": "2.0.0",
      "model_name": "HTMLModel",
      "state": {
       "layout": "IPY_MODEL_ede223b56b4a4c5a986fea3ba1560088",
       "style": "IPY_MODEL_17256a7775204a97a9fc8d32a7f0bbf0",
       "value": "Epoch 53:  66%"
      }
     },
     "e8d5d5965b1d41758fe02d858093d69c": {
      "model_module": "@jupyter-widgets/base",
      "model_module_version": "2.0.0",
      "model_name": "LayoutModel",
      "state": {}
     },
     "e9045c204eb047938e03df19ab9dc05c": {
      "model_module": "@jupyter-widgets/base",
      "model_module_version": "2.0.0",
      "model_name": "LayoutModel",
      "state": {
       "flex": "2"
      }
     },
     "e922f4a40ee44544b5d7c78e9dc650f3": {
      "model_module": "@jupyter-widgets/controls",
      "model_module_version": "2.0.0",
      "model_name": "HTMLModel",
      "state": {
       "layout": "IPY_MODEL_daffcf2097b74b1fb7e08476d9e396af",
       "style": "IPY_MODEL_e740707e01df49b18093e109f71b618b",
       "value": " 0/10 [01:12&lt;?, ?it/s]"
      }
     },
     "e9702848633a4220932851096a15ab58": {
      "model_module": "@jupyter-widgets/base",
      "model_module_version": "2.0.0",
      "model_name": "LayoutModel",
      "state": {
       "display": "inline-flex",
       "flex_flow": "row wrap",
       "width": "100%"
      }
     },
     "e998548a74874b73962942398cc061a1": {
      "model_module": "@jupyter-widgets/controls",
      "model_module_version": "2.0.0",
      "model_name": "HTMLStyleModel",
      "state": {
       "description_width": "",
       "font_size": null,
       "text_color": null
      }
     },
     "e99ef98b04074f82ba01b0ef717f4e3c": {
      "model_module": "@jupyter-widgets/controls",
      "model_module_version": "2.0.0",
      "model_name": "HTMLModel",
      "state": {
       "layout": "IPY_MODEL_c4847214d6ff4ee7ba1916ac1831938e",
       "style": "IPY_MODEL_41f5a9ac5cc245ef88087ffef4169207",
       "value": " 80/80 [00:00&lt;00:00, 382.15it/s, loss=0.768]"
      }
     },
     "e9a72353048248adb40e7c0785f0e05d": {
      "model_module": "@jupyter-widgets/controls",
      "model_module_version": "2.0.0",
      "model_name": "HBoxModel",
      "state": {
       "children": [
        "IPY_MODEL_8a8d64e220f6495dae0e274f429ebe86",
        "IPY_MODEL_02fa2d075d9e4bbd8f43b5668f856d76",
        "IPY_MODEL_8b68946fd9d6482683a5549d2770966b"
       ],
       "layout": "IPY_MODEL_2caebdaa26a6467497a64edd0ba87b4a"
      }
     },
     "e9d793d5a9844c65b48a5f18d942090f": {
      "model_module": "@jupyter-widgets/base",
      "model_module_version": "2.0.0",
      "model_name": "LayoutModel",
      "state": {
       "flex": "2"
      }
     },
     "e9e8d41f4cf143dd9660cd88c9fb43bf": {
      "model_module": "@jupyter-widgets/base",
      "model_module_version": "2.0.0",
      "model_name": "LayoutModel",
      "state": {}
     },
     "e9fbeccf43e44fecb0a029ad3924cb0b": {
      "model_module": "@jupyter-widgets/controls",
      "model_module_version": "2.0.0",
      "model_name": "HTMLStyleModel",
      "state": {
       "description_width": "",
       "font_size": null,
       "text_color": null
      }
     },
     "ea00aa1c4bb14ebca32c4153481490db": {
      "model_module": "@jupyter-widgets/base",
      "model_module_version": "2.0.0",
      "model_name": "LayoutModel",
      "state": {
       "flex": "2"
      }
     },
     "ea01df793e60425a859e41549374f937": {
      "model_module": "@jupyter-widgets/base",
      "model_module_version": "2.0.0",
      "model_name": "LayoutModel",
      "state": {
       "flex": "2"
      }
     },
     "ea290cf61f8d4bde9fec666672a0e59f": {
      "model_module": "@jupyter-widgets/controls",
      "model_module_version": "2.0.0",
      "model_name": "HTMLModel",
      "state": {
       "layout": "IPY_MODEL_307cb08a35694ca2840fad40d25a8a2d",
       "style": "IPY_MODEL_ecc9112eb9de4a5bbfc173ff902c8a66",
       "value": " 80/80 [00:00&lt;00:00, 164.03it/s, loss=0.049, v_num=52, MAE=3.980, RMSE=4.970, Loss=0.0489, RegLoss=0.00314]"
      }
     },
     "ea30750024b94fb69c65be89fdaadc5f": {
      "model_module": "@jupyter-widgets/controls",
      "model_module_version": "2.0.0",
      "model_name": "ProgressStyleModel",
      "state": {
       "description_width": ""
      }
     },
     "ea3997d720a545d195dd607b44dfac25": {
      "model_module": "@jupyter-widgets/controls",
      "model_module_version": "2.0.0",
      "model_name": "HTMLStyleModel",
      "state": {
       "description_width": "",
       "font_size": null,
       "text_color": null
      }
     },
     "ea46c106effa40b8a59656dda5fa948b": {
      "model_module": "@jupyter-widgets/controls",
      "model_module_version": "2.0.0",
      "model_name": "HTMLStyleModel",
      "state": {
       "description_width": "",
       "font_size": null,
       "text_color": null
      }
     },
     "ea63c25f2f694055a79c3ed355c48d87": {
      "model_module": "@jupyter-widgets/controls",
      "model_module_version": "2.0.0",
      "model_name": "HBoxModel",
      "state": {
       "children": [
        "IPY_MODEL_135d4f137ee44c068fc409f5ebb8aece",
        "IPY_MODEL_28c53e22bfc542b3a3feb71a5a02b36f",
        "IPY_MODEL_ae12625f71104c0dadc92b4536ae1d0d"
       ],
       "layout": "IPY_MODEL_8c146e6a0f1747f9911bfa23a18bc8b0"
      }
     },
     "eaa1f0367eae434b88cd55c8667e199f": {
      "model_module": "@jupyter-widgets/base",
      "model_module_version": "2.0.0",
      "model_name": "LayoutModel",
      "state": {}
     },
     "eaa781f2127645158e212f1d8f911ee8": {
      "model_module": "@jupyter-widgets/controls",
      "model_module_version": "2.0.0",
      "model_name": "HTMLModel",
      "state": {
       "layout": "IPY_MODEL_3f3f73d46e2743e89074ff6d54579525",
       "style": "IPY_MODEL_a01a4ee5e6e94f178638244b348518ab",
       "value": "  0%"
      }
     },
     "eac84b86a050468eb88438295784cf34": {
      "model_module": "@jupyter-widgets/base",
      "model_module_version": "2.0.0",
      "model_name": "LayoutModel",
      "state": {
       "display": "inline-flex",
       "flex_flow": "row wrap",
       "width": "100%"
      }
     },
     "eac8d09889904eb192dd9e8e6300de8d": {
      "model_module": "@jupyter-widgets/controls",
      "model_module_version": "2.0.0",
      "model_name": "HTMLStyleModel",
      "state": {
       "description_width": "",
       "font_size": null,
       "text_color": null
      }
     },
     "eac9530ec21b47f78b595d004b76f682": {
      "model_module": "@jupyter-widgets/controls",
      "model_module_version": "2.0.0",
      "model_name": "HTMLStyleModel",
      "state": {
       "description_width": "",
       "font_size": null,
       "text_color": null
      }
     },
     "eb18a4ce90d2478fb1e5aa17f9f3d5c6": {
      "model_module": "@jupyter-widgets/controls",
      "model_module_version": "2.0.0",
      "model_name": "HTMLModel",
      "state": {
       "layout": "IPY_MODEL_0098163c79f74aa39ab0047570608505",
       "style": "IPY_MODEL_9b8987b3ca26431682c5e0c4e3941136",
       "value": "Testing DataLoader 0: 100%"
      }
     },
     "eb2050ab58b748a0b1ae419a7f42649e": {
      "model_module": "@jupyter-widgets/base",
      "model_module_version": "2.0.0",
      "model_name": "LayoutModel",
      "state": {
       "display": "inline-flex",
       "flex_flow": "row wrap",
       "width": "100%"
      }
     },
     "eb2b30d3510342059aafd02c6fcdac00": {
      "model_module": "@jupyter-widgets/controls",
      "model_module_version": "2.0.0",
      "model_name": "HTMLModel",
      "state": {
       "layout": "IPY_MODEL_a2868cf5921f498e839afca5015e7a67",
       "style": "IPY_MODEL_9ff5b7fd1cb84252820dabc203078c7f",
       "value": "Testing DataLoader 0: 100%"
      }
     },
     "eb3dcca9da43437eb0b274185fdb2ef1": {
      "model_module": "@jupyter-widgets/controls",
      "model_module_version": "2.0.0",
      "model_name": "HTMLStyleModel",
      "state": {
       "description_width": "",
       "font_size": null,
       "text_color": null
      }
     },
     "eb7550198eb14b99a54e54d6158f3472": {
      "model_module": "@jupyter-widgets/controls",
      "model_module_version": "2.0.0",
      "model_name": "HBoxModel",
      "state": {
       "children": [
        "IPY_MODEL_2716a362b3f34bb082f7b2aef4d24ec2",
        "IPY_MODEL_db48a92eab3248aab2859092acbff377",
        "IPY_MODEL_e565f82f3f504a968222e1ba8126d453"
       ],
       "layout": "IPY_MODEL_2add8132a05b48cfaec50a26fc0f1919"
      }
     },
     "eb922e19a032439fad524cd46bfde852": {
      "model_module": "@jupyter-widgets/controls",
      "model_module_version": "2.0.0",
      "model_name": "HTMLStyleModel",
      "state": {
       "description_width": "",
       "font_size": null,
       "text_color": null
      }
     },
     "eb9a56bfe7ba4002ae3d9e2680778871": {
      "model_module": "@jupyter-widgets/base",
      "model_module_version": "2.0.0",
      "model_name": "LayoutModel",
      "state": {}
     },
     "ebc177ae99c24dfda47b98986586ebd2": {
      "model_module": "@jupyter-widgets/base",
      "model_module_version": "2.0.0",
      "model_name": "LayoutModel",
      "state": {}
     },
     "ebdc0395f87b402eba951d4dbfffde32": {
      "model_module": "@jupyter-widgets/base",
      "model_module_version": "2.0.0",
      "model_name": "LayoutModel",
      "state": {}
     },
     "ebdcff9b74584cf1a787d378e1f5eb63": {
      "model_module": "@jupyter-widgets/controls",
      "model_module_version": "2.0.0",
      "model_name": "HTMLStyleModel",
      "state": {
       "description_width": "",
       "font_size": null,
       "text_color": null
      }
     },
     "ec1a9d334ecd4315bd18bf7d02087daa": {
      "model_module": "@jupyter-widgets/base",
      "model_module_version": "2.0.0",
      "model_name": "LayoutModel",
      "state": {}
     },
     "ec2bb0ba2594428987173f7d00b2fb18": {
      "model_module": "@jupyter-widgets/controls",
      "model_module_version": "2.0.0",
      "model_name": "HTMLStyleModel",
      "state": {
       "description_width": "",
       "font_size": null,
       "text_color": null
      }
     },
     "ec30214275664ea7b627662b24b75e65": {
      "model_module": "@jupyter-widgets/controls",
      "model_module_version": "2.0.0",
      "model_name": "HBoxModel",
      "state": {
       "children": [
        "IPY_MODEL_4100590a1b824606bec7af69213a7892",
        "IPY_MODEL_962406c068704ed18f14e29ca28679e9",
        "IPY_MODEL_ea290cf61f8d4bde9fec666672a0e59f"
       ],
       "layout": "IPY_MODEL_06946b16bf3c4419960a1469133e3a98"
      }
     },
     "ec74b287dd574fec973e16a6355f8fca": {
      "model_module": "@jupyter-widgets/base",
      "model_module_version": "2.0.0",
      "model_name": "LayoutModel",
      "state": {
       "display": "inline-flex",
       "flex_flow": "row wrap",
       "width": "100%"
      }
     },
     "ec77352c8a4b4a08a2b38f26afe50a45": {
      "model_module": "@jupyter-widgets/controls",
      "model_module_version": "2.0.0",
      "model_name": "HTMLStyleModel",
      "state": {
       "description_width": "",
       "font_size": null,
       "text_color": null
      }
     },
     "ec7da90760f444948b405e5742e02270": {
      "model_module": "@jupyter-widgets/controls",
      "model_module_version": "2.0.0",
      "model_name": "HTMLStyleModel",
      "state": {
       "description_width": "",
       "font_size": null,
       "text_color": null
      }
     },
     "ec916e69babf4b3e807ca54a51f72fb9": {
      "model_module": "@jupyter-widgets/base",
      "model_module_version": "2.0.0",
      "model_name": "LayoutModel",
      "state": {}
     },
     "ec9ef4ad8a1f45e592cf86bafea186ac": {
      "model_module": "@jupyter-widgets/controls",
      "model_module_version": "2.0.0",
      "model_name": "HTMLStyleModel",
      "state": {
       "description_width": "",
       "font_size": null,
       "text_color": null
      }
     },
     "eca9bd8e9d15453a836d1eab12d37f65": {
      "model_module": "@jupyter-widgets/controls",
      "model_module_version": "2.0.0",
      "model_name": "HTMLModel",
      "state": {
       "layout": "IPY_MODEL_9bc933a9a57749abbc7591ee9046fefb",
       "style": "IPY_MODEL_91d8311f3daf4e4ba63d693af74bc97b",
       "value": "Testing DataLoader 0: 100%"
      }
     },
     "ecc6c11871ab47028da59fec17cd7a1d": {
      "model_module": "@jupyter-widgets/controls",
      "model_module_version": "2.0.0",
      "model_name": "HTMLModel",
      "state": {
       "layout": "IPY_MODEL_37db7ddb7208481b8c6590e5649e46aa",
       "style": "IPY_MODEL_f9dc2fff9dc647c4ad5854ce4dfc3b65",
       "value": " 3/80 [00:00&lt;00:13,  5.50it/s, loss=0.0905, v_num=19, MAE=4.590, RMSE=5.840, Loss=0.102, RegLoss=0.000]"
      }
     },
     "ecc9112eb9de4a5bbfc173ff902c8a66": {
      "model_module": "@jupyter-widgets/controls",
      "model_module_version": "2.0.0",
      "model_name": "HTMLStyleModel",
      "state": {
       "description_width": "",
       "font_size": null,
       "text_color": null
      }
     },
     "ecc9c68673e644c9908f4e57056c11f1": {
      "model_module": "@jupyter-widgets/controls",
      "model_module_version": "2.0.0",
      "model_name": "HTMLStyleModel",
      "state": {
       "description_width": "",
       "font_size": null,
       "text_color": null
      }
     },
     "ed047ea349684995af3b2ad0be254fce": {
      "model_module": "@jupyter-widgets/controls",
      "model_module_version": "2.0.0",
      "model_name": "HTMLStyleModel",
      "state": {
       "description_width": "",
       "font_size": null,
       "text_color": null
      }
     },
     "ed067e32b7e943c4b90c456d19f41f5b": {
      "model_module": "@jupyter-widgets/controls",
      "model_module_version": "2.0.0",
      "model_name": "FloatProgressModel",
      "state": {
       "bar_style": "success",
       "layout": "IPY_MODEL_87313859c4f1427599b2fef260d6c0c6",
       "max": 1,
       "style": "IPY_MODEL_4af349fbbe054721ac4ba390cbcee41c",
       "value": 1
      }
     },
     "ed643b2b4875428a9c5e463dc215c661": {
      "model_module": "@jupyter-widgets/controls",
      "model_module_version": "2.0.0",
      "model_name": "ProgressStyleModel",
      "state": {
       "description_width": ""
      }
     },
     "ed76e5bbf2ae48889427821dc555d024": {
      "model_module": "@jupyter-widgets/base",
      "model_module_version": "2.0.0",
      "model_name": "LayoutModel",
      "state": {}
     },
     "ed889ef4f717443c8fd50cebf53a686a": {
      "model_module": "@jupyter-widgets/controls",
      "model_module_version": "2.0.0",
      "model_name": "HBoxModel",
      "state": {
       "children": [
        "IPY_MODEL_ba05a1b6f4b84dabafa6c6b3d0e5e91c",
        "IPY_MODEL_acc4066cb4284b3ba3ba9cf3181887f2",
        "IPY_MODEL_c18418e58d82435faf7a5388147d8740"
       ],
       "layout": "IPY_MODEL_7ba47627ae284054b8eea08811c180f8"
      }
     },
     "edac04b3c7ae49a7bab259fce65828b8": {
      "model_module": "@jupyter-widgets/base",
      "model_module_version": "2.0.0",
      "model_name": "LayoutModel",
      "state": {
       "flex": "2"
      }
     },
     "edcaa98a29194625ab8d74ba154dd8ad": {
      "model_module": "@jupyter-widgets/controls",
      "model_module_version": "2.0.0",
      "model_name": "ProgressStyleModel",
      "state": {
       "description_width": ""
      }
     },
     "ede223b56b4a4c5a986fea3ba1560088": {
      "model_module": "@jupyter-widgets/base",
      "model_module_version": "2.0.0",
      "model_name": "LayoutModel",
      "state": {}
     },
     "ee147a1e99b041ac90829960d25bbf58": {
      "model_module": "@jupyter-widgets/controls",
      "model_module_version": "2.0.0",
      "model_name": "HTMLModel",
      "state": {
       "layout": "IPY_MODEL_ac36768c6b3b45be9bb1599e212dd319",
       "style": "IPY_MODEL_c73c9f5b57b1418e8a7338c5272df9ec",
       "value": " 1/1 [00:00&lt;00:00, 18.00it/s]"
      }
     },
     "ee362c16e5f74dda939ae8c52834f56b": {
      "model_module": "@jupyter-widgets/controls",
      "model_module_version": "2.0.0",
      "model_name": "HBoxModel",
      "state": {
       "children": [
        "IPY_MODEL_0faa9d157a984075aafd47d4de2d2366",
        "IPY_MODEL_e00a2fd3ccaf4414b486e0dc796157fa",
        "IPY_MODEL_73e50109e7364add8896f9cb96bc3029"
       ],
       "layout": "IPY_MODEL_d41cd976abca4152938b6165bb91a7c6"
      }
     },
     "ee3feba62e8d459d8b5a0bdaa5055390": {
      "model_module": "@jupyter-widgets/base",
      "model_module_version": "2.0.0",
      "model_name": "LayoutModel",
      "state": {
       "display": "inline-flex",
       "flex_flow": "row wrap",
       "width": "100%"
      }
     },
     "ee4670bcc0d8438c9e09084c75cb2b49": {
      "model_module": "@jupyter-widgets/controls",
      "model_module_version": "2.0.0",
      "model_name": "HTMLModel",
      "state": {
       "layout": "IPY_MODEL_5e2ddf48f3424766acacabbaa34b2052",
       "style": "IPY_MODEL_65e47d13afb143f587ba842a46b3e01b",
       "value": "Testing DataLoader 0: 100%"
      }
     },
     "ee4c5e8d48764e1c82333304bbacc316": {
      "model_module": "@jupyter-widgets/base",
      "model_module_version": "2.0.0",
      "model_name": "LayoutModel",
      "state": {
       "flex": "2"
      }
     },
     "ee51feb94f9a40db8624f4a98637f478": {
      "model_module": "@jupyter-widgets/base",
      "model_module_version": "2.0.0",
      "model_name": "LayoutModel",
      "state": {}
     },
     "ee837c72aee743bfb8d89658928dd974": {
      "model_module": "@jupyter-widgets/controls",
      "model_module_version": "2.0.0",
      "model_name": "HTMLStyleModel",
      "state": {
       "description_width": "",
       "font_size": null,
       "text_color": null
      }
     },
     "ee8f8ef7fed4466199a1f6b1deb93f1d": {
      "model_module": "@jupyter-widgets/controls",
      "model_module_version": "2.0.0",
      "model_name": "ProgressStyleModel",
      "state": {
       "description_width": ""
      }
     },
     "ee98c1b85a2e4e60b8dcc4eb6c3d6602": {
      "model_module": "@jupyter-widgets/controls",
      "model_module_version": "2.0.0",
      "model_name": "HTMLModel",
      "state": {
       "layout": "IPY_MODEL_1c666adc9aa04ab18b982a5319b90927",
       "style": "IPY_MODEL_283d34abb5b64775861dfda420a30061",
       "value": " 53/80 [02:46&lt;01:25,  3.15s/it, loss=5.89, v_num=5, MAE=5.910, RMSE=7.540, Loss=6.070, RegLoss=0.000]"
      }
     },
     "ee9fad45cfa54a78b02cd5203dc0c0ad": {
      "model_module": "@jupyter-widgets/controls",
      "model_module_version": "2.0.0",
      "model_name": "HTMLStyleModel",
      "state": {
       "description_width": "",
       "font_size": null,
       "text_color": null
      }
     },
     "eee5da0ffdb34b0489460a8a0e21db48": {
      "model_module": "@jupyter-widgets/base",
      "model_module_version": "2.0.0",
      "model_name": "LayoutModel",
      "state": {
       "display": "inline-flex",
       "flex_flow": "row wrap",
       "width": "100%"
      }
     },
     "eef4eb84836648f6ae5570f6c3c1abce": {
      "model_module": "@jupyter-widgets/controls",
      "model_module_version": "2.0.0",
      "model_name": "HTMLStyleModel",
      "state": {
       "description_width": "",
       "font_size": null,
       "text_color": null
      }
     },
     "ef23022cefdf485b86eff52165fa1f26": {
      "model_module": "@jupyter-widgets/controls",
      "model_module_version": "2.0.0",
      "model_name": "HTMLModel",
      "state": {
       "layout": "IPY_MODEL_0b89e7c51cd44c4faa064e4ed4de9c30",
       "style": "IPY_MODEL_49eef5d6c80a40ec9777601b292caed2",
       "value": " 4/5 [00:28&lt;00:07,  7.13s/it, loss=7.01, v_num=70, MAE=213.0, RMSE=332.0, Loss=12.20, RegLoss=0.000]"
      }
     },
     "ef280b7c41b443ee8d68fc007f0d721b": {
      "model_module": "@jupyter-widgets/base",
      "model_module_version": "2.0.0",
      "model_name": "LayoutModel",
      "state": {}
     },
     "ef34d76913904566b2a70671ad1e2f1c": {
      "model_module": "@jupyter-widgets/controls",
      "model_module_version": "2.0.0",
      "model_name": "HTMLModel",
      "state": {
       "layout": "IPY_MODEL_452b423320264bc988fb3c7b138ba425",
       "style": "IPY_MODEL_6de928294cc8424fab1561ce4533ba4c",
       "value": " 1/1 [00:00&lt;00:00, 87.13it/s]"
      }
     },
     "ef88186ec7d846d49e1e210dd6c39f40": {
      "model_module": "@jupyter-widgets/controls",
      "model_module_version": "2.0.0",
      "model_name": "HTMLModel",
      "state": {
       "layout": "IPY_MODEL_b04d61c0005948ca8b5d7ba6a9399459",
       "style": "IPY_MODEL_e27b2f40d36d4051829e1db01c91b688",
       "value": " 0/1 [00:01&lt;?, ?it/s]"
      }
     },
     "efb3d85aa5c545a9b7debd769d368b73": {
      "model_module": "@jupyter-widgets/controls",
      "model_module_version": "2.0.0",
      "model_name": "FloatProgressModel",
      "state": {
       "layout": "IPY_MODEL_5dbb4bcd798f483baea42fb07b105fc4",
       "max": 1,
       "style": "IPY_MODEL_e8c3cdf5e9c4490a9548fee32c0b4d58",
       "value": 1
      }
     },
     "efb597bc744e4db0af0ee75331950989": {
      "model_module": "@jupyter-widgets/controls",
      "model_module_version": "2.0.0",
      "model_name": "FloatProgressModel",
      "state": {
       "bar_style": "danger",
       "layout": "IPY_MODEL_dbc8c4077fbf4245aaed1bd56254f57c",
       "max": 10,
       "style": "IPY_MODEL_790b0910f7f842dcb266be3a3985a94c"
      }
     },
     "efc3146a71dd4d2097601d48da3a125d": {
      "model_module": "@jupyter-widgets/base",
      "model_module_version": "2.0.0",
      "model_name": "LayoutModel",
      "state": {
       "flex": "2"
      }
     },
     "efc96549b1ec42e19844de865ccf2486": {
      "model_module": "@jupyter-widgets/controls",
      "model_module_version": "2.0.0",
      "model_name": "HTMLStyleModel",
      "state": {
       "description_width": "",
       "font_size": null,
       "text_color": null
      }
     },
     "efd2941a8b084af9881c8d46b5a33aaf": {
      "model_module": "@jupyter-widgets/controls",
      "model_module_version": "2.0.0",
      "model_name": "ProgressStyleModel",
      "state": {
       "description_width": ""
      }
     },
     "eff72f5d39354bd5805b0ea02ef78cf5": {
      "model_module": "@jupyter-widgets/controls",
      "model_module_version": "2.0.0",
      "model_name": "HTMLStyleModel",
      "state": {
       "description_width": "",
       "font_size": null,
       "text_color": null
      }
     },
     "effcbca336834732988d54e883273238": {
      "model_module": "@jupyter-widgets/controls",
      "model_module_version": "2.0.0",
      "model_name": "HTMLStyleModel",
      "state": {
       "description_width": "",
       "font_size": null,
       "text_color": null
      }
     },
     "f01d6aad41f440638ed06a31b0d74831": {
      "model_module": "@jupyter-widgets/controls",
      "model_module_version": "2.0.0",
      "model_name": "HTMLStyleModel",
      "state": {
       "description_width": "",
       "font_size": null,
       "text_color": null
      }
     },
     "f036769307ae44bf9c769a05c6b57c8e": {
      "model_module": "@jupyter-widgets/controls",
      "model_module_version": "2.0.0",
      "model_name": "HTMLModel",
      "state": {
       "layout": "IPY_MODEL_2542765dad08413e8fadf8b525d62e17",
       "style": "IPY_MODEL_fc57633698dc41bd99986b37be351199",
       "value": " 1/80 [00:00&lt;00:09,  8.15it/s]"
      }
     },
     "f0828a90b1804fd19b3cc23d633fc6fa": {
      "model_module": "@jupyter-widgets/base",
      "model_module_version": "2.0.0",
      "model_name": "LayoutModel",
      "state": {}
     },
     "f09abc734d4946deb7b42cd00bda1f43": {
      "model_module": "@jupyter-widgets/controls",
      "model_module_version": "2.0.0",
      "model_name": "FloatProgressModel",
      "state": {
       "bar_style": "success",
       "layout": "IPY_MODEL_9495893f1e0f48db843229118c072a94",
       "max": 1,
       "style": "IPY_MODEL_d9cbd0e7ab28425bb707a30a372a8938",
       "value": 1
      }
     },
     "f0ba69b6ca6146948fd8e6e3faaa5a33": {
      "model_module": "@jupyter-widgets/controls",
      "model_module_version": "2.0.0",
      "model_name": "HBoxModel",
      "state": {
       "children": [
        "IPY_MODEL_7c835093e541498b886d4c28d0be6196",
        "IPY_MODEL_b9e51516ce9340ad82fcd91561e7b698",
        "IPY_MODEL_08f2ed06a57942dca1179a4fcb8b2240"
       ],
       "layout": "IPY_MODEL_d3eee9528eba4270aa0095e1c08609df"
      }
     },
     "f0c867a31a154162a96e1d162c6de755": {
      "model_module": "@jupyter-widgets/controls",
      "model_module_version": "2.0.0",
      "model_name": "HTMLModel",
      "state": {
       "layout": "IPY_MODEL_f375f890200c494ba71e84d11a565cba",
       "style": "IPY_MODEL_31d6eaa8aa134fbcb7dcec224879239e",
       "value": "Epoch 80: 100%"
      }
     },
     "f0f2e5c11ba0401584672fcd1d3e9afe": {
      "model_module": "@jupyter-widgets/controls",
      "model_module_version": "2.0.0",
      "model_name": "ProgressStyleModel",
      "state": {
       "description_width": ""
      }
     },
     "f0ff7c26bd5e40b6b99508fec3a5e903": {
      "model_module": "@jupyter-widgets/controls",
      "model_module_version": "2.0.0",
      "model_name": "HTMLStyleModel",
      "state": {
       "description_width": "",
       "font_size": null,
       "text_color": null
      }
     },
     "f10865e815e84d2aa2a53e96d44490a6": {
      "model_module": "@jupyter-widgets/controls",
      "model_module_version": "2.0.0",
      "model_name": "HTMLModel",
      "state": {
       "layout": "IPY_MODEL_abcbc2cb99524fcbbe4cebfe31b9f5c8",
       "style": "IPY_MODEL_8ea65924825c46db83928d83c2407b0b",
       "value": " 1/1 [00:00&lt;00:00, 91.96it/s]"
      }
     },
     "f15252e4623c439c92f0c81b69b5e4f0": {
      "model_module": "@jupyter-widgets/controls",
      "model_module_version": "2.0.0",
      "model_name": "HTMLModel",
      "state": {
       "layout": "IPY_MODEL_9305bbf74e6c477b90e18370820258f9",
       "style": "IPY_MODEL_f89666557021444b9894d199f2cb75a8",
       "value": " 30%"
      }
     },
     "f15c584b433e4619b2aa762f0f37d6cf": {
      "model_module": "@jupyter-widgets/base",
      "model_module_version": "2.0.0",
      "model_name": "LayoutModel",
      "state": {}
     },
     "f1a4449a6fd440849877566fa6a66d6e": {
      "model_module": "@jupyter-widgets/base",
      "model_module_version": "2.0.0",
      "model_name": "LayoutModel",
      "state": {
       "flex": "2"
      }
     },
     "f1b64598e488491bb8b5f975815eba17": {
      "model_module": "@jupyter-widgets/base",
      "model_module_version": "2.0.0",
      "model_name": "LayoutModel",
      "state": {}
     },
     "f1c25f0dfabb47188a8a8a787bcd497c": {
      "model_module": "@jupyter-widgets/base",
      "model_module_version": "2.0.0",
      "model_name": "LayoutModel",
      "state": {}
     },
     "f1c8466031b24841b34a710c9f6aaa98": {
      "model_module": "@jupyter-widgets/base",
      "model_module_version": "2.0.0",
      "model_name": "LayoutModel",
      "state": {
       "display": "inline-flex",
       "flex_flow": "row wrap",
       "width": "100%"
      }
     },
     "f1ef0f893a9d4d7cae6e6287c8845413": {
      "model_module": "@jupyter-widgets/controls",
      "model_module_version": "2.0.0",
      "model_name": "HTMLStyleModel",
      "state": {
       "description_width": "",
       "font_size": null,
       "text_color": null
      }
     },
     "f1f63af7736a4154b49e9caac66c8282": {
      "model_module": "@jupyter-widgets/controls",
      "model_module_version": "2.0.0",
      "model_name": "ProgressStyleModel",
      "state": {
       "description_width": ""
      }
     },
     "f1fa97ff899849a5bea4e2c6e06f4295": {
      "model_module": "@jupyter-widgets/base",
      "model_module_version": "2.0.0",
      "model_name": "LayoutModel",
      "state": {
       "display": "inline-flex",
       "flex_flow": "row wrap",
       "width": "100%"
      }
     },
     "f218d34d73454dd1845b5f8c5ca3da5d": {
      "model_module": "@jupyter-widgets/controls",
      "model_module_version": "2.0.0",
      "model_name": "HTMLModel",
      "state": {
       "layout": "IPY_MODEL_6f793fd48b144c2dbc0c5c5e120fb703",
       "style": "IPY_MODEL_effcbca336834732988d54e883273238",
       "value": " 1/1 [00:00&lt;00:00, 247.63it/s]"
      }
     },
     "f23e81fa9c844c90847c512566f0e4d1": {
      "model_module": "@jupyter-widgets/controls",
      "model_module_version": "2.0.0",
      "model_name": "HTMLStyleModel",
      "state": {
       "description_width": "",
       "font_size": null,
       "text_color": null
      }
     },
     "f23fb0e9212646cfb19244c0a67d7c8f": {
      "model_module": "@jupyter-widgets/controls",
      "model_module_version": "2.0.0",
      "model_name": "ProgressStyleModel",
      "state": {
       "description_width": ""
      }
     },
     "f282a362e4984f2eb54e40a76876f274": {
      "model_module": "@jupyter-widgets/controls",
      "model_module_version": "2.0.0",
      "model_name": "HBoxModel",
      "state": {
       "children": [
        "IPY_MODEL_ab995bf5a9434d6bbdeb08cf514d6938",
        "IPY_MODEL_1378fc0597f64bd0bc44934d539d035b",
        "IPY_MODEL_ae0ce94d74bb484b8f7db58115ec2cea"
       ],
       "layout": "IPY_MODEL_c9bca6f807cc4d25801383d4b763e57a"
      }
     },
     "f2830ea41cf94f5ab94bf90c8e1a6427": {
      "model_module": "@jupyter-widgets/controls",
      "model_module_version": "2.0.0",
      "model_name": "FloatProgressModel",
      "state": {
       "bar_style": "danger",
       "layout": "IPY_MODEL_24ad9445235b44cbb8a32a9482f1eb6b",
       "max": 80,
       "style": "IPY_MODEL_a32b65ba5a3d4ca0ab316935c8ec33d8",
       "value": 1
      }
     },
     "f28620fb45f84634bc8575ba1e27e1d9": {
      "model_module": "@jupyter-widgets/controls",
      "model_module_version": "2.0.0",
      "model_name": "HTMLStyleModel",
      "state": {
       "description_width": "",
       "font_size": null,
       "text_color": null
      }
     },
     "f29c2678a8284b10bd6c66cceabdabad": {
      "model_module": "@jupyter-widgets/controls",
      "model_module_version": "2.0.0",
      "model_name": "ProgressStyleModel",
      "state": {
       "description_width": ""
      }
     },
     "f29e86858e3a41d18da5f35a08e4a0ad": {
      "model_module": "@jupyter-widgets/controls",
      "model_module_version": "2.0.0",
      "model_name": "FloatProgressModel",
      "state": {
       "bar_style": "danger",
       "layout": "IPY_MODEL_a3d061d06217487c98b879ae6ff3c3f1",
       "max": 80,
       "style": "IPY_MODEL_16a5880a9c5f43da981433c3b2cb79e7",
       "value": 33
      }
     },
     "f2c00796329340198d4d4ba02fe54c19": {
      "model_module": "@jupyter-widgets/base",
      "model_module_version": "2.0.0",
      "model_name": "LayoutModel",
      "state": {}
     },
     "f2eacd88a36e4e109099838e5d9ee13e": {
      "model_module": "@jupyter-widgets/controls",
      "model_module_version": "2.0.0",
      "model_name": "HTMLStyleModel",
      "state": {
       "description_width": "",
       "font_size": null,
       "text_color": null
      }
     },
     "f3145ac9dce44c7796ee574e4362fe02": {
      "model_module": "@jupyter-widgets/base",
      "model_module_version": "2.0.0",
      "model_name": "LayoutModel",
      "state": {
       "display": "inline-flex",
       "flex_flow": "row wrap",
       "visibility": "hidden",
       "width": "100%"
      }
     },
     "f341470473ec4a99a0341ada42f52d0a": {
      "model_module": "@jupyter-widgets/controls",
      "model_module_version": "2.0.0",
      "model_name": "HTMLModel",
      "state": {
       "layout": "IPY_MODEL_abe79250f99a4bb6ac438d83d54403d6",
       "style": "IPY_MODEL_f2eacd88a36e4e109099838e5d9ee13e",
       "value": "  0%"
      }
     },
     "f355e596ddc94832a861712a803e6788": {
      "model_module": "@jupyter-widgets/controls",
      "model_module_version": "2.0.0",
      "model_name": "HTMLModel",
      "state": {
       "layout": "IPY_MODEL_776cb026353744d484ece2ef07fe09a2",
       "style": "IPY_MODEL_a3f2f6f0e31d41a381ee660daac38b39",
       "value": "Epoch 53:  66%"
      }
     },
     "f35e8bb254674eb3a3df932a6ff06f5e": {
      "model_module": "@jupyter-widgets/controls",
      "model_module_version": "2.0.0",
      "model_name": "HTMLStyleModel",
      "state": {
       "description_width": "",
       "font_size": null,
       "text_color": null
      }
     },
     "f375f890200c494ba71e84d11a565cba": {
      "model_module": "@jupyter-widgets/base",
      "model_module_version": "2.0.0",
      "model_name": "LayoutModel",
      "state": {}
     },
     "f38797cb5151466f8d5809a4a233772a": {
      "model_module": "@jupyter-widgets/base",
      "model_module_version": "2.0.0",
      "model_name": "LayoutModel",
      "state": {}
     },
     "f3b69a5b7d414809968ee4c2cb4ba009": {
      "model_module": "@jupyter-widgets/base",
      "model_module_version": "2.0.0",
      "model_name": "LayoutModel",
      "state": {}
     },
     "f3e7d103832141018c46501bc69aa602": {
      "model_module": "@jupyter-widgets/base",
      "model_module_version": "2.0.0",
      "model_name": "LayoutModel",
      "state": {}
     },
     "f3f8a56b1e11469ba9b86d1a9bc42e53": {
      "model_module": "@jupyter-widgets/base",
      "model_module_version": "2.0.0",
      "model_name": "LayoutModel",
      "state": {
       "display": "inline-flex",
       "flex_flow": "row wrap",
       "width": "100%"
      }
     },
     "f3fd0b002acd4119811326233545d159": {
      "model_module": "@jupyter-widgets/base",
      "model_module_version": "2.0.0",
      "model_name": "LayoutModel",
      "state": {
       "display": "inline-flex",
       "flex_flow": "row wrap",
       "width": "100%"
      }
     },
     "f44ac01102a845898680d22f2dc6c49f": {
      "model_module": "@jupyter-widgets/controls",
      "model_module_version": "2.0.0",
      "model_name": "HTMLStyleModel",
      "state": {
       "description_width": "",
       "font_size": null,
       "text_color": null
      }
     },
     "f474a80675cc49d19969e1a44fcc8039": {
      "model_module": "@jupyter-widgets/controls",
      "model_module_version": "2.0.0",
      "model_name": "FloatProgressModel",
      "state": {
       "bar_style": "success",
       "layout": "IPY_MODEL_90957ad00bb84546b4fdcd82d55ac055",
       "max": 5,
       "style": "IPY_MODEL_1742c55a10424b7c9fa3f076d1c83e75",
       "value": 5
      }
     },
     "f49353c4475e46fbb16329188005143d": {
      "model_module": "@jupyter-widgets/controls",
      "model_module_version": "2.0.0",
      "model_name": "HTMLStyleModel",
      "state": {
       "description_width": "",
       "font_size": null,
       "text_color": null
      }
     },
     "f4a17f47d9174426bc271f496fcff757": {
      "model_module": "@jupyter-widgets/base",
      "model_module_version": "2.0.0",
      "model_name": "LayoutModel",
      "state": {}
     },
     "f4bc0db7fa964fc58806da80bdba8001": {
      "model_module": "@jupyter-widgets/controls",
      "model_module_version": "2.0.0",
      "model_name": "HTMLStyleModel",
      "state": {
       "description_width": "",
       "font_size": null,
       "text_color": null
      }
     },
     "f4c24e6cf67d48c58a4be2257b71d799": {
      "model_module": "@jupyter-widgets/controls",
      "model_module_version": "2.0.0",
      "model_name": "HTMLModel",
      "state": {
       "layout": "IPY_MODEL_cac5fdf25c3e4c1890251a82ea0321d0",
       "style": "IPY_MODEL_8967b712047d44c6bebb15a1b0238dbd",
       "value": " 9/80 [00:00&lt;00:04, 15.19it/s, loss=0.0738, v_num=65, MAE=4.860, RMSE=6.140, Loss=0.0741, RegLoss=0.000]"
      }
     },
     "f4f577465b6845119274f622dcf7ed5a": {
      "model_module": "@jupyter-widgets/controls",
      "model_module_version": "2.0.0",
      "model_name": "FloatProgressModel",
      "state": {
       "bar_style": "danger",
       "layout": "IPY_MODEL_ce8f3e8f48164e3887a7309c10f64b75",
       "max": 1,
       "style": "IPY_MODEL_f57fd74d3596487bb9355e7daae9dde7"
      }
     },
     "f508a9f3cd4c4e129db661bee0826fc9": {
      "model_module": "@jupyter-widgets/controls",
      "model_module_version": "2.0.0",
      "model_name": "HTMLModel",
      "state": {
       "layout": "IPY_MODEL_a9172652df0741aab9ba20b15bf5ba7e",
       "style": "IPY_MODEL_ec9ef4ad8a1f45e592cf86bafea186ac",
       "value": "Testing DataLoader 0: 100%"
      }
     },
     "f52e2a014591475eba95734038c58806": {
      "model_module": "@jupyter-widgets/controls",
      "model_module_version": "2.0.0",
      "model_name": "FloatProgressModel",
      "state": {
       "bar_style": "success",
       "layout": "IPY_MODEL_87f6b73cb5aa49b08450b3b34c9dd44a",
       "max": 1,
       "style": "IPY_MODEL_350f5d496cc443d6a53912117af1b259",
       "value": 1
      }
     },
     "f547f0545267474b937b5bc90df33399": {
      "model_module": "@jupyter-widgets/base",
      "model_module_version": "2.0.0",
      "model_name": "LayoutModel",
      "state": {
       "flex": "2"
      }
     },
     "f55f38a5ed6945139d528445f180330f": {
      "model_module": "@jupyter-widgets/base",
      "model_module_version": "2.0.0",
      "model_name": "LayoutModel",
      "state": {
       "flex": "2"
      }
     },
     "f56f47edc37d4bec9d4e242f7c5bf844": {
      "model_module": "@jupyter-widgets/controls",
      "model_module_version": "2.0.0",
      "model_name": "HBoxModel",
      "state": {
       "children": [
        "IPY_MODEL_84bd29127d194a08866ef1c2b329d85d",
        "IPY_MODEL_e48a6d695e854ba9a700ccbfc69ad82a",
        "IPY_MODEL_c29ec89d59b7461ebfc8b7bec0cddb7e"
       ],
       "layout": "IPY_MODEL_4ff63d1784204461b1d87ee635473c09"
      }
     },
     "f57fd74d3596487bb9355e7daae9dde7": {
      "model_module": "@jupyter-widgets/controls",
      "model_module_version": "2.0.0",
      "model_name": "ProgressStyleModel",
      "state": {
       "description_width": ""
      }
     },
     "f58f7193937943d1916d0092d9b5f492": {
      "model_module": "@jupyter-widgets/base",
      "model_module_version": "2.0.0",
      "model_name": "LayoutModel",
      "state": {}
     },
     "f5a8dcde6c354b66a75b7947bf5672b2": {
      "model_module": "@jupyter-widgets/controls",
      "model_module_version": "2.0.0",
      "model_name": "HBoxModel",
      "state": {
       "children": [
        "IPY_MODEL_04c560210bed47578d9853f472b5a9f5",
        "IPY_MODEL_f63e2734b1e54a9292c69537c6f790a5",
        "IPY_MODEL_ad26d0bd7562429e84e2ca5eabd38869"
       ],
       "layout": "IPY_MODEL_0535ca84d37e43caab3adbf89f2b3f4a"
      }
     },
     "f5c997ace33249d7979656c9ef567495": {
      "model_module": "@jupyter-widgets/base",
      "model_module_version": "2.0.0",
      "model_name": "LayoutModel",
      "state": {
       "flex": "2"
      }
     },
     "f5cc23e197d948b397c51d6c44a877c4": {
      "model_module": "@jupyter-widgets/controls",
      "model_module_version": "2.0.0",
      "model_name": "HTMLStyleModel",
      "state": {
       "description_width": "",
       "font_size": null,
       "text_color": null
      }
     },
     "f5ce53b0372c4717a62dd833056a7ac4": {
      "model_module": "@jupyter-widgets/base",
      "model_module_version": "2.0.0",
      "model_name": "LayoutModel",
      "state": {}
     },
     "f5d1104a818848a594ef5632a8818d51": {
      "model_module": "@jupyter-widgets/controls",
      "model_module_version": "2.0.0",
      "model_name": "HTMLModel",
      "state": {
       "layout": "IPY_MODEL_e8361ab6f701431790127837e2cae5b7",
       "style": "IPY_MODEL_91f6f00a871348f58816f254684b2098",
       "value": " 1/1 [00:00&lt;00:00, 174.15it/s]"
      }
     },
     "f5efda52d51b49e49ea81c458c91275b": {
      "model_module": "@jupyter-widgets/controls",
      "model_module_version": "2.0.0",
      "model_name": "HTMLModel",
      "state": {
       "layout": "IPY_MODEL_a0361cadeb6d4679bb02fae3ba990089",
       "style": "IPY_MODEL_da5d092a22a64e7eb3af3e21659555af",
       "value": " 1/1 [00:00&lt;00:00, 115.88it/s]"
      }
     },
     "f5fb53022c2549d9b2e70470946390ba": {
      "model_module": "@jupyter-widgets/controls",
      "model_module_version": "2.0.0",
      "model_name": "HTMLModel",
      "state": {
       "layout": "IPY_MODEL_0156f33cf3674d3496eb399991de11a8",
       "style": "IPY_MODEL_89fb78f84f884ec3aab645bc21f6192b",
       "value": "Validation DataLoader 0: 100%"
      }
     },
     "f604902c0f604b3cbe63bf8adcbda2a9": {
      "model_module": "@jupyter-widgets/controls",
      "model_module_version": "2.0.0",
      "model_name": "HTMLStyleModel",
      "state": {
       "description_width": "",
       "font_size": null,
       "text_color": null
      }
     },
     "f622acc92f8f478a9e7143866c6cca62": {
      "model_module": "@jupyter-widgets/controls",
      "model_module_version": "2.0.0",
      "model_name": "HTMLStyleModel",
      "state": {
       "description_width": "",
       "font_size": null,
       "text_color": null
      }
     },
     "f63c686d79bb406bb6568042b5a36b71": {
      "model_module": "@jupyter-widgets/base",
      "model_module_version": "2.0.0",
      "model_name": "LayoutModel",
      "state": {}
     },
     "f63e2734b1e54a9292c69537c6f790a5": {
      "model_module": "@jupyter-widgets/controls",
      "model_module_version": "2.0.0",
      "model_name": "FloatProgressModel",
      "state": {
       "bar_style": "danger",
       "layout": "IPY_MODEL_f9afffbc91d445eb8a40a76b674deb98",
       "max": 10,
       "style": "IPY_MODEL_138fac95aa4c46ada480607a87357076"
      }
     },
     "f659f1c1ae794eee939aa83977b1c93a": {
      "model_module": "@jupyter-widgets/base",
      "model_module_version": "2.0.0",
      "model_name": "LayoutModel",
      "state": {
       "display": "inline-flex",
       "flex_flow": "row wrap",
       "width": "100%"
      }
     },
     "f6820ddefc2b4cb899a13a32cbddd9fd": {
      "model_module": "@jupyter-widgets/base",
      "model_module_version": "2.0.0",
      "model_name": "LayoutModel",
      "state": {}
     },
     "f68a05bd3eb2468a8b517e74eb970311": {
      "model_module": "@jupyter-widgets/controls",
      "model_module_version": "2.0.0",
      "model_name": "ProgressStyleModel",
      "state": {
       "description_width": ""
      }
     },
     "f6bdd33e46ac4af5af7def4bb60fe0a5": {
      "model_module": "@jupyter-widgets/controls",
      "model_module_version": "2.0.0",
      "model_name": "FloatProgressModel",
      "state": {
       "bar_style": "danger",
       "layout": "IPY_MODEL_0ce6399695274de6aebcd67f31ba6647",
       "max": 80,
       "style": "IPY_MODEL_e28939dad9ed45eb9d356dc3055b78f2",
       "value": 53
      }
     },
     "f6c93d0b7de44cb38e7568aaa95592b7": {
      "model_module": "@jupyter-widgets/base",
      "model_module_version": "2.0.0",
      "model_name": "LayoutModel",
      "state": {
       "display": "inline-flex",
       "flex_flow": "row wrap",
       "width": "100%"
      }
     },
     "f6cfc1cb0dc94c66a3b6d797a0c18d1f": {
      "model_module": "@jupyter-widgets/controls",
      "model_module_version": "2.0.0",
      "model_name": "HTMLModel",
      "state": {
       "layout": "IPY_MODEL_f2c00796329340198d4d4ba02fe54c19",
       "style": "IPY_MODEL_94d3b0d1df624df094b220f069e13677",
       "value": "Testing DataLoader 0: 100%"
      }
     },
     "f6d75aed6005476eb464e896556ab5b5": {
      "model_module": "@jupyter-widgets/controls",
      "model_module_version": "2.0.0",
      "model_name": "HBoxModel",
      "state": {
       "children": [
        "IPY_MODEL_39d9b48d80ff450db64fb454889c610d",
        "IPY_MODEL_cb40911721f241b59e735b44478119ba",
        "IPY_MODEL_512f1505a74a450f83df0dda46a5cbe7"
       ],
       "layout": "IPY_MODEL_c8316dbe406e4e539fd20181bcd88791"
      }
     },
     "f6fb7943c3054e2e8a7d5722289723e0": {
      "model_module": "@jupyter-widgets/controls",
      "model_module_version": "2.0.0",
      "model_name": "ProgressStyleModel",
      "state": {
       "description_width": ""
      }
     },
     "f70fa8c2f23d46f99140aac23bad6ae7": {
      "model_module": "@jupyter-widgets/base",
      "model_module_version": "2.0.0",
      "model_name": "LayoutModel",
      "state": {}
     },
     "f76b5fe7196c4daab54ebee3c662d5e5": {
      "model_module": "@jupyter-widgets/controls",
      "model_module_version": "2.0.0",
      "model_name": "FloatProgressModel",
      "state": {
       "bar_style": "danger",
       "layout": "IPY_MODEL_71533dd5113b485b885a49ec07c235e7",
       "max": 1,
       "style": "IPY_MODEL_b3adf645e86e40578fb1a74c79eeccc4"
      }
     },
     "f782ada007fb419fb929fc9e4e2234dd": {
      "model_module": "@jupyter-widgets/base",
      "model_module_version": "2.0.0",
      "model_name": "LayoutModel",
      "state": {
       "display": "inline-flex",
       "flex_flow": "row wrap",
       "width": "100%"
      }
     },
     "f7982015045b4883941ca085d8f40d35": {
      "model_module": "@jupyter-widgets/base",
      "model_module_version": "2.0.0",
      "model_name": "LayoutModel",
      "state": {}
     },
     "f79bd2d9f94548b19bc8d24ed3d160e7": {
      "model_module": "@jupyter-widgets/controls",
      "model_module_version": "2.0.0",
      "model_name": "HTMLModel",
      "state": {
       "layout": "IPY_MODEL_f1b64598e488491bb8b5f975815eba17",
       "style": "IPY_MODEL_4685fca421634fabad76154ad8eec283",
       "value": "Testing DataLoader 0: 100%"
      }
     },
     "f7b31086cd0a4ee68a79aacb9d5f2088": {
      "model_module": "@jupyter-widgets/base",
      "model_module_version": "2.0.0",
      "model_name": "LayoutModel",
      "state": {}
     },
     "f81214405ffe4d0594e7da78d06314ec": {
      "model_module": "@jupyter-widgets/controls",
      "model_module_version": "2.0.0",
      "model_name": "ProgressStyleModel",
      "state": {
       "description_width": ""
      }
     },
     "f82c0719c9b74dd583982154c826d4cb": {
      "model_module": "@jupyter-widgets/base",
      "model_module_version": "2.0.0",
      "model_name": "LayoutModel",
      "state": {
       "flex": "2"
      }
     },
     "f83e9c7c5da24f3db14c8917b67514cb": {
      "model_module": "@jupyter-widgets/controls",
      "model_module_version": "2.0.0",
      "model_name": "ProgressStyleModel",
      "state": {
       "description_width": ""
      }
     },
     "f8631da3193a4efeaecb7a18bce14611": {
      "model_module": "@jupyter-widgets/controls",
      "model_module_version": "2.0.0",
      "model_name": "FloatProgressModel",
      "state": {
       "bar_style": "success",
       "layout": "IPY_MODEL_e41d7a310358476aa693574c9229135d",
       "max": 1,
       "style": "IPY_MODEL_f23fb0e9212646cfb19244c0a67d7c8f",
       "value": 1
      }
     },
     "f86afae22c224eb49292111d928bfe16": {
      "model_module": "@jupyter-widgets/controls",
      "model_module_version": "2.0.0",
      "model_name": "HBoxModel",
      "state": {
       "children": [
        "IPY_MODEL_a9aacfaea91b43dbbea5aa9ddb4a8048",
        "IPY_MODEL_614d5c885d60434e8f96cb673e0f88d4",
        "IPY_MODEL_70190e297dad4562af9e03b8130758a2"
       ],
       "layout": "IPY_MODEL_eb2050ab58b748a0b1ae419a7f42649e"
      }
     },
     "f89666557021444b9894d199f2cb75a8": {
      "model_module": "@jupyter-widgets/controls",
      "model_module_version": "2.0.0",
      "model_name": "HTMLStyleModel",
      "state": {
       "description_width": "",
       "font_size": null,
       "text_color": null
      }
     },
     "f8b2af7538224462984d3af65ffe5b2e": {
      "model_module": "@jupyter-widgets/base",
      "model_module_version": "2.0.0",
      "model_name": "LayoutModel",
      "state": {}
     },
     "f8b68c035d24402dbcd35e21df52b0ce": {
      "model_module": "@jupyter-widgets/base",
      "model_module_version": "2.0.0",
      "model_name": "LayoutModel",
      "state": {}
     },
     "f8c25f59b4ac4ff48fe1b66fde1a6e6c": {
      "model_module": "@jupyter-widgets/controls",
      "model_module_version": "2.0.0",
      "model_name": "HTMLModel",
      "state": {
       "layout": "IPY_MODEL_a6e243be282c42c3b83de58045a8fb32",
       "style": "IPY_MODEL_c32e0bb048f3403b93b540db6b119472",
       "value": " 1/80 [00:00&lt;00:08,  9.46it/s]"
      }
     },
     "f8dcf8c403704e3a983d3dbe08d548a8": {
      "model_module": "@jupyter-widgets/controls",
      "model_module_version": "2.0.0",
      "model_name": "HTMLModel",
      "state": {
       "layout": "IPY_MODEL_5d293da5d74340ffabc75ad6eb69d172",
       "style": "IPY_MODEL_eff72f5d39354bd5805b0ea02ef78cf5",
       "value": " 1/80 [00:00&lt;00:06, 11.51it/s]"
      }
     },
     "f8ee2f4abb1847c0a6318cb83bce3b9b": {
      "model_module": "@jupyter-widgets/base",
      "model_module_version": "2.0.0",
      "model_name": "LayoutModel",
      "state": {
       "flex": "2"
      }
     },
     "f9090f31f488442cb291f57a7a47d790": {
      "model_module": "@jupyter-widgets/controls",
      "model_module_version": "2.0.0",
      "model_name": "HTMLModel",
      "state": {
       "layout": "IPY_MODEL_8e6f00fb3c10485e92c1803925ff9c29",
       "style": "IPY_MODEL_0bfeb57f79a346719f5e48e8ca8f62a8",
       "value": " 1/1 [00:00&lt;00:00, 83.10it/s]"
      }
     },
     "f910c1aa069e4abba9a166f91e7afd4d": {
      "model_module": "@jupyter-widgets/controls",
      "model_module_version": "2.0.0",
      "model_name": "HTMLModel",
      "state": {
       "layout": "IPY_MODEL_aaec33aa8f0e416ab7f3bba7cfbbf547",
       "style": "IPY_MODEL_d7d244620c1f443a89f4446c5f1c4cbc",
       "value": " 0/10 [00:24&lt;?, ?it/s]"
      }
     },
     "f92590fed9604b2d8779144617292448": {
      "model_module": "@jupyter-widgets/base",
      "model_module_version": "2.0.0",
      "model_name": "LayoutModel",
      "state": {}
     },
     "f96230febaa147a2b40235d0b4c063ac": {
      "model_module": "@jupyter-widgets/controls",
      "model_module_version": "2.0.0",
      "model_name": "HTMLStyleModel",
      "state": {
       "description_width": "",
       "font_size": null,
       "text_color": null
      }
     },
     "f96af865e8aa459fb3bb6e1e27378ba2": {
      "model_module": "@jupyter-widgets/base",
      "model_module_version": "2.0.0",
      "model_name": "LayoutModel",
      "state": {
       "flex": "2"
      }
     },
     "f96b47f04cbf4e6ebb464eb70fb7e9d4": {
      "model_module": "@jupyter-widgets/base",
      "model_module_version": "2.0.0",
      "model_name": "LayoutModel",
      "state": {}
     },
     "f9722a7f7c7245eda639f55630192769": {
      "model_module": "@jupyter-widgets/controls",
      "model_module_version": "2.0.0",
      "model_name": "HBoxModel",
      "state": {
       "children": [
        "IPY_MODEL_daca7d148a4c420ab2e6c6c81fc083f1",
        "IPY_MODEL_6a8e9c2b7d5e4622bc84f20cee0aafad",
        "IPY_MODEL_892309ff5bf04c0fa05551942e0d565c"
       ],
       "layout": "IPY_MODEL_4d773f3decb4483c82f1ff4c363cf385"
      }
     },
     "f98a9f8f778b4bc7aaa02bb5b9652134": {
      "model_module": "@jupyter-widgets/base",
      "model_module_version": "2.0.0",
      "model_name": "LayoutModel",
      "state": {}
     },
     "f9afffbc91d445eb8a40a76b674deb98": {
      "model_module": "@jupyter-widgets/base",
      "model_module_version": "2.0.0",
      "model_name": "LayoutModel",
      "state": {}
     },
     "f9dc2fff9dc647c4ad5854ce4dfc3b65": {
      "model_module": "@jupyter-widgets/controls",
      "model_module_version": "2.0.0",
      "model_name": "HTMLStyleModel",
      "state": {
       "description_width": "",
       "font_size": null,
       "text_color": null
      }
     },
     "f9f63af8d55e4e88884bfaa4afa5afab": {
      "model_module": "@jupyter-widgets/controls",
      "model_module_version": "2.0.0",
      "model_name": "HTMLStyleModel",
      "state": {
       "description_width": "",
       "font_size": null,
       "text_color": null
      }
     },
     "fa3f9b6b2395424785781f129d673883": {
      "model_module": "@jupyter-widgets/controls",
      "model_module_version": "2.0.0",
      "model_name": "HTMLStyleModel",
      "state": {
       "description_width": "",
       "font_size": null,
       "text_color": null
      }
     },
     "fa69f21e0ad84302a624e9f75815c383": {
      "model_module": "@jupyter-widgets/controls",
      "model_module_version": "2.0.0",
      "model_name": "HBoxModel",
      "state": {
       "children": [
        "IPY_MODEL_c15296324725400ea3730f240d525973",
        "IPY_MODEL_f474a80675cc49d19969e1a44fcc8039",
        "IPY_MODEL_1f8e3d5b63cc47c2acd61b9ef55a64bf"
       ],
       "layout": "IPY_MODEL_49983138c64f4db9bcfbdaae892b045f"
      }
     },
     "faa5b36751b84c38b84c41caa94f9ec4": {
      "model_module": "@jupyter-widgets/base",
      "model_module_version": "2.0.0",
      "model_name": "LayoutModel",
      "state": {}
     },
     "fabbeb903899457eaa0d948056e52cd3": {
      "model_module": "@jupyter-widgets/base",
      "model_module_version": "2.0.0",
      "model_name": "LayoutModel",
      "state": {}
     },
     "fac690989c834d4dadccf44c422a0147": {
      "model_module": "@jupyter-widgets/controls",
      "model_module_version": "2.0.0",
      "model_name": "HTMLModel",
      "state": {
       "layout": "IPY_MODEL_35e65353b58e4868b9f1aced006e9c5d",
       "style": "IPY_MODEL_4ca86758376643a3bc8b2b68a48171fa",
       "value": "Testing DataLoader 0: 100%"
      }
     },
     "fae0022d255d471db8141481b4f0fa5c": {
      "model_module": "@jupyter-widgets/base",
      "model_module_version": "2.0.0",
      "model_name": "LayoutModel",
      "state": {}
     },
     "fae0fba5e88b4af2bcb1193a7e1b7a3a": {
      "model_module": "@jupyter-widgets/base",
      "model_module_version": "2.0.0",
      "model_name": "LayoutModel",
      "state": {}
     },
     "fb04b35783624bd2a0a3d81609e1576b": {
      "model_module": "@jupyter-widgets/base",
      "model_module_version": "2.0.0",
      "model_name": "LayoutModel",
      "state": {}
     },
     "fb15118fb2174fc98941038ef11d48d1": {
      "model_module": "@jupyter-widgets/base",
      "model_module_version": "2.0.0",
      "model_name": "LayoutModel",
      "state": {}
     },
     "fb2b6a3386f34342a744e9a0db4996f5": {
      "model_module": "@jupyter-widgets/controls",
      "model_module_version": "2.0.0",
      "model_name": "HTMLStyleModel",
      "state": {
       "description_width": "",
       "font_size": null,
       "text_color": null
      }
     },
     "fb3c4795ad6d41a5ad6fa938bdfe4c26": {
      "model_module": "@jupyter-widgets/controls",
      "model_module_version": "2.0.0",
      "model_name": "ProgressStyleModel",
      "state": {
       "description_width": ""
      }
     },
     "fb60de3142b1408281f15faf09f16100": {
      "model_module": "@jupyter-widgets/controls",
      "model_module_version": "2.0.0",
      "model_name": "FloatProgressModel",
      "state": {
       "layout": "IPY_MODEL_91bc1f4d0b8b4ff1a6db32404aa5c873",
       "max": 1,
       "style": "IPY_MODEL_19a3a282470c406c9f27bc9463b1882d",
       "value": 1
      }
     },
     "fb74058ff43c40be9048315fc16f676d": {
      "model_module": "@jupyter-widgets/controls",
      "model_module_version": "2.0.0",
      "model_name": "HTMLStyleModel",
      "state": {
       "description_width": "",
       "font_size": null,
       "text_color": null
      }
     },
     "fb793709d927456dac8fcd5e440a987e": {
      "model_module": "@jupyter-widgets/base",
      "model_module_version": "2.0.0",
      "model_name": "LayoutModel",
      "state": {}
     },
     "fb7aa08159f44a1d965755a75918193b": {
      "model_module": "@jupyter-widgets/controls",
      "model_module_version": "2.0.0",
      "model_name": "ProgressStyleModel",
      "state": {
       "description_width": ""
      }
     },
     "fbddf211b9184451b0bc57947d4889f8": {
      "model_module": "@jupyter-widgets/controls",
      "model_module_version": "2.0.0",
      "model_name": "HTMLModel",
      "state": {
       "layout": "IPY_MODEL_416d9b6055834df3a4d7f661ebd89a19",
       "style": "IPY_MODEL_ee837c72aee743bfb8d89658928dd974",
       "value": "  0%"
      }
     },
     "fbeecb9e61424263b8d2e26e0f3530d7": {
      "model_module": "@jupyter-widgets/base",
      "model_module_version": "2.0.0",
      "model_name": "LayoutModel",
      "state": {}
     },
     "fbf06a6ac01341d29cd7a57fad1bffad": {
      "model_module": "@jupyter-widgets/base",
      "model_module_version": "2.0.0",
      "model_name": "LayoutModel",
      "state": {}
     },
     "fbf4f8771a9b4668a08301072a0e0434": {
      "model_module": "@jupyter-widgets/controls",
      "model_module_version": "2.0.0",
      "model_name": "HTMLModel",
      "state": {
       "layout": "IPY_MODEL_d743fca3a3674846a6bb6a6b507e699e",
       "style": "IPY_MODEL_001ff44d9d0b4d44a7102ec5ce6d87fa",
       "value": " 53/80 [13:15&lt;06:45, 15.01s/it, loss=0.0539, v_num=35, MAE=3.620, RMSE=4.590, Loss=0.0553, RegLoss=0.000]"
      }
     },
     "fc104cc089b04baf94f56cc39fdd53b5": {
      "model_module": "@jupyter-widgets/base",
      "model_module_version": "2.0.0",
      "model_name": "LayoutModel",
      "state": {}
     },
     "fc267aad37d0464482679a6cfd1950c0": {
      "model_module": "@jupyter-widgets/controls",
      "model_module_version": "2.0.0",
      "model_name": "FloatProgressModel",
      "state": {
       "bar_style": "success",
       "layout": "IPY_MODEL_d11e075218f64762bf5c679dacac1ecf",
       "max": 1,
       "style": "IPY_MODEL_7c44cd05a7fa4ac5ac92c151c0780e25",
       "value": 1
      }
     },
     "fc2880533c2a4c6c8d5ae951155d39a0": {
      "model_module": "@jupyter-widgets/base",
      "model_module_version": "2.0.0",
      "model_name": "LayoutModel",
      "state": {
       "flex": "2"
      }
     },
     "fc57633698dc41bd99986b37be351199": {
      "model_module": "@jupyter-widgets/controls",
      "model_module_version": "2.0.0",
      "model_name": "HTMLStyleModel",
      "state": {
       "description_width": "",
       "font_size": null,
       "text_color": null
      }
     },
     "fc68c6335fb9477dbda40aa3fb4a077c": {
      "model_module": "@jupyter-widgets/controls",
      "model_module_version": "2.0.0",
      "model_name": "HTMLModel",
      "state": {
       "layout": "IPY_MODEL_5e8ff159504a4e189ba0158f9fb74a27",
       "style": "IPY_MODEL_a00fff96a454495eb23e3058a7ce5c66",
       "value": "Epoch 5: 100%"
      }
     },
     "fc693ada6a8e45e1bfcc804ce705c3f1": {
      "model_module": "@jupyter-widgets/controls",
      "model_module_version": "2.0.0",
      "model_name": "HTMLModel",
      "state": {
       "layout": "IPY_MODEL_bb98ad2b34d44b14883226671e6bea71",
       "style": "IPY_MODEL_d078ca9c25a94cae8430ab4cf4e69591",
       "value": "  0%"
      }
     },
     "fc71b513c2ab4b52a1a7538a23d6d246": {
      "model_module": "@jupyter-widgets/controls",
      "model_module_version": "2.0.0",
      "model_name": "HBoxModel",
      "state": {
       "children": [
        "IPY_MODEL_35285a947d504ccaa89dc2873205c333",
        "IPY_MODEL_937af538a9d24e90b032f67f88b8fbdb",
        "IPY_MODEL_a6c26686ab78467aa515f6ce9c8d3259"
       ],
       "layout": "IPY_MODEL_e87a2854b08845229cfcc50ccb12da6d"
      }
     },
     "fcae91bc54de40cd93d5388b41ff547c": {
      "model_module": "@jupyter-widgets/controls",
      "model_module_version": "2.0.0",
      "model_name": "HTMLModel",
      "state": {
       "layout": "IPY_MODEL_70e3c1236de54c1dbd958226421dec70",
       "style": "IPY_MODEL_29ec2fcc244f43c58cfe495aa7b34397",
       "value": "Epoch 74:  92%"
      }
     },
     "fcb9e476a43c43529595cb9828cf9fb9": {
      "model_module": "@jupyter-widgets/base",
      "model_module_version": "2.0.0",
      "model_name": "LayoutModel",
      "state": {}
     },
     "fcd663c1ecae418f8c427186a3f33faa": {
      "model_module": "@jupyter-widgets/base",
      "model_module_version": "2.0.0",
      "model_name": "LayoutModel",
      "state": {}
     },
     "fce3df398582484dbb420aa24e1a0882": {
      "model_module": "@jupyter-widgets/base",
      "model_module_version": "2.0.0",
      "model_name": "LayoutModel",
      "state": {
       "display": "inline-flex",
       "flex_flow": "row wrap",
       "width": "100%"
      }
     },
     "fd62c7447ad24dc1ab09b5fbfc53c945": {
      "model_module": "@jupyter-widgets/base",
      "model_module_version": "2.0.0",
      "model_name": "LayoutModel",
      "state": {}
     },
     "fd69f4da12584563a404db98192c6593": {
      "model_module": "@jupyter-widgets/base",
      "model_module_version": "2.0.0",
      "model_name": "LayoutModel",
      "state": {
       "flex": "2"
      }
     },
     "fd9060af838742c3b62ad617dfc770b5": {
      "model_module": "@jupyter-widgets/controls",
      "model_module_version": "2.0.0",
      "model_name": "ProgressStyleModel",
      "state": {
       "description_width": ""
      }
     },
     "fd9fe3e49763444888e984ea9d188e78": {
      "model_module": "@jupyter-widgets/controls",
      "model_module_version": "2.0.0",
      "model_name": "HTMLStyleModel",
      "state": {
       "description_width": "",
       "font_size": null,
       "text_color": null
      }
     },
     "fdb4282e1f084de5940f17d10f818a07": {
      "model_module": "@jupyter-widgets/controls",
      "model_module_version": "2.0.0",
      "model_name": "HTMLStyleModel",
      "state": {
       "description_width": "",
       "font_size": null,
       "text_color": null
      }
     },
     "fdbd36f472d44219800a3b1a9df377b4": {
      "model_module": "@jupyter-widgets/base",
      "model_module_version": "2.0.0",
      "model_name": "LayoutModel",
      "state": {
       "display": "inline-flex",
       "flex_flow": "row wrap",
       "width": "100%"
      }
     },
     "fdc3faab16454f6fb81b83117cf5ea30": {
      "model_module": "@jupyter-widgets/controls",
      "model_module_version": "2.0.0",
      "model_name": "HBoxModel",
      "state": {
       "children": [
        "IPY_MODEL_c4611647f876481694e0172643fb67fd",
        "IPY_MODEL_b137315c987e459e8d3f7c01256f1581",
        "IPY_MODEL_193ff2f05a67420b8fd3e2a917745d11"
       ],
       "layout": "IPY_MODEL_cf33e86b24db4b1ea5d2c4486b365118"
      }
     },
     "fdef760b343441e68ace45a8d37ae129": {
      "model_module": "@jupyter-widgets/controls",
      "model_module_version": "2.0.0",
      "model_name": "HTMLModel",
      "state": {
       "layout": "IPY_MODEL_4e1f3b88365a41c7b2f746318f1101cd",
       "style": "IPY_MODEL_fed5f87ddb7b40f1b683a49a3f20ab08",
       "value": " 0/10 [00:18&lt;?, ?it/s]"
      }
     },
     "fe0c18f1961d48f981257c5fdafc6692": {
      "model_module": "@jupyter-widgets/controls",
      "model_module_version": "2.0.0",
      "model_name": "HTMLModel",
      "state": {
       "layout": "IPY_MODEL_9caf95f3aa7d49729c03f6484ef8d2ec",
       "style": "IPY_MODEL_ec2bb0ba2594428987173f7d00b2fb18",
       "value": "  0%"
      }
     },
     "fe12910c885b4fb0bf2eae4c45c8d927": {
      "model_module": "@jupyter-widgets/base",
      "model_module_version": "2.0.0",
      "model_name": "LayoutModel",
      "state": {}
     },
     "fe26fc615f4e4d95938fbb25b098ca1b": {
      "model_module": "@jupyter-widgets/controls",
      "model_module_version": "2.0.0",
      "model_name": "HTMLStyleModel",
      "state": {
       "description_width": "",
       "font_size": null,
       "text_color": null
      }
     },
     "fe392322b78148beb9d70ada9ac0384f": {
      "model_module": "@jupyter-widgets/controls",
      "model_module_version": "2.0.0",
      "model_name": "HTMLStyleModel",
      "state": {
       "description_width": "",
       "font_size": null,
       "text_color": null
      }
     },
     "fe3ceed28f9a447fa4bbb61a1982bdce": {
      "model_module": "@jupyter-widgets/controls",
      "model_module_version": "2.0.0",
      "model_name": "HTMLModel",
      "state": {
       "layout": "IPY_MODEL_cbe7e810cb6346c5b3663538d6033792",
       "style": "IPY_MODEL_40cd10d76ceb4fc68330b6cb46d77eb2",
       "value": " 53/80 [03:18&lt;01:41,  3.75s/it, loss=0.365]"
      }
     },
     "fe54617ccb7844e5a6690d0fef20c1ed": {
      "model_module": "@jupyter-widgets/controls",
      "model_module_version": "2.0.0",
      "model_name": "HBoxModel",
      "state": {
       "children": [
        "IPY_MODEL_ee4670bcc0d8438c9e09084c75cb2b49",
        "IPY_MODEL_8a581e95cf8d4393ac49c64cc935b5f1",
        "IPY_MODEL_5444bb3456044aafae6e2c4e6672e47a"
       ],
       "layout": "IPY_MODEL_e26da458a1f34f56a8f8379845f0e77b"
      }
     },
     "fe687aea2b1d46eeaed186117740ed66": {
      "model_module": "@jupyter-widgets/base",
      "model_module_version": "2.0.0",
      "model_name": "LayoutModel",
      "state": {
       "display": "inline-flex",
       "flex_flow": "row wrap",
       "width": "100%"
      }
     },
     "fe6e67e7f9f246bd90f7243256bcd735": {
      "model_module": "@jupyter-widgets/base",
      "model_module_version": "2.0.0",
      "model_name": "LayoutModel",
      "state": {}
     },
     "fe811b9c395e47a4b43010cdd9c5bbfa": {
      "model_module": "@jupyter-widgets/controls",
      "model_module_version": "2.0.0",
      "model_name": "HTMLModel",
      "state": {
       "layout": "IPY_MODEL_d525d6374f2b41b3af1ab1bb554d8a11",
       "style": "IPY_MODEL_25f21c2961ee4b1a9ac3fad0976ef581",
       "value": "Epoch 80: 100%"
      }
     },
     "fea15cf63ad44527a848faeeefe977af": {
      "model_module": "@jupyter-widgets/controls",
      "model_module_version": "2.0.0",
      "model_name": "HBoxModel",
      "state": {
       "children": [
        "IPY_MODEL_ab1f571227a44d41b2c4aa4f9e0028be",
        "IPY_MODEL_23ff1c73c2eb428bbde3586de746bbd7",
        "IPY_MODEL_b61298e909c34ec6bfe7d881e3baae99"
       ],
       "layout": "IPY_MODEL_19b98e709c5847d9a9dd17a8db5908c0"
      }
     },
     "fed5f87ddb7b40f1b683a49a3f20ab08": {
      "model_module": "@jupyter-widgets/controls",
      "model_module_version": "2.0.0",
      "model_name": "HTMLStyleModel",
      "state": {
       "description_width": "",
       "font_size": null,
       "text_color": null
      }
     },
     "fed98a47d3684d60b0998dc8f45e4c36": {
      "model_module": "@jupyter-widgets/controls",
      "model_module_version": "2.0.0",
      "model_name": "FloatProgressModel",
      "state": {
       "bar_style": "danger",
       "layout": "IPY_MODEL_8c68477fe3fe4ba4a62031dc031dca74",
       "max": 80,
       "style": "IPY_MODEL_290132626ba440c1b8cd277f2b61bddb",
       "value": 1
      }
     },
     "fef4dc63fb394ea4b8ea65798feb146a": {
      "model_module": "@jupyter-widgets/base",
      "model_module_version": "2.0.0",
      "model_name": "LayoutModel",
      "state": {
       "flex": "2"
      }
     },
     "ff069ef90de3421ea662f4b9f094113c": {
      "model_module": "@jupyter-widgets/base",
      "model_module_version": "2.0.0",
      "model_name": "LayoutModel",
      "state": {}
     },
     "ff10e41a57df4b9f9f833cb6c19da090": {
      "model_module": "@jupyter-widgets/base",
      "model_module_version": "2.0.0",
      "model_name": "LayoutModel",
      "state": {}
     },
     "ff4d9b65c4414119b3e539bd8d06a929": {
      "model_module": "@jupyter-widgets/controls",
      "model_module_version": "2.0.0",
      "model_name": "HTMLModel",
      "state": {
       "layout": "IPY_MODEL_f3e7d103832141018c46501bc69aa602",
       "style": "IPY_MODEL_6774e0e0fa9b450db05f54df1622b6be",
       "value": "Testing DataLoader 0: 100%"
      }
     },
     "ff57e0ea73ac456aa2ee5636af93be22": {
      "model_module": "@jupyter-widgets/base",
      "model_module_version": "2.0.0",
      "model_name": "LayoutModel",
      "state": {
       "display": "inline-flex",
       "flex_flow": "row wrap",
       "visibility": "hidden",
       "width": "100%"
      }
     },
     "ff6bf147db324291befdfc9658988ddc": {
      "model_module": "@jupyter-widgets/controls",
      "model_module_version": "2.0.0",
      "model_name": "HTMLModel",
      "state": {
       "layout": "IPY_MODEL_55522bd32e804a1680811ebce5cdcd77",
       "style": "IPY_MODEL_082bcea7c9314e1f9cc3e0c4b4b0384f",
       "value": " 1/1 [00:00&lt;00:00, 195.53it/s]"
      }
     },
     "ff784aa8f8584e199cbd633c32272d67": {
      "model_module": "@jupyter-widgets/controls",
      "model_module_version": "2.0.0",
      "model_name": "HTMLModel",
      "state": {
       "layout": "IPY_MODEL_3091fb50a5a148cda48307054f4af4e6",
       "style": "IPY_MODEL_e730dfe4275a45ccadfddc970d5ef211",
       "value": " 0/10 [00:20&lt;?, ?it/s]"
      }
     },
     "ff91d837f73f428cafa5cc464f07fc64": {
      "model_module": "@jupyter-widgets/base",
      "model_module_version": "2.0.0",
      "model_name": "LayoutModel",
      "state": {}
     },
     "ffaf0239b48b483d9521171da9ff980a": {
      "model_module": "@jupyter-widgets/base",
      "model_module_version": "2.0.0",
      "model_name": "LayoutModel",
      "state": {
       "flex": "2"
      }
     },
     "ffbb1731581e41d59dfbc0017d2f76d5": {
      "model_module": "@jupyter-widgets/base",
      "model_module_version": "2.0.0",
      "model_name": "LayoutModel",
      "state": {
       "display": "inline-flex",
       "flex_flow": "row wrap",
       "width": "100%"
      }
     },
     "ffbd0c7de17a42f0af489585a8db67f2": {
      "model_module": "@jupyter-widgets/controls",
      "model_module_version": "2.0.0",
      "model_name": "FloatProgressModel",
      "state": {
       "bar_style": "danger",
       "layout": "IPY_MODEL_75a3188ef7a643b687c5ca792586a203",
       "max": 80,
       "style": "IPY_MODEL_65c173bd2fb94a5b80c9ed6c976c9f1a",
       "value": 12
      }
     },
     "ffce915eefb941ef987fc1c19827d193": {
      "model_module": "@jupyter-widgets/base",
      "model_module_version": "2.0.0",
      "model_name": "LayoutModel",
      "state": {}
     },
     "ffd23a3a187a4fca8e3e5bd0656ff5cf": {
      "model_module": "@jupyter-widgets/base",
      "model_module_version": "2.0.0",
      "model_name": "LayoutModel",
      "state": {}
     },
     "ffdffdbdda0145119a4dd47907c913ff": {
      "model_module": "@jupyter-widgets/base",
      "model_module_version": "2.0.0",
      "model_name": "LayoutModel",
      "state": {
       "flex": "2"
      }
     },
     "ffed5c3e37f141d99e57b0c7989972da": {
      "model_module": "@jupyter-widgets/controls",
      "model_module_version": "2.0.0",
      "model_name": "HTMLModel",
      "state": {
       "layout": "IPY_MODEL_a36b1a29d72d45279ff9ef2b353f4580",
       "style": "IPY_MODEL_8c3e3033f65f4895b15c9cdd913e7a52",
       "value": "Testing DataLoader 0: 100%"
      }
     },
     "fffcc5c56e284354943db1adc4bfed06": {
      "model_module": "@jupyter-widgets/controls",
      "model_module_version": "2.0.0",
      "model_name": "HTMLModel",
      "state": {
       "layout": "IPY_MODEL_556f232615b24569a30728cb8c4e676a",
       "style": "IPY_MODEL_a9c3b40bd8aa4da492b31611154c2e3b",
       "value": " 1/1 [00:00&lt;00:00, 76.50it/s]"
      }
     }
    },
    "version_major": 2,
    "version_minor": 0
   }
  }
 },
 "nbformat": 4,
 "nbformat_minor": 5
}
